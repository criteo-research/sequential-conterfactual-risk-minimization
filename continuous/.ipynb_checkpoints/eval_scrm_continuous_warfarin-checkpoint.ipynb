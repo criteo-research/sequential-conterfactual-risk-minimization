{
 "cells": [
  {
   "cell_type": "code",
   "execution_count": 1,
   "id": "ced34c8f",
   "metadata": {},
   "outputs": [],
   "source": [
    "import numpy as np\n",
    "import matplotlib.pyplot as plt\n",
    "from scipy.stats import norm\n",
    "import sys"
   ]
  },
  {
   "cell_type": "markdown",
   "id": "8be42522",
   "metadata": {},
   "source": [
    "### Data"
   ]
  },
  {
   "cell_type": "code",
   "execution_count": 2,
   "id": "ca167277",
   "metadata": {},
   "outputs": [],
   "source": [
    "import matplotlib.pyplot as plt\n",
    "from matplotlib import cm\n",
    "from matplotlib.colors import ListedColormap, LinearSegmentedColormap\n",
    "\n",
    "import seaborn as sns\n",
    "sns.set()\n",
    "from sklearn.preprocessing import MinMaxScaler\n",
    "from IPython.display import clear_output\n",
    "import time\n",
    "from matplotlib.lines import Line2D\n",
    "import PIL.Image"
   ]
  },
  {
   "cell_type": "code",
   "execution_count": 3,
   "id": "eba53686",
   "metadata": {},
   "outputs": [],
   "source": [
    "from utils.dataset import get_dataset_by_name\n",
    "# Data, modelling and hyperparameters setup\n",
    "\n",
    "dataset_name = 'warfarin'\n",
    "dataset = get_dataset_by_name(dataset_name)"
   ]
  },
  {
   "cell_type": "code",
   "execution_count": 4,
   "id": "d2055ea6",
   "metadata": {},
   "outputs": [],
   "source": [
    "# Convert data into a stream of never-ending data\n",
    "def infinite_generator(data, batch_size):\n",
    "    actions, features, losses, propensities, potentials = data\n",
    "    i = 0 # Type: int\n",
    "    while True:\n",
    "        j = i + batch_size\n",
    "        # If we wrap around the back of the dataset:\n",
    "        if j >= actions.shape[0]:\n",
    "            rv = list(range(i, actions.shape[0])) + list(range(0, j - actions.shape[0]))\n",
    "            yield (actions[rv], features[rv,...], losses[rv], propensities[rv], potentials[rv])\n",
    "            i = j - actions.shape[0]\n",
    "        else:\n",
    "            yield (actions[i:j], features[i:j,...], losses[i:j], propensities[i:j], potentials[i:j])\n",
    "            i = j"
   ]
  },
  {
   "cell_type": "code",
   "execution_count": 5,
   "id": "6a7b2b69",
   "metadata": {},
   "outputs": [],
   "source": [
    "# data = actions, features, losses, propensities, potentials"
   ]
  },
  {
   "cell_type": "code",
   "execution_count": 6,
   "id": "4f1a0441",
   "metadata": {},
   "outputs": [],
   "source": [
    "# data_generator = infinite_generator(data, 100)"
   ]
  },
  {
   "cell_type": "code",
   "execution_count": 7,
   "id": "5a6729a2",
   "metadata": {},
   "outputs": [],
   "source": [
    "# actions, features, losses, propensities, potentials = next(data_generator)"
   ]
  },
  {
   "cell_type": "code",
   "execution_count": 8,
   "id": "3e90220c",
   "metadata": {},
   "outputs": [],
   "source": [
    "class LossHistory(object):\n",
    "    \n",
    "    def __init__(self, name):\n",
    "        self.name = name\n",
    "        self.crm_loss = []\n",
    "        self.online_loss = []\n",
    "        self.betas = []\n",
    "        self.n_samples = []\n",
    "        self.n_actions = []\n",
    "        self.rewards = []\n",
    "        \n",
    "    def update(self, beta, online_loss, crm_loss, n_samples):\n",
    "        self.betas += [beta]\n",
    "        self.online_loss += [online_loss]\n",
    "        self.crm_loss += [crm_loss]\n",
    "        self.n_samples += [n_samples]\n",
    "        \n",
    "    def show_last(self):\n",
    "        print(\n",
    "            '<', self.name,\n",
    "            'CRM loss: %.5f' % self.crm_loss[-1],\n",
    "            'Online loss: %.5f' % self.online_loss[-1],\n",
    "            '|beta|=%.2f' % np.sqrt((self.betas[-1]**2).sum()), \n",
    "            'n=%d' % sum(self.n_samples),\n",
    "            '>',\n",
    "            file=sys.stderr\n",
    "        )"
   ]
  },
  {
   "cell_type": "code",
   "execution_count": 9,
   "id": "3c8800c4",
   "metadata": {},
   "outputs": [],
   "source": [
    "class Model():\n",
    "    \n",
    "    def __init__(self, name, random_seed):\n",
    "        self.name = name\n",
    "        self.rng = np.random.RandomState(random_seed)\n",
    "    \n",
    "    def create_start_parameter(self, dataset):\n",
    "        d = dataset.dimension\n",
    "        if self.name == 'linear':\n",
    "            return self.rng.normal(scale=1, size=d + 2)\n",
    "        elif self.name == 'polynomial':\n",
    "            return self.rng.normal(scale=1, size=d ** 2 + d + 2)\n",
    "        else:\n",
    "            return\n",
    "\n",
    "    def _linear_modelling(self, parameter, features):\n",
    "        intercept_coeff, mean_coeff, var = parameter[0], parameter[1:-1], parameter[-1]\n",
    "        mean = jnp.dot(features, mean_coeff) + intercept_coeff\n",
    "        return mean, var\n",
    "    \n",
    "    def _polynomial_modelling(self, parameter, features):\n",
    "        n = features.shape[1]\n",
    "        intercept, coeff_lin, coeff_kern, var = parameter[0], parameter[1:n + 1], parameter[n + 1:-1], parameter[-1]\n",
    "        m_linear = jnp.dot(features, coeff_lin) + intercept\n",
    "        f = jnp.einsum('ij,ih->ijh', features, features).reshape(features.shape[0], -1)\n",
    "        m_kern = jnp.dot(f, coeff_kern)\n",
    "        mean = m_kern + m_linear\n",
    "        return mean, var\n",
    "    \n",
    "    def get_parameter(self, parameter, features):\n",
    "        if self.name == 'linear':\n",
    "            return self._linear_modelling(parameter, features)\n",
    "        elif self.name == 'polynomial':\n",
    "            return self._polynomial_modelling(parameter, features)\n",
    "        else:\n",
    "            return  \n",
    "   "
   ]
  },
  {
   "cell_type": "code",
   "execution_count": 10,
   "id": "c20f2560",
   "metadata": {},
   "outputs": [],
   "source": [
    "import jax\n",
    "import jax.numpy as jnp\n",
    "import jaxopt\n",
    "\n",
    "def pdf(loc, x):\n",
    "    scale = logging_scale\n",
    "    return 1/(scale * jnp.sqrt(2*jnp.pi)) * jnp.exp(-((x - loc)/scale)**2/2)\n",
    "\n",
    "class Estimator():\n",
    "    def __init__(self, contextual_modelling, mode='conservative', lbd=0.1):\n",
    "        self.contextual_modelling = contextual_modelling\n",
    "        self.mode = mode\n",
    "        bonus = 1 if self.mode == 'conservative' else -1\n",
    "        self.lbd = bonus * lbd\n",
    "        \n",
    "    def objective_function(self, param, actions, contexts, losses, propensities):\n",
    "        \n",
    "        contextual_param, _ = self.contextual_modelling.get_parameter(param, contexts)\n",
    "        propensities = jnp.clip(propensities, 1e-5, None)\n",
    "        importance_weights = pdf(contextual_param, actions)/propensities\n",
    "        mean = jnp.mean(losses * importance_weights)\n",
    "        std = jnp.std(losses * importance_weights)\n",
    "        return mean + self.lbd * std\n",
    "\n",
    "    \n",
    "def optimize(loss_fun, init_parameter, args):\n",
    "\n",
    "    lbfgsb = jaxopt.ScipyMinimize(fun=loss_fun, method=\"L-BFGS-B\").run(init_parameter, *args)\n",
    "    lbfgs_sol = lbfgsb.params\n",
    "    lbfgs_fun_val = lbfgsb.rstate.fun_val\n",
    "    \n",
    "    return lbfgs_sol, lbfgs_fun_val"
   ]
  },
  {
   "cell_type": "markdown",
   "id": "37b9ff45",
   "metadata": {},
   "source": [
    "# Experiment"
   ]
  },
  {
   "cell_type": "code",
   "execution_count": 11,
   "id": "f4d8ac94",
   "metadata": {},
   "outputs": [],
   "source": [
    "import os\n",
    "\n",
    "\n",
    "def online_evaluation(optimized_param, contextual_modelling, dataset, random_seed):\n",
    "    \n",
    "    rng = np.random.RandomState(random_seed)\n",
    "    contexts, potentials = dataset.test_data\n",
    "    contextual_param, _ = contextual_modelling.get_parameter(optimized_param, contexts)\n",
    "    size = contexts.shape[0]\n",
    "    rewards = []\n",
    "    \n",
    "    for i in range(10):\n",
    "        sampled_actions = rng.normal(contextual_param, logging_scale, size)\n",
    "        rewards += [- dataset.get_losses_from_actions(potentials, sampled_actions)]\n",
    "        \n",
    "    rewards_array = np.stack(rewards, axis=0)\n",
    "    var_pi = np.mean(np.var(rewards_array, axis=0))\n",
    "    var_context = np.var(np.mean(rewards_array, axis=1))\n",
    "    return - np.mean(rewards_array), np.std(np.mean(rewards_array, axis=0))\n",
    "    \n",
    "def start_experiment(random_seed, dataset, name):\n",
    "    print(\n",
    "        '***', 'EXPERIMENT', name,\n",
    "        'Random seed: %i' % random_seed,\n",
    "        'Dataset: %s' % dataset.name,\n",
    "        '***',\n",
    "        file=sys.stderr\n",
    "    )"
   ]
  },
  {
   "cell_type": "markdown",
   "id": "af5813f4",
   "metadata": {},
   "source": [
    "### Single round CRM"
   ]
  },
  {
   "cell_type": "code",
   "execution_count": 12,
   "id": "5a54a62f",
   "metadata": {},
   "outputs": [
    {
     "name": "stderr",
     "output_type": "stream",
     "text": [
      "*** EXPERIMENT CRM Random seed: 0 Dataset: warfarin ***\n",
      "WARNING:absl:No GPU/TPU found, falling back to CPU. (Set TF_CPP_MIN_LOG_LEVEL=0 and rerun for more info.)\n"
     ]
    },
    {
     "ename": "TypeError",
     "evalue": "objective_function() takes 6 positional arguments but 7 were given",
     "output_type": "error",
     "traceback": [
      "\u001b[0;31m---------------------------------------------------------------------------\u001b[0m",
      "\u001b[0;31mTypeError\u001b[0m                                 Traceback (most recent call last)",
      "\u001b[0;32m/var/folders/wq/cfl_16c14vg6jh8tsb6vn6zw0000gp/T/ipykernel_74471/723816040.py\u001b[0m in \u001b[0;36m<module>\u001b[0;34m\u001b[0m\n\u001b[1;32m     39\u001b[0m \u001b[0;34m\u001b[0m\u001b[0m\n\u001b[1;32m     40\u001b[0m \u001b[0;32mfor\u001b[0m \u001b[0mrandom_seed\u001b[0m \u001b[0;32min\u001b[0m \u001b[0mrange\u001b[0m\u001b[0;34m(\u001b[0m\u001b[0;36m10\u001b[0m\u001b[0;34m)\u001b[0m\u001b[0;34m:\u001b[0m\u001b[0;34m\u001b[0m\u001b[0;34m\u001b[0m\u001b[0m\n\u001b[0;32m---> 41\u001b[0;31m     \u001b[0mcrm_loss\u001b[0m\u001b[0;34m,\u001b[0m \u001b[0monline_loss\u001b[0m \u001b[0;34m=\u001b[0m \u001b[0mcrm_experiment\u001b[0m\u001b[0;34m(\u001b[0m\u001b[0mrandom_seed\u001b[0m\u001b[0;34m,\u001b[0m \u001b[0mdataset_name\u001b[0m\u001b[0;34m,\u001b[0m \u001b[0msettings\u001b[0m\u001b[0;34m)\u001b[0m\u001b[0;34m\u001b[0m\u001b[0;34m\u001b[0m\u001b[0m\n\u001b[0m\u001b[1;32m     42\u001b[0m     \u001b[0msingle_crm_losses\u001b[0m\u001b[0;34m.\u001b[0m\u001b[0mappend\u001b[0m\u001b[0;34m(\u001b[0m\u001b[0mcrm_loss\u001b[0m\u001b[0;34m)\u001b[0m\u001b[0;34m\u001b[0m\u001b[0;34m\u001b[0m\u001b[0m\n\u001b[1;32m     43\u001b[0m     \u001b[0msingle_online_losses\u001b[0m\u001b[0;34m.\u001b[0m\u001b[0mappend\u001b[0m\u001b[0;34m(\u001b[0m\u001b[0monline_loss\u001b[0m\u001b[0;34m)\u001b[0m\u001b[0;34m\u001b[0m\u001b[0;34m\u001b[0m\u001b[0m\n",
      "\u001b[0;32m/var/folders/wq/cfl_16c14vg6jh8tsb6vn6zw0000gp/T/ipykernel_74471/723816040.py\u001b[0m in \u001b[0;36mcrm_experiment\u001b[0;34m(random_seed, dataset_name, settings)\u001b[0m\n\u001b[1;32m     28\u001b[0m     \u001b[0minit_parameter\u001b[0m \u001b[0;34m=\u001b[0m \u001b[0mjnp\u001b[0m\u001b[0;34m.\u001b[0m\u001b[0marray\u001b[0m\u001b[0;34m(\u001b[0m\u001b[0mmu\u001b[0m\u001b[0;34m,\u001b[0m \u001b[0mdtype\u001b[0m\u001b[0;34m=\u001b[0m\u001b[0;34m'float32'\u001b[0m\u001b[0;34m)\u001b[0m\u001b[0;34m\u001b[0m\u001b[0;34m\u001b[0m\u001b[0m\n\u001b[1;32m     29\u001b[0m     \u001b[0margs\u001b[0m \u001b[0;34m=\u001b[0m \u001b[0mlogging_data\u001b[0m\u001b[0;34m\u001b[0m\u001b[0;34m\u001b[0m\u001b[0m\n\u001b[0;32m---> 30\u001b[0;31m     \u001b[0moptimized_mu\u001b[0m\u001b[0;34m,\u001b[0m \u001b[0mloss_crm\u001b[0m \u001b[0;34m=\u001b[0m \u001b[0moptimize\u001b[0m\u001b[0;34m(\u001b[0m\u001b[0mestimator\u001b[0m\u001b[0;34m.\u001b[0m\u001b[0mobjective_function\u001b[0m\u001b[0;34m,\u001b[0m \u001b[0minit_parameter\u001b[0m\u001b[0;34m,\u001b[0m \u001b[0margs\u001b[0m\u001b[0;34m)\u001b[0m\u001b[0;34m\u001b[0m\u001b[0;34m\u001b[0m\u001b[0m\n\u001b[0m\u001b[1;32m     31\u001b[0m \u001b[0;34m\u001b[0m\u001b[0m\n\u001b[1;32m     32\u001b[0m     \u001b[0;31m# Evaluation\u001b[0m\u001b[0;34m\u001b[0m\u001b[0;34m\u001b[0m\u001b[0m\n",
      "\u001b[0;32m/var/folders/wq/cfl_16c14vg6jh8tsb6vn6zw0000gp/T/ipykernel_74471/205062220.py\u001b[0m in \u001b[0;36moptimize\u001b[0;34m(loss_fun, init_parameter, args)\u001b[0m\n\u001b[1;32m     27\u001b[0m \u001b[0;34m\u001b[0m\u001b[0m\n\u001b[1;32m     28\u001b[0m     \u001b[0mlbfgsb\u001b[0m \u001b[0;34m=\u001b[0m \u001b[0mjaxopt\u001b[0m\u001b[0;34m.\u001b[0m\u001b[0mScipyMinimize\u001b[0m\u001b[0;34m(\u001b[0m\u001b[0mfun\u001b[0m\u001b[0;34m=\u001b[0m\u001b[0mloss_fun\u001b[0m\u001b[0;34m,\u001b[0m \u001b[0mmethod\u001b[0m\u001b[0;34m=\u001b[0m\u001b[0;34m\"L-BFGS-B\"\u001b[0m\u001b[0;34m)\u001b[0m\u001b[0;34m\u001b[0m\u001b[0;34m\u001b[0m\u001b[0m\n\u001b[0;32m---> 29\u001b[0;31m     \u001b[0mlbfgs_sol\u001b[0m \u001b[0;34m=\u001b[0m \u001b[0mlbfgsb\u001b[0m\u001b[0;34m.\u001b[0m\u001b[0mrun\u001b[0m\u001b[0;34m(\u001b[0m\u001b[0minit_parameter\u001b[0m\u001b[0;34m,\u001b[0m \u001b[0;34m*\u001b[0m\u001b[0margs\u001b[0m\u001b[0;34m)\u001b[0m\u001b[0;34m.\u001b[0m\u001b[0mparams\u001b[0m\u001b[0;34m\u001b[0m\u001b[0;34m\u001b[0m\u001b[0m\n\u001b[0m\u001b[1;32m     30\u001b[0m     \u001b[0mlbfgs_fun_val\u001b[0m \u001b[0;34m=\u001b[0m \u001b[0mlbfgsb\u001b[0m\u001b[0;34m.\u001b[0m\u001b[0mrun\u001b[0m\u001b[0;34m(\u001b[0m\u001b[0minit_parameter\u001b[0m\u001b[0;34m,\u001b[0m \u001b[0;34m*\u001b[0m\u001b[0margs\u001b[0m\u001b[0;34m)\u001b[0m\u001b[0;34m.\u001b[0m\u001b[0mstate\u001b[0m\u001b[0;34m.\u001b[0m\u001b[0mfun_val\u001b[0m\u001b[0;34m\u001b[0m\u001b[0;34m\u001b[0m\u001b[0m\n\u001b[1;32m     31\u001b[0m \u001b[0;34m\u001b[0m\u001b[0m\n",
      "\u001b[0;32m~/opt/anaconda3/lib/python3.9/site-packages/jaxopt/_src/implicit_diff.py\u001b[0m in \u001b[0;36mwrapped_solver_fun\u001b[0;34m(*args, **kwargs)\u001b[0m\n\u001b[1;32m    249\u001b[0m     \u001b[0margs\u001b[0m\u001b[0;34m,\u001b[0m \u001b[0mkwargs\u001b[0m \u001b[0;34m=\u001b[0m \u001b[0m_signature_bind\u001b[0m\u001b[0;34m(\u001b[0m\u001b[0msolver_fun_signature\u001b[0m\u001b[0;34m,\u001b[0m \u001b[0;34m*\u001b[0m\u001b[0margs\u001b[0m\u001b[0;34m,\u001b[0m \u001b[0;34m**\u001b[0m\u001b[0mkwargs\u001b[0m\u001b[0;34m)\u001b[0m\u001b[0;34m\u001b[0m\u001b[0;34m\u001b[0m\u001b[0m\n\u001b[1;32m    250\u001b[0m     \u001b[0mkeys\u001b[0m\u001b[0;34m,\u001b[0m \u001b[0mvals\u001b[0m \u001b[0;34m=\u001b[0m \u001b[0mlist\u001b[0m\u001b[0;34m(\u001b[0m\u001b[0mkwargs\u001b[0m\u001b[0;34m.\u001b[0m\u001b[0mkeys\u001b[0m\u001b[0;34m(\u001b[0m\u001b[0;34m)\u001b[0m\u001b[0;34m)\u001b[0m\u001b[0;34m,\u001b[0m \u001b[0mlist\u001b[0m\u001b[0;34m(\u001b[0m\u001b[0mkwargs\u001b[0m\u001b[0;34m.\u001b[0m\u001b[0mvalues\u001b[0m\u001b[0;34m(\u001b[0m\u001b[0;34m)\u001b[0m\u001b[0;34m)\u001b[0m\u001b[0;34m\u001b[0m\u001b[0;34m\u001b[0m\u001b[0m\n\u001b[0;32m--> 251\u001b[0;31m     \u001b[0;32mreturn\u001b[0m \u001b[0mmake_custom_vjp_solver_fun\u001b[0m\u001b[0;34m(\u001b[0m\u001b[0msolver_fun\u001b[0m\u001b[0;34m,\u001b[0m \u001b[0mkeys\u001b[0m\u001b[0;34m)\u001b[0m\u001b[0;34m(\u001b[0m\u001b[0;34m*\u001b[0m\u001b[0margs\u001b[0m\u001b[0;34m,\u001b[0m \u001b[0;34m*\u001b[0m\u001b[0mvals\u001b[0m\u001b[0;34m)\u001b[0m\u001b[0;34m\u001b[0m\u001b[0;34m\u001b[0m\u001b[0m\n\u001b[0m\u001b[1;32m    252\u001b[0m \u001b[0;34m\u001b[0m\u001b[0m\n\u001b[1;32m    253\u001b[0m   \u001b[0;32mreturn\u001b[0m \u001b[0mwrapped_solver_fun\u001b[0m\u001b[0;34m\u001b[0m\u001b[0;34m\u001b[0m\u001b[0m\n",
      "    \u001b[0;31m[... skipping hidden 5 frame]\u001b[0m\n",
      "\u001b[0;32m~/opt/anaconda3/lib/python3.9/site-packages/jaxopt/_src/implicit_diff.py\u001b[0m in \u001b[0;36msolver_fun_flat\u001b[0;34m(*flat_args)\u001b[0m\n\u001b[1;32m    205\u001b[0m     \u001b[0;32mdef\u001b[0m \u001b[0msolver_fun_flat\u001b[0m\u001b[0;34m(\u001b[0m\u001b[0;34m*\u001b[0m\u001b[0mflat_args\u001b[0m\u001b[0;34m)\u001b[0m\u001b[0;34m:\u001b[0m\u001b[0;34m\u001b[0m\u001b[0;34m\u001b[0m\u001b[0m\n\u001b[1;32m    206\u001b[0m       \u001b[0margs\u001b[0m\u001b[0;34m,\u001b[0m \u001b[0mkwargs\u001b[0m \u001b[0;34m=\u001b[0m \u001b[0m_extract_kwargs\u001b[0m\u001b[0;34m(\u001b[0m\u001b[0mkwarg_keys\u001b[0m\u001b[0;34m,\u001b[0m \u001b[0mflat_args\u001b[0m\u001b[0;34m)\u001b[0m\u001b[0;34m\u001b[0m\u001b[0;34m\u001b[0m\u001b[0m\n\u001b[0;32m--> 207\u001b[0;31m       \u001b[0;32mreturn\u001b[0m \u001b[0msolver_fun\u001b[0m\u001b[0;34m(\u001b[0m\u001b[0;34m*\u001b[0m\u001b[0margs\u001b[0m\u001b[0;34m,\u001b[0m \u001b[0;34m**\u001b[0m\u001b[0mkwargs\u001b[0m\u001b[0;34m)\u001b[0m\u001b[0;34m\u001b[0m\u001b[0;34m\u001b[0m\u001b[0m\n\u001b[0m\u001b[1;32m    208\u001b[0m \u001b[0;34m\u001b[0m\u001b[0m\n\u001b[1;32m    209\u001b[0m     \u001b[0;32mdef\u001b[0m \u001b[0msolver_fun_fwd\u001b[0m\u001b[0;34m(\u001b[0m\u001b[0;34m*\u001b[0m\u001b[0mflat_args\u001b[0m\u001b[0;34m)\u001b[0m\u001b[0;34m:\u001b[0m\u001b[0;34m\u001b[0m\u001b[0;34m\u001b[0m\u001b[0m\n",
      "\u001b[0;32m~/opt/anaconda3/lib/python3.9/site-packages/jaxopt/_src/scipy_wrappers.py\u001b[0m in \u001b[0;36mrun\u001b[0;34m(self, init_params, *args, **kwargs)\u001b[0m\n\u001b[1;32m    314\u001b[0m       \u001b[0;34m(\u001b[0m\u001b[0mparams\u001b[0m\u001b[0;34m,\u001b[0m \u001b[0minfo\u001b[0m\u001b[0;34m)\u001b[0m\u001b[0;34m.\u001b[0m\u001b[0;34m\u001b[0m\u001b[0;34m\u001b[0m\u001b[0m\n\u001b[1;32m    315\u001b[0m     \"\"\"\n\u001b[0;32m--> 316\u001b[0;31m     \u001b[0;32mreturn\u001b[0m \u001b[0mself\u001b[0m\u001b[0;34m.\u001b[0m\u001b[0m_run\u001b[0m\u001b[0;34m(\u001b[0m\u001b[0minit_params\u001b[0m\u001b[0;34m,\u001b[0m \u001b[0;32mNone\u001b[0m\u001b[0;34m,\u001b[0m \u001b[0;34m*\u001b[0m\u001b[0margs\u001b[0m\u001b[0;34m,\u001b[0m \u001b[0;34m**\u001b[0m\u001b[0mkwargs\u001b[0m\u001b[0;34m)\u001b[0m\u001b[0;34m\u001b[0m\u001b[0;34m\u001b[0m\u001b[0m\n\u001b[0m\u001b[1;32m    317\u001b[0m \u001b[0;34m\u001b[0m\u001b[0m\n\u001b[1;32m    318\u001b[0m   \u001b[0;32mdef\u001b[0m \u001b[0m__post_init__\u001b[0m\u001b[0;34m(\u001b[0m\u001b[0mself\u001b[0m\u001b[0;34m)\u001b[0m\u001b[0;34m:\u001b[0m\u001b[0;34m\u001b[0m\u001b[0;34m\u001b[0m\u001b[0m\n",
      "\u001b[0;32m~/opt/anaconda3/lib/python3.9/site-packages/jaxopt/_src/scipy_wrappers.py\u001b[0m in \u001b[0;36m_run\u001b[0;34m(self, init_params, bounds, *args, **kwargs)\u001b[0m\n\u001b[1;32m    288\u001b[0m                                    ub=jnp_to_onp(bounds[1], self.dtype))\n\u001b[1;32m    289\u001b[0m \u001b[0;34m\u001b[0m\u001b[0m\n\u001b[0;32m--> 290\u001b[0;31m     res = osp.optimize.minimize(scipy_fun, jnp_to_onp(init_params, self.dtype),\n\u001b[0m\u001b[1;32m    291\u001b[0m                                 \u001b[0mjac\u001b[0m\u001b[0;34m=\u001b[0m\u001b[0;32mTrue\u001b[0m\u001b[0;34m,\u001b[0m\u001b[0;34m\u001b[0m\u001b[0;34m\u001b[0m\u001b[0m\n\u001b[1;32m    292\u001b[0m                                 \u001b[0mbounds\u001b[0m\u001b[0;34m=\u001b[0m\u001b[0mbounds\u001b[0m\u001b[0;34m,\u001b[0m\u001b[0;34m\u001b[0m\u001b[0;34m\u001b[0m\u001b[0m\n",
      "\u001b[0;32m~/opt/anaconda3/lib/python3.9/site-packages/scipy/optimize/_minimize.py\u001b[0m in \u001b[0;36mminimize\u001b[0;34m(fun, x0, args, method, jac, hess, hessp, bounds, constraints, tol, callback, options)\u001b[0m\n\u001b[1;32m    621\u001b[0m                                   **options)\n\u001b[1;32m    622\u001b[0m     \u001b[0;32melif\u001b[0m \u001b[0mmeth\u001b[0m \u001b[0;34m==\u001b[0m \u001b[0;34m'l-bfgs-b'\u001b[0m\u001b[0;34m:\u001b[0m\u001b[0;34m\u001b[0m\u001b[0;34m\u001b[0m\u001b[0m\n\u001b[0;32m--> 623\u001b[0;31m         return _minimize_lbfgsb(fun, x0, args, jac, bounds,\n\u001b[0m\u001b[1;32m    624\u001b[0m                                 callback=callback, **options)\n\u001b[1;32m    625\u001b[0m     \u001b[0;32melif\u001b[0m \u001b[0mmeth\u001b[0m \u001b[0;34m==\u001b[0m \u001b[0;34m'tnc'\u001b[0m\u001b[0;34m:\u001b[0m\u001b[0;34m\u001b[0m\u001b[0;34m\u001b[0m\u001b[0m\n",
      "\u001b[0;32m~/opt/anaconda3/lib/python3.9/site-packages/scipy/optimize/lbfgsb.py\u001b[0m in \u001b[0;36m_minimize_lbfgsb\u001b[0;34m(fun, x0, args, jac, bounds, disp, maxcor, ftol, gtol, eps, maxfun, maxiter, iprint, callback, maxls, finite_diff_rel_step, **unknown_options)\u001b[0m\n\u001b[1;32m    304\u001b[0m             \u001b[0miprint\u001b[0m \u001b[0;34m=\u001b[0m \u001b[0mdisp\u001b[0m\u001b[0;34m\u001b[0m\u001b[0;34m\u001b[0m\u001b[0m\n\u001b[1;32m    305\u001b[0m \u001b[0;34m\u001b[0m\u001b[0m\n\u001b[0;32m--> 306\u001b[0;31m     sf = _prepare_scalar_function(fun, x0, jac=jac, args=args, epsilon=eps,\n\u001b[0m\u001b[1;32m    307\u001b[0m                                   \u001b[0mbounds\u001b[0m\u001b[0;34m=\u001b[0m\u001b[0mnew_bounds\u001b[0m\u001b[0;34m,\u001b[0m\u001b[0;34m\u001b[0m\u001b[0;34m\u001b[0m\u001b[0m\n\u001b[1;32m    308\u001b[0m                                   finite_diff_rel_step=finite_diff_rel_step)\n",
      "\u001b[0;32m~/opt/anaconda3/lib/python3.9/site-packages/scipy/optimize/optimize.py\u001b[0m in \u001b[0;36m_prepare_scalar_function\u001b[0;34m(fun, x0, jac, args, bounds, epsilon, finite_diff_rel_step, hess)\u001b[0m\n\u001b[1;32m    259\u001b[0m     \u001b[0;31m# ScalarFunction caches. Reuse of fun(x) during grad\u001b[0m\u001b[0;34m\u001b[0m\u001b[0;34m\u001b[0m\u001b[0m\n\u001b[1;32m    260\u001b[0m     \u001b[0;31m# calculation reduces overall function evaluations.\u001b[0m\u001b[0;34m\u001b[0m\u001b[0;34m\u001b[0m\u001b[0m\n\u001b[0;32m--> 261\u001b[0;31m     sf = ScalarFunction(fun, x0, args, grad, hess,\n\u001b[0m\u001b[1;32m    262\u001b[0m                         finite_diff_rel_step, bounds, epsilon=epsilon)\n\u001b[1;32m    263\u001b[0m \u001b[0;34m\u001b[0m\u001b[0m\n",
      "\u001b[0;32m~/opt/anaconda3/lib/python3.9/site-packages/scipy/optimize/_differentiable_functions.py\u001b[0m in \u001b[0;36m__init__\u001b[0;34m(self, fun, x0, args, grad, hess, finite_diff_rel_step, finite_diff_bounds, epsilon)\u001b[0m\n\u001b[1;32m    138\u001b[0m \u001b[0;34m\u001b[0m\u001b[0m\n\u001b[1;32m    139\u001b[0m         \u001b[0mself\u001b[0m\u001b[0;34m.\u001b[0m\u001b[0m_update_fun_impl\u001b[0m \u001b[0;34m=\u001b[0m \u001b[0mupdate_fun\u001b[0m\u001b[0;34m\u001b[0m\u001b[0;34m\u001b[0m\u001b[0m\n\u001b[0;32m--> 140\u001b[0;31m         \u001b[0mself\u001b[0m\u001b[0;34m.\u001b[0m\u001b[0m_update_fun\u001b[0m\u001b[0;34m(\u001b[0m\u001b[0;34m)\u001b[0m\u001b[0;34m\u001b[0m\u001b[0;34m\u001b[0m\u001b[0m\n\u001b[0m\u001b[1;32m    141\u001b[0m \u001b[0;34m\u001b[0m\u001b[0m\n\u001b[1;32m    142\u001b[0m         \u001b[0;31m# Gradient evaluation\u001b[0m\u001b[0;34m\u001b[0m\u001b[0;34m\u001b[0m\u001b[0m\n",
      "\u001b[0;32m~/opt/anaconda3/lib/python3.9/site-packages/scipy/optimize/_differentiable_functions.py\u001b[0m in \u001b[0;36m_update_fun\u001b[0;34m(self)\u001b[0m\n\u001b[1;32m    231\u001b[0m     \u001b[0;32mdef\u001b[0m \u001b[0m_update_fun\u001b[0m\u001b[0;34m(\u001b[0m\u001b[0mself\u001b[0m\u001b[0;34m)\u001b[0m\u001b[0;34m:\u001b[0m\u001b[0;34m\u001b[0m\u001b[0;34m\u001b[0m\u001b[0m\n\u001b[1;32m    232\u001b[0m         \u001b[0;32mif\u001b[0m \u001b[0;32mnot\u001b[0m \u001b[0mself\u001b[0m\u001b[0;34m.\u001b[0m\u001b[0mf_updated\u001b[0m\u001b[0;34m:\u001b[0m\u001b[0;34m\u001b[0m\u001b[0;34m\u001b[0m\u001b[0m\n\u001b[0;32m--> 233\u001b[0;31m             \u001b[0mself\u001b[0m\u001b[0;34m.\u001b[0m\u001b[0m_update_fun_impl\u001b[0m\u001b[0;34m(\u001b[0m\u001b[0;34m)\u001b[0m\u001b[0;34m\u001b[0m\u001b[0;34m\u001b[0m\u001b[0m\n\u001b[0m\u001b[1;32m    234\u001b[0m             \u001b[0mself\u001b[0m\u001b[0;34m.\u001b[0m\u001b[0mf_updated\u001b[0m \u001b[0;34m=\u001b[0m \u001b[0;32mTrue\u001b[0m\u001b[0;34m\u001b[0m\u001b[0;34m\u001b[0m\u001b[0m\n\u001b[1;32m    235\u001b[0m \u001b[0;34m\u001b[0m\u001b[0m\n",
      "\u001b[0;32m~/opt/anaconda3/lib/python3.9/site-packages/scipy/optimize/_differentiable_functions.py\u001b[0m in \u001b[0;36mupdate_fun\u001b[0;34m()\u001b[0m\n\u001b[1;32m    135\u001b[0m \u001b[0;34m\u001b[0m\u001b[0m\n\u001b[1;32m    136\u001b[0m         \u001b[0;32mdef\u001b[0m \u001b[0mupdate_fun\u001b[0m\u001b[0;34m(\u001b[0m\u001b[0;34m)\u001b[0m\u001b[0;34m:\u001b[0m\u001b[0;34m\u001b[0m\u001b[0;34m\u001b[0m\u001b[0m\n\u001b[0;32m--> 137\u001b[0;31m             \u001b[0mself\u001b[0m\u001b[0;34m.\u001b[0m\u001b[0mf\u001b[0m \u001b[0;34m=\u001b[0m \u001b[0mfun_wrapped\u001b[0m\u001b[0;34m(\u001b[0m\u001b[0mself\u001b[0m\u001b[0;34m.\u001b[0m\u001b[0mx\u001b[0m\u001b[0;34m)\u001b[0m\u001b[0;34m\u001b[0m\u001b[0;34m\u001b[0m\u001b[0m\n\u001b[0m\u001b[1;32m    138\u001b[0m \u001b[0;34m\u001b[0m\u001b[0m\n\u001b[1;32m    139\u001b[0m         \u001b[0mself\u001b[0m\u001b[0;34m.\u001b[0m\u001b[0m_update_fun_impl\u001b[0m \u001b[0;34m=\u001b[0m \u001b[0mupdate_fun\u001b[0m\u001b[0;34m\u001b[0m\u001b[0;34m\u001b[0m\u001b[0m\n",
      "\u001b[0;32m~/opt/anaconda3/lib/python3.9/site-packages/scipy/optimize/_differentiable_functions.py\u001b[0m in \u001b[0;36mfun_wrapped\u001b[0;34m(x)\u001b[0m\n\u001b[1;32m    132\u001b[0m             \u001b[0;31m# Overwriting results in undefined behaviour because\u001b[0m\u001b[0;34m\u001b[0m\u001b[0;34m\u001b[0m\u001b[0m\n\u001b[1;32m    133\u001b[0m             \u001b[0;31m# fun(self.x) will change self.x, with the two no longer linked.\u001b[0m\u001b[0;34m\u001b[0m\u001b[0;34m\u001b[0m\u001b[0m\n\u001b[0;32m--> 134\u001b[0;31m             \u001b[0;32mreturn\u001b[0m \u001b[0mfun\u001b[0m\u001b[0;34m(\u001b[0m\u001b[0mnp\u001b[0m\u001b[0;34m.\u001b[0m\u001b[0mcopy\u001b[0m\u001b[0;34m(\u001b[0m\u001b[0mx\u001b[0m\u001b[0;34m)\u001b[0m\u001b[0;34m,\u001b[0m \u001b[0;34m*\u001b[0m\u001b[0margs\u001b[0m\u001b[0;34m)\u001b[0m\u001b[0;34m\u001b[0m\u001b[0;34m\u001b[0m\u001b[0m\n\u001b[0m\u001b[1;32m    135\u001b[0m \u001b[0;34m\u001b[0m\u001b[0m\n\u001b[1;32m    136\u001b[0m         \u001b[0;32mdef\u001b[0m \u001b[0mupdate_fun\u001b[0m\u001b[0;34m(\u001b[0m\u001b[0;34m)\u001b[0m\u001b[0;34m:\u001b[0m\u001b[0;34m\u001b[0m\u001b[0;34m\u001b[0m\u001b[0m\n",
      "\u001b[0;32m~/opt/anaconda3/lib/python3.9/site-packages/scipy/optimize/optimize.py\u001b[0m in \u001b[0;36m__call__\u001b[0;34m(self, x, *args)\u001b[0m\n\u001b[1;32m     72\u001b[0m     \u001b[0;32mdef\u001b[0m \u001b[0m__call__\u001b[0m\u001b[0;34m(\u001b[0m\u001b[0mself\u001b[0m\u001b[0;34m,\u001b[0m \u001b[0mx\u001b[0m\u001b[0;34m,\u001b[0m \u001b[0;34m*\u001b[0m\u001b[0margs\u001b[0m\u001b[0;34m)\u001b[0m\u001b[0;34m:\u001b[0m\u001b[0;34m\u001b[0m\u001b[0;34m\u001b[0m\u001b[0m\n\u001b[1;32m     73\u001b[0m         \u001b[0;34m\"\"\" returns the the function value \"\"\"\u001b[0m\u001b[0;34m\u001b[0m\u001b[0;34m\u001b[0m\u001b[0m\n\u001b[0;32m---> 74\u001b[0;31m         \u001b[0mself\u001b[0m\u001b[0;34m.\u001b[0m\u001b[0m_compute_if_needed\u001b[0m\u001b[0;34m(\u001b[0m\u001b[0mx\u001b[0m\u001b[0;34m,\u001b[0m \u001b[0;34m*\u001b[0m\u001b[0margs\u001b[0m\u001b[0;34m)\u001b[0m\u001b[0;34m\u001b[0m\u001b[0;34m\u001b[0m\u001b[0m\n\u001b[0m\u001b[1;32m     75\u001b[0m         \u001b[0;32mreturn\u001b[0m \u001b[0mself\u001b[0m\u001b[0;34m.\u001b[0m\u001b[0m_value\u001b[0m\u001b[0;34m\u001b[0m\u001b[0;34m\u001b[0m\u001b[0m\n\u001b[1;32m     76\u001b[0m \u001b[0;34m\u001b[0m\u001b[0m\n",
      "\u001b[0;32m~/opt/anaconda3/lib/python3.9/site-packages/scipy/optimize/optimize.py\u001b[0m in \u001b[0;36m_compute_if_needed\u001b[0;34m(self, x, *args)\u001b[0m\n\u001b[1;32m     66\u001b[0m         \u001b[0;32mif\u001b[0m \u001b[0;32mnot\u001b[0m \u001b[0mnp\u001b[0m\u001b[0;34m.\u001b[0m\u001b[0mall\u001b[0m\u001b[0;34m(\u001b[0m\u001b[0mx\u001b[0m \u001b[0;34m==\u001b[0m \u001b[0mself\u001b[0m\u001b[0;34m.\u001b[0m\u001b[0mx\u001b[0m\u001b[0;34m)\u001b[0m \u001b[0;32mor\u001b[0m \u001b[0mself\u001b[0m\u001b[0;34m.\u001b[0m\u001b[0m_value\u001b[0m \u001b[0;32mis\u001b[0m \u001b[0;32mNone\u001b[0m \u001b[0;32mor\u001b[0m \u001b[0mself\u001b[0m\u001b[0;34m.\u001b[0m\u001b[0mjac\u001b[0m \u001b[0;32mis\u001b[0m \u001b[0;32mNone\u001b[0m\u001b[0;34m:\u001b[0m\u001b[0;34m\u001b[0m\u001b[0;34m\u001b[0m\u001b[0m\n\u001b[1;32m     67\u001b[0m             \u001b[0mself\u001b[0m\u001b[0;34m.\u001b[0m\u001b[0mx\u001b[0m \u001b[0;34m=\u001b[0m \u001b[0mnp\u001b[0m\u001b[0;34m.\u001b[0m\u001b[0masarray\u001b[0m\u001b[0;34m(\u001b[0m\u001b[0mx\u001b[0m\u001b[0;34m)\u001b[0m\u001b[0;34m.\u001b[0m\u001b[0mcopy\u001b[0m\u001b[0;34m(\u001b[0m\u001b[0;34m)\u001b[0m\u001b[0;34m\u001b[0m\u001b[0;34m\u001b[0m\u001b[0m\n\u001b[0;32m---> 68\u001b[0;31m             \u001b[0mfg\u001b[0m \u001b[0;34m=\u001b[0m \u001b[0mself\u001b[0m\u001b[0;34m.\u001b[0m\u001b[0mfun\u001b[0m\u001b[0;34m(\u001b[0m\u001b[0mx\u001b[0m\u001b[0;34m,\u001b[0m \u001b[0;34m*\u001b[0m\u001b[0margs\u001b[0m\u001b[0;34m)\u001b[0m\u001b[0;34m\u001b[0m\u001b[0;34m\u001b[0m\u001b[0m\n\u001b[0m\u001b[1;32m     69\u001b[0m             \u001b[0mself\u001b[0m\u001b[0;34m.\u001b[0m\u001b[0mjac\u001b[0m \u001b[0;34m=\u001b[0m \u001b[0mfg\u001b[0m\u001b[0;34m[\u001b[0m\u001b[0;36m1\u001b[0m\u001b[0;34m]\u001b[0m\u001b[0;34m\u001b[0m\u001b[0;34m\u001b[0m\u001b[0m\n\u001b[1;32m     70\u001b[0m             \u001b[0mself\u001b[0m\u001b[0;34m.\u001b[0m\u001b[0m_value\u001b[0m \u001b[0;34m=\u001b[0m \u001b[0mfg\u001b[0m\u001b[0;34m[\u001b[0m\u001b[0;36m0\u001b[0m\u001b[0;34m]\u001b[0m\u001b[0;34m\u001b[0m\u001b[0;34m\u001b[0m\u001b[0m\n",
      "\u001b[0;32m~/opt/anaconda3/lib/python3.9/site-packages/jaxopt/_src/scipy_wrappers.py\u001b[0m in \u001b[0;36mscipy_fun\u001b[0;34m(x_onp)\u001b[0m\n\u001b[1;32m    281\u001b[0m     \u001b[0;32mdef\u001b[0m \u001b[0mscipy_fun\u001b[0m\u001b[0;34m(\u001b[0m\u001b[0mx_onp\u001b[0m\u001b[0;34m:\u001b[0m \u001b[0monp\u001b[0m\u001b[0;34m.\u001b[0m\u001b[0mndarray\u001b[0m\u001b[0;34m)\u001b[0m \u001b[0;34m->\u001b[0m \u001b[0mTuple\u001b[0m\u001b[0;34m[\u001b[0m\u001b[0monp\u001b[0m\u001b[0;34m.\u001b[0m\u001b[0mndarray\u001b[0m\u001b[0;34m,\u001b[0m \u001b[0monp\u001b[0m\u001b[0;34m.\u001b[0m\u001b[0mndarray\u001b[0m\u001b[0;34m]\u001b[0m\u001b[0;34m:\u001b[0m\u001b[0;34m\u001b[0m\u001b[0;34m\u001b[0m\u001b[0m\n\u001b[1;32m    282\u001b[0m       \u001b[0mx_jnp\u001b[0m \u001b[0;34m=\u001b[0m \u001b[0monp_to_jnp\u001b[0m\u001b[0;34m(\u001b[0m\u001b[0mx_onp\u001b[0m\u001b[0;34m)\u001b[0m\u001b[0;34m\u001b[0m\u001b[0;34m\u001b[0m\u001b[0m\n\u001b[0;32m--> 283\u001b[0;31m       \u001b[0mvalue\u001b[0m\u001b[0;34m,\u001b[0m \u001b[0mgrads\u001b[0m \u001b[0;34m=\u001b[0m \u001b[0mself\u001b[0m\u001b[0;34m.\u001b[0m\u001b[0m_value_and_grad_fun\u001b[0m\u001b[0;34m(\u001b[0m\u001b[0mx_jnp\u001b[0m\u001b[0;34m,\u001b[0m \u001b[0;34m*\u001b[0m\u001b[0margs\u001b[0m\u001b[0;34m,\u001b[0m \u001b[0;34m**\u001b[0m\u001b[0mkwargs\u001b[0m\u001b[0;34m)\u001b[0m\u001b[0;34m\u001b[0m\u001b[0;34m\u001b[0m\u001b[0m\n\u001b[0m\u001b[1;32m    284\u001b[0m       \u001b[0;32mreturn\u001b[0m \u001b[0monp\u001b[0m\u001b[0;34m.\u001b[0m\u001b[0masarray\u001b[0m\u001b[0;34m(\u001b[0m\u001b[0mvalue\u001b[0m\u001b[0;34m,\u001b[0m \u001b[0mself\u001b[0m\u001b[0;34m.\u001b[0m\u001b[0mdtype\u001b[0m\u001b[0;34m)\u001b[0m\u001b[0;34m,\u001b[0m \u001b[0mjnp_to_onp\u001b[0m\u001b[0;34m(\u001b[0m\u001b[0mgrads\u001b[0m\u001b[0;34m,\u001b[0m \u001b[0mself\u001b[0m\u001b[0;34m.\u001b[0m\u001b[0mdtype\u001b[0m\u001b[0;34m)\u001b[0m\u001b[0;34m\u001b[0m\u001b[0;34m\u001b[0m\u001b[0m\n\u001b[1;32m    285\u001b[0m \u001b[0;34m\u001b[0m\u001b[0m\n",
      "    \u001b[0;31m[... skipping hidden 19 frame]\u001b[0m\n",
      "\u001b[0;32m~/opt/anaconda3/lib/python3.9/site-packages/jax/linear_util.py\u001b[0m in \u001b[0;36mcall_wrapped\u001b[0;34m(self, *args, **kwargs)\u001b[0m\n\u001b[1;32m    164\u001b[0m \u001b[0;34m\u001b[0m\u001b[0m\n\u001b[1;32m    165\u001b[0m     \u001b[0;32mtry\u001b[0m\u001b[0;34m:\u001b[0m\u001b[0;34m\u001b[0m\u001b[0;34m\u001b[0m\u001b[0m\n\u001b[0;32m--> 166\u001b[0;31m       \u001b[0mans\u001b[0m \u001b[0;34m=\u001b[0m \u001b[0mself\u001b[0m\u001b[0;34m.\u001b[0m\u001b[0mf\u001b[0m\u001b[0;34m(\u001b[0m\u001b[0;34m*\u001b[0m\u001b[0margs\u001b[0m\u001b[0;34m,\u001b[0m \u001b[0;34m**\u001b[0m\u001b[0mdict\u001b[0m\u001b[0;34m(\u001b[0m\u001b[0mself\u001b[0m\u001b[0;34m.\u001b[0m\u001b[0mparams\u001b[0m\u001b[0;34m,\u001b[0m \u001b[0;34m**\u001b[0m\u001b[0mkwargs\u001b[0m\u001b[0;34m)\u001b[0m\u001b[0;34m)\u001b[0m\u001b[0;34m\u001b[0m\u001b[0;34m\u001b[0m\u001b[0m\n\u001b[0m\u001b[1;32m    167\u001b[0m     \u001b[0;32mexcept\u001b[0m\u001b[0;34m:\u001b[0m\u001b[0;34m\u001b[0m\u001b[0;34m\u001b[0m\u001b[0m\n\u001b[1;32m    168\u001b[0m       \u001b[0;31m# Some transformations yield from inside context managers, so we have to\u001b[0m\u001b[0;34m\u001b[0m\u001b[0;34m\u001b[0m\u001b[0m\n",
      "\u001b[0;31mTypeError\u001b[0m: objective_function() takes 6 positional arguments but 7 were given"
     ]
    }
   ],
   "source": [
    "betas = []\n",
    "single_crm_losses = []\n",
    "single_online_losses = []\n",
    "\n",
    "\n",
    "dataset_name = 'warfarin'\n",
    "settings = {\n",
    "    'lambda': 0.1,\n",
    "    'contextual_modelling': 'linear'\n",
    "}\n",
    "\n",
    "\n",
    "def crm_experiment(random_seed, dataset_name, settings):\n",
    "    \n",
    "    dataset = get_dataset_by_name(dataset_name, random_seed)\n",
    "\n",
    "    start_experiment(random_seed, dataset, 'CRM')\n",
    "    # Model setting\n",
    "    contextual_modelling = Model(settings['contextual_modelling'], random_seed)\n",
    "    estimator = Estimator(contextual_modelling, 'conservative', settings['lambda'])\n",
    "    \n",
    "    # Logging data\n",
    "    mu = contextual_modelling.create_start_parameter(dataset)\n",
    "    optimized_mus = [mu]\n",
    "    logging_data = dataset.get_logged_data()\n",
    "    \n",
    "    # Optimization \n",
    "    init_parameter = jnp.array(mu, dtype='float32')\n",
    "    args = logging_data\n",
    "    optimized_mu, loss_crm = optimize(estimator.objective_function, init_parameter, args)\n",
    "    \n",
    "    # Evaluation\n",
    "    single_crm_loss = loss_crm._value\n",
    "    mu = optimized_mu._value\n",
    "    single_online_loss, _ = online_evaluation(mu, contextual_modelling, dataset, random_seed)\n",
    "    \n",
    "    return single_crm_loss, single_online_loss\n",
    "\n",
    "\n",
    "for random_seed in range(10):\n",
    "    crm_loss, online_loss = crm_experiment(random_seed, dataset_name, settings)\n",
    "    single_crm_losses.append(crm_loss)\n",
    "    single_online_losses.append(online_loss)\n",
    "\n",
    "\n",
    "single_crm_loss, single_crm_loss_std = np.mean(single_crm_losses), np.std(single_crm_losses)\n",
    "single_online_loss, single_online_loss_std = np.mean(single_online_losses), np.std(single_online_losses)"
   ]
  },
  {
   "cell_type": "code",
   "execution_count": 219,
   "id": "d42b38c2",
   "metadata": {},
   "outputs": [
    {
     "data": {
      "text/plain": [
       "(-0.6611648660917441, 0.14169107866416367)"
      ]
     },
     "execution_count": 219,
     "metadata": {},
     "output_type": "execute_result"
    }
   ],
   "source": [
    "single_online_loss, single_online_loss_std"
   ]
  },
  {
   "cell_type": "code",
   "execution_count": 220,
   "id": "87667c7b",
   "metadata": {},
   "outputs": [
    {
     "data": {
      "text/plain": [
       "-0.6611648660917441"
      ]
     },
     "execution_count": 220,
     "metadata": {},
     "output_type": "execute_result"
    }
   ],
   "source": [
    "single_online_loss"
   ]
  },
  {
   "cell_type": "markdown",
   "id": "6af873c4",
   "metadata": {},
   "source": [
    "### Sequential CRM - Myopic"
   ]
  },
  {
   "cell_type": "code",
   "execution_count": 221,
   "id": "1d583083",
   "metadata": {
    "scrolled": true
   },
   "outputs": [
    {
     "name": "stderr",
     "output_type": "stream",
     "text": [
      "*** EXPERIMENT SCRM Myopic Random seed: 0 Dataset: noisycircles ***\n",
      "< SCRM-M CRM loss: -0.98396 Online loss: -0.45682 |beta|=5.38 n=20 >\n",
      "< SCRM-M CRM loss: -0.93691 Online loss: -0.67064 |beta|=3.43 n=60 >\n",
      "< SCRM-M CRM loss: -1.04902 Online loss: -0.73364 |beta|=3.36 n=140 >\n",
      "< SCRM-M CRM loss: -0.84639 Online loss: -0.74779 |beta|=3.79 n=300 >\n",
      "< SCRM-M CRM loss: -0.70356 Online loss: -0.73163 |beta|=3.90 n=620 >\n",
      "< SCRM-M CRM loss: -0.69979 Online loss: -0.72674 |beta|=3.73 n=1260 >\n",
      "< SCRM-M CRM loss: -0.71298 Online loss: -0.74687 |beta|=3.77 n=2540 >\n",
      "< SCRM-M CRM loss: -0.72105 Online loss: -0.75137 |beta|=3.74 n=5100 >\n",
      "< SCRM-M CRM loss: -0.72343 Online loss: -0.75821 |beta|=3.68 n=10220 >\n",
      "< SCRM-M CRM loss: -0.73165 Online loss: -0.76419 |beta|=3.62 n=20460 >\n",
      "*** EXPERIMENT SCRM Myopic Random seed: 1 Dataset: noisycircles ***\n",
      "< SCRM-M CRM loss: -2.07531 Online loss: -0.57272 |beta|=4.61 n=20 >\n",
      "< SCRM-M CRM loss: -0.99738 Online loss: -0.40104 |beta|=6.64 n=60 >\n",
      "< SCRM-M CRM loss: -0.43121 Online loss: -0.53937 |beta|=5.43 n=140 >\n",
      "< SCRM-M CRM loss: -0.58488 Online loss: -0.59361 |beta|=5.07 n=300 >\n",
      "< SCRM-M CRM loss: -0.67536 Online loss: -0.67148 |beta|=4.38 n=620 >\n",
      "< SCRM-M CRM loss: -0.66745 Online loss: -0.70382 |beta|=4.24 n=1260 >\n",
      "< SCRM-M CRM loss: -0.69359 Online loss: -0.72623 |beta|=4.18 n=2540 >\n",
      "< SCRM-M CRM loss: -0.69796 Online loss: -0.74937 |beta|=4.14 n=5100 >\n",
      "< SCRM-M CRM loss: -0.71416 Online loss: -0.75861 |beta|=4.09 n=10220 >\n",
      "< SCRM-M CRM loss: -0.73745 Online loss: -0.76982 |beta|=4.01 n=20460 >\n",
      "*** EXPERIMENT SCRM Myopic Random seed: 2 Dataset: noisycircles ***\n",
      "< SCRM-M CRM loss: -0.33544 Online loss: -0.34964 |beta|=3.81 n=20 >\n",
      "< SCRM-M CRM loss: -0.60672 Online loss: -0.38108 |beta|=3.50 n=60 >\n",
      "< SCRM-M CRM loss: -0.53006 Online loss: -0.52171 |beta|=3.13 n=140 >\n",
      "< SCRM-M CRM loss: -0.69123 Online loss: -0.60126 |beta|=3.22 n=300 >\n",
      "< SCRM-M CRM loss: -0.66362 Online loss: -0.67685 |beta|=2.72 n=620 >\n",
      "< SCRM-M CRM loss: -0.64756 Online loss: -0.68727 |beta|=2.73 n=1260 >\n",
      "< SCRM-M CRM loss: -0.67731 Online loss: -0.70802 |beta|=2.77 n=2540 >\n",
      "< SCRM-M CRM loss: -0.70904 Online loss: -0.73140 |beta|=2.97 n=5100 >\n",
      "< SCRM-M CRM loss: -0.70808 Online loss: -0.73796 |beta|=3.04 n=10220 >\n",
      "< SCRM-M CRM loss: -0.71626 Online loss: -0.74638 |beta|=3.04 n=20460 >\n",
      "*** EXPERIMENT SCRM Myopic Random seed: 3 Dataset: noisycircles ***\n",
      "< SCRM-M CRM loss: -1.12622 Online loss: -0.42903 |beta|=3.28 n=20 >\n",
      "< SCRM-M CRM loss: -0.58363 Online loss: -0.48013 |beta|=3.21 n=60 >\n",
      "< SCRM-M CRM loss: -0.69688 Online loss: -0.60096 |beta|=1.79 n=140 >\n",
      "< SCRM-M CRM loss: -0.66110 Online loss: -0.65057 |beta|=1.82 n=300 >\n",
      "< SCRM-M CRM loss: -0.80475 Online loss: -0.67642 |beta|=1.94 n=620 >\n",
      "< SCRM-M CRM loss: -0.70741 Online loss: -0.71735 |beta|=2.29 n=1260 >\n",
      "< SCRM-M CRM loss: -0.69390 Online loss: -0.72392 |beta|=2.25 n=2540 >\n",
      "< SCRM-M CRM loss: -0.69568 Online loss: -0.73095 |beta|=2.32 n=5100 >\n",
      "< SCRM-M CRM loss: -0.70753 Online loss: -0.73558 |beta|=2.35 n=10220 >\n",
      "< SCRM-M CRM loss: -0.71080 Online loss: -0.74106 |beta|=2.39 n=20460 >\n",
      "*** EXPERIMENT SCRM Myopic Random seed: 4 Dataset: noisycircles ***\n",
      "< SCRM-M CRM loss: -1.52556 Online loss: -0.58300 |beta|=2.58 n=20 >\n",
      "< SCRM-M CRM loss: -0.67633 Online loss: -0.60488 |beta|=2.55 n=60 >\n",
      "< SCRM-M CRM loss: -0.89118 Online loss: -0.69415 |beta|=2.53 n=140 >\n",
      "< SCRM-M CRM loss: -0.74548 Online loss: -0.67176 |beta|=2.58 n=300 >\n",
      "< SCRM-M CRM loss: -0.73045 Online loss: -0.65015 |beta|=2.81 n=620 >\n",
      "< SCRM-M CRM loss: -0.65414 Online loss: -0.66885 |beta|=2.81 n=1260 >\n",
      "< SCRM-M CRM loss: -0.65603 Online loss: -0.68939 |beta|=2.77 n=2540 >\n",
      "< SCRM-M CRM loss: -0.67415 Online loss: -0.71000 |beta|=2.78 n=5100 >\n",
      "< SCRM-M CRM loss: -0.69330 Online loss: -0.72984 |beta|=2.81 n=10220 >\n",
      "< SCRM-M CRM loss: -0.71593 Online loss: -0.74943 |beta|=2.90 n=20460 >\n",
      "*** EXPERIMENT SCRM Myopic Random seed: 5 Dataset: noisycircles ***\n",
      "< SCRM-M CRM loss: -0.26117 Online loss: -0.31715 |beta|=3.15 n=20 >\n",
      "< SCRM-M CRM loss: -0.66026 Online loss: -0.49273 |beta|=2.96 n=60 >\n",
      "< SCRM-M CRM loss: -0.52037 Online loss: -0.53720 |beta|=2.91 n=140 >\n",
      "< SCRM-M CRM loss: -0.70339 Online loss: -0.58789 |beta|=2.56 n=300 >\n",
      "< SCRM-M CRM loss: -0.57958 Online loss: -0.60402 |beta|=2.42 n=620 >\n",
      "< SCRM-M CRM loss: -0.60941 Online loss: -0.62118 |beta|=2.47 n=1260 >\n",
      "< SCRM-M CRM loss: -0.62271 Online loss: -0.65025 |beta|=2.38 n=2540 >\n",
      "< SCRM-M CRM loss: -0.63711 Online loss: -0.67152 |beta|=2.35 n=5100 >\n",
      "< SCRM-M CRM loss: -0.64910 Online loss: -0.69075 |beta|=2.39 n=10220 >\n",
      "< SCRM-M CRM loss: -0.67021 Online loss: -0.70490 |beta|=2.44 n=20460 >\n",
      "*** EXPERIMENT SCRM Myopic Random seed: 6 Dataset: noisycircles ***\n",
      "< SCRM-M CRM loss: -1.22039 Online loss: -0.31018 |beta|=8.37 n=20 >\n",
      "< SCRM-M CRM loss: -0.87910 Online loss: -0.29348 |beta|=7.58 n=60 >\n",
      "< SCRM-M CRM loss: -0.52994 Online loss: -0.27684 |beta|=8.57 n=140 >\n",
      "< SCRM-M CRM loss: -0.25406 Online loss: -0.27399 |beta|=8.96 n=300 >\n",
      "< SCRM-M CRM loss: -0.26380 Online loss: -0.25395 |beta|=8.32 n=620 >\n",
      "< SCRM-M CRM loss: -0.28606 Online loss: -0.33032 |beta|=6.62 n=1260 >\n",
      "< SCRM-M CRM loss: -0.35610 Online loss: -0.40338 |beta|=5.47 n=2540 >\n",
      "< SCRM-M CRM loss: -0.39412 Online loss: -0.43643 |beta|=4.91 n=5100 >\n",
      "< SCRM-M CRM loss: -0.41600 Online loss: -0.49621 |beta|=4.52 n=10220 >\n",
      "< SCRM-M CRM loss: -0.49263 Online loss: -0.55714 |beta|=4.42 n=20460 >\n",
      "*** EXPERIMENT SCRM Myopic Random seed: 7 Dataset: noisycircles ***\n",
      "< SCRM-M CRM loss: -1.01323 Online loss: -0.59404 |beta|=2.71 n=20 >\n",
      "< SCRM-M CRM loss: -0.65011 Online loss: -0.65900 |beta|=2.52 n=60 >\n",
      "< SCRM-M CRM loss: -0.88036 Online loss: -0.65552 |beta|=2.65 n=140 >\n",
      "< SCRM-M CRM loss: -0.67877 Online loss: -0.66635 |beta|=3.03 n=300 >\n",
      "< SCRM-M CRM loss: -0.65729 Online loss: -0.69045 |beta|=2.90 n=620 >\n",
      "< SCRM-M CRM loss: -0.67529 Online loss: -0.71476 |beta|=3.05 n=1260 >\n",
      "< SCRM-M CRM loss: -0.69871 Online loss: -0.71956 |beta|=3.04 n=2540 >\n",
      "< SCRM-M CRM loss: -0.70198 Online loss: -0.74193 |beta|=3.14 n=5100 >\n",
      "< SCRM-M CRM loss: -0.71097 Online loss: -0.74365 |beta|=3.15 n=10220 >\n",
      "< SCRM-M CRM loss: -0.71952 Online loss: -0.74926 |beta|=3.18 n=20460 >\n",
      "*** EXPERIMENT SCRM Myopic Random seed: 8 Dataset: noisycircles ***\n",
      "< SCRM-M CRM loss: -0.83695 Online loss: -0.21080 |beta|=5.28 n=20 >\n",
      "< SCRM-M CRM loss: -0.84914 Online loss: -0.31844 |beta|=4.87 n=60 >\n",
      "< SCRM-M CRM loss: -0.33554 Online loss: -0.43131 |beta|=4.72 n=140 >\n",
      "< SCRM-M CRM loss: -0.74679 Online loss: -0.57447 |beta|=4.48 n=300 >\n",
      "< SCRM-M CRM loss: -0.56724 Online loss: -0.58947 |beta|=4.54 n=620 >\n",
      "< SCRM-M CRM loss: -0.62759 Online loss: -0.62946 |beta|=4.52 n=1260 >\n",
      "< SCRM-M CRM loss: -0.62340 Online loss: -0.66326 |beta|=4.51 n=2540 >\n",
      "< SCRM-M CRM loss: -0.65284 Online loss: -0.69255 |beta|=4.56 n=5100 >\n",
      "< SCRM-M CRM loss: -0.67794 Online loss: -0.71215 |beta|=4.59 n=10220 >\n",
      "< SCRM-M CRM loss: -0.69089 Online loss: -0.72486 |beta|=4.62 n=20460 >\n",
      "*** EXPERIMENT SCRM Myopic Random seed: 9 Dataset: noisycircles ***\n",
      "< SCRM-M CRM loss: -0.93140 Online loss: -0.38981 |beta|=5.03 n=20 >\n",
      "< SCRM-M CRM loss: -0.40102 Online loss: -0.39095 |beta|=4.99 n=60 >\n",
      "< SCRM-M CRM loss: -0.40891 Online loss: -0.37808 |beta|=4.94 n=140 >\n",
      "< SCRM-M CRM loss: -0.50169 Online loss: -0.52313 |beta|=2.93 n=300 >\n",
      "< SCRM-M CRM loss: -0.57738 Online loss: -0.61155 |beta|=2.37 n=620 >\n",
      "< SCRM-M CRM loss: -0.66071 Online loss: -0.65805 |beta|=2.20 n=1260 >\n",
      "< SCRM-M CRM loss: -0.62602 Online loss: -0.67716 |beta|=2.17 n=2540 >\n",
      "< SCRM-M CRM loss: -0.66580 Online loss: -0.70264 |beta|=2.29 n=5100 >\n",
      "< SCRM-M CRM loss: -0.68965 Online loss: -0.71847 |beta|=2.35 n=10220 >\n",
      "< SCRM-M CRM loss: -0.69750 Online loss: -0.72962 |beta|=2.40 n=20460 >\n"
     ]
    }
   ],
   "source": [
    "histories = []\n",
    "\n",
    "\n",
    "def scrm_myopic_experiment(random_seed, dataset_name, settings):\n",
    "    \n",
    "    dataset = get_dataset_by_name(dataset_name, random_seed)\n",
    "    start_experiment(random_seed, dataset, 'SCRM Myopic')\n",
    "    \n",
    "    # Model setting\n",
    "    contextual_modelling = Model(settings['contextual_modelling'], random_seed)\n",
    "    estimator = Estimator(contextual_modelling, 'conservative', settings['lambda'])\n",
    "    scrm_m_loss_history = LossHistory(\"SCRM-M\")\n",
    "\n",
    "    n_samples = 10\n",
    "    \n",
    "    # Logging data\n",
    "    mu = contextual_modelling.create_start_parameter(dataset)\n",
    "    logging_data = get_logging_data(n_samples, dataset, random_seed)\n",
    "    rng = np.random.RandomState(random_seed)\n",
    "\n",
    "    for m in range(M):\n",
    "\n",
    "        # Optimization \n",
    "        init_parameter = jnp.array(mu, dtype='float32')\n",
    "        args = logging_data\n",
    "        optimized_mu, loss_crm = optimize(estimator.objective_function, init_parameter, args)        \n",
    "\n",
    "        ### New logging data\n",
    "        mu = optimized_mu._value\n",
    "        loss_crm = loss_crm._value\n",
    "        \n",
    "        n_samples *= 2\n",
    "        contexts, potentials = dataset.sample_data(n_samples)\n",
    "        contextual_param, _ = contextual_modelling.get_parameter(mu, contexts)\n",
    "        actions = rng.normal(contextual_param, logging_scale, n_samples)\n",
    "        losses = dataset.get_losses_from_actions(potentials, actions)\n",
    "        propensities = norm(loc=contextual_param, scale=logging_scale).pdf(actions)\n",
    "        logging_data = actions, contexts, losses, propensities\n",
    "\n",
    "        ## Record \n",
    "        online_loss, _ = online_evaluation(mu, contextual_modelling, dataset, random_seed)\n",
    "        scrm_m_loss_history.update(optimized_mu, online_loss, loss_crm, n_samples)\n",
    "        scrm_m_loss_history.show_last()\n",
    "    \n",
    "    return scrm_m_loss_history\n",
    "\n",
    "for random_seed in range(10):\n",
    "    scrm_m_loss_history = scrm_myopic_experiment(random_seed, dataset_name, settings)\n",
    "    histories.append(scrm_m_loss_history)\n",
    "    "
   ]
  },
  {
   "cell_type": "code",
   "execution_count": 222,
   "id": "b0d7badc",
   "metadata": {},
   "outputs": [],
   "source": [
    "scrm_m_losses = np.array([scrm_m_loss_history.crm_loss for scrm_m_loss_history in histories])\n",
    "mean_scrm_m_losses = np.mean(scrm_m_losses, axis=0)\n",
    "\n",
    "scrm_m_online_losses = np.array([scrm_m_loss_history.online_loss for scrm_m_loss_history in histories])\n",
    "mean_scrm_m_online_losses = np.mean(scrm_m_online_losses, axis=0)"
   ]
  },
  {
   "cell_type": "markdown",
   "id": "65cc7dbf",
   "metadata": {},
   "source": [
    "## Sequential with past information"
   ]
  },
  {
   "cell_type": "markdown",
   "id": "2d4f52be",
   "metadata": {},
   "source": [
    "### Naive Multi IPS"
   ]
  },
  {
   "cell_type": "code",
   "execution_count": 223,
   "id": "9d315f0a",
   "metadata": {},
   "outputs": [],
   "source": [
    "### Utilities\n",
    "\n",
    "def get_all_data(logging_actions, logging_contexts, logging_losses, logging_propensities):\n",
    "    all_logging_actions = np.concatenate(logging_actions)\n",
    "    all_logging_contexts = np.concatenate(logging_contexts)\n",
    "    all_logging_losses = np.concatenate(logging_losses)\n",
    "    all_logging_propensities = np.concatenate(logging_propensities)\n",
    "    return all_logging_actions, all_logging_contexts, all_logging_losses, all_logging_propensities\n",
    "\n",
    "def update_past_data(data, samples):\n",
    "    return np.hstack([data, samples])"
   ]
  },
  {
   "cell_type": "code",
   "execution_count": 224,
   "id": "64d883c9",
   "metadata": {},
   "outputs": [
    {
     "name": "stderr",
     "output_type": "stream",
     "text": [
      "*** EXPERIMENT Naive MultiIPS SCRM Random seed: 0 Dataset: noisycircles ***\n",
      "< SCRM-NMIPS CRM loss: -0.98396 Online loss: -0.45682 |beta|=5.38 n=20 >\n",
      "< SCRM-NMIPS CRM loss: -0.81876 Online loss: -0.54782 |beta|=4.52 n=60 >\n",
      "< SCRM-NMIPS CRM loss: -0.83972 Online loss: -0.63984 |beta|=4.05 n=140 >\n",
      "< SCRM-NMIPS CRM loss: -0.71794 Online loss: -0.67971 |beta|=3.98 n=300 >\n",
      "< SCRM-NMIPS CRM loss: -0.66202 Online loss: -0.69463 |beta|=3.90 n=620 >\n",
      "< SCRM-NMIPS CRM loss: -0.65093 Online loss: -0.70257 |beta|=3.83 n=1260 >\n",
      "< SCRM-NMIPS CRM loss: -0.66239 Online loss: -0.71494 |beta|=3.87 n=2540 >\n",
      "< SCRM-NMIPS CRM loss: -0.67092 Online loss: -0.72069 |beta|=3.83 n=5100 >\n",
      "< SCRM-NMIPS CRM loss: -0.68134 Online loss: -0.72814 |beta|=3.77 n=10220 >\n",
      "< SCRM-NMIPS CRM loss: -0.68903 Online loss: -0.73421 |beta|=3.71 n=20460 >\n",
      "*** EXPERIMENT Naive MultiIPS SCRM Random seed: 1 Dataset: noisycircles ***\n",
      "< SCRM-NMIPS CRM loss: -2.07531 Online loss: -0.57272 |beta|=4.61 n=20 >\n",
      "< SCRM-NMIPS CRM loss: -1.14554 Online loss: -0.51920 |beta|=5.58 n=60 >\n",
      "< SCRM-NMIPS CRM loss: -0.72710 Online loss: -0.52094 |beta|=5.84 n=140 >\n",
      "< SCRM-NMIPS CRM loss: -0.61676 Online loss: -0.51571 |beta|=6.02 n=300 >\n",
      "< SCRM-NMIPS CRM loss: -0.57142 Online loss: -0.57569 |beta|=5.28 n=620 >\n",
      "< SCRM-NMIPS CRM loss: -0.55119 Online loss: -0.60028 |beta|=5.13 n=1260 >\n",
      "< SCRM-NMIPS CRM loss: -0.56285 Online loss: -0.63305 |beta|=4.86 n=2540 >\n",
      "< SCRM-NMIPS CRM loss: -0.57366 Online loss: -0.65005 |beta|=4.81 n=5100 >\n",
      "< SCRM-NMIPS CRM loss: -0.58966 Online loss: -0.66638 |beta|=4.73 n=10220 >\n",
      "< SCRM-NMIPS CRM loss: -0.61171 Online loss: -0.68281 |beta|=4.65 n=20460 >\n",
      "*** EXPERIMENT Naive MultiIPS SCRM Random seed: 2 Dataset: noisycircles ***\n",
      "< SCRM-NMIPS CRM loss: -0.33544 Online loss: -0.34964 |beta|=3.81 n=20 >\n",
      "< SCRM-NMIPS CRM loss: -0.90706 Online loss: -0.22864 |beta|=11.89 n=60 >\n",
      "< SCRM-NMIPS CRM loss: -0.46489 Online loss: -0.23540 |beta|=11.76 n=140 >\n",
      "< SCRM-NMIPS CRM loss: -0.37294 Online loss: -0.34393 |beta|=7.87 n=300 >\n",
      "< SCRM-NMIPS CRM loss: -0.39464 Online loss: -0.42936 |beta|=6.67 n=620 >\n",
      "< SCRM-NMIPS CRM loss: -0.39342 Online loss: -0.46553 |beta|=6.12 n=1260 >\n",
      "< SCRM-NMIPS CRM loss: -0.40859 Online loss: -0.50276 |beta|=5.68 n=2540 >\n",
      "< SCRM-NMIPS CRM loss: -0.44205 Online loss: -0.53500 |beta|=5.44 n=5100 >\n",
      "< SCRM-NMIPS CRM loss: -0.46817 Online loss: -0.54790 |beta|=5.33 n=10220 >\n",
      "< SCRM-NMIPS CRM loss: -0.48822 Online loss: -0.55887 |beta|=5.23 n=20460 >\n",
      "*** EXPERIMENT Naive MultiIPS SCRM Random seed: 3 Dataset: noisycircles ***\n",
      "< SCRM-NMIPS CRM loss: -1.12622 Online loss: -0.42903 |beta|=3.28 n=20 >\n",
      "< SCRM-NMIPS CRM loss: -0.64157 Online loss: -0.39844 |beta|=4.21 n=60 >\n",
      "< SCRM-NMIPS CRM loss: -0.59626 Online loss: -0.38609 |beta|=3.63 n=140 >\n",
      "< SCRM-NMIPS CRM loss: -0.55834 Online loss: -0.42716 |beta|=2.50 n=300 >\n",
      "< SCRM-NMIPS CRM loss: -0.51363 Online loss: -0.49198 |beta|=2.03 n=620 >\n",
      "< SCRM-NMIPS CRM loss: -0.49672 Online loss: -0.53383 |beta|=1.74 n=1260 >\n",
      "< SCRM-NMIPS CRM loss: -0.49379 Online loss: -0.55267 |beta|=1.65 n=2540 >\n",
      "< SCRM-NMIPS CRM loss: -0.50761 Online loss: -0.58173 |beta|=1.52 n=5100 >\n",
      "< SCRM-NMIPS CRM loss: -0.52783 Online loss: -0.59215 |beta|=1.47 n=10220 >\n",
      "< SCRM-NMIPS CRM loss: -0.54349 Online loss: -0.60418 |beta|=1.48 n=20460 >\n",
      "*** EXPERIMENT Naive MultiIPS SCRM Random seed: 4 Dataset: noisycircles ***\n",
      "< SCRM-NMIPS CRM loss: -1.52556 Online loss: -0.58300 |beta|=2.58 n=20 >\n",
      "< SCRM-NMIPS CRM loss: -0.89690 Online loss: -0.60929 |beta|=2.46 n=60 >\n",
      "< SCRM-NMIPS CRM loss: -0.76399 Online loss: -0.67336 |beta|=2.06 n=140 >\n",
      "< SCRM-NMIPS CRM loss: -0.71565 Online loss: -0.65122 |beta|=2.15 n=300 >\n",
      "< SCRM-NMIPS CRM loss: -0.69015 Online loss: -0.67995 |beta|=2.26 n=620 >\n",
      "< SCRM-NMIPS CRM loss: -0.67842 Online loss: -0.69050 |beta|=2.25 n=1260 >\n",
      "< SCRM-NMIPS CRM loss: -0.66544 Online loss: -0.69707 |beta|=2.28 n=2540 >\n",
      "< SCRM-NMIPS CRM loss: -0.66993 Online loss: -0.70264 |beta|=2.31 n=5100 >\n",
      "< SCRM-NMIPS CRM loss: -0.67351 Online loss: -0.71087 |beta|=2.33 n=10220 >\n",
      "< SCRM-NMIPS CRM loss: -0.68182 Online loss: -0.72105 |beta|=2.38 n=20460 >\n",
      "*** EXPERIMENT Naive MultiIPS SCRM Random seed: 5 Dataset: noisycircles ***\n",
      "< SCRM-NMIPS CRM loss: -0.26117 Online loss: -0.31715 |beta|=3.15 n=20 >\n",
      "< SCRM-NMIPS CRM loss: -0.59431 Online loss: -0.52009 |beta|=2.42 n=60 >\n",
      "< SCRM-NMIPS CRM loss: -0.55355 Online loss: -0.54824 |beta|=2.51 n=140 >\n",
      "< SCRM-NMIPS CRM loss: -0.58514 Online loss: -0.60530 |beta|=2.21 n=300 >\n",
      "< SCRM-NMIPS CRM loss: -0.57910 Online loss: -0.61244 |beta|=2.25 n=620 >\n",
      "< SCRM-NMIPS CRM loss: -0.58947 Online loss: -0.63493 |beta|=2.29 n=1260 >\n",
      "< SCRM-NMIPS CRM loss: -0.60394 Online loss: -0.65896 |beta|=2.27 n=2540 >\n",
      "< SCRM-NMIPS CRM loss: -0.61669 Online loss: -0.66941 |beta|=2.29 n=5100 >\n",
      "< SCRM-NMIPS CRM loss: -0.62786 Online loss: -0.68300 |beta|=2.33 n=10220 >\n",
      "< SCRM-NMIPS CRM loss: -0.64214 Online loss: -0.69304 |beta|=2.36 n=20460 >\n",
      "*** EXPERIMENT Naive MultiIPS SCRM Random seed: 6 Dataset: noisycircles ***\n",
      "< SCRM-NMIPS CRM loss: -1.22039 Online loss: -0.31018 |beta|=8.37 n=20 >\n",
      "< SCRM-NMIPS CRM loss: -0.88734 Online loss: -0.13714 |beta|=11.58 n=60 >\n",
      "< SCRM-NMIPS CRM loss: -0.42734 Online loss: -0.16345 |beta|=11.69 n=140 >\n",
      "< SCRM-NMIPS CRM loss: -0.24512 Online loss: -0.17133 |beta|=11.54 n=300 >\n",
      "< SCRM-NMIPS CRM loss: -0.21930 Online loss: -0.20729 |beta|=9.95 n=620 >\n",
      "< SCRM-NMIPS CRM loss: -0.20511 Online loss: -0.25794 |beta|=8.51 n=1260 >\n",
      "< SCRM-NMIPS CRM loss: -0.22455 Online loss: -0.31460 |beta|=7.39 n=2540 >\n",
      "< SCRM-NMIPS CRM loss: -0.25228 Online loss: -0.33463 |beta|=7.03 n=5100 >\n",
      "< SCRM-NMIPS CRM loss: -0.27241 Online loss: -0.35043 |beta|=6.80 n=10220 >\n",
      "< SCRM-NMIPS CRM loss: -0.29310 Online loss: -0.36811 |beta|=6.62 n=20460 >\n",
      "*** EXPERIMENT Naive MultiIPS SCRM Random seed: 7 Dataset: noisycircles ***\n",
      "< SCRM-NMIPS CRM loss: -1.01323 Online loss: -0.59404 |beta|=2.71 n=20 >\n",
      "< SCRM-NMIPS CRM loss: -0.72450 Online loss: -0.62725 |beta|=2.60 n=60 >\n",
      "< SCRM-NMIPS CRM loss: -0.72966 Online loss: -0.64062 |beta|=2.62 n=140 >\n",
      "< SCRM-NMIPS CRM loss: -0.65940 Online loss: -0.64119 |beta|=2.67 n=300 >\n",
      "< SCRM-NMIPS CRM loss: -0.63117 Online loss: -0.65172 |beta|=2.59 n=620 >\n",
      "< SCRM-NMIPS CRM loss: -0.62833 Online loss: -0.67000 |beta|=2.60 n=1260 >\n",
      "< SCRM-NMIPS CRM loss: -0.63418 Online loss: -0.67385 |beta|=2.61 n=2540 >\n",
      "< SCRM-NMIPS CRM loss: -0.64250 Online loss: -0.69062 |beta|=2.65 n=5100 >\n",
      "< SCRM-NMIPS CRM loss: -0.64955 Online loss: -0.69596 |beta|=2.67 n=10220 >\n",
      "< SCRM-NMIPS CRM loss: -0.65961 Online loss: -0.70351 |beta|=2.70 n=20460 >\n",
      "*** EXPERIMENT Naive MultiIPS SCRM Random seed: 8 Dataset: noisycircles ***\n",
      "< SCRM-NMIPS CRM loss: -0.83695 Online loss: -0.21080 |beta|=5.28 n=20 >\n",
      "< SCRM-NMIPS CRM loss: -0.75835 Online loss: -0.40812 |beta|=5.11 n=60 >\n",
      "< SCRM-NMIPS CRM loss: -0.50569 Online loss: -0.42860 |beta|=5.17 n=140 >\n",
      "< SCRM-NMIPS CRM loss: -0.50751 Online loss: -0.44850 |beta|=5.18 n=300 >\n",
      "< SCRM-NMIPS CRM loss: -0.46438 Online loss: -0.51040 |beta|=4.87 n=620 >\n",
      "< SCRM-NMIPS CRM loss: -0.51849 Online loss: -0.58539 |beta|=4.65 n=1260 >\n",
      "< SCRM-NMIPS CRM loss: -0.53542 Online loss: -0.63007 |beta|=4.59 n=2540 >\n",
      "< SCRM-NMIPS CRM loss: -0.56150 Online loss: -0.66125 |beta|=4.58 n=5100 >\n",
      "< SCRM-NMIPS CRM loss: -0.59256 Online loss: -0.67946 |beta|=4.57 n=10220 >\n",
      "< SCRM-NMIPS CRM loss: -0.61791 Online loss: -0.69530 |beta|=4.57 n=20460 >\n",
      "*** EXPERIMENT Naive MultiIPS SCRM Random seed: 9 Dataset: noisycircles ***\n",
      "< SCRM-NMIPS CRM loss: -0.93140 Online loss: -0.38981 |beta|=5.03 n=20 >\n",
      "< SCRM-NMIPS CRM loss: -0.56022 Online loss: -0.39338 |beta|=4.94 n=60 >\n",
      "< SCRM-NMIPS CRM loss: -0.54693 Online loss: -0.37733 |beta|=4.85 n=140 >\n",
      "< SCRM-NMIPS CRM loss: -0.46143 Online loss: -0.42052 |beta|=4.09 n=300 >\n",
      "< SCRM-NMIPS CRM loss: -0.44401 Online loss: -0.49061 |beta|=3.14 n=620 >\n",
      "< SCRM-NMIPS CRM loss: -0.49351 Online loss: -0.57090 |beta|=2.69 n=1260 >\n",
      "< SCRM-NMIPS CRM loss: -0.51056 Online loss: -0.59965 |beta|=2.52 n=2540 >\n",
      "< SCRM-NMIPS CRM loss: -0.53683 Online loss: -0.62550 |beta|=2.44 n=5100 >\n",
      "< SCRM-NMIPS CRM loss: -0.56472 Online loss: -0.63886 |beta|=2.40 n=10220 >\n",
      "< SCRM-NMIPS CRM loss: -0.58301 Online loss: -0.64684 |beta|=2.35 n=20460 >\n"
     ]
    }
   ],
   "source": [
    "histories = []\n",
    "\n",
    "def scrm_nmips_experiment(random_seed, dataset_name, settings):\n",
    "\n",
    "    dataset = get_dataset_by_name(dataset_name, random_seed)\n",
    "    start_experiment(random_seed, dataset, 'Naive MultiIPS SCRM')\n",
    "    \n",
    "    # Model setting\n",
    "    contextual_modelling = Model(settings['contextual_modelling'], random_seed)\n",
    "    estimator = Estimator(contextual_modelling, 'conservative', settings['lambda'])\n",
    "    scrm_nmips_loss_history = LossHistory(\"SCRM-NMIPS\")\n",
    "    \n",
    "    n_samples = 10\n",
    "    \n",
    "    # Logging data\n",
    "    mu = contextual_modelling.create_start_parameter(dataset)\n",
    "    logging_data = get_logging_data(n_samples, dataset, random_seed)\n",
    "    rng = np.random.RandomState(random_seed)\n",
    "    \n",
    "    # Setting\n",
    "    all_actions, all_contexts, all_losses, all_propensities = logging_data\n",
    "\n",
    "    for m in range(M):\n",
    "\n",
    "        ### Logging data with mixture propensities\n",
    "        logging_data = all_actions, all_contexts, all_losses, all_propensities\n",
    "\n",
    "        # Optimization \n",
    "        init_parameter = jnp.array(mu, dtype='float32')\n",
    "        args = logging_data\n",
    "        optimized_mu, loss_crm = optimize(estimator.objective_function, init_parameter, args)        \n",
    "        \n",
    "        ### New logging data\n",
    "        n_samples *= 2\n",
    "        mu = optimized_mu._value\n",
    "        loss_crm = loss_crm._value\n",
    "        \n",
    "        contexts, potentials = dataset.sample_data(n_samples)\n",
    "        contextual_param, _ = contextual_modelling.get_parameter(mu, contexts)\n",
    "        actions = rng.normal(contextual_param, logging_scale, n_samples)\n",
    "        losses = dataset.get_losses_from_actions(potentials, actions)\n",
    "        propensities = norm(loc=contextual_param, scale=logging_scale).pdf(actions)\n",
    "        logging_data = actions, contexts, losses, propensities\n",
    "        \n",
    "        ## Record \n",
    "        online_loss, _ = online_evaluation(mu, contextual_modelling, dataset, random_seed)\n",
    "        scrm_nmips_loss_history.update(optimized_mu, online_loss, loss_crm, n_samples)\n",
    "        scrm_nmips_loss_history.show_last()\n",
    "        \n",
    "        all_actions = update_past_data(all_actions, actions)\n",
    "        all_contexts = np.vstack([all_contexts, contexts])\n",
    "        all_losses = update_past_data(all_losses, losses)\n",
    "        all_propensities = update_past_data(all_propensities, propensities)\n",
    "        \n",
    "    return scrm_nmips_loss_history\n",
    "\n",
    "for random_seed in range(10):\n",
    "    scrm_nmips_loss_history = scrm_nmips_experiment(random_seed, dataset_name, settings)\n",
    "    histories.append(scrm_nmips_loss_history)\n",
    "        "
   ]
  },
  {
   "cell_type": "code",
   "execution_count": 225,
   "id": "deb4a3b3",
   "metadata": {},
   "outputs": [],
   "source": [
    "scrm_nmips_losses = np.array([scrm_nmips_loss_history.crm_loss for scrm_nmips_loss_history in histories])\n",
    "mean_scrm_nmips_losses = np.nanmean(scrm_nmips_losses, axis=0)\n",
    "\n",
    "scrm_nmips_online_losses = np.array([scrm_nmips_loss_history.online_loss for scrm_nmips_loss_history in histories])\n",
    "mean_scrm_nmips_online_losses = np.nanmean(scrm_nmips_online_losses, axis=0)"
   ]
  },
  {
   "cell_type": "markdown",
   "id": "1d922a55",
   "metadata": {},
   "source": [
    "### Multi data "
   ]
  },
  {
   "cell_type": "code",
   "execution_count": 226,
   "id": "c52556db",
   "metadata": {},
   "outputs": [],
   "source": [
    "### Multiple IPS\n",
    "\n",
    "def get_omega_weights(params, all_actions, all_contexts, all_propensities):\n",
    "    distributions = []\n",
    "    for param in params:\n",
    "        contextual_param, _ = linear_modelling(param, all_contexts)\n",
    "        distributions.append(norm(loc=contextual_param, scale=logging_scale).pdf)\n",
    "    pi_t = np.array([distribution(all_actions) for distribution in distributions])\n",
    "    n_pi_t = n_samples * pi_t\n",
    "    sum_n_pi_t = np.sum(n_pi_t, axis=0)\n",
    "    all_omegas = all_propensities / sum_n_pi_t\n",
    "    return all_omegas\n",
    "\n",
    "def multi_ips_mean(param, all_actions, all_contexts, all_losses, all_propensities, all_omegas):\n",
    "    \n",
    "    # Importance weights\n",
    "    contextual_param, _ = linear_modelling(param, all_contexts)\n",
    "    importance_weights = pdf(contextual_param, all_actions)/all_propensities\n",
    "    all_importance_weights = pdf(contextual_param, all_actions)/all_propensities\n",
    "    \n",
    "    # Omega weight\n",
    "    return np.sum(all_omegas * all_losses * all_importance_weights)\n",
    "\n",
    "class MixtureEstimator():\n",
    "    def __init__(self, contextual_modelling, mode='conservative', lbd=0.1):\n",
    "        self.contextual_modelling = contextual_modelling\n",
    "        self.mode = mode\n",
    "        bonus = 1 if self.mode == 'conservative' else -1\n",
    "        self.lbd = bonus * lbd\n",
    "        self.params = []\n",
    "        self.rollouts_n_samples = []\n",
    "        \n",
    "    def get_mixture_logging_propensities(self, all_policy_samples, all_contexts):\n",
    "        distributions = []\n",
    "\n",
    "        for param in self.params:\n",
    "            contextual_param, _ = self.contextual_modelling.get_parameter(param, all_contexts)\n",
    "            distributions.append(norm(loc=contextual_param, scale=logging_scale).pdf)\n",
    "        pi_t = np.array([distribution(all_policy_samples) for distribution in distributions])\n",
    "        alpha_t = self.rollouts_n_samples/ np.sum(self.rollouts_n_samples)\n",
    "        mixture_logging_propensities = np.sum(alpha_t * pi_t, axis=0)\n",
    "        return mixture_logging_propensities\n",
    "        \n",
    "    def objective_function(self, param, actions, contexts, losses, mixture_propensities):\n",
    "        contextual_param, _ = self.contextual_modelling.get_parameter(param, contexts)\n",
    "        mixture_propensities = jnp.clip(mixture_propensities, 1e-5, None)\n",
    "        mixture_importance_weights = pdf(contextual_param, actions)/mixture_propensities\n",
    "        mixture_mean = jnp.mean(losses * mixture_importance_weights)\n",
    "        mixture_std = jnp.sqrt(jnp.sum(jnp.cov(losses * mixture_importance_weights)))\n",
    "        return mixture_mean + self.lbd * mixture_std\n",
    "    \n",
    "    def update(self, param, rollout_n_samples):\n",
    "        self.params.append(param)\n",
    "        self.rollouts_n_samples = np.concatenate([self.rollouts_n_samples, [[rollout_n_samples]]], axis=0)\n",
    "\n"
   ]
  },
  {
   "cell_type": "code",
   "execution_count": 227,
   "id": "f54d4424",
   "metadata": {
    "scrolled": false
   },
   "outputs": [
    {
     "name": "stderr",
     "output_type": "stream",
     "text": [
      "*** EXPERIMENT Mixture MultiIPS SCRM Random seed: 0 Dataset: noisycircles ***\n",
      "< SCRM-MMIPS CRM loss: -25464.83398 Online loss: -0.60951 |beta|=2.62 n=20 >\n",
      "< SCRM-MMIPS CRM loss: -413.25653 Online loss: -0.59951 |beta|=2.55 n=60 >\n",
      "< SCRM-MMIPS CRM loss: -0.81466 Online loss: -0.68240 |beta|=2.54 n=140 >\n",
      "< SCRM-MMIPS CRM loss: -0.76723 Online loss: -0.71915 |beta|=2.77 n=300 >\n",
      "< SCRM-MMIPS CRM loss: -0.71296 Online loss: -0.72183 |beta|=2.84 n=620 >\n",
      "< SCRM-MMIPS CRM loss: -0.69434 Online loss: -0.71608 |beta|=2.84 n=1260 >\n",
      "< SCRM-MMIPS CRM loss: -0.69930 Online loss: -0.72516 |beta|=2.90 n=2540 >\n",
      "< SCRM-MMIPS CRM loss: -0.70357 Online loss: -0.72791 |beta|=2.92 n=5100 >\n",
      "< SCRM-MMIPS CRM loss: -0.70202 Online loss: -0.73113 |beta|=2.94 n=10220 >\n",
      "< SCRM-MMIPS CRM loss: -0.70392 Online loss: -0.73371 |beta|=2.94 n=20460 >\n",
      "*** EXPERIMENT Mixture MultiIPS SCRM Random seed: 1 Dataset: noisycircles ***\n",
      "< SCRM-MMIPS CRM loss: -5748.55078 Online loss: -0.16072 |beta|=4.98 n=20 >\n",
      "< SCRM-MMIPS CRM loss: -0.22962 Online loss: -0.17475 |beta|=4.96 n=60 >\n",
      "< SCRM-MMIPS CRM loss: -0.14187 Online loss: -0.20511 |beta|=4.87 n=140 >\n",
      "< SCRM-MMIPS CRM loss: -0.17328 Online loss: -0.23727 |beta|=4.83 n=300 >\n",
      "< SCRM-MMIPS CRM loss: -0.24506 Online loss: -0.39243 |beta|=4.31 n=620 >\n",
      "< SCRM-MMIPS CRM loss: -0.40607 Online loss: -0.54601 |beta|=4.37 n=1260 >\n",
      "< SCRM-MMIPS CRM loss: -0.53591 Online loss: -0.60993 |beta|=4.37 n=2540 >\n",
      "< SCRM-MMIPS CRM loss: -0.59403 Online loss: -0.67220 |beta|=4.34 n=5100 >\n",
      "< SCRM-MMIPS CRM loss: -0.62788 Online loss: -0.70206 |beta|=4.32 n=10220 >\n",
      "< SCRM-MMIPS CRM loss: -0.66389 Online loss: -0.72491 |beta|=4.28 n=20460 >\n",
      "*** EXPERIMENT Mixture MultiIPS SCRM Random seed: 2 Dataset: noisycircles ***\n",
      "< SCRM-MMIPS CRM loss: -49.18230 Online loss: -0.11378 |beta|=6.91 n=20 >\n",
      "< SCRM-MMIPS CRM loss: -1026.84875 Online loss: -0.23617 |beta|=6.59 n=60 >\n",
      "< SCRM-MMIPS CRM loss: -1690.40796 Online loss: -0.43266 |beta|=7.86 n=140 >\n",
      "< SCRM-MMIPS CRM loss: -1.23957 Online loss: -0.69147 |beta|=3.12 n=300 >\n",
      "< SCRM-MMIPS CRM loss: -0.69314 Online loss: -0.72225 |beta|=3.25 n=620 >\n",
      "< SCRM-MMIPS CRM loss: -0.68743 Online loss: -0.73345 |beta|=3.26 n=1260 >\n",
      "< SCRM-MMIPS CRM loss: -0.69692 Online loss: -0.73718 |beta|=3.28 n=2540 >\n",
      "< SCRM-MMIPS CRM loss: -0.70847 Online loss: -0.74470 |beta|=3.36 n=5100 >\n",
      "< SCRM-MMIPS CRM loss: -0.71486 Online loss: -0.75389 |beta|=3.38 n=10220 >\n",
      "< SCRM-MMIPS CRM loss: -0.72270 Online loss: -0.75883 |beta|=3.37 n=20460 >\n",
      "*** EXPERIMENT Mixture MultiIPS SCRM Random seed: 3 Dataset: noisycircles ***\n",
      "< SCRM-MMIPS CRM loss: -4024.98828 Online loss: -0.40340 |beta|=3.55 n=20 >\n",
      "< SCRM-MMIPS CRM loss: -0.39657 Online loss: -0.45359 |beta|=2.95 n=60 >\n",
      "< SCRM-MMIPS CRM loss: -0.89505 Online loss: -0.61363 |beta|=2.39 n=140 >\n",
      "< SCRM-MMIPS CRM loss: -0.63101 Online loss: -0.61941 |beta|=2.35 n=300 >\n",
      "< SCRM-MMIPS CRM loss: -0.62383 Online loss: -0.64804 |beta|=2.32 n=620 >\n",
      "< SCRM-MMIPS CRM loss: -0.63049 Online loss: -0.67773 |beta|=2.44 n=1260 >\n",
      "< SCRM-MMIPS CRM loss: -0.63614 Online loss: -0.68936 |beta|=2.43 n=2540 >\n",
      "< SCRM-MMIPS CRM loss: -0.65355 Online loss: -0.70793 |beta|=2.46 n=5100 >\n",
      "< SCRM-MMIPS CRM loss: -0.67588 Online loss: -0.72203 |beta|=2.48 n=10220 >\n",
      "< SCRM-MMIPS CRM loss: -0.69107 Online loss: -0.73075 |beta|=2.50 n=20460 >\n",
      "*** EXPERIMENT Mixture MultiIPS SCRM Random seed: 4 Dataset: noisycircles ***\n",
      "< SCRM-MMIPS CRM loss: -27806.42188 Online loss: -0.58288 |beta|=2.59 n=20 >\n",
      "< SCRM-MMIPS CRM loss: -921.54346 Online loss: -0.72731 |beta|=2.50 n=60 >\n",
      "< SCRM-MMIPS CRM loss: -0.83463 Online loss: -0.70968 |beta|=2.35 n=140 >\n",
      "< SCRM-MMIPS CRM loss: -0.72487 Online loss: -0.70337 |beta|=2.40 n=300 >\n",
      "< SCRM-MMIPS CRM loss: -0.70481 Online loss: -0.72313 |beta|=2.56 n=620 >\n",
      "< SCRM-MMIPS CRM loss: -0.71275 Online loss: -0.72733 |beta|=2.55 n=1260 >\n",
      "< SCRM-MMIPS CRM loss: -0.70533 Online loss: -0.72782 |beta|=2.56 n=2540 >\n",
      "< SCRM-MMIPS CRM loss: -0.70661 Online loss: -0.73253 |beta|=2.58 n=5100 >\n",
      "< SCRM-MMIPS CRM loss: -0.70748 Online loss: -0.73757 |beta|=2.59 n=10220 >\n",
      "< SCRM-MMIPS CRM loss: -0.71377 Online loss: -0.74510 |beta|=2.64 n=20460 >\n",
      "*** EXPERIMENT Mixture MultiIPS SCRM Random seed: 5 Dataset: noisycircles ***\n",
      "< SCRM-MMIPS CRM loss: -3837.15991 Online loss: -0.37699 |beta|=3.22 n=20 >\n",
      "< SCRM-MMIPS CRM loss: -6852.96875 Online loss: -0.30170 |beta|=4.12 n=60 >\n",
      "< SCRM-MMIPS CRM loss: -0.80708 Online loss: -0.66765 |beta|=3.46 n=140 >\n",
      "< SCRM-MMIPS CRM loss: -0.70281 Online loss: -0.71592 |beta|=3.04 n=300 >\n",
      "< SCRM-MMIPS CRM loss: -0.69035 Online loss: -0.71204 |beta|=3.12 n=620 >\n",
      "< SCRM-MMIPS CRM loss: -0.69374 Online loss: -0.72046 |beta|=3.07 n=1260 >\n",
      "< SCRM-MMIPS CRM loss: -0.69658 Online loss: -0.72719 |beta|=3.04 n=2540 >\n",
      "< SCRM-MMIPS CRM loss: -0.69738 Online loss: -0.73179 |beta|=3.03 n=5100 >\n",
      "< SCRM-MMIPS CRM loss: -0.70048 Online loss: -0.73826 |beta|=3.03 n=10220 >\n",
      "< SCRM-MMIPS CRM loss: -0.70674 Online loss: -0.74116 |beta|=3.03 n=20460 >\n",
      "*** EXPERIMENT Mixture MultiIPS SCRM Random seed: 6 Dataset: noisycircles ***\n",
      "< SCRM-MMIPS CRM loss: -20946.90234 Online loss: -0.50931 |beta|=4.17 n=20 >\n",
      "< SCRM-MMIPS CRM loss: -407.91229 Online loss: -0.58132 |beta|=4.13 n=60 >\n",
      "< SCRM-MMIPS CRM loss: -238.91154 Online loss: -0.48094 |beta|=4.55 n=140 >\n",
      "< SCRM-MMIPS CRM loss: -0.76467 Online loss: -0.69890 |beta|=4.78 n=300 >\n",
      "< SCRM-MMIPS CRM loss: -0.74308 Online loss: -0.69844 |beta|=4.25 n=620 >\n",
      "< SCRM-MMIPS CRM loss: -0.70506 Online loss: -0.72402 |beta|=4.31 n=1260 >\n",
      "< SCRM-MMIPS CRM loss: -0.70499 Online loss: -0.72700 |beta|=4.32 n=2540 >\n",
      "< SCRM-MMIPS CRM loss: -0.70569 Online loss: -0.73335 |beta|=4.30 n=5100 >\n",
      "< SCRM-MMIPS CRM loss: -0.71062 Online loss: -0.73994 |beta|=4.23 n=10220 >\n",
      "< SCRM-MMIPS CRM loss: -0.71191 Online loss: -0.74534 |beta|=4.21 n=20460 >\n",
      "*** EXPERIMENT Mixture MultiIPS SCRM Random seed: 7 Dataset: noisycircles ***\n",
      "< SCRM-MMIPS CRM loss: -36.30554 Online loss: -0.54532 |beta|=2.56 n=20 >\n",
      "< SCRM-MMIPS CRM loss: -0.63616 Online loss: -0.58788 |beta|=2.31 n=60 >\n",
      "< SCRM-MMIPS CRM loss: -0.63334 Online loss: -0.61527 |beta|=2.42 n=140 >\n",
      "< SCRM-MMIPS CRM loss: -0.59736 Online loss: -0.63576 |beta|=2.41 n=300 >\n",
      "< SCRM-MMIPS CRM loss: -0.59844 Online loss: -0.64374 |beta|=2.43 n=620 >\n",
      "< SCRM-MMIPS CRM loss: -0.60186 Online loss: -0.65152 |beta|=2.43 n=1260 >\n",
      "< SCRM-MMIPS CRM loss: -0.61608 Online loss: -0.65971 |beta|=2.40 n=2540 >\n",
      "< SCRM-MMIPS CRM loss: -0.62793 Online loss: -0.67422 |beta|=2.45 n=5100 >\n",
      "< SCRM-MMIPS CRM loss: -0.64074 Online loss: -0.68346 |beta|=2.49 n=10220 >\n",
      "< SCRM-MMIPS CRM loss: -0.65314 Online loss: -0.69298 |beta|=2.53 n=20460 >\n",
      "*** EXPERIMENT Mixture MultiIPS SCRM Random seed: 8 Dataset: noisycircles ***\n",
      "< SCRM-MMIPS CRM loss: -21746.27734 Online loss: -0.38025 |beta|=5.50 n=20 >\n",
      "< SCRM-MMIPS CRM loss: -461.38977 Online loss: -0.38279 |beta|=5.39 n=60 >\n",
      "< SCRM-MMIPS CRM loss: -18.01729 Online loss: -0.62084 |beta|=4.92 n=140 >\n",
      "< SCRM-MMIPS CRM loss: -0.61839 Online loss: -0.67797 |beta|=4.97 n=300 >\n",
      "< SCRM-MMIPS CRM loss: -0.65362 Online loss: -0.71550 |beta|=4.95 n=620 >\n",
      "< SCRM-MMIPS CRM loss: -0.71542 Online loss: -0.74622 |beta|=4.90 n=1260 >\n",
      "< SCRM-MMIPS CRM loss: -0.70673 Online loss: -0.75302 |beta|=4.91 n=2540 >\n",
      "< SCRM-MMIPS CRM loss: -0.71883 Online loss: -0.75735 |beta|=4.93 n=5100 >\n",
      "< SCRM-MMIPS CRM loss: -0.72561 Online loss: -0.76027 |beta|=4.94 n=10220 >\n",
      "< SCRM-MMIPS CRM loss: -0.72813 Online loss: -0.76229 |beta|=4.95 n=20460 >\n",
      "*** EXPERIMENT Mixture MultiIPS SCRM Random seed: 9 Dataset: noisycircles ***\n",
      "< SCRM-MMIPS CRM loss: -19123.31445 Online loss: -0.49719 |beta|=3.57 n=20 >\n",
      "< SCRM-MMIPS CRM loss: -1390.15759 Online loss: -0.43240 |beta|=2.72 n=60 >\n",
      "< SCRM-MMIPS CRM loss: -64.12469 Online loss: -0.63668 |beta|=2.12 n=140 >\n",
      "< SCRM-MMIPS CRM loss: -0.64059 Online loss: -0.66037 |beta|=1.98 n=300 >\n",
      "< SCRM-MMIPS CRM loss: -0.66021 Online loss: -0.67197 |beta|=1.80 n=620 >\n",
      "< SCRM-MMIPS CRM loss: -0.66871 Online loss: -0.68696 |beta|=1.88 n=1260 >\n",
      "< SCRM-MMIPS CRM loss: -0.66439 Online loss: -0.69628 |beta|=1.89 n=2540 >\n",
      "< SCRM-MMIPS CRM loss: -0.67210 Online loss: -0.71016 |beta|=2.00 n=5100 >\n",
      "< SCRM-MMIPS CRM loss: -0.68593 Online loss: -0.72053 |beta|=2.08 n=10220 >\n"
     ]
    },
    {
     "name": "stderr",
     "output_type": "stream",
     "text": [
      "< SCRM-MMIPS CRM loss: -0.69353 Online loss: -0.72587 |beta|=2.12 n=20460 >\n"
     ]
    }
   ],
   "source": [
    "histories = []\n",
    "\n",
    "def scrm_mixture_mips_experiment(random_seed, dataset_name, settings):\n",
    "\n",
    "    dataset = get_dataset_by_name(dataset_name, random_seed)\n",
    "    start_experiment(random_seed, dataset, 'Mixture MultiIPS SCRM')\n",
    "    \n",
    "    # Model setting\n",
    "    contextual_modelling = Model(settings['contextual_modelling'], random_seed)\n",
    "    estimator = MixtureEstimator(contextual_modelling, 'conservative', settings['lambda'])\n",
    "    scrm_mmips_loss_history = LossHistory(\"SCRM-MMIPS\")\n",
    "    \n",
    "    n_samples = 10\n",
    "    \n",
    "    # Logging data\n",
    "    mu = contextual_modelling.create_start_parameter(dataset)\n",
    "    logging_data = get_logging_data(n_samples, dataset, random_seed)\n",
    "    rng = np.random.RandomState(random_seed)\n",
    "    \n",
    "    # Setting\n",
    "    estimator.params.append(mu)\n",
    "    estimator.rollouts_n_samples = np.array([[n_samples]])\n",
    "    all_actions, all_contexts, all_losses, all_propensities = logging_data\n",
    "\n",
    "    for m in range(M):\n",
    "\n",
    "        mixture_logging_propensities = estimator.get_mixture_logging_propensities(all_actions, all_contexts)\n",
    "\n",
    "        ### Logging data with mixture propensities\n",
    "        logging_data = all_actions, all_contexts, all_losses, mixture_logging_propensities\n",
    "\n",
    "        # Optimization \n",
    "        init_parameter = jnp.array(mu, dtype='float32')\n",
    "        args = logging_data\n",
    "        optimized_mu, loss_crm = optimize(estimator.objective_function, init_parameter, args)        \n",
    "        \n",
    "        ### New logging data\n",
    "        n_samples *= 2\n",
    "        mu = optimized_mu._value\n",
    "        loss_crm = loss_crm._value\n",
    "        estimator.update(optimized_mu, n_samples)\n",
    "        \n",
    "        contexts, potentials = dataset.sample_data(n_samples)\n",
    "        contextual_param, _ = contextual_modelling.get_parameter(mu, contexts)\n",
    "        actions = rng.normal(contextual_param, logging_scale, n_samples)\n",
    "        losses = dataset.get_losses_from_actions(potentials, actions)\n",
    "        propensities = norm(loc=contextual_param, scale=logging_scale).pdf(actions)\n",
    "        logging_data = actions, contexts, losses, propensities\n",
    "        \n",
    "        ## Record \n",
    "        online_loss, _ = online_evaluation(mu, contextual_modelling, dataset, random_seed)\n",
    "        scrm_mmips_loss_history.update(optimized_mu, online_loss, loss_crm, n_samples)\n",
    "        scrm_mmips_loss_history.show_last()\n",
    "        \n",
    "        all_actions = update_past_data(all_actions, actions)\n",
    "        all_contexts = np.vstack([all_contexts, contexts])\n",
    "        all_losses = update_past_data(all_losses, losses)\n",
    "        all_propensities = update_past_data(all_propensities, propensities)\n",
    "        \n",
    "    return scrm_mmips_loss_history\n",
    "\n",
    "for random_seed in range(10):\n",
    "    scrm_mmips_loss_history = scrm_mixture_mips_experiment(random_seed, dataset_name, settings)\n",
    "    histories.append(scrm_mmips_loss_history)\n",
    "        \n"
   ]
  },
  {
   "cell_type": "code",
   "execution_count": 231,
   "id": "939738f0",
   "metadata": {},
   "outputs": [],
   "source": [
    "scrm_mmips_losses = np.array([scrm_mmips_loss_history.crm_loss for scrm_mmips_loss_history in histories])\n",
    "mean_scrm_mmips_losses = np.nanmean(scrm_mmips_losses, axis=0)\n",
    "\n",
    "scrm_mmips_online_losses = np.array([scrm_mmips_loss_history.online_loss for scrm_mmips_loss_history in histories])\n",
    "mean_scrm_mmips_online_losses = np.nanmean(scrm_mmips_online_losses, axis=0)"
   ]
  },
  {
   "cell_type": "markdown",
   "id": "dcdf18b8",
   "metadata": {},
   "source": [
    "### Plot results"
   ]
  },
  {
   "cell_type": "code",
   "execution_count": 232,
   "id": "cf82244d",
   "metadata": {},
   "outputs": [],
   "source": [
    "single_crm_loss_ = single_crm_loss * np.ones_like(mean_scrm_m_losses)\n",
    "single_online_loss_ = single_online_loss * np.ones_like(mean_scrm_m_losses)"
   ]
  },
  {
   "cell_type": "code",
   "execution_count": 233,
   "id": "6099f057",
   "metadata": {},
   "outputs": [
    {
     "data": {
      "text/plain": [
       "<matplotlib.legend.Legend at 0x7ff91abb2f10>"
      ]
     },
     "execution_count": 233,
     "metadata": {},
     "output_type": "execute_result"
    },
    {
     "data": {
      "image/png": "[encoded data removed]",
      "text/plain": [
       "<Figure size 1296x432 with 2 Axes>"
      ]
     },
     "metadata": {},
     "output_type": "display_data"
    }
   ],
   "source": [
    "fig, (ax, ax2) = plt.subplots(1, 2, figsize=(18, 6))\n",
    "plt.title('Loss Evolution over Rollouts')\n",
    "ax.set_xlabel('Rollouts')\n",
    "ax.set_ylabel('CRM Loss')\n",
    "ax.plot(single_crm_loss_, '--', label='CRM')\n",
    "ax.plot(mean_scrm_m_losses, '--', label='SCRM-M')\n",
    "ax.plot(mean_scrm_nmips_losses, '--', label='SCRM-NMIPS')\n",
    "ax.plot(mean_scrm_mmips_losses, '--', label='SCRM-MMIPS')\n",
    "ax.set_ylim(-0.8, -0.4)\n",
    "ax.legend(loc='upper right')\n",
    "\n",
    "ax2.plot(single_online_loss_, '-', label='CRM')\n",
    "ax2.plot(mean_scrm_m_online_losses, '-.', label='SCRM-M')\n",
    "ax2.plot(mean_scrm_nmips_online_losses, '-.', label='SCRM-NMIPS')\n",
    "ax2.plot(mean_scrm_mmips_online_losses,'-.', label='SCRM-MMIPS')\n",
    "ax2.plot(batch_kucb_online_losses, label='Batch-KUCB')\n",
    "ax2.plot(batch_sbpe_online_losses, label='SBPE')\n",
    "\n",
    "ax2.set_ylabel('Online Loss')\n",
    "ax2.legend(loc='upper right')"
   ]
  },
  {
   "cell_type": "markdown",
   "id": "c22dcbfc",
   "metadata": {},
   "source": [
    "# Batch bandits"
   ]
  },
  {
   "cell_type": "code",
   "execution_count": 234,
   "id": "30e39e9f",
   "metadata": {},
   "outputs": [],
   "source": [
    "@jax.jit\n",
    "def sqeuclidean_distance(x, y):\n",
    "    return jnp.sum((x-y)**2)\n",
    "\n",
    "# RBF Kernel\n",
    "@jax.jit\n",
    "def rbf_kernel(gamma, x, y):\n",
    "    return jnp.exp( - gamma * sqeuclidean_distance(x, y))\n",
    "\n",
    "# Exponential Kernel\n",
    "@jax.jit\n",
    "def exp_kernel(gamma, x, y):\n",
    "    return jnp.exp( - gamma * jnp.sqrt(sqeuclidean_distance(x, y)))\n",
    "\n",
    "@jax.jit\n",
    "def polynomial_kernel(dimension, x, y):\n",
    "    return (jnp.dot(x,y)+1)**dimension\n",
    "\n",
    "def gram(func, params, x, y):\n",
    "    return jax.vmap(lambda x1: jax.vmap(lambda y1: func(params, x1, y1))(y))(x)\n",
    "\n",
    "class Kernel:\n",
    "\n",
    "    def __init__(self, settings):\n",
    "        \"\"\"Initializes the class\n",
    "\n",
    "        Attributes:\n",
    "            random_seed (int):  random seed for data generation process\n",
    "\n",
    "        \"\"\"\n",
    "        self._param = 0.1\n",
    "\n",
    "    def gram_matrix(self, states):\n",
    "        return self._pairwise(states, states)\n",
    "\n",
    "    def evaluate(self, state1, state2):\n",
    "        return self._pairwise(state1, state2)\n",
    "\n",
    "    def _pairwise(self, X1, X2):\n",
    "        pass\n",
    "\n",
    "\n",
    "class Gaussian(Kernel):\n",
    "\n",
    "    def __init__(self, *args):\n",
    "        \"\"\"Initializes the class\n",
    "\n",
    "        Attributes:\n",
    "            random_seed (int):  random seed for data generation process\n",
    "\n",
    "        \"\"\"\n",
    "        super(Gaussian, self).__init__(*args)\n",
    "        \"\"\"Initializes the class\n",
    "\n",
    "        Attributes:\n",
    "            random_seed (int):  random seed for data generation process\n",
    "\n",
    "        \"\"\"\n",
    "        self._std = self._param\n",
    "\n",
    "    def _pairwise(self, X1, X2):\n",
    "        \"\"\"\n",
    "        Args:\n",
    "            X1 (np.ndarray)\n",
    "            X2 (np.ndarray)\n",
    "        \"\"\"\n",
    "        return gram(rbf_kernel, 1/(2* self._std ** 2),X1,X2)\n",
    "\n",
    "class Exponential(Kernel):\n",
    "\n",
    "    def __init__(self, *args):\n",
    "        \"\"\"Initializes the class\n",
    "\n",
    "        Attributes:\n",
    "            random_seed (int):  random seed for data generation process\n",
    "\n",
    "        \"\"\"\n",
    "        super(Exponential, self).__init__(*args)\n",
    "        \"\"\"Initializes the class\n",
    "\n",
    "        Attributes:\n",
    "            random_seed (int):  random seed for data generation process\n",
    "\n",
    "        \"\"\"\n",
    "        self._alpha = 10\n",
    "\n",
    "    def _pairwise(self, X1, X2):\n",
    "        \"\"\"\n",
    "        Args:\n",
    "            X1 (np.ndarray)\n",
    "            X2 (np.ndarray)\n",
    "        \"\"\"\n",
    "        return gram(exp_kernel, self._alpha,X1,X2)\n",
    "    \n",
    "class Polynomial(Kernel):\n",
    "\n",
    "    def __init__(self, *args):\n",
    "        \"\"\"Initializes the class\n",
    "\n",
    "        Attributes:\n",
    "            random_seed (int):  random seed for data generation process\n",
    "\n",
    "        \"\"\"\n",
    "        super(Polynomial, self).__init__(*args)\n",
    "        \"\"\"Initializes the class\n",
    "\n",
    "        Attributes:\n",
    "            random_seed (int):  random seed for data generation process\n",
    "\n",
    "        \"\"\"\n",
    "        self._dimension = 2\n",
    "\n",
    "    def _pairwise(self, X1, X2):\n",
    "        \"\"\"\n",
    "        Args:\n",
    "            X1 (np.ndarray)\n",
    "            X2 (np.ndarray)\n",
    "        \"\"\"\n",
    "        return gram(polynomial_kernel, self._dimension, X1,X2)\n",
    "    \n",
    "class KernelUCB:\n",
    "\n",
    "    def __init__(self, settings, kernel):\n",
    "        \"\"\"Initializes the class\n",
    "\n",
    "        Attributes:\n",
    "            random_seed (int):  random seed for data generation process\n",
    "\n",
    "        \"\"\"\n",
    "        self.rng = np.random.RandomState(123)\n",
    "        self.reg_lambda = settings['reg_lambda']\n",
    "        self.kernel = kernel\n",
    "        self.settings = settings\n",
    "\n",
    "    def get_story_data(self):\n",
    "        return self.past_states, self.rewards\n",
    "\n",
    "    def set_gram_matrix(self):\n",
    "        K = self.kernel.gram_matrix(self.past_states)\n",
    "        K += self.reg_lambda * jnp.eye(K.shape[0])\n",
    "        self.K_matrix_inverse = jnp.linalg.inv(K)\n",
    "        \n",
    "    def instantiate(self, env):\n",
    "        self.action_anchors = env.get_anchor_points()\n",
    "        context, label = env.sample_data(n=1)\n",
    "        idx = self.rng.choice(self.action_anchors.shape[0])\n",
    "        action = np.array([self.action_anchors[idx]])\n",
    "        state = self.get_state(context, action)\n",
    "        reward = env.sample_reward(action, label)\n",
    "        self.past_states = jnp.array(self.get_state(context, action))\n",
    "        self.rewards = jnp.array([reward])\n",
    "        self.set_gram_matrix()\n",
    "        \n",
    "    def set_beta(self):\n",
    "        self.beta_t = 0.1\n",
    "\n",
    "    def get_upper_confidence_bound(self, state, K_matrix_inverse, S, rewards):\n",
    "        K_S_s = self.kernel.evaluate(S, state)\n",
    "        mean = jnp.dot(K_S_s.T, jnp.dot(K_matrix_inverse, rewards))\n",
    "        K_ss = self.kernel.evaluate(state, state)\n",
    "        std = (1/self.reg_lambda)*(K_ss - jnp.dot(K_S_s.T, jnp.dot(K_matrix_inverse, K_S_s)))\n",
    "        ucb = mean + self.beta_t * jnp.sqrt(std)\n",
    "        return jnp.squeeze(ucb)\n",
    "\n",
    "    def sample_action(self, context):\n",
    "        self.set_beta()\n",
    "        S, rewards = self.get_story_data()\n",
    "        args = self.K_matrix_inverse, S, rewards\n",
    "        return self.continuous_inference(context, args)\n",
    "\n",
    "    def continuous_inference(self, context, args):\n",
    "        nb_gradient_steps = 0\n",
    "        if nb_gradient_steps == 0:\n",
    "            return self.discrete_inference(context,args)\n",
    "        else:\n",
    "            def func(action):\n",
    "                state = self.get_state(context, action)\n",
    "                return self.get_upper_confidence_bound(state, *args)\n",
    "\n",
    "            a0 = self.discrete_inference(context, args)\n",
    "            max_hessian_eigenvalue = jnp.max(jsp.linalg.eigh(hessian(func)(a0), eigvals_only=True))\n",
    "            step_size = jnp.nan_to_num(1 / max_hessian_eigenvalue)\n",
    "            a_t = a0\n",
    "            for _ in range(nb_gradient_steps):\n",
    "                gradient = jnp.nan_to_num(grad(func)(a_t))\n",
    "                a_t -= step_size * gradient\n",
    "            return a_t\n",
    "\n",
    "    def get_state(self, context, action):\n",
    "        context, action = context.reshape((1, -1)), action.reshape((1, -1))\n",
    "        return jnp.concatenate([context, action], axis=1)\n",
    "\n",
    "    def get_ucb_actions(self, context, grid, args):\n",
    "        return jnp.array([self.get_upper_confidence_bound(self.get_state(context, a), *args) for a in grid])\n",
    "\n",
    "    def discrete_inference(self, context, args):\n",
    "        grid = self.action_anchors\n",
    "        ucb_all_actions = self.get_ucb_actions(context,grid,args) \n",
    "        idx = jnp.argmax(ucb_all_actions)\n",
    "        grid = jnp.array(grid)\n",
    "        return jnp.array([grid[idx]])\n",
    "\n",
    "    def update_data_pool(self, context, action, reward):\n",
    "        state = self.get_state(context, action)\n",
    "        self.past_states = jnp.concatenate([self.past_states, state])\n",
    "        self.rewards = jnp.concatenate([self.rewards, jnp.array([reward])])\n",
    "\n",
    "    def update_agent(self, context, action, reward):\n",
    "        state = self.get_state(context, action)\n",
    "        S, _ = self.get_story_data()\n",
    "        self.K_matrix_inverse = self.efficient_update_gram_matrix(S, state, self.K_matrix_inverse)\n",
    "        self.update_data_pool(context, action, reward)\n",
    "\n",
    "    def efficient_update_gram_matrix(self, S, state, K_matrix_inverse):\n",
    "        K_S_s = self.kernel.evaluate(S, state)\n",
    "        K_ss = self.kernel.evaluate(state, state)\n",
    "        s = K_ss + self.reg_lambda - jnp.dot(K_S_s.T, jnp.dot(K_matrix_inverse, K_S_s))\n",
    "        Z_12 = - 1/s * (jnp.dot(K_matrix_inverse, K_S_s))\n",
    "        Z_21 =  - 1/s * (jnp.dot(K_S_s.T, K_matrix_inverse))\n",
    "        Z_11 = K_matrix_inverse + s * jnp.dot(Z_12, Z_21)\n",
    "        K_matrix_inverse = jnp.block([[Z_11, Z_12], [Z_21, 1/s]])\n",
    "        return K_matrix_inverse\n",
    "    \n",
    "class BatchKernelUCB:\n",
    "\n",
    "    def __init__(self, settings, kernel):\n",
    "        \"\"\"Initializes the class\n",
    "\n",
    "        Attributes:\n",
    "            random_seed (int):  random seed for data generation process\n",
    "\n",
    "        \"\"\"\n",
    "        self.rng = np.random.RandomState(123)\n",
    "        self.reg_lambda = settings['reg_lambda']\n",
    "        self.kernel = kernel\n",
    "        self.settings = settings\n",
    "        self.name = 'Batch-KUCB'\n",
    "\n",
    "    def get_story_data(self):\n",
    "        return self.past_states, self.past_rewards\n",
    "\n",
    "    def set_gram_matrix(self):\n",
    "        K = self.kernel.gram_matrix(self.past_states)\n",
    "        K += self.reg_lambda * jnp.eye(K.shape[0])\n",
    "        self.K_matrix_inverse = jnp.linalg.inv(K)\n",
    "        \n",
    "    def instantiate(self, env):\n",
    "        self.action_anchors = env.get_anchor_points()\n",
    "        actions, contexts, rewards = env.get_logging_data()\n",
    "        states = self.get_states(contexts, actions)\n",
    "        self.past_states = jnp.array(states)\n",
    "        self.past_rewards = jnp.expand_dims(jnp.array(rewards), axis=1)\n",
    "        self.set_gram_matrix()\n",
    "        \n",
    "    def set_beta(self):\n",
    "        self.beta_t = 0.1\n",
    "\n",
    "    def get_upper_confidence_bound(self, states, K_matrix_inverse, S, past_rewards):\n",
    "        K_S_s = self.kernel.evaluate(S, states)\n",
    "        mean = jnp.dot(K_S_s.T, jnp.dot(K_matrix_inverse, past_rewards))\n",
    "        K_ss = self.kernel.evaluate(states, states)\n",
    "        std = np.diag((1/self.reg_lambda)*(K_ss - jnp.dot(K_S_s.T, jnp.dot(K_matrix_inverse, K_S_s))))\n",
    "        ucb = jnp.squeeze(mean) + self.beta_t * jnp.sqrt(std)\n",
    "        return ucb\n",
    "\n",
    "    def sample_actions(self, contexts):\n",
    "        self.set_beta()\n",
    "        S, rewards = self.get_story_data()\n",
    "        args = self.K_matrix_inverse, S, rewards\n",
    "        return self.continuous_inference(contexts, args)\n",
    "\n",
    "    def continuous_inference(self, contexts, args):\n",
    "        nb_gradient_steps = 0\n",
    "        if nb_gradient_steps == 0:\n",
    "            return self.discrete_inference(contexts, args)\n",
    "        else:\n",
    "            def func(action):\n",
    "                state = self.get_state(contexts, action)\n",
    "                return self.get_upper_confidence_bound(state, *args)\n",
    "\n",
    "            a0 = self.discrete_inference(contexts, args)\n",
    "            max_hessian_eigenvalue = jnp.max(jsp.linalg.eigh(hessian(func)(a0), eigvals_only=True))\n",
    "            step_size = jnp.nan_to_num(1 / max_hessian_eigenvalue)\n",
    "            a_t = a0\n",
    "            for _ in range(nb_gradient_steps):\n",
    "                gradient = jnp.nan_to_num(grad(func)(a_t))\n",
    "                a_t -= step_size * gradient\n",
    "            return a_t\n",
    "\n",
    "    def get_states(self, contexts, actions):\n",
    "        batch_size = contexts.shape[0]\n",
    "        contexts, actions = contexts.reshape((batch_size, -1)), actions.reshape((batch_size, 1))\n",
    "        return jnp.concatenate([contexts, actions], axis=1)\n",
    "\n",
    "    def get_ucb_actions(self, contexts, grid, args):\n",
    "        return jnp.transpose(jnp.array([self.get_upper_confidence_bound(self.get_states(contexts, a*np.ones((contexts.shape[0]))), *args) for a in grid]))\n",
    "\n",
    "    def discrete_inference(self, contexts, args):\n",
    "        grid = self.action_anchors\n",
    "        ucb_all_actions = self.get_ucb_actions(contexts, grid, args) \n",
    "        idx = jnp.argmax(ucb_all_actions, axis=1)\n",
    "        grid = jnp.array(grid)\n",
    "        return jnp.array([grid[idx]])\n",
    "\n",
    "    def update_data_pool(self, contexts, actions, rewards):\n",
    "        states = self.get_states(contexts, actions)\n",
    "        rewards = np.expand_dims(rewards, axis=1)\n",
    "        self.past_states = jnp.concatenate([self.past_states, states])\n",
    "        self.past_rewards = jnp.concatenate([self.past_rewards, rewards])\n",
    "\n",
    "    def update_agent(self, contexts, actions, rewards):\n",
    "        self.update_data_pool(contexts, actions, rewards)\n",
    "        self.set_gram_matrix()\n",
    "\n",
    "class SBPE:\n",
    "\n",
    "    def __init__(self, settings, kernel):\n",
    "        \"\"\"Initializes the class\n",
    "\n",
    "        Attributes:\n",
    "            random_seed (int):  random seed for data generation process\n",
    "\n",
    "        \"\"\"\n",
    "        self.rng = np.random.RandomState(123)\n",
    "        self.reg_lambda = settings['reg_lambda']\n",
    "        self.kernel = kernel\n",
    "        self.settings = settings\n",
    "        self.name = 'SBPE'\n",
    "\n",
    "    def get_story_data(self):\n",
    "        return self.past_states, self.past_rewards\n",
    "\n",
    "    def set_gram_matrix(self):\n",
    "        K = self.kernel.gram_matrix(self.past_states)\n",
    "        K += self.reg_lambda * jnp.eye(K.shape[0])\n",
    "        self.K_matrix_inverse = jnp.linalg.inv(K)\n",
    "        \n",
    "    def instantiate(self, env):\n",
    "        self.action_anchors = env.get_anchor_points()\n",
    "        actions, contexts, rewards = env.get_logging_data()\n",
    "        states = self.get_states(contexts, actions)\n",
    "        self.past_states = jnp.array(states)\n",
    "        self.past_rewards = jnp.expand_dims(jnp.array(rewards), axis=1)\n",
    "        self.set_gram_matrix()\n",
    "        \n",
    "    def set_beta(self):\n",
    "        self.beta_t = 0.1\n",
    "\n",
    "    def pure_exploitations(self, states, K_matrix_inverse, S, past_rewards):\n",
    "        K_S_s = self.kernel.evaluate(S, states)\n",
    "        return jnp.squeeze(jnp.dot(K_S_s.T, jnp.dot(K_matrix_inverse, past_rewards)))\n",
    "\n",
    "    def sample_actions(self, contexts):\n",
    "        S, rewards = self.get_story_data()\n",
    "        args = self.K_matrix_inverse, S, rewards\n",
    "        return self.continuous_inference(contexts, args)\n",
    "\n",
    "    def continuous_inference(self, contexts, args):\n",
    "        nb_gradient_steps = 0\n",
    "        if nb_gradient_steps == 0:\n",
    "            return self.discrete_inference(contexts, args)\n",
    "        else:\n",
    "            def func(action):\n",
    "                state = self.get_state(contexts, action)\n",
    "                return self.get_upper_confidence_bound(state, *args)\n",
    "\n",
    "            a0 = self.discrete_inference(contexts, args)\n",
    "            max_hessian_eigenvalue = jnp.max(jsp.linalg.eigh(hessian(func)(a0), eigvals_only=True))\n",
    "            step_size = jnp.nan_to_num(1 / max_hessian_eigenvalue)\n",
    "            a_t = a0\n",
    "            for _ in range(nb_gradient_steps):\n",
    "                gradient = jnp.nan_to_num(grad(func)(a_t))\n",
    "                a_t -= step_size * gradient\n",
    "            return a_t\n",
    "\n",
    "    def get_states(self, contexts, actions):\n",
    "        batch_size = contexts.shape[0]\n",
    "        contexts, actions = contexts.reshape((batch_size, -1)), actions.reshape((batch_size, 1))\n",
    "        return jnp.concatenate([contexts, actions], axis=1)\n",
    "\n",
    "    def get_exploitations(self, contexts, grid, args):\n",
    "        return jnp.transpose(jnp.array([self.pure_exploitations(self.get_states(contexts, a*np.ones((contexts.shape[0]))), *args) for a in grid]))\n",
    "\n",
    "    def discrete_inference(self, contexts, args):\n",
    "        grid = self.action_anchors\n",
    "        exploitations_all_actions = self.get_exploitations(contexts, grid, args) \n",
    "        idx = jnp.argmax(exploitations_all_actions, axis=1)\n",
    "        grid = jnp.array(grid)\n",
    "        return jnp.array([grid[idx]])\n",
    "\n",
    "    def update_data_pool(self, contexts, actions, rewards):\n",
    "        states = self.get_states(contexts, actions)\n",
    "        rewards = np.expand_dims(rewards, axis=1)\n",
    "        self.past_states = jnp.concatenate([self.past_states, states])\n",
    "        self.past_rewards = jnp.concatenate([self.past_rewards, rewards])\n",
    "\n",
    "    def update_agent(self, contexts, actions, rewards):\n",
    "        self.update_data_pool(contexts, actions, rewards)\n",
    "        self.set_gram_matrix()\n",
    "\n"
   ]
  },
  {
   "cell_type": "code",
   "execution_count": 117,
   "id": "12d11c95",
   "metadata": {},
   "outputs": [],
   "source": [
    "\n",
    "\n",
    "from tqdm import tqdm\n",
    "\n",
    "class Environment:\n",
    "\n",
    "    def __init__(self, dataset, n_logging_samples):\n",
    "        self.dataset = dataset\n",
    "        self.n_logging_samples = n_logging_samples\n",
    "\n",
    "    def sample_data(self, n):\n",
    "        return self.dataset.sample_data(n_samples=n)\n",
    "\n",
    "    def sample_reward(self, actions, labels):\n",
    "        actions = np.squeeze(actions)\n",
    "        return - self.dataset.get_losses_from_actions(labels, actions)\n",
    "\n",
    "    def get_anchor_points(self):\n",
    "        return np.arange(-10, 10, 0.5)\n",
    "    \n",
    "    def get_logging_data(self):\n",
    "        actions, contexts, losses, _, _, _ = self.dataset.sample_logged_data(self.n_logging_samples)\n",
    "        return actions, contexts, -losses\n",
    "\n",
    "\n",
    "def instantiate_metrics():\n",
    "    return {\n",
    "        'time': [],\n",
    "        'average_reward': [],\n",
    "        'regret': [],\n",
    "    }\n",
    "\n"
   ]
  },
  {
   "cell_type": "code",
   "execution_count": 236,
   "id": "b58a4724",
   "metadata": {},
   "outputs": [
    {
     "name": "stderr",
     "output_type": "stream",
     "text": [
      "*** EXPERIMENT Batch-KUCB Random seed: 0 Dataset: noisycircles ***\n",
      " 25%|███████████▎                                 | 2/8 [00:00<00:00,  6.89it/s]"
     ]
    },
    {
     "name": "stdout",
     "output_type": "stream",
     "text": [
      "Average reward: 0.48975884914398193\n",
      "Average reward: 0.5468991994857788\n"
     ]
    },
    {
     "name": "stderr",
     "output_type": "stream",
     "text": [
      " 50%|██████████████████████▌                      | 4/8 [00:00<00:00,  6.61it/s]"
     ]
    },
    {
     "name": "stdout",
     "output_type": "stream",
     "text": [
      "Average reward: 0.5198996067047119\n",
      "Average reward: 0.5523213744163513\n"
     ]
    },
    {
     "name": "stderr",
     "output_type": "stream",
     "text": [
      "\r",
      " 62%|████████████████████████████▏                | 5/8 [00:00<00:00,  5.00it/s]"
     ]
    },
    {
     "name": "stdout",
     "output_type": "stream",
     "text": [
      "Average reward: 0.568189799785614\n"
     ]
    },
    {
     "name": "stderr",
     "output_type": "stream",
     "text": [
      "\r",
      " 75%|█████████████████████████████████▊           | 6/8 [00:01<00:00,  2.97it/s]"
     ]
    },
    {
     "name": "stdout",
     "output_type": "stream",
     "text": [
      "Average reward: 0.5545870065689087\n"
     ]
    },
    {
     "name": "stderr",
     "output_type": "stream",
     "text": [
      "\r",
      " 88%|███████████████████████████████████████▍     | 7/8 [00:04<00:01,  1.06s/it]"
     ]
    },
    {
     "name": "stdout",
     "output_type": "stream",
     "text": [
      "Average reward: 0.5635287165641785\n"
     ]
    },
    {
     "name": "stderr",
     "output_type": "stream",
     "text": [
      "100%|█████████████████████████████████████████████| 8/8 [00:16<00:00,  2.03s/it]\n",
      "*** EXPERIMENT Batch-KUCB Random seed: 1 Dataset: noisycircles ***\n"
     ]
    },
    {
     "name": "stdout",
     "output_type": "stream",
     "text": [
      "Average reward: 0.5212337374687195\n"
     ]
    },
    {
     "name": "stderr",
     "output_type": "stream",
     "text": [
      " 25%|███████████▎                                 | 2/8 [00:00<00:00, 11.94it/s]"
     ]
    },
    {
     "name": "stdout",
     "output_type": "stream",
     "text": [
      "Average reward: 0.5102753639221191\n",
      "Average reward: 0.5634667873382568\n",
      "Average reward: 0.550387978553772\n"
     ]
    },
    {
     "name": "stderr",
     "output_type": "stream",
     "text": [
      "\r",
      " 50%|██████████████████████▌                      | 4/8 [00:00<00:00,  9.55it/s]"
     ]
    },
    {
     "name": "stdout",
     "output_type": "stream",
     "text": [
      "Average reward: 0.5693890452384949\n"
     ]
    },
    {
     "name": "stderr",
     "output_type": "stream",
     "text": [
      "\r",
      " 62%|████████████████████████████▏                | 5/8 [00:00<00:00,  6.46it/s]"
     ]
    },
    {
     "name": "stdout",
     "output_type": "stream",
     "text": [
      "Average reward: 0.5838629603385925\n"
     ]
    },
    {
     "name": "stderr",
     "output_type": "stream",
     "text": [
      "\r",
      " 75%|█████████████████████████████████▊           | 6/8 [00:01<00:00,  3.57it/s]"
     ]
    },
    {
     "name": "stdout",
     "output_type": "stream",
     "text": [
      "Average reward: 0.5812540650367737\n"
     ]
    },
    {
     "name": "stderr",
     "output_type": "stream",
     "text": [
      "\r",
      " 88%|███████████████████████████████████████▍     | 7/8 [00:03<00:00,  1.08it/s]"
     ]
    },
    {
     "name": "stdout",
     "output_type": "stream",
     "text": [
      "Average reward: 0.5858331918716431\n"
     ]
    },
    {
     "name": "stderr",
     "output_type": "stream",
     "text": [
      "100%|█████████████████████████████████████████████| 8/8 [00:16<00:00,  2.12s/it]\n",
      "*** EXPERIMENT Batch-KUCB Random seed: 2 Dataset: noisycircles ***\n"
     ]
    },
    {
     "name": "stdout",
     "output_type": "stream",
     "text": [
      "Average reward: 0.587807297706604\n"
     ]
    },
    {
     "name": "stderr",
     "output_type": "stream",
     "text": [
      "\r",
      "  0%|                                                     | 0/8 [00:00<?, ?it/s]"
     ]
    },
    {
     "name": "stdout",
     "output_type": "stream",
     "text": [
      "Average reward: 0.5481454730033875\n"
     ]
    },
    {
     "name": "stderr",
     "output_type": "stream",
     "text": [
      "\r",
      " 25%|███████████▎                                 | 2/8 [00:00<00:00, 10.53it/s]"
     ]
    },
    {
     "name": "stdout",
     "output_type": "stream",
     "text": [
      "Average reward: 0.5776143074035645\n",
      "Average reward: 0.5560922622680664\n"
     ]
    },
    {
     "name": "stderr",
     "output_type": "stream",
     "text": [
      "\r",
      " 50%|██████████████████████▌                      | 4/8 [00:00<00:00,  6.63it/s]"
     ]
    },
    {
     "name": "stdout",
     "output_type": "stream",
     "text": [
      "Average reward: 0.5619958639144897\n"
     ]
    },
    {
     "name": "stderr",
     "output_type": "stream",
     "text": [
      "\r",
      " 62%|████████████████████████████▏                | 5/8 [00:00<00:00,  4.83it/s]"
     ]
    },
    {
     "name": "stdout",
     "output_type": "stream",
     "text": [
      "Average reward: 0.5433523058891296\n"
     ]
    },
    {
     "name": "stderr",
     "output_type": "stream",
     "text": [
      "\r",
      " 75%|█████████████████████████████████▊           | 6/8 [00:01<00:00,  2.61it/s]"
     ]
    },
    {
     "name": "stdout",
     "output_type": "stream",
     "text": [
      "Average reward: 0.49772682785987854\n"
     ]
    },
    {
     "name": "stderr",
     "output_type": "stream",
     "text": [
      "\r",
      " 88%|███████████████████████████████████████▍     | 7/8 [00:04<00:01,  1.20s/it]"
     ]
    },
    {
     "name": "stdout",
     "output_type": "stream",
     "text": [
      "Average reward: 0.4922555387020111\n"
     ]
    },
    {
     "name": "stderr",
     "output_type": "stream",
     "text": [
      "100%|█████████████████████████████████████████████| 8/8 [00:17<00:00,  2.20s/it]\n",
      "*** EXPERIMENT Batch-KUCB Random seed: 3 Dataset: noisycircles ***\n"
     ]
    },
    {
     "name": "stdout",
     "output_type": "stream",
     "text": [
      "Average reward: 0.19626574218273163\n"
     ]
    },
    {
     "name": "stderr",
     "output_type": "stream",
     "text": [
      "\r",
      "  0%|                                                     | 0/8 [00:00<?, ?it/s]"
     ]
    },
    {
     "name": "stdout",
     "output_type": "stream",
     "text": [
      "Average reward: 0.494378000497818\n"
     ]
    },
    {
     "name": "stderr",
     "output_type": "stream",
     "text": [
      "\r",
      " 25%|███████████▎                                 | 2/8 [00:00<00:00, 11.36it/s]"
     ]
    },
    {
     "name": "stdout",
     "output_type": "stream",
     "text": [
      "Average reward: 0.5155699253082275\n",
      "Average reward: 0.5201258063316345\n"
     ]
    },
    {
     "name": "stderr",
     "output_type": "stream",
     "text": [
      "\r",
      " 50%|██████████████████████▌                      | 4/8 [00:00<00:00,  9.11it/s]"
     ]
    },
    {
     "name": "stdout",
     "output_type": "stream",
     "text": [
      "Average reward: 0.5357291102409363\n"
     ]
    },
    {
     "name": "stderr",
     "output_type": "stream",
     "text": [
      "\r",
      " 62%|████████████████████████████▏                | 5/8 [00:00<00:00,  6.51it/s]"
     ]
    },
    {
     "name": "stdout",
     "output_type": "stream",
     "text": [
      "Average reward: 0.4974910020828247\n"
     ]
    },
    {
     "name": "stderr",
     "output_type": "stream",
     "text": [
      "\r",
      " 75%|█████████████████████████████████▊           | 6/8 [00:01<00:00,  3.44it/s]"
     ]
    },
    {
     "name": "stdout",
     "output_type": "stream",
     "text": [
      "Average reward: 0.4840196967124939\n"
     ]
    },
    {
     "name": "stderr",
     "output_type": "stream",
     "text": [
      "\r",
      " 88%|███████████████████████████████████████▍     | 7/8 [00:04<00:01,  1.04s/it]"
     ]
    },
    {
     "name": "stdout",
     "output_type": "stream",
     "text": [
      "Average reward: 0.41588684916496277\n"
     ]
    },
    {
     "name": "stderr",
     "output_type": "stream",
     "text": [
      "100%|█████████████████████████████████████████████| 8/8 [00:16<00:00,  2.10s/it]\n",
      "*** EXPERIMENT Batch-KUCB Random seed: 4 Dataset: noisycircles ***\n"
     ]
    },
    {
     "name": "stdout",
     "output_type": "stream",
     "text": [
      "Average reward: 0.15738815069198608\n"
     ]
    },
    {
     "name": "stderr",
     "output_type": "stream",
     "text": [
      " 25%|███████████▎                                 | 2/8 [00:00<00:00, 11.63it/s]"
     ]
    },
    {
     "name": "stdout",
     "output_type": "stream",
     "text": [
      "Average reward: 0.39130425453186035\n",
      "Average reward: 0.46032485365867615\n",
      "Average reward: 0.43910688161849976\n"
     ]
    },
    {
     "name": "stderr",
     "output_type": "stream",
     "text": [
      "\r",
      " 50%|██████████████████████▌                      | 4/8 [00:00<00:00,  9.18it/s]"
     ]
    },
    {
     "name": "stdout",
     "output_type": "stream",
     "text": [
      "Average reward: 0.48066002130508423\n"
     ]
    },
    {
     "name": "stderr",
     "output_type": "stream",
     "text": [
      "\r",
      " 62%|████████████████████████████▏                | 5/8 [00:00<00:00,  6.29it/s]"
     ]
    },
    {
     "name": "stdout",
     "output_type": "stream",
     "text": [
      "Average reward: 0.45006781816482544\n"
     ]
    },
    {
     "name": "stderr",
     "output_type": "stream",
     "text": [
      "\r",
      " 75%|█████████████████████████████████▊           | 6/8 [00:01<00:00,  3.36it/s]"
     ]
    },
    {
     "name": "stdout",
     "output_type": "stream",
     "text": [
      "Average reward: 0.17264972627162933\n"
     ]
    },
    {
     "name": "stderr",
     "output_type": "stream",
     "text": [
      "\r",
      " 88%|███████████████████████████████████████▍     | 7/8 [00:04<00:01,  1.05s/it]"
     ]
    },
    {
     "name": "stdout",
     "output_type": "stream",
     "text": [
      "Average reward: 0.035736653953790665\n"
     ]
    },
    {
     "name": "stderr",
     "output_type": "stream",
     "text": [
      "100%|█████████████████████████████████████████████| 8/8 [00:17<00:00,  2.20s/it]\n",
      "*** EXPERIMENT Batch-KUCB Random seed: 5 Dataset: noisycircles ***\n"
     ]
    },
    {
     "name": "stdout",
     "output_type": "stream",
     "text": [
      "Average reward: -0.020700186491012573\n"
     ]
    },
    {
     "name": "stderr",
     "output_type": "stream",
     "text": [
      "\r",
      "  0%|                                                     | 0/8 [00:00<?, ?it/s]"
     ]
    },
    {
     "name": "stdout",
     "output_type": "stream",
     "text": [
      "Average reward: 0.4954197406768799\n"
     ]
    },
    {
     "name": "stderr",
     "output_type": "stream",
     "text": [
      "\r",
      " 25%|███████████▎                                 | 2/8 [00:00<00:00, 10.67it/s]"
     ]
    },
    {
     "name": "stdout",
     "output_type": "stream",
     "text": [
      "Average reward: 0.5701910853385925\n",
      "Average reward: 0.5831053853034973\n"
     ]
    },
    {
     "name": "stderr",
     "output_type": "stream",
     "text": [
      "\r",
      " 50%|██████████████████████▌                      | 4/8 [00:00<00:00,  8.81it/s]"
     ]
    },
    {
     "name": "stdout",
     "output_type": "stream",
     "text": [
      "Average reward: 0.5864543914794922\n"
     ]
    },
    {
     "name": "stderr",
     "output_type": "stream",
     "text": [
      "\r",
      " 62%|████████████████████████████▏                | 5/8 [00:00<00:00,  6.30it/s]"
     ]
    },
    {
     "name": "stdout",
     "output_type": "stream",
     "text": [
      "Average reward: 0.5849647521972656\n"
     ]
    },
    {
     "name": "stderr",
     "output_type": "stream",
     "text": [
      "\r",
      " 75%|█████████████████████████████████▊           | 6/8 [00:01<00:00,  3.50it/s]"
     ]
    },
    {
     "name": "stdout",
     "output_type": "stream",
     "text": [
      "Average reward: 0.5886101722717285\n"
     ]
    },
    {
     "name": "stderr",
     "output_type": "stream",
     "text": [
      "\r",
      " 88%|███████████████████████████████████████▍     | 7/8 [00:03<00:00,  1.05it/s]"
     ]
    },
    {
     "name": "stdout",
     "output_type": "stream",
     "text": [
      "Average reward: 0.595108151435852\n"
     ]
    },
    {
     "name": "stderr",
     "output_type": "stream",
     "text": [
      "100%|█████████████████████████████████████████████| 8/8 [00:16<00:00,  2.07s/it]\n",
      "*** EXPERIMENT Batch-KUCB Random seed: 6 Dataset: noisycircles ***\n"
     ]
    },
    {
     "name": "stdout",
     "output_type": "stream",
     "text": [
      "Average reward: 0.5909014940261841\n"
     ]
    },
    {
     "name": "stderr",
     "output_type": "stream",
     "text": [
      " 12%|█████▋                                       | 1/8 [00:00<00:00,  8.62it/s]"
     ]
    },
    {
     "name": "stdout",
     "output_type": "stream",
     "text": [
      "Average reward: 0.6262162327766418\n"
     ]
    },
    {
     "name": "stderr",
     "output_type": "stream",
     "text": [
      "\r",
      " 25%|███████████▎                                 | 2/8 [00:00<00:00,  8.85it/s]"
     ]
    },
    {
     "name": "stdout",
     "output_type": "stream",
     "text": [
      "Average reward: 0.6204577684402466\n"
     ]
    },
    {
     "name": "stderr",
     "output_type": "stream",
     "text": [
      "\r",
      " 38%|████████████████▉                            | 3/8 [00:00<00:00,  8.87it/s]"
     ]
    },
    {
     "name": "stdout",
     "output_type": "stream",
     "text": [
      "Average reward: 0.5931583642959595\n"
     ]
    },
    {
     "name": "stderr",
     "output_type": "stream",
     "text": [
      "\r",
      " 50%|██████████████████████▌                      | 4/8 [00:00<00:00,  6.99it/s]"
     ]
    },
    {
     "name": "stdout",
     "output_type": "stream",
     "text": [
      "Average reward: 0.5691510438919067\n"
     ]
    },
    {
     "name": "stderr",
     "output_type": "stream",
     "text": [
      "\r",
      " 62%|████████████████████████████▏                | 5/8 [00:00<00:00,  4.93it/s]"
     ]
    },
    {
     "name": "stdout",
     "output_type": "stream",
     "text": [
      "Average reward: 0.5502095222473145\n"
     ]
    },
    {
     "name": "stderr",
     "output_type": "stream",
     "text": [
      "\r",
      " 75%|█████████████████████████████████▊           | 6/8 [00:01<00:00,  2.86it/s]"
     ]
    },
    {
     "name": "stdout",
     "output_type": "stream",
     "text": [
      "Average reward: 0.5489664077758789\n"
     ]
    },
    {
     "name": "stderr",
     "output_type": "stream",
     "text": [
      "\r",
      " 88%|███████████████████████████████████████▍     | 7/8 [00:04<00:01,  1.16s/it]"
     ]
    },
    {
     "name": "stdout",
     "output_type": "stream",
     "text": [
      "Average reward: 0.5533478856086731\n"
     ]
    },
    {
     "name": "stderr",
     "output_type": "stream",
     "text": [
      "100%|█████████████████████████████████████████████| 8/8 [00:17<00:00,  2.23s/it]\n",
      "*** EXPERIMENT Batch-KUCB Random seed: 7 Dataset: noisycircles ***\n"
     ]
    },
    {
     "name": "stdout",
     "output_type": "stream",
     "text": [
      "Average reward: 0.541280210018158\n"
     ]
    },
    {
     "name": "stderr",
     "output_type": "stream",
     "text": [
      " 12%|█████▋                                       | 1/8 [00:00<00:00,  8.64it/s]"
     ]
    },
    {
     "name": "stdout",
     "output_type": "stream",
     "text": [
      "Average reward: 0.5488694906234741\n"
     ]
    },
    {
     "name": "stderr",
     "output_type": "stream",
     "text": [
      "\r",
      " 25%|███████████▎                                 | 2/8 [00:00<00:00,  8.46it/s]"
     ]
    },
    {
     "name": "stdout",
     "output_type": "stream",
     "text": [
      "Average reward: 0.5582387447357178\n"
     ]
    },
    {
     "name": "stderr",
     "output_type": "stream",
     "text": [
      "\r",
      " 38%|████████████████▉                            | 3/8 [00:00<00:00,  7.75it/s]"
     ]
    },
    {
     "name": "stdout",
     "output_type": "stream",
     "text": [
      "Average reward: 0.560797929763794\n"
     ]
    },
    {
     "name": "stderr",
     "output_type": "stream",
     "text": [
      "\r",
      " 50%|██████████████████████▌                      | 4/8 [00:00<00:00,  6.04it/s]"
     ]
    },
    {
     "name": "stdout",
     "output_type": "stream",
     "text": [
      "Average reward: 0.5617188215255737\n"
     ]
    },
    {
     "name": "stderr",
     "output_type": "stream",
     "text": [
      "\r",
      " 62%|████████████████████████████▏                | 5/8 [00:00<00:00,  4.22it/s]"
     ]
    },
    {
     "name": "stdout",
     "output_type": "stream",
     "text": [
      "Average reward: 0.5734281539916992\n"
     ]
    },
    {
     "name": "stderr",
     "output_type": "stream",
     "text": [
      "\r",
      " 75%|█████████████████████████████████▊           | 6/8 [00:01<00:00,  2.53it/s]"
     ]
    },
    {
     "name": "stdout",
     "output_type": "stream",
     "text": [
      "Average reward: 0.5630509257316589\n"
     ]
    },
    {
     "name": "stderr",
     "output_type": "stream",
     "text": [
      "\r",
      " 88%|███████████████████████████████████████▍     | 7/8 [00:04<00:01,  1.17s/it]"
     ]
    },
    {
     "name": "stdout",
     "output_type": "stream",
     "text": [
      "Average reward: 0.5574019551277161\n"
     ]
    },
    {
     "name": "stderr",
     "output_type": "stream",
     "text": [
      "100%|█████████████████████████████████████████████| 8/8 [00:19<00:00,  2.46s/it]\n",
      "*** EXPERIMENT Batch-KUCB Random seed: 8 Dataset: noisycircles ***\n"
     ]
    },
    {
     "name": "stdout",
     "output_type": "stream",
     "text": [
      "Average reward: 0.5417048335075378\n"
     ]
    },
    {
     "name": "stderr",
     "output_type": "stream",
     "text": [
      " 12%|█████▋                                       | 1/8 [00:00<00:00,  8.83it/s]"
     ]
    },
    {
     "name": "stdout",
     "output_type": "stream",
     "text": [
      "Average reward: 0.5198696851730347\n"
     ]
    },
    {
     "name": "stderr",
     "output_type": "stream",
     "text": [
      "\r",
      " 25%|███████████▎                                 | 2/8 [00:00<00:00,  8.88it/s]"
     ]
    },
    {
     "name": "stdout",
     "output_type": "stream",
     "text": [
      "Average reward: 0.48303350806236267\n"
     ]
    },
    {
     "name": "stderr",
     "output_type": "stream",
     "text": [
      "\r",
      " 38%|████████████████▉                            | 3/8 [00:00<00:00,  8.49it/s]"
     ]
    },
    {
     "name": "stdout",
     "output_type": "stream",
     "text": [
      "Average reward: 0.4935426712036133\n"
     ]
    },
    {
     "name": "stderr",
     "output_type": "stream",
     "text": [
      "\r",
      " 50%|██████████████████████▌                      | 4/8 [00:00<00:00,  6.54it/s]"
     ]
    },
    {
     "name": "stdout",
     "output_type": "stream",
     "text": [
      "Average reward: 0.5366154313087463\n"
     ]
    },
    {
     "name": "stderr",
     "output_type": "stream",
     "text": [
      "\r",
      " 62%|████████████████████████████▏                | 5/8 [00:00<00:00,  4.56it/s]"
     ]
    },
    {
     "name": "stdout",
     "output_type": "stream",
     "text": [
      "Average reward: 0.552895188331604\n"
     ]
    },
    {
     "name": "stderr",
     "output_type": "stream",
     "text": [
      "\r",
      " 75%|█████████████████████████████████▊           | 6/8 [00:01<00:00,  2.73it/s]"
     ]
    },
    {
     "name": "stdout",
     "output_type": "stream",
     "text": [
      "Average reward: 0.5615801215171814\n"
     ]
    },
    {
     "name": "stderr",
     "output_type": "stream",
     "text": [
      "\r",
      " 88%|███████████████████████████████████████▍     | 7/8 [00:04<00:01,  1.16s/it]"
     ]
    },
    {
     "name": "stdout",
     "output_type": "stream",
     "text": [
      "Average reward: 0.5676674842834473\n"
     ]
    },
    {
     "name": "stderr",
     "output_type": "stream",
     "text": [
      "100%|█████████████████████████████████████████████| 8/8 [00:16<00:00,  2.06s/it]\n",
      "*** EXPERIMENT Batch-KUCB Random seed: 9 Dataset: noisycircles ***\n"
     ]
    },
    {
     "name": "stdout",
     "output_type": "stream",
     "text": [
      "Average reward: 0.5684986710548401\n"
     ]
    },
    {
     "name": "stderr",
     "output_type": "stream",
     "text": [
      "\r",
      "  0%|                                                     | 0/8 [00:00<?, ?it/s]"
     ]
    },
    {
     "name": "stdout",
     "output_type": "stream",
     "text": [
      "Average reward: 0.5056018233299255\n"
     ]
    },
    {
     "name": "stderr",
     "output_type": "stream",
     "text": [
      "\r",
      " 25%|███████████▎                                 | 2/8 [00:00<00:00, 10.81it/s]"
     ]
    },
    {
     "name": "stdout",
     "output_type": "stream",
     "text": [
      "Average reward: 0.5375872850418091\n",
      "Average reward: 0.5908187031745911\n"
     ]
    },
    {
     "name": "stderr",
     "output_type": "stream",
     "text": [
      "\r",
      " 50%|██████████████████████▌                      | 4/8 [00:00<00:00,  8.65it/s]"
     ]
    },
    {
     "name": "stdout",
     "output_type": "stream",
     "text": [
      "Average reward: 0.5694594383239746\n"
     ]
    },
    {
     "name": "stderr",
     "output_type": "stream",
     "text": [
      "\r",
      " 62%|████████████████████████████▏                | 5/8 [00:00<00:00,  5.96it/s]"
     ]
    },
    {
     "name": "stdout",
     "output_type": "stream",
     "text": [
      "Average reward: 0.5357894897460938\n"
     ]
    },
    {
     "name": "stderr",
     "output_type": "stream",
     "text": [
      "\r",
      " 75%|█████████████████████████████████▊           | 6/8 [00:01<00:00,  3.35it/s]"
     ]
    },
    {
     "name": "stdout",
     "output_type": "stream",
     "text": [
      "Average reward: 0.5263969302177429\n"
     ]
    },
    {
     "name": "stderr",
     "output_type": "stream",
     "text": [
      "\r",
      " 88%|███████████████████████████████████████▍     | 7/8 [00:03<00:00,  1.04it/s]"
     ]
    },
    {
     "name": "stdout",
     "output_type": "stream",
     "text": [
      "Average reward: 0.5705846548080444\n"
     ]
    },
    {
     "name": "stderr",
     "output_type": "stream",
     "text": [
      "100%|█████████████████████████████████████████████| 8/8 [00:16<00:00,  2.11s/it]"
     ]
    },
    {
     "name": "stdout",
     "output_type": "stream",
     "text": [
      "Average reward: 0.5153895616531372\n"
     ]
    },
    {
     "name": "stderr",
     "output_type": "stream",
     "text": [
      "\n"
     ]
    }
   ],
   "source": [
    "settings = {\n",
    "    'agent': 'k_ucb',\n",
    "    'T': T,\n",
    "    'random_seed': 42,\n",
    "    'reg_lambda': 1,\n",
    "    'expname': 'experiment_k_ucb'\n",
    "}\n",
    "\n",
    "n_logging_samples = 10\n",
    "M = 8\n",
    "\n",
    "def batch_bandit_experiment(random_seed, dataset_name, settings, agent):\n",
    "    \n",
    "    dataset = get_dataset_by_name(dataset_name, random_seed)\n",
    "\n",
    "    start_experiment(random_seed, dataset, agent.name)\n",
    "    \n",
    "    # Model setting\n",
    "    env = Environment(dataset, n_logging_samples)\n",
    "    kernel = Polynomial(settings)\n",
    "    agent.instantiate(env)\n",
    "    metrics = instantiate_metrics()\n",
    "    best_strategy_rewards = []\n",
    "\n",
    "    t0 = time.time()\n",
    "\n",
    "    batch_size = n_logging_samples\n",
    "    for step in tqdm(range(M)):\n",
    "\n",
    "        # choose a random context.\n",
    "        batch_size *= 2\n",
    "        contexts, labels = env.sample_data(n=batch_size)\n",
    "        # iterate learning algorithm for 1 round.\n",
    "        actions = agent.sample_actions(contexts)\n",
    "        rewards = env.sample_reward(actions, labels)\n",
    "\n",
    "        agent.update_agent(contexts, actions, rewards)\n",
    "        # get best_strategy's reward for the current context.\n",
    "    #     best_strategy_rewards.append(env.get_best_reward_in_context(context, label))\n",
    "        t = time.time() - t0\n",
    "        metrics['time'].append(t)\n",
    "        average_reward = np.mean(agent.past_rewards[1:])\n",
    "        metrics['average_reward'].append(average_reward)\n",
    "    #         sum_best = np.sum(np.array(best_strategy_rewards))\n",
    "        sum_agent = np.sum(np.array(agent.past_rewards[1:]))\n",
    "    #         regret = sum_best - sum_agent\n",
    "        print('Average reward: {}'.format(average_reward))\n",
    "#         print('Regret: {}'.format(regret))\n",
    "\n",
    "    batch_online_losses = np.array([-average_reward._value for average_reward in metrics['average_reward']])\n",
    "\n",
    "    return np.expand_dims(batch_online_losses, axis=0)\n",
    "\n",
    "\n",
    "agent = BatchKernelUCB(settings, kernel)\n",
    "batch_bandit_online_losses = []\n",
    "\n",
    "for random_seed in range(10):\n",
    "    batch_bandit_online_losses.append(batch_bandit_experiment(random_seed, dataset_name, settings, agent))\n",
    "\n",
    "batch_bandit_online_losses = np.concatenate(batch_bandit_online_losses, axis=0)\n",
    "batch_kucb_online_losses, batch_k_ucb_online_losses_std = np.mean(batch_bandit_online_losses, axis=0), np.std(batch_bandit_online_losses, axis=0)"
   ]
  },
  {
   "cell_type": "code",
   "execution_count": 235,
   "id": "31f998c1",
   "metadata": {},
   "outputs": [
    {
     "name": "stderr",
     "output_type": "stream",
     "text": [
      "*** EXPERIMENT SBPE Random seed: 0 Dataset: noisycircles ***\n",
      " 25%|███████████▎                                 | 2/8 [00:00<00:00,  6.94it/s]"
     ]
    },
    {
     "name": "stdout",
     "output_type": "stream",
     "text": [
      "Average reward: 0.5274103879928589\n",
      "Average reward: 0.5879453420639038\n"
     ]
    },
    {
     "name": "stderr",
     "output_type": "stream",
     "text": [
      " 50%|██████████████████████▌                      | 4/8 [00:00<00:00,  8.08it/s]"
     ]
    },
    {
     "name": "stdout",
     "output_type": "stream",
     "text": [
      "Average reward: 0.6035956144332886\n",
      "Average reward: 0.602571964263916\n"
     ]
    },
    {
     "name": "stderr",
     "output_type": "stream",
     "text": [
      "\r",
      " 62%|████████████████████████████▏                | 5/8 [00:00<00:00,  6.88it/s]"
     ]
    },
    {
     "name": "stdout",
     "output_type": "stream",
     "text": [
      "Average reward: 0.6185224652290344\n"
     ]
    },
    {
     "name": "stderr",
     "output_type": "stream",
     "text": [
      "\r",
      " 75%|█████████████████████████████████▊           | 6/8 [00:01<00:00,  4.73it/s]"
     ]
    },
    {
     "name": "stdout",
     "output_type": "stream",
     "text": [
      "Average reward: 0.6190929412841797\n"
     ]
    },
    {
     "name": "stderr",
     "output_type": "stream",
     "text": [
      "\r",
      " 88%|███████████████████████████████████████▍     | 7/8 [00:02<00:00,  2.13it/s]"
     ]
    },
    {
     "name": "stdout",
     "output_type": "stream",
     "text": [
      "Average reward: 0.6200618147850037\n"
     ]
    },
    {
     "name": "stderr",
     "output_type": "stream",
     "text": [
      "100%|█████████████████████████████████████████████| 8/8 [00:05<00:00,  1.35it/s]\n",
      "*** EXPERIMENT SBPE Random seed: 1 Dataset: noisycircles ***\n"
     ]
    },
    {
     "name": "stdout",
     "output_type": "stream",
     "text": [
      "Average reward: 0.6225144267082214\n"
     ]
    },
    {
     "name": "stderr",
     "output_type": "stream",
     "text": [
      " 25%|███████████▎                                 | 2/8 [00:00<00:00, 18.88it/s]"
     ]
    },
    {
     "name": "stdout",
     "output_type": "stream",
     "text": [
      "Average reward: 0.5144860148429871\n",
      "Average reward: 0.5645595192909241\n",
      "Average reward: 0.5733423829078674\n"
     ]
    },
    {
     "name": "stderr",
     "output_type": "stream",
     "text": [
      "\r",
      " 50%|██████████████████████▌                      | 4/8 [00:00<00:00, 17.31it/s]"
     ]
    },
    {
     "name": "stdout",
     "output_type": "stream",
     "text": [
      "Average reward: 0.5915865898132324\n",
      "Average reward: 0.5882492661476135\n"
     ]
    },
    {
     "name": "stderr",
     "output_type": "stream",
     "text": [
      "\r",
      " 75%|█████████████████████████████████▊           | 6/8 [00:00<00:00,  9.26it/s]"
     ]
    },
    {
     "name": "stdout",
     "output_type": "stream",
     "text": [
      "Average reward: 0.5995038151741028\n",
      "Average reward: 0.5989764928817749\n"
     ]
    },
    {
     "name": "stderr",
     "output_type": "stream",
     "text": [
      "100%|█████████████████████████████████████████████| 8/8 [00:05<00:00,  1.54it/s]\n",
      "*** EXPERIMENT SBPE Random seed: 2 Dataset: noisycircles ***\n"
     ]
    },
    {
     "name": "stdout",
     "output_type": "stream",
     "text": [
      "Average reward: 0.6038546562194824\n"
     ]
    },
    {
     "name": "stderr",
     "output_type": "stream",
     "text": [
      " 25%|███████████▎                                 | 2/8 [00:00<00:00, 17.75it/s]"
     ]
    },
    {
     "name": "stdout",
     "output_type": "stream",
     "text": [
      "Average reward: 0.5267359018325806\n",
      "Average reward: 0.5676774978637695\n",
      "Average reward: 0.5598229765892029\n"
     ]
    },
    {
     "name": "stderr",
     "output_type": "stream",
     "text": [
      "\r",
      " 50%|██████████████████████▌                      | 4/8 [00:00<00:00, 16.68it/s]"
     ]
    },
    {
     "name": "stdout",
     "output_type": "stream",
     "text": [
      "Average reward: 0.5869330167770386\n",
      "Average reward: 0.5503993630409241\n"
     ]
    },
    {
     "name": "stderr",
     "output_type": "stream",
     "text": [
      "\r",
      " 75%|█████████████████████████████████▊           | 6/8 [00:00<00:00,  8.90it/s]"
     ]
    },
    {
     "name": "stdout",
     "output_type": "stream",
     "text": [
      "Average reward: 0.4723162055015564\n",
      "Average reward: 0.5309153199195862\n"
     ]
    },
    {
     "name": "stderr",
     "output_type": "stream",
     "text": [
      "100%|█████████████████████████████████████████████| 8/8 [00:05<00:00,  1.52it/s]\n",
      "*** EXPERIMENT SBPE Random seed: 3 Dataset: noisycircles ***\n"
     ]
    },
    {
     "name": "stdout",
     "output_type": "stream",
     "text": [
      "Average reward: 0.5674195885658264\n"
     ]
    },
    {
     "name": "stderr",
     "output_type": "stream",
     "text": [
      " 25%|███████████▎                                 | 2/8 [00:00<00:00, 18.25it/s]"
     ]
    },
    {
     "name": "stdout",
     "output_type": "stream",
     "text": [
      "Average reward: 0.4757007956504822\n",
      "Average reward: 0.5198630094528198\n",
      "Average reward: 0.5475534796714783\n"
     ]
    },
    {
     "name": "stderr",
     "output_type": "stream",
     "text": [
      "\r",
      " 50%|██████████████████████▌                      | 4/8 [00:00<00:00, 16.67it/s]"
     ]
    },
    {
     "name": "stdout",
     "output_type": "stream",
     "text": [
      "Average reward: 0.5691949725151062\n",
      "Average reward: 0.5669622421264648\n"
     ]
    },
    {
     "name": "stderr",
     "output_type": "stream",
     "text": [
      "\r",
      " 75%|█████████████████████████████████▊           | 6/8 [00:00<00:00,  8.71it/s]"
     ]
    },
    {
     "name": "stdout",
     "output_type": "stream",
     "text": [
      "Average reward: 0.589838981628418\n",
      "Average reward: 0.5939484238624573\n"
     ]
    },
    {
     "name": "stderr",
     "output_type": "stream",
     "text": [
      "100%|█████████████████████████████████████████████| 8/8 [00:05<00:00,  1.53it/s]\n",
      "*** EXPERIMENT SBPE Random seed: 4 Dataset: noisycircles ***\n"
     ]
    },
    {
     "name": "stdout",
     "output_type": "stream",
     "text": [
      "Average reward: 0.5795170664787292\n"
     ]
    },
    {
     "name": "stderr",
     "output_type": "stream",
     "text": [
      " 25%|███████████▎                                 | 2/8 [00:00<00:00, 17.83it/s]"
     ]
    },
    {
     "name": "stdout",
     "output_type": "stream",
     "text": [
      "Average reward: 0.5368993878364563\n",
      "Average reward: 0.565405011177063\n",
      "Average reward: 0.5478865504264832\n"
     ]
    },
    {
     "name": "stderr",
     "output_type": "stream",
     "text": [
      "\r",
      " 50%|██████████████████████▌                      | 4/8 [00:00<00:00, 16.52it/s]"
     ]
    },
    {
     "name": "stdout",
     "output_type": "stream",
     "text": [
      "Average reward: 0.5439632534980774\n",
      "Average reward: 0.5479753017425537\n"
     ]
    },
    {
     "name": "stderr",
     "output_type": "stream",
     "text": [
      "\r",
      " 75%|█████████████████████████████████▊           | 6/8 [00:00<00:00,  8.91it/s]"
     ]
    },
    {
     "name": "stdout",
     "output_type": "stream",
     "text": [
      "Average reward: 0.5594443678855896\n",
      "Average reward: 0.5724562406539917\n"
     ]
    },
    {
     "name": "stderr",
     "output_type": "stream",
     "text": [
      "100%|█████████████████████████████████████████████| 8/8 [00:05<00:00,  1.55it/s]\n",
      "*** EXPERIMENT SBPE Random seed: 5 Dataset: noisycircles ***\n"
     ]
    },
    {
     "name": "stdout",
     "output_type": "stream",
     "text": [
      "Average reward: 0.5858268141746521\n"
     ]
    },
    {
     "name": "stderr",
     "output_type": "stream",
     "text": [
      " 25%|███████████▎                                 | 2/8 [00:00<00:00, 18.30it/s]"
     ]
    },
    {
     "name": "stdout",
     "output_type": "stream",
     "text": [
      "Average reward: 0.5107927918434143\n",
      "Average reward: 0.5688983201980591\n",
      "Average reward: 0.5853041410446167\n"
     ]
    },
    {
     "name": "stderr",
     "output_type": "stream",
     "text": [
      "\r",
      " 50%|██████████████████████▌                      | 4/8 [00:00<00:00, 16.27it/s]"
     ]
    },
    {
     "name": "stdout",
     "output_type": "stream",
     "text": [
      "Average reward: 0.5838343501091003\n",
      "Average reward: 0.5787922739982605\n"
     ]
    },
    {
     "name": "stderr",
     "output_type": "stream",
     "text": [
      "\r",
      " 75%|█████████████████████████████████▊           | 6/8 [00:00<00:00,  8.76it/s]"
     ]
    },
    {
     "name": "stdout",
     "output_type": "stream",
     "text": [
      "Average reward: 0.5826835036277771\n",
      "Average reward: 0.5548720359802246\n"
     ]
    },
    {
     "name": "stderr",
     "output_type": "stream",
     "text": [
      "100%|█████████████████████████████████████████████| 8/8 [00:05<00:00,  1.48it/s]\n",
      "*** EXPERIMENT SBPE Random seed: 6 Dataset: noisycircles ***\n"
     ]
    },
    {
     "name": "stdout",
     "output_type": "stream",
     "text": [
      "Average reward: 0.5680005550384521\n"
     ]
    },
    {
     "name": "stderr",
     "output_type": "stream",
     "text": [
      " 25%|███████████▎                                 | 2/8 [00:00<00:00, 18.14it/s]"
     ]
    },
    {
     "name": "stdout",
     "output_type": "stream",
     "text": [
      "Average reward: 0.6118619441986084\n",
      "Average reward: 0.6091873049736023\n"
     ]
    },
    {
     "name": "stderr",
     "output_type": "stream",
     "text": [
      "\r",
      " 50%|██████████████████████▌                      | 4/8 [00:00<00:00, 16.82it/s]"
     ]
    },
    {
     "name": "stdout",
     "output_type": "stream",
     "text": [
      "Average reward: 0.5964798331260681\n",
      "Average reward: 0.585950493812561\n",
      "Average reward: 0.5490138530731201\n"
     ]
    },
    {
     "name": "stderr",
     "output_type": "stream",
     "text": [
      "\r",
      " 75%|█████████████████████████████████▊           | 6/8 [00:00<00:00,  8.68it/s]"
     ]
    },
    {
     "name": "stdout",
     "output_type": "stream",
     "text": [
      "Average reward: 0.5717206597328186\n",
      "Average reward: 0.5893128514289856\n"
     ]
    },
    {
     "name": "stderr",
     "output_type": "stream",
     "text": [
      "100%|█████████████████████████████████████████████| 8/8 [00:05<00:00,  1.46it/s]\n",
      "*** EXPERIMENT SBPE Random seed: 7 Dataset: noisycircles ***\n"
     ]
    },
    {
     "name": "stdout",
     "output_type": "stream",
     "text": [
      "Average reward: 0.5832879543304443\n"
     ]
    },
    {
     "name": "stderr",
     "output_type": "stream",
     "text": [
      " 25%|███████████▎                                 | 2/8 [00:00<00:00, 14.13it/s]"
     ]
    },
    {
     "name": "stdout",
     "output_type": "stream",
     "text": [
      "Average reward: 0.5601539015769958\n",
      "Average reward: 0.5719113945960999\n",
      "Average reward: 0.5805251598358154\n"
     ]
    },
    {
     "name": "stderr",
     "output_type": "stream",
     "text": [
      "\r",
      " 50%|██████████████████████▌                      | 4/8 [00:00<00:00, 12.99it/s]"
     ]
    },
    {
     "name": "stdout",
     "output_type": "stream",
     "text": [
      "Average reward: 0.5840908885002136\n",
      "Average reward: 0.5863659381866455\n"
     ]
    },
    {
     "name": "stderr",
     "output_type": "stream",
     "text": [
      "\r",
      " 75%|█████████████████████████████████▊           | 6/8 [00:00<00:00,  6.69it/s]"
     ]
    },
    {
     "name": "stdout",
     "output_type": "stream",
     "text": [
      "Average reward: 0.5848894119262695\n"
     ]
    },
    {
     "name": "stderr",
     "output_type": "stream",
     "text": [
      "\r",
      " 88%|███████████████████████████████████████▍     | 7/8 [00:01<00:00,  2.63it/s]"
     ]
    },
    {
     "name": "stdout",
     "output_type": "stream",
     "text": [
      "Average reward: 0.5776393413543701\n"
     ]
    },
    {
     "name": "stderr",
     "output_type": "stream",
     "text": [
      "100%|█████████████████████████████████████████████| 8/8 [00:05<00:00,  1.34it/s]\n",
      "*** EXPERIMENT SBPE Random seed: 8 Dataset: noisycircles ***\n"
     ]
    },
    {
     "name": "stdout",
     "output_type": "stream",
     "text": [
      "Average reward: 0.5961387753486633\n"
     ]
    },
    {
     "name": "stderr",
     "output_type": "stream",
     "text": [
      " 25%|███████████▎                                 | 2/8 [00:00<00:00, 16.91it/s]"
     ]
    },
    {
     "name": "stdout",
     "output_type": "stream",
     "text": [
      "Average reward: 0.5289077758789062\n",
      "Average reward: 0.5433194041252136\n",
      "Average reward: 0.529486358165741\n"
     ]
    },
    {
     "name": "stderr",
     "output_type": "stream",
     "text": [
      "\r",
      " 50%|██████████████████████▌                      | 4/8 [00:00<00:00, 13.48it/s]"
     ]
    },
    {
     "name": "stdout",
     "output_type": "stream",
     "text": [
      "Average reward: 0.5549384951591492\n",
      "Average reward: 0.5708277225494385\n"
     ]
    },
    {
     "name": "stderr",
     "output_type": "stream",
     "text": [
      "\r",
      " 75%|█████████████████████████████████▊           | 6/8 [00:00<00:00,  7.61it/s]"
     ]
    },
    {
     "name": "stdout",
     "output_type": "stream",
     "text": [
      "Average reward: 0.5786786675453186\n"
     ]
    },
    {
     "name": "stderr",
     "output_type": "stream",
     "text": [
      "\r",
      " 88%|███████████████████████████████████████▍     | 7/8 [00:01<00:00,  3.01it/s]"
     ]
    },
    {
     "name": "stdout",
     "output_type": "stream",
     "text": [
      "Average reward: 0.5792640447616577\n"
     ]
    },
    {
     "name": "stderr",
     "output_type": "stream",
     "text": [
      "100%|█████████████████████████████████████████████| 8/8 [00:05<00:00,  1.43it/s]\n",
      "*** EXPERIMENT SBPE Random seed: 9 Dataset: noisycircles ***\n"
     ]
    },
    {
     "name": "stdout",
     "output_type": "stream",
     "text": [
      "Average reward: 0.5830382704734802\n"
     ]
    },
    {
     "name": "stderr",
     "output_type": "stream",
     "text": [
      " 12%|█████▋                                       | 1/8 [00:00<00:01,  6.63it/s]"
     ]
    },
    {
     "name": "stdout",
     "output_type": "stream",
     "text": [
      "Average reward: 0.5369621515274048\n",
      "Average reward: 0.5691967010498047\n"
     ]
    },
    {
     "name": "stderr",
     "output_type": "stream",
     "text": [
      " 50%|██████████████████████▌                      | 4/8 [00:00<00:00,  7.61it/s]"
     ]
    },
    {
     "name": "stdout",
     "output_type": "stream",
     "text": [
      "Average reward: 0.5977432727813721\n",
      "Average reward: 0.6141998171806335\n"
     ]
    },
    {
     "name": "stderr",
     "output_type": "stream",
     "text": [
      "\r",
      " 62%|████████████████████████████▏                | 5/8 [00:00<00:00,  6.42it/s]"
     ]
    },
    {
     "name": "stdout",
     "output_type": "stream",
     "text": [
      "Average reward: 0.594333827495575\n"
     ]
    },
    {
     "name": "stderr",
     "output_type": "stream",
     "text": [
      "\r",
      " 75%|█████████████████████████████████▊           | 6/8 [00:01<00:00,  4.39it/s]"
     ]
    },
    {
     "name": "stdout",
     "output_type": "stream",
     "text": [
      "Average reward: 0.5932166576385498\n"
     ]
    },
    {
     "name": "stderr",
     "output_type": "stream",
     "text": [
      "\r",
      " 88%|███████████████████████████████████████▍     | 7/8 [00:02<00:00,  1.69it/s]"
     ]
    },
    {
     "name": "stdout",
     "output_type": "stream",
     "text": [
      "Average reward: 0.5957341194152832\n"
     ]
    },
    {
     "name": "stderr",
     "output_type": "stream",
     "text": [
      "100%|█████████████████████████████████████████████| 8/8 [00:06<00:00,  1.23it/s]"
     ]
    },
    {
     "name": "stdout",
     "output_type": "stream",
     "text": [
      "Average reward: 0.5822007060050964\n"
     ]
    },
    {
     "name": "stderr",
     "output_type": "stream",
     "text": [
      "\n"
     ]
    }
   ],
   "source": [
    "settings = {\n",
    "    'agent': 'k_ucb',\n",
    "    'T': T,\n",
    "    'random_seed': 42,\n",
    "    'reg_lambda': 1,\n",
    "    'expname': 'experiment_k_ucb'\n",
    "}\n",
    "M = 8\n",
    "\n",
    "kernel = Polynomial(settings)\n",
    "agent = SBPE(settings, kernel)\n",
    "batch_bandit_online_losses = []\n",
    "\n",
    "for random_seed in range(10):\n",
    "    batch_bandit_online_losses.append(batch_bandit_experiment(random_seed, dataset_name, settings, agent))\n",
    "\n",
    "batch_bandit_online_losses = np.concatenate(batch_bandit_online_losses)\n",
    "batch_sbpe_online_losses, batch_sbpe_online_losses_std = np.mean(batch_bandit_online_losses, axis=0), np.std(batch_bandit_online_losses, axis=0)"
   ]
  },
  {
   "cell_type": "code",
   "execution_count": null,
   "id": "6642ab6b",
   "metadata": {},
   "outputs": [],
   "source": []
  }
 ],
 "metadata": {
  "kernelspec": {
   "display_name": "Python 3 (ipykernel)",
   "language": "python",
   "name": "python3"
  },
  "language_info": {
   "codemirror_mode": {
    "name": "ipython",
    "version": 3
   },
   "file_extension": ".py",
   "mimetype": "text/x-python",
   "name": "python",
   "nbconvert_exporter": "python",
   "pygments_lexer": "ipython3",
   "version": "3.9.7"
  }
 },
 "nbformat": 4,
 "nbformat_minor": 5
}

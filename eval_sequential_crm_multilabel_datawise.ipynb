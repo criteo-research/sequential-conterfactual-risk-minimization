{
 "cells": [
  {
   "cell_type": "markdown",
   "id": "c4fa689b",
   "metadata": {},
   "source": [
    "# Sequential CRM Experiments\n",
    "\n",
    "## Reference works\n",
    "- ref paper: https://arxiv.org/pdf/1502.02362.pdf\n",
    "- ref code & data: https://www.cs.cornell.edu/~adith/POEM/\n",
    "- recent paper (ICML'18): http://proceedings.mlr.press/v80/wu18g/wu18g.pdf\n",
    "- recent paper using vision tasks: https://arxiv.org/pdf/1806.11500v6.pdf"
   ]
  },
  {
   "cell_type": "code",
   "execution_count": 1,
   "id": "c38a5ebd-d63a-45ea-9aeb-bd2ce8f47793",
   "metadata": {},
   "outputs": [],
   "source": [
    "%load_ext autoreload\n",
    "%autoreload 2"
   ]
  },
  {
   "cell_type": "code",
   "execution_count": 2,
   "id": "9c25f72b",
   "metadata": {},
   "outputs": [],
   "source": [
    "import sys\n",
    "import time\n",
    "import copy"
   ]
  },
  {
   "cell_type": "code",
   "execution_count": 3,
   "id": "b3299e83",
   "metadata": {},
   "outputs": [],
   "source": [
    "import numpy as np"
   ]
  },
  {
   "cell_type": "code",
   "execution_count": 4,
   "id": "9a8fd973-d7ae-44dd-9588-d1f68a37eeb5",
   "metadata": {},
   "outputs": [],
   "source": [
    "import jax.numpy as jnp\n",
    "from jax.scipy.special import expit as jexpit"
   ]
  },
  {
   "cell_type": "code",
   "execution_count": 5,
   "id": "6da5c3e3",
   "metadata": {},
   "outputs": [],
   "source": [
    "import matplotlib.pyplot as plt"
   ]
  },
  {
   "cell_type": "code",
   "execution_count": 6,
   "id": "040d3d14-85a8-4352-8e96-43c704eecae2",
   "metadata": {},
   "outputs": [],
   "source": [
    "from dataset_utils import load_dataset\n",
    "from baselines_skylines import result_table, make_baselines_skylines, stochastic_hamming_loss\n",
    "from crm_dataset import CRMDataset\n",
    "from crm_model import Model\n",
    "from tracing_utils import LossHistory"
   ]
  },
  {
   "cell_type": "markdown",
   "id": "69c93204",
   "metadata": {},
   "source": [
    "---\n",
    "### Loading dataset"
   ]
  },
  {
   "cell_type": "code",
   "execution_count": 7,
   "id": "dbaa9cb3",
   "metadata": {},
   "outputs": [
    {
     "name": "stdout",
     "output_type": "stream",
     "text": [
      "reducing dimension for TMC dataset\n",
      "X_train: (21447, 200) y_train: (21447, 22)\n"
     ]
    }
   ],
   "source": [
    "# dataset_name='scene'\n",
    "# dataset_name='yeast'\n",
    "dataset_name='tmc2007'\n",
    "\n",
    "X_train, y_train, X_test, y_test, labels = load_dataset(dataset_name, reduce_dim=200)"
   ]
  },
  {
   "cell_type": "markdown",
   "id": "f6aef896",
   "metadata": {},
   "source": [
    "### Baselines & Skylines"
   ]
  },
  {
   "cell_type": "code",
   "execution_count": 8,
   "id": "b321b06d-23e5-429a-b135-66f7c5246b0f",
   "metadata": {},
   "outputs": [],
   "source": [
    "pi0, pistar = make_baselines_skylines(dataset_name, X_train, y_train, n_jobs=1)"
   ]
  },
  {
   "cell_type": "markdown",
   "id": "28ae40cb",
   "metadata": {},
   "source": [
    "# The Experiment"
   ]
  },
  {
   "cell_type": "code",
   "execution_count": 9,
   "id": "9abaf8a9-3817-4307-aad1-fcb728d3e3ad",
   "metadata": {},
   "outputs": [
    {
     "data": {
      "text/plain": [
       "21447"
      ]
     },
     "execution_count": 9,
     "metadata": {},
     "output_type": "execute_result"
    }
   ],
   "source": [
    "len(X_train)"
   ]
  },
  {
   "cell_type": "code",
   "execution_count": 10,
   "id": "ae3c2d79-86db-4357-8242-2c9089c5d8c3",
   "metadata": {},
   "outputs": [
    {
     "data": {
      "text/plain": [
       "(10,\n",
       " 2144,\n",
       " [0, 2144, 4288, 6432, 8576, 10720, 12864, 15008, 17152, 19296, 21440])"
      ]
     },
     "execution_count": 10,
     "metadata": {},
     "output_type": "execute_result"
    }
   ],
   "source": [
    "n_rollouts = 10\n",
    "batch_size = int(len(X_train) / n_rollouts)\n",
    "samples = list(range(0, len(X_train), batch_size))\n",
    "n_replays = 10\n",
    "n_rollouts, batch_size, samples"
   ]
  },
  {
   "cell_type": "code",
   "execution_count": 14,
   "id": "5fa25909-5c58-4b72-8b37-4bc78c2b56e3",
   "metadata": {},
   "outputs": [
    {
     "data": {
      "text/plain": [
       "array([[0.5, 0.5, 0.5, 0.5, 0.5, 0.5, 0.5, 0.5, 0.5, 0.5],\n",
       "       [1. , 1. , 1. , 1. , 1. , 1. , 1. , 1. , 1. , 1. ],\n",
       "       [1. , 1. , 1. , 1. , 1. , 1. , 1. , 1. , 1. , 1. ],\n",
       "       [1. , 1. , 1. , 1. , 1. , 1. , 1. , 1. , 1. , 1. ],\n",
       "       [1. , 1. , 1. , 1. , 1. , 1. , 1. , 1. , 1. , 1. ],\n",
       "       [1. , 1. , 1. , 1. , 1. , 1. , 1. , 1. , 1. , 1. ],\n",
       "       [1. , 1. , 1. , 1. , 1. , 1. , 1. , 1. , 1. , 1. ],\n",
       "       [1. , 1. , 1. , 1. , 1. , 1. , 1. , 1. , 1. , 1. ],\n",
       "       [1. , 1. , 1. , 1. , 1. , 1. , 1. , 1. , 1. , 1. ],\n",
       "       [1. , 1. , 1. , 1. , 1. , 1. , 1. , 1. , 1. , 1. ]])"
      ]
     },
     "execution_count": 14,
     "metadata": {},
     "output_type": "execute_result"
    }
   ],
   "source": [
    "crm_losses"
   ]
  },
  {
   "cell_type": "code",
   "execution_count": 15,
   "id": "38ed5524-7260-4346-bc01-2a18bcb12470",
   "metadata": {},
   "outputs": [
    {
     "data": {
      "text/plain": [
       "(0, 10)"
      ]
     },
     "execution_count": 15,
     "metadata": {},
     "output_type": "execute_result"
    }
   ],
   "source": [
    "i, j"
   ]
  },
  {
   "cell_type": "code",
   "execution_count": 19,
   "id": "7c967827-0696-494a-9dce-07984e78a9ce",
   "metadata": {},
   "outputs": [
    {
     "name": "stdout",
     "output_type": "stream",
     "text": [
      "0...........\n",
      "1...........\n",
      "2...........\n",
      "3...........\n",
      "4...........\n",
      "5...........\n",
      "6...........\n",
      "7...........\n",
      "8...........\n",
      "9...........\n"
     ]
    },
    {
     "data": {
      "text/plain": [
       "(array([0.5       , 0.18059806, 0.14444239, 0.13887654, 0.12097187,\n",
       "        0.15007269, 0.11736157, 0.09303119, 0.09711339, 0.09601287,\n",
       "        0.09786935]),\n",
       " array([0.5180715, 0.5180715, 0.5180715, 0.5180715, 0.5180715, 0.5180715,\n",
       "        0.5180715, 0.5180715, 0.5180715, 0.5180715, 0.5180715]))"
      ]
     },
     "execution_count": 19,
     "metadata": {},
     "output_type": "execute_result"
    }
   ],
   "source": [
    "crm_losses = np.ones((10, len(samples)))\n",
    "crm_rewards = np.ones((10, len(samples)))\n",
    "\n",
    "test_sampling_probas = np.array([_[:,1] for _ in pi0.predict_proba(X_test)]).T\n",
    "crm_reward = CRMDataset().update_from_supervised_dataset(\n",
    "    X_test, y_test, test_sampling_probas, n_samples=4\n",
    ").rewards.sum() / (len(X_test)*y_test.shape[1]*4)\n",
    "\n",
    "for i in range(10):\n",
    "    np.random.seed(i*42+1000)\n",
    "    print(i, end='')\n",
    "    \n",
    "    crm_model = Model.null_model(X_test.shape[1], y_test.shape[1])\n",
    "    crm_dataset = CRMDataset()\n",
    "        \n",
    "    start = 0\n",
    "    for j, end in enumerate(samples):\n",
    "        print('.', end='')\n",
    "        # current batch\n",
    "        X = X_train[start:end, :]\n",
    "        y = y_train[start:end, :]\n",
    "        if end > start:\n",
    "            # CRM play & data collection\n",
    "            sampling_probas = np.array([_[:,1] for _ in pi0.predict_proba(X)]).T \n",
    "            crm_dataset.update_from_supervised_dataset(X, y, sampling_probas, n_samples=n_replays)\n",
    "            # learning\n",
    "            crm_model.fit(\n",
    "                crm_dataset, \n",
    "                lambda_ = .5,\n",
    "                verbose = 0\n",
    "            )\n",
    "        # eval\n",
    "        crm_losses[i,j] = crm_model.expected_hamming_loss(X_test, y_test)\n",
    "        crm_rewards[i,j] = crm_reward\n",
    "        # next round\n",
    "        start = end\n",
    "    print()\n",
    "\n",
    "crm_losses = crm_losses.mean(axis=0)\n",
    "crm_rewards = crm_rewards.mean(axis=0)\n",
    "crm_losses, crm_rewards"
   ]
  },
  {
   "cell_type": "code",
   "execution_count": 24,
   "id": "397c4f1e-6ad2-428e-9101-ca52bfb679b8",
   "metadata": {},
   "outputs": [
    {
     "name": "stdout",
     "output_type": "stream",
     "text": [
      "0...........\n",
      "1...........\n",
      "2...........\n",
      "3...........\n",
      "4...........\n",
      "5...........\n",
      "6...........\n",
      "7...........\n",
      "8...........\n",
      "9...........\n"
     ]
    },
    {
     "data": {
      "text/plain": [
       "(array([0.5       , 0.08917178, 0.09014439, 0.08962935, 0.08904518,\n",
       "        0.08975365, 0.08971422, 0.09015417, 0.08994222, 0.09015899,\n",
       "        0.08937839]),\n",
       " array([0.50016627, 0.91081858, 0.90985834, 0.91038019, 0.91095655,\n",
       "        0.91025016, 0.91027893, 0.90985039, 0.91004845, 0.90984244,\n",
       "        0.91061639]))"
      ]
     },
     "execution_count": 24,
     "metadata": {},
     "output_type": "execute_result"
    }
   ],
   "source": [
    "scrm_losses = np.ones((10, len(samples)))\n",
    "scrm_rewards = np.ones((10, len(samples)))\n",
    "\n",
    "for i in range(10):\n",
    "    np.random.seed(i*42+1000)\n",
    "    print(i, end='')\n",
    "\n",
    "    scrm_model = Model.null_model(X_test.shape[1], y_test.shape[1])\n",
    "    scrm_dataset = CRMDataset()\n",
    "    \n",
    "    start = 0\n",
    "    for j, end in enumerate(samples):\n",
    "        print('.', end='')\n",
    "        # current batch\n",
    "        X = X_train[start:end, :]\n",
    "        y = y_train[start:end, :]\n",
    "        if end > start:\n",
    "            # CRM play & data collection\n",
    "            if j == 0:\n",
    "                sampling_probas = np.array([_[:,1] for _ in pi0.predict_proba(X)]).T \n",
    "            else:\n",
    "                sampling_probas = scrm_model.predict_proba(X, y)\n",
    "            scrm_dataset.update_from_supervised_dataset(X, y, sampling_probas, n_samples=n_replays)\n",
    "            # learning\n",
    "            lambda_ = scrm_model.theoretical_exploration_bonus(batch_size*n_replays, len(X_train)*n_replays)\n",
    "            scrm_model.fit(\n",
    "                crm_dataset, \n",
    "                lambda_ = scrm_model.theoretical_exploration_bonus(len(scrm_dataset), n_replays * len(X_train)) * .01,\n",
    "                verbose = 0\n",
    "            )\n",
    "        # eval\n",
    "        scrm_losses[i,j] = scrm_model.expected_hamming_loss(X_test, y_test)\n",
    "        scrm_rewards[i,j] = CRMDataset().update_from_supervised_dataset(\n",
    "            X_test, y_test, scrm_model.predict_proba(X_test, np.ones_like(y_test)), n_samples=4\n",
    "        ).rewards.sum()  / (len(X_test)*y_test.shape[1]*4)\n",
    "        # next round\n",
    "        start = end\n",
    "    print()\n",
    "\n",
    "scrm_losses = scrm_losses.mean(axis=0)\n",
    "scrm_rewards = scrm_rewards.mean(axis=0)\n",
    "scrm_losses, scrm_rewards"
   ]
  },
  {
   "cell_type": "code",
   "execution_count": 25,
   "id": "d6eacd33-9d70-49ce-9dfa-2c98d4e00d26",
   "metadata": {},
   "outputs": [],
   "source": [
    "baseline_reward = np.mean([\n",
    "    CRMDataset().update_from_supervised_dataset(\n",
    "        X_test, y_test, \n",
    "        np.array([_[:,1] for _ in pi0.predict_proba(X_test)]).T, n_samples=4\n",
    "    ).rewards.sum() / (len(X_test)*y_test.shape[1]*4)\n",
    "for _ in range(10)])\n",
    "baseline_rewards = np.ones_like(crm_losses)*baseline_reward\n",
    "\n",
    "skyline_reward = np.mean([\n",
    "    CRMDataset().update_from_supervised_dataset(\n",
    "        X_test, y_test, \n",
    "        np.array([_[:,1] for _ in pistar.predict_proba(X_test)]).T, n_samples=4\n",
    "    ).rewards.sum() / (len(X_test)*y_test.shape[1]*4)\n",
    "for _ in range(10)])\n",
    "skyline_rewards = np.ones_like(crm_losses)*skyline_reward\n",
    "\n",
    "map_skyline_reward = np.mean([\n",
    "    CRMDataset().update_from_supervised_dataset(\n",
    "        X_test, y_test, \n",
    "        pistar.predict(X_test), n_samples=1\n",
    "    ).rewards.sum() / (len(X_test)*y_test.shape[1]*1)\n",
    "for _ in range(10)])\n",
    "map_skyline_rewards = np.ones_like(crm_losses)*map_skyline_reward\n",
    "\n",
    "baseline_loss = stochastic_hamming_loss(pi0, X_test, y_test)\n",
    "skyline_loss = stochastic_hamming_loss(pistar, X_test, y_test)"
   ]
  },
  {
   "cell_type": "code",
   "execution_count": 32,
   "id": "f8ac60f2-9ff1-4891-aacd-70b503b13d6d",
   "metadata": {},
   "outputs": [
    {
     "data": {
      "text/plain": [
       "<matplotlib.legend.Legend at 0x7f3080dc2c10>"
      ]
     },
     "execution_count": 32,
     "metadata": {},
     "output_type": "execute_result"
    },
    {
     "data": {
      "image/png": "[encoded data removed]",
      "text/plain": [
       "<Figure size 1152x288 with 2 Axes>"
      ]
     },
     "metadata": {
      "needs_background": "light"
     },
     "output_type": "display_data"
    }
   ],
   "source": [
    "fig, (ax1, ax2) = plt.subplots(ncols=2, constrained_layout=True, figsize=(16,4))\n",
    "\n",
    "ax1.set_title('Loss Evolution over Data Usage - %s Dataset' % dataset_name)\n",
    "ax1.set_xlabel('Samples')\n",
    "ax1.plot(samples, np.ones_like(crm_losses)*baseline_loss, '--', label='Baseline')\n",
    "ax1.plot(samples, crm_losses, 'o-', label='POEM')\n",
    "# ax1.plot(samples[1:], ucrm_losses, 'o-', label='POEM + Unif. Explo.')\n",
    "ax1.plot(samples, scrm_losses, 'o-', label='S-CRM')\n",
    "ax1.plot(samples, np.ones_like(crm_losses)*skyline_loss, '--', label='Skyline')\n",
    "#ax1.plot(samples, np.ones_like(crm_losses)*map_skyline_loss, '--', label='Skyline (MAP)')\n",
    "ax1.set_ylabel('Hamming Loss')\n",
    "ax1.legend(loc=(1.1, .1))\n",
    "\n",
    "ax2.set_title('Cumulated Regret Evolution over Data Usage - %s Dataset' % dataset_name)\n",
    "ax2.set_xlabel('Samples')\n",
    "#ax2.set_yscale('log')\n",
    "ax2.plot(samples, np.cumsum(map_skyline_rewards) - np.cumsum(np.ones_like(crm_losses)*baseline_reward), '--', label='Baseline')\n",
    "ax2.plot(samples, np.cumsum(map_skyline_rewards) - np.cumsum(crm_rewards), '-', label='POEM')\n",
    "# ax2.plot(samples[1:], ucrm_rewards, 'o-', label='POEM + Unif. Explo.')\n",
    "ax2.plot(samples, np.cumsum(map_skyline_rewards) - np.cumsum(scrm_rewards), 'o-', label='S-CRM')\n",
    "ax2.plot(samples, np.zeros_like(skyline_rewards), '--', label='Skyline')\n",
    "ax2.set_ylabel('Cumulated Regret')\n",
    "ax2.legend(loc=(1.1, .1))"
   ]
  }
 ],
 "metadata": {
  "kernelspec": {
   "display_name": "Python 3 (ipykernel)",
   "language": "python",
   "name": "python3"
  },
  "language_info": {
   "codemirror_mode": {
    "name": "ipython",
    "version": 3
   },
   "file_extension": ".py",
   "mimetype": "text/x-python",
   "name": "python",
   "nbconvert_exporter": "python",
   "pygments_lexer": "ipython3",
   "version": "3.9.12"
  }
 },
 "nbformat": 4,
 "nbformat_minor": 5
}

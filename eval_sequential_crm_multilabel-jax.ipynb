{
 "cells": [
  {
   "cell_type": "markdown",
   "id": "c4fa689b",
   "metadata": {},
   "source": [
    "# Sequential CRM Experiments\n",
    "\n",
    "- ref paper: https://arxiv.org/pdf/1502.02362.pdf\n",
    "- ref code & data: https://www.cs.cornell.edu/~adith/POEM/\n"
   ]
  },
  {
   "cell_type": "code",
   "execution_count": 1,
   "id": "9c25f72b",
   "metadata": {},
   "outputs": [],
   "source": [
    "import sys\n",
    "import time"
   ]
  },
  {
   "cell_type": "code",
   "execution_count": 2,
   "id": "b3299e83",
   "metadata": {},
   "outputs": [],
   "source": [
    "import numpy as np"
   ]
  },
  {
   "cell_type": "code",
   "execution_count": 77,
   "id": "8645d40e",
   "metadata": {},
   "outputs": [],
   "source": [
    "import jax\n",
    "import jax.numpy as jnp\n",
    "import jaxopt\n",
    "from jax.scipy.special import expit as jexpit\n",
    "from jax.scipy.optimize import minimize as jminimize"
   ]
  },
  {
   "cell_type": "code",
   "execution_count": 4,
   "id": "ad01a674",
   "metadata": {},
   "outputs": [],
   "source": [
    "from sklearn.neighbors import KNeighborsClassifier\n",
    "from sklearn.linear_model import LogisticRegression, LogisticRegressionCV\n",
    "from sklearn.dummy import DummyClassifier\n",
    "\n",
    "from sklearn.multioutput import MultiOutputClassifier, ClassifierChain\n",
    "\n",
    "from sklearn.model_selection import train_test_split\n",
    "\n",
    "from sklearn.random_projection import GaussianRandomProjection\n",
    "\n",
    "from sklearn.datasets import load_svmlight_file\n",
    "from sklearn.preprocessing import MultiLabelBinarizer\n",
    "\n",
    "from sklearn.metrics import hamming_loss"
   ]
  },
  {
   "cell_type": "code",
   "execution_count": 5,
   "id": "6da5c3e3",
   "metadata": {},
   "outputs": [],
   "source": [
    "import matplotlib.pyplot as plt"
   ]
  },
  {
   "cell_type": "markdown",
   "id": "3fbf7812",
   "metadata": {},
   "source": [
    "TODO:\n",
    "- //(softmax temperature ?)\n",
    "- make sure loss is good\n",
    "- fix pi0 to be bad"
   ]
  },
  {
   "cell_type": "markdown",
   "id": "69c93204",
   "metadata": {},
   "source": [
    "---\n",
    "## Loading dataset"
   ]
  },
  {
   "cell_type": "code",
   "execution_count": 6,
   "id": "dbaa9cb3",
   "metadata": {},
   "outputs": [],
   "source": [
    "dataset_name='scene'\n",
    "# dataset_name='yeast'\n",
    "#dataset_name='tmc2007'"
   ]
  },
  {
   "cell_type": "code",
   "execution_count": 7,
   "id": "4757a860",
   "metadata": {},
   "outputs": [
    {
     "data": {
      "text/plain": [
       "(1211, 294)"
      ]
     },
     "execution_count": 7,
     "metadata": {},
     "output_type": "execute_result"
    }
   ],
   "source": [
    "X_train, y_train_ = load_svmlight_file(dataset_name+'_train.svm', multilabel=True)\n",
    "X_train = np.array(X_train.todense())\n",
    "X_train.shape"
   ]
  },
  {
   "cell_type": "code",
   "execution_count": 8,
   "id": "1c48b812",
   "metadata": {},
   "outputs": [
    {
     "data": {
      "text/plain": [
       "(1196, 294)"
      ]
     },
     "execution_count": 8,
     "metadata": {},
     "output_type": "execute_result"
    }
   ],
   "source": [
    "X_test, y_test_ = load_svmlight_file(dataset_name+'_test.svm', multilabel=True)\n",
    "X_test = np.array(X_test.todense())\n",
    "X_test.shape"
   ]
  },
  {
   "cell_type": "code",
   "execution_count": 9,
   "id": "6d7704b3",
   "metadata": {},
   "outputs": [],
   "source": [
    "onehot_labeller = MultiLabelBinarizer()\n",
    "y_train = onehot_labeller.fit_transform(y_train_).astype(int)\n",
    "y_test = onehot_labeller.transform(y_test_).astype(int)"
   ]
  },
  {
   "cell_type": "code",
   "execution_count": 10,
   "id": "10ebda13",
   "metadata": {},
   "outputs": [
    {
     "data": {
      "text/plain": [
       "((1805, 294), (602, 294))"
      ]
     },
     "execution_count": 10,
     "metadata": {},
     "output_type": "execute_result"
    }
   ],
   "source": [
    "X_all = np.vstack([X_train, X_test])\n",
    "y_all = np.vstack([y_train, y_test])\n",
    "X_train, X_test, y_train, y_test = train_test_split(\n",
    "    X_all, y_all, test_size=.25, random_state=0\n",
    ")\n",
    "X_train.shape, X_test.shape"
   ]
  },
  {
   "cell_type": "code",
   "execution_count": 11,
   "id": "567d21e3",
   "metadata": {},
   "outputs": [],
   "source": [
    "if dataset_name == 'tmc_2007':\n",
    "    print(\"reducing dimension for TMC dataset\")\n",
    "    fh = GaussianRandomProjection(n_components=1000)\n",
    "    X_train = fh.fit_transform(X_train)\n",
    "    X_test = fh.transform(X_test)\n",
    "    print(X_train.shape)"
   ]
  },
  {
   "cell_type": "code",
   "execution_count": 12,
   "id": "15fdd9e5",
   "metadata": {},
   "outputs": [
    {
     "data": {
      "text/plain": [
       "array([0, 1, 2, 3, 4, 5])"
      ]
     },
     "execution_count": 12,
     "metadata": {},
     "output_type": "execute_result"
    }
   ],
   "source": [
    "labels = onehot_labeller.classes_.astype(int)\n",
    "labels"
   ]
  },
  {
   "cell_type": "code",
   "execution_count": 13,
   "id": "3f7514c4",
   "metadata": {},
   "outputs": [
    {
     "data": {
      "text/plain": [
       "(array([1685.,    0.,    0.,    0.,    0.,    0.,    0.,    0.,    0.,\n",
       "         120.]),\n",
       " array([1. , 1.1, 1.2, 1.3, 1.4, 1.5, 1.6, 1.7, 1.8, 1.9, 2. ]),\n",
       " <BarContainer object of 10 artists>)"
      ]
     },
     "execution_count": 13,
     "metadata": {},
     "output_type": "execute_result"
    },
    {
     "data": {
      "image/png": "[encoded data removed]",
      "text/plain": [
       "<Figure size 432x288 with 1 Axes>"
      ]
     },
     "metadata": {
      "needs_background": "light"
     },
     "output_type": "display_data"
    }
   ],
   "source": [
    "plt.hist(y_train.sum(axis=1))"
   ]
  },
  {
   "cell_type": "markdown",
   "id": "a82cf30b",
   "metadata": {},
   "source": [
    "FYI: Error rate of null policy (always predict 0)"
   ]
  },
  {
   "cell_type": "code",
   "execution_count": 14,
   "id": "105dcb27",
   "metadata": {},
   "outputs": [
    {
     "data": {
      "text/plain": [
       "1.0963455149501662"
      ]
     },
     "execution_count": 14,
     "metadata": {},
     "output_type": "execute_result"
    }
   ],
   "source": [
    "y_test.sum()/(y_test.shape[0])"
   ]
  },
  {
   "cell_type": "markdown",
   "id": "7b3ab902",
   "metadata": {},
   "source": [
    "---\n",
    "## Our Model"
   ]
  },
  {
   "cell_type": "markdown",
   "id": "ae1279d1",
   "metadata": {},
   "source": [
    "### CRM routines"
   ]
  },
  {
   "cell_type": "code",
   "execution_count": 15,
   "id": "768c1499",
   "metadata": {},
   "outputs": [],
   "source": [
    "class CRMDataset(object):\n",
    "    \n",
    "    def __init__(self):\n",
    "\n",
    "        self.propensities_ = []\n",
    "        self.actions_ = []\n",
    "        self.rewards_ = []\n",
    "        self.features_ = []\n",
    "        \n",
    "        self.propensities_np = None\n",
    "        self.actions_np = None\n",
    "        self.rewards_np = None\n",
    "        self.features_np = None\n",
    "\n",
    "        self.check()\n",
    "        \n",
    "    def __str__(self):\n",
    "        if not self.propensities_np:\n",
    "            return '<CRMDataset>'\n",
    "        self._generate_numpys()\n",
    "        return '<CRMDataset propensities:%s actions:%s rewards:%s features:%s>' % (\n",
    "            self.propensities_np.shape,\n",
    "            self.actions_np.shape,\n",
    "            self.rewards_np.shape,\n",
    "            self.features_np.shape\n",
    "        )\n",
    "    \n",
    "    __repr__ = __str__\n",
    "        \n",
    "    def check(self):\n",
    "        assert len(self.features_) == len(self.propensities_) == len(self.rewards_) == len(self.actions_)\n",
    "        assert type(self.propensities_) == type(self.actions_) == type(self.rewards_) == type(self.features_) == list        \n",
    "        \n",
    "    def __len__(self):\n",
    "        return len(self.propensities_)\n",
    "        \n",
    "    def _generate_arrays(self):\n",
    "        if self.propensities_np is not None and len(self.propensities_np) == len(self.propensities_):\n",
    "            return        \n",
    "        self.propensities_np = jnp.vstack(self.propensities_)\n",
    "        self.actions_np = jnp.vstack(self.actions_)\n",
    "        self.rewards_np = jnp.vstack(self.rewards_)\n",
    "        self.features_np = jnp.vstack(self.features_)\n",
    "        \n",
    "    @property\n",
    "    def actions(self):\n",
    "        return self.actions_np\n",
    "\n",
    "    @property\n",
    "    def propensities(self):\n",
    "        return self.propensities_np\n",
    "    \n",
    "    @property\n",
    "    def rewards(self):\n",
    "        return self.rewards_np\n",
    "    \n",
    "    @property\n",
    "    def features(self):\n",
    "        return self.features_np\n",
    "        \n",
    "    def update_from_supervised_dataset(self, X, y, probas, n_samples=4, labels=labels):\n",
    "        # X is (n,d)\n",
    "        # y is (n,k)\n",
    "        # probas is (n,k)\n",
    "\n",
    "        assert len(X) == len(y) == len(probas), (len(X) , len(y) , len(probas))\n",
    "\n",
    "        for i in range(len(X)):\n",
    "\n",
    "            for k in range(n_samples):\n",
    "\n",
    "                chosen_actions = np.array([np.random.binomial(1, p=probas[i,j]) for j in labels])\n",
    "                self.actions_ += [chosen_actions]\n",
    "                self.propensities_ += [probas[i,:]]\n",
    "                self.features_ += [X[i,:]]\n",
    "                self.rewards_ += [sum(int(y[i,j] == chosen_actions[j]) for j in labels)]\n",
    "                \n",
    "        self._generate_arrays()\n",
    "        return self"
   ]
  },
  {
   "cell_type": "markdown",
   "id": "a7d83b97",
   "metadata": {},
   "source": [
    "### Modeling"
   ]
  },
  {
   "cell_type": "code",
   "execution_count": 154,
   "id": "b870bfb5",
   "metadata": {},
   "outputs": [],
   "source": [
    "class Model(object):\n",
    "    \n",
    "    def __init__(self, beta):\n",
    "        self.d = beta.shape[0]\n",
    "        self.k = beta.shape[1]\n",
    "        self.beta_ = beta\n",
    "        \n",
    "    @property\n",
    "    def beta(self):\n",
    "        return self.beta_\n",
    "    \n",
    "    @beta.setter\n",
    "    def beta(self, beta):\n",
    "        # beta is (d, k)\n",
    "        self.beta_ = beta.reshape(self.d, self.k)\n",
    "        \n",
    "    @staticmethod\n",
    "    def random_model(d, k, seed=None):\n",
    "        np.random.seed(seed)\n",
    "        beta = jnp.array(np.random.normal(size=(d, k)))\n",
    "        return Model(beta)\n",
    "    \n",
    "    @staticmethod\n",
    "    def null_model(d, k):\n",
    "        beta = jnp.array(np.zeros((d, k)))\n",
    "        return Model(beta)\n",
    "\n",
    "    def predict(self, features):\n",
    "        wx = jnp.dot(features, self.beta_)\n",
    "        return (wx > 0).astype(int)\n",
    "    \n",
    "    def predict_proba(self, features, actions):\n",
    "        wx = jnp.dot(features, self.beta_)\n",
    "        actions_sign = 2 * actions - 1\n",
    "        return jexpit(actions_sign * wx)\n",
    "    \n",
    "    def expected_hamming_loss(self, X, y):\n",
    "        y_invert = 1 - y\n",
    "        invert_probas = self.predict_proba(X, y_invert)\n",
    "        return invert_probas.sum() / (self.k * y.shape[0])    \n",
    "        \n",
    "    def crm_loss(self, crm_dataset: CRMDataset, \n",
    "                 up_clip: float = 1000, \n",
    "                 low_clip: float = 1e-9,\n",
    "                 lambda_: float = 0,\n",
    "                 verbose: bool = True):\n",
    "\n",
    "        n = crm_dataset.features.shape[0]\n",
    "\n",
    "        predictions = self.predict_proba(crm_dataset.features, crm_dataset.actions)       \n",
    "        predictions = jnp.clip(predictions, low_clip, None)        \n",
    "        if verbose: jax.debug.print('preds: {} - {}', predictions.min(), predictions.max())\n",
    "        per_instance_log_predictions = jnp.log(predictions).sum(axis=1)\n",
    "        \n",
    "        per_instance_propensities = jnp.clip(crm_dataset.propensities, low_clip, None)\n",
    "        if verbose: jax.debug.print('props: {} - {}', per_instance_propensities.min(), per_instance_propensities.max())\n",
    "        per_instance_log_propensities = jnp.log(per_instance_propensities).sum(axis=1)\n",
    "        \n",
    "        per_instance_log_importance_weights = per_instance_log_predictions - per_instance_log_propensities\n",
    "        per_instance_importance_weights = jnp.exp(per_instance_log_importance_weights)                \n",
    "    \n",
    "        ips_q10, ips_q90 = jnp.quantile(per_instance_importance_weights, jnp.array([.01,.99]))\n",
    "        weights_low_clip = jnp.max(jnp.array([ips_q10, low_clip]))\n",
    "        weights_up_clip = jnp.min(jnp.array([ips_q90, up_clip]))\n",
    "        if verbose: \n",
    "            jax.debug.print(\"clip:  {} - {}\", weights_low_clip, weights_up_clip)\n",
    "            jax.debug.print(\"min/max: {} - {}\", \n",
    "                            per_instance_importance_weights.min(), per_instance_importance_weights.max())\n",
    "        per_instance_importance_weights = jnp.clip(per_instance_importance_weights, \n",
    "                                                   weights_low_clip, weights_up_clip)    \n",
    "        if verbose: jax.debug.print('ips: {} - {}', per_instance_importance_weights.min(), per_instance_importance_weights.max())\n",
    "        per_instance_importance_weights = per_instance_importance_weights.reshape(\n",
    "            (per_instance_importance_weights.shape[0], 1)\n",
    "        )\n",
    "        \n",
    "        per_instance_importance_weighted_rewards = jnp.multiply(\n",
    "            self.k - crm_dataset.rewards, # to make a loss\n",
    "            per_instance_importance_weights\n",
    "        )\n",
    "        if verbose: jax.debug.print('ipR: {} - {}', per_instance_importance_weighted_rewards.min(), per_instance_importance_weighted_rewards.max())\n",
    "        \n",
    "        total_loss = per_instance_importance_weighted_rewards.sum() / per_instance_importance_weights.sum()\n",
    "        \n",
    "        if lambda_ > 0:\n",
    "            total_loss += lambda_ * jnp.sqrt(jnp.var(per_instance_importance_weights) / n)\n",
    "        \n",
    "        return total_loss / self.k"
   ]
  },
  {
   "cell_type": "markdown",
   "id": "42854657",
   "metadata": {},
   "source": [
    "### CF Optimization"
   ]
  },
  {
   "cell_type": "code",
   "execution_count": 108,
   "id": "87d388e5",
   "metadata": {},
   "outputs": [],
   "source": [
    "def iterate_model(model, X, y, sampling_probas, crm_dataset: CRMDataset, \n",
    "                  samples_per_instance:int = 4, verbose=False, **loss_args):\n",
    "    \n",
    "    loss_args['verbose'] = verbose\n",
    "        \n",
    "    # prior_crm_dataset will get extended\n",
    "    crm_dataset.update_from_supervised_dataset(\n",
    "        X, y, sampling_probas, \n",
    "        n_samples=samples_per_instance\n",
    "    )\n",
    "    if verbose: print(\"Dataset ready:\", len(crm_dataset), file=sys.stderr)\n",
    "    def _loss(beta):\n",
    "        model.beta = beta\n",
    "        return model.crm_loss(crm_dataset, **loss_args)\n",
    "        \n",
    "    optimizer = jaxopt.ScipyMinimize(method='L-BFGS-B', fun=_loss, maxiter=1000, tol=1e-9)\n",
    "    solution = optimizer.run(model.beta)\n",
    "    if verbose: print(\"Optimi finished:\", solution.state, file=sys.stderr)\n",
    "    model.beta = solution.params\n",
    "    \n",
    "    return model"
   ]
  },
  {
   "cell_type": "markdown",
   "id": "f6aef896",
   "metadata": {},
   "source": [
    "----\n",
    "## Baselines & Skylines"
   ]
  },
  {
   "cell_type": "markdown",
   "id": "2170d08d",
   "metadata": {},
   "source": [
    " ![Perf from CRM article](./basesky.png)"
   ]
  },
  {
   "cell_type": "code",
   "execution_count": 18,
   "id": "11f3e804",
   "metadata": {},
   "outputs": [],
   "source": [
    "paper_results = {\n",
    "    'scene': {\n",
    "        'pi0': 1.543, 'ips': 1.193, 'poem': 1.168, 'pi*':.659\n",
    "    },\n",
    "    'yeast': {\n",
    "        'pi0': 5.547, 'ips': 4.635, 'poem': 4.480, 'pi*':2.282\n",
    "\n",
    "    }\n",
    "}\n",
    "\n",
    "def stoch_hloss(pi, X_test, y_test):\n",
    "    predictions = pi.predict_proba(X_test)\n",
    "    predictions = np.array([_[:,1] for _ in predictions]).T\n",
    "    idx = np.where(y_test == 0)\n",
    "    fp = predictions[idx].sum()\n",
    "    idx = np.where(y_test == 1)\n",
    "    fn = (1-predictions[idx]).sum()\n",
    "    return (fn+fp)/(y_test.shape[0]*y_test.shape[1])\n",
    "\n",
    "\n",
    "def result_table(pi0, pistar, X_test, y_test, ips_loss=None, poem_loss=None):\n",
    "    \n",
    "    stats = paper_results[dataset_name]\n",
    "    \n",
    "    print('Baseline -- paper: %.3f -- ours: %.3f' % (stats[\"pi0\"]/y_test.shape[1], \n",
    "                                                     stoch_hloss(pi0, X_test, y_test)))\n",
    "    print('IPS      -- paper: %.3f' % (stats[\"ips\"]/y_test.shape[1]), end='')\n",
    "    if ips_loss is not None:\n",
    "        print(' -- ours: %.3f' % ips_loss)\n",
    "    else:\n",
    "        print()\n",
    "    print('POEM     -- paper: %.3f' % (stats[\"poem\"]/y_test.shape[1]), end='')\n",
    "    if poem_loss is not None:\n",
    "        print(' -- ours: %.3f' % poem_loss)\n",
    "    else:\n",
    "        print()\n",
    "    print('Skyline  -- paper: %.3f -- ours: %.3f' % (stats[\"pi*\"]/y_test.shape[1], \n",
    "                                                     stoch_hloss(pistar, X_test, y_test)))    "
   ]
  },
  {
   "cell_type": "code",
   "execution_count": 39,
   "id": "3d72a15a",
   "metadata": {},
   "outputs": [
    {
     "data": {
      "text/plain": [
       "MultiOutputClassifier(estimator=LogisticRegressionCV(cv=5, max_iter=10000,\n",
       "                                                     n_jobs=6, tol=1e-06))"
      ]
     },
     "execution_count": 39,
     "metadata": {},
     "output_type": "execute_result"
    }
   ],
   "source": [
    "pistar = MultiOutputClassifier(LogisticRegressionCV(max_iter=10000, n_jobs=6, solver='lbfgs', tol=1e-6, cv=5))\n",
    "pistar.fit(X_train, y_train)"
   ]
  },
  {
   "cell_type": "code",
   "execution_count": 21,
   "id": "6c55dc27",
   "metadata": {},
   "outputs": [
    {
     "name": "stdout",
     "output_type": "stream",
     "text": [
      "learning pi0 on 90 data points\n"
     ]
    },
    {
     "data": {
      "text/plain": [
       "MultiOutputClassifier(estimator=KNeighborsClassifier(n_neighbors=30), n_jobs=6)"
      ]
     },
     "execution_count": 21,
     "metadata": {},
     "output_type": "execute_result"
    }
   ],
   "source": [
    "pi0 = MultiOutputClassifier(KNeighborsClassifier(n_neighbors=30),#penalty='l2', C=1e-9, fit_intercept=0, intercept_scaling=0), \n",
    "                            n_jobs=6)\n",
    "\n",
    "X_0, _, y_0, _ = train_test_split(X_train, y_train, test_size=.95, random_state=0)\n",
    "print('learning pi0 on', len(X_0), 'data points')\n",
    "\n",
    "pi0.fit(X_0, y_0)"
   ]
  },
  {
   "cell_type": "code",
   "execution_count": 22,
   "id": "9ab01a89",
   "metadata": {},
   "outputs": [],
   "source": [
    "# pi0 = MultiOutputClassifier(LogisticRegression(dual=True, solver='liblinear', max_iter=1000), n_jobs=6)\n",
    "# X_0, _, y_0, _ = train_test_split(X_train, y_train, test_size=.95, random_state=42)\n",
    "# pi0.fit(X_0, y_0)"
   ]
  },
  {
   "cell_type": "code",
   "execution_count": 44,
   "id": "5f04bff2",
   "metadata": {},
   "outputs": [
    {
     "name": "stdout",
     "output_type": "stream",
     "text": [
      "Baseline -- paper: 0.257 -- ours: 0.251\n",
      "IPS      -- paper: 0.199\n",
      "POEM     -- paper: 0.195\n",
      "Skyline  -- paper: 0.110 -- ours: 0.144\n"
     ]
    }
   ],
   "source": [
    "result_table(pi0, pistar, X_test, y_test)"
   ]
  },
  {
   "cell_type": "markdown",
   "id": "3cd69647",
   "metadata": {},
   "source": [
    "---\n",
    "## Classical CRM"
   ]
  },
  {
   "cell_type": "code",
   "execution_count": 23,
   "id": "63c1f2a2",
   "metadata": {},
   "outputs": [
    {
     "name": "stderr",
     "output_type": "stream",
     "text": [
      "WARNING:absl:No GPU/TPU found, falling back to CPU. (Set TF_CPP_MIN_LOG_LEVEL=0 and rerun for more info.)\n"
     ]
    }
   ],
   "source": [
    "# useful to check the online CRM optimization\n",
    "# (this CRM dataset is supposedly less biased than the online one the optim observes)\n",
    "ref_crm_dataset = CRMDataset().update_from_supervised_dataset(\n",
    "    X_train, y_train, \n",
    "    np.ones((X_train.shape[0], y_train.shape[1]))*.5,\n",
    "    n_samples=10\n",
    ")"
   ]
  },
  {
   "cell_type": "code",
   "execution_count": 160,
   "id": "850350a6",
   "metadata": {},
   "outputs": [
    {
     "name": "stdout",
     "output_type": "stream",
     "text": [
      "beta0 Exp. H. loss: 0.407\n",
      "preds: 9.999999717180685e-10 - 1.0\n",
      "props: 0.5 - 0.5\n",
      "clip:  9.999999717180685e-10 - 44.91791534423828\n",
      "min/max: 4.3179586803020694e-32 - 63.96323776245117\n",
      "ips: 9.999999717180685e-10 - 44.91791534423828\n",
      "ipR: 0.0 - 179.67166137695312\n",
      "beta0 CRM Loss (unif): 0.409\n"
     ]
    }
   ],
   "source": [
    "random_model = Model.random_model(X_test.shape[1], y_test.shape[1])\n",
    "print('beta0 Exp. H. loss: %.3f' % random_model.expected_hamming_loss(X_test, y_test))\n",
    "print('beta0 CRM Loss (unif): %.3f' % random_model.crm_loss(ref_crm_dataset, up_clip=50000))"
   ]
  },
  {
   "cell_type": "code",
   "execution_count": 161,
   "id": "9b7a2c9c",
   "metadata": {},
   "outputs": [
    {
     "name": "stdout",
     "output_type": "stream",
     "text": [
      "IPS     E[HL]: 0.172 | CRM Loss (++data): 0.164 | CRM Loss: 0.192\n",
      "POEM    E[HL]: 0.153 | CRM Loss (++data): 0.148 | CRM Loss: 0.178\n",
      "IPS     E[HL]: 0.172 | CRM Loss (++data): 0.163 | CRM Loss: 0.195\n",
      "POEM    E[HL]: 0.162 | CRM Loss (++data): 0.147 | CRM Loss: 0.185\n",
      "IPS     E[HL]: 0.161 | CRM Loss (++data): 0.159 | CRM Loss: 0.183\n",
      "POEM    E[HL]: 0.165 | CRM Loss (++data): 0.155 | CRM Loss: 0.186\n",
      "IPS     E[HL]: 0.171 | CRM Loss (++data): 0.162 | CRM Loss: 0.193\n",
      "POEM    E[HL]: 0.177 | CRM Loss (++data): 0.175 | CRM Loss: 0.173\n",
      "IPS     E[HL]: 0.172 | CRM Loss (++data): 0.164 | CRM Loss: 0.193\n",
      "POEM    E[HL]: 0.155 | CRM Loss (++data): 0.151 | CRM Loss: 0.178\n",
      "IPS     E[HL]: 0.173 | CRM Loss (++data): 0.166 | CRM Loss: 0.195\n",
      "POEM    E[HL]: 0.166 | CRM Loss (++data): 0.161 | CRM Loss: 0.182\n",
      "IPS     E[HL]: 0.174 | CRM Loss (++data): 0.165 | CRM Loss: 0.193\n",
      "POEM    E[HL]: 0.150 | CRM Loss (++data): 0.139 | CRM Loss: 0.180\n",
      "IPS     E[HL]: 0.183 | CRM Loss (++data): 0.175 | CRM Loss: 0.201\n",
      "POEM    E[HL]: 0.167 | CRM Loss (++data): 0.153 | CRM Loss: 0.192\n",
      "IPS     E[HL]: 0.170 | CRM Loss (++data): 0.163 | CRM Loss: 0.192\n",
      "POEM    E[HL]: 0.152 | CRM Loss (++data): 0.139 | CRM Loss: 0.176\n",
      "IPS     E[HL]: 0.168 | CRM Loss (++data): 0.159 | CRM Loss: 0.192\n",
      "POEM    E[HL]: 0.155 | CRM Loss (++data): 0.148 | CRM Loss: 0.177\n",
      "\n",
      "CI(L(IPS) - L(POEM)) @ alpha=5%: [0.0066 ; 0.0164] \n",
      "\n",
      "Baseline -- paper: 0.257 -- ours: 0.251\n",
      "IPS      -- paper: 0.199 -- ours: 0.172\n",
      "POEM     -- paper: 0.195 -- ours: 0.160\n",
      "Skyline  -- paper: 0.110 -- ours: 0.144\n"
     ]
    }
   ],
   "source": [
    "ips_losses = []\n",
    "poem_losses = []\n",
    "for i in range(10):\n",
    "    ips_model = Model.null_model(X_test.shape[1], y_test.shape[1])\n",
    "#     ips_model = Model.random_model(X_test.shape[1], y_test.shape[1], seed=i*42)\n",
    "    poem_model = Model(ips_model.beta)\n",
    "    \n",
    "    ips_crm_dataset = CRMDataset()\n",
    "    poem_crm_dataset = CRMDataset()\n",
    "    sampling_probas = pi0.predict_proba(X_train)\n",
    "    sampling_probas = np.array([_[:,1] for _ in sampling_probas]).T\n",
    "    \n",
    "    np.random.seed(i*42)\n",
    "    iterate_model(\n",
    "        ips_model, X_train, y_train, sampling_probas, ips_crm_dataset, \n",
    "        samples_per_instance=4,\n",
    "        verbose=0, \n",
    "        lambda_ = 0,\n",
    "        up_clip = 5e4,\n",
    "        low_clip = 1e-9\n",
    "    )\n",
    "    print(\"IPS     E[HL]: %.3f | CRM Loss (++data): %.3f | CRM Loss: %.3f\" % (\n",
    "        ips_model.expected_hamming_loss(X_test, y_test), \n",
    "        ips_model.crm_loss(ref_crm_dataset, verbose=0), \n",
    "        ips_model.crm_loss(ips_crm_dataset, verbose=0)\n",
    "    ))\n",
    "    ips_losses += [ips_model.expected_hamming_loss(X_test, y_test)]    \n",
    "\n",
    "    np.random.seed(i*42)\n",
    "    iterate_model(\n",
    "        poem_model, X_train, y_train, sampling_probas, poem_crm_dataset, \n",
    "        samples_per_instance=4,\n",
    "        verbose=0, \n",
    "        lambda_ = .001, \n",
    "        up_clip = 5e4,\n",
    "        low_clip = 1e-9\n",
    "    )\n",
    "    print(\"POEM    E[HL]: %.3f | CRM Loss (++data): %.3f | CRM Loss: %.3f\" % (\n",
    "        poem_model.expected_hamming_loss(X_test, y_test), \n",
    "        poem_model.crm_loss(ref_crm_dataset, verbose=0), \n",
    "        poem_model.crm_loss(poem_crm_dataset, verbose=0)\n",
    "    ))\n",
    "    poem_losses += [poem_model.expected_hamming_loss(X_test, y_test)]    \n",
    "print()\n",
    "\n",
    "ips_losses = np.array(ips_losses)\n",
    "poem_losses = np.array(poem_losses)\n",
    "\n",
    "diff = ips_losses - poem_losses\n",
    "\n",
    "print('CI(L(IPS) - L(POEM)) @ alpha=5%%: [%.4f ; %.4f]' % (\n",
    "    diff.mean() - 1.64*np.std(diff)/np.sqrt(10), diff.mean() + 1.64*np.std(diff)/np.sqrt(10)\n",
    "), '\\n')\n",
    "\n",
    "result_table(pi0, pistar, X_test, y_test, ips_loss=np.mean(ips_losses), poem_loss=np.mean(poem_losses))"
   ]
  },
  {
   "cell_type": "markdown",
   "id": "439c7c60",
   "metadata": {},
   "source": [
    "---\n",
    "## Sequential CRM"
   ]
  },
  {
   "cell_type": "markdown",
   "id": "b3232f46",
   "metadata": {},
   "source": [
    "### Tracing"
   ]
  },
  {
   "cell_type": "code",
   "execution_count": 26,
   "id": "c399eb90",
   "metadata": {},
   "outputs": [],
   "source": [
    "class LossHistory(object):\n",
    "    \n",
    "    def __init__(self, name, ref_crm_dataset, X_test, y_test):\n",
    "        self.name = name\n",
    "        self.ref_crm_dataset = ref_crm_dataset\n",
    "        self.X_test = X_test\n",
    "        self.y_test = y_test\n",
    "        self.hamming_loss = []\n",
    "        self.crm_loss = []\n",
    "        self.unif_crm_loss = []\n",
    "        self.betas = []\n",
    "        self.n_samples = []\n",
    "        self.n_actions = []\n",
    "        self.rewards = []\n",
    "        \n",
    "    def update(self, model: Model, crm_dataset: CRMDataset):\n",
    "        self.betas += [model.beta]\n",
    "        self.hamming_loss += [model.expected_hamming_loss(self.X_test, self.y_test)]\n",
    "        self.crm_loss += [model.crm_loss(crm_dataset)]\n",
    "        self.unif_crm_loss += [model.crm_loss(self.ref_crm_dataset)]\n",
    "        self.n_samples += [len(crm_dataset)]\n",
    "        self.n_actions += [np.sum(crm_dataset.actions_)]\n",
    "        self.rewards += [np.sum(crm_dataset.rewards_)]\n",
    "        \n",
    "    def show_last(self):\n",
    "        print(\n",
    "            '<', self.name,\n",
    "            'Ham. loss: %.5f' % self.hamming_loss[-1], \n",
    "            'CRM loss: %.5f' % self.crm_loss[-1],\n",
    "            'CRM loss (U): %.5f' % self.unif_crm_loss[-1],\n",
    "            '|beta|=%.2f' % np.sqrt((self.betas[-1]**2).sum()), \n",
    "            'n=%d' % self.n_samples[-1],\n",
    "            '|A|=%d' % self.n_actions[-1],\n",
    "            '|R|=%d' % self.rewards[-1],\n",
    "            '>',\n",
    "            file=sys.stderr\n",
    "        )"
   ]
  },
  {
   "cell_type": "markdown",
   "id": "28ae40cb",
   "metadata": {},
   "source": [
    "### The Experiment"
   ]
  },
  {
   "cell_type": "code",
   "execution_count": null,
   "id": "177c431d",
   "metadata": {},
   "outputs": [],
   "source": [
    "rollouts = "
   ]
  },
  {
   "cell_type": "code",
   "execution_count": 27,
   "id": "d035c476",
   "metadata": {
    "scrolled": false
   },
   "outputs": [
    {
     "name": "stderr",
     "output_type": "stream",
     "text": [
      "****************************** PASS 1/1 ******************************\n",
      "< Static Ham. loss: 0.38799 CRM loss: 0.06036 CRM loss (U): 0.39909 |beta|=144.70 n=7220 |A|=7831 |R|=32583 >\n",
      "******************** episod: 1/1 time: 1s ********************\n"
     ]
    }
   ],
   "source": [
    "static_model = Model.random_model(X_test.shape[1], y_test.shape[1])\n",
    "dynamic_model = Model.random_model(X_test.shape[1], y_test.shape[1])\n",
    "\n",
    "static_crm_dataset = CRMDataset()\n",
    "dynamic_crm_dataset = CRMDataset()\n",
    "\n",
    "static_loss_history = LossHistory(\"Static\", ref_crm_dataset, X_test, y_test)\n",
    "dynamic_loss_history = LossHistory(\"Dynamic\", ref_crm_dataset, X_test, y_test)\n",
    "\n",
    "epochs = 1\n",
    "n_episods = 1\n",
    "batch = int(len(X_train) / n_episods)\n",
    "replays = 4\n",
    "\n",
    "for _ in range(epochs):\n",
    "    \n",
    "    print('*'*30, 'PASS %d/%d'% (_+1, epochs), '*'*30, file=sys.stderr)\n",
    "    for episod in range(n_episods):\n",
    "        start = episod*batch\n",
    "        end = (episod+1)*batch\n",
    "        t_start = time.time()\n",
    "\n",
    "        # current slice of dataset\n",
    "        X = X_train[start:end,:]\n",
    "        y = y_train[start:end,:]\n",
    "       \n",
    "        #### static CRM \n",
    "        ## action probas\n",
    "        sampling_probas_static = pi0.predict_proba(X)\n",
    "        sampling_probas_static = np.array([_[:,1] for _ in sampling_probas_static]).T\n",
    "        ## optimize\n",
    "        iterate_model(\n",
    "            static_model, X, y, sampling_probas_static, static_crm_dataset, \n",
    "            samples_per_instance=replays,\n",
    "        )\n",
    "        ## record\n",
    "        static_loss_history.update(static_model, static_crm_dataset)\n",
    "        static_loss_history.show_last()\n",
    "        \n",
    "        #### sequential CRM \n",
    "        ## action probas\n",
    "#         if episod == 0:\n",
    "#             sampling_probas_dynamic = sampling_probas_static\n",
    "#         else:\n",
    "#             sampling_probas_dynamic = dynamic_model.predict_proba(X, y)        \n",
    "#         ## optimize\n",
    "#         iterate_model(\n",
    "#             dynamic_model, X, y, sampling_probas_dynamic, dynamic_crm_dataset,\n",
    "#             samples_per_instance=replays,\n",
    "#         )\n",
    "#         ## record\n",
    "#         dynamic_loss_history.update(dynamic_model, dynamic_crm_dataset)\n",
    "#         dynamic_loss_history.show_last()\n",
    "        t_end = time.time()\n",
    "    \n",
    "        print('*'*20, 'episod: %d/%d' % (episod+1, n_episods), \n",
    "              'time: %ds' % (t_end - t_start), '*'*20, file=sys.stderr)\n"
   ]
  },
  {
   "cell_type": "markdown",
   "id": "0f50197f",
   "metadata": {},
   "source": [
    "### Insights"
   ]
  },
  {
   "cell_type": "code",
   "execution_count": 28,
   "id": "341ee6ed",
   "metadata": {},
   "outputs": [
    {
     "data": {
      "text/plain": [
       "<matplotlib.legend.Legend at 0x7fb7016f1910>"
      ]
     },
     "execution_count": 28,
     "metadata": {},
     "output_type": "execute_result"
    },
    {
     "data": {
      "image/png": "[encoded data removed]",
      "text/plain": [
       "<Figure size 432x288 with 2 Axes>"
      ]
     },
     "metadata": {
      "needs_background": "light"
     },
     "output_type": "display_data"
    }
   ],
   "source": [
    "fig, ax = plt.subplots(constrained_layout=True)\n",
    "plt.title('Loss Evolution over Rollouts')\n",
    "ax.set_xlabel('Rollouts')\n",
    "ax.set_ylabel('CRM Loss')\n",
    "ax.plot(static_loss_history.crm_loss, '--', label='CRM loss (static)')\n",
    "# ax.plot(dynamic_loss_history.crm_loss, '--', label='CRM loss (dynamic)')\n",
    "ax.plot(static_loss_history.unif_crm_loss, '--', label='unif. CRM loss (static)')\n",
    "# ax.plot(dynamic_loss_history.unif_crm_loss, '--', label='unif. CRM loss (dynamic)')\n",
    "ax.legend(loc='upper right')\n",
    "ax2 = ax.twinx()\n",
    "ax2.plot(static_loss_history.hamming_loss, label='Hamming loss (static)')\n",
    "# ax2.plot(dynamic_loss_history.hamming_loss, label='Hamming loss (dynamic)')\n",
    "ax2.set_ylabel('Hamming Loss')\n",
    "ax2.legend(loc='lower left')"
   ]
  },
  {
   "cell_type": "code",
   "execution_count": 29,
   "id": "bf53deb9",
   "metadata": {},
   "outputs": [
    {
     "data": {
      "text/plain": [
       "<matplotlib.legend.Legend at 0x7fb70142af70>"
      ]
     },
     "execution_count": 29,
     "metadata": {},
     "output_type": "execute_result"
    },
    {
     "data": {
      "image/png": "[encoded data removed]",
      "text/plain": [
       "<Figure size 432x288 with 1 Axes>"
      ]
     },
     "metadata": {
      "needs_background": "light"
     },
     "output_type": "display_data"
    }
   ],
   "source": [
    "plt.title('Avg Proba per Action')\n",
    "plt.plot(jexpit(static_model.beta.mean(axis=0)),'--', label='static')\n",
    "# plt.plot(jexpit(beta_dynamic.mean(axis=0)),'--', label='dynamic')\n",
    "plt.legend()"
   ]
  },
  {
   "cell_type": "code",
   "execution_count": 30,
   "id": "39d44929",
   "metadata": {},
   "outputs": [
    {
     "data": {
      "text/plain": [
       "<matplotlib.legend.Legend at 0x7fb70134fa60>"
      ]
     },
     "execution_count": 30,
     "metadata": {},
     "output_type": "execute_result"
    },
    {
     "data": {
      "image/png": "[encoded data removed]",
      "text/plain": [
       "<Figure size 432x288 with 1 Axes>"
      ]
     },
     "metadata": {
      "needs_background": "light"
     },
     "output_type": "display_data"
    }
   ],
   "source": [
    "plt.title('Avg Proba per Feature')\n",
    "plt.plot(jexpit(static_model.beta.mean(axis=1)),'--', label='static')\n",
    "plt.legend()"
   ]
  },
  {
   "cell_type": "code",
   "execution_count": 31,
   "id": "d41c8b99",
   "metadata": {},
   "outputs": [
    {
     "data": {
      "text/plain": [
       "<matplotlib.legend.Legend at 0x7fb6b42e6130>"
      ]
     },
     "execution_count": 31,
     "metadata": {},
     "output_type": "execute_result"
    },
    {
     "data": {
      "image/png": "[encoded data removed]",
      "text/plain": [
       "<Figure size 432x288 with 1 Axes>"
      ]
     },
     "metadata": {
      "needs_background": "light"
     },
     "output_type": "display_data"
    }
   ],
   "source": [
    "plt.title('Sampling Probas per Action')\n",
    "plt.plot(sampling_probas_static.mean(axis=0),'--', label='static')\n",
    "# plt.plot(sampling_probas_dynamic.mean(axis=0),'--', label='dynamic')\n",
    "plt.plot(y_test.mean(axis=0), label='label average', alpha=.5)\n",
    "plt.legend()"
   ]
  }
 ],
 "metadata": {
  "kernelspec": {
   "display_name": "Python 3 (ipykernel)",
   "language": "python",
   "name": "python3"
  },
  "language_info": {
   "codemirror_mode": {
    "name": "ipython",
    "version": 3
   },
   "file_extension": ".py",
   "mimetype": "text/x-python",
   "name": "python",
   "nbconvert_exporter": "python",
   "pygments_lexer": "ipython3",
   "version": "3.9.12"
  }
 },
 "nbformat": 4,
 "nbformat_minor": 5
}

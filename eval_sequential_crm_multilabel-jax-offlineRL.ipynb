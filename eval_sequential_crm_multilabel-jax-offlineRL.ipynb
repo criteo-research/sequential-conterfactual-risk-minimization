{
 "cells": [
  {
   "cell_type": "markdown",
   "id": "c4fa689b",
   "metadata": {},
   "source": [
    "# Sequential CRM Experiments\n",
    "\n",
    "## Reference works\n",
    "- ref paper: https://arxiv.org/pdf/1502.02362.pdf\n",
    "- ref code & data: https://www.cs.cornell.edu/~adith/POEM/\n",
    "- recent paper (ICML'18): http://proceedings.mlr.press/v80/wu18g/wu18g.pdf\n",
    "- recent paper using vision tasks: https://arxiv.org/pdf/1806.11500v6.pdf"
   ]
  },
  {
   "cell_type": "markdown",
   "id": "8bda196b",
   "metadata": {},
   "source": [
    "TODO:\n",
    "1. DONE - fix pi0 to be bad enough\n",
    "1. DONE - make sure propensities are not all 0\n",
    "1. DONE - add check for propensity overfitting\n",
    "1. SEEMS OK - fix optim to work correctly -- but POEM cannot work with LBFG-S (see paper)"
   ]
  },
  {
   "cell_type": "code",
   "execution_count": 1,
   "id": "07fe2be7",
   "metadata": {},
   "outputs": [],
   "source": [
    "%load_ext autoreload\n",
    "%autoreload 2"
   ]
  },
  {
   "cell_type": "code",
   "execution_count": 2,
   "id": "9c25f72b",
   "metadata": {},
   "outputs": [],
   "source": [
    "import sys\n",
    "import time\n",
    "import copy"
   ]
  },
  {
   "cell_type": "code",
   "execution_count": 3,
   "id": "b3299e83",
   "metadata": {},
   "outputs": [],
   "source": [
    "import numpy as np"
   ]
  },
  {
   "cell_type": "code",
   "execution_count": 4,
   "id": "9a8fd973-d7ae-44dd-9588-d1f68a37eeb5",
   "metadata": {},
   "outputs": [],
   "source": [
    "import jax.numpy as jnp\n",
    "from jax.scipy.special import expit as jexpit"
   ]
  },
  {
   "cell_type": "code",
   "execution_count": 5,
   "id": "6da5c3e3",
   "metadata": {},
   "outputs": [],
   "source": [
    "import matplotlib.pyplot as plt"
   ]
  },
  {
   "cell_type": "code",
   "execution_count": 6,
   "id": "040d3d14-85a8-4352-8e96-43c704eecae2",
   "metadata": {},
   "outputs": [],
   "source": [
    "from dataset_utils import load_dataset\n",
    "from baselines_skylines import result_table, make_baselines_skylines\n",
    "from crm_dataset import CRMDataset\n",
    "from crm_model import Model\n",
    "from tracing_utils import LossHistory"
   ]
  },
  {
   "cell_type": "markdown",
   "id": "69c93204",
   "metadata": {},
   "source": [
    "---\n",
    "### Loading dataset"
   ]
  },
  {
   "cell_type": "code",
   "execution_count": 7,
   "id": "44e9ad84",
   "metadata": {
    "scrolled": true
   },
   "outputs": [
    {
     "name": "stdout",
     "output_type": "stream",
     "text": [
      "Requirement already satisfied: pygame in /opt/anaconda3/lib/python3.8/site-packages (2.1.2)\n",
      "Requirement already satisfied: stable-baselines3[extra] in /opt/anaconda3/lib/python3.8/site-packages (1.6.2)\n",
      "Requirement already satisfied: cloudpickle in /opt/anaconda3/lib/python3.8/site-packages (from stable-baselines3[extra]) (1.6.0)\n",
      "Requirement already satisfied: matplotlib in /opt/anaconda3/lib/python3.8/site-packages (from stable-baselines3[extra]) (3.3.4)\n",
      "Requirement already satisfied: gym==0.21 in /opt/anaconda3/lib/python3.8/site-packages (from stable-baselines3[extra]) (0.21.0)\n",
      "Requirement already satisfied: numpy in /opt/anaconda3/lib/python3.8/site-packages (from stable-baselines3[extra]) (1.20.1)\n",
      "Requirement already satisfied: importlib-metadata~=4.13 in /opt/anaconda3/lib/python3.8/site-packages (from stable-baselines3[extra]) (4.13.0)\n",
      "Requirement already satisfied: pandas in /opt/anaconda3/lib/python3.8/site-packages (from stable-baselines3[extra]) (1.2.4)\n",
      "Requirement already satisfied: torch>=1.11 in /opt/anaconda3/lib/python3.8/site-packages (from stable-baselines3[extra]) (1.13.0)\n",
      "Requirement already satisfied: psutil in /opt/anaconda3/lib/python3.8/site-packages (from stable-baselines3[extra]) (5.8.0)\n",
      "Requirement already satisfied: tqdm in /opt/anaconda3/lib/python3.8/site-packages (from stable-baselines3[extra]) (4.59.0)\n",
      "Requirement already satisfied: tensorboard>=2.9.1 in /opt/anaconda3/lib/python3.8/site-packages (from stable-baselines3[extra]) (2.9.1)\n",
      "Requirement already satisfied: ale-py==0.7.4 in /opt/anaconda3/lib/python3.8/site-packages (from stable-baselines3[extra]) (0.7.4)\n",
      "Requirement already satisfied: opencv-python in /opt/anaconda3/lib/python3.8/site-packages (from stable-baselines3[extra]) (4.6.0.66)\n",
      "Requirement already satisfied: rich in /opt/anaconda3/lib/python3.8/site-packages (from stable-baselines3[extra]) (12.6.0)\n",
      "Requirement already satisfied: autorom[accept-rom-license]~=0.4.2 in /opt/anaconda3/lib/python3.8/site-packages (from stable-baselines3[extra]) (0.4.2)\n",
      "Requirement already satisfied: pillow in /opt/anaconda3/lib/python3.8/site-packages (from stable-baselines3[extra]) (8.2.0)\n",
      "Requirement already satisfied: importlib-resources in /opt/anaconda3/lib/python3.8/site-packages (from ale-py==0.7.4->stable-baselines3[extra]) (5.10.0)\n",
      "Requirement already satisfied: requests in /opt/anaconda3/lib/python3.8/site-packages (from autorom[accept-rom-license]~=0.4.2->stable-baselines3[extra]) (2.25.1)\n",
      "Requirement already satisfied: click in /opt/anaconda3/lib/python3.8/site-packages (from autorom[accept-rom-license]~=0.4.2->stable-baselines3[extra]) (7.1.2)\n",
      "Requirement already satisfied: AutoROM.accept-rom-license in /opt/anaconda3/lib/python3.8/site-packages (from autorom[accept-rom-license]~=0.4.2->stable-baselines3[extra]) (0.4.2)\n",
      "Requirement already satisfied: zipp>=0.5 in /opt/anaconda3/lib/python3.8/site-packages (from importlib-metadata~=4.13->stable-baselines3[extra]) (3.4.1)\n",
      "Requirement already satisfied: grpcio>=1.24.3 in /opt/anaconda3/lib/python3.8/site-packages (from tensorboard>=2.9.1->stable-baselines3[extra]) (1.47.0)\n",
      "Requirement already satisfied: protobuf<3.20,>=3.9.2 in /opt/anaconda3/lib/python3.8/site-packages (from tensorboard>=2.9.1->stable-baselines3[extra]) (3.19.4)\n",
      "Requirement already satisfied: google-auth<3,>=1.6.3 in /opt/anaconda3/lib/python3.8/site-packages (from tensorboard>=2.9.1->stable-baselines3[extra]) (2.9.0)\n",
      "Requirement already satisfied: absl-py>=0.4 in /opt/anaconda3/lib/python3.8/site-packages (from tensorboard>=2.9.1->stable-baselines3[extra]) (1.1.0)\n",
      "Requirement already satisfied: wheel>=0.26 in /opt/anaconda3/lib/python3.8/site-packages (from tensorboard>=2.9.1->stable-baselines3[extra]) (0.36.2)\n",
      "Requirement already satisfied: setuptools>=41.0.0 in /opt/anaconda3/lib/python3.8/site-packages (from tensorboard>=2.9.1->stable-baselines3[extra]) (52.0.0.post20210125)\n",
      "Requirement already satisfied: tensorboard-data-server<0.7.0,>=0.6.0 in /opt/anaconda3/lib/python3.8/site-packages (from tensorboard>=2.9.1->stable-baselines3[extra]) (0.6.1)\n",
      "Requirement already satisfied: tensorboard-plugin-wit>=1.6.0 in /opt/anaconda3/lib/python3.8/site-packages (from tensorboard>=2.9.1->stable-baselines3[extra]) (1.8.1)\n",
      "Requirement already satisfied: werkzeug>=1.0.1 in /opt/anaconda3/lib/python3.8/site-packages (from tensorboard>=2.9.1->stable-baselines3[extra]) (1.0.1)\n",
      "Requirement already satisfied: markdown>=2.6.8 in /opt/anaconda3/lib/python3.8/site-packages (from tensorboard>=2.9.1->stable-baselines3[extra]) (3.3.7)\n",
      "Requirement already satisfied: google-auth-oauthlib<0.5,>=0.4.1 in /opt/anaconda3/lib/python3.8/site-packages (from tensorboard>=2.9.1->stable-baselines3[extra]) (0.4.6)\n",
      "Requirement already satisfied: six>=1.9.0 in /opt/anaconda3/lib/python3.8/site-packages (from google-auth<3,>=1.6.3->tensorboard>=2.9.1->stable-baselines3[extra]) (1.15.0)\n",
      "Requirement already satisfied: cachetools<6.0,>=2.0.0 in /opt/anaconda3/lib/python3.8/site-packages (from google-auth<3,>=1.6.3->tensorboard>=2.9.1->stable-baselines3[extra]) (5.2.0)\n",
      "Requirement already satisfied: rsa<5,>=3.1.4 in /opt/anaconda3/lib/python3.8/site-packages (from google-auth<3,>=1.6.3->tensorboard>=2.9.1->stable-baselines3[extra]) (4.8)\n",
      "Requirement already satisfied: pyasn1-modules>=0.2.1 in /opt/anaconda3/lib/python3.8/site-packages (from google-auth<3,>=1.6.3->tensorboard>=2.9.1->stable-baselines3[extra]) (0.2.8)\n",
      "Requirement already satisfied: requests-oauthlib>=0.7.0 in /opt/anaconda3/lib/python3.8/site-packages (from google-auth-oauthlib<0.5,>=0.4.1->tensorboard>=2.9.1->stable-baselines3[extra]) (1.3.1)\n",
      "Requirement already satisfied: pyasn1<0.5.0,>=0.4.6 in /opt/anaconda3/lib/python3.8/site-packages (from pyasn1-modules>=0.2.1->google-auth<3,>=1.6.3->tensorboard>=2.9.1->stable-baselines3[extra]) (0.4.8)\n",
      "Requirement already satisfied: chardet<5,>=3.0.2 in /opt/anaconda3/lib/python3.8/site-packages (from requests->autorom[accept-rom-license]~=0.4.2->stable-baselines3[extra]) (4.0.0)\n",
      "Requirement already satisfied: urllib3<1.27,>=1.21.1 in /opt/anaconda3/lib/python3.8/site-packages (from requests->autorom[accept-rom-license]~=0.4.2->stable-baselines3[extra]) (1.26.4)\n",
      "Requirement already satisfied: idna<3,>=2.5 in /opt/anaconda3/lib/python3.8/site-packages (from requests->autorom[accept-rom-license]~=0.4.2->stable-baselines3[extra]) (2.10)\n",
      "Requirement already satisfied: certifi>=2017.4.17 in /opt/anaconda3/lib/python3.8/site-packages (from requests->autorom[accept-rom-license]~=0.4.2->stable-baselines3[extra]) (2020.12.5)\n",
      "Requirement already satisfied: oauthlib>=3.0.0 in /opt/anaconda3/lib/python3.8/site-packages (from requests-oauthlib>=0.7.0->google-auth-oauthlib<0.5,>=0.4.1->tensorboard>=2.9.1->stable-baselines3[extra]) (3.2.0)\n",
      "Requirement already satisfied: typing-extensions in /opt/anaconda3/lib/python3.8/site-packages (from torch>=1.11->stable-baselines3[extra]) (4.4.0)\n",
      "Requirement already satisfied: pyparsing!=2.0.4,!=2.1.2,!=2.1.6,>=2.0.3 in /opt/anaconda3/lib/python3.8/site-packages (from matplotlib->stable-baselines3[extra]) (2.4.7)\n",
      "Requirement already satisfied: python-dateutil>=2.1 in /opt/anaconda3/lib/python3.8/site-packages (from matplotlib->stable-baselines3[extra]) (2.8.1)\n",
      "Requirement already satisfied: cycler>=0.10 in /opt/anaconda3/lib/python3.8/site-packages (from matplotlib->stable-baselines3[extra]) (0.10.0)\n",
      "Requirement already satisfied: kiwisolver>=1.0.1 in /opt/anaconda3/lib/python3.8/site-packages (from matplotlib->stable-baselines3[extra]) (1.3.1)\n",
      "Requirement already satisfied: pytz>=2017.3 in /opt/anaconda3/lib/python3.8/site-packages (from pandas->stable-baselines3[extra]) (2021.1)\n",
      "Requirement already satisfied: commonmark<0.10.0,>=0.9.0 in /opt/anaconda3/lib/python3.8/site-packages (from rich->stable-baselines3[extra]) (0.9.1)\n",
      "Requirement already satisfied: pygments<3.0.0,>=2.6.0 in /opt/anaconda3/lib/python3.8/site-packages (from rich->stable-baselines3[extra]) (2.8.1)\n",
      "Requirement already satisfied: pyglet==1.5.27 in /opt/anaconda3/lib/python3.8/site-packages (1.5.27)\n"
     ]
    }
   ],
   "source": [
    "!pip install pygame\n",
    "!pip install 'stable-baselines3[extra]'\n",
    "# !pip install stable_baselines3\n",
    "!pip install pyglet==1.5.27"
   ]
  },
  {
   "cell_type": "code",
   "execution_count": 8,
   "id": "ca5de6b5",
   "metadata": {
    "scrolled": true
   },
   "outputs": [
    {
     "name": "stdout",
     "output_type": "stream",
     "text": [
      "pygame 2.1.2 (SDL 2.0.18, Python 3.8.8)\n",
      "Hello from the pygame community. https://www.pygame.org/contribute.html\n"
     ]
    }
   ],
   "source": [
    "import gym\n",
    "from gym import spaces\n",
    "from gym.spaces import MultiDiscrete, Discrete, Box\n",
    "import pygame\n",
    "import numpy as np\n",
    "\n",
    "class CustomEnv(gym.Env):\n",
    "    \"\"\"Custom Environment that follows gym interface\"\"\"\n",
    "#     metadata = {'render.modes': ['human']}\n",
    "#     Everything is stored as batch. one setp_size=one whole pass on the train dataset\n",
    "\n",
    "    def __init__(self, dataset_name):\n",
    "        super(CustomEnv, self).__init__()\n",
    "        self.name=dataset_name\n",
    "        self.current_step = 0\n",
    "        self.binarize_step = 0\n",
    "        X_train, y_train, X_test, y_test, labels = load_dataset(dataset_name)\n",
    "        self.X=X_train\n",
    "        self.y=y_train\n",
    "        self.X_test = X_test\n",
    "        self.y_test = y_test\n",
    "        # X is (n,d)\n",
    "        # y is (n,k)\n",
    "        # probas is (n,k)\n",
    "        self.n = X_train.shape[0]\n",
    "        self.d = X_train.shape[1]\n",
    "        self.k = y_train.shape[1]\n",
    "        self.reward_range = (0, self.k)     \n",
    "#         self.action_space = spaces.Box(\n",
    "#           low=np.zeros(shape=self.k), high=np.ones(shape=self.k), dtype=np.int32)\n",
    "        self.action_space = MultiDiscrete(2*np.ones(shape=self.k))#Tuple((Discrete(2), Box(0, 1, (self.k,))))\n",
    "        self.observation_space = spaces.Box(\n",
    "          low=np.array([-1.]*self.d), high=np.array([1.]*self.d), dtype=np.float16)\n",
    "\n",
    "    def get_X_train(self):\n",
    "        return self.X\n",
    "    \n",
    "    def get_X_test(self):\n",
    "        return self.X_test\n",
    "    \n",
    "    def get_y_test(self):\n",
    "        return self.y_test\n",
    "    \n",
    "    def step(self, action):\n",
    "        obs = self._next_observation()\n",
    "        if self.binarize_step == 0:\n",
    "            reward = 0\n",
    "            done = False\n",
    "        else:\n",
    "            truth = self.y[self.current_step]\n",
    "            reward = (1 - np.logical_xor(action, truth)).sum()#.reshape((n,1))\n",
    "            done = True\n",
    "        self.current_step += 1 \n",
    "        if self.current_step >= (self.n):\n",
    "            self.current_step = 0\n",
    "        self.binarize_step=self.current_step %2\n",
    "        return (np.array(obs), reward, done, {})\n",
    "    \n",
    "    def reset(self, seed=None, options=None):\n",
    "        # We need the following line to seed self.np_random\n",
    "        return self.X[self.current_step]\n",
    "    def _get_obs(self):\n",
    "        obs = self.X[self.current_step]\n",
    "        return obs\n",
    "    def _get_info(self):\n",
    "        return \"\"\n",
    "    def _next_observation(self):\n",
    "        obs = self.X[self.current_step]\n",
    "        return obs"
   ]
  },
  {
   "cell_type": "markdown",
   "id": "b33a4552",
   "metadata": {},
   "source": [
    "Eval on test dataset using the expected hamming loss:\\\n",
    "def expected_hamming_loss(self, X, y):\\\n",
    "    y_invert = 1 - y\\\n",
    "    invert_probas = self.predict_proba(X, y_invert)\\\n",
    "    return invert_probas.sum() / (self.k * y.shape[0])"
   ]
  },
  {
   "cell_type": "code",
   "execution_count": 26,
   "id": "2336e20b",
   "metadata": {},
   "outputs": [],
   "source": [
    "from stable_baselines3.common.callbacks import BaseCallback\n",
    "import pickle\n",
    "\n",
    "class CustomCallback(BaseCallback):\n",
    "    \"\"\"\n",
    "    A custom callback that derives from ``BaseCallback``.\n",
    "\n",
    "    :param verbose: Verbosity level: 0 for no output, 1 for info messages, 2 for debug messages\n",
    "    \"\"\"\n",
    "    def __init__(self, verbose=0):\n",
    "        super(CustomCallback, self).__init__(verbose)\n",
    "        self.X_test=env.get_X_test()\n",
    "        self.y_test=env.get_y_test()\n",
    "        self.EHL_history=[]\n",
    "        # Those variables will be accessible in the callback\n",
    "        # (they are defined in the base class)\n",
    "        # The RL model\n",
    "        # self.model = None  # type: BaseAlgorithm\n",
    "        # An alias for self.model.get_env(), the environment used for training\n",
    "        # self.training_env = None  # type: Union[gym.Env, VecEnv, None]\n",
    "        # Number of time the callback was called\n",
    "        # self.n_calls = 0  # type: int\n",
    "        # self.num_timesteps = 0  # type: int\n",
    "        # local and global variables\n",
    "        # self.locals = None  # type: Dict[str, Any]\n",
    "        # self.globals = None  # type: Dict[str, Any]\n",
    "        # The logger object, used to report things in the terminal\n",
    "        # self.logger = None  # stable_baselines3.common.logger\n",
    "        # # Sometimes, for event callback, it is useful\n",
    "        # # to have access to the parent object\n",
    "        # self.parent = None  # type: Optional[BaseCallback]\n",
    "\n",
    "\n",
    "    def _on_training_start(self) -> None:\n",
    "        \"\"\"\n",
    "        This method is called before the first rollout starts.\n",
    "        \"\"\"\n",
    "        pass\n",
    "\n",
    "    def _on_rollout_start(self) -> None:\n",
    "        \"\"\"\n",
    "        A rollout is the collection of environment interaction\n",
    "        using the current policy.\n",
    "        This event is triggered before collecting new samples.\n",
    "        \"\"\"\n",
    "        pass\n",
    "\n",
    "    def _on_step(self) -> bool:\n",
    "        \"\"\"\n",
    "        This method will be called by the model after each call to `env.step()`.\n",
    "\n",
    "        For child callback (of an `EventCallback`), this will be called\n",
    "        when the event is triggered.\n",
    "\n",
    "        :return: (bool) If the callback returns False, training is aborted early.\n",
    "        \"\"\"\n",
    "        return True\n",
    "    def _on_rollout_end(self) -> None:\n",
    "        \"\"\"\n",
    "        This event is triggered before updating the policy.\n",
    "        \"\"\"\n",
    "        res=[np.abs(self.model.predict(self.X_test)[0]-self.y_test).mean() for _ in range(10)]\n",
    "        self.EHL_history+=[{'step': self.n_calls, 'EHLm': np.mean(res), 'EHLv': np.var(res)}]\n",
    "        print('rollout:', self.n_calls, res)\n",
    "\n",
    "    def _on_training_end(self) -> None:\n",
    "        \"\"\"\n",
    "        This event is triggered before exiting the `learn()` method.\n",
    "        \"\"\"\n",
    "        with open(dataset_name+'.pickle', 'wb') as f:\n",
    "            pickle.dump(self.EHL_history, f)"
   ]
  },
  {
   "cell_type": "code",
   "execution_count": 27,
   "id": "4808d2d1",
   "metadata": {},
   "outputs": [],
   "source": [
    "from stable_baselines3 import PPO"
   ]
  },
  {
   "cell_type": "code",
   "execution_count": 28,
   "id": "11f8ac8a",
   "metadata": {},
   "outputs": [],
   "source": [
    "datasets=['tmc2007', 'scene', 'yeast']"
   ]
  },
  {
   "cell_type": "code",
   "execution_count": 29,
   "id": "1dbcaa73",
   "metadata": {},
   "outputs": [
    {
     "name": "stdout",
     "output_type": "stream",
     "text": [
      "reducing dimension for TMC dataset\n",
      "X_train: (21447, 1000) y_train: (21447, 22)\n"
     ]
    },
    {
     "name": "stderr",
     "output_type": "stream",
     "text": [
      "/opt/anaconda3/lib/python3.8/site-packages/gym/spaces/box.py:73: UserWarning: \u001b[33mWARN: Box bound precision lowered by casting to float16\u001b[0m\n",
      "  logger.warn(\n"
     ]
    }
   ],
   "source": [
    "# dataset_name='scene'\n",
    "# dataset_name='yeast'\n",
    "dataset_name='tmc2007'\n",
    "\n",
    "# env = DummyVecEnv([lambda: CustomEnv(dataset_name)])\n",
    "env = CustomEnv(dataset_name)\n",
    "n_train = env.get_X_train().shape[0]\n",
    "max_nb_rollout = 2**7"
   ]
  },
  {
   "cell_type": "code",
   "execution_count": 30,
   "id": "e6143f0b",
   "metadata": {},
   "outputs": [
    {
     "data": {
      "text/plain": [
       "(7149, 1000)"
      ]
     },
     "execution_count": 30,
     "metadata": {},
     "output_type": "execute_result"
    }
   ],
   "source": [
    "env.get_X_test().shape"
   ]
  },
  {
   "cell_type": "code",
   "execution_count": null,
   "id": "d5c62e99",
   "metadata": {
    "scrolled": true
   },
   "outputs": [],
   "source": [
    "callback = CustomCallback()\n",
    "model = PPO(\"MlpPolicy\", env, verbose=1, n_steps=n_train)\n",
    "model.learn(total_timesteps=n_train*max_nb_rollout, callback = callback)\n",
    "# model.save(\"ppo_cartpole\")"
   ]
  },
  {
   "cell_type": "code",
   "execution_count": null,
   "id": "0e4bb2c3",
   "metadata": {},
   "outputs": [],
   "source": [
    "callback.EHL_history"
   ]
  },
  {
   "cell_type": "markdown",
   "id": "8f92bb04",
   "metadata": {},
   "source": [
    "Load and compare with other model"
   ]
  },
  {
   "cell_type": "code",
   "execution_count": 36,
   "id": "f4748727",
   "metadata": {},
   "outputs": [],
   "source": [
    "dataset_name='scene'\n",
    "# dataset_name='yeast'\n",
    "dataset_name='tmc2007'"
   ]
  },
  {
   "cell_type": "code",
   "execution_count": 37,
   "id": "6e2bddb8",
   "metadata": {},
   "outputs": [],
   "source": [
    "\n",
    "with open(dataset_name+'.pickle', 'rb') as f:\n",
    "    res = pickle.load(f)"
   ]
  },
  {
   "cell_type": "code",
   "execution_count": 38,
   "id": "be6cce81",
   "metadata": {},
   "outputs": [],
   "source": [
    "replay_targets = 2**np.arange(6)\n",
    "\n",
    "# res=callback.EHL_history\n",
    "n_step=res[0]['step']\n",
    "X=[i['step']/n_step for i in res]\n",
    "Y=[i['EHLm'] for i in res]\n",
    "# plt.plot(X,Y)\n",
    "rollout_PPO=np.power(2,range(8)).astype(int)\n",
    "PPO_loss=[Y[i-1] for i in rollout_PPO]"
   ]
  },
  {
   "cell_type": "code",
   "execution_count": 39,
   "id": "80fa5dd2",
   "metadata": {},
   "outputs": [
    {
     "data": {
      "image/png": "[encoded data removed]",
      "text/plain": [
       "<Figure size 432x288 with 1 Axes>"
      ]
     },
     "metadata": {
      "needs_background": "light"
     },
     "output_type": "display_data"
    }
   ],
   "source": [
    "plt.plot(rollout_PPO,PPO_loss)\n",
    "plt.xscale('log')\n"
   ]
  },
  {
   "cell_type": "markdown",
   "id": "f6aef896",
   "metadata": {},
   "source": [
    "### Baselines & Skylines"
   ]
  },
  {
   "cell_type": "code",
   "execution_count": 40,
   "id": "c8f97940",
   "metadata": {},
   "outputs": [
    {
     "name": "stdout",
     "output_type": "stream",
     "text": [
      "reducing dimension for TMC dataset\n",
      "X_train: (21447, 1000) y_train: (21447, 22)\n"
     ]
    }
   ],
   "source": [
    "X_train, y_train, X_test, y_test, labels = load_dataset(dataset_name)"
   ]
  },
  {
   "cell_type": "code",
   "execution_count": 41,
   "id": "b321b06d-23e5-429a-b135-66f7c5246b0f",
   "metadata": {},
   "outputs": [
    {
     "ename": "KeyboardInterrupt",
     "evalue": "",
     "output_type": "error",
     "traceback": [
      "\u001b[0;31m--------------------------------------------------------\u001b[0m",
      "\u001b[0;31mKeyboardInterrupt\u001b[0m      Traceback (most recent call last)",
      "\u001b[0;32m<ipython-input-41-b0665e9dfec0>\u001b[0m in \u001b[0;36m<module>\u001b[0;34m\u001b[0m\n\u001b[0;32m----> 1\u001b[0;31m \u001b[0mpi0\u001b[0m\u001b[0;34m,\u001b[0m \u001b[0mpistar\u001b[0m \u001b[0;34m=\u001b[0m \u001b[0mmake_baselines_skylines\u001b[0m\u001b[0;34m(\u001b[0m\u001b[0mdataset_name\u001b[0m\u001b[0;34m,\u001b[0m \u001b[0mX_train\u001b[0m\u001b[0;34m,\u001b[0m \u001b[0my_train\u001b[0m\u001b[0;34m)\u001b[0m\u001b[0;34m\u001b[0m\u001b[0;34m\u001b[0m\u001b[0m\n\u001b[0m",
      "\u001b[0;32m~/scrm/baselines_skylines.py\u001b[0m in \u001b[0;36mmake_baselines_skylines\u001b[0;34m(dataset_name, X_train, y_train, bonus, mlp, n_jobs)\u001b[0m\n\u001b[1;32m    101\u001b[0m     \u001b[0;32melse\u001b[0m\u001b[0;34m:\u001b[0m\u001b[0;34m\u001b[0m\u001b[0;34m\u001b[0m\u001b[0m\n\u001b[1;32m    102\u001b[0m         \u001b[0mpistar\u001b[0m \u001b[0;34m=\u001b[0m \u001b[0mMultiOutputClassifier\u001b[0m\u001b[0;34m(\u001b[0m\u001b[0mLogisticRegressionCV\u001b[0m\u001b[0;34m(\u001b[0m\u001b[0mmax_iter\u001b[0m\u001b[0;34m=\u001b[0m\u001b[0;36m10000\u001b[0m\u001b[0;34m,\u001b[0m \u001b[0mn_jobs\u001b[0m\u001b[0;34m=\u001b[0m\u001b[0;36m6\u001b[0m\u001b[0;34m)\u001b[0m\u001b[0;34m,\u001b[0m \u001b[0mn_jobs\u001b[0m\u001b[0;34m=\u001b[0m\u001b[0mn_jobs\u001b[0m\u001b[0;34m)\u001b[0m\u001b[0;34m\u001b[0m\u001b[0;34m\u001b[0m\u001b[0m\n\u001b[0;32m--> 103\u001b[0;31m     \u001b[0mpistar\u001b[0m\u001b[0;34m.\u001b[0m\u001b[0mfit\u001b[0m\u001b[0;34m(\u001b[0m\u001b[0mX_train\u001b[0m\u001b[0;34m,\u001b[0m \u001b[0my_train\u001b[0m\u001b[0;34m)\u001b[0m\u001b[0;34m\u001b[0m\u001b[0;34m\u001b[0m\u001b[0m\n\u001b[0m\u001b[1;32m    104\u001b[0m \u001b[0;34m\u001b[0m\u001b[0m\n\u001b[1;32m    105\u001b[0m     \u001b[0mn_0\u001b[0m \u001b[0;34m=\u001b[0m \u001b[0mint\u001b[0m\u001b[0;34m(\u001b[0m\u001b[0mlen\u001b[0m\u001b[0;34m(\u001b[0m\u001b[0mX_train\u001b[0m\u001b[0;34m)\u001b[0m\u001b[0;34m*\u001b[0m\u001b[0;36m.05\u001b[0m\u001b[0;34m)\u001b[0m\u001b[0;34m\u001b[0m\u001b[0;34m\u001b[0m\u001b[0m\n",
      "\u001b[0;32m/opt/anaconda3/lib/python3.8/site-packages/sklearn/multioutput.py\u001b[0m in \u001b[0;36mfit\u001b[0;34m(self, X, Y, sample_weight, **fit_params)\u001b[0m\n\u001b[1;32m    432\u001b[0m             \u001b[0mReturns\u001b[0m \u001b[0ma\u001b[0m \u001b[0mfitted\u001b[0m \u001b[0minstance\u001b[0m\u001b[0;34m.\u001b[0m\u001b[0;34m\u001b[0m\u001b[0;34m\u001b[0m\u001b[0m\n\u001b[1;32m    433\u001b[0m         \"\"\"\n\u001b[0;32m--> 434\u001b[0;31m         \u001b[0msuper\u001b[0m\u001b[0;34m(\u001b[0m\u001b[0;34m)\u001b[0m\u001b[0;34m.\u001b[0m\u001b[0mfit\u001b[0m\u001b[0;34m(\u001b[0m\u001b[0mX\u001b[0m\u001b[0;34m,\u001b[0m \u001b[0mY\u001b[0m\u001b[0;34m,\u001b[0m \u001b[0msample_weight\u001b[0m\u001b[0;34m,\u001b[0m \u001b[0;34m**\u001b[0m\u001b[0mfit_params\u001b[0m\u001b[0;34m)\u001b[0m\u001b[0;34m\u001b[0m\u001b[0;34m\u001b[0m\u001b[0m\n\u001b[0m\u001b[1;32m    435\u001b[0m         \u001b[0mself\u001b[0m\u001b[0;34m.\u001b[0m\u001b[0mclasses_\u001b[0m \u001b[0;34m=\u001b[0m \u001b[0;34m[\u001b[0m\u001b[0mestimator\u001b[0m\u001b[0;34m.\u001b[0m\u001b[0mclasses_\u001b[0m \u001b[0;32mfor\u001b[0m \u001b[0mestimator\u001b[0m \u001b[0;32min\u001b[0m \u001b[0mself\u001b[0m\u001b[0;34m.\u001b[0m\u001b[0mestimators_\u001b[0m\u001b[0;34m]\u001b[0m\u001b[0;34m\u001b[0m\u001b[0;34m\u001b[0m\u001b[0m\n\u001b[1;32m    436\u001b[0m         \u001b[0;32mreturn\u001b[0m \u001b[0mself\u001b[0m\u001b[0;34m\u001b[0m\u001b[0;34m\u001b[0m\u001b[0m\n",
      "\u001b[0;32m/opt/anaconda3/lib/python3.8/site-packages/sklearn/multioutput.py\u001b[0m in \u001b[0;36mfit\u001b[0;34m(self, X, y, sample_weight, **fit_params)\u001b[0m\n\u001b[1;32m    200\u001b[0m         \u001b[0mfit_params_validated\u001b[0m \u001b[0;34m=\u001b[0m \u001b[0m_check_fit_params\u001b[0m\u001b[0;34m(\u001b[0m\u001b[0mX\u001b[0m\u001b[0;34m,\u001b[0m \u001b[0mfit_params\u001b[0m\u001b[0;34m)\u001b[0m\u001b[0;34m\u001b[0m\u001b[0;34m\u001b[0m\u001b[0m\n\u001b[1;32m    201\u001b[0m \u001b[0;34m\u001b[0m\u001b[0m\n\u001b[0;32m--> 202\u001b[0;31m         self.estimators_ = Parallel(n_jobs=self.n_jobs)(\n\u001b[0m\u001b[1;32m    203\u001b[0m             delayed(_fit_estimator)(\n\u001b[1;32m    204\u001b[0m                 \u001b[0mself\u001b[0m\u001b[0;34m.\u001b[0m\u001b[0mestimator\u001b[0m\u001b[0;34m,\u001b[0m \u001b[0mX\u001b[0m\u001b[0;34m,\u001b[0m \u001b[0my\u001b[0m\u001b[0;34m[\u001b[0m\u001b[0;34m:\u001b[0m\u001b[0;34m,\u001b[0m \u001b[0mi\u001b[0m\u001b[0;34m]\u001b[0m\u001b[0;34m,\u001b[0m \u001b[0msample_weight\u001b[0m\u001b[0;34m,\u001b[0m \u001b[0;34m**\u001b[0m\u001b[0mfit_params_validated\u001b[0m\u001b[0;34m\u001b[0m\u001b[0;34m\u001b[0m\u001b[0m\n",
      "\u001b[0;32m/opt/anaconda3/lib/python3.8/site-packages/joblib/parallel.py\u001b[0m in \u001b[0;36m__call__\u001b[0;34m(self, iterable)\u001b[0m\n\u001b[1;32m   1052\u001b[0m \u001b[0;34m\u001b[0m\u001b[0m\n\u001b[1;32m   1053\u001b[0m             \u001b[0;32mwith\u001b[0m \u001b[0mself\u001b[0m\u001b[0;34m.\u001b[0m\u001b[0m_backend\u001b[0m\u001b[0;34m.\u001b[0m\u001b[0mretrieval_context\u001b[0m\u001b[0;34m(\u001b[0m\u001b[0;34m)\u001b[0m\u001b[0;34m:\u001b[0m\u001b[0;34m\u001b[0m\u001b[0;34m\u001b[0m\u001b[0m\n\u001b[0;32m-> 1054\u001b[0;31m                 \u001b[0mself\u001b[0m\u001b[0;34m.\u001b[0m\u001b[0mretrieve\u001b[0m\u001b[0;34m(\u001b[0m\u001b[0;34m)\u001b[0m\u001b[0;34m\u001b[0m\u001b[0;34m\u001b[0m\u001b[0m\n\u001b[0m\u001b[1;32m   1055\u001b[0m             \u001b[0;31m# Make sure that we get a last message telling us we are done\u001b[0m\u001b[0;34m\u001b[0m\u001b[0;34m\u001b[0m\u001b[0;34m\u001b[0m\u001b[0m\n\u001b[1;32m   1056\u001b[0m             \u001b[0melapsed_time\u001b[0m \u001b[0;34m=\u001b[0m \u001b[0mtime\u001b[0m\u001b[0;34m.\u001b[0m\u001b[0mtime\u001b[0m\u001b[0;34m(\u001b[0m\u001b[0;34m)\u001b[0m \u001b[0;34m-\u001b[0m \u001b[0mself\u001b[0m\u001b[0;34m.\u001b[0m\u001b[0m_start_time\u001b[0m\u001b[0;34m\u001b[0m\u001b[0;34m\u001b[0m\u001b[0m\n",
      "\u001b[0;32m/opt/anaconda3/lib/python3.8/site-packages/joblib/parallel.py\u001b[0m in \u001b[0;36mretrieve\u001b[0;34m(self)\u001b[0m\n\u001b[1;32m    931\u001b[0m             \u001b[0;32mtry\u001b[0m\u001b[0;34m:\u001b[0m\u001b[0;34m\u001b[0m\u001b[0;34m\u001b[0m\u001b[0m\n\u001b[1;32m    932\u001b[0m                 \u001b[0;32mif\u001b[0m \u001b[0mgetattr\u001b[0m\u001b[0;34m(\u001b[0m\u001b[0mself\u001b[0m\u001b[0;34m.\u001b[0m\u001b[0m_backend\u001b[0m\u001b[0;34m,\u001b[0m \u001b[0;34m'supports_timeout'\u001b[0m\u001b[0;34m,\u001b[0m \u001b[0;32mFalse\u001b[0m\u001b[0;34m)\u001b[0m\u001b[0;34m:\u001b[0m\u001b[0;34m\u001b[0m\u001b[0;34m\u001b[0m\u001b[0m\n\u001b[0;32m--> 933\u001b[0;31m                     \u001b[0mself\u001b[0m\u001b[0;34m.\u001b[0m\u001b[0m_output\u001b[0m\u001b[0;34m.\u001b[0m\u001b[0mextend\u001b[0m\u001b[0;34m(\u001b[0m\u001b[0mjob\u001b[0m\u001b[0;34m.\u001b[0m\u001b[0mget\u001b[0m\u001b[0;34m(\u001b[0m\u001b[0mtimeout\u001b[0m\u001b[0;34m=\u001b[0m\u001b[0mself\u001b[0m\u001b[0;34m.\u001b[0m\u001b[0mtimeout\u001b[0m\u001b[0;34m)\u001b[0m\u001b[0;34m)\u001b[0m\u001b[0;34m\u001b[0m\u001b[0;34m\u001b[0m\u001b[0m\n\u001b[0m\u001b[1;32m    934\u001b[0m                 \u001b[0;32melse\u001b[0m\u001b[0;34m:\u001b[0m\u001b[0;34m\u001b[0m\u001b[0;34m\u001b[0m\u001b[0m\n\u001b[1;32m    935\u001b[0m                     \u001b[0mself\u001b[0m\u001b[0;34m.\u001b[0m\u001b[0m_output\u001b[0m\u001b[0;34m.\u001b[0m\u001b[0mextend\u001b[0m\u001b[0;34m(\u001b[0m\u001b[0mjob\u001b[0m\u001b[0;34m.\u001b[0m\u001b[0mget\u001b[0m\u001b[0;34m(\u001b[0m\u001b[0;34m)\u001b[0m\u001b[0;34m)\u001b[0m\u001b[0;34m\u001b[0m\u001b[0;34m\u001b[0m\u001b[0m\n",
      "\u001b[0;32m/opt/anaconda3/lib/python3.8/site-packages/joblib/_parallel_backends.py\u001b[0m in \u001b[0;36mwrap_future_result\u001b[0;34m(future, timeout)\u001b[0m\n\u001b[1;32m    540\u001b[0m         AsyncResults.get from multiprocessing.\"\"\"\n\u001b[1;32m    541\u001b[0m         \u001b[0;32mtry\u001b[0m\u001b[0;34m:\u001b[0m\u001b[0;34m\u001b[0m\u001b[0;34m\u001b[0m\u001b[0m\n\u001b[0;32m--> 542\u001b[0;31m             \u001b[0;32mreturn\u001b[0m \u001b[0mfuture\u001b[0m\u001b[0;34m.\u001b[0m\u001b[0mresult\u001b[0m\u001b[0;34m(\u001b[0m\u001b[0mtimeout\u001b[0m\u001b[0;34m=\u001b[0m\u001b[0mtimeout\u001b[0m\u001b[0;34m)\u001b[0m\u001b[0;34m\u001b[0m\u001b[0;34m\u001b[0m\u001b[0m\n\u001b[0m\u001b[1;32m    543\u001b[0m         \u001b[0;32mexcept\u001b[0m \u001b[0mCfTimeoutError\u001b[0m \u001b[0;32mas\u001b[0m \u001b[0me\u001b[0m\u001b[0;34m:\u001b[0m\u001b[0;34m\u001b[0m\u001b[0;34m\u001b[0m\u001b[0m\n\u001b[1;32m    544\u001b[0m             \u001b[0;32mraise\u001b[0m \u001b[0mTimeoutError\u001b[0m \u001b[0;32mfrom\u001b[0m \u001b[0me\u001b[0m\u001b[0;34m\u001b[0m\u001b[0;34m\u001b[0m\u001b[0m\n",
      "\u001b[0;32m/opt/anaconda3/lib/python3.8/concurrent/futures/_base.py\u001b[0m in \u001b[0;36mresult\u001b[0;34m(self, timeout)\u001b[0m\n\u001b[1;32m    432\u001b[0m                 \u001b[0;32mreturn\u001b[0m \u001b[0mself\u001b[0m\u001b[0;34m.\u001b[0m\u001b[0m__get_result\u001b[0m\u001b[0;34m(\u001b[0m\u001b[0;34m)\u001b[0m\u001b[0;34m\u001b[0m\u001b[0;34m\u001b[0m\u001b[0m\n\u001b[1;32m    433\u001b[0m \u001b[0;34m\u001b[0m\u001b[0m\n\u001b[0;32m--> 434\u001b[0;31m             \u001b[0mself\u001b[0m\u001b[0;34m.\u001b[0m\u001b[0m_condition\u001b[0m\u001b[0;34m.\u001b[0m\u001b[0mwait\u001b[0m\u001b[0;34m(\u001b[0m\u001b[0mtimeout\u001b[0m\u001b[0;34m)\u001b[0m\u001b[0;34m\u001b[0m\u001b[0;34m\u001b[0m\u001b[0m\n\u001b[0m\u001b[1;32m    435\u001b[0m \u001b[0;34m\u001b[0m\u001b[0m\n\u001b[1;32m    436\u001b[0m             \u001b[0;32mif\u001b[0m \u001b[0mself\u001b[0m\u001b[0;34m.\u001b[0m\u001b[0m_state\u001b[0m \u001b[0;32min\u001b[0m \u001b[0;34m[\u001b[0m\u001b[0mCANCELLED\u001b[0m\u001b[0;34m,\u001b[0m \u001b[0mCANCELLED_AND_NOTIFIED\u001b[0m\u001b[0;34m]\u001b[0m\u001b[0;34m:\u001b[0m\u001b[0;34m\u001b[0m\u001b[0;34m\u001b[0m\u001b[0m\n",
      "\u001b[0;32m/opt/anaconda3/lib/python3.8/threading.py\u001b[0m in \u001b[0;36mwait\u001b[0;34m(self, timeout)\u001b[0m\n\u001b[1;32m    300\u001b[0m         \u001b[0;32mtry\u001b[0m\u001b[0;34m:\u001b[0m    \u001b[0;31m# restore state no matter what (e.g., KeyboardInterrupt)\u001b[0m\u001b[0;34m\u001b[0m\u001b[0;34m\u001b[0m\u001b[0m\n\u001b[1;32m    301\u001b[0m             \u001b[0;32mif\u001b[0m \u001b[0mtimeout\u001b[0m \u001b[0;32mis\u001b[0m \u001b[0;32mNone\u001b[0m\u001b[0;34m:\u001b[0m\u001b[0;34m\u001b[0m\u001b[0;34m\u001b[0m\u001b[0m\n\u001b[0;32m--> 302\u001b[0;31m                 \u001b[0mwaiter\u001b[0m\u001b[0;34m.\u001b[0m\u001b[0macquire\u001b[0m\u001b[0;34m(\u001b[0m\u001b[0;34m)\u001b[0m\u001b[0;34m\u001b[0m\u001b[0;34m\u001b[0m\u001b[0m\n\u001b[0m\u001b[1;32m    303\u001b[0m                 \u001b[0mgotit\u001b[0m \u001b[0;34m=\u001b[0m \u001b[0;32mTrue\u001b[0m\u001b[0;34m\u001b[0m\u001b[0;34m\u001b[0m\u001b[0m\n\u001b[1;32m    304\u001b[0m             \u001b[0;32melse\u001b[0m\u001b[0;34m:\u001b[0m\u001b[0;34m\u001b[0m\u001b[0;34m\u001b[0m\u001b[0m\n",
      "\u001b[0;31mKeyboardInterrupt\u001b[0m: "
     ]
    }
   ],
   "source": [
    "pi0, pistar = make_baselines_skylines(dataset_name, X_train, y_train)"
   ]
  },
  {
   "cell_type": "code",
   "execution_count": null,
   "id": "001ef17d",
   "metadata": {},
   "outputs": [],
   "source": [
    "sampling_probas = pi0.predict_proba(X_train)\n",
    "sampling_probas = np.array([_[:,1] for _ in sampling_probas]).T "
   ]
  },
  {
   "cell_type": "code",
   "execution_count": null,
   "id": "1365cf50",
   "metadata": {},
   "outputs": [],
   "source": [
    "sampling_probas.min(axis=0)"
   ]
  },
  {
   "cell_type": "code",
   "execution_count": null,
   "id": "72253b57",
   "metadata": {},
   "outputs": [],
   "source": [
    "log_props_per_instance = jnp.log(sampling_probas).sum(axis=1)\n",
    "n_zero_props = (jnp.exp(log_props_per_instance) == 0).astype(int).sum()\n",
    "print(n_zero_props, '/', sampling_probas.shape[0], 'train instances have 0 propensity')\n",
    "assert (n_zero_props / sampling_probas.shape[0]) < .1"
   ]
  },
  {
   "cell_type": "markdown",
   "id": "28ae40cb",
   "metadata": {},
   "source": [
    "# The Experiment"
   ]
  },
  {
   "cell_type": "code",
   "execution_count": null,
   "id": "85fbaf58",
   "metadata": {},
   "outputs": [],
   "source": [
    "def expected_hamming_loss(self, X, y):\n",
    "    y_invert = 1 - y\n",
    "    invert_probas = self.predict_proba(X, y_invert)\n",
    "    return invert_probas.sum() / (self.k * y.shape[0]) "
   ]
  },
  {
   "cell_type": "code",
   "execution_count": null,
   "id": "c56083e3",
   "metadata": {},
   "outputs": [],
   "source": [
    "from sklearn.metrics import hamming_loss"
   ]
  },
  {
   "cell_type": "code",
   "execution_count": null,
   "id": "39530ef9",
   "metadata": {},
   "outputs": [],
   "source": [
    "def expected_hamming_loss(model, X, y):\n",
    "        y_invert = 1 - y\n",
    "        invert_probas = model.predict_proba(X, y_invert)\n",
    "        k = y.shape[1]\n",
    "        return invert_probas.sum() / (k * y.shape[0]) "
   ]
  },
  {
   "cell_type": "code",
   "execution_count": null,
   "id": "a7470c80-aeb2-49e7-95a2-d9b355558606",
   "metadata": {},
   "outputs": [],
   "source": [
    "crm_losses = np.ones((10, len(replay_targets,)))\n",
    "crm_rewards = np.ones((10, len(replay_targets,)))\n",
    "\n",
    "for i in range(10):\n",
    "    print(i, end='')\n",
    "    np.random.seed(i*42)\n",
    "    current_replay = 0\n",
    "    crm_model = Model.null_model(X_test.shape[1], y_test.shape[1])\n",
    "    crm_dataset = CRMDataset()\n",
    "    for j, replay_target in enumerate(replay_targets):\n",
    "        print('.', end=' ')\n",
    "        needed_replays = replay_target - current_replay\n",
    "        current_replay = replay_target\n",
    "        crm_dataset.update_from_supervised_dataset(X_train, y_train, sampling_probas, n_samples=needed_replays)\n",
    "        crm_model.fit(\n",
    "            crm_dataset, \n",
    "            lambda_ = .5,\n",
    "            verbose = 0\n",
    "        )\n",
    "        crm_losses[i,j] = crm_model.expected_hamming_loss(X_test, y_test)    \n",
    "        crm_rewards[i,j] = (1 - np.logical_xor(crm_model.predict(X_test), y_test)).sum()\n",
    "\n",
    "crm_losses = crm_losses.mean(axis=0)\n",
    "crm_rewards = crm_rewards.mean(axis=0)"
   ]
  },
  {
   "cell_type": "code",
   "execution_count": null,
   "id": "1edd4144-195c-43d5-9211-d586bfbbec7a",
   "metadata": {},
   "outputs": [],
   "source": [
    "ucrm_losses = np.ones((10, len(replay_targets,)))\n",
    "ucrm_rewards = np.ones((10, len(replay_targets,)))\n",
    "\n",
    "for i in range(10):\n",
    "    print(i, end='')\n",
    "    np.random.seed(i*42)\n",
    "    current_replay = 0\n",
    "    ucrm_model = Model.null_model(X_test.shape[1], y_test.shape[1])\n",
    "    ucrm_dataset = CRMDataset()\n",
    "    for j, replay_target in enumerate(replay_targets):\n",
    "        print('.', end=' ')\n",
    "        needed_replays = replay_target - current_replay\n",
    "        current_replay = replay_target\n",
    "        ucrm_dataset.update_from_supervised_dataset(X_train, y_train, .5*np.ones_like(sampling_probas), n_samples=needed_replays)\n",
    "        ucrm_model.fit(\n",
    "            ucrm_dataset, \n",
    "            lambda_ = .5,\n",
    "            verbose = 0\n",
    "        )\n",
    "        ucrm_losses[i,j] = ucrm_model.expected_hamming_loss(X_test, y_test)    \n",
    "        ucrm_rewards[i,j] = (1 - np.logical_xor(ucrm_model.predict(X_test), y_test)).sum()\n",
    "        \n",
    "ucrm_losses = ucrm_losses.mean(axis=0)\n",
    "ucrm_rewards = ucrm_rewards.mean(axis=0)"
   ]
  },
  {
   "cell_type": "code",
   "execution_count": null,
   "id": "942451b9-a49a-4ff7-a1ff-2b92616ca509",
   "metadata": {},
   "outputs": [],
   "source": [
    "scrm_losses = np.ones((10, len(replay_targets,)))\n",
    "scrm_rewards = np.ones((10, len(replay_targets,)))\n",
    "\n",
    "for i in range(10):\n",
    "    print(i, end='')\n",
    "    np.random.seed(i*42)\n",
    "    current_replay = 0\n",
    "    scrm_model = Model.null_model(X_test.shape[1], y_test.shape[1])\n",
    "    scrm_dataset = CRMDataset()\n",
    "    for j, replay_target in enumerate(replay_targets):\n",
    "        print('.', end=' ')\n",
    "        needed_replays = replay_target - current_replay\n",
    "        current_replay = replay_target\n",
    "        scrm_sampling_probas = scrm_model.predict_proba(X_train, y_train)\n",
    "        scrm_dataset.update_from_supervised_dataset(X_train, y_train, scrm_sampling_probas, n_samples=needed_replays)\n",
    "        scrm_model.fit(\n",
    "            scrm_dataset, \n",
    "            lambda_ = -1 / np.sqrt(replay_target),\n",
    "            verbose = 0\n",
    "        )\n",
    "        scrm_losses[i,j] = scrm_model.expected_hamming_loss(X_test, y_test)    \n",
    "        scrm_rewards[i,j] = (1 - np.logical_xor(scrm_model.predict(X_test), y_test)).sum()\n",
    "\n",
    "scrm_losses = scrm_losses.mean(axis=0)\n",
    "scrm_rewards = scrm_rewards.mean(axis=0)"
   ]
  },
  {
   "cell_type": "code",
   "execution_count": null,
   "id": "19934651",
   "metadata": {},
   "outputs": [],
   "source": [
    "replay_targets"
   ]
  },
  {
   "cell_type": "code",
   "execution_count": null,
   "id": "f8ac60f2-9ff1-4891-aacd-70b503b13d6d",
   "metadata": {},
   "outputs": [],
   "source": [
    "fig, ax = plt.subplots(constrained_layout=True, figsize=(10,4))\n",
    "plt.title('Loss Evolution over Replays - Yeast Dataset')\n",
    "ax.set_xlabel('Replays')\n",
    "ax.set_xscale('log', base=2)\n",
    "ax.plot(replay_targets, .473*np.ones_like(replay_targets), '--', label='Baseline')\n",
    "# ax.plot(replay_targets, Y, '--', label='Baseline')\n",
    "ax.plot(replay_targets, ucrm_losses, 'o-', label='POEM Unif.')\n",
    "ax.plot(rollout_PPO,PPO_loss, 'o-', label='PPO')\n",
    "ax.plot(replay_targets, crm_losses, 'o-', label='POEM')\n",
    "\n",
    "ax.plot(replay_targets, scrm_losses, 'o-', label='S-CRM')\n",
    "#ax.plot(replay_targets, .295*np.ones_like(replay_targets), '--', label='Skyline (LR)')\n",
    "ax.plot(replay_targets, .220*np.ones_like(replay_targets), '--', label='Skyline (NN)')\n",
    "ax.set_ylabel('Hamming Loss')\n",
    "ax.legend(loc=(1.2, .1))\n",
    "plt.savefig(dataset_name+'_EHL.jpg')"
   ]
  },
  {
   "cell_type": "code",
   "execution_count": null,
   "id": "fcec4931-1ad4-4649-beb0-da5095f3726f",
   "metadata": {},
   "outputs": [],
   "source": [
    "from sklearn.neural_network import MLPClassifier\n",
    "from sklearn.multioutput import MultiOutputClassifier"
   ]
  },
  {
   "cell_type": "code",
   "execution_count": null,
   "id": "b4eaea0c-fc09-490c-ad79-6a217204ad78",
   "metadata": {},
   "outputs": [],
   "source": [
    "mlp = MultiOutputClassifier(MLPClassifier(hidden_layer_sizes=(500, 100, 40, 10,)), n_jobs=4).fit(X_train, y_train)"
   ]
  },
  {
   "cell_type": "code",
   "execution_count": null,
   "id": "84f11f39-01c1-46f6-8007-54b8a4c5eab4",
   "metadata": {},
   "outputs": [],
   "source": [
    "baseline_rewards = (1 - np.logical_xor(pi0.predict(X_test), y_test)).sum()*np.ones_like(crm_rewards)\n",
    "skyline_rewards = (1 - np.logical_xor(mlp.predict(X_test), y_test)).sum()*np.ones_like(crm_rewards)"
   ]
  },
  {
   "cell_type": "code",
   "execution_count": null,
   "id": "beb6f4e2-5ead-456c-aeec-a3c8d1ca0211",
   "metadata": {},
   "outputs": [],
   "source": [
    "fig, ax = plt.subplots(constrained_layout=True, figsize=(10,4))\n",
    "plt.title('Cumulated Regret over Replays - Yeast Dataset')\n",
    "ax.set_xlabel('Replays')\n",
    "ax.set_xscale('log', base=2)\n",
    "ax.plot(replay_targets, np.cumsum(skyline_rewards) - np.cumsum(baseline_rewards), '--', label='Baseline')\n",
    "ax.plot(replay_targets, np.cumsum(skyline_rewards) - np.cumsum(ucrm_rewards), 'o-', label='POEM Unif.')\n",
    "ax.plot(replay_targets, np.cumsum(skyline_rewards) - np.cumsum(crm_rewards), 'o-', label='POEM')\n",
    "ax.plot(replay_targets, np.cumsum(skyline_rewards) - np.cumsum(scrm_rewards), 'o-', label='S-CRM')\n",
    "# ax.plot(replay_targets, np.cumsum(skyline_rewards) - np.cumsum(skyline_rewards), '--', label='Skyline')\n",
    "ax.set_ylabel('Cumulated Regret')\n",
    "ax.legend(loc=(1.2, .1))"
   ]
  },
  {
   "cell_type": "code",
   "execution_count": null,
   "id": "580dca43",
   "metadata": {},
   "outputs": [],
   "source": []
  }
 ],
 "metadata": {
  "kernelspec": {
   "display_name": "Python 3",
   "language": "python",
   "name": "python3"
  },
  "language_info": {
   "codemirror_mode": {
    "name": "ipython",
    "version": 3
   },
   "file_extension": ".py",
   "mimetype": "text/x-python",
   "name": "python",
   "nbconvert_exporter": "python",
   "pygments_lexer": "ipython3",
   "version": "3.8.8"
  }
 },
 "nbformat": 4,
 "nbformat_minor": 5
}

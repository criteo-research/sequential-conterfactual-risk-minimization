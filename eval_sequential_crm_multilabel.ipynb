{
 "cells": [
  {
   "cell_type": "code",
   "execution_count": 1,
   "id": "c2d91444",
   "metadata": {},
   "outputs": [],
   "source": [
    "#import jax.numpy as np\n",
    "import numpy as np\n",
    "import numpy as onp\n",
    "import pandas as pd\n",
    "#import jaxopt"
   ]
  },
  {
   "cell_type": "code",
   "execution_count": 2,
   "id": "ba81c59c",
   "metadata": {},
   "outputs": [],
   "source": [
    "from sklearn.datasets import load_svmlight_file"
   ]
  },
  {
   "cell_type": "code",
   "execution_count": 3,
   "id": "4757a860",
   "metadata": {},
   "outputs": [
    {
     "data": {
      "text/plain": [
       "(21519, 30438)"
      ]
     },
     "execution_count": 3,
     "metadata": {},
     "output_type": "execute_result"
    }
   ],
   "source": [
    "X_train, y_train_ = load_svmlight_file('tmc2007_train.svm', multilabel=True)\n",
    "X_train = onp.array(X_train.todense())\n",
    "X_train.shape"
   ]
  },
  {
   "cell_type": "code",
   "execution_count": 4,
   "id": "1c48b812",
   "metadata": {},
   "outputs": [
    {
     "data": {
      "text/plain": [
       "(7077, 30438)"
      ]
     },
     "execution_count": 4,
     "metadata": {},
     "output_type": "execute_result"
    }
   ],
   "source": [
    "X_test, y_test_ = load_svmlight_file('tmc2007_test.svm', multilabel=True)\n",
    "X_test = onp.array(X_test.todense())\n",
    "X_test.shape"
   ]
  },
  {
   "cell_type": "code",
   "execution_count": 5,
   "id": "52a778a1",
   "metadata": {},
   "outputs": [],
   "source": [
    "from sklearn.preprocessing import MultiLabelBinarizer"
   ]
  },
  {
   "cell_type": "code",
   "execution_count": 6,
   "id": "69b3192b",
   "metadata": {},
   "outputs": [],
   "source": [
    "onehot_labeller = MultiLabelBinarizer()\n",
    "y_train = onehot_labeller.fit_transform(y_train_).astype(int)\n",
    "y_test = onehot_labeller.transform(y_test_).astype(int)"
   ]
  },
  {
   "cell_type": "code",
   "execution_count": 7,
   "id": "15fdd9e5",
   "metadata": {},
   "outputs": [
    {
     "data": {
      "text/plain": [
       "array([ 0,  1,  2,  3,  4,  5,  6,  7,  8,  9, 10, 11, 12, 13, 14, 15, 16,\n",
       "       17, 18, 19, 20, 21])"
      ]
     },
     "execution_count": 7,
     "metadata": {},
     "output_type": "execute_result"
    }
   ],
   "source": [
    "labels = onehot_labeller.classes_.astype(int)\n",
    "labels"
   ]
  },
  {
   "cell_type": "code",
   "execution_count": 8,
   "id": "e57747b0",
   "metadata": {},
   "outputs": [],
   "source": [
    "import matplotlib.pyplot as plt"
   ]
  },
  {
   "cell_type": "code",
   "execution_count": 9,
   "id": "3f7514c4",
   "metadata": {},
   "outputs": [
    {
     "data": {
      "text/plain": [
       "(array([5.949e+03, 7.867e+03, 5.541e+03, 1.522e+03, 4.430e+02, 1.220e+02,\n",
       "        5.600e+01, 1.300e+01, 5.000e+00, 1.000e+00]),\n",
       " array([ 1. ,  1.9,  2.8,  3.7,  4.6,  5.5,  6.4,  7.3,  8.2,  9.1, 10. ]),\n",
       " <BarContainer object of 10 artists>)"
      ]
     },
     "execution_count": 9,
     "metadata": {},
     "output_type": "execute_result"
    },
    {
     "data": {
      "image/png": "[encoded data removed]",
      "text/plain": [
       "<Figure size 432x288 with 1 Axes>"
      ]
     },
     "metadata": {
      "needs_background": "light"
     },
     "output_type": "display_data"
    }
   ],
   "source": [
    "plt.hist(y_train.sum(axis=1))"
   ]
  },
  {
   "cell_type": "code",
   "execution_count": 29,
   "id": "105dcb27",
   "metadata": {},
   "outputs": [
    {
     "data": {
      "text/plain": [
       "0.0887381658895012"
      ]
     },
     "execution_count": 29,
     "metadata": {},
     "output_type": "execute_result"
    }
   ],
   "source": [
    "y_test.sum()/(y_test.shape[0]*y_test.shape[1])"
   ]
  },
  {
   "cell_type": "code",
   "execution_count": 10,
   "id": "239cec47",
   "metadata": {},
   "outputs": [],
   "source": [
    "from sklearn.model_selection import train_test_split"
   ]
  },
  {
   "cell_type": "code",
   "execution_count": 12,
   "id": "3582196b",
   "metadata": {},
   "outputs": [],
   "source": [
    "def generate_crm_dataset(X, y, probas, n_samples=4, labels=labels):\n",
    "    P = []\n",
    "    A = []\n",
    "    F = []\n",
    "    R = []\n",
    "    for i in range(len(probas)):\n",
    "        for k in range(n_samples):\n",
    "            \n",
    "            p = probas[i,:]\n",
    "            p = p.astype('float32')\n",
    "            p /= p.sum()\n",
    "            \n",
    "            a = onp.random.choice(labels, p=p)\n",
    "            A += [a]\n",
    "            \n",
    "            p = p[a]\n",
    "            P += [p]\n",
    "            \n",
    "            x = X[i]\n",
    "            F += [x]\n",
    "\n",
    "            R += [int(y[i,a] > 0)]\n",
    "\n",
    "    P = onp.array(P).reshape((len(P),1))\n",
    "    A = onp.array(A).reshape((len(P),1))\n",
    "    R = onp.array(R).reshape((len(P),1))\n",
    "    F = onp.vstack(F)\n",
    "    assert F.shape[0] == X.shape[0], (F.shape, X.shape, len(labels))\n",
    "    return P, A, R, F"
   ]
  },
  {
   "cell_type": "code",
   "execution_count": 50,
   "id": "eb9ef88e",
   "metadata": {},
   "outputs": [],
   "source": [
    "def micro_hammingloss(p,y):\n",
    "    assert p.shape == y.shape\n",
    "    pos = np.where( (p != y) & (y > 0) )\n",
    "    neg = np.where( (p != y) & (y == 0) )\n",
    "    fn = p[neg].sum()\n",
    "    fp = (1-p[pos]).sum()\n",
    "    return (fn+fp)/(p.shape[0])"
   ]
  },
  {
   "cell_type": "code",
   "execution_count": 14,
   "id": "c04304ce",
   "metadata": {},
   "outputs": [],
   "source": [
    "def macro_hammingloss(test_probas, y_test):\n",
    "    return onp.mean([\n",
    "        micro_hammingloss(test_probas[:,k].reshape((len(y_test),1)), \n",
    "                          y_test[:,k].reshape((len(y_test),1))) \n",
    "        for k in range(y_test.shape[1])\n",
    "    ])"
   ]
  },
  {
   "cell_type": "markdown",
   "id": "7b3ab902",
   "metadata": {},
   "source": [
    "---"
   ]
  },
  {
   "cell_type": "code",
   "execution_count": 15,
   "id": "ecc26c7c",
   "metadata": {},
   "outputs": [],
   "source": [
    "def model(parameter, queries, embeddings):\n",
    "    exponents = np.exp(np.dot(embeddings, parameter))\n",
    "    num = exponents[onp.arange(embeddings.shape[0]), queries]\n",
    "    res =  num / np.sum(exponents, axis=1)\n",
    "    return res"
   ]
  },
  {
   "cell_type": "code",
   "execution_count": 16,
   "id": "718332ba",
   "metadata": {},
   "outputs": [],
   "source": [
    "def build_action_embeddings(features, labels):\n",
    "    \n",
    "    def onehotsingleaction(a):\n",
    "        r = onp.zeros(len(labels))\n",
    "        r[a] = 1\n",
    "        return r\n",
    "    \n",
    "    result = [\n",
    "        [onp.hstack([feature, \n",
    "                     onehotsingleaction(action)]) for action in labels] \n",
    "        for feature in features\n",
    "    ]\n",
    "    result = onp.array(result)\n",
    "    return result"
   ]
  },
  {
   "cell_type": "code",
   "execution_count": 21,
   "id": "cc03a31a",
   "metadata": {},
   "outputs": [],
   "source": [
    "def build_action_embeddings_(features, labels):\n",
    "    \n",
    "    result = onp.zeros((len(features)*len(labels), \n",
    "                       features.shape[1]+len(labels)))\n",
    "    #print(result.shape)\n",
    "    for i in range(0, onp.floor(len(features)+1/len(labels)).astype(int)):\n",
    "        for k in range(0, len(labels), 1):\n",
    "            #print('i', i, 'k', k, 'i*+k', i*len(labels)+k)\n",
    "            result[i*len(labels)+k,:features.shape[1]] = features[i,:]\n",
    "            result[i*len(labels)+k,features.shape[1]+k] = 1\n",
    "            #print(result[i+k,:])\n",
    "\n",
    "    return result"
   ]
  },
  {
   "cell_type": "code",
   "execution_count": 17,
   "id": "5a7f2eac",
   "metadata": {},
   "outputs": [],
   "source": [
    "def crm_loss(parameter, phi, A, P, R):\n",
    "    pred = model(parameter, A.squeeze(), phi)\n",
    "    W = pred / P.squeeze()\n",
    "    l = np.sum((1-R).squeeze()*W) / np.sum(W)\n",
    "    return l"
   ]
  },
  {
   "cell_type": "code",
   "execution_count": 18,
   "id": "b518da7c",
   "metadata": {},
   "outputs": [],
   "source": [
    "from scipy.optimize import minimize as _min\n",
    "def sp_optimize(crm_loss, init_parameter, *args):\n",
    "    solution = _min(crm_loss, init_parameter, *args, method='L-BFGS-B')\n",
    "    return solution.params"
   ]
  },
  {
   "cell_type": "code",
   "execution_count": 19,
   "id": "5f8fad93",
   "metadata": {},
   "outputs": [],
   "source": [
    "def model_eval(parameter, embeddings):\n",
    "    exponents = np.exp(np.dot(embeddings, parameter))\n",
    "    den = np.sum(exponents, axis=1).reshape(len(embeddings),1)\n",
    "    res =  exponents / den\n",
    "    return res"
   ]
  },
  {
   "cell_type": "code",
   "execution_count": 45,
   "id": "e4e495c0",
   "metadata": {},
   "outputs": [],
   "source": [
    "def iterate_model(beta, X, y, sampling_probas):\n",
    "    #print('pp:',sampling_probas.mean(axis=0))\n",
    "    P, A, R, F = generate_crm_dataset(\n",
    "        X, y, sampling_probas, n_samples=1\n",
    "    )\n",
    "    #print('sum R:', R.sum(), 'sum y:', y.sum())\n",
    "    phi = build_action_embeddings(F, labels)\n",
    "    #print('generated CRM dataset from batch:', phi.shape)\n",
    "    #optimizer = jaxopt.ScipyMinimize(fun=crm_loss, method=\"l-bfgs-b\", maxiter=0)\n",
    "    #solution = optimizer.run(beta, phi, A, P, R)\n",
    "    \n",
    "    def fn(beta):\n",
    "        pred = model(beta, A.squeeze(), phi)\n",
    "        W = pred / P.squeeze()\n",
    "        l = np.sum((1-R).squeeze()*W) / np.sum(W)\n",
    "        return l\n",
    "    \n",
    "    solution = _min(fn, beta, method='L-BFGS-B')\n",
    "    newbeta = solution.x #.params\n",
    "    return newbeta"
   ]
  },
  {
   "cell_type": "code",
   "execution_count": 51,
   "id": "b8eadbc8",
   "metadata": {},
   "outputs": [],
   "source": [
    "def evaluate_model(beta, phi_test, y_test):\n",
    "    beta_test_probas = model_eval(beta, phi_test)\n",
    "    beta_test_probas /= beta_test_probas.sum(axis=1).reshape((len(y_test),1))\n",
    "    return micro_hammingloss(beta_test_probas, y_test)"
   ]
  },
  {
   "cell_type": "markdown",
   "id": "f6aef896",
   "metadata": {},
   "source": [
    "----"
   ]
  },
  {
   "cell_type": "code",
   "execution_count": 21,
   "id": "9ebfb52e",
   "metadata": {},
   "outputs": [],
   "source": [
    "from sklearn.linear_model import LogisticRegression, LogisticRegressionCV"
   ]
  },
  {
   "cell_type": "code",
   "execution_count": 22,
   "id": "3e62c60e",
   "metadata": {},
   "outputs": [],
   "source": [
    "from sklearn.dummy import DummyClassifier"
   ]
  },
  {
   "cell_type": "code",
   "execution_count": 23,
   "id": "9b8a68d4",
   "metadata": {},
   "outputs": [],
   "source": [
    "from sklearn.multioutput import MultiOutputClassifier, ClassifierChain\n",
    "from sklearn.ensemble import RandomForestClassifier"
   ]
  },
  {
   "cell_type": "code",
   "execution_count": 24,
   "id": "78037de6",
   "metadata": {},
   "outputs": [],
   "source": [
    "from sklearn.random_projection import GaussianRandomProjection"
   ]
  },
  {
   "cell_type": "code",
   "execution_count": 57,
   "id": "e9e6493c",
   "metadata": {},
   "outputs": [
    {
     "name": "stdout",
     "output_type": "stream",
     "text": [
      "(21519, 1000)\n"
     ]
    }
   ],
   "source": [
    "fh = GaussianRandomProjection(n_components=1000)\n",
    "\n",
    "X_train_h = fh.fit_transform(X_train)\n",
    "X_test_h = fh.transform(X_test)\n",
    "print(X_train_h.shape)"
   ]
  },
  {
   "cell_type": "code",
   "execution_count": 32,
   "id": "66ca0d93",
   "metadata": {},
   "outputs": [],
   "source": [
    "def multioutput_to_label_probas(predictions, normalize=True):\n",
    "    l = len(labels)\n",
    "    if not hasattr(predictions, \"shape\"):\n",
    "        n = predictions[0].shape[0]\n",
    "        probas = onp.array([\n",
    "            predictions[_][:,1] for _ in range(l)\n",
    "        ]).T\n",
    "    else:\n",
    "        n = predictions.shape[0]\n",
    "        probas = predictions\n",
    "    if normalize:\n",
    "        proba_sum = probas.sum(axis=1).reshape((n, 1))\n",
    "        probas /= proba_sum\n",
    "    return probas"
   ]
  },
  {
   "cell_type": "code",
   "execution_count": 52,
   "id": "2550da71",
   "metadata": {},
   "outputs": [
    {
     "name": "stdout",
     "output_type": "stream",
     "text": [
      "pi_null micro test loss: 1.9522396495690264\n",
      "pi_null macro test loss: 0.08873816588950122\n"
     ]
    }
   ],
   "source": [
    "print(\"pi_null micro test loss:\", micro_hammingloss(np.zeros(y_test.shape), y_test))\n",
    "print(\"pi_null macro test loss:\", macro_hammingloss(np.zeros(y_test.shape), y_test))"
   ]
  },
  {
   "cell_type": "code",
   "execution_count": 53,
   "id": "edd232cc",
   "metadata": {},
   "outputs": [
    {
     "name": "stdout",
     "output_type": "stream",
     "text": [
      "pi_dummy train loss: 3.1726843219470737\n",
      "pi_dummy test loss: 3.094090082269704\n"
     ]
    },
    {
     "name": "stderr",
     "output_type": "stream",
     "text": [
      "/home/e.diemert/miniconda/lib/python3.9/site-packages/sklearn/utils/deprecation.py:103: FutureWarning: `n_features_in_` is deprecated in 1.0 and will be removed in 1.2.\n",
      "  warnings.warn(msg, category=FutureWarning)\n"
     ]
    }
   ],
   "source": [
    "pi_dummy = MultiOutputClassifier(DummyClassifier())\n",
    "pi_dummy.fit(X_test_h, y_test)\n",
    "\n",
    "pi_dummy_train_probas = pi_dummy.predict_proba(X_train_h)\n",
    "pi_dummy_train_probas = multioutput_to_label_probas(pi_dummy_train_probas, normalize=False)\n",
    "print(\"pi_dummy train loss:\", micro_hammingloss(pi_dummy_train_probas, y_train))\n",
    "\n",
    "pi_dummy_test_probas = pi_dummy.predict_proba(X_test_h)\n",
    "pi_dummy_test_probas = multioutput_to_label_probas(pi_dummy_test_probas, normalize=False)\n",
    "print(\"pi_dummy test loss:\", micro_hammingloss(pi_dummy_test_probas, y_test))"
   ]
  },
  {
   "cell_type": "code",
   "execution_count": 54,
   "id": "ca1aab7a",
   "metadata": {},
   "outputs": [
    {
     "name": "stdout",
     "output_type": "stream",
     "text": [
      "pi_dummy train loss: 2.7107115221401283\n",
      "pi_dummy test loss: 2.5371322025671947\n"
     ]
    },
    {
     "name": "stderr",
     "output_type": "stream",
     "text": [
      "/home/e.diemert/miniconda/lib/python3.9/site-packages/sklearn/utils/deprecation.py:103: FutureWarning: `n_features_in_` is deprecated in 1.0 and will be removed in 1.2.\n",
      "  warnings.warn(msg, category=FutureWarning)\n"
     ]
    }
   ],
   "source": [
    "pi_dummy = MultiOutputClassifier(DummyClassifier())\n",
    "pi_dummy.fit(X_test_h, y_test)\n",
    "\n",
    "pi_dummy_train_probas = pi_dummy.predict_proba(X_train_h)\n",
    "pi_dummy_train_probas = multioutput_to_label_probas(pi_dummy_train_probas)\n",
    "print(\"pi_dummy train loss:\", micro_hammingloss(pi_dummy_train_probas, y_train))\n",
    "\n",
    "pi_dummy_test_probas = pi_dummy.predict_proba(X_test_h)\n",
    "pi_dummy_test_probas = multioutput_to_label_probas(pi_dummy_test_probas)\n",
    "print(\"pi_dummy test loss:\", micro_hammingloss(pi_dummy_test_probas, y_test))"
   ]
  },
  {
   "cell_type": "code",
   "execution_count": 55,
   "id": "f0ae4729",
   "metadata": {},
   "outputs": [
    {
     "name": "stdout",
     "output_type": "stream",
     "text": [
      "pi0 train loss: 2.501372335887729\n",
      "pi0 test loss: 2.370664449469601\n"
     ]
    }
   ],
   "source": [
    "pi0 = MultiOutputClassifier(LogisticRegression(), n_jobs=6)\n",
    "\n",
    "X_0, X_, y_0, y_ = train_test_split(X_train_h, y_train, test_size=.95)\n",
    "pi0.fit(X_0, y_0)\n",
    "\n",
    "pi0_train_probas = pi0.predict_proba(X_train_h)\n",
    "pi0_train_probas = multioutput_to_label_probas(pi0_train_probas)\n",
    "print(\"pi0 train loss:\", micro_hammingloss(pi0_train_probas, y_train))\n",
    "\n",
    "pi0_test_probas = pi0.predict_proba(X_test_h)\n",
    "pi0_test_probas = multioutput_to_label_probas(pi0_test_probas)\n",
    "print(\"pi0 test loss:\", micro_hammingloss(pi0_test_probas, y_test))"
   ]
  },
  {
   "cell_type": "code",
   "execution_count": 37,
   "id": "5ced2bbf",
   "metadata": {},
   "outputs": [
    {
     "ename": "KeyboardInterrupt",
     "evalue": "",
     "output_type": "error",
     "traceback": [
      "\u001b[0;31m---------------------------------------------------------------------------\u001b[0m",
      "\u001b[0;31mKeyboardInterrupt\u001b[0m                         Traceback (most recent call last)",
      "Input \u001b[0;32mIn [37]\u001b[0m, in \u001b[0;36m<cell line: 2>\u001b[0;34m()\u001b[0m\n\u001b[1;32m      1\u001b[0m pistar \u001b[38;5;241m=\u001b[39m ClassifierChain(LogisticRegressionCV(max_iter\u001b[38;5;241m=\u001b[39m\u001b[38;5;241m1000\u001b[39m, n_jobs\u001b[38;5;241m=\u001b[39m\u001b[38;5;241m6\u001b[39m))\n\u001b[0;32m----> 2\u001b[0m \u001b[43mpistar\u001b[49m\u001b[38;5;241;43m.\u001b[39;49m\u001b[43mfit\u001b[49m\u001b[43m(\u001b[49m\u001b[43mX_train_h\u001b[49m\u001b[43m,\u001b[49m\u001b[43m \u001b[49m\u001b[43my_train\u001b[49m\u001b[43m)\u001b[49m\n",
      "File \u001b[0;32m~/miniconda/lib/python3.9/site-packages/sklearn/multioutput.py:767\u001b[0m, in \u001b[0;36mClassifierChain.fit\u001b[0;34m(self, X, Y)\u001b[0m\n\u001b[1;32m    751\u001b[0m \u001b[38;5;28;01mdef\u001b[39;00m \u001b[38;5;21mfit\u001b[39m(\u001b[38;5;28mself\u001b[39m, X, Y):\n\u001b[1;32m    752\u001b[0m     \u001b[38;5;124;03m\"\"\"Fit the model to data matrix X and targets Y.\u001b[39;00m\n\u001b[1;32m    753\u001b[0m \n\u001b[1;32m    754\u001b[0m \u001b[38;5;124;03m    Parameters\u001b[39;00m\n\u001b[0;32m   (...)\u001b[0m\n\u001b[1;32m    765\u001b[0m \u001b[38;5;124;03m        Class instance.\u001b[39;00m\n\u001b[1;32m    766\u001b[0m \u001b[38;5;124;03m    \"\"\"\u001b[39;00m\n\u001b[0;32m--> 767\u001b[0m     \u001b[38;5;28;43msuper\u001b[39;49m\u001b[43m(\u001b[49m\u001b[43m)\u001b[49m\u001b[38;5;241;43m.\u001b[39;49m\u001b[43mfit\u001b[49m\u001b[43m(\u001b[49m\u001b[43mX\u001b[49m\u001b[43m,\u001b[49m\u001b[43m \u001b[49m\u001b[43mY\u001b[49m\u001b[43m)\u001b[49m\n\u001b[1;32m    768\u001b[0m     \u001b[38;5;28mself\u001b[39m\u001b[38;5;241m.\u001b[39mclasses_ \u001b[38;5;241m=\u001b[39m [\n\u001b[1;32m    769\u001b[0m         estimator\u001b[38;5;241m.\u001b[39mclasses_ \u001b[38;5;28;01mfor\u001b[39;00m chain_idx, estimator \u001b[38;5;129;01min\u001b[39;00m \u001b[38;5;28menumerate\u001b[39m(\u001b[38;5;28mself\u001b[39m\u001b[38;5;241m.\u001b[39mestimators_)\n\u001b[1;32m    770\u001b[0m     ]\n\u001b[1;32m    771\u001b[0m     \u001b[38;5;28;01mreturn\u001b[39;00m \u001b[38;5;28mself\u001b[39m\n",
      "File \u001b[0;32m~/miniconda/lib/python3.9/site-packages/sklearn/multioutput.py:593\u001b[0m, in \u001b[0;36m_BaseChain.fit\u001b[0;34m(self, X, Y, **fit_params)\u001b[0m\n\u001b[1;32m    591\u001b[0m \u001b[38;5;28;01mfor\u001b[39;00m chain_idx, estimator \u001b[38;5;129;01min\u001b[39;00m \u001b[38;5;28menumerate\u001b[39m(\u001b[38;5;28mself\u001b[39m\u001b[38;5;241m.\u001b[39mestimators_):\n\u001b[1;32m    592\u001b[0m     y \u001b[38;5;241m=\u001b[39m Y[:, \u001b[38;5;28mself\u001b[39m\u001b[38;5;241m.\u001b[39morder_[chain_idx]]\n\u001b[0;32m--> 593\u001b[0m     \u001b[43mestimator\u001b[49m\u001b[38;5;241;43m.\u001b[39;49m\u001b[43mfit\u001b[49m\u001b[43m(\u001b[49m\u001b[43mX_aug\u001b[49m\u001b[43m[\u001b[49m\u001b[43m:\u001b[49m\u001b[43m,\u001b[49m\u001b[43m \u001b[49m\u001b[43m:\u001b[49m\u001b[43m \u001b[49m\u001b[43m(\u001b[49m\u001b[43mX\u001b[49m\u001b[38;5;241;43m.\u001b[39;49m\u001b[43mshape\u001b[49m\u001b[43m[\u001b[49m\u001b[38;5;241;43m1\u001b[39;49m\u001b[43m]\u001b[49m\u001b[43m \u001b[49m\u001b[38;5;241;43m+\u001b[39;49m\u001b[43m \u001b[49m\u001b[43mchain_idx\u001b[49m\u001b[43m)\u001b[49m\u001b[43m]\u001b[49m\u001b[43m,\u001b[49m\u001b[43m \u001b[49m\u001b[43my\u001b[49m\u001b[43m,\u001b[49m\u001b[43m \u001b[49m\u001b[38;5;241;43m*\u001b[39;49m\u001b[38;5;241;43m*\u001b[39;49m\u001b[43mfit_params\u001b[49m\u001b[43m)\u001b[49m\n\u001b[1;32m    594\u001b[0m     \u001b[38;5;28;01mif\u001b[39;00m \u001b[38;5;28mself\u001b[39m\u001b[38;5;241m.\u001b[39mcv \u001b[38;5;129;01mis\u001b[39;00m \u001b[38;5;129;01mnot\u001b[39;00m \u001b[38;5;28;01mNone\u001b[39;00m \u001b[38;5;129;01mand\u001b[39;00m chain_idx \u001b[38;5;241m<\u001b[39m \u001b[38;5;28mlen\u001b[39m(\u001b[38;5;28mself\u001b[39m\u001b[38;5;241m.\u001b[39mestimators_) \u001b[38;5;241m-\u001b[39m \u001b[38;5;241m1\u001b[39m:\n\u001b[1;32m    595\u001b[0m         col_idx \u001b[38;5;241m=\u001b[39m X\u001b[38;5;241m.\u001b[39mshape[\u001b[38;5;241m1\u001b[39m] \u001b[38;5;241m+\u001b[39m chain_idx\n",
      "File \u001b[0;32m~/miniconda/lib/python3.9/site-packages/sklearn/linear_model/_logistic.py:2154\u001b[0m, in \u001b[0;36mLogisticRegressionCV.fit\u001b[0;34m(self, X, y, sample_weight)\u001b[0m\n\u001b[1;32m   2151\u001b[0m \u001b[38;5;28;01melse\u001b[39;00m:\n\u001b[1;32m   2152\u001b[0m     prefer \u001b[38;5;241m=\u001b[39m \u001b[38;5;124m\"\u001b[39m\u001b[38;5;124mprocesses\u001b[39m\u001b[38;5;124m\"\u001b[39m\n\u001b[0;32m-> 2154\u001b[0m fold_coefs_ \u001b[38;5;241m=\u001b[39m \u001b[43mParallel\u001b[49m\u001b[43m(\u001b[49m\n\u001b[1;32m   2155\u001b[0m \u001b[43m    \u001b[49m\u001b[43mn_jobs\u001b[49m\u001b[38;5;241;43m=\u001b[39;49m\u001b[38;5;28;43mself\u001b[39;49m\u001b[38;5;241;43m.\u001b[39;49m\u001b[43mn_jobs\u001b[49m\u001b[43m,\u001b[49m\n\u001b[1;32m   2156\u001b[0m \u001b[43m    \u001b[49m\u001b[43mverbose\u001b[49m\u001b[38;5;241;43m=\u001b[39;49m\u001b[38;5;28;43mself\u001b[39;49m\u001b[38;5;241;43m.\u001b[39;49m\u001b[43mverbose\u001b[49m\u001b[43m,\u001b[49m\n\u001b[1;32m   2157\u001b[0m \u001b[43m    \u001b[49m\u001b[38;5;241;43m*\u001b[39;49m\u001b[38;5;241;43m*\u001b[39;49m\u001b[43m_joblib_parallel_args\u001b[49m\u001b[43m(\u001b[49m\u001b[43mprefer\u001b[49m\u001b[38;5;241;43m=\u001b[39;49m\u001b[43mprefer\u001b[49m\u001b[43m)\u001b[49m\u001b[43m,\u001b[49m\n\u001b[1;32m   2158\u001b[0m \u001b[43m\u001b[49m\u001b[43m)\u001b[49m\u001b[43m(\u001b[49m\n\u001b[1;32m   2159\u001b[0m \u001b[43m    \u001b[49m\u001b[43mpath_func\u001b[49m\u001b[43m(\u001b[49m\n\u001b[1;32m   2160\u001b[0m \u001b[43m        \u001b[49m\u001b[43mX\u001b[49m\u001b[43m,\u001b[49m\n\u001b[1;32m   2161\u001b[0m \u001b[43m        \u001b[49m\u001b[43my\u001b[49m\u001b[43m,\u001b[49m\n\u001b[1;32m   2162\u001b[0m \u001b[43m        \u001b[49m\u001b[43mtrain\u001b[49m\u001b[43m,\u001b[49m\n\u001b[1;32m   2163\u001b[0m \u001b[43m        \u001b[49m\u001b[43mtest\u001b[49m\u001b[43m,\u001b[49m\n\u001b[1;32m   2164\u001b[0m \u001b[43m        \u001b[49m\u001b[43mpos_class\u001b[49m\u001b[38;5;241;43m=\u001b[39;49m\u001b[43mlabel\u001b[49m\u001b[43m,\u001b[49m\n\u001b[1;32m   2165\u001b[0m \u001b[43m        \u001b[49m\u001b[43mCs\u001b[49m\u001b[38;5;241;43m=\u001b[39;49m\u001b[38;5;28;43mself\u001b[39;49m\u001b[38;5;241;43m.\u001b[39;49m\u001b[43mCs\u001b[49m\u001b[43m,\u001b[49m\n\u001b[1;32m   2166\u001b[0m \u001b[43m        \u001b[49m\u001b[43mfit_intercept\u001b[49m\u001b[38;5;241;43m=\u001b[39;49m\u001b[38;5;28;43mself\u001b[39;49m\u001b[38;5;241;43m.\u001b[39;49m\u001b[43mfit_intercept\u001b[49m\u001b[43m,\u001b[49m\n\u001b[1;32m   2167\u001b[0m \u001b[43m        \u001b[49m\u001b[43mpenalty\u001b[49m\u001b[38;5;241;43m=\u001b[39;49m\u001b[38;5;28;43mself\u001b[39;49m\u001b[38;5;241;43m.\u001b[39;49m\u001b[43mpenalty\u001b[49m\u001b[43m,\u001b[49m\n\u001b[1;32m   2168\u001b[0m \u001b[43m        \u001b[49m\u001b[43mdual\u001b[49m\u001b[38;5;241;43m=\u001b[39;49m\u001b[38;5;28;43mself\u001b[39;49m\u001b[38;5;241;43m.\u001b[39;49m\u001b[43mdual\u001b[49m\u001b[43m,\u001b[49m\n\u001b[1;32m   2169\u001b[0m \u001b[43m        \u001b[49m\u001b[43msolver\u001b[49m\u001b[38;5;241;43m=\u001b[39;49m\u001b[43msolver\u001b[49m\u001b[43m,\u001b[49m\n\u001b[1;32m   2170\u001b[0m \u001b[43m        \u001b[49m\u001b[43mtol\u001b[49m\u001b[38;5;241;43m=\u001b[39;49m\u001b[38;5;28;43mself\u001b[39;49m\u001b[38;5;241;43m.\u001b[39;49m\u001b[43mtol\u001b[49m\u001b[43m,\u001b[49m\n\u001b[1;32m   2171\u001b[0m \u001b[43m        \u001b[49m\u001b[43mmax_iter\u001b[49m\u001b[38;5;241;43m=\u001b[39;49m\u001b[38;5;28;43mself\u001b[39;49m\u001b[38;5;241;43m.\u001b[39;49m\u001b[43mmax_iter\u001b[49m\u001b[43m,\u001b[49m\n\u001b[1;32m   2172\u001b[0m \u001b[43m        \u001b[49m\u001b[43mverbose\u001b[49m\u001b[38;5;241;43m=\u001b[39;49m\u001b[38;5;28;43mself\u001b[39;49m\u001b[38;5;241;43m.\u001b[39;49m\u001b[43mverbose\u001b[49m\u001b[43m,\u001b[49m\n\u001b[1;32m   2173\u001b[0m \u001b[43m        \u001b[49m\u001b[43mclass_weight\u001b[49m\u001b[38;5;241;43m=\u001b[39;49m\u001b[43mclass_weight\u001b[49m\u001b[43m,\u001b[49m\n\u001b[1;32m   2174\u001b[0m \u001b[43m        \u001b[49m\u001b[43mscoring\u001b[49m\u001b[38;5;241;43m=\u001b[39;49m\u001b[38;5;28;43mself\u001b[39;49m\u001b[38;5;241;43m.\u001b[39;49m\u001b[43mscoring\u001b[49m\u001b[43m,\u001b[49m\n\u001b[1;32m   2175\u001b[0m \u001b[43m        \u001b[49m\u001b[43mmulti_class\u001b[49m\u001b[38;5;241;43m=\u001b[39;49m\u001b[43mmulti_class\u001b[49m\u001b[43m,\u001b[49m\n\u001b[1;32m   2176\u001b[0m \u001b[43m        \u001b[49m\u001b[43mintercept_scaling\u001b[49m\u001b[38;5;241;43m=\u001b[39;49m\u001b[38;5;28;43mself\u001b[39;49m\u001b[38;5;241;43m.\u001b[39;49m\u001b[43mintercept_scaling\u001b[49m\u001b[43m,\u001b[49m\n\u001b[1;32m   2177\u001b[0m \u001b[43m        \u001b[49m\u001b[43mrandom_state\u001b[49m\u001b[38;5;241;43m=\u001b[39;49m\u001b[38;5;28;43mself\u001b[39;49m\u001b[38;5;241;43m.\u001b[39;49m\u001b[43mrandom_state\u001b[49m\u001b[43m,\u001b[49m\n\u001b[1;32m   2178\u001b[0m \u001b[43m        \u001b[49m\u001b[43mmax_squared_sum\u001b[49m\u001b[38;5;241;43m=\u001b[39;49m\u001b[43mmax_squared_sum\u001b[49m\u001b[43m,\u001b[49m\n\u001b[1;32m   2179\u001b[0m \u001b[43m        \u001b[49m\u001b[43msample_weight\u001b[49m\u001b[38;5;241;43m=\u001b[39;49m\u001b[43msample_weight\u001b[49m\u001b[43m,\u001b[49m\n\u001b[1;32m   2180\u001b[0m \u001b[43m        \u001b[49m\u001b[43ml1_ratio\u001b[49m\u001b[38;5;241;43m=\u001b[39;49m\u001b[43ml1_ratio\u001b[49m\u001b[43m,\u001b[49m\n\u001b[1;32m   2181\u001b[0m \u001b[43m    \u001b[49m\u001b[43m)\u001b[49m\n\u001b[1;32m   2182\u001b[0m \u001b[43m    \u001b[49m\u001b[38;5;28;43;01mfor\u001b[39;49;00m\u001b[43m \u001b[49m\u001b[43mlabel\u001b[49m\u001b[43m \u001b[49m\u001b[38;5;129;43;01min\u001b[39;49;00m\u001b[43m \u001b[49m\u001b[43miter_encoded_labels\u001b[49m\n\u001b[1;32m   2183\u001b[0m \u001b[43m    \u001b[49m\u001b[38;5;28;43;01mfor\u001b[39;49;00m\u001b[43m \u001b[49m\u001b[43mtrain\u001b[49m\u001b[43m,\u001b[49m\u001b[43m \u001b[49m\u001b[43mtest\u001b[49m\u001b[43m \u001b[49m\u001b[38;5;129;43;01min\u001b[39;49;00m\u001b[43m \u001b[49m\u001b[43mfolds\u001b[49m\n\u001b[1;32m   2184\u001b[0m \u001b[43m    \u001b[49m\u001b[38;5;28;43;01mfor\u001b[39;49;00m\u001b[43m \u001b[49m\u001b[43ml1_ratio\u001b[49m\u001b[43m \u001b[49m\u001b[38;5;129;43;01min\u001b[39;49;00m\u001b[43m \u001b[49m\u001b[43ml1_ratios_\u001b[49m\n\u001b[1;32m   2185\u001b[0m \u001b[43m\u001b[49m\u001b[43m)\u001b[49m\n\u001b[1;32m   2187\u001b[0m \u001b[38;5;66;03m# _log_reg_scoring_path will output different shapes depending on the\u001b[39;00m\n\u001b[1;32m   2188\u001b[0m \u001b[38;5;66;03m# multi_class param, so we need to reshape the outputs accordingly.\u001b[39;00m\n\u001b[1;32m   2189\u001b[0m \u001b[38;5;66;03m# Cs is of shape (n_classes . n_folds . n_l1_ratios, n_Cs) and all the\u001b[39;00m\n\u001b[0;32m   (...)\u001b[0m\n\u001b[1;32m   2196\u001b[0m \u001b[38;5;66;03m#  (n_classes, n_folds, n_Cs . n_l1_ratios) or\u001b[39;00m\n\u001b[1;32m   2197\u001b[0m \u001b[38;5;66;03m#  (1, n_folds, n_Cs . n_l1_ratios)\u001b[39;00m\n\u001b[1;32m   2198\u001b[0m coefs_paths, Cs, scores, n_iter_ \u001b[38;5;241m=\u001b[39m \u001b[38;5;28mzip\u001b[39m(\u001b[38;5;241m*\u001b[39mfold_coefs_)\n",
      "File \u001b[0;32m~/miniconda/lib/python3.9/site-packages/joblib/parallel.py:1056\u001b[0m, in \u001b[0;36mParallel.__call__\u001b[0;34m(self, iterable)\u001b[0m\n\u001b[1;32m   1053\u001b[0m     \u001b[38;5;28mself\u001b[39m\u001b[38;5;241m.\u001b[39m_iterating \u001b[38;5;241m=\u001b[39m \u001b[38;5;28;01mFalse\u001b[39;00m\n\u001b[1;32m   1055\u001b[0m \u001b[38;5;28;01mwith\u001b[39;00m \u001b[38;5;28mself\u001b[39m\u001b[38;5;241m.\u001b[39m_backend\u001b[38;5;241m.\u001b[39mretrieval_context():\n\u001b[0;32m-> 1056\u001b[0m     \u001b[38;5;28;43mself\u001b[39;49m\u001b[38;5;241;43m.\u001b[39;49m\u001b[43mretrieve\u001b[49m\u001b[43m(\u001b[49m\u001b[43m)\u001b[49m\n\u001b[1;32m   1057\u001b[0m \u001b[38;5;66;03m# Make sure that we get a last message telling us we are done\u001b[39;00m\n\u001b[1;32m   1058\u001b[0m elapsed_time \u001b[38;5;241m=\u001b[39m time\u001b[38;5;241m.\u001b[39mtime() \u001b[38;5;241m-\u001b[39m \u001b[38;5;28mself\u001b[39m\u001b[38;5;241m.\u001b[39m_start_time\n",
      "File \u001b[0;32m~/miniconda/lib/python3.9/site-packages/joblib/parallel.py:935\u001b[0m, in \u001b[0;36mParallel.retrieve\u001b[0;34m(self)\u001b[0m\n\u001b[1;32m    933\u001b[0m \u001b[38;5;28;01mtry\u001b[39;00m:\n\u001b[1;32m    934\u001b[0m     \u001b[38;5;28;01mif\u001b[39;00m \u001b[38;5;28mgetattr\u001b[39m(\u001b[38;5;28mself\u001b[39m\u001b[38;5;241m.\u001b[39m_backend, \u001b[38;5;124m'\u001b[39m\u001b[38;5;124msupports_timeout\u001b[39m\u001b[38;5;124m'\u001b[39m, \u001b[38;5;28;01mFalse\u001b[39;00m):\n\u001b[0;32m--> 935\u001b[0m         \u001b[38;5;28mself\u001b[39m\u001b[38;5;241m.\u001b[39m_output\u001b[38;5;241m.\u001b[39mextend(\u001b[43mjob\u001b[49m\u001b[38;5;241;43m.\u001b[39;49m\u001b[43mget\u001b[49m\u001b[43m(\u001b[49m\u001b[43mtimeout\u001b[49m\u001b[38;5;241;43m=\u001b[39;49m\u001b[38;5;28;43mself\u001b[39;49m\u001b[38;5;241;43m.\u001b[39;49m\u001b[43mtimeout\u001b[49m\u001b[43m)\u001b[49m)\n\u001b[1;32m    936\u001b[0m     \u001b[38;5;28;01melse\u001b[39;00m:\n\u001b[1;32m    937\u001b[0m         \u001b[38;5;28mself\u001b[39m\u001b[38;5;241m.\u001b[39m_output\u001b[38;5;241m.\u001b[39mextend(job\u001b[38;5;241m.\u001b[39mget())\n",
      "File \u001b[0;32m~/miniconda/lib/python3.9/site-packages/joblib/_parallel_backends.py:542\u001b[0m, in \u001b[0;36mLokyBackend.wrap_future_result\u001b[0;34m(future, timeout)\u001b[0m\n\u001b[1;32m    539\u001b[0m \u001b[38;5;124;03m\"\"\"Wrapper for Future.result to implement the same behaviour as\u001b[39;00m\n\u001b[1;32m    540\u001b[0m \u001b[38;5;124;03mAsyncResults.get from multiprocessing.\"\"\"\u001b[39;00m\n\u001b[1;32m    541\u001b[0m \u001b[38;5;28;01mtry\u001b[39;00m:\n\u001b[0;32m--> 542\u001b[0m     \u001b[38;5;28;01mreturn\u001b[39;00m \u001b[43mfuture\u001b[49m\u001b[38;5;241;43m.\u001b[39;49m\u001b[43mresult\u001b[49m\u001b[43m(\u001b[49m\u001b[43mtimeout\u001b[49m\u001b[38;5;241;43m=\u001b[39;49m\u001b[43mtimeout\u001b[49m\u001b[43m)\u001b[49m\n\u001b[1;32m    543\u001b[0m \u001b[38;5;28;01mexcept\u001b[39;00m CfTimeoutError \u001b[38;5;28;01mas\u001b[39;00m e:\n\u001b[1;32m    544\u001b[0m     \u001b[38;5;28;01mraise\u001b[39;00m \u001b[38;5;167;01mTimeoutError\u001b[39;00m \u001b[38;5;28;01mfrom\u001b[39;00m \u001b[38;5;21;01me\u001b[39;00m\n",
      "File \u001b[0;32m~/miniconda/lib/python3.9/concurrent/futures/_base.py:441\u001b[0m, in \u001b[0;36mFuture.result\u001b[0;34m(self, timeout)\u001b[0m\n\u001b[1;32m    438\u001b[0m \u001b[38;5;28;01melif\u001b[39;00m \u001b[38;5;28mself\u001b[39m\u001b[38;5;241m.\u001b[39m_state \u001b[38;5;241m==\u001b[39m FINISHED:\n\u001b[1;32m    439\u001b[0m     \u001b[38;5;28;01mreturn\u001b[39;00m \u001b[38;5;28mself\u001b[39m\u001b[38;5;241m.\u001b[39m__get_result()\n\u001b[0;32m--> 441\u001b[0m \u001b[38;5;28;43mself\u001b[39;49m\u001b[38;5;241;43m.\u001b[39;49m\u001b[43m_condition\u001b[49m\u001b[38;5;241;43m.\u001b[39;49m\u001b[43mwait\u001b[49m\u001b[43m(\u001b[49m\u001b[43mtimeout\u001b[49m\u001b[43m)\u001b[49m\n\u001b[1;32m    443\u001b[0m \u001b[38;5;28;01mif\u001b[39;00m \u001b[38;5;28mself\u001b[39m\u001b[38;5;241m.\u001b[39m_state \u001b[38;5;129;01min\u001b[39;00m [CANCELLED, CANCELLED_AND_NOTIFIED]:\n\u001b[1;32m    444\u001b[0m     \u001b[38;5;28;01mraise\u001b[39;00m CancelledError()\n",
      "File \u001b[0;32m~/miniconda/lib/python3.9/threading.py:312\u001b[0m, in \u001b[0;36mCondition.wait\u001b[0;34m(self, timeout)\u001b[0m\n\u001b[1;32m    310\u001b[0m \u001b[38;5;28;01mtry\u001b[39;00m:    \u001b[38;5;66;03m# restore state no matter what (e.g., KeyboardInterrupt)\u001b[39;00m\n\u001b[1;32m    311\u001b[0m     \u001b[38;5;28;01mif\u001b[39;00m timeout \u001b[38;5;129;01mis\u001b[39;00m \u001b[38;5;28;01mNone\u001b[39;00m:\n\u001b[0;32m--> 312\u001b[0m         \u001b[43mwaiter\u001b[49m\u001b[38;5;241;43m.\u001b[39;49m\u001b[43macquire\u001b[49m\u001b[43m(\u001b[49m\u001b[43m)\u001b[49m\n\u001b[1;32m    313\u001b[0m         gotit \u001b[38;5;241m=\u001b[39m \u001b[38;5;28;01mTrue\u001b[39;00m\n\u001b[1;32m    314\u001b[0m     \u001b[38;5;28;01melse\u001b[39;00m:\n",
      "\u001b[0;31mKeyboardInterrupt\u001b[0m: "
     ]
    }
   ],
   "source": [
    "pistar = ClassifierChain(LogisticRegressionCV(max_iter=1000, n_jobs=6))\n",
    "pistar.fit(X_train_h, y_train)"
   ]
  },
  {
   "cell_type": "code",
   "execution_count": 58,
   "id": "fc726f83",
   "metadata": {},
   "outputs": [
    {
     "data": {
      "text/plain": [
       "MultiOutputClassifier(estimator=LogisticRegressionCV(max_iter=1000, n_jobs=6))"
      ]
     },
     "execution_count": 58,
     "metadata": {},
     "output_type": "execute_result"
    }
   ],
   "source": [
    "pistar = MultiOutputClassifier(LogisticRegressionCV(max_iter=1000, n_jobs=6))\n",
    "pistar.fit(X_train_h, y_train)"
   ]
  },
  {
   "cell_type": "code",
   "execution_count": 59,
   "id": "6b18ced3",
   "metadata": {},
   "outputs": [
    {
     "name": "stdout",
     "output_type": "stream",
     "text": [
      "pi* train loss: 2.0595898974480398\n",
      "pi* test loss: 2.002433499822705\n"
     ]
    }
   ],
   "source": [
    "pistar_train_probas = pistar.predict_proba(X_train_h)\n",
    "pistar_train_probas = multioutput_to_label_probas(pistar_train_probas)\n",
    "print(\"pi* train loss:\", micro_hammingloss(pistar_train_probas, y_train))\n",
    "\n",
    "pistar_test_probas = pistar.predict_proba(X_test_h)\n",
    "pistar_test_probas = multioutput_to_label_probas(pistar_test_probas)\n",
    "print(\"pi* test loss:\", micro_hammingloss(pistar_test_probas, y_test))"
   ]
  },
  {
   "cell_type": "code",
   "execution_count": 40,
   "id": "1c816afa",
   "metadata": {},
   "outputs": [],
   "source": [
    "import sys"
   ]
  },
  {
   "cell_type": "code",
   "execution_count": 60,
   "id": "ad1a3d66",
   "metadata": {},
   "outputs": [],
   "source": [
    "phi_test = build_action_embeddings(X_test_h, labels)\n",
    "phi_train = build_action_embeddings(X_train_h, labels)"
   ]
  },
  {
   "cell_type": "code",
   "execution_count": null,
   "id": "1eba1cdf",
   "metadata": {},
   "outputs": [],
   "source": [
    "phi_test.shape"
   ]
  },
  {
   "cell_type": "code",
   "execution_count": 61,
   "id": "51001a4f",
   "metadata": {},
   "outputs": [
    {
     "name": "stdout",
     "output_type": "stream",
     "text": [
      "beta0 loss: 2.8066024106523546\n",
      "beta0 loss: 0.12757283684783433\n"
     ]
    }
   ],
   "source": [
    "sampling_probas_static = sampling_probas_dynamic = pi0_train_probas\n",
    "init = onp.random.normal(size=len(labels)+X_train_h.shape[1])\n",
    "beta_static = np.array(init.copy())\n",
    "beta_dynamic = np.array(init.copy())\n",
    "\n",
    "beta_test_probas = model_eval(init, phi_test)\n",
    "print('beta0 loss:', micro_hammingloss(beta_test_probas, y_test))\n",
    "print('beta0 loss:', macro_hammingloss(beta_test_probas, y_test))"
   ]
  },
  {
   "cell_type": "code",
   "execution_count": null,
   "id": "d035c476",
   "metadata": {
    "scrolled": false
   },
   "outputs": [
    {
     "name": "stderr",
     "output_type": "stream",
     "text": [
      "****************************** episod: 0 samples: 100000200000 ******************************\n",
      "static |beta| 31.717992629897463 loss: 2.8066024106523546\n",
      "dynamc |beta| 31.717992629897463 loss: 2.8066024106523546\n",
      "****************************** episod: 1 samples: 200000400000 ******************************\n"
     ]
    }
   ],
   "source": [
    "batch = 100000200000#int(len(X_train)*.01)\n",
    "\n",
    "for episod in range(30):\n",
    "    start = episod*batch\n",
    "    end = (episod+1)*batch\n",
    "    X = X_train_h[0:end,:]\n",
    "    y = y_train[0:end,:]\n",
    "    print('*'*30, 'episod:', episod, 'samples:', end, '*'*30, file=sys.stderr)\n",
    "    if episod > 0:\n",
    "        beta_static = iterate_model(beta_static, X, y, sampling_probas_static[0:end,:])\n",
    "        beta_dynamic = iterate_model(beta_dynamic, X, y, sampling_probas_dynamic[0:end,:])    \n",
    "        sampling_probas_dynamic = model_eval(beta_dynamic, phi_train)#._value\n",
    "    print('static', '|beta|', onp.sqrt((beta_static**2).sum()), \n",
    "          'loss:', evaluate_model(beta_static, phi_test, y_test), file=sys.stderr)\n",
    "    print('dynamc', '|beta|', onp.sqrt((beta_dynamic**2).sum()), \n",
    "          'loss:', evaluate_model(beta_dynamic, phi_test, y_test), file=sys.stderr)\n"
   ]
  },
  {
   "cell_type": "markdown",
   "id": "6c0452a8",
   "metadata": {},
   "source": [
    "# TODO\n",
    "\n",
    "- not normalize predictions per instance (sky/base lines + model)\n",
    "- skylines/model predictions are deterministic \n",
    "- keep track of bandit dataset over episods"
   ]
  }
 ],
 "metadata": {
  "kernelspec": {
   "display_name": "Python 3 (ipykernel)",
   "language": "python",
   "name": "python3"
  },
  "language_info": {
   "codemirror_mode": {
    "name": "ipython",
    "version": 3
   },
   "file_extension": ".py",
   "mimetype": "text/x-python",
   "name": "python",
   "nbconvert_exporter": "python",
   "pygments_lexer": "ipython3",
   "version": "3.9.12"
  }
 },
 "nbformat": 4,
 "nbformat_minor": 5
}

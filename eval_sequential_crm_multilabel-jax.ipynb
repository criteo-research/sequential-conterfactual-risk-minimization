{
 "cells": [
  {
   "cell_type": "markdown",
   "id": "c4fa689b",
   "metadata": {},
   "source": [
    "# Sequential CRM Experiments\n",
    "\n",
    "## Reference works\n",
    "- ref paper: https://arxiv.org/pdf/1502.02362.pdf\n",
    "- ref code & data: https://www.cs.cornell.edu/~adith/POEM/\n",
    "- recent paper (ICML'18): http://proceedings.mlr.press/v80/wu18g/wu18g.pdf\n",
    "- recent paper using vision tasks: https://arxiv.org/pdf/1806.11500v6.pdf"
   ]
  },
  {
   "cell_type": "markdown",
   "id": "8bda196b",
   "metadata": {},
   "source": [
    "TODO:\n",
    "1. DONE - fix pi0 to be bad enough\n",
    "1. DONE - make sure propensities are not all 0\n",
    "1. DONE - add check for propensity overfitting\n",
    "1. SEEMS OK - fix optim to work correctly -- but POEM cannot work with LBFG-S (see paper)"
   ]
  },
  {
   "cell_type": "code",
   "execution_count": 1,
   "id": "9c25f72b",
   "metadata": {},
   "outputs": [],
   "source": [
    "import sys\n",
    "import time\n",
    "import copy"
   ]
  },
  {
   "cell_type": "code",
   "execution_count": 2,
   "id": "b3299e83",
   "metadata": {},
   "outputs": [],
   "source": [
    "import numpy as np"
   ]
  },
  {
   "cell_type": "code",
   "execution_count": 3,
   "id": "9a8fd973-d7ae-44dd-9588-d1f68a37eeb5",
   "metadata": {},
   "outputs": [],
   "source": [
    "import jax.numpy as jnp\n",
    "from jax.scipy.special import expit as jexpit"
   ]
  },
  {
   "cell_type": "code",
   "execution_count": 4,
   "id": "6da5c3e3",
   "metadata": {},
   "outputs": [],
   "source": [
    "import matplotlib.pyplot as plt"
   ]
  },
  {
   "cell_type": "code",
   "execution_count": 5,
   "id": "040d3d14-85a8-4352-8e96-43c704eecae2",
   "metadata": {},
   "outputs": [],
   "source": [
    "from dataset_utils import load_dataset\n",
    "from baselines_skylines import result_table, make_baselines_skylines\n",
    "from crm_dataset import CRMDataset\n",
    "from crm_model import Model\n",
    "from tracing_utils import LossHistory"
   ]
  },
  {
   "cell_type": "markdown",
   "id": "69c93204",
   "metadata": {},
   "source": [
    "---\n",
    "### Loading dataset"
   ]
  },
  {
   "cell_type": "code",
   "execution_count": 6,
   "id": "dbaa9cb3",
   "metadata": {},
   "outputs": [
    {
     "name": "stdout",
     "output_type": "stream",
     "text": [
      "X_train: (1812, 104) y_train: (1812, 14)\n"
     ]
    }
   ],
   "source": [
    "# dataset_name='scene'\n",
    "dataset_name='yeast'\n",
    "# dataset_name='tmc2007'\n",
    "\n",
    "X_train, y_train, X_test, y_test, labels = load_dataset(dataset_name)"
   ]
  },
  {
   "cell_type": "markdown",
   "id": "f6aef896",
   "metadata": {},
   "source": [
    "### Baselines & Skylines"
   ]
  },
  {
   "cell_type": "code",
   "execution_count": 7,
   "id": "b321b06d-23e5-429a-b135-66f7c5246b0f",
   "metadata": {},
   "outputs": [],
   "source": [
    "pi0, pistar = make_baselines_skylines(dataset_name, X_train, y_train)"
   ]
  },
  {
   "cell_type": "code",
   "execution_count": 8,
   "id": "001ef17d",
   "metadata": {},
   "outputs": [],
   "source": [
    "sampling_probas = pi0.predict_proba(X_train)\n",
    "sampling_probas = np.array([_[:,1] for _ in sampling_probas]).T "
   ]
  },
  {
   "cell_type": "code",
   "execution_count": 9,
   "id": "1365cf50",
   "metadata": {},
   "outputs": [
    {
     "data": {
      "text/plain": [
       "array([0.04196816, 0.07985135, 0.07448589, 0.01369675, 0.00762209,\n",
       "       0.01825114, 0.0269684 , 0.02914602, 0.00790334, 0.00671692,\n",
       "       0.00631266, 0.13104026, 0.13177221, 0.00547145])"
      ]
     },
     "execution_count": 9,
     "metadata": {},
     "output_type": "execute_result"
    }
   ],
   "source": [
    "sampling_probas.min(axis=0)"
   ]
  },
  {
   "cell_type": "code",
   "execution_count": 10,
   "id": "72253b57",
   "metadata": {},
   "outputs": [
    {
     "name": "stderr",
     "output_type": "stream",
     "text": [
      "WARNING:absl:No GPU/TPU found, falling back to CPU. (Set TF_CPP_MIN_LOG_LEVEL=0 and rerun for more info.)\n"
     ]
    },
    {
     "name": "stdout",
     "output_type": "stream",
     "text": [
      "0 / 1812 train instances have 0 propensity\n"
     ]
    }
   ],
   "source": [
    "log_props_per_instance = jnp.log(sampling_probas).sum(axis=1)\n",
    "n_zero_props = (jnp.exp(log_props_per_instance) == 0).astype(int).sum()\n",
    "print(n_zero_props, '/', sampling_probas.shape[0], 'train instances have 0 propensity')\n",
    "assert (n_zero_props / sampling_probas.shape[0]) < .1"
   ]
  },
  {
   "cell_type": "markdown",
   "id": "28ae40cb",
   "metadata": {},
   "source": [
    "# The Experiment"
   ]
  },
  {
   "cell_type": "code",
   "execution_count": 11,
   "id": "56d7d22f-c319-4245-b57a-300ce5246d39",
   "metadata": {},
   "outputs": [
    {
     "data": {
      "text/plain": [
       "array([ 1,  2,  4,  8, 16, 32])"
      ]
     },
     "execution_count": 11,
     "metadata": {},
     "output_type": "execute_result"
    }
   ],
   "source": [
    "replay_targets = 2**np.arange(6)\n",
    "replay_targets"
   ]
  },
  {
   "cell_type": "code",
   "execution_count": 33,
   "id": "a7470c80-aeb2-49e7-95a2-d9b355558606",
   "metadata": {},
   "outputs": [
    {
     "name": "stdout",
     "output_type": "stream",
     "text": [
      "0. . . . . . 1. . . . . . 2. . . . . . 3. . . . . . 4. . . . . . 5. . . . . . 6. . . . . . 7. . . . . . 8. . . . . . 9. . . . . . "
     ]
    }
   ],
   "source": [
    "crm_losses = np.ones((10, len(replay_targets,)))\n",
    "crm_rewards = np.ones((10, len(replay_targets,)))\n",
    "\n",
    "for i in range(10):\n",
    "    print(i, end='')\n",
    "    np.random.seed(i*42)\n",
    "    current_replay = 0\n",
    "    crm_model = Model.null_model(X_test.shape[1], y_test.shape[1])\n",
    "    crm_dataset = CRMDataset()\n",
    "    for j, replay_target in enumerate(replay_targets):\n",
    "        print('.', end=' ')\n",
    "        needed_replays = replay_target - current_replay\n",
    "        current_replay = replay_target\n",
    "        crm_dataset.update_from_supervised_dataset(X_train, y_train, sampling_probas, n_samples=needed_replays)\n",
    "        crm_model.fit(\n",
    "            crm_dataset, \n",
    "            lambda_ = .5,\n",
    "            verbose = 0\n",
    "        )\n",
    "        crm_losses[i,j] = crm_model.expected_hamming_loss(X_test, y_test)    \n",
    "        crm_rewards[i,j] = (1 - np.logical_xor(crm_model.predict(X_test), y_test)).sum()\n",
    "\n",
    "crm_losses = crm_losses.mean(axis=0)\n",
    "crm_rewards = crm_rewards.mean(axis=0)"
   ]
  },
  {
   "cell_type": "code",
   "execution_count": 34,
   "id": "1edd4144-195c-43d5-9211-d586bfbbec7a",
   "metadata": {},
   "outputs": [
    {
     "name": "stdout",
     "output_type": "stream",
     "text": [
      "0. . . . . . 1. . . . . . 2. . . . . . 3. . . . . . 4. . . . . . 5. . . . . . 6. . . . . . 7. . . . . . 8. . . . . . 9. . . . . . "
     ]
    }
   ],
   "source": [
    "ucrm_losses = np.ones((10, len(replay_targets,)))\n",
    "ucrm_rewards = np.ones((10, len(replay_targets,)))\n",
    "\n",
    "for i in range(10):\n",
    "    print(i, end='')\n",
    "    np.random.seed(i*42)\n",
    "    current_replay = 0\n",
    "    ucrm_model = Model.null_model(X_test.shape[1], y_test.shape[1])\n",
    "    ucrm_dataset = CRMDataset()\n",
    "    for j, replay_target in enumerate(replay_targets):\n",
    "        print('.', end=' ')\n",
    "        needed_replays = replay_target - current_replay\n",
    "        current_replay = replay_target\n",
    "        ucrm_dataset.update_from_supervised_dataset(X_train, y_train, .5*np.ones_like(sampling_probas), n_samples=needed_replays)\n",
    "        ucrm_model.fit(\n",
    "            ucrm_dataset, \n",
    "            lambda_ = .5,\n",
    "            verbose = 0\n",
    "        )\n",
    "        ucrm_losses[i,j] = ucrm_model.expected_hamming_loss(X_test, y_test)    \n",
    "        ucrm_rewards[i,j] = (1 - np.logical_xor(ucrm_model.predict(X_test), y_test)).sum()\n",
    "        \n",
    "ucrm_losses = ucrm_losses.mean(axis=0)\n",
    "ucrm_rewards = ucrm_rewards.mean(axis=0)"
   ]
  },
  {
   "cell_type": "code",
   "execution_count": 35,
   "id": "942451b9-a49a-4ff7-a1ff-2b92616ca509",
   "metadata": {},
   "outputs": [
    {
     "name": "stdout",
     "output_type": "stream",
     "text": [
      "0. . . . . . 1. . . . . . 2. . . . . . 3. . . . . . 4. . . . . . 5. . . . . . 6. . . . . . 7. . . . . . 8. . . . . . 9. . . . . . "
     ]
    }
   ],
   "source": [
    "scrm_losses = np.ones((10, len(replay_targets,)))\n",
    "scrm_rewards = np.ones((10, len(replay_targets,)))\n",
    "\n",
    "for i in range(10):\n",
    "    print(i, end='')\n",
    "    np.random.seed(i*42)\n",
    "    current_replay = 0\n",
    "    scrm_model = Model.null_model(X_test.shape[1], y_test.shape[1])\n",
    "    scrm_dataset = CRMDataset()\n",
    "    for j, replay_target in enumerate(replay_targets):\n",
    "        print('.', end=' ')\n",
    "        needed_replays = replay_target - current_replay\n",
    "        current_replay = replay_target\n",
    "        scrm_sampling_probas = scrm_model.predict_proba(X_train, y_train)\n",
    "        scrm_dataset.update_from_supervised_dataset(X_train, y_train, scrm_sampling_probas, n_samples=needed_replays)\n",
    "        scrm_model.fit(\n",
    "            scrm_dataset, \n",
    "            lambda_ = -1 / np.sqrt(replay_target),\n",
    "            verbose = 0\n",
    "        )\n",
    "        scrm_losses[i,j] = scrm_model.expected_hamming_loss(X_test, y_test)    \n",
    "        scrm_rewards[i,j] = (1 - np.logical_xor(scrm_model.predict(X_test), y_test)).sum()\n",
    "\n",
    "scrm_losses = scrm_losses.mean(axis=0)\n",
    "scrm_rewards = scrm_rewards.mean(axis=0)"
   ]
  },
  {
   "cell_type": "code",
   "execution_count": 15,
   "id": "f8ac60f2-9ff1-4891-aacd-70b503b13d6d",
   "metadata": {},
   "outputs": [
    {
     "data": {
      "text/plain": [
       "<matplotlib.legend.Legend at 0x7f2670087250>"
      ]
     },
     "execution_count": 15,
     "metadata": {},
     "output_type": "execute_result"
    },
    {
     "data": {
      "image/png": "[encoded data removed]",
      "text/plain": [
       "<Figure size 720x288 with 1 Axes>"
      ]
     },
     "metadata": {
      "needs_background": "light"
     },
     "output_type": "display_data"
    }
   ],
   "source": [
    "fig, ax = plt.subplots(constrained_layout=True, figsize=(10,4))\n",
    "plt.title('Loss Evolution over Replays - Yeast Dataset')\n",
    "ax.set_xlabel('Replays')\n",
    "ax.set_xscale('log', base=2)\n",
    "ax.plot(replay_targets, .473*np.ones_like(replay_targets), '--', label='Baseline')\n",
    "ax.plot(replay_targets, ucrm_losses, 'o-', label='POEM Unif.')\n",
    "ax.plot(replay_targets, crm_losses, 'o-', label='POEM')\n",
    "ax.plot(replay_targets, scrm_losses, 'o-', label='S-CRM')\n",
    "#ax.plot(replay_targets, .295*np.ones_like(replay_targets), '--', label='Skyline (LR)')\n",
    "ax.plot(replay_targets, .220*np.ones_like(replay_targets), '--', label='Skyline (NN)')\n",
    "ax.set_ylabel('Hamming Loss')\n",
    "ax.legend(loc=(1.2, .1))"
   ]
  },
  {
   "cell_type": "code",
   "execution_count": 21,
   "id": "fcec4931-1ad4-4649-beb0-da5095f3726f",
   "metadata": {},
   "outputs": [],
   "source": [
    "from sklearn.neural_network import MLPClassifier\n",
    "from sklearn.multioutput import MultiOutputClassifier"
   ]
  },
  {
   "cell_type": "code",
   "execution_count": 22,
   "id": "b4eaea0c-fc09-490c-ad79-6a217204ad78",
   "metadata": {},
   "outputs": [
    {
     "data": {
      "text/plain": [
       "MultiOutputClassifier(estimator=MLPClassifier(hidden_layer_sizes=(500, 100, 40,\n",
       "                                                                  10)),\n",
       "                      n_jobs=4)"
      ]
     },
     "execution_count": 22,
     "metadata": {},
     "output_type": "execute_result"
    }
   ],
   "source": [
    "mlp = MultiOutputClassifier(MLPClassifier(hidden_layer_sizes=(500, 100, 40, 10,)), n_jobs=4).fit(X_train, y_train)"
   ]
  },
  {
   "cell_type": "code",
   "execution_count": 29,
   "id": "84f11f39-01c1-46f6-8007-54b8a4c5eab4",
   "metadata": {},
   "outputs": [],
   "source": [
    "baseline_rewards = (1 - np.logical_xor(pi0.predict(X_test), y_test)).sum()*np.ones_like(crm_rewards)\n",
    "skyline_rewards = (1 - np.logical_xor(mlp.predict(X_test), y_test)).sum()*np.ones_like(crm_rewards)"
   ]
  },
  {
   "cell_type": "code",
   "execution_count": 40,
   "id": "beb6f4e2-5ead-456c-aeec-a3c8d1ca0211",
   "metadata": {},
   "outputs": [
    {
     "data": {
      "text/plain": [
       "<matplotlib.legend.Legend at 0x7f2651bd1880>"
      ]
     },
     "execution_count": 40,
     "metadata": {},
     "output_type": "execute_result"
    },
    {
     "data": {
      "image/png": "[encoded data removed]",
      "text/plain": [
       "<Figure size 720x288 with 1 Axes>"
      ]
     },
     "metadata": {
      "needs_background": "light"
     },
     "output_type": "display_data"
    }
   ],
   "source": [
    "fig, ax = plt.subplots(constrained_layout=True, figsize=(10,4))\n",
    "plt.title('Cumulated Regret over Replays - Yeast Dataset')\n",
    "ax.set_xlabel('Replays')\n",
    "ax.set_xscale('log', base=2)\n",
    "ax.plot(replay_targets, np.cumsum(skyline_rewards) - np.cumsum(baseline_rewards), '--', label='Baseline')\n",
    "ax.plot(replay_targets, np.cumsum(skyline_rewards) - np.cumsum(ucrm_rewards), 'o-', label='POEM Unif.')\n",
    "ax.plot(replay_targets, np.cumsum(skyline_rewards) - np.cumsum(crm_rewards), 'o-', label='POEM')\n",
    "ax.plot(replay_targets, np.cumsum(skyline_rewards) - np.cumsum(scrm_rewards), 'o-', label='S-CRM')\n",
    "# ax.plot(replay_targets, np.cumsum(skyline_rewards) - np.cumsum(skyline_rewards), '--', label='Skyline')\n",
    "ax.set_ylabel('Cumulated Regret')\n",
    "ax.legend(loc=(1.2, .1))"
   ]
  }
 ],
 "metadata": {
  "kernelspec": {
   "display_name": "Python 3",
   "language": "python",
   "name": "python3"
  },
  "language_info": {
   "codemirror_mode": {
    "name": "ipython",
    "version": 3
   },
   "file_extension": ".py",
   "mimetype": "text/x-python",
   "name": "python",
   "nbconvert_exporter": "python",
   "pygments_lexer": "ipython3",
   "version": "3.8.8"
  }
 },
 "nbformat": 4,
 "nbformat_minor": 5
}

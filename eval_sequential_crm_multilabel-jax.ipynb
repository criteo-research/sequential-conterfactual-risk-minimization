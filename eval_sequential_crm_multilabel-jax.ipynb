{
 "cells": [
  {
   "cell_type": "markdown",
   "id": "c4fa689b",
   "metadata": {},
   "source": [
    "# Sequential CRM Experiments\n",
    "\n",
    "## Reference works\n",
    "- ref paper: https://arxiv.org/pdf/1502.02362.pdf\n",
    "- ref code & data: https://www.cs.cornell.edu/~adith/POEM/\n",
    "- recent paper (ICML'18): http://proceedings.mlr.press/v80/wu18g/wu18g.pdf\n",
    "- recent paper using vision tasks: https://arxiv.org/pdf/1806.11500v6.pdf"
   ]
  },
  {
   "cell_type": "markdown",
   "id": "8bda196b",
   "metadata": {},
   "source": [
    "TODO:\n",
    "1. DONE - fix pi0 to be bad enough\n",
    "1. DONE - make sure propensities are not all 0\n",
    "1. DONE - add check for propensity overfitting\n",
    "1. SEEMS OK - fix optim to work correctly -- but POEM cannot work with LBFG-S (see paper)"
   ]
  },
  {
   "cell_type": "code",
   "execution_count": 1,
   "id": "9c25f72b",
   "metadata": {},
   "outputs": [],
   "source": [
    "import sys\n",
    "import time"
   ]
  },
  {
   "cell_type": "code",
   "execution_count": 2,
   "id": "b3299e83",
   "metadata": {},
   "outputs": [],
   "source": [
    "import numpy as np"
   ]
  },
  {
   "cell_type": "code",
   "execution_count": 10,
   "id": "9a8fd973-d7ae-44dd-9588-d1f68a37eeb5",
   "metadata": {},
   "outputs": [],
   "source": [
    "import jax.numpy as jnp"
   ]
  },
  {
   "cell_type": "code",
   "execution_count": 3,
   "id": "6da5c3e3",
   "metadata": {},
   "outputs": [],
   "source": [
    "import matplotlib.pyplot as plt"
   ]
  },
  {
   "cell_type": "code",
   "execution_count": 4,
   "id": "040d3d14-85a8-4352-8e96-43c704eecae2",
   "metadata": {},
   "outputs": [],
   "source": [
    "from dataset_utils import load_dataset\n",
    "from baselines_skylines import result_table, make_baselines_skylines\n",
    "from crm_dataset import CRMDataset\n",
    "from crm_model import Model\n",
    "from tracing_utils import LossHistory"
   ]
  },
  {
   "cell_type": "markdown",
   "id": "69c93204",
   "metadata": {},
   "source": [
    "---\n",
    "### Loading dataset"
   ]
  },
  {
   "cell_type": "code",
   "execution_count": 5,
   "id": "dbaa9cb3",
   "metadata": {},
   "outputs": [
    {
     "name": "stdout",
     "output_type": "stream",
     "text": [
      "X_train: (1805, 294) y_train: (1805, 6)\n"
     ]
    }
   ],
   "source": [
    "dataset_name='scene'\n",
    "# dataset_name='yeast'\n",
    "# dataset_name='tmc2007'\n",
    "\n",
    "X_train, y_train, X_test, y_test, labels = load_dataset(dataset_name)"
   ]
  },
  {
   "cell_type": "markdown",
   "id": "f6aef896",
   "metadata": {},
   "source": [
    "### Baselines & Skylines"
   ]
  },
  {
   "cell_type": "code",
   "execution_count": 6,
   "id": "b321b06d-23e5-429a-b135-66f7c5246b0f",
   "metadata": {},
   "outputs": [],
   "source": [
    "pi0, pistar = make_baselines_skylines(dataset_name, X_train, y_train)"
   ]
  },
  {
   "cell_type": "code",
   "execution_count": 7,
   "id": "001ef17d",
   "metadata": {},
   "outputs": [],
   "source": [
    "sampling_probas = pi0.predict_proba(X_train)\n",
    "sampling_probas = np.array([_[:,1] for _ in sampling_probas]).T "
   ]
  },
  {
   "cell_type": "code",
   "execution_count": 8,
   "id": "1365cf50",
   "metadata": {},
   "outputs": [
    {
     "data": {
      "text/plain": [
       "array([0.00083403, 0.00388547, 0.00045519, 0.00037249, 0.00740832,\n",
       "       0.00059017])"
      ]
     },
     "execution_count": 8,
     "metadata": {},
     "output_type": "execute_result"
    }
   ],
   "source": [
    "sampling_probas.min(axis=0)"
   ]
  },
  {
   "cell_type": "code",
   "execution_count": 11,
   "id": "72253b57",
   "metadata": {},
   "outputs": [
    {
     "name": "stderr",
     "output_type": "stream",
     "text": [
      "WARNING:absl:No GPU/TPU found, falling back to CPU. (Set TF_CPP_MIN_LOG_LEVEL=0 and rerun for more info.)\n"
     ]
    },
    {
     "name": "stdout",
     "output_type": "stream",
     "text": [
      "0 / 1805 train instances have 0 propensity\n"
     ]
    }
   ],
   "source": [
    "log_props_per_instance = jnp.log(sampling_probas).sum(axis=1)\n",
    "n_zero_props = (jnp.exp(log_props_per_instance) == 0).astype(int).sum()\n",
    "print(n_zero_props, '/', sampling_probas.shape[0], 'train instances have 0 propensity')\n",
    "assert (n_zero_props / sampling_probas.shape[0]) < .1"
   ]
  },
  {
   "cell_type": "markdown",
   "id": "28ae40cb",
   "metadata": {},
   "source": [
    "# The Experiment"
   ]
  },
  {
   "cell_type": "code",
   "execution_count": null,
   "id": "177c431d",
   "metadata": {},
   "outputs": [],
   "source": [
    "n_train = X_train.shape[0]\n",
    "n_replays = 10\n",
    "\n",
    "n = 100\n",
    "rollouts = [n]\n",
    "while True:\n",
    "    n = 2*n\n",
    "    if n > n_train * n_replays:\n",
    "        break\n",
    "    rollouts += [int(n)]\n",
    "rollouts = sorted(rollouts)\n",
    "print(\"rollout times:\", rollouts)"
   ]
  },
  {
   "cell_type": "code",
   "execution_count": null,
   "id": "d035c476",
   "metadata": {},
   "outputs": [],
   "source": [
    "dynamic_ips_losses = []\n",
    "myopic_ips_losses = []\n",
    "\n",
    "for _ in range(10):\n",
    "    \n",
    "\n",
    "    dynamic_model = Model.null_model(X_test.shape[1], y_test.shape[1])\n",
    "    dynamic_crm_dataset = CRMDataset()\n",
    "    dynamic_loss_history = LossHistory(\"Dynamic\", ref_crm_dataset, X_test, y_test)\n",
    "    dynamic_sampling_probas = None\n",
    "    \n",
    "    myopic_model = Model.null_model(X_test.shape[1], y_test.shape[1])\n",
    "    myopic_loss_history = LossHistory(\"Myopic\", ref_crm_dataset, X_test, y_test)\n",
    "    myopic_sampling_probas = None\n",
    "    \n",
    "    last_rollout_point = 0\n",
    "\n",
    "    for rollout_point in rollouts:\n",
    "\n",
    "        print('*'*30, 'ROLLOUT %d/%d'% (rollout_point, n_train), '*'*30, file=sys.stderr)\n",
    "\n",
    "        # current slice of dataset\n",
    "        if rollout_point >= n_train:\n",
    "            rollout_point = rollout_point % n_train\n",
    "            last_rollout_point = 0\n",
    "        X = X_train[last_rollout_point:rollout_point,:]\n",
    "        y = y_train[last_rollout_point:rollout_point,:]\n",
    "        last_rollout_point = rollout_point\n",
    "\n",
    "        # action probas\n",
    "        if dynamic_sampling_probas is None:\n",
    "            dynamic_sampling_probas = pi0.predict_proba(X)\n",
    "            dynamic_sampling_probas = np.array([_[:,1] for _ in dynamic_sampling_probas]).T\n",
    "        else:\n",
    "            dynamic_sampling_probas = dynamic_model.predict_proba(X, y)\n",
    "            \n",
    "        # crm dataset\n",
    "        np.random.seed(_*42) # controlling action randomness\n",
    "        dynamic_crm_dataset.update_from_supervised_dataset(X, y, dynamic_sampling_probas, n_samples=1)\n",
    "        \n",
    "        # optimize\n",
    "        dynamic_model.fit(\n",
    "            dynamic_crm_dataset, beta_start=dynamic_model.beta,\n",
    "            verbose = 0\n",
    "        )\n",
    "\n",
    "        # record\n",
    "        dynamic_loss_history.update(dynamic_model, dynamic_crm_dataset)\n",
    "        dynamic_loss_history.show_last()\n",
    "        \n",
    "        # myopic\n",
    "        # action probas\n",
    "        if myopic_sampling_probas is None:\n",
    "            myopic_sampling_probas = pi0.predict_proba(X)\n",
    "            myopic_sampling_probas = np.array([_[:,1] for _ in myopic_sampling_probas]).T\n",
    "        else:\n",
    "            myopic_sampling_probas = myopic_model.predict_proba(X, y)\n",
    "        \n",
    "        np.random.seed(_*42) # controlling action randomness\n",
    "        myopic_crm_dataset = CRMDataset().update_from_supervised_dataset(X, y, myopic_sampling_probas, n_samples=1)\n",
    "        myopic_model.fit(\n",
    "            myopic_crm_dataset, beta_start=myopic_model.beta, \n",
    "            verbose = 0\n",
    "        )\n",
    "        myopic_loss_history.update(myopic_model, myopic_crm_dataset)\n",
    "        myopic_loss_history.show_last()\n",
    "\n",
    "\n",
    "    dynamic_ips_losses += [dynamic_loss_history.hamming_loss[-1]]\n",
    "    myopic_ips_losses += [myopic_loss_history.hamming_loss[-1]]\n",
    "    print(file=sys.stderr)\n"
   ]
  },
  {
   "cell_type": "code",
   "execution_count": null,
   "id": "d544aa40",
   "metadata": {},
   "outputs": [],
   "source": [
    "result_table(dataset_name, pi0, pistar, X_test, y_test, ips_loss=np.mean(ips_losses), poem_loss=np.mean(poem_losses), \n",
    "             dynamic_ips_loss=np.mean(dynamic_ips_losses))"
   ]
  },
  {
   "cell_type": "markdown",
   "id": "0f50197f",
   "metadata": {},
   "source": [
    "### Insights"
   ]
  },
  {
   "cell_type": "code",
   "execution_count": null,
   "id": "341ee6ed",
   "metadata": {},
   "outputs": [],
   "source": [
    "fig, ax = plt.subplots(constrained_layout=True, figsize=(10,4))\n",
    "plt.title('Loss Evolution over Rollouts')\n",
    "ax.set_xlabel('Samples')\n",
    "ax.set_ylabel('CRM Loss')\n",
    "ax.plot(myopic_loss_history.crm_loss, 'o--', label='CRM loss (myopic)')\n",
    "ax.plot(dynamic_loss_history.crm_loss, 'o--', label='CRM loss (dynamic)')\n",
    "# ax.plot(myopic_loss_history.n_samples, myopic_loss_history.unif_crm_loss, 'o--', label='unif. CRM loss (dynamic)')\n",
    "ax.legend(loc=(1.2, .8))\n",
    "ax2 = ax.twinx()\n",
    "# ax2.plot(myopic_loss_history.hamming_loss, 'o-', label='Hamming loss (myopic)')\n",
    "# ax2.plot(dynamic_loss_history.hamming_loss, 'o-', label='Hamming loss (dynamic)')\n",
    "ax2.set_ylabel('Hamming Loss')\n",
    "ax2.legend(loc=(1.2, .1))"
   ]
  },
  {
   "cell_type": "code",
   "execution_count": null,
   "id": "2d307aa6-6a28-4eb7-a663-e03069512d90",
   "metadata": {},
   "outputs": [],
   "source": [
    "fig, ax = plt.subplots(constrained_layout=True, figsize=(10,4))\n",
    "plt.title('Loss Evolution over Rollouts')\n",
    "ax.set_xlabel('Samples')\n",
    "ax.set_ylabel('CRM Loss')\n",
    "ax.plot(dynamic_loss_history.n_samples, dynamic_loss_history.crm_loss, 'o--', label='CRM loss (dynamic)')\n",
    "ax.plot(dynamic_loss_history.n_samples, dynamic_loss_history.unif_crm_loss, 'o--', label='unif. CRM loss (dynamic)')\n",
    "ax.legend(loc=(1.2, .8))\n",
    "ax2 = ax.twinx()\n",
    "ax2.plot(dynamic_loss_history.n_samples, dynamic_loss_history.hamming_loss, 'o-', label='Hamming loss (dynamic)')\n",
    "ax2.plot(dynamic_loss_history.n_samples, np.ones(len(dynamic_loss_history.n_samples)) * np.mean(ips_losses), '-', label='Hamming loss (static)')\n",
    "ax2.set_ylabel('Hamming Loss')\n",
    "ax2.legend(loc=(1.2, .1))"
   ]
  },
  {
   "cell_type": "code",
   "execution_count": null,
   "id": "df5c15b3",
   "metadata": {},
   "outputs": [],
   "source": [
    "plt.figure(figsize=(10,4))\n",
    "plt.title('Sampling Probas per Action')\n",
    "plt.plot(sampling_probas.mean(axis=0), label='static')\n",
    "for i, beta in enumerate(dynamic_loss_history.betas):\n",
    "    m = Model(beta)\n",
    "    plt.plot(m.predict_proba(X_test, y_test).mean(axis=0),'--', label='dynamic (rollout #%d)' % i)\n",
    "plt.plot(y_test.mean(axis=0), label='label average', alpha=.5)\n",
    "plt.legend(loc=(1.05, 0))\n",
    "plt.tight_layout()"
   ]
  },
  {
   "cell_type": "code",
   "execution_count": null,
   "id": "9d3da3a9",
   "metadata": {},
   "outputs": [],
   "source": [
    "plt.figure(figsize=(10,4))\n",
    "plt.title('Avg exp(Weight) per Action')\n",
    "plt.plot(jexpit(dynamic_model.beta.mean(axis=0)),'--', label='dynamic IPS')\n",
    "plt.plot(jexpit(ips_model.beta.mean(axis=0)),'--', label='IPS')\n",
    "# plt.plot(jexpit(poem_model.beta.mean(axis=0)),'--', label='POEM')\n",
    "plt.legend()"
   ]
  },
  {
   "cell_type": "code",
   "execution_count": null,
   "id": "ec000f57",
   "metadata": {},
   "outputs": [],
   "source": [
    "plt.figure(figsize=(10,4))\n",
    "plt.title('Avg exp(Weight) per Feature')\n",
    "plt.plot(jexpit(dynamic_model.beta.mean(axis=1)),'--', label='dynamic IPS')\n",
    "plt.plot(jexpit(ips_model.beta.mean(axis=1)),'--', label='IPS')\n",
    "# plt.plot(jexpit(poem_model.beta.mean(axis=1)),'--', label='POEM')\n",
    "plt.legend(loc=(1.05, 0))\n",
    "plt.tight_layout()"
   ]
  }
 ],
 "metadata": {
  "kernelspec": {
   "display_name": "Python 3 (ipykernel)",
   "language": "python",
   "name": "python3"
  },
  "language_info": {
   "codemirror_mode": {
    "name": "ipython",
    "version": 3
   },
   "file_extension": ".py",
   "mimetype": "text/x-python",
   "name": "python",
   "nbconvert_exporter": "python",
   "pygments_lexer": "ipython3",
   "version": "3.9.12"
  }
 },
 "nbformat": 4,
 "nbformat_minor": 5
}

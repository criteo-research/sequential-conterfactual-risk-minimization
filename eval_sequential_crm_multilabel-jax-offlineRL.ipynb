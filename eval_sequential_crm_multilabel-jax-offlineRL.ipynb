{
 "cells": [
  {
   "cell_type": "markdown",
   "id": "c4fa689b",
   "metadata": {},
   "source": [
    "# Sequential CRM Experiments\n",
    "\n",
    "## Reference works\n",
    "- ref paper: https://arxiv.org/pdf/1502.02362.pdf\n",
    "- ref code & data: https://www.cs.cornell.edu/~adith/POEM/\n",
    "- recent paper (ICML'18): http://proceedings.mlr.press/v80/wu18g/wu18g.pdf\n",
    "- recent paper using vision tasks: https://arxiv.org/pdf/1806.11500v6.pdf"
   ]
  },
  {
   "cell_type": "markdown",
   "id": "8bda196b",
   "metadata": {},
   "source": [
    "TODO:\n",
    "1. DONE - fix pi0 to be bad enough\n",
    "1. DONE - make sure propensities are not all 0\n",
    "1. DONE - add check for propensity overfitting\n",
    "1. SEEMS OK - fix optim to work correctly -- but POEM cannot work with LBFG-S (see paper)"
   ]
  },
  {
   "cell_type": "code",
   "execution_count": 1,
   "id": "93e1ce91",
   "metadata": {},
   "outputs": [],
   "source": [
    "%load_ext autoreload\n",
    "%autoreload 2"
   ]
  },
  {
   "cell_type": "code",
   "execution_count": 2,
   "id": "9c25f72b",
   "metadata": {},
   "outputs": [],
   "source": [
    "import sys\n",
    "import time\n",
    "import copy"
   ]
  },
  {
   "cell_type": "code",
   "execution_count": 3,
   "id": "b3299e83",
   "metadata": {},
   "outputs": [],
   "source": [
    "import numpy as np"
   ]
  },
  {
   "cell_type": "code",
   "execution_count": 4,
   "id": "9a8fd973-d7ae-44dd-9588-d1f68a37eeb5",
   "metadata": {},
   "outputs": [],
   "source": [
    "import jax.numpy as jnp\n",
    "from jax.scipy.special import expit as jexpit"
   ]
  },
  {
   "cell_type": "code",
   "execution_count": 5,
   "id": "6da5c3e3",
   "metadata": {},
   "outputs": [],
   "source": [
    "import matplotlib.pyplot as plt"
   ]
  },
  {
   "cell_type": "code",
   "execution_count": 234,
   "id": "040d3d14-85a8-4352-8e96-43c704eecae2",
   "metadata": {},
   "outputs": [],
   "source": [
    "from dataset_utils import load_dataset\n",
    "from baselines_skylines import result_table, make_baselines_skylines\n",
    "from crm_dataset import CRMDataset\n",
    "from crm_model import Model\n",
    "from tracing_utils import LossHistory"
   ]
  },
  {
   "cell_type": "markdown",
   "id": "69c93204",
   "metadata": {},
   "source": [
    "---\n",
    "### Loading dataset"
   ]
  },
  {
   "cell_type": "code",
   "execution_count": 490,
   "id": "c946d0a2",
   "metadata": {
    "scrolled": true
   },
   "outputs": [
    {
     "name": "stdout",
     "output_type": "stream",
     "text": [
      "Requirement already satisfied: pygame in /opt/anaconda3/lib/python3.8/site-packages (2.1.2)\n",
      "Requirement already satisfied: stable-baselines3[extra] in /opt/anaconda3/lib/python3.8/site-packages (1.6.2)\n",
      "Requirement already satisfied: cloudpickle in /opt/anaconda3/lib/python3.8/site-packages (from stable-baselines3[extra]) (1.6.0)\n",
      "Requirement already satisfied: pandas in /opt/anaconda3/lib/python3.8/site-packages (from stable-baselines3[extra]) (1.2.4)\n",
      "Requirement already satisfied: torch>=1.11 in /opt/anaconda3/lib/python3.8/site-packages (from stable-baselines3[extra]) (1.13.0)\n",
      "Requirement already satisfied: matplotlib in /opt/anaconda3/lib/python3.8/site-packages (from stable-baselines3[extra]) (3.3.4)\n",
      "Requirement already satisfied: numpy in /opt/anaconda3/lib/python3.8/site-packages (from stable-baselines3[extra]) (1.20.1)\n",
      "Requirement already satisfied: importlib-metadata~=4.13 in /opt/anaconda3/lib/python3.8/site-packages (from stable-baselines3[extra]) (4.13.0)\n",
      "Requirement already satisfied: gym==0.21 in /opt/anaconda3/lib/python3.8/site-packages (from stable-baselines3[extra]) (0.21.0)\n",
      "Requirement already satisfied: rich in /opt/anaconda3/lib/python3.8/site-packages (from stable-baselines3[extra]) (12.6.0)\n",
      "Requirement already satisfied: tqdm in /opt/anaconda3/lib/python3.8/site-packages (from stable-baselines3[extra]) (4.59.0)\n",
      "Requirement already satisfied: autorom[accept-rom-license]~=0.4.2 in /opt/anaconda3/lib/python3.8/site-packages (from stable-baselines3[extra]) (0.4.2)\n",
      "Requirement already satisfied: tensorboard>=2.9.1 in /opt/anaconda3/lib/python3.8/site-packages (from stable-baselines3[extra]) (2.9.1)\n",
      "Requirement already satisfied: opencv-python in /opt/anaconda3/lib/python3.8/site-packages (from stable-baselines3[extra]) (4.6.0.66)\n",
      "Requirement already satisfied: pillow in /opt/anaconda3/lib/python3.8/site-packages (from stable-baselines3[extra]) (8.2.0)\n",
      "Requirement already satisfied: psutil in /opt/anaconda3/lib/python3.8/site-packages (from stable-baselines3[extra]) (5.8.0)\n",
      "Requirement already satisfied: ale-py==0.7.4 in /opt/anaconda3/lib/python3.8/site-packages (from stable-baselines3[extra]) (0.7.4)\n",
      "Requirement already satisfied: importlib-resources in /opt/anaconda3/lib/python3.8/site-packages (from ale-py==0.7.4->stable-baselines3[extra]) (5.10.0)\n",
      "Requirement already satisfied: requests in /opt/anaconda3/lib/python3.8/site-packages (from autorom[accept-rom-license]~=0.4.2->stable-baselines3[extra]) (2.25.1)\n",
      "Requirement already satisfied: click in /opt/anaconda3/lib/python3.8/site-packages (from autorom[accept-rom-license]~=0.4.2->stable-baselines3[extra]) (7.1.2)\n",
      "Requirement already satisfied: AutoROM.accept-rom-license in /opt/anaconda3/lib/python3.8/site-packages (from autorom[accept-rom-license]~=0.4.2->stable-baselines3[extra]) (0.4.2)\n",
      "Requirement already satisfied: zipp>=0.5 in /opt/anaconda3/lib/python3.8/site-packages (from importlib-metadata~=4.13->stable-baselines3[extra]) (3.4.1)\n",
      "Requirement already satisfied: wheel>=0.26 in /opt/anaconda3/lib/python3.8/site-packages (from tensorboard>=2.9.1->stable-baselines3[extra]) (0.36.2)\n",
      "Requirement already satisfied: tensorboard-data-server<0.7.0,>=0.6.0 in /opt/anaconda3/lib/python3.8/site-packages (from tensorboard>=2.9.1->stable-baselines3[extra]) (0.6.1)\n",
      "Requirement already satisfied: werkzeug>=1.0.1 in /opt/anaconda3/lib/python3.8/site-packages (from tensorboard>=2.9.1->stable-baselines3[extra]) (1.0.1)\n",
      "Requirement already satisfied: protobuf<3.20,>=3.9.2 in /opt/anaconda3/lib/python3.8/site-packages (from tensorboard>=2.9.1->stable-baselines3[extra]) (3.19.4)\n",
      "Requirement already satisfied: absl-py>=0.4 in /opt/anaconda3/lib/python3.8/site-packages (from tensorboard>=2.9.1->stable-baselines3[extra]) (1.1.0)\n",
      "Requirement already satisfied: setuptools>=41.0.0 in /opt/anaconda3/lib/python3.8/site-packages (from tensorboard>=2.9.1->stable-baselines3[extra]) (52.0.0.post20210125)\n",
      "Requirement already satisfied: google-auth<3,>=1.6.3 in /opt/anaconda3/lib/python3.8/site-packages (from tensorboard>=2.9.1->stable-baselines3[extra]) (2.9.0)\n",
      "Requirement already satisfied: markdown>=2.6.8 in /opt/anaconda3/lib/python3.8/site-packages (from tensorboard>=2.9.1->stable-baselines3[extra]) (3.3.7)\n",
      "Requirement already satisfied: tensorboard-plugin-wit>=1.6.0 in /opt/anaconda3/lib/python3.8/site-packages (from tensorboard>=2.9.1->stable-baselines3[extra]) (1.8.1)\n",
      "Requirement already satisfied: google-auth-oauthlib<0.5,>=0.4.1 in /opt/anaconda3/lib/python3.8/site-packages (from tensorboard>=2.9.1->stable-baselines3[extra]) (0.4.6)\n",
      "Requirement already satisfied: grpcio>=1.24.3 in /opt/anaconda3/lib/python3.8/site-packages (from tensorboard>=2.9.1->stable-baselines3[extra]) (1.47.0)\n",
      "Requirement already satisfied: six>=1.9.0 in /opt/anaconda3/lib/python3.8/site-packages (from google-auth<3,>=1.6.3->tensorboard>=2.9.1->stable-baselines3[extra]) (1.15.0)\n",
      "Requirement already satisfied: cachetools<6.0,>=2.0.0 in /opt/anaconda3/lib/python3.8/site-packages (from google-auth<3,>=1.6.3->tensorboard>=2.9.1->stable-baselines3[extra]) (5.2.0)\n",
      "Requirement already satisfied: rsa<5,>=3.1.4 in /opt/anaconda3/lib/python3.8/site-packages (from google-auth<3,>=1.6.3->tensorboard>=2.9.1->stable-baselines3[extra]) (4.8)\n",
      "Requirement already satisfied: pyasn1-modules>=0.2.1 in /opt/anaconda3/lib/python3.8/site-packages (from google-auth<3,>=1.6.3->tensorboard>=2.9.1->stable-baselines3[extra]) (0.2.8)\n",
      "Requirement already satisfied: requests-oauthlib>=0.7.0 in /opt/anaconda3/lib/python3.8/site-packages (from google-auth-oauthlib<0.5,>=0.4.1->tensorboard>=2.9.1->stable-baselines3[extra]) (1.3.1)\n",
      "Requirement already satisfied: pyasn1<0.5.0,>=0.4.6 in /opt/anaconda3/lib/python3.8/site-packages (from pyasn1-modules>=0.2.1->google-auth<3,>=1.6.3->tensorboard>=2.9.1->stable-baselines3[extra]) (0.4.8)\n",
      "Requirement already satisfied: idna<3,>=2.5 in /opt/anaconda3/lib/python3.8/site-packages (from requests->autorom[accept-rom-license]~=0.4.2->stable-baselines3[extra]) (2.10)\n",
      "Requirement already satisfied: certifi>=2017.4.17 in /opt/anaconda3/lib/python3.8/site-packages (from requests->autorom[accept-rom-license]~=0.4.2->stable-baselines3[extra]) (2020.12.5)\n",
      "Requirement already satisfied: urllib3<1.27,>=1.21.1 in /opt/anaconda3/lib/python3.8/site-packages (from requests->autorom[accept-rom-license]~=0.4.2->stable-baselines3[extra]) (1.26.4)\n",
      "Requirement already satisfied: chardet<5,>=3.0.2 in /opt/anaconda3/lib/python3.8/site-packages (from requests->autorom[accept-rom-license]~=0.4.2->stable-baselines3[extra]) (4.0.0)\n",
      "Requirement already satisfied: oauthlib>=3.0.0 in /opt/anaconda3/lib/python3.8/site-packages (from requests-oauthlib>=0.7.0->google-auth-oauthlib<0.5,>=0.4.1->tensorboard>=2.9.1->stable-baselines3[extra]) (3.2.0)\n",
      "Requirement already satisfied: typing-extensions in /opt/anaconda3/lib/python3.8/site-packages (from torch>=1.11->stable-baselines3[extra]) (4.4.0)\n",
      "Requirement already satisfied: cycler>=0.10 in /opt/anaconda3/lib/python3.8/site-packages (from matplotlib->stable-baselines3[extra]) (0.10.0)\n",
      "Requirement already satisfied: python-dateutil>=2.1 in /opt/anaconda3/lib/python3.8/site-packages (from matplotlib->stable-baselines3[extra]) (2.8.1)\n",
      "Requirement already satisfied: kiwisolver>=1.0.1 in /opt/anaconda3/lib/python3.8/site-packages (from matplotlib->stable-baselines3[extra]) (1.3.1)\n",
      "Requirement already satisfied: pyparsing!=2.0.4,!=2.1.2,!=2.1.6,>=2.0.3 in /opt/anaconda3/lib/python3.8/site-packages (from matplotlib->stable-baselines3[extra]) (2.4.7)\n",
      "Requirement already satisfied: pytz>=2017.3 in /opt/anaconda3/lib/python3.8/site-packages (from pandas->stable-baselines3[extra]) (2021.1)\n",
      "Requirement already satisfied: pygments<3.0.0,>=2.6.0 in /opt/anaconda3/lib/python3.8/site-packages (from rich->stable-baselines3[extra]) (2.8.1)\n",
      "Requirement already satisfied: commonmark<0.10.0,>=0.9.0 in /opt/anaconda3/lib/python3.8/site-packages (from rich->stable-baselines3[extra]) (0.9.1)\n",
      "Requirement already satisfied: pyglet==1.5.27 in /opt/anaconda3/lib/python3.8/site-packages (1.5.27)\n"
     ]
    }
   ],
   "source": [
    "!pip install pygame\n",
    "!pip install 'stable-baselines3[extra]'\n",
    "# !pip install stable_baselines3\n",
    "!pip install pyglet==1.5.27"
   ]
  },
  {
   "cell_type": "code",
   "execution_count": 491,
   "id": "375fd4d7",
   "metadata": {
    "scrolled": true
   },
   "outputs": [],
   "source": [
    "import gym\n",
    "from gym import spaces\n",
    "from gym.spaces import MultiDiscrete, Discrete, Box\n",
    "import pygame\n",
    "import numpy as np\n",
    "\n",
    "class CustomEnv(gym.Env):\n",
    "    \"\"\"Custom Environment that follows gym interface\"\"\"\n",
    "#     metadata = {'render.modes': ['human']}\n",
    "#     Everything is stored as batch. one setp_size=one whole pass on the train dataset\n",
    "\n",
    "    def __init__(self, dataset_name):\n",
    "        super(CustomEnv, self).__init__()\n",
    "        self.name=dataset_name\n",
    "        self.current_step = 0\n",
    "        self.binarize_step = 0\n",
    "        X_train, y_train, X_test, y_test, labels = load_dataset(dataset_name)\n",
    "        self.X=X_train\n",
    "        self.y=y_train\n",
    "        self.X_test = X_test\n",
    "        self.y_test = y_test\n",
    "        # X is (n,d)\n",
    "        # y is (n,k)\n",
    "        # probas is (n,k)\n",
    "        self.n = X_train.shape[0]\n",
    "        self.d = X_train.shape[1]\n",
    "        self.k = y_train.shape[1]\n",
    "        self.reward_range = (0, self.k)     \n",
    "#         self.action_space = spaces.Box(\n",
    "#           low=np.zeros(shape=self.k), high=np.ones(shape=self.k), dtype=np.int32)\n",
    "        self.action_space = MultiDiscrete(2*np.ones(shape=self.k))#Tuple((Discrete(2), Box(0, 1, (self.k,))))\n",
    "        self.observation_space = spaces.Box(\n",
    "          low=np.array([-1.]*self.d), high=np.array([1.]*self.d), dtype=np.float16)\n",
    "\n",
    "    def get_X_train(self):\n",
    "        return self.X\n",
    "    \n",
    "    def get_X_test(self):\n",
    "        return self.X_test\n",
    "    \n",
    "    def get_y_test(self):\n",
    "        return self.y_test\n",
    "    \n",
    "    def step(self, action):\n",
    "        obs = self._next_observation()\n",
    "        if self.binarize_step == 0:\n",
    "            reward = 0\n",
    "            done = False\n",
    "        else:\n",
    "            truth = self.y[self.current_step]\n",
    "            reward = (1 - np.logical_xor(action, truth)).sum()#.reshape((n,1))\n",
    "            done = True\n",
    "        self.current_step += 1 \n",
    "        if self.current_step >= (self.n):\n",
    "            self.current_step = 0\n",
    "        self.binarize_step=self.current_step %2\n",
    "        return (np.array(obs), reward, done, {})\n",
    "    \n",
    "    def reset(self, seed=None, options=None):\n",
    "        # We need the following line to seed self.np_random\n",
    "        return self.X[self.current_step]\n",
    "    def _get_obs(self):\n",
    "        obs = self.X[self.current_step]\n",
    "        return obs\n",
    "    def _get_info(self):\n",
    "        return \"\"\n",
    "    def _next_observation(self):\n",
    "        obs = self.X[self.current_step]\n",
    "        return obs"
   ]
  },
  {
   "cell_type": "markdown",
   "id": "64fccec7",
   "metadata": {},
   "source": [
    "Eval on test dataset using the expected hamming loss:\\\n",
    "def expected_hamming_loss(self, X, y):\\\n",
    "    y_invert = 1 - y\\\n",
    "    invert_probas = self.predict_proba(X, y_invert)\\\n",
    "    return invert_probas.sum() / (self.k * y.shape[0])"
   ]
  },
  {
   "cell_type": "code",
   "execution_count": 515,
   "id": "1b918cef",
   "metadata": {},
   "outputs": [],
   "source": [
    "from stable_baselines3.common.callbacks import BaseCallback\n",
    "import pickle\n",
    "\n",
    "class CustomCallback(BaseCallback):\n",
    "    \"\"\"\n",
    "    A custom callback that derives from ``BaseCallback``.\n",
    "\n",
    "    :param verbose: Verbosity level: 0 for no output, 1 for info messages, 2 for debug messages\n",
    "    \"\"\"\n",
    "    def __init__(self, verbose=0):\n",
    "        super(CustomCallback, self).__init__(verbose)\n",
    "        self.X_test=env.get_X_test()\n",
    "        self.y_test=env.get_y_test()\n",
    "        self.EHL_history=[]\n",
    "        # Those variables will be accessible in the callback\n",
    "        # (they are defined in the base class)\n",
    "        # The RL model\n",
    "        # self.model = None  # type: BaseAlgorithm\n",
    "        # An alias for self.model.get_env(), the environment used for training\n",
    "        # self.training_env = None  # type: Union[gym.Env, VecEnv, None]\n",
    "        # Number of time the callback was called\n",
    "        # self.n_calls = 0  # type: int\n",
    "        # self.num_timesteps = 0  # type: int\n",
    "        # local and global variables\n",
    "        # self.locals = None  # type: Dict[str, Any]\n",
    "        # self.globals = None  # type: Dict[str, Any]\n",
    "        # The logger object, used to report things in the terminal\n",
    "        # self.logger = None  # stable_baselines3.common.logger\n",
    "        # # Sometimes, for event callback, it is useful\n",
    "        # # to have access to the parent object\n",
    "        # self.parent = None  # type: Optional[BaseCallback]\n",
    "\n",
    "\n",
    "    def _on_training_start(self) -> None:\n",
    "        \"\"\"\n",
    "        This method is called before the first rollout starts.\n",
    "        \"\"\"\n",
    "        pass\n",
    "\n",
    "    def _on_rollout_start(self) -> None:\n",
    "        \"\"\"\n",
    "        A rollout is the collection of environment interaction\n",
    "        using the current policy.\n",
    "        This event is triggered before collecting new samples.\n",
    "        \"\"\"\n",
    "        pass\n",
    "\n",
    "    def _on_step(self) -> bool:\n",
    "        \"\"\"\n",
    "        This method will be called by the model after each call to `env.step()`.\n",
    "\n",
    "        For child callback (of an `EventCallback`), this will be called\n",
    "        when the event is triggered.\n",
    "\n",
    "        :return: (bool) If the callback returns False, training is aborted early.\n",
    "        \"\"\"\n",
    "        return True\n",
    "    def _on_rollout_end(self) -> None:\n",
    "        \"\"\"\n",
    "        This event is triggered before updating the policy.\n",
    "        \"\"\"\n",
    "        res=[np.abs(self.model.predict(self.X_test)[0]-self.y_test).mean() for _ in range(10)]\n",
    "        self.EHL_history+=[{'step': self.n_calls, 'EHLm': np.mean(res), 'EHLv': np.var(res)}]\n",
    "        print(res)\n",
    "\n",
    "    def _on_training_end(self) -> None:\n",
    "        \"\"\"\n",
    "        This event is triggered before exiting the `learn()` method.\n",
    "        \"\"\"\n",
    "        with open(dataset_name+'.pickle', 'wb') as f:\n",
    "            pickle.dump(self.EHL_history, f)"
   ]
  },
  {
   "cell_type": "code",
   "execution_count": 516,
   "id": "131970c5",
   "metadata": {},
   "outputs": [],
   "source": [
    "callback = CustomCallback()"
   ]
  },
  {
   "cell_type": "code",
   "execution_count": 517,
   "id": "01dce701",
   "metadata": {},
   "outputs": [],
   "source": [
    "from stable_baselines3 import PPO"
   ]
  },
  {
   "cell_type": "code",
   "execution_count": 518,
   "id": "1739f4ed",
   "metadata": {},
   "outputs": [],
   "source": [
    "datasets=['tmc2007', 'scene', 'yeast']"
   ]
  },
  {
   "cell_type": "code",
   "execution_count": 519,
   "id": "738e6fe7",
   "metadata": {},
   "outputs": [
    {
     "name": "stdout",
     "output_type": "stream",
     "text": [
      "X_train: (1812, 104) y_train: (1812, 14)\n"
     ]
    },
    {
     "name": "stderr",
     "output_type": "stream",
     "text": [
      "/opt/anaconda3/lib/python3.8/site-packages/gym/spaces/box.py:73: UserWarning: \u001b[33mWARN: Box bound precision lowered by casting to float16\u001b[0m\n",
      "  logger.warn(\n"
     ]
    }
   ],
   "source": [
    "dataset_name='yeast'\n",
    "# env = DummyVecEnv([lambda: CustomEnv(dataset_name)])\n",
    "env = CustomEnv(dataset_name)"
   ]
  },
  {
   "cell_type": "code",
   "execution_count": 520,
   "id": "4df52751",
   "metadata": {
    "scrolled": true
   },
   "outputs": [
    {
     "name": "stdout",
     "output_type": "stream",
     "text": [
      "Using cpu device\n",
      "Wrapping the env with a `Monitor` wrapper\n",
      "Wrapping the env in a DummyVecEnv.\n"
     ]
    },
    {
     "name": "stderr",
     "output_type": "stream",
     "text": [
      "/opt/anaconda3/lib/python3.8/site-packages/stable_baselines3/ppo/ppo.py:151: UserWarning: You have specified a mini-batch size of 64, but because the `RolloutBuffer` is of size `n_steps * n_envs = 1811`, after every 28 untruncated mini-batches, there will be a truncated mini-batch of size 19\n",
      "We recommend using a `batch_size` that is a factor of `n_steps * n_envs`.\n",
      "Info: (n_steps=1811 and n_envs=1)\n",
      "  warnings.warn(\n"
     ]
    },
    {
     "name": "stdout",
     "output_type": "stream",
     "text": [
      "[0.4977567886658796, 0.4964580873671783, 0.49244391971664697, 0.4943329397874852, 0.5023612750885478, 0.5037780401416765, 0.5025974025974026, 0.5017709563164109, 0.5036599763872491, 0.49811097992916176]\n",
      "---------------------------------\n",
      "| rollout/           |          |\n",
      "|    ep_len_mean     | 2        |\n",
      "|    ep_rew_mean     | 7.02     |\n",
      "| time/              |          |\n",
      "|    fps             | 498      |\n",
      "|    iterations      | 1        |\n",
      "|    time_elapsed    | 3        |\n",
      "|    total_timesteps | 1811     |\n",
      "---------------------------------\n",
      "[0.48937426210153484, 0.4925619834710744, 0.4891381345926801, 0.48642266824085006, 0.48536009445100353, 0.49634002361275087, 0.4987012987012987, 0.4948051948051948, 0.49067296340023614, 0.48028335301062575]\n",
      "-----------------------------------------\n",
      "| rollout/                |             |\n",
      "|    ep_len_mean          | 2           |\n",
      "|    ep_rew_mean          | 6.85        |\n",
      "| time/                   |             |\n",
      "|    fps                  | 400         |\n",
      "|    iterations           | 2           |\n",
      "|    time_elapsed         | 9           |\n",
      "|    total_timesteps      | 3622        |\n",
      "| train/                  |             |\n",
      "|    approx_kl            | 0.017017813 |\n",
      "|    clip_fraction        | 0.226       |\n",
      "|    clip_range           | 0.2         |\n",
      "|    entropy_loss         | -9.69       |\n",
      "|    explained_variance   | -0.00537    |\n",
      "|    learning_rate        | 0.0003      |\n",
      "|    loss                 | 2.07        |\n",
      "|    n_updates            | 10          |\n",
      "|    policy_gradient_loss | -0.0444     |\n",
      "|    value_loss           | 16.8        |\n",
      "-----------------------------------------\n",
      "[0.48890200708382525, 0.479456906729634, 0.49020070838252655, 0.4782762691853601, 0.48925619834710743, 0.4796930342384888, 0.4742621015348288, 0.47851239669421486, 0.48028335301062575, 0.4846517119244392]\n",
      "-----------------------------------------\n",
      "| rollout/                |             |\n",
      "|    ep_len_mean          | 2           |\n",
      "|    ep_rew_mean          | 6.79        |\n",
      "| time/                   |             |\n",
      "|    fps                  | 377         |\n",
      "|    iterations           | 3           |\n",
      "|    time_elapsed         | 14          |\n",
      "|    total_timesteps      | 5433        |\n",
      "| train/                  |             |\n",
      "|    approx_kl            | 0.019543543 |\n",
      "|    clip_fraction        | 0.296       |\n",
      "|    clip_range           | 0.2         |\n",
      "|    entropy_loss         | -9.65       |\n",
      "|    explained_variance   | -0.0258     |\n",
      "|    learning_rate        | 0.0003      |\n",
      "|    loss                 | 1.59        |\n",
      "|    n_updates            | 20          |\n",
      "|    policy_gradient_loss | -0.0592     |\n",
      "|    value_loss           | 3.34        |\n",
      "-----------------------------------------\n",
      "[0.48028335301062575, 0.46871310507674147, 0.4769775678866588, 0.47591499409681226, 0.4729634002361275, 0.46458087367178275, 0.46942148760330576, 0.47591499409681226, 0.47981109799291616, 0.46328217237308145]\n",
      "-----------------------------------------\n",
      "| rollout/                |             |\n",
      "|    ep_len_mean          | 2           |\n",
      "|    ep_rew_mean          | 7.89        |\n",
      "| time/                   |             |\n",
      "|    fps                  | 374         |\n",
      "|    iterations           | 4           |\n",
      "|    time_elapsed         | 19          |\n",
      "|    total_timesteps      | 7244        |\n",
      "| train/                  |             |\n",
      "|    approx_kl            | 0.017421363 |\n",
      "|    clip_fraction        | 0.263       |\n",
      "|    clip_range           | 0.2         |\n",
      "|    entropy_loss         | -9.6        |\n",
      "|    explained_variance   | -0.0479     |\n",
      "|    learning_rate        | 0.0003      |\n",
      "|    loss                 | 1.08        |\n",
      "|    n_updates            | 30          |\n",
      "|    policy_gradient_loss | -0.056      |\n",
      "|    value_loss           | 3.39        |\n",
      "-----------------------------------------\n",
      "[0.46292798110979927, 0.4613931523022432, 0.4536009445100354, 0.4696576151121606, 0.45324675324675323, 0.4696576151121606, 0.4678866587957497, 0.45997638724911455, 0.46127508854781585, 0.4604486422668241]\n",
      "-----------------------------------------\n",
      "| rollout/                |             |\n",
      "|    ep_len_mean          | 2           |\n",
      "|    ep_rew_mean          | 7.69        |\n",
      "| time/                   |             |\n",
      "|    fps                  | 371         |\n",
      "|    iterations           | 5           |\n",
      "|    time_elapsed         | 24          |\n",
      "|    total_timesteps      | 9055        |\n",
      "| train/                  |             |\n",
      "|    approx_kl            | 0.018117873 |\n",
      "|    clip_fraction        | 0.271       |\n",
      "|    clip_range           | 0.2         |\n",
      "|    entropy_loss         | -9.52       |\n",
      "|    explained_variance   | -0.0203     |\n",
      "|    learning_rate        | 0.0003      |\n",
      "|    loss                 | 1.44        |\n",
      "|    n_updates            | 40          |\n",
      "|    policy_gradient_loss | -0.0527     |\n",
      "|    value_loss           | 3.03        |\n",
      "-----------------------------------------\n",
      "[0.4499409681227863, 0.44545454545454544, 0.44557260920897285, 0.448642266824085, 0.4406139315230224, 0.4462809917355372, 0.4531286894923259, 0.4578512396694215, 0.4537190082644628, 0.4602125147579693]\n",
      "-----------------------------------------\n",
      "| rollout/                |             |\n",
      "|    ep_len_mean          | 2           |\n",
      "|    ep_rew_mean          | 8.06        |\n",
      "| time/                   |             |\n",
      "|    fps                  | 371         |\n",
      "|    iterations           | 6           |\n",
      "|    time_elapsed         | 29          |\n",
      "|    total_timesteps      | 10866       |\n",
      "| train/                  |             |\n",
      "|    approx_kl            | 0.018442674 |\n",
      "|    clip_fraction        | 0.263       |\n",
      "|    clip_range           | 0.2         |\n",
      "|    entropy_loss         | -9.43       |\n",
      "|    explained_variance   | -0.0276     |\n",
      "|    learning_rate        | 0.0003      |\n",
      "|    loss                 | 1.26        |\n",
      "|    n_updates            | 50          |\n",
      "|    policy_gradient_loss | -0.0539     |\n",
      "|    value_loss           | 3.31        |\n",
      "-----------------------------------------\n",
      "[0.44521841794569067, 0.44687131050767415, 0.4435655253837072, 0.45041322314049587, 0.43825265643447464, 0.4446280991735537, 0.44049586776859506, 0.4406139315230224, 0.44049586776859506, 0.4422668240850059]\n",
      "-----------------------------------------\n",
      "| rollout/                |             |\n",
      "|    ep_len_mean          | 2           |\n",
      "|    ep_rew_mean          | 8.19        |\n",
      "| time/                   |             |\n",
      "|    fps                  | 370         |\n",
      "|    iterations           | 7           |\n",
      "|    time_elapsed         | 34          |\n",
      "|    total_timesteps      | 12677       |\n",
      "| train/                  |             |\n",
      "|    approx_kl            | 0.018072644 |\n",
      "|    clip_fraction        | 0.26        |\n",
      "|    clip_range           | 0.2         |\n",
      "|    entropy_loss         | -9.34       |\n",
      "|    explained_variance   | -0.0183     |\n",
      "|    learning_rate        | 0.0003      |\n",
      "|    loss                 | 2.15        |\n",
      "|    n_updates            | 60          |\n",
      "|    policy_gradient_loss | -0.0519     |\n",
      "|    value_loss           | 3.24        |\n",
      "-----------------------------------------\n",
      "[0.42786304604486425, 0.42880755608028337, 0.44911452184179457, 0.4436835891381346, 0.43010625737898467, 0.4292798110979929, 0.43258559622195986, 0.44085005903187724, 0.42739079102715466, 0.4358913813459268]\n",
      "----------------------------------------\n",
      "| rollout/                |            |\n",
      "|    ep_len_mean          | 2          |\n",
      "|    ep_rew_mean          | 8.05       |\n",
      "| time/                   |            |\n",
      "|    fps                  | 370        |\n",
      "|    iterations           | 8          |\n",
      "|    time_elapsed         | 39         |\n",
      "|    total_timesteps      | 14488      |\n",
      "| train/                  |            |\n",
      "|    approx_kl            | 0.02054155 |\n",
      "|    clip_fraction        | 0.293      |\n",
      "|    clip_range           | 0.2        |\n",
      "|    entropy_loss         | -9.21      |\n",
      "|    explained_variance   | -0.0253    |\n",
      "|    learning_rate        | 0.0003     |\n",
      "|    loss                 | 1.07       |\n",
      "|    n_updates            | 70         |\n",
      "|    policy_gradient_loss | -0.0545    |\n",
      "|    value_loss           | 3.18       |\n",
      "----------------------------------------\n",
      "[0.41983471074380163, 0.41877213695395515, 0.4227863046044864, 0.42349468713105076, 0.41487603305785126, 0.42266824085005905, 0.41959858323494686, 0.43046044864226685, 0.43034238488783944, 0.4255017709563164]\n",
      "-----------------------------------------\n",
      "| rollout/                |             |\n",
      "|    ep_len_mean          | 2           |\n",
      "|    ep_rew_mean          | 8.46        |\n",
      "| time/                   |             |\n",
      "|    fps                  | 369         |\n",
      "|    iterations           | 9           |\n",
      "|    time_elapsed         | 44          |\n",
      "|    total_timesteps      | 16299       |\n",
      "| train/                  |             |\n",
      "|    approx_kl            | 0.019310571 |\n",
      "|    clip_fraction        | 0.276       |\n",
      "|    clip_range           | 0.2         |\n",
      "|    entropy_loss         | -9.07       |\n",
      "|    explained_variance   | -0.0103     |\n",
      "|    learning_rate        | 0.0003      |\n",
      "|    loss                 | 1.15        |\n",
      "|    n_updates            | 80          |\n",
      "|    policy_gradient_loss | -0.0538     |\n",
      "|    value_loss           | 3.06        |\n",
      "-----------------------------------------\n"
     ]
    },
    {
     "name": "stdout",
     "output_type": "stream",
     "text": [
      "[0.4076741440377804, 0.4086186540731995, 0.4179456906729634, 0.4127508854781582, 0.41523022432113343, 0.40684769775678864, 0.425383707201889, 0.41263282172373084, 0.4127508854781582, 0.41463990554899643]\n",
      "-----------------------------------------\n",
      "| rollout/                |             |\n",
      "|    ep_len_mean          | 2           |\n",
      "|    ep_rew_mean          | 8.28        |\n",
      "| time/                   |             |\n",
      "|    fps                  | 369         |\n",
      "|    iterations           | 10          |\n",
      "|    time_elapsed         | 48          |\n",
      "|    total_timesteps      | 18110       |\n",
      "| train/                  |             |\n",
      "|    approx_kl            | 0.021441555 |\n",
      "|    clip_fraction        | 0.312       |\n",
      "|    clip_range           | 0.2         |\n",
      "|    entropy_loss         | -8.92       |\n",
      "|    explained_variance   | -0.00336    |\n",
      "|    learning_rate        | 0.0003      |\n",
      "|    loss                 | 1.21        |\n",
      "|    n_updates            | 90          |\n",
      "|    policy_gradient_loss | -0.0611     |\n",
      "|    value_loss           | 3.26        |\n",
      "-----------------------------------------\n"
     ]
    },
    {
     "data": {
      "text/plain": [
       "<stable_baselines3.ppo.ppo.PPO at 0x7fa239de6370>"
      ]
     },
     "execution_count": 520,
     "metadata": {},
     "output_type": "execute_result"
    }
   ],
   "source": [
    "model = PPO(\"MlpPolicy\", env, verbose=1, n_steps=1811)\n",
    "model.learn(total_timesteps=18110, callback = callback)\n",
    "# model.save(\"ppo_cartpole\")"
   ]
  },
  {
   "cell_type": "code",
   "execution_count": 522,
   "id": "578a19ae",
   "metadata": {},
   "outputs": [
    {
     "data": {
      "text/plain": [
       "[{'step': 1811, 'EHLm': 0.49932703659976385, 'EHLv': 1.4895408337503466e-05},\n",
       " {'step': 3622, 'EHLm': 0.49036599763872496, 'EHLv': 2.7454910657658282e-05},\n",
       " {'step': 5433, 'EHLm': 0.4823494687131051, 'EHLv': 2.7399293847721437e-05},\n",
       " {'step': 7244, 'EHLm': 0.4727863046044864, 'EHLv': 3.282994777037926e-05},\n",
       " {'step': 9055, 'EHLm': 0.4620070838252657, 'EHLv': 3.073504792942388e-05},\n",
       " {'step': 10866, 'EHLm': 0.45014167650531284, 'EHLv': 3.333955944238231e-05},\n",
       " {'step': 12677, 'EHLm': 0.44328217237308143, 'EHLv': 1.1834811104962402e-05},\n",
       " {'step': 14488, 'EHLm': 0.43455726092089736, 'EHLv': 5.173631777688879e-05},\n",
       " {'step': 16299, 'EHLm': 0.42283353010625735, 'EHLv': 2.2141344755920274e-05},\n",
       " {'step': 18110, 'EHLm': 0.4134474616292799, 'EHLv': 2.6914772465915523e-05}]"
      ]
     },
     "execution_count": 522,
     "metadata": {},
     "output_type": "execute_result"
    }
   ],
   "source": [
    "callback.EHL_history"
   ]
  },
  {
   "cell_type": "code",
   "execution_count": null,
   "id": "8e6a9e60",
   "metadata": {},
   "outputs": [],
   "source": []
  },
  {
   "cell_type": "code",
   "execution_count": 270,
   "id": "a50e6a6a",
   "metadata": {},
   "outputs": [
    {
     "ename": "AttributeError",
     "evalue": "'CustomEnv' object has no attribute 'env_method'",
     "output_type": "error",
     "traceback": [
      "\u001b[0;31m---------------------------------------------------------------------------\u001b[0m",
      "\u001b[0;31mAttributeError\u001b[0m                            Traceback (most recent call last)",
      "\u001b[0;32m<ipython-input-270-454db9f4ebdf>\u001b[0m in \u001b[0;36m<module>\u001b[0;34m\u001b[0m\n\u001b[0;32m----> 1\u001b[0;31m \u001b[0mX_train\u001b[0m \u001b[0;34m=\u001b[0m \u001b[0menv\u001b[0m\u001b[0;34m.\u001b[0m\u001b[0menv_method\u001b[0m\u001b[0;34m(\u001b[0m\u001b[0;34m'get_X'\u001b[0m\u001b[0;34m)\u001b[0m\u001b[0;34m\u001b[0m\u001b[0;34m\u001b[0m\u001b[0m\n\u001b[0m",
      "\u001b[0;31mAttributeError\u001b[0m: 'CustomEnv' object has no attribute 'env_method'"
     ]
    }
   ],
   "source": [
    "X_train = env.env_method('get_X')"
   ]
  },
  {
   "cell_type": "code",
   "execution_count": 285,
   "id": "8fae2e55",
   "metadata": {},
   "outputs": [],
   "source": [
    "X=env.get_X()"
   ]
  },
  {
   "cell_type": "code",
   "execution_count": 288,
   "id": "5e00e291",
   "metadata": {},
   "outputs": [
    {
     "ename": "AttributeError",
     "evalue": "'numpy.float64' object has no attribute 'float'",
     "output_type": "error",
     "traceback": [
      "\u001b[0;31m---------------------------------------------------------------------------\u001b[0m",
      "\u001b[0;31mAttributeError\u001b[0m                            Traceback (most recent call last)",
      "\u001b[0;32m<ipython-input-288-1dd3d466c21b>\u001b[0m in \u001b[0;36m<module>\u001b[0;34m\u001b[0m\n\u001b[0;32m----> 1\u001b[0;31m \u001b[0mmodel\u001b[0m\u001b[0;34m.\u001b[0m\u001b[0mpolicy\u001b[0m\u001b[0;34m(\u001b[0m\u001b[0mobs\u001b[0m\u001b[0;34m=\u001b[0m\u001b[0mX\u001b[0m\u001b[0;34m[\u001b[0m\u001b[0;36m0\u001b[0m\u001b[0;34m]\u001b[0m\u001b[0;34m[\u001b[0m\u001b[0;36m0\u001b[0m\u001b[0;34m]\u001b[0m\u001b[0;34m)\u001b[0m\u001b[0;34m\u001b[0m\u001b[0;34m\u001b[0m\u001b[0m\n\u001b[0m",
      "\u001b[0;32m/opt/anaconda3/lib/python3.8/site-packages/torch/nn/modules/module.py\u001b[0m in \u001b[0;36m_call_impl\u001b[0;34m(self, *input, **kwargs)\u001b[0m\n\u001b[1;32m   1188\u001b[0m         if not (self._backward_hooks or self._forward_hooks or self._forward_pre_hooks or _global_backward_hooks\n\u001b[1;32m   1189\u001b[0m                 or _global_forward_hooks or _global_forward_pre_hooks):\n\u001b[0;32m-> 1190\u001b[0;31m             \u001b[0;32mreturn\u001b[0m \u001b[0mforward_call\u001b[0m\u001b[0;34m(\u001b[0m\u001b[0;34m*\u001b[0m\u001b[0minput\u001b[0m\u001b[0;34m,\u001b[0m \u001b[0;34m**\u001b[0m\u001b[0mkwargs\u001b[0m\u001b[0;34m)\u001b[0m\u001b[0;34m\u001b[0m\u001b[0;34m\u001b[0m\u001b[0m\n\u001b[0m\u001b[1;32m   1191\u001b[0m         \u001b[0;31m# Do not call functions when jit is used\u001b[0m\u001b[0;34m\u001b[0m\u001b[0;34m\u001b[0m\u001b[0;34m\u001b[0m\u001b[0m\n\u001b[1;32m   1192\u001b[0m         \u001b[0mfull_backward_hooks\u001b[0m\u001b[0;34m,\u001b[0m \u001b[0mnon_full_backward_hooks\u001b[0m \u001b[0;34m=\u001b[0m \u001b[0;34m[\u001b[0m\u001b[0;34m]\u001b[0m\u001b[0;34m,\u001b[0m \u001b[0;34m[\u001b[0m\u001b[0;34m]\u001b[0m\u001b[0;34m\u001b[0m\u001b[0;34m\u001b[0m\u001b[0m\n",
      "\u001b[0;32m/opt/anaconda3/lib/python3.8/site-packages/stable_baselines3/common/policies.py\u001b[0m in \u001b[0;36mforward\u001b[0;34m(self, obs, deterministic)\u001b[0m\n\u001b[1;32m    584\u001b[0m         \"\"\"\n\u001b[1;32m    585\u001b[0m         \u001b[0;31m# Preprocess the observation if needed\u001b[0m\u001b[0;34m\u001b[0m\u001b[0;34m\u001b[0m\u001b[0;34m\u001b[0m\u001b[0m\n\u001b[0;32m--> 586\u001b[0;31m         \u001b[0mfeatures\u001b[0m \u001b[0;34m=\u001b[0m \u001b[0mself\u001b[0m\u001b[0;34m.\u001b[0m\u001b[0mextract_features\u001b[0m\u001b[0;34m(\u001b[0m\u001b[0mobs\u001b[0m\u001b[0;34m)\u001b[0m\u001b[0;34m\u001b[0m\u001b[0;34m\u001b[0m\u001b[0m\n\u001b[0m\u001b[1;32m    587\u001b[0m         \u001b[0mlatent_pi\u001b[0m\u001b[0;34m,\u001b[0m \u001b[0mlatent_vf\u001b[0m \u001b[0;34m=\u001b[0m \u001b[0mself\u001b[0m\u001b[0;34m.\u001b[0m\u001b[0mmlp_extractor\u001b[0m\u001b[0;34m(\u001b[0m\u001b[0mfeatures\u001b[0m\u001b[0;34m)\u001b[0m\u001b[0;34m\u001b[0m\u001b[0;34m\u001b[0m\u001b[0m\n\u001b[1;32m    588\u001b[0m         \u001b[0;31m# Evaluate the values for the given observations\u001b[0m\u001b[0;34m\u001b[0m\u001b[0;34m\u001b[0m\u001b[0;34m\u001b[0m\u001b[0m\n",
      "\u001b[0;32m/opt/anaconda3/lib/python3.8/site-packages/stable_baselines3/common/policies.py\u001b[0m in \u001b[0;36mextract_features\u001b[0;34m(self, obs)\u001b[0m\n\u001b[1;32m    124\u001b[0m         \"\"\"\n\u001b[1;32m    125\u001b[0m         \u001b[0;32massert\u001b[0m \u001b[0mself\u001b[0m\u001b[0;34m.\u001b[0m\u001b[0mfeatures_extractor\u001b[0m \u001b[0;32mis\u001b[0m \u001b[0;32mnot\u001b[0m \u001b[0;32mNone\u001b[0m\u001b[0;34m,\u001b[0m \u001b[0;34m\"No features extractor was set\"\u001b[0m\u001b[0;34m\u001b[0m\u001b[0;34m\u001b[0m\u001b[0m\n\u001b[0;32m--> 126\u001b[0;31m         \u001b[0mpreprocessed_obs\u001b[0m \u001b[0;34m=\u001b[0m \u001b[0mpreprocess_obs\u001b[0m\u001b[0;34m(\u001b[0m\u001b[0mobs\u001b[0m\u001b[0;34m,\u001b[0m \u001b[0mself\u001b[0m\u001b[0;34m.\u001b[0m\u001b[0mobservation_space\u001b[0m\u001b[0;34m,\u001b[0m \u001b[0mnormalize_images\u001b[0m\u001b[0;34m=\u001b[0m\u001b[0mself\u001b[0m\u001b[0;34m.\u001b[0m\u001b[0mnormalize_images\u001b[0m\u001b[0;34m)\u001b[0m\u001b[0;34m\u001b[0m\u001b[0;34m\u001b[0m\u001b[0m\n\u001b[0m\u001b[1;32m    127\u001b[0m         \u001b[0;32mreturn\u001b[0m \u001b[0mself\u001b[0m\u001b[0;34m.\u001b[0m\u001b[0mfeatures_extractor\u001b[0m\u001b[0;34m(\u001b[0m\u001b[0mpreprocessed_obs\u001b[0m\u001b[0;34m)\u001b[0m\u001b[0;34m\u001b[0m\u001b[0;34m\u001b[0m\u001b[0m\n\u001b[1;32m    128\u001b[0m \u001b[0;34m\u001b[0m\u001b[0m\n",
      "\u001b[0;32m/opt/anaconda3/lib/python3.8/site-packages/stable_baselines3/common/preprocessing.py\u001b[0m in \u001b[0;36mpreprocess_obs\u001b[0;34m(obs, observation_space, normalize_images)\u001b[0m\n\u001b[1;32m    102\u001b[0m         \u001b[0;32mif\u001b[0m \u001b[0mis_image_space\u001b[0m\u001b[0;34m(\u001b[0m\u001b[0mobservation_space\u001b[0m\u001b[0;34m)\u001b[0m \u001b[0;32mand\u001b[0m \u001b[0mnormalize_images\u001b[0m\u001b[0;34m:\u001b[0m\u001b[0;34m\u001b[0m\u001b[0;34m\u001b[0m\u001b[0m\n\u001b[1;32m    103\u001b[0m             \u001b[0;32mreturn\u001b[0m \u001b[0mobs\u001b[0m\u001b[0;34m.\u001b[0m\u001b[0mfloat\u001b[0m\u001b[0;34m(\u001b[0m\u001b[0;34m)\u001b[0m \u001b[0;34m/\u001b[0m \u001b[0;36m255.0\u001b[0m\u001b[0;34m\u001b[0m\u001b[0;34m\u001b[0m\u001b[0m\n\u001b[0;32m--> 104\u001b[0;31m         \u001b[0;32mreturn\u001b[0m \u001b[0mobs\u001b[0m\u001b[0;34m.\u001b[0m\u001b[0mfloat\u001b[0m\u001b[0;34m(\u001b[0m\u001b[0;34m)\u001b[0m\u001b[0;34m\u001b[0m\u001b[0;34m\u001b[0m\u001b[0m\n\u001b[0m\u001b[1;32m    105\u001b[0m \u001b[0;34m\u001b[0m\u001b[0m\n\u001b[1;32m    106\u001b[0m     \u001b[0;32melif\u001b[0m \u001b[0misinstance\u001b[0m\u001b[0;34m(\u001b[0m\u001b[0mobservation_space\u001b[0m\u001b[0;34m,\u001b[0m \u001b[0mspaces\u001b[0m\u001b[0;34m.\u001b[0m\u001b[0mDiscrete\u001b[0m\u001b[0;34m)\u001b[0m\u001b[0;34m:\u001b[0m\u001b[0;34m\u001b[0m\u001b[0;34m\u001b[0m\u001b[0m\n",
      "\u001b[0;31mAttributeError\u001b[0m: 'numpy.float64' object has no attribute 'float'"
     ]
    }
   ],
   "source": [
    "model.policy(obs=X[0][0])"
   ]
  },
  {
   "cell_type": "code",
   "execution_count": 261,
   "id": "0998c2b6",
   "metadata": {},
   "outputs": [
    {
     "data": {
      "text/plain": [
       "[array([[ 1.      ,  0.061546,  0.110907, ..., -0.051774, -0.004292,\n",
       "          0.089406],\n",
       "        [ 1.      ,  0.081105,  0.028522, ..., -0.016547,  0.022382,\n",
       "          0.108025],\n",
       "        [ 1.      , -0.092689,  0.067704, ..., -0.02284 ,  0.028845,\n",
       "          0.116299],\n",
       "        ...,\n",
       "        [ 1.      ,  0.082141,  0.033799, ..., -0.005957,  0.04049 ,\n",
       "          0.124269],\n",
       "        [ 1.      ,  0.114105,  0.128681, ..., -0.016764,  0.0276  ,\n",
       "          0.134622],\n",
       "        [ 1.      ,  0.031047,  0.017553, ...,  0.244046, -0.085296,\n",
       "         -0.09445 ]])]"
      ]
     },
     "execution_count": 261,
     "metadata": {},
     "output_type": "execute_result"
    }
   ],
   "source": [
    "X_train"
   ]
  },
  {
   "cell_type": "code",
   "execution_count": 265,
   "id": "28a46d7a",
   "metadata": {},
   "outputs": [
    {
     "data": {
      "text/plain": [
       "array([ 1.      ,  0.061546,  0.110907,  0.023174,  0.124335,  0.153756,\n",
       "        0.02214 ,  0.114945,  0.136283, -0.023991,  0.030921,  0.108964,\n",
       "        0.107813,  0.080433,  0.010799,  0.274625, -0.097417,  0.005002,\n",
       "       -0.02469 ,  0.058155, -0.139372, -0.012751, -0.049982, -0.002932,\n",
       "       -0.0396  , -0.053613, -0.165479, -0.188591, -0.16635 , -0.138868,\n",
       "       -0.322158, -0.351882, -0.255677, -0.109881,  0.027027, -0.055838,\n",
       "       -0.029062, -0.028474, -0.007237,  0.024502, -0.045966, -0.009791,\n",
       "       -0.054273, -0.091975, -0.009861,  0.04485 ,  0.00125 , -0.006363,\n",
       "       -0.048231, -0.048503,  0.022043,  0.048058,  0.063471,  0.062669,\n",
       "       -0.025209,  0.082548,  0.012574, -0.065339, -0.002076,  0.054449,\n",
       "        0.080065,  0.064179,  0.058921, -0.007256,  0.233142, -0.120922,\n",
       "       -0.038747, -0.094276, -0.093553,  0.162602,  0.195285,  0.167616,\n",
       "        0.108621,  0.011207,  0.003102, -0.073865, -0.037768, -0.0672  ,\n",
       "       -0.101071, -0.048904, -0.022293, -0.053139, -0.038614,  0.028444,\n",
       "        0.005908, -0.002858,  0.080853, -0.052112,  0.122312, -0.054376,\n",
       "       -0.031514, -0.024169, -0.013887, -0.04842 ,  0.100963, -0.059378,\n",
       "       -0.012044, -0.027977, -0.032603,  0.025428, -0.054661, -0.051774,\n",
       "       -0.004292,  0.089406])"
      ]
     },
     "execution_count": 265,
     "metadata": {},
     "output_type": "execute_result"
    }
   ],
   "source": [
    "X_train[0][0]"
   ]
  },
  {
   "cell_type": "code",
   "execution_count": 266,
   "id": "a54cfb9c",
   "metadata": {
    "scrolled": true
   },
   "outputs": [
    {
     "ename": "AttributeError",
     "evalue": "'numpy.ndarray' object has no attribute 'float'",
     "output_type": "error",
     "traceback": [
      "\u001b[0;31m---------------------------------------------------------------------------\u001b[0m",
      "\u001b[0;31mAttributeError\u001b[0m                            Traceback (most recent call last)",
      "\u001b[0;32m<ipython-input-266-57b9cf215cb0>\u001b[0m in \u001b[0;36m<module>\u001b[0;34m\u001b[0m\n\u001b[0;32m----> 1\u001b[0;31m \u001b[0mmodel\u001b[0m\u001b[0;34m.\u001b[0m\u001b[0mpolicy\u001b[0m\u001b[0;34m(\u001b[0m\u001b[0mobs\u001b[0m\u001b[0;34m=\u001b[0m\u001b[0mX_train\u001b[0m\u001b[0;34m[\u001b[0m\u001b[0;36m0\u001b[0m\u001b[0;34m]\u001b[0m\u001b[0;34m[\u001b[0m\u001b[0;36m0\u001b[0m\u001b[0;34m]\u001b[0m\u001b[0;34m)\u001b[0m\u001b[0;34m\u001b[0m\u001b[0;34m\u001b[0m\u001b[0m\n\u001b[0m",
      "\u001b[0;32m/opt/anaconda3/lib/python3.8/site-packages/torch/nn/modules/module.py\u001b[0m in \u001b[0;36m_call_impl\u001b[0;34m(self, *input, **kwargs)\u001b[0m\n\u001b[1;32m   1188\u001b[0m         if not (self._backward_hooks or self._forward_hooks or self._forward_pre_hooks or _global_backward_hooks\n\u001b[1;32m   1189\u001b[0m                 or _global_forward_hooks or _global_forward_pre_hooks):\n\u001b[0;32m-> 1190\u001b[0;31m             \u001b[0;32mreturn\u001b[0m \u001b[0mforward_call\u001b[0m\u001b[0;34m(\u001b[0m\u001b[0;34m*\u001b[0m\u001b[0minput\u001b[0m\u001b[0;34m,\u001b[0m \u001b[0;34m**\u001b[0m\u001b[0mkwargs\u001b[0m\u001b[0;34m)\u001b[0m\u001b[0;34m\u001b[0m\u001b[0;34m\u001b[0m\u001b[0m\n\u001b[0m\u001b[1;32m   1191\u001b[0m         \u001b[0;31m# Do not call functions when jit is used\u001b[0m\u001b[0;34m\u001b[0m\u001b[0;34m\u001b[0m\u001b[0;34m\u001b[0m\u001b[0m\n\u001b[1;32m   1192\u001b[0m         \u001b[0mfull_backward_hooks\u001b[0m\u001b[0;34m,\u001b[0m \u001b[0mnon_full_backward_hooks\u001b[0m \u001b[0;34m=\u001b[0m \u001b[0;34m[\u001b[0m\u001b[0;34m]\u001b[0m\u001b[0;34m,\u001b[0m \u001b[0;34m[\u001b[0m\u001b[0;34m]\u001b[0m\u001b[0;34m\u001b[0m\u001b[0;34m\u001b[0m\u001b[0m\n",
      "\u001b[0;32m/opt/anaconda3/lib/python3.8/site-packages/stable_baselines3/common/policies.py\u001b[0m in \u001b[0;36mforward\u001b[0;34m(self, obs, deterministic)\u001b[0m\n\u001b[1;32m    584\u001b[0m         \"\"\"\n\u001b[1;32m    585\u001b[0m         \u001b[0;31m# Preprocess the observation if needed\u001b[0m\u001b[0;34m\u001b[0m\u001b[0;34m\u001b[0m\u001b[0;34m\u001b[0m\u001b[0m\n\u001b[0;32m--> 586\u001b[0;31m         \u001b[0mfeatures\u001b[0m \u001b[0;34m=\u001b[0m \u001b[0mself\u001b[0m\u001b[0;34m.\u001b[0m\u001b[0mextract_features\u001b[0m\u001b[0;34m(\u001b[0m\u001b[0mobs\u001b[0m\u001b[0;34m)\u001b[0m\u001b[0;34m\u001b[0m\u001b[0;34m\u001b[0m\u001b[0m\n\u001b[0m\u001b[1;32m    587\u001b[0m         \u001b[0mlatent_pi\u001b[0m\u001b[0;34m,\u001b[0m \u001b[0mlatent_vf\u001b[0m \u001b[0;34m=\u001b[0m \u001b[0mself\u001b[0m\u001b[0;34m.\u001b[0m\u001b[0mmlp_extractor\u001b[0m\u001b[0;34m(\u001b[0m\u001b[0mfeatures\u001b[0m\u001b[0;34m)\u001b[0m\u001b[0;34m\u001b[0m\u001b[0;34m\u001b[0m\u001b[0m\n\u001b[1;32m    588\u001b[0m         \u001b[0;31m# Evaluate the values for the given observations\u001b[0m\u001b[0;34m\u001b[0m\u001b[0;34m\u001b[0m\u001b[0;34m\u001b[0m\u001b[0m\n",
      "\u001b[0;32m/opt/anaconda3/lib/python3.8/site-packages/stable_baselines3/common/policies.py\u001b[0m in \u001b[0;36mextract_features\u001b[0;34m(self, obs)\u001b[0m\n\u001b[1;32m    124\u001b[0m         \"\"\"\n\u001b[1;32m    125\u001b[0m         \u001b[0;32massert\u001b[0m \u001b[0mself\u001b[0m\u001b[0;34m.\u001b[0m\u001b[0mfeatures_extractor\u001b[0m \u001b[0;32mis\u001b[0m \u001b[0;32mnot\u001b[0m \u001b[0;32mNone\u001b[0m\u001b[0;34m,\u001b[0m \u001b[0;34m\"No features extractor was set\"\u001b[0m\u001b[0;34m\u001b[0m\u001b[0;34m\u001b[0m\u001b[0m\n\u001b[0;32m--> 126\u001b[0;31m         \u001b[0mpreprocessed_obs\u001b[0m \u001b[0;34m=\u001b[0m \u001b[0mpreprocess_obs\u001b[0m\u001b[0;34m(\u001b[0m\u001b[0mobs\u001b[0m\u001b[0;34m,\u001b[0m \u001b[0mself\u001b[0m\u001b[0;34m.\u001b[0m\u001b[0mobservation_space\u001b[0m\u001b[0;34m,\u001b[0m \u001b[0mnormalize_images\u001b[0m\u001b[0;34m=\u001b[0m\u001b[0mself\u001b[0m\u001b[0;34m.\u001b[0m\u001b[0mnormalize_images\u001b[0m\u001b[0;34m)\u001b[0m\u001b[0;34m\u001b[0m\u001b[0;34m\u001b[0m\u001b[0m\n\u001b[0m\u001b[1;32m    127\u001b[0m         \u001b[0;32mreturn\u001b[0m \u001b[0mself\u001b[0m\u001b[0;34m.\u001b[0m\u001b[0mfeatures_extractor\u001b[0m\u001b[0;34m(\u001b[0m\u001b[0mpreprocessed_obs\u001b[0m\u001b[0;34m)\u001b[0m\u001b[0;34m\u001b[0m\u001b[0;34m\u001b[0m\u001b[0m\n\u001b[1;32m    128\u001b[0m \u001b[0;34m\u001b[0m\u001b[0m\n",
      "\u001b[0;32m/opt/anaconda3/lib/python3.8/site-packages/stable_baselines3/common/preprocessing.py\u001b[0m in \u001b[0;36mpreprocess_obs\u001b[0;34m(obs, observation_space, normalize_images)\u001b[0m\n\u001b[1;32m    102\u001b[0m         \u001b[0;32mif\u001b[0m \u001b[0mis_image_space\u001b[0m\u001b[0;34m(\u001b[0m\u001b[0mobservation_space\u001b[0m\u001b[0;34m)\u001b[0m \u001b[0;32mand\u001b[0m \u001b[0mnormalize_images\u001b[0m\u001b[0;34m:\u001b[0m\u001b[0;34m\u001b[0m\u001b[0;34m\u001b[0m\u001b[0m\n\u001b[1;32m    103\u001b[0m             \u001b[0;32mreturn\u001b[0m \u001b[0mobs\u001b[0m\u001b[0;34m.\u001b[0m\u001b[0mfloat\u001b[0m\u001b[0;34m(\u001b[0m\u001b[0;34m)\u001b[0m \u001b[0;34m/\u001b[0m \u001b[0;36m255.0\u001b[0m\u001b[0;34m\u001b[0m\u001b[0;34m\u001b[0m\u001b[0m\n\u001b[0;32m--> 104\u001b[0;31m         \u001b[0;32mreturn\u001b[0m \u001b[0mobs\u001b[0m\u001b[0;34m.\u001b[0m\u001b[0mfloat\u001b[0m\u001b[0;34m(\u001b[0m\u001b[0;34m)\u001b[0m\u001b[0;34m\u001b[0m\u001b[0;34m\u001b[0m\u001b[0m\n\u001b[0m\u001b[1;32m    105\u001b[0m \u001b[0;34m\u001b[0m\u001b[0m\n\u001b[1;32m    106\u001b[0m     \u001b[0;32melif\u001b[0m \u001b[0misinstance\u001b[0m\u001b[0;34m(\u001b[0m\u001b[0mobservation_space\u001b[0m\u001b[0;34m,\u001b[0m \u001b[0mspaces\u001b[0m\u001b[0;34m.\u001b[0m\u001b[0mDiscrete\u001b[0m\u001b[0;34m)\u001b[0m\u001b[0;34m:\u001b[0m\u001b[0;34m\u001b[0m\u001b[0;34m\u001b[0m\u001b[0m\n",
      "\u001b[0;31mAttributeError\u001b[0m: 'numpy.ndarray' object has no attribute 'float'"
     ]
    }
   ],
   "source": [
    "model.policy(obs=X_train[0][0])"
   ]
  },
  {
   "cell_type": "markdown",
   "id": "f6aef896",
   "metadata": {},
   "source": [
    "### Baselines & Skylines"
   ]
  },
  {
   "cell_type": "code",
   "execution_count": 35,
   "id": "b321b06d-23e5-429a-b135-66f7c5246b0f",
   "metadata": {},
   "outputs": [],
   "source": [
    "pi0, pistar = make_baselines_skylines(dataset_name, X_train, y_train)"
   ]
  },
  {
   "cell_type": "code",
   "execution_count": 36,
   "id": "001ef17d",
   "metadata": {},
   "outputs": [],
   "source": [
    "sampling_probas = pi0.predict_proba(X_train)\n",
    "sampling_probas = np.array([_[:,1] for _ in sampling_probas]).T "
   ]
  },
  {
   "cell_type": "code",
   "execution_count": 37,
   "id": "1365cf50",
   "metadata": {},
   "outputs": [
    {
     "data": {
      "text/plain": [
       "array([0.04196816, 0.07985135, 0.07448589, 0.01369675, 0.00762209,\n",
       "       0.01825114, 0.0269684 , 0.02914602, 0.00790334, 0.00671692,\n",
       "       0.00631266, 0.13104026, 0.13177221, 0.00547145])"
      ]
     },
     "execution_count": 37,
     "metadata": {},
     "output_type": "execute_result"
    }
   ],
   "source": [
    "sampling_probas.min(axis=0)"
   ]
  },
  {
   "cell_type": "code",
   "execution_count": 38,
   "id": "72253b57",
   "metadata": {},
   "outputs": [
    {
     "name": "stdout",
     "output_type": "stream",
     "text": [
      "0 / 1812 train instances have 0 propensity\n"
     ]
    }
   ],
   "source": [
    "log_props_per_instance = jnp.log(sampling_probas).sum(axis=1)\n",
    "n_zero_props = (jnp.exp(log_props_per_instance) == 0).astype(int).sum()\n",
    "print(n_zero_props, '/', sampling_probas.shape[0], 'train instances have 0 propensity')\n",
    "assert (n_zero_props / sampling_probas.shape[0]) < .1"
   ]
  },
  {
   "cell_type": "markdown",
   "id": "28ae40cb",
   "metadata": {},
   "source": [
    "# The Experiment"
   ]
  },
  {
   "cell_type": "code",
   "execution_count": 7,
   "id": "56d7d22f-c319-4245-b57a-300ce5246d39",
   "metadata": {},
   "outputs": [
    {
     "data": {
      "text/plain": [
       "array([ 1,  2,  4,  8, 16, 32])"
      ]
     },
     "execution_count": 7,
     "metadata": {},
     "output_type": "execute_result"
    }
   ],
   "source": [
    "replay_targets = 2**np.arange(6)\n",
    "replay_targets"
   ]
  },
  {
   "cell_type": "code",
   "execution_count": 10,
   "id": "718a984a",
   "metadata": {},
   "outputs": [],
   "source": [
    "def expected_hamming_loss(self, X, y):\n",
    "    y_invert = 1 - y\n",
    "    invert_probas = self.predict_proba(X, y_invert)\n",
    "    return invert_probas.sum() / (self.k * y.shape[0]) "
   ]
  },
  {
   "cell_type": "code",
   "execution_count": 11,
   "id": "c56083e3",
   "metadata": {},
   "outputs": [],
   "source": [
    "from sklearn.metrics import hamming_loss"
   ]
  },
  {
   "cell_type": "code",
   "execution_count": 12,
   "id": "39530ef9",
   "metadata": {},
   "outputs": [],
   "source": [
    "def expected_hamming_loss(model, X, y):\n",
    "        y_invert = 1 - y\n",
    "        invert_probas = model.predict_proba(X, y_invert)\n",
    "        k = y.shape[1]\n",
    "        return invert_probas.sum() / (k * y.shape[0]) "
   ]
  },
  {
   "cell_type": "code",
   "execution_count": null,
   "id": "10261ea3",
   "metadata": {},
   "outputs": [],
   "source": []
  },
  {
   "cell_type": "code",
   "execution_count": 13,
   "id": "9c6902fb",
   "metadata": {},
   "outputs": [
    {
     "name": "stdout",
     "output_type": "stream",
     "text": [
      "Requirement already satisfied: pyglet==1.5.27 in /opt/anaconda3/lib/python3.8/site-packages (1.5.27)\r\n"
     ]
    }
   ],
   "source": []
  },
  {
   "cell_type": "code",
   "execution_count": 14,
   "id": "18490ff3",
   "metadata": {},
   "outputs": [],
   "source": []
  },
  {
   "cell_type": "code",
   "execution_count": 235,
   "id": "41f3af4b",
   "metadata": {},
   "outputs": [
    {
     "ename": "NameError",
     "evalue": "name 'load_svmlight_file' is not defined",
     "output_type": "error",
     "traceback": [
      "\u001b[0;31m---------------------------------------------------------------------------\u001b[0m",
      "\u001b[0;31mNameError\u001b[0m                                 Traceback (most recent call last)",
      "\u001b[0;32m<ipython-input-235-78af274b62c5>\u001b[0m in \u001b[0;36m<module>\u001b[0;34m\u001b[0m\n\u001b[1;32m      1\u001b[0m \u001b[0mdataset_name\u001b[0m\u001b[0;34m\u001b[0m\u001b[0;34m\u001b[0m\u001b[0m\n\u001b[0;32m----> 2\u001b[0;31m \u001b[0mX_train\u001b[0m\u001b[0;34m,\u001b[0m \u001b[0my_train_\u001b[0m \u001b[0;34m=\u001b[0m \u001b[0mload_svmlight_file\u001b[0m\u001b[0;34m(\u001b[0m\u001b[0mdataset_name\u001b[0m\u001b[0;34m+\u001b[0m\u001b[0;34m'_train.svm'\u001b[0m\u001b[0;34m,\u001b[0m \u001b[0mmultilabel\u001b[0m\u001b[0;34m=\u001b[0m\u001b[0;32mTrue\u001b[0m\u001b[0;34m)\u001b[0m\u001b[0;34m\u001b[0m\u001b[0;34m\u001b[0m\u001b[0m\n\u001b[0m\u001b[1;32m      3\u001b[0m \u001b[0mX_train0\u001b[0m\u001b[0;34m=\u001b[0m\u001b[0mX_train\u001b[0m\u001b[0;34m\u001b[0m\u001b[0;34m\u001b[0m\u001b[0m\n\u001b[1;32m      4\u001b[0m \u001b[0mprint\u001b[0m\u001b[0;34m(\u001b[0m\u001b[0mX_train0\u001b[0m\u001b[0;34m.\u001b[0m\u001b[0mshape\u001b[0m\u001b[0;34m)\u001b[0m\u001b[0;34m\u001b[0m\u001b[0;34m\u001b[0m\u001b[0m\n\u001b[1;32m      5\u001b[0m \u001b[0mX_train\u001b[0m \u001b[0;34m=\u001b[0m \u001b[0mnp\u001b[0m\u001b[0;34m.\u001b[0m\u001b[0marray\u001b[0m\u001b[0;34m(\u001b[0m\u001b[0mX_train\u001b[0m\u001b[0;34m.\u001b[0m\u001b[0mtodense\u001b[0m\u001b[0;34m(\u001b[0m\u001b[0;34m)\u001b[0m\u001b[0;34m)\u001b[0m\u001b[0;34m\u001b[0m\u001b[0;34m\u001b[0m\u001b[0m\n",
      "\u001b[0;31mNameError\u001b[0m: name 'load_svmlight_file' is not defined"
     ]
    }
   ],
   "source": [
    "\n",
    "dataset_name\n",
    "X_train, y_train_ = load_svmlight_file(dataset_name+'_train.svm', multilabel=True)\n",
    "X_train0=X_train\n",
    "print(X_train0.shape)\n",
    "X_train = np.array(X_train.todense())\n"
   ]
  },
  {
   "cell_type": "code",
   "execution_count": 31,
   "id": "97c2b7e9",
   "metadata": {},
   "outputs": [],
   "source": []
  },
  {
   "cell_type": "code",
   "execution_count": 121,
   "id": "11ab7db8",
   "metadata": {
    "scrolled": true
   },
   "outputs": [
    {
     "name": "stdout",
     "output_type": "stream",
     "text": [
      "Using cpu device\n",
      "Wrapping the env with a `Monitor` wrapper\n",
      "Wrapping the env in a DummyVecEnv.\n"
     ]
    },
    {
     "name": "stderr",
     "output_type": "stream",
     "text": [
      "/opt/anaconda3/lib/python3.8/site-packages/stable_baselines3/ppo/ppo.py:151: UserWarning: You have specified a mini-batch size of 64, but because the `RolloutBuffer` is of size `n_steps * n_envs = 2`, after every 0 untruncated mini-batches, there will be a truncated mini-batch of size 2\n",
      "We recommend using a `batch_size` that is a factor of `n_steps * n_envs`.\n",
      "Info: (n_steps=2 and n_envs=1)\n",
      "  warnings.warn(\n"
     ]
    },
    {
     "ename": "ValueError",
     "evalue": "Expected parameter loc (Tensor of shape (1, 14)) of distribution Normal(loc: torch.Size([1, 14]), scale: torch.Size([1, 14])) to satisfy the constraint Real(), but found invalid values:\ntensor([[nan, nan, nan, nan, nan, nan, nan, nan, nan, nan, nan, nan, nan, nan]])",
     "output_type": "error",
     "traceback": [
      "\u001b[0;31m---------------------------------------------------------------------------\u001b[0m",
      "\u001b[0;31mValueError\u001b[0m                                Traceback (most recent call last)",
      "\u001b[0;32m<ipython-input-121-abafea050f3a>\u001b[0m in \u001b[0;36m<module>\u001b[0;34m\u001b[0m\n\u001b[1;32m      1\u001b[0m \u001b[0mmodel\u001b[0m \u001b[0;34m=\u001b[0m \u001b[0mPPO\u001b[0m\u001b[0;34m(\u001b[0m\u001b[0;34m\"MlpPolicy\"\u001b[0m\u001b[0;34m,\u001b[0m \u001b[0menv\u001b[0m\u001b[0;34m,\u001b[0m \u001b[0mverbose\u001b[0m\u001b[0;34m=\u001b[0m\u001b[0;36m1\u001b[0m\u001b[0;34m,\u001b[0m \u001b[0mn_steps\u001b[0m\u001b[0;34m=\u001b[0m\u001b[0;36m2\u001b[0m\u001b[0;34m)\u001b[0m\u001b[0;34m\u001b[0m\u001b[0;34m\u001b[0m\u001b[0m\n\u001b[0;32m----> 2\u001b[0;31m \u001b[0mmodel\u001b[0m\u001b[0;34m.\u001b[0m\u001b[0mlearn\u001b[0m\u001b[0;34m(\u001b[0m\u001b[0mtotal_timesteps\u001b[0m\u001b[0;34m=\u001b[0m\u001b[0;36m11\u001b[0m\u001b[0;34m)\u001b[0m\u001b[0;34m\u001b[0m\u001b[0;34m\u001b[0m\u001b[0m\n\u001b[0m\u001b[1;32m      3\u001b[0m \u001b[0mmodel\u001b[0m\u001b[0;34m.\u001b[0m\u001b[0msave\u001b[0m\u001b[0;34m(\u001b[0m\u001b[0;34m\"ppo_cartpole\"\u001b[0m\u001b[0;34m)\u001b[0m\u001b[0;34m\u001b[0m\u001b[0;34m\u001b[0m\u001b[0m\n",
      "\u001b[0;32m/opt/anaconda3/lib/python3.8/site-packages/stable_baselines3/ppo/ppo.py\u001b[0m in \u001b[0;36mlearn\u001b[0;34m(self, total_timesteps, callback, log_interval, eval_env, eval_freq, n_eval_episodes, tb_log_name, eval_log_path, reset_num_timesteps, progress_bar)\u001b[0m\n\u001b[1;32m    315\u001b[0m     ) -> PPOSelf:\n\u001b[1;32m    316\u001b[0m \u001b[0;34m\u001b[0m\u001b[0m\n\u001b[0;32m--> 317\u001b[0;31m         return super().learn(\n\u001b[0m\u001b[1;32m    318\u001b[0m             \u001b[0mtotal_timesteps\u001b[0m\u001b[0;34m=\u001b[0m\u001b[0mtotal_timesteps\u001b[0m\u001b[0;34m,\u001b[0m\u001b[0;34m\u001b[0m\u001b[0;34m\u001b[0m\u001b[0m\n\u001b[1;32m    319\u001b[0m             \u001b[0mcallback\u001b[0m\u001b[0;34m=\u001b[0m\u001b[0mcallback\u001b[0m\u001b[0;34m,\u001b[0m\u001b[0;34m\u001b[0m\u001b[0;34m\u001b[0m\u001b[0m\n",
      "\u001b[0;32m/opt/anaconda3/lib/python3.8/site-packages/stable_baselines3/common/on_policy_algorithm.py\u001b[0m in \u001b[0;36mlearn\u001b[0;34m(self, total_timesteps, callback, log_interval, eval_env, eval_freq, n_eval_episodes, tb_log_name, eval_log_path, reset_num_timesteps, progress_bar)\u001b[0m\n\u001b[1;32m    260\u001b[0m         \u001b[0;32mwhile\u001b[0m \u001b[0mself\u001b[0m\u001b[0;34m.\u001b[0m\u001b[0mnum_timesteps\u001b[0m \u001b[0;34m<\u001b[0m \u001b[0mtotal_timesteps\u001b[0m\u001b[0;34m:\u001b[0m\u001b[0;34m\u001b[0m\u001b[0;34m\u001b[0m\u001b[0m\n\u001b[1;32m    261\u001b[0m \u001b[0;34m\u001b[0m\u001b[0m\n\u001b[0;32m--> 262\u001b[0;31m             \u001b[0mcontinue_training\u001b[0m \u001b[0;34m=\u001b[0m \u001b[0mself\u001b[0m\u001b[0;34m.\u001b[0m\u001b[0mcollect_rollouts\u001b[0m\u001b[0;34m(\u001b[0m\u001b[0mself\u001b[0m\u001b[0;34m.\u001b[0m\u001b[0menv\u001b[0m\u001b[0;34m,\u001b[0m \u001b[0mcallback\u001b[0m\u001b[0;34m,\u001b[0m \u001b[0mself\u001b[0m\u001b[0;34m.\u001b[0m\u001b[0mrollout_buffer\u001b[0m\u001b[0;34m,\u001b[0m \u001b[0mn_rollout_steps\u001b[0m\u001b[0;34m=\u001b[0m\u001b[0mself\u001b[0m\u001b[0;34m.\u001b[0m\u001b[0mn_steps\u001b[0m\u001b[0;34m)\u001b[0m\u001b[0;34m\u001b[0m\u001b[0;34m\u001b[0m\u001b[0m\n\u001b[0m\u001b[1;32m    263\u001b[0m \u001b[0;34m\u001b[0m\u001b[0m\n\u001b[1;32m    264\u001b[0m             \u001b[0;32mif\u001b[0m \u001b[0mcontinue_training\u001b[0m \u001b[0;32mis\u001b[0m \u001b[0;32mFalse\u001b[0m\u001b[0;34m:\u001b[0m\u001b[0;34m\u001b[0m\u001b[0;34m\u001b[0m\u001b[0m\n",
      "\u001b[0;32m/opt/anaconda3/lib/python3.8/site-packages/stable_baselines3/common/on_policy_algorithm.py\u001b[0m in \u001b[0;36mcollect_rollouts\u001b[0;34m(self, env, callback, rollout_buffer, n_rollout_steps)\u001b[0m\n\u001b[1;32m    170\u001b[0m                 \u001b[0;31m# Convert to pytorch tensor or to TensorDict\u001b[0m\u001b[0;34m\u001b[0m\u001b[0;34m\u001b[0m\u001b[0;34m\u001b[0m\u001b[0m\n\u001b[1;32m    171\u001b[0m                 \u001b[0mobs_tensor\u001b[0m \u001b[0;34m=\u001b[0m \u001b[0mobs_as_tensor\u001b[0m\u001b[0;34m(\u001b[0m\u001b[0mself\u001b[0m\u001b[0;34m.\u001b[0m\u001b[0m_last_obs\u001b[0m\u001b[0;34m,\u001b[0m \u001b[0mself\u001b[0m\u001b[0;34m.\u001b[0m\u001b[0mdevice\u001b[0m\u001b[0;34m)\u001b[0m\u001b[0;34m\u001b[0m\u001b[0;34m\u001b[0m\u001b[0m\n\u001b[0;32m--> 172\u001b[0;31m                 \u001b[0mactions\u001b[0m\u001b[0;34m,\u001b[0m \u001b[0mvalues\u001b[0m\u001b[0;34m,\u001b[0m \u001b[0mlog_probs\u001b[0m \u001b[0;34m=\u001b[0m \u001b[0mself\u001b[0m\u001b[0;34m.\u001b[0m\u001b[0mpolicy\u001b[0m\u001b[0;34m(\u001b[0m\u001b[0mobs_tensor\u001b[0m\u001b[0;34m)\u001b[0m\u001b[0;34m\u001b[0m\u001b[0;34m\u001b[0m\u001b[0m\n\u001b[0m\u001b[1;32m    173\u001b[0m             \u001b[0mactions\u001b[0m \u001b[0;34m=\u001b[0m \u001b[0mactions\u001b[0m\u001b[0;34m.\u001b[0m\u001b[0mcpu\u001b[0m\u001b[0;34m(\u001b[0m\u001b[0;34m)\u001b[0m\u001b[0;34m.\u001b[0m\u001b[0mnumpy\u001b[0m\u001b[0;34m(\u001b[0m\u001b[0;34m)\u001b[0m\u001b[0;34m\u001b[0m\u001b[0;34m\u001b[0m\u001b[0m\n\u001b[1;32m    174\u001b[0m \u001b[0;34m\u001b[0m\u001b[0m\n",
      "\u001b[0;32m/opt/anaconda3/lib/python3.8/site-packages/torch/nn/modules/module.py\u001b[0m in \u001b[0;36m_call_impl\u001b[0;34m(self, *input, **kwargs)\u001b[0m\n\u001b[1;32m   1188\u001b[0m         if not (self._backward_hooks or self._forward_hooks or self._forward_pre_hooks or _global_backward_hooks\n\u001b[1;32m   1189\u001b[0m                 or _global_forward_hooks or _global_forward_pre_hooks):\n\u001b[0;32m-> 1190\u001b[0;31m             \u001b[0;32mreturn\u001b[0m \u001b[0mforward_call\u001b[0m\u001b[0;34m(\u001b[0m\u001b[0;34m*\u001b[0m\u001b[0minput\u001b[0m\u001b[0;34m,\u001b[0m \u001b[0;34m**\u001b[0m\u001b[0mkwargs\u001b[0m\u001b[0;34m)\u001b[0m\u001b[0;34m\u001b[0m\u001b[0;34m\u001b[0m\u001b[0m\n\u001b[0m\u001b[1;32m   1191\u001b[0m         \u001b[0;31m# Do not call functions when jit is used\u001b[0m\u001b[0;34m\u001b[0m\u001b[0;34m\u001b[0m\u001b[0;34m\u001b[0m\u001b[0m\n\u001b[1;32m   1192\u001b[0m         \u001b[0mfull_backward_hooks\u001b[0m\u001b[0;34m,\u001b[0m \u001b[0mnon_full_backward_hooks\u001b[0m \u001b[0;34m=\u001b[0m \u001b[0;34m[\u001b[0m\u001b[0;34m]\u001b[0m\u001b[0;34m,\u001b[0m \u001b[0;34m[\u001b[0m\u001b[0;34m]\u001b[0m\u001b[0;34m\u001b[0m\u001b[0;34m\u001b[0m\u001b[0m\n",
      "\u001b[0;32m/opt/anaconda3/lib/python3.8/site-packages/stable_baselines3/common/policies.py\u001b[0m in \u001b[0;36mforward\u001b[0;34m(self, obs, deterministic)\u001b[0m\n\u001b[1;32m    588\u001b[0m         \u001b[0;31m# Evaluate the values for the given observations\u001b[0m\u001b[0;34m\u001b[0m\u001b[0;34m\u001b[0m\u001b[0;34m\u001b[0m\u001b[0m\n\u001b[1;32m    589\u001b[0m         \u001b[0mvalues\u001b[0m \u001b[0;34m=\u001b[0m \u001b[0mself\u001b[0m\u001b[0;34m.\u001b[0m\u001b[0mvalue_net\u001b[0m\u001b[0;34m(\u001b[0m\u001b[0mlatent_vf\u001b[0m\u001b[0;34m)\u001b[0m\u001b[0;34m\u001b[0m\u001b[0;34m\u001b[0m\u001b[0m\n\u001b[0;32m--> 590\u001b[0;31m         \u001b[0mdistribution\u001b[0m \u001b[0;34m=\u001b[0m \u001b[0mself\u001b[0m\u001b[0;34m.\u001b[0m\u001b[0m_get_action_dist_from_latent\u001b[0m\u001b[0;34m(\u001b[0m\u001b[0mlatent_pi\u001b[0m\u001b[0;34m)\u001b[0m\u001b[0;34m\u001b[0m\u001b[0;34m\u001b[0m\u001b[0m\n\u001b[0m\u001b[1;32m    591\u001b[0m         \u001b[0mactions\u001b[0m \u001b[0;34m=\u001b[0m \u001b[0mdistribution\u001b[0m\u001b[0;34m.\u001b[0m\u001b[0mget_actions\u001b[0m\u001b[0;34m(\u001b[0m\u001b[0mdeterministic\u001b[0m\u001b[0;34m=\u001b[0m\u001b[0mdeterministic\u001b[0m\u001b[0;34m)\u001b[0m\u001b[0;34m\u001b[0m\u001b[0;34m\u001b[0m\u001b[0m\n\u001b[1;32m    592\u001b[0m         \u001b[0mlog_prob\u001b[0m \u001b[0;34m=\u001b[0m \u001b[0mdistribution\u001b[0m\u001b[0;34m.\u001b[0m\u001b[0mlog_prob\u001b[0m\u001b[0;34m(\u001b[0m\u001b[0mactions\u001b[0m\u001b[0;34m)\u001b[0m\u001b[0;34m\u001b[0m\u001b[0;34m\u001b[0m\u001b[0m\n",
      "\u001b[0;32m/opt/anaconda3/lib/python3.8/site-packages/stable_baselines3/common/policies.py\u001b[0m in \u001b[0;36m_get_action_dist_from_latent\u001b[0;34m(self, latent_pi)\u001b[0m\n\u001b[1;32m    604\u001b[0m \u001b[0;34m\u001b[0m\u001b[0m\n\u001b[1;32m    605\u001b[0m         \u001b[0;32mif\u001b[0m \u001b[0misinstance\u001b[0m\u001b[0;34m(\u001b[0m\u001b[0mself\u001b[0m\u001b[0;34m.\u001b[0m\u001b[0maction_dist\u001b[0m\u001b[0;34m,\u001b[0m \u001b[0mDiagGaussianDistribution\u001b[0m\u001b[0;34m)\u001b[0m\u001b[0;34m:\u001b[0m\u001b[0;34m\u001b[0m\u001b[0;34m\u001b[0m\u001b[0m\n\u001b[0;32m--> 606\u001b[0;31m             \u001b[0;32mreturn\u001b[0m \u001b[0mself\u001b[0m\u001b[0;34m.\u001b[0m\u001b[0maction_dist\u001b[0m\u001b[0;34m.\u001b[0m\u001b[0mproba_distribution\u001b[0m\u001b[0;34m(\u001b[0m\u001b[0mmean_actions\u001b[0m\u001b[0;34m,\u001b[0m \u001b[0mself\u001b[0m\u001b[0;34m.\u001b[0m\u001b[0mlog_std\u001b[0m\u001b[0;34m)\u001b[0m\u001b[0;34m\u001b[0m\u001b[0;34m\u001b[0m\u001b[0m\n\u001b[0m\u001b[1;32m    607\u001b[0m         \u001b[0;32melif\u001b[0m \u001b[0misinstance\u001b[0m\u001b[0;34m(\u001b[0m\u001b[0mself\u001b[0m\u001b[0;34m.\u001b[0m\u001b[0maction_dist\u001b[0m\u001b[0;34m,\u001b[0m \u001b[0mCategoricalDistribution\u001b[0m\u001b[0;34m)\u001b[0m\u001b[0;34m:\u001b[0m\u001b[0;34m\u001b[0m\u001b[0;34m\u001b[0m\u001b[0m\n\u001b[1;32m    608\u001b[0m             \u001b[0;31m# Here mean_actions are the logits before the softmax\u001b[0m\u001b[0;34m\u001b[0m\u001b[0;34m\u001b[0m\u001b[0;34m\u001b[0m\u001b[0m\n",
      "\u001b[0;32m/opt/anaconda3/lib/python3.8/site-packages/stable_baselines3/common/distributions.py\u001b[0m in \u001b[0;36mproba_distribution\u001b[0;34m(self, mean_actions, log_std)\u001b[0m\n\u001b[1;32m    151\u001b[0m         \"\"\"\n\u001b[1;32m    152\u001b[0m         \u001b[0maction_std\u001b[0m \u001b[0;34m=\u001b[0m \u001b[0mth\u001b[0m\u001b[0;34m.\u001b[0m\u001b[0mones_like\u001b[0m\u001b[0;34m(\u001b[0m\u001b[0mmean_actions\u001b[0m\u001b[0;34m)\u001b[0m \u001b[0;34m*\u001b[0m \u001b[0mlog_std\u001b[0m\u001b[0;34m.\u001b[0m\u001b[0mexp\u001b[0m\u001b[0;34m(\u001b[0m\u001b[0;34m)\u001b[0m\u001b[0;34m\u001b[0m\u001b[0;34m\u001b[0m\u001b[0m\n\u001b[0;32m--> 153\u001b[0;31m         \u001b[0mself\u001b[0m\u001b[0;34m.\u001b[0m\u001b[0mdistribution\u001b[0m \u001b[0;34m=\u001b[0m \u001b[0mNormal\u001b[0m\u001b[0;34m(\u001b[0m\u001b[0mmean_actions\u001b[0m\u001b[0;34m,\u001b[0m \u001b[0maction_std\u001b[0m\u001b[0;34m)\u001b[0m\u001b[0;34m\u001b[0m\u001b[0;34m\u001b[0m\u001b[0m\n\u001b[0m\u001b[1;32m    154\u001b[0m         \u001b[0;32mreturn\u001b[0m \u001b[0mself\u001b[0m\u001b[0;34m\u001b[0m\u001b[0;34m\u001b[0m\u001b[0m\n\u001b[1;32m    155\u001b[0m \u001b[0;34m\u001b[0m\u001b[0m\n",
      "\u001b[0;32m/opt/anaconda3/lib/python3.8/site-packages/torch/distributions/normal.py\u001b[0m in \u001b[0;36m__init__\u001b[0;34m(self, loc, scale, validate_args)\u001b[0m\n\u001b[1;32m     54\u001b[0m         \u001b[0;32melse\u001b[0m\u001b[0;34m:\u001b[0m\u001b[0;34m\u001b[0m\u001b[0;34m\u001b[0m\u001b[0m\n\u001b[1;32m     55\u001b[0m             \u001b[0mbatch_shape\u001b[0m \u001b[0;34m=\u001b[0m \u001b[0mself\u001b[0m\u001b[0;34m.\u001b[0m\u001b[0mloc\u001b[0m\u001b[0;34m.\u001b[0m\u001b[0msize\u001b[0m\u001b[0;34m(\u001b[0m\u001b[0;34m)\u001b[0m\u001b[0;34m\u001b[0m\u001b[0;34m\u001b[0m\u001b[0m\n\u001b[0;32m---> 56\u001b[0;31m         \u001b[0msuper\u001b[0m\u001b[0;34m(\u001b[0m\u001b[0mNormal\u001b[0m\u001b[0;34m,\u001b[0m \u001b[0mself\u001b[0m\u001b[0;34m)\u001b[0m\u001b[0;34m.\u001b[0m\u001b[0m__init__\u001b[0m\u001b[0;34m(\u001b[0m\u001b[0mbatch_shape\u001b[0m\u001b[0;34m,\u001b[0m \u001b[0mvalidate_args\u001b[0m\u001b[0;34m=\u001b[0m\u001b[0mvalidate_args\u001b[0m\u001b[0;34m)\u001b[0m\u001b[0;34m\u001b[0m\u001b[0;34m\u001b[0m\u001b[0m\n\u001b[0m\u001b[1;32m     57\u001b[0m \u001b[0;34m\u001b[0m\u001b[0m\n\u001b[1;32m     58\u001b[0m     \u001b[0;32mdef\u001b[0m \u001b[0mexpand\u001b[0m\u001b[0;34m(\u001b[0m\u001b[0mself\u001b[0m\u001b[0;34m,\u001b[0m \u001b[0mbatch_shape\u001b[0m\u001b[0;34m,\u001b[0m \u001b[0m_instance\u001b[0m\u001b[0;34m=\u001b[0m\u001b[0;32mNone\u001b[0m\u001b[0;34m)\u001b[0m\u001b[0;34m:\u001b[0m\u001b[0;34m\u001b[0m\u001b[0;34m\u001b[0m\u001b[0m\n",
      "\u001b[0;32m/opt/anaconda3/lib/python3.8/site-packages/torch/distributions/distribution.py\u001b[0m in \u001b[0;36m__init__\u001b[0;34m(self, batch_shape, event_shape, validate_args)\u001b[0m\n\u001b[1;32m     54\u001b[0m                 \u001b[0mvalid\u001b[0m \u001b[0;34m=\u001b[0m \u001b[0mconstraint\u001b[0m\u001b[0;34m.\u001b[0m\u001b[0mcheck\u001b[0m\u001b[0;34m(\u001b[0m\u001b[0mvalue\u001b[0m\u001b[0;34m)\u001b[0m\u001b[0;34m\u001b[0m\u001b[0;34m\u001b[0m\u001b[0m\n\u001b[1;32m     55\u001b[0m                 \u001b[0;32mif\u001b[0m \u001b[0;32mnot\u001b[0m \u001b[0mvalid\u001b[0m\u001b[0;34m.\u001b[0m\u001b[0mall\u001b[0m\u001b[0;34m(\u001b[0m\u001b[0;34m)\u001b[0m\u001b[0;34m:\u001b[0m\u001b[0;34m\u001b[0m\u001b[0;34m\u001b[0m\u001b[0m\n\u001b[0;32m---> 56\u001b[0;31m                     raise ValueError(\n\u001b[0m\u001b[1;32m     57\u001b[0m                         \u001b[0;34mf\"Expected parameter {param} \"\u001b[0m\u001b[0;34m\u001b[0m\u001b[0;34m\u001b[0m\u001b[0m\n\u001b[1;32m     58\u001b[0m                         \u001b[0;34mf\"({type(value).__name__} of shape {tuple(value.shape)}) \"\u001b[0m\u001b[0;34m\u001b[0m\u001b[0;34m\u001b[0m\u001b[0m\n",
      "\u001b[0;31mValueError\u001b[0m: Expected parameter loc (Tensor of shape (1, 14)) of distribution Normal(loc: torch.Size([1, 14]), scale: torch.Size([1, 14])) to satisfy the constraint Real(), but found invalid values:\ntensor([[nan, nan, nan, nan, nan, nan, nan, nan, nan, nan, nan, nan, nan, nan]])"
     ]
    }
   ],
   "source": [
    "\n"
   ]
  },
  {
   "cell_type": "code",
   "execution_count": null,
   "id": "b418bb0c",
   "metadata": {},
   "outputs": [],
   "source": []
  },
  {
   "cell_type": "code",
   "execution_count": null,
   "id": "f5e4024e",
   "metadata": {},
   "outputs": [],
   "source": []
  },
  {
   "cell_type": "code",
   "execution_count": null,
   "id": "ff32c4a0",
   "metadata": {},
   "outputs": [],
   "source": []
  },
  {
   "cell_type": "code",
   "execution_count": null,
   "id": "de5a6ba1",
   "metadata": {},
   "outputs": [],
   "source": [
    "# setup CQL algorithm\n",
    "cql = DiscreteCQL(use_gpu=False)\n",
    "\n",
    "crm_losses = np.ones((10, len(replay_targets,)))\n",
    "crm_rewards = np.ones((10, len(replay_targets,)))"
   ]
  },
  {
   "cell_type": "code",
   "execution_count": 83,
   "id": "55bd88f1",
   "metadata": {},
   "outputs": [
    {
     "name": "stdout",
     "output_type": "stream",
     "text": [
      ". (1812, 14)\n",
      "1812\n",
      "2022-11-24 19:30:14 [debug    ] RoundIterator is selected.\n",
      "2022-11-24 19:30:14 [info     ] Directory is created at d3rlpy_logs/DiscreteCQL_20221124193014\n",
      "2022-11-24 19:30:14 [warning  ] Skip building models since they're already built.\n",
      "2022-11-24 19:30:14 [info     ] Parameters are saved to d3rlpy_logs/DiscreteCQL_20221124193014/params.json params={'action_scaler': None, 'alpha': 1.0, 'batch_size': 32, 'encoder_factory': {'type': 'default', 'params': {'activation': 'relu', 'use_batch_norm': False, 'dropout_rate': None}}, 'gamma': 0.99, 'generated_maxlen': 100000, 'learning_rate': 6.25e-05, 'n_critics': 1, 'n_frames': 1, 'n_steps': 1, 'optim_factory': {'optim_cls': 'Adam', 'betas': (0.9, 0.999), 'eps': 1e-08, 'weight_decay': 0, 'amsgrad': False}, 'q_func_factory': {'type': 'mean', 'params': {'share_encoder': False}}, 'real_ratio': 1.0, 'reward_scaler': None, 'scaler': None, 'target_update_interval': 8000, 'use_gpu': None, 'algorithm': 'DiscreteCQL', 'observation_shape': (104,), 'action_size': 2}\n"
     ]
    },
    {
     "data": {
      "application/vnd.jupyter.widget-view+json": {
       "model_id": "8b87204afb6e4524ae20d4d4229272b0",
       "version_major": 2,
       "version_minor": 0
      },
      "text/plain": [
       "Epoch 1/1:   0%|          | 0/45 [00:00<?, ?it/s]"
      ]
     },
     "metadata": {},
     "output_type": "display_data"
    },
    {
     "name": "stdout",
     "output_type": "stream",
     "text": [
      "2022-11-24 19:30:15 [info     ] DiscreteCQL_20221124193014: epoch=1 step=45 epoch=1 metrics={'time_sample_batch': 0.00010531743367513021, 'time_algorithm_update': 0.0047136200798882375, 'loss': 7.311448118421766, 'time_step': 0.0049178229437934025, 'advantage': -0.09106790502209308, 'td_error': 54.35219094329629, 'value_scale': 0.5380773625590585} step=45\n",
      "2022-11-24 19:30:15 [info     ] Model parameters are saved to d3rlpy_logs/DiscreteCQL_20221124193014/model_45.pt\n"
     ]
    },
    {
     "ename": "AttributeError",
     "evalue": "'DiscreteCQL' object has no attribute 'predict_proba'",
     "output_type": "error",
     "traceback": [
      "\u001b[0;31m---------------------------------------------------------------------------\u001b[0m",
      "\u001b[0;31mAttributeError\u001b[0m                            Traceback (most recent call last)",
      "\u001b[0;32m<ipython-input-83-67f458b0c725>\u001b[0m in \u001b[0;36m<module>\u001b[0;34m\u001b[0m\n\u001b[1;32m     22\u001b[0m             })\n\u001b[1;32m     23\u001b[0m     \u001b[0;31m#cql.\u001b[0m\u001b[0;34m\u001b[0m\u001b[0;34m\u001b[0m\u001b[0;34m\u001b[0m\u001b[0m\n\u001b[0;32m---> 24\u001b[0;31m     \u001b[0mcrm_losses\u001b[0m\u001b[0;34m[\u001b[0m\u001b[0mi\u001b[0m\u001b[0;34m,\u001b[0m\u001b[0mj\u001b[0m\u001b[0;34m]\u001b[0m \u001b[0;34m=\u001b[0m \u001b[0mexpected_hamming_loss\u001b[0m\u001b[0;34m(\u001b[0m\u001b[0mcql\u001b[0m\u001b[0;34m,\u001b[0m \u001b[0mX_test\u001b[0m\u001b[0;34m,\u001b[0m \u001b[0my_test\u001b[0m\u001b[0;34m)\u001b[0m\u001b[0;34m\u001b[0m\u001b[0;34m\u001b[0m\u001b[0m\n\u001b[0m",
      "\u001b[0;32m<ipython-input-60-121bfba2b877>\u001b[0m in \u001b[0;36mexpected_hamming_loss\u001b[0;34m(model, X, y)\u001b[0m\n\u001b[1;32m      1\u001b[0m \u001b[0;32mdef\u001b[0m \u001b[0mexpected_hamming_loss\u001b[0m\u001b[0;34m(\u001b[0m\u001b[0mmodel\u001b[0m\u001b[0;34m,\u001b[0m \u001b[0mX\u001b[0m\u001b[0;34m,\u001b[0m \u001b[0my\u001b[0m\u001b[0;34m)\u001b[0m\u001b[0;34m:\u001b[0m\u001b[0;34m\u001b[0m\u001b[0;34m\u001b[0m\u001b[0m\n\u001b[1;32m      2\u001b[0m         \u001b[0my_invert\u001b[0m \u001b[0;34m=\u001b[0m \u001b[0;36m1\u001b[0m \u001b[0;34m-\u001b[0m \u001b[0my\u001b[0m\u001b[0;34m\u001b[0m\u001b[0;34m\u001b[0m\u001b[0m\n\u001b[0;32m----> 3\u001b[0;31m         \u001b[0minvert_probas\u001b[0m \u001b[0;34m=\u001b[0m \u001b[0mmodel\u001b[0m\u001b[0;34m.\u001b[0m\u001b[0mpredict_proba\u001b[0m\u001b[0;34m(\u001b[0m\u001b[0mX\u001b[0m\u001b[0;34m,\u001b[0m \u001b[0my_invert\u001b[0m\u001b[0;34m)\u001b[0m\u001b[0;34m\u001b[0m\u001b[0;34m\u001b[0m\u001b[0m\n\u001b[0m\u001b[1;32m      4\u001b[0m         \u001b[0mk\u001b[0m \u001b[0;34m=\u001b[0m \u001b[0my\u001b[0m\u001b[0;34m.\u001b[0m\u001b[0mshape\u001b[0m\u001b[0;34m[\u001b[0m\u001b[0;36m1\u001b[0m\u001b[0;34m]\u001b[0m\u001b[0;34m\u001b[0m\u001b[0;34m\u001b[0m\u001b[0m\n\u001b[1;32m      5\u001b[0m         \u001b[0;32mreturn\u001b[0m \u001b[0minvert_probas\u001b[0m\u001b[0;34m.\u001b[0m\u001b[0msum\u001b[0m\u001b[0;34m(\u001b[0m\u001b[0;34m)\u001b[0m \u001b[0;34m/\u001b[0m \u001b[0;34m(\u001b[0m\u001b[0mk\u001b[0m \u001b[0;34m*\u001b[0m \u001b[0my\u001b[0m\u001b[0;34m.\u001b[0m\u001b[0mshape\u001b[0m\u001b[0;34m[\u001b[0m\u001b[0;36m0\u001b[0m\u001b[0;34m]\u001b[0m\u001b[0;34m)\u001b[0m\u001b[0;34m\u001b[0m\u001b[0;34m\u001b[0m\u001b[0m\n",
      "\u001b[0;31mAttributeError\u001b[0m: 'DiscreteCQL' object has no attribute 'predict_proba'"
     ]
    }
   ],
   "source": [
    "np.random.seed(i*42)\n",
    "current_replay = 0\n",
    "crm_model = Model.null_model(X_test.shape[1], y_test.shape[1])\n",
    "crm_dataset = CRMDataset()\n",
    "for j, replay_target in enumerate(replay_targets[:1]):\n",
    "    print('.', end=' ')\n",
    "    needed_replays = replay_target - current_replay\n",
    "    current_replay = replay_target\n",
    "    crm_dataset.update_from_supervised_dataset(X_train, y_train, sampling_probas, n_samples=needed_replays)\n",
    "    print(crm_dataset.actions_np.shape)\n",
    "    dataset = MDPDataset(crm_dataset.features_np, crm_dataset.actions_np, crm_dataset.rewards_np, np.ones(shape=crm_dataset.rewards.shape))\n",
    "    print(len(dataset))\n",
    "    train_episodes, test_episodes = train_test_split(dataset, test_size=0.2)\n",
    "    cql.fit(train_episodes,\n",
    "            eval_episodes=test_episodes,\n",
    "            n_epochs=1,\n",
    "            scorers={\n",
    "#                     'environment': evaluate_on_environment(env), # evaluate with CartPol-v0 environment\n",
    "                'advantage': discounted_sum_of_advantage_scorer, # smaller is better\n",
    "                'td_error': td_error_scorer, # smaller is better\n",
    "                'value_scale': average_value_estimation_scorer # smaller is better\n",
    "            })\n",
    "    #cql.\n",
    "    for epis in dataset.episodes:\n",
    "        buffer_of_actions=[]\n",
    "        for _ in range(1000):\n",
    "            buffer_of_actions+=[cql.predict(epsi.observations)]\n",
    "        pistar = MultiOutputClassifier(LogisticRegressionCV(max_iter=10000, n_jobs=6), n_jobs=6)\n",
    "        pistar.fit(X_train, y_train)\n",
    "        \n",
    "    crm_losses[i,j] = expected_hamming_loss(cql, X_test, y_test)    "
   ]
  },
  {
   "cell_type": "code",
   "execution_count": 87,
   "id": "c6f509cd",
   "metadata": {},
   "outputs": [
    {
     "data": {
      "text/plain": [
       "<TimeLimit<OrderEnforcing<PassiveEnvChecker<CartPoleEnv<CartPole-v0>>>>>"
      ]
     },
     "execution_count": 87,
     "metadata": {},
     "output_type": "execute_result"
    }
   ],
   "source": [
    "env"
   ]
  },
  {
   "cell_type": "code",
   "execution_count": 85,
   "id": "8513859a",
   "metadata": {
    "scrolled": true
   },
   "outputs": [
    {
     "name": "stdout",
     "output_type": "stream",
     "text": [
      "0. (1812, 14)\n",
      "1812\n",
      "2022-11-24 20:11:02 [debug    ] RoundIterator is selected.\n",
      "2022-11-24 20:11:02 [info     ] Directory is created at d3rlpy_logs/DiscreteCQL_20221124201102\n",
      "2022-11-24 20:11:02 [warning  ] Skip building models since they're already built.\n",
      "2022-11-24 20:11:02 [info     ] Parameters are saved to d3rlpy_logs/DiscreteCQL_20221124201102/params.json params={'action_scaler': None, 'alpha': 1.0, 'batch_size': 32, 'encoder_factory': {'type': 'default', 'params': {'activation': 'relu', 'use_batch_norm': False, 'dropout_rate': None}}, 'gamma': 0.99, 'generated_maxlen': 100000, 'learning_rate': 6.25e-05, 'n_critics': 1, 'n_frames': 1, 'n_steps': 1, 'optim_factory': {'optim_cls': 'Adam', 'betas': (0.9, 0.999), 'eps': 1e-08, 'weight_decay': 0, 'amsgrad': False}, 'q_func_factory': {'type': 'mean', 'params': {'share_encoder': False}}, 'real_ratio': 1.0, 'reward_scaler': None, 'scaler': None, 'target_update_interval': 8000, 'use_gpu': None, 'algorithm': 'DiscreteCQL', 'observation_shape': (104,), 'action_size': 2}\n"
     ]
    },
    {
     "data": {
      "application/vnd.jupyter.widget-view+json": {
       "model_id": "87f1dd94af3e454d841f4c3cf02fa90a",
       "version_major": 2,
       "version_minor": 0
      },
      "text/plain": [
       "Epoch 1/1:   0%|          | 0/45 [00:00<?, ?it/s]"
      ]
     },
     "metadata": {},
     "output_type": "display_data"
    },
    {
     "name": "stdout",
     "output_type": "stream",
     "text": [
      "2022-11-24 20:11:03 [info     ] DiscreteCQL_20221124201102: epoch=1 step=45 epoch=1 metrics={'time_sample_batch': 0.00010688569810655382, 'time_algorithm_update': 0.004810264375474718, 'loss': 6.690969975789388, 'time_step': 0.005021593305799696, 'advantage': -0.14974383529552743, 'td_error': 44.10689167304801, 'value_scale': 1.3419865491304843} step=45\n",
      "2022-11-24 20:11:03 [info     ] Model parameters are saved to d3rlpy_logs/DiscreteCQL_20221124201102/model_45.pt\n",
      ". (3624, 14)\n",
      "3624\n",
      "2022-11-24 20:11:03 [debug    ] RoundIterator is selected.\n",
      "2022-11-24 20:11:03 [info     ] Directory is created at d3rlpy_logs/DiscreteCQL_20221124201103\n",
      "2022-11-24 20:11:03 [warning  ] Skip building models since they're already built.\n",
      "2022-11-24 20:11:03 [info     ] Parameters are saved to d3rlpy_logs/DiscreteCQL_20221124201103/params.json params={'action_scaler': None, 'alpha': 1.0, 'batch_size': 32, 'encoder_factory': {'type': 'default', 'params': {'activation': 'relu', 'use_batch_norm': False, 'dropout_rate': None}}, 'gamma': 0.99, 'generated_maxlen': 100000, 'learning_rate': 6.25e-05, 'n_critics': 1, 'n_frames': 1, 'n_steps': 1, 'optim_factory': {'optim_cls': 'Adam', 'betas': (0.9, 0.999), 'eps': 1e-08, 'weight_decay': 0, 'amsgrad': False}, 'q_func_factory': {'type': 'mean', 'params': {'share_encoder': False}}, 'real_ratio': 1.0, 'reward_scaler': None, 'scaler': None, 'target_update_interval': 8000, 'use_gpu': None, 'algorithm': 'DiscreteCQL', 'observation_shape': (104,), 'action_size': 2}\n"
     ]
    },
    {
     "data": {
      "application/vnd.jupyter.widget-view+json": {
       "model_id": "43cf64a1ab4d4e6786920b075431c363",
       "version_major": 2,
       "version_minor": 0
      },
      "text/plain": [
       "Epoch 1/1:   0%|          | 0/90 [00:00<?, ?it/s]"
      ]
     },
     "metadata": {},
     "output_type": "display_data"
    },
    {
     "name": "stdout",
     "output_type": "stream",
     "text": [
      "2022-11-24 20:11:06 [info     ] DiscreteCQL_20221124201103: epoch=1 step=90 epoch=1 metrics={'time_sample_batch': 0.00010238223605685764, 'time_algorithm_update': 0.00428112612830268, 'loss': 5.748592005835639, 'time_step': 0.004467950926886665, 'advantage': -0.22606541600720637, 'td_error': 27.576811726655137, 'value_scale': 2.9472609503515836} step=90\n",
      "2022-11-24 20:11:06 [info     ] Model parameters are saved to d3rlpy_logs/DiscreteCQL_20221124201103/model_90.pt\n",
      ". (7248, 14)\n",
      "7248\n",
      "2022-11-24 20:11:06 [debug    ] RoundIterator is selected.\n",
      "2022-11-24 20:11:06 [info     ] Directory is created at d3rlpy_logs/DiscreteCQL_20221124201106\n",
      "2022-11-24 20:11:06 [warning  ] Skip building models since they're already built.\n",
      "2022-11-24 20:11:06 [info     ] Parameters are saved to d3rlpy_logs/DiscreteCQL_20221124201106/params.json params={'action_scaler': None, 'alpha': 1.0, 'batch_size': 32, 'encoder_factory': {'type': 'default', 'params': {'activation': 'relu', 'use_batch_norm': False, 'dropout_rate': None}}, 'gamma': 0.99, 'generated_maxlen': 100000, 'learning_rate': 6.25e-05, 'n_critics': 1, 'n_frames': 1, 'n_steps': 1, 'optim_factory': {'optim_cls': 'Adam', 'betas': (0.9, 0.999), 'eps': 1e-08, 'weight_decay': 0, 'amsgrad': False}, 'q_func_factory': {'type': 'mean', 'params': {'share_encoder': False}}, 'real_ratio': 1.0, 'reward_scaler': None, 'scaler': None, 'target_update_interval': 8000, 'use_gpu': None, 'algorithm': 'DiscreteCQL', 'observation_shape': (104,), 'action_size': 2}\n"
     ]
    },
    {
     "data": {
      "application/vnd.jupyter.widget-view+json": {
       "model_id": "84489472a0e24c4c969758a8bf65a6dc",
       "version_major": 2,
       "version_minor": 0
      },
      "text/plain": [
       "Epoch 1/1:   0%|          | 0/181 [00:00<?, ?it/s]"
      ]
     },
     "metadata": {},
     "output_type": "display_data"
    },
    {
     "name": "stdout",
     "output_type": "stream",
     "text": [
      "2022-11-24 20:11:11 [info     ] DiscreteCQL_20221124201106: epoch=1 step=181 epoch=1 metrics={'time_sample_batch': 0.00010069826031258093, 'time_algorithm_update': 0.004658480375511212, 'loss': 3.0103453391164705, 'time_step': 0.004852532023224383, 'advantage': -0.1980772140108306, 'td_error': 3.8313686573616907, 'value_scale': 7.4278941174211175} step=181\n",
      "2022-11-24 20:11:11 [info     ] Model parameters are saved to d3rlpy_logs/DiscreteCQL_20221124201106/model_181.pt\n",
      ". (14496, 14)\n",
      "14496\n",
      "2022-11-24 20:11:11 [debug    ] RoundIterator is selected.\n",
      "2022-11-24 20:11:11 [info     ] Directory is created at d3rlpy_logs/DiscreteCQL_20221124201111\n",
      "2022-11-24 20:11:11 [warning  ] Skip building models since they're already built.\n",
      "2022-11-24 20:11:11 [info     ] Parameters are saved to d3rlpy_logs/DiscreteCQL_20221124201111/params.json params={'action_scaler': None, 'alpha': 1.0, 'batch_size': 32, 'encoder_factory': {'type': 'default', 'params': {'activation': 'relu', 'use_batch_norm': False, 'dropout_rate': None}}, 'gamma': 0.99, 'generated_maxlen': 100000, 'learning_rate': 6.25e-05, 'n_critics': 1, 'n_frames': 1, 'n_steps': 1, 'optim_factory': {'optim_cls': 'Adam', 'betas': (0.9, 0.999), 'eps': 1e-08, 'weight_decay': 0, 'amsgrad': False}, 'q_func_factory': {'type': 'mean', 'params': {'share_encoder': False}}, 'real_ratio': 1.0, 'reward_scaler': None, 'scaler': None, 'target_update_interval': 8000, 'use_gpu': None, 'algorithm': 'DiscreteCQL', 'observation_shape': (104,), 'action_size': 2}\n"
     ]
    },
    {
     "data": {
      "application/vnd.jupyter.widget-view+json": {
       "model_id": "4bd9d0376645422ebdbfcf0c198e82f0",
       "version_major": 2,
       "version_minor": 0
      },
      "text/plain": [
       "Epoch 1/1:   0%|          | 0/362 [00:00<?, ?it/s]"
      ]
     },
     "metadata": {},
     "output_type": "display_data"
    },
    {
     "name": "stdout",
     "output_type": "stream",
     "text": [
      "2022-11-24 20:11:20 [info     ] DiscreteCQL_20221124201111: epoch=1 step=362 epoch=1 metrics={'time_sample_batch': 9.573098704301192e-05, 'time_algorithm_update': 0.0048648494383248175, 'loss': 1.7213083479285898, 'time_step': 0.005030585916002811, 'advantage': -0.11259072912150415, 'td_error': 3.315247651538168, 'value_scale': 7.478291165910918} step=362\n",
      "2022-11-24 20:11:20 [info     ] Model parameters are saved to d3rlpy_logs/DiscreteCQL_20221124201111/model_362.pt\n",
      ". (28992, 14)\n",
      "28992\n",
      "2022-11-24 20:11:21 [debug    ] RoundIterator is selected.\n",
      "2022-11-24 20:11:21 [info     ] Directory is created at d3rlpy_logs/DiscreteCQL_20221124201121\n",
      "2022-11-24 20:11:21 [warning  ] Skip building models since they're already built.\n",
      "2022-11-24 20:11:21 [info     ] Parameters are saved to d3rlpy_logs/DiscreteCQL_20221124201121/params.json params={'action_scaler': None, 'alpha': 1.0, 'batch_size': 32, 'encoder_factory': {'type': 'default', 'params': {'activation': 'relu', 'use_batch_norm': False, 'dropout_rate': None}}, 'gamma': 0.99, 'generated_maxlen': 100000, 'learning_rate': 6.25e-05, 'n_critics': 1, 'n_frames': 1, 'n_steps': 1, 'optim_factory': {'optim_cls': 'Adam', 'betas': (0.9, 0.999), 'eps': 1e-08, 'weight_decay': 0, 'amsgrad': False}, 'q_func_factory': {'type': 'mean', 'params': {'share_encoder': False}}, 'real_ratio': 1.0, 'reward_scaler': None, 'scaler': None, 'target_update_interval': 8000, 'use_gpu': None, 'algorithm': 'DiscreteCQL', 'observation_shape': (104,), 'action_size': 2}\n"
     ]
    },
    {
     "data": {
      "application/vnd.jupyter.widget-view+json": {
       "model_id": "8e5660907078422b9dd9f46cada262ca",
       "version_major": 2,
       "version_minor": 0
      },
      "text/plain": [
       "Epoch 1/1:   0%|          | 0/724 [00:00<?, ?it/s]"
      ]
     },
     "metadata": {},
     "output_type": "display_data"
    },
    {
     "name": "stdout",
     "output_type": "stream",
     "text": [
      "2022-11-24 20:11:40 [info     ] DiscreteCQL_20221124201121: epoch=1 step=724 epoch=1 metrics={'time_sample_batch': 9.550178907194191e-05, 'time_algorithm_update': 0.005805139383558411, 'loss': 1.6842264192209717, 'time_step': 0.005961132313006491, 'advantage': -0.10839601816196116, 'td_error': 3.2206755104423657, 'value_scale': 7.576025893182914} step=724\n",
      "2022-11-24 20:11:40 [info     ] Model parameters are saved to d3rlpy_logs/DiscreteCQL_20221124201121/model_724.pt\n",
      ". (57984, 14)\n",
      "57984\n",
      "2022-11-24 20:11:41 [debug    ] RoundIterator is selected.\n",
      "2022-11-24 20:11:41 [info     ] Directory is created at d3rlpy_logs/DiscreteCQL_20221124201141\n",
      "2022-11-24 20:11:41 [warning  ] Skip building models since they're already built.\n",
      "2022-11-24 20:11:41 [info     ] Parameters are saved to d3rlpy_logs/DiscreteCQL_20221124201141/params.json params={'action_scaler': None, 'alpha': 1.0, 'batch_size': 32, 'encoder_factory': {'type': 'default', 'params': {'activation': 'relu', 'use_batch_norm': False, 'dropout_rate': None}}, 'gamma': 0.99, 'generated_maxlen': 100000, 'learning_rate': 6.25e-05, 'n_critics': 1, 'n_frames': 1, 'n_steps': 1, 'optim_factory': {'optim_cls': 'Adam', 'betas': (0.9, 0.999), 'eps': 1e-08, 'weight_decay': 0, 'amsgrad': False}, 'q_func_factory': {'type': 'mean', 'params': {'share_encoder': False}}, 'real_ratio': 1.0, 'reward_scaler': None, 'scaler': None, 'target_update_interval': 8000, 'use_gpu': None, 'algorithm': 'DiscreteCQL', 'observation_shape': (104,), 'action_size': 2}\n"
     ]
    },
    {
     "data": {
      "application/vnd.jupyter.widget-view+json": {
       "model_id": "622310d019974983bf7daf83a71708d1",
       "version_major": 2,
       "version_minor": 0
      },
      "text/plain": [
       "Epoch 1/1:   0%|          | 0/1449 [00:00<?, ?it/s]"
      ]
     },
     "metadata": {},
     "output_type": "display_data"
    },
    {
     "name": "stdout",
     "output_type": "stream",
     "text": [
      "2022-11-24 20:12:19 [info     ] DiscreteCQL_20221124201141: epoch=1 step=1449 epoch=1 metrics={'time_sample_batch': 9.594743543036483e-05, 'time_algorithm_update': 0.004573029925528685, 'loss': 1.6679314945877792, 'time_step': 0.004733764524703359, 'advantage': -0.12522653430620637, 'td_error': 3.1198096125898975, 'value_scale': 7.596041776028503} step=1449\n",
      "2022-11-24 20:12:19 [info     ] Model parameters are saved to d3rlpy_logs/DiscreteCQL_20221124201141/model_1449.pt\n",
      "1. (1812, 14)\n",
      "1812\n",
      "2022-11-24 20:12:19 [debug    ] RoundIterator is selected.\n",
      "2022-11-24 20:12:19 [info     ] Directory is created at d3rlpy_logs/DiscreteCQL_20221124201219\n",
      "2022-11-24 20:12:19 [warning  ] Skip building models since they're already built.\n",
      "2022-11-24 20:12:19 [info     ] Parameters are saved to d3rlpy_logs/DiscreteCQL_20221124201219/params.json params={'action_scaler': None, 'alpha': 1.0, 'batch_size': 32, 'encoder_factory': {'type': 'default', 'params': {'activation': 'relu', 'use_batch_norm': False, 'dropout_rate': None}}, 'gamma': 0.99, 'generated_maxlen': 100000, 'learning_rate': 6.25e-05, 'n_critics': 1, 'n_frames': 1, 'n_steps': 1, 'optim_factory': {'optim_cls': 'Adam', 'betas': (0.9, 0.999), 'eps': 1e-08, 'weight_decay': 0, 'amsgrad': False}, 'q_func_factory': {'type': 'mean', 'params': {'share_encoder': False}}, 'real_ratio': 1.0, 'reward_scaler': None, 'scaler': None, 'target_update_interval': 8000, 'use_gpu': None, 'algorithm': 'DiscreteCQL', 'observation_shape': (104,), 'action_size': 2}\n"
     ]
    },
    {
     "data": {
      "application/vnd.jupyter.widget-view+json": {
       "model_id": "98c2facf9c7b47c9a7c00cf33bd07197",
       "version_major": 2,
       "version_minor": 0
      },
      "text/plain": [
       "Epoch 1/1:   0%|          | 0/45 [00:00<?, ?it/s]"
      ]
     },
     "metadata": {},
     "output_type": "display_data"
    },
    {
     "name": "stdout",
     "output_type": "stream",
     "text": [
      "2022-11-24 20:12:21 [info     ] DiscreteCQL_20221124201219: epoch=1 step=45 epoch=1 metrics={'time_sample_batch': 0.00011887550354003907, 'time_algorithm_update': 0.005390760633680556, 'loss': 1.6613828447129992, 'time_step': 0.005620018641153971, 'advantage': -0.1446752797801961, 'td_error': 2.976981135751793, 'value_scale': 7.587019472411185} step=45\n",
      "2022-11-24 20:12:21 [info     ] Model parameters are saved to d3rlpy_logs/DiscreteCQL_20221124201219/model_45.pt\n",
      ". (3624, 14)\n",
      "3624\n",
      "2022-11-24 20:12:21 [debug    ] RoundIterator is selected.\n",
      "2022-11-24 20:12:21 [info     ] Directory is created at d3rlpy_logs/DiscreteCQL_20221124201221\n",
      "2022-11-24 20:12:21 [warning  ] Skip building models since they're already built.\n",
      "2022-11-24 20:12:21 [info     ] Parameters are saved to d3rlpy_logs/DiscreteCQL_20221124201221/params.json params={'action_scaler': None, 'alpha': 1.0, 'batch_size': 32, 'encoder_factory': {'type': 'default', 'params': {'activation': 'relu', 'use_batch_norm': False, 'dropout_rate': None}}, 'gamma': 0.99, 'generated_maxlen': 100000, 'learning_rate': 6.25e-05, 'n_critics': 1, 'n_frames': 1, 'n_steps': 1, 'optim_factory': {'optim_cls': 'Adam', 'betas': (0.9, 0.999), 'eps': 1e-08, 'weight_decay': 0, 'amsgrad': False}, 'q_func_factory': {'type': 'mean', 'params': {'share_encoder': False}}, 'real_ratio': 1.0, 'reward_scaler': None, 'scaler': None, 'target_update_interval': 8000, 'use_gpu': None, 'algorithm': 'DiscreteCQL', 'observation_shape': (104,), 'action_size': 2}\n"
     ]
    },
    {
     "data": {
      "application/vnd.jupyter.widget-view+json": {
       "model_id": "df4db4b784484c588b5d559b679b21c2",
       "version_major": 2,
       "version_minor": 0
      },
      "text/plain": [
       "Epoch 1/1:   0%|          | 0/90 [00:00<?, ?it/s]"
      ]
     },
     "metadata": {},
     "output_type": "display_data"
    },
    {
     "name": "stdout",
     "output_type": "stream",
     "text": [
      "2022-11-24 20:12:23 [info     ] DiscreteCQL_20221124201221: epoch=1 step=90 epoch=1 metrics={'time_sample_batch': 9.471840328640408e-05, 'time_algorithm_update': 0.004746325810750325, 'loss': 1.6637986818949382, 'time_step': 0.004906153678894043, 'advantage': -0.15132555862952923, 'td_error': 3.126201123970722, 'value_scale': 7.585647955269649} step=90\n",
      "2022-11-24 20:12:23 [info     ] Model parameters are saved to d3rlpy_logs/DiscreteCQL_20221124201221/model_90.pt\n",
      ". (7248, 14)\n",
      "7248\n",
      "2022-11-24 20:12:24 [debug    ] RoundIterator is selected.\n",
      "2022-11-24 20:12:24 [info     ] Directory is created at d3rlpy_logs/DiscreteCQL_20221124201224\n",
      "2022-11-24 20:12:24 [warning  ] Skip building models since they're already built.\n",
      "2022-11-24 20:12:24 [info     ] Parameters are saved to d3rlpy_logs/DiscreteCQL_20221124201224/params.json params={'action_scaler': None, 'alpha': 1.0, 'batch_size': 32, 'encoder_factory': {'type': 'default', 'params': {'activation': 'relu', 'use_batch_norm': False, 'dropout_rate': None}}, 'gamma': 0.99, 'generated_maxlen': 100000, 'learning_rate': 6.25e-05, 'n_critics': 1, 'n_frames': 1, 'n_steps': 1, 'optim_factory': {'optim_cls': 'Adam', 'betas': (0.9, 0.999), 'eps': 1e-08, 'weight_decay': 0, 'amsgrad': False}, 'q_func_factory': {'type': 'mean', 'params': {'share_encoder': False}}, 'real_ratio': 1.0, 'reward_scaler': None, 'scaler': None, 'target_update_interval': 8000, 'use_gpu': None, 'algorithm': 'DiscreteCQL', 'observation_shape': (104,), 'action_size': 2}\n"
     ]
    },
    {
     "data": {
      "application/vnd.jupyter.widget-view+json": {
       "model_id": "76b502e57d4d4427b609acd2853b2481",
       "version_major": 2,
       "version_minor": 0
      },
      "text/plain": [
       "Epoch 1/1:   0%|          | 0/181 [00:00<?, ?it/s]"
      ]
     },
     "metadata": {},
     "output_type": "display_data"
    },
    {
     "name": "stdout",
     "output_type": "stream",
     "text": [
      "2022-11-24 20:12:28 [info     ] DiscreteCQL_20221124201224: epoch=1 step=181 epoch=1 metrics={'time_sample_batch': 7.225005007580499e-05, 'time_algorithm_update': 0.003404224775114112, 'loss': 1.669128900733442, 'time_step': 0.0035363784811114738, 'advantage': -0.13651169497391274, 'td_error': 3.0386735494982338, 'value_scale': 7.554580472091149} step=181\n",
      "2022-11-24 20:12:28 [info     ] Model parameters are saved to d3rlpy_logs/DiscreteCQL_20221124201224/model_181.pt\n",
      ". (14496, 14)\n",
      "14496\n",
      "2022-11-24 20:12:28 [debug    ] RoundIterator is selected.\n",
      "2022-11-24 20:12:28 [info     ] Directory is created at d3rlpy_logs/DiscreteCQL_20221124201228\n",
      "2022-11-24 20:12:28 [warning  ] Skip building models since they're already built.\n",
      "2022-11-24 20:12:28 [info     ] Parameters are saved to d3rlpy_logs/DiscreteCQL_20221124201228/params.json params={'action_scaler': None, 'alpha': 1.0, 'batch_size': 32, 'encoder_factory': {'type': 'default', 'params': {'activation': 'relu', 'use_batch_norm': False, 'dropout_rate': None}}, 'gamma': 0.99, 'generated_maxlen': 100000, 'learning_rate': 6.25e-05, 'n_critics': 1, 'n_frames': 1, 'n_steps': 1, 'optim_factory': {'optim_cls': 'Adam', 'betas': (0.9, 0.999), 'eps': 1e-08, 'weight_decay': 0, 'amsgrad': False}, 'q_func_factory': {'type': 'mean', 'params': {'share_encoder': False}}, 'real_ratio': 1.0, 'reward_scaler': None, 'scaler': None, 'target_update_interval': 8000, 'use_gpu': None, 'algorithm': 'DiscreteCQL', 'observation_shape': (104,), 'action_size': 2}\n"
     ]
    },
    {
     "data": {
      "application/vnd.jupyter.widget-view+json": {
       "model_id": "45fe8f333b0a4af0b6d466d71d066753",
       "version_major": 2,
       "version_minor": 0
      },
      "text/plain": [
       "Epoch 1/1:   0%|          | 0/362 [00:00<?, ?it/s]"
      ]
     },
     "metadata": {},
     "output_type": "display_data"
    },
    {
     "name": "stdout",
     "output_type": "stream",
     "text": [
      "2022-11-24 20:12:37 [info     ] DiscreteCQL_20221124201228: epoch=1 step=362 epoch=1 metrics={'time_sample_batch': 8.94721700341662e-05, 'time_algorithm_update': 0.003906792040029284, 'loss': 1.6631504356531808, 'time_step': 0.004054576652484704, 'advantage': -0.13805510685361666, 'td_error': 3.098258329372008, 'value_scale': 7.459511719983199} step=362\n",
      "2022-11-24 20:12:37 [info     ] Model parameters are saved to d3rlpy_logs/DiscreteCQL_20221124201228/model_362.pt\n",
      ". (28992, 14)\n",
      "28992\n",
      "2022-11-24 20:12:38 [debug    ] RoundIterator is selected.\n",
      "2022-11-24 20:12:38 [info     ] Directory is created at d3rlpy_logs/DiscreteCQL_20221124201238\n",
      "2022-11-24 20:12:38 [warning  ] Skip building models since they're already built.\n",
      "2022-11-24 20:12:38 [info     ] Parameters are saved to d3rlpy_logs/DiscreteCQL_20221124201238/params.json params={'action_scaler': None, 'alpha': 1.0, 'batch_size': 32, 'encoder_factory': {'type': 'default', 'params': {'activation': 'relu', 'use_batch_norm': False, 'dropout_rate': None}}, 'gamma': 0.99, 'generated_maxlen': 100000, 'learning_rate': 6.25e-05, 'n_critics': 1, 'n_frames': 1, 'n_steps': 1, 'optim_factory': {'optim_cls': 'Adam', 'betas': (0.9, 0.999), 'eps': 1e-08, 'weight_decay': 0, 'amsgrad': False}, 'q_func_factory': {'type': 'mean', 'params': {'share_encoder': False}}, 'real_ratio': 1.0, 'reward_scaler': None, 'scaler': None, 'target_update_interval': 8000, 'use_gpu': None, 'algorithm': 'DiscreteCQL', 'observation_shape': (104,), 'action_size': 2}\n"
     ]
    },
    {
     "data": {
      "application/vnd.jupyter.widget-view+json": {
       "model_id": "8ec99a07fe584b599cded757f548fa3f",
       "version_major": 2,
       "version_minor": 0
      },
      "text/plain": [
       "Epoch 1/1:   0%|          | 0/724 [00:00<?, ?it/s]"
      ]
     },
     "metadata": {},
     "output_type": "display_data"
    },
    {
     "name": "stdout",
     "output_type": "stream",
     "text": [
      "2022-11-24 20:12:56 [info     ] DiscreteCQL_20221124201238: epoch=1 step=724 epoch=1 metrics={'time_sample_batch': 9.093791740375329e-05, 'time_algorithm_update': 0.004118179089456632, 'loss': 1.6473835158413945, 'time_step': 0.004270721535656333, 'advantage': -0.12401550612504739, 'td_error': 3.1863619465312603, 'value_scale': 7.575520989113294} step=724\n",
      "2022-11-24 20:12:56 [info     ] Model parameters are saved to d3rlpy_logs/DiscreteCQL_20221124201238/model_724.pt\n",
      ". (57984, 14)\n",
      "57984\n",
      "2022-11-24 20:12:58 [debug    ] RoundIterator is selected.\n",
      "2022-11-24 20:12:58 [info     ] Directory is created at d3rlpy_logs/DiscreteCQL_20221124201258\n",
      "2022-11-24 20:12:58 [warning  ] Skip building models since they're already built.\n",
      "2022-11-24 20:12:58 [info     ] Parameters are saved to d3rlpy_logs/DiscreteCQL_20221124201258/params.json params={'action_scaler': None, 'alpha': 1.0, 'batch_size': 32, 'encoder_factory': {'type': 'default', 'params': {'activation': 'relu', 'use_batch_norm': False, 'dropout_rate': None}}, 'gamma': 0.99, 'generated_maxlen': 100000, 'learning_rate': 6.25e-05, 'n_critics': 1, 'n_frames': 1, 'n_steps': 1, 'optim_factory': {'optim_cls': 'Adam', 'betas': (0.9, 0.999), 'eps': 1e-08, 'weight_decay': 0, 'amsgrad': False}, 'q_func_factory': {'type': 'mean', 'params': {'share_encoder': False}}, 'real_ratio': 1.0, 'reward_scaler': None, 'scaler': None, 'target_update_interval': 8000, 'use_gpu': None, 'algorithm': 'DiscreteCQL', 'observation_shape': (104,), 'action_size': 2}\n"
     ]
    },
    {
     "data": {
      "application/vnd.jupyter.widget-view+json": {
       "model_id": "f5e52f89d4dc4e2f8c315b6837a34e6b",
       "version_major": 2,
       "version_minor": 0
      },
      "text/plain": [
       "Epoch 1/1:   0%|          | 0/1449 [00:00<?, ?it/s]"
      ]
     },
     "metadata": {},
     "output_type": "display_data"
    },
    {
     "name": "stdout",
     "output_type": "stream",
     "text": [
      "2022-11-24 20:13:41 [info     ] DiscreteCQL_20221124201258: epoch=1 step=1449 epoch=1 metrics={'time_sample_batch': 0.00010038656230792249, 'time_algorithm_update': 0.005186776937164875, 'loss': 1.6395571546113599, 'time_step': 0.005357770939544614, 'advantage': -0.12029640824874742, 'td_error': 3.0425907053904706, 'value_scale': 7.527416152194254} step=1449\n",
      "2022-11-24 20:13:41 [info     ] Model parameters are saved to d3rlpy_logs/DiscreteCQL_20221124201258/model_1449.pt\n",
      "2. (1812, 14)\n",
      "1812\n",
      "2022-11-24 20:13:41 [debug    ] RoundIterator is selected.\n",
      "2022-11-24 20:13:41 [info     ] Directory is created at d3rlpy_logs/DiscreteCQL_20221124201341\n",
      "2022-11-24 20:13:41 [warning  ] Skip building models since they're already built.\n",
      "2022-11-24 20:13:41 [info     ] Parameters are saved to d3rlpy_logs/DiscreteCQL_20221124201341/params.json params={'action_scaler': None, 'alpha': 1.0, 'batch_size': 32, 'encoder_factory': {'type': 'default', 'params': {'activation': 'relu', 'use_batch_norm': False, 'dropout_rate': None}}, 'gamma': 0.99, 'generated_maxlen': 100000, 'learning_rate': 6.25e-05, 'n_critics': 1, 'n_frames': 1, 'n_steps': 1, 'optim_factory': {'optim_cls': 'Adam', 'betas': (0.9, 0.999), 'eps': 1e-08, 'weight_decay': 0, 'amsgrad': False}, 'q_func_factory': {'type': 'mean', 'params': {'share_encoder': False}}, 'real_ratio': 1.0, 'reward_scaler': None, 'scaler': None, 'target_update_interval': 8000, 'use_gpu': None, 'algorithm': 'DiscreteCQL', 'observation_shape': (104,), 'action_size': 2}\n"
     ]
    },
    {
     "data": {
      "application/vnd.jupyter.widget-view+json": {
       "model_id": "e2d85f0d4f354b4a831330aa8b4033a6",
       "version_major": 2,
       "version_minor": 0
      },
      "text/plain": [
       "Epoch 1/1:   0%|          | 0/45 [00:00<?, ?it/s]"
      ]
     },
     "metadata": {},
     "output_type": "display_data"
    },
    {
     "name": "stdout",
     "output_type": "stream",
     "text": [
      "2022-11-24 20:13:43 [info     ] DiscreteCQL_20221124201341: epoch=1 step=45 epoch=1 metrics={'time_sample_batch': 0.00011207792494032118, 'time_algorithm_update': 0.005310387081570096, 'loss': 1.6546052906248305, 'time_step': 0.005531697803073459, 'advantage': -0.10900436419757602, 'td_error': 3.442722462566817, 'value_scale': 7.730887032737416} step=45\n",
      "2022-11-24 20:13:43 [info     ] Model parameters are saved to d3rlpy_logs/DiscreteCQL_20221124201341/model_45.pt\n",
      ". (3624, 14)\n",
      "3624\n",
      "2022-11-24 20:13:43 [debug    ] RoundIterator is selected.\n",
      "2022-11-24 20:13:43 [info     ] Directory is created at d3rlpy_logs/DiscreteCQL_20221124201343\n",
      "2022-11-24 20:13:43 [warning  ] Skip building models since they're already built.\n",
      "2022-11-24 20:13:43 [info     ] Parameters are saved to d3rlpy_logs/DiscreteCQL_20221124201343/params.json params={'action_scaler': None, 'alpha': 1.0, 'batch_size': 32, 'encoder_factory': {'type': 'default', 'params': {'activation': 'relu', 'use_batch_norm': False, 'dropout_rate': None}}, 'gamma': 0.99, 'generated_maxlen': 100000, 'learning_rate': 6.25e-05, 'n_critics': 1, 'n_frames': 1, 'n_steps': 1, 'optim_factory': {'optim_cls': 'Adam', 'betas': (0.9, 0.999), 'eps': 1e-08, 'weight_decay': 0, 'amsgrad': False}, 'q_func_factory': {'type': 'mean', 'params': {'share_encoder': False}}, 'real_ratio': 1.0, 'reward_scaler': None, 'scaler': None, 'target_update_interval': 8000, 'use_gpu': None, 'algorithm': 'DiscreteCQL', 'observation_shape': (104,), 'action_size': 2}\n"
     ]
    },
    {
     "data": {
      "application/vnd.jupyter.widget-view+json": {
       "model_id": "97831f5dd4444fb99fb13beb9a1363d4",
       "version_major": 2,
       "version_minor": 0
      },
      "text/plain": [
       "Epoch 1/1:   0%|          | 0/90 [00:00<?, ?it/s]"
      ]
     },
     "metadata": {},
     "output_type": "display_data"
    },
    {
     "name": "stdout",
     "output_type": "stream",
     "text": [
      "2022-11-24 20:13:45 [info     ] DiscreteCQL_20221124201343: epoch=1 step=90 epoch=1 metrics={'time_sample_batch': 7.97483656141493e-05, 'time_algorithm_update': 0.003407862451341417, 'loss': 1.6567215985722012, 'time_step': 0.0035487969716389975, 'advantage': -0.09530102565370757, 'td_error': 2.9405365288481713, 'value_scale': 7.555803221011984} step=90\n",
      "2022-11-24 20:13:45 [info     ] Model parameters are saved to d3rlpy_logs/DiscreteCQL_20221124201343/model_90.pt\n",
      ". (7248, 14)\n",
      "7248\n",
      "2022-11-24 20:13:45 [debug    ] RoundIterator is selected.\n",
      "2022-11-24 20:13:45 [info     ] Directory is created at d3rlpy_logs/DiscreteCQL_20221124201345\n",
      "2022-11-24 20:13:45 [warning  ] Skip building models since they're already built.\n",
      "2022-11-24 20:13:45 [info     ] Parameters are saved to d3rlpy_logs/DiscreteCQL_20221124201345/params.json params={'action_scaler': None, 'alpha': 1.0, 'batch_size': 32, 'encoder_factory': {'type': 'default', 'params': {'activation': 'relu', 'use_batch_norm': False, 'dropout_rate': None}}, 'gamma': 0.99, 'generated_maxlen': 100000, 'learning_rate': 6.25e-05, 'n_critics': 1, 'n_frames': 1, 'n_steps': 1, 'optim_factory': {'optim_cls': 'Adam', 'betas': (0.9, 0.999), 'eps': 1e-08, 'weight_decay': 0, 'amsgrad': False}, 'q_func_factory': {'type': 'mean', 'params': {'share_encoder': False}}, 'real_ratio': 1.0, 'reward_scaler': None, 'scaler': None, 'target_update_interval': 8000, 'use_gpu': None, 'algorithm': 'DiscreteCQL', 'observation_shape': (104,), 'action_size': 2}\n"
     ]
    },
    {
     "data": {
      "application/vnd.jupyter.widget-view+json": {
       "model_id": "51b2261031d64ecda5641921ce037538",
       "version_major": 2,
       "version_minor": 0
      },
      "text/plain": [
       "Epoch 1/1:   0%|          | 0/181 [00:00<?, ?it/s]"
      ]
     },
     "metadata": {},
     "output_type": "display_data"
    },
    {
     "name": "stdout",
     "output_type": "stream",
     "text": [
      "2022-11-24 20:13:49 [info     ] DiscreteCQL_20221124201345: epoch=1 step=181 epoch=1 metrics={'time_sample_batch': 9.614854886386934e-05, 'time_algorithm_update': 0.004528729296520929, 'loss': 1.6278473797424065, 'time_step': 0.004690986970511589, 'advantage': -0.1185349832732102, 'td_error': 3.2480249190222903, 'value_scale': 7.533971756244528} step=181\n",
      "2022-11-24 20:13:49 [info     ] Model parameters are saved to d3rlpy_logs/DiscreteCQL_20221124201345/model_181.pt\n",
      ". (14496, 14)\n",
      "14496\n",
      "2022-11-24 20:13:50 [debug    ] RoundIterator is selected.\n",
      "2022-11-24 20:13:50 [info     ] Directory is created at d3rlpy_logs/DiscreteCQL_20221124201350\n",
      "2022-11-24 20:13:50 [warning  ] Skip building models since they're already built.\n",
      "2022-11-24 20:13:50 [info     ] Parameters are saved to d3rlpy_logs/DiscreteCQL_20221124201350/params.json params={'action_scaler': None, 'alpha': 1.0, 'batch_size': 32, 'encoder_factory': {'type': 'default', 'params': {'activation': 'relu', 'use_batch_norm': False, 'dropout_rate': None}}, 'gamma': 0.99, 'generated_maxlen': 100000, 'learning_rate': 6.25e-05, 'n_critics': 1, 'n_frames': 1, 'n_steps': 1, 'optim_factory': {'optim_cls': 'Adam', 'betas': (0.9, 0.999), 'eps': 1e-08, 'weight_decay': 0, 'amsgrad': False}, 'q_func_factory': {'type': 'mean', 'params': {'share_encoder': False}}, 'real_ratio': 1.0, 'reward_scaler': None, 'scaler': None, 'target_update_interval': 8000, 'use_gpu': None, 'algorithm': 'DiscreteCQL', 'observation_shape': (104,), 'action_size': 2}\n"
     ]
    },
    {
     "data": {
      "application/vnd.jupyter.widget-view+json": {
       "model_id": "f7a9a0fb7972466ebb659fdcc7f16d6c",
       "version_major": 2,
       "version_minor": 0
      },
      "text/plain": [
       "Epoch 1/1:   0%|          | 0/362 [00:00<?, ?it/s]"
      ]
     },
     "metadata": {},
     "output_type": "display_data"
    },
    {
     "name": "stdout",
     "output_type": "stream",
     "text": [
      "2022-11-24 20:13:59 [info     ] DiscreteCQL_20221124201350: epoch=1 step=362 epoch=1 metrics={'time_sample_batch': 8.404715943731656e-05, 'time_algorithm_update': 0.004115377341844759, 'loss': 1.6265326909597408, 'time_step': 0.004258032003160339, 'advantage': -0.10004947037532412, 'td_error': 3.0807875512094856, 'value_scale': 7.500975437410947} step=362\n",
      "2022-11-24 20:13:59 [info     ] Model parameters are saved to d3rlpy_logs/DiscreteCQL_20221124201350/model_362.pt\n",
      ". (28992, 14)\n",
      "28992\n",
      "2022-11-24 20:14:00 [debug    ] RoundIterator is selected.\n",
      "2022-11-24 20:14:00 [info     ] Directory is created at d3rlpy_logs/DiscreteCQL_20221124201400\n",
      "2022-11-24 20:14:00 [warning  ] Skip building models since they're already built.\n",
      "2022-11-24 20:14:00 [info     ] Parameters are saved to d3rlpy_logs/DiscreteCQL_20221124201400/params.json params={'action_scaler': None, 'alpha': 1.0, 'batch_size': 32, 'encoder_factory': {'type': 'default', 'params': {'activation': 'relu', 'use_batch_norm': False, 'dropout_rate': None}}, 'gamma': 0.99, 'generated_maxlen': 100000, 'learning_rate': 6.25e-05, 'n_critics': 1, 'n_frames': 1, 'n_steps': 1, 'optim_factory': {'optim_cls': 'Adam', 'betas': (0.9, 0.999), 'eps': 1e-08, 'weight_decay': 0, 'amsgrad': False}, 'q_func_factory': {'type': 'mean', 'params': {'share_encoder': False}}, 'real_ratio': 1.0, 'reward_scaler': None, 'scaler': None, 'target_update_interval': 8000, 'use_gpu': None, 'algorithm': 'DiscreteCQL', 'observation_shape': (104,), 'action_size': 2}\n"
     ]
    },
    {
     "data": {
      "application/vnd.jupyter.widget-view+json": {
       "model_id": "8d6c3529f9f04e01bb9acbeb0a8a614a",
       "version_major": 2,
       "version_minor": 0
      },
      "text/plain": [
       "Epoch 1/1:   0%|          | 0/724 [00:00<?, ?it/s]"
      ]
     },
     "metadata": {},
     "output_type": "display_data"
    },
    {
     "name": "stdout",
     "output_type": "stream",
     "text": [
      "2022-11-24 20:14:20 [info     ] DiscreteCQL_20221124201400: epoch=1 step=724 epoch=1 metrics={'time_sample_batch': 8.838084521214606e-05, 'time_algorithm_update': 0.00519389375138678, 'loss': 1.6214375851562668, 'time_step': 0.005345281645737959, 'advantage': -0.13162985413747524, 'td_error': 2.979332838008285, 'value_scale': 7.565972415429392} step=724\n",
      "2022-11-24 20:14:20 [info     ] Model parameters are saved to d3rlpy_logs/DiscreteCQL_20221124201400/model_724.pt\n",
      ". (57984, 14)\n",
      "57984\n",
      "2022-11-24 20:14:21 [debug    ] RoundIterator is selected.\n",
      "2022-11-24 20:14:21 [info     ] Directory is created at d3rlpy_logs/DiscreteCQL_20221124201421\n",
      "2022-11-24 20:14:21 [warning  ] Skip building models since they're already built.\n",
      "2022-11-24 20:14:21 [info     ] Parameters are saved to d3rlpy_logs/DiscreteCQL_20221124201421/params.json params={'action_scaler': None, 'alpha': 1.0, 'batch_size': 32, 'encoder_factory': {'type': 'default', 'params': {'activation': 'relu', 'use_batch_norm': False, 'dropout_rate': None}}, 'gamma': 0.99, 'generated_maxlen': 100000, 'learning_rate': 6.25e-05, 'n_critics': 1, 'n_frames': 1, 'n_steps': 1, 'optim_factory': {'optim_cls': 'Adam', 'betas': (0.9, 0.999), 'eps': 1e-08, 'weight_decay': 0, 'amsgrad': False}, 'q_func_factory': {'type': 'mean', 'params': {'share_encoder': False}}, 'real_ratio': 1.0, 'reward_scaler': None, 'scaler': None, 'target_update_interval': 8000, 'use_gpu': None, 'algorithm': 'DiscreteCQL', 'observation_shape': (104,), 'action_size': 2}\n"
     ]
    },
    {
     "data": {
      "application/vnd.jupyter.widget-view+json": {
       "model_id": "88457ca2ce5345288548a23b2aa31899",
       "version_major": 2,
       "version_minor": 0
      },
      "text/plain": [
       "Epoch 1/1:   0%|          | 0/1449 [00:00<?, ?it/s]"
      ]
     },
     "metadata": {},
     "output_type": "display_data"
    },
    {
     "name": "stdout",
     "output_type": "stream",
     "text": [
      "2022-11-24 20:15:02 [info     ] DiscreteCQL_20221124201421: epoch=1 step=1449 epoch=1 metrics={'time_sample_batch': 0.0001155074667815425, 'time_algorithm_update': 0.006016919166980899, 'loss': 1.6079089135610292, 'time_step': 0.006208878373013767, 'advantage': -0.12180686323891696, 'td_error': 2.9335408476523814, 'value_scale': 7.599120052166928} step=1449\n",
      "2022-11-24 20:15:02 [info     ] Model parameters are saved to d3rlpy_logs/DiscreteCQL_20221124201421/model_1449.pt\n",
      "3. (1812, 14)\n",
      "1812\n",
      "2022-11-24 20:15:02 [debug    ] RoundIterator is selected.\n",
      "2022-11-24 20:15:02 [info     ] Directory is created at d3rlpy_logs/DiscreteCQL_20221124201502\n",
      "2022-11-24 20:15:02 [warning  ] Skip building models since they're already built.\n",
      "2022-11-24 20:15:02 [info     ] Parameters are saved to d3rlpy_logs/DiscreteCQL_20221124201502/params.json params={'action_scaler': None, 'alpha': 1.0, 'batch_size': 32, 'encoder_factory': {'type': 'default', 'params': {'activation': 'relu', 'use_batch_norm': False, 'dropout_rate': None}}, 'gamma': 0.99, 'generated_maxlen': 100000, 'learning_rate': 6.25e-05, 'n_critics': 1, 'n_frames': 1, 'n_steps': 1, 'optim_factory': {'optim_cls': 'Adam', 'betas': (0.9, 0.999), 'eps': 1e-08, 'weight_decay': 0, 'amsgrad': False}, 'q_func_factory': {'type': 'mean', 'params': {'share_encoder': False}}, 'real_ratio': 1.0, 'reward_scaler': None, 'scaler': None, 'target_update_interval': 8000, 'use_gpu': None, 'algorithm': 'DiscreteCQL', 'observation_shape': (104,), 'action_size': 2}\n"
     ]
    },
    {
     "data": {
      "application/vnd.jupyter.widget-view+json": {
       "model_id": "51ac98abc5b9448291f4c96b07f05b60",
       "version_major": 2,
       "version_minor": 0
      },
      "text/plain": [
       "Epoch 1/1:   0%|          | 0/45 [00:00<?, ?it/s]"
      ]
     },
     "metadata": {},
     "output_type": "display_data"
    },
    {
     "name": "stdout",
     "output_type": "stream",
     "text": [
      "2022-11-24 20:15:03 [info     ] DiscreteCQL_20221124201502: epoch=1 step=45 epoch=1 metrics={'time_sample_batch': 0.00010954538981119791, 'time_algorithm_update': 0.004629717932807075, 'loss': 1.5917505184809366, 'time_step': 0.004817538791232639, 'advantage': -0.13375184161603942, 'td_error': 2.910637154593654, 'value_scale': 7.61829570370929} step=45\n",
      "2022-11-24 20:15:03 [info     ] Model parameters are saved to d3rlpy_logs/DiscreteCQL_20221124201502/model_45.pt\n",
      ". (3624, 14)\n",
      "3624\n",
      "2022-11-24 20:15:03 [debug    ] RoundIterator is selected.\n",
      "2022-11-24 20:15:03 [info     ] Directory is created at d3rlpy_logs/DiscreteCQL_20221124201503\n",
      "2022-11-24 20:15:03 [warning  ] Skip building models since they're already built.\n",
      "2022-11-24 20:15:03 [info     ] Parameters are saved to d3rlpy_logs/DiscreteCQL_20221124201503/params.json params={'action_scaler': None, 'alpha': 1.0, 'batch_size': 32, 'encoder_factory': {'type': 'default', 'params': {'activation': 'relu', 'use_batch_norm': False, 'dropout_rate': None}}, 'gamma': 0.99, 'generated_maxlen': 100000, 'learning_rate': 6.25e-05, 'n_critics': 1, 'n_frames': 1, 'n_steps': 1, 'optim_factory': {'optim_cls': 'Adam', 'betas': (0.9, 0.999), 'eps': 1e-08, 'weight_decay': 0, 'amsgrad': False}, 'q_func_factory': {'type': 'mean', 'params': {'share_encoder': False}}, 'real_ratio': 1.0, 'reward_scaler': None, 'scaler': None, 'target_update_interval': 8000, 'use_gpu': None, 'algorithm': 'DiscreteCQL', 'observation_shape': (104,), 'action_size': 2}\n"
     ]
    },
    {
     "data": {
      "application/vnd.jupyter.widget-view+json": {
       "model_id": "d3d689bec7b84eeeb6a7d2b365ba0eb0",
       "version_major": 2,
       "version_minor": 0
      },
      "text/plain": [
       "Epoch 1/1:   0%|          | 0/90 [00:00<?, ?it/s]"
      ]
     },
     "metadata": {},
     "output_type": "display_data"
    },
    {
     "name": "stdout",
     "output_type": "stream",
     "text": [
      "2022-11-24 20:15:06 [info     ] DiscreteCQL_20221124201503: epoch=1 step=90 epoch=1 metrics={'time_sample_batch': 8.404519822862413e-05, 'time_algorithm_update': 0.003952521748012966, 'loss': 1.5993122074339126, 'time_step': 0.0041015651490953235, 'advantage': -0.07780675263240419, 'td_error': 2.8662256687635415, 'value_scale': 7.490913497661722} step=90\n",
      "2022-11-24 20:15:06 [info     ] Model parameters are saved to d3rlpy_logs/DiscreteCQL_20221124201503/model_90.pt\n",
      ". (7248, 14)\n",
      "7248\n",
      "2022-11-24 20:15:06 [debug    ] RoundIterator is selected.\n",
      "2022-11-24 20:15:06 [info     ] Directory is created at d3rlpy_logs/DiscreteCQL_20221124201506\n",
      "2022-11-24 20:15:06 [warning  ] Skip building models since they're already built.\n",
      "2022-11-24 20:15:06 [info     ] Parameters are saved to d3rlpy_logs/DiscreteCQL_20221124201506/params.json params={'action_scaler': None, 'alpha': 1.0, 'batch_size': 32, 'encoder_factory': {'type': 'default', 'params': {'activation': 'relu', 'use_batch_norm': False, 'dropout_rate': None}}, 'gamma': 0.99, 'generated_maxlen': 100000, 'learning_rate': 6.25e-05, 'n_critics': 1, 'n_frames': 1, 'n_steps': 1, 'optim_factory': {'optim_cls': 'Adam', 'betas': (0.9, 0.999), 'eps': 1e-08, 'weight_decay': 0, 'amsgrad': False}, 'q_func_factory': {'type': 'mean', 'params': {'share_encoder': False}}, 'real_ratio': 1.0, 'reward_scaler': None, 'scaler': None, 'target_update_interval': 8000, 'use_gpu': None, 'algorithm': 'DiscreteCQL', 'observation_shape': (104,), 'action_size': 2}\n"
     ]
    },
    {
     "data": {
      "application/vnd.jupyter.widget-view+json": {
       "model_id": "b5da40adfb11428e8aca6efd88082365",
       "version_major": 2,
       "version_minor": 0
      },
      "text/plain": [
       "Epoch 1/1:   0%|          | 0/181 [00:00<?, ?it/s]"
      ]
     },
     "metadata": {},
     "output_type": "display_data"
    },
    {
     "name": "stdout",
     "output_type": "stream",
     "text": [
      "2022-11-24 20:15:10 [info     ] DiscreteCQL_20221124201506: epoch=1 step=181 epoch=1 metrics={'time_sample_batch': 8.43856874750464e-05, 'time_algorithm_update': 0.003870014327665719, 'loss': 1.5958484266344355, 'time_step': 0.004016861731176219, 'advantage': -0.13522588105037295, 'td_error': 3.0232048664583, 'value_scale': 7.591619927800935} step=181\n",
      "2022-11-24 20:15:10 [info     ] Model parameters are saved to d3rlpy_logs/DiscreteCQL_20221124201506/model_181.pt\n",
      ". (14496, 14)\n",
      "14496\n",
      "2022-11-24 20:15:11 [debug    ] RoundIterator is selected.\n",
      "2022-11-24 20:15:11 [info     ] Directory is created at d3rlpy_logs/DiscreteCQL_20221124201511\n",
      "2022-11-24 20:15:11 [warning  ] Skip building models since they're already built.\n",
      "2022-11-24 20:15:11 [info     ] Parameters are saved to d3rlpy_logs/DiscreteCQL_20221124201511/params.json params={'action_scaler': None, 'alpha': 1.0, 'batch_size': 32, 'encoder_factory': {'type': 'default', 'params': {'activation': 'relu', 'use_batch_norm': False, 'dropout_rate': None}}, 'gamma': 0.99, 'generated_maxlen': 100000, 'learning_rate': 6.25e-05, 'n_critics': 1, 'n_frames': 1, 'n_steps': 1, 'optim_factory': {'optim_cls': 'Adam', 'betas': (0.9, 0.999), 'eps': 1e-08, 'weight_decay': 0, 'amsgrad': False}, 'q_func_factory': {'type': 'mean', 'params': {'share_encoder': False}}, 'real_ratio': 1.0, 'reward_scaler': None, 'scaler': None, 'target_update_interval': 8000, 'use_gpu': None, 'algorithm': 'DiscreteCQL', 'observation_shape': (104,), 'action_size': 2}\n"
     ]
    },
    {
     "data": {
      "application/vnd.jupyter.widget-view+json": {
       "model_id": "75464867aca946e29642f0fc5e749c74",
       "version_major": 2,
       "version_minor": 0
      },
      "text/plain": [
       "Epoch 1/1:   0%|          | 0/362 [00:00<?, ?it/s]"
      ]
     },
     "metadata": {},
     "output_type": "display_data"
    },
    {
     "name": "stdout",
     "output_type": "stream",
     "text": [
      "2022-11-24 20:15:21 [info     ] DiscreteCQL_20221124201511: epoch=1 step=362 epoch=1 metrics={'time_sample_batch': 9.528708062777862e-05, 'time_algorithm_update': 0.004246869798523286, 'loss': 1.5964579190338515, 'time_step': 0.0044097399843331855, 'advantage': -0.11441435411058623, 'td_error': 2.720409922928669, 'value_scale': 7.46862015946158} step=362\n",
      "2022-11-24 20:15:21 [info     ] Model parameters are saved to d3rlpy_logs/DiscreteCQL_20221124201511/model_362.pt\n",
      ". (28992, 14)\n",
      "28992\n",
      "2022-11-24 20:15:21 [debug    ] RoundIterator is selected.\n",
      "2022-11-24 20:15:21 [info     ] Directory is created at d3rlpy_logs/DiscreteCQL_20221124201521\n",
      "2022-11-24 20:15:21 [warning  ] Skip building models since they're already built.\n",
      "2022-11-24 20:15:21 [info     ] Parameters are saved to d3rlpy_logs/DiscreteCQL_20221124201521/params.json params={'action_scaler': None, 'alpha': 1.0, 'batch_size': 32, 'encoder_factory': {'type': 'default', 'params': {'activation': 'relu', 'use_batch_norm': False, 'dropout_rate': None}}, 'gamma': 0.99, 'generated_maxlen': 100000, 'learning_rate': 6.25e-05, 'n_critics': 1, 'n_frames': 1, 'n_steps': 1, 'optim_factory': {'optim_cls': 'Adam', 'betas': (0.9, 0.999), 'eps': 1e-08, 'weight_decay': 0, 'amsgrad': False}, 'q_func_factory': {'type': 'mean', 'params': {'share_encoder': False}}, 'real_ratio': 1.0, 'reward_scaler': None, 'scaler': None, 'target_update_interval': 8000, 'use_gpu': None, 'algorithm': 'DiscreteCQL', 'observation_shape': (104,), 'action_size': 2}\n"
     ]
    },
    {
     "data": {
      "application/vnd.jupyter.widget-view+json": {
       "model_id": "cbcbf0e739844968aec438efbe65cc9f",
       "version_major": 2,
       "version_minor": 0
      },
      "text/plain": [
       "Epoch 1/1:   0%|          | 0/724 [00:00<?, ?it/s]"
      ]
     },
     "metadata": {},
     "output_type": "display_data"
    },
    {
     "name": "stdout",
     "output_type": "stream",
     "text": [
      "2022-11-24 20:15:41 [info     ] DiscreteCQL_20221124201521: epoch=1 step=724 epoch=1 metrics={'time_sample_batch': 0.00010678386161340535, 'time_algorithm_update': 0.004921675716315844, 'loss': 1.5899176329209659, 'time_step': 0.005093421066663542, 'advantage': -0.15573742862898104, 'td_error': 2.797749185187406, 'value_scale': 7.570472540084936} step=724\n",
      "2022-11-24 20:15:41 [info     ] Model parameters are saved to d3rlpy_logs/DiscreteCQL_20221124201521/model_724.pt\n",
      ". (57984, 14)\n",
      "57984\n",
      "2022-11-24 20:15:42 [debug    ] RoundIterator is selected.\n",
      "2022-11-24 20:15:42 [info     ] Directory is created at d3rlpy_logs/DiscreteCQL_20221124201542\n",
      "2022-11-24 20:15:42 [warning  ] Skip building models since they're already built.\n",
      "2022-11-24 20:15:42 [info     ] Parameters are saved to d3rlpy_logs/DiscreteCQL_20221124201542/params.json params={'action_scaler': None, 'alpha': 1.0, 'batch_size': 32, 'encoder_factory': {'type': 'default', 'params': {'activation': 'relu', 'use_batch_norm': False, 'dropout_rate': None}}, 'gamma': 0.99, 'generated_maxlen': 100000, 'learning_rate': 6.25e-05, 'n_critics': 1, 'n_frames': 1, 'n_steps': 1, 'optim_factory': {'optim_cls': 'Adam', 'betas': (0.9, 0.999), 'eps': 1e-08, 'weight_decay': 0, 'amsgrad': False}, 'q_func_factory': {'type': 'mean', 'params': {'share_encoder': False}}, 'real_ratio': 1.0, 'reward_scaler': None, 'scaler': None, 'target_update_interval': 8000, 'use_gpu': None, 'algorithm': 'DiscreteCQL', 'observation_shape': (104,), 'action_size': 2}\n"
     ]
    },
    {
     "data": {
      "application/vnd.jupyter.widget-view+json": {
       "model_id": "b1a3ab3e273f44be9cb4b80f6940c188",
       "version_major": 2,
       "version_minor": 0
      },
      "text/plain": [
       "Epoch 1/1:   0%|          | 0/1449 [00:00<?, ?it/s]"
      ]
     },
     "metadata": {},
     "output_type": "display_data"
    },
    {
     "name": "stdout",
     "output_type": "stream",
     "text": [
      "2022-11-24 20:16:24 [info     ] DiscreteCQL_20221124201542: epoch=1 step=1449 epoch=1 metrics={'time_sample_batch': 8.43590419814042e-05, 'time_algorithm_update': 0.004909738168130668, 'loss': 1.5813432207923663, 'time_step': 0.005055860456225788, 'advantage': -0.10878774946472136, 'td_error': 2.7648753357450726, 'value_scale': 7.503708396521665} step=1449\n",
      "2022-11-24 20:16:24 [info     ] Model parameters are saved to d3rlpy_logs/DiscreteCQL_20221124201542/model_1449.pt\n",
      "4. (1812, 14)\n",
      "1812\n",
      "2022-11-24 20:16:25 [debug    ] RoundIterator is selected.\n",
      "2022-11-24 20:16:25 [info     ] Directory is created at d3rlpy_logs/DiscreteCQL_20221124201625\n",
      "2022-11-24 20:16:25 [warning  ] Skip building models since they're already built.\n",
      "2022-11-24 20:16:25 [info     ] Parameters are saved to d3rlpy_logs/DiscreteCQL_20221124201625/params.json params={'action_scaler': None, 'alpha': 1.0, 'batch_size': 32, 'encoder_factory': {'type': 'default', 'params': {'activation': 'relu', 'use_batch_norm': False, 'dropout_rate': None}}, 'gamma': 0.99, 'generated_maxlen': 100000, 'learning_rate': 6.25e-05, 'n_critics': 1, 'n_frames': 1, 'n_steps': 1, 'optim_factory': {'optim_cls': 'Adam', 'betas': (0.9, 0.999), 'eps': 1e-08, 'weight_decay': 0, 'amsgrad': False}, 'q_func_factory': {'type': 'mean', 'params': {'share_encoder': False}}, 'real_ratio': 1.0, 'reward_scaler': None, 'scaler': None, 'target_update_interval': 8000, 'use_gpu': None, 'algorithm': 'DiscreteCQL', 'observation_shape': (104,), 'action_size': 2}\n"
     ]
    },
    {
     "data": {
      "application/vnd.jupyter.widget-view+json": {
       "model_id": "6e3b606f671a48898eb139e703bc65a0",
       "version_major": 2,
       "version_minor": 0
      },
      "text/plain": [
       "Epoch 1/1:   0%|          | 0/45 [00:00<?, ?it/s]"
      ]
     },
     "metadata": {},
     "output_type": "display_data"
    },
    {
     "name": "stdout",
     "output_type": "stream",
     "text": [
      "2022-11-24 20:16:26 [info     ] DiscreteCQL_20221124201625: epoch=1 step=45 epoch=1 metrics={'time_sample_batch': 7.182757059733073e-05, 'time_algorithm_update': 0.0038083500332302517, 'loss': 1.61074890560574, 'time_step': 0.0039537164900037974, 'advantage': -0.1129824254795211, 'td_error': 2.6164639472669675, 'value_scale': 7.6136395392667495} step=45\n",
      "2022-11-24 20:16:26 [info     ] Model parameters are saved to d3rlpy_logs/DiscreteCQL_20221124201625/model_45.pt\n",
      ". (3624, 14)\n",
      "3624\n",
      "2022-11-24 20:16:26 [debug    ] RoundIterator is selected.\n",
      "2022-11-24 20:16:26 [info     ] Directory is created at d3rlpy_logs/DiscreteCQL_20221124201626\n",
      "2022-11-24 20:16:26 [warning  ] Skip building models since they're already built.\n",
      "2022-11-24 20:16:26 [info     ] Parameters are saved to d3rlpy_logs/DiscreteCQL_20221124201626/params.json params={'action_scaler': None, 'alpha': 1.0, 'batch_size': 32, 'encoder_factory': {'type': 'default', 'params': {'activation': 'relu', 'use_batch_norm': False, 'dropout_rate': None}}, 'gamma': 0.99, 'generated_maxlen': 100000, 'learning_rate': 6.25e-05, 'n_critics': 1, 'n_frames': 1, 'n_steps': 1, 'optim_factory': {'optim_cls': 'Adam', 'betas': (0.9, 0.999), 'eps': 1e-08, 'weight_decay': 0, 'amsgrad': False}, 'q_func_factory': {'type': 'mean', 'params': {'share_encoder': False}}, 'real_ratio': 1.0, 'reward_scaler': None, 'scaler': None, 'target_update_interval': 8000, 'use_gpu': None, 'algorithm': 'DiscreteCQL', 'observation_shape': (104,), 'action_size': 2}\n"
     ]
    },
    {
     "data": {
      "application/vnd.jupyter.widget-view+json": {
       "model_id": "d158ac7a015f43c9991773bf294052ed",
       "version_major": 2,
       "version_minor": 0
      },
      "text/plain": [
       "Epoch 1/1:   0%|          | 0/90 [00:00<?, ?it/s]"
      ]
     },
     "metadata": {},
     "output_type": "display_data"
    },
    {
     "name": "stdout",
     "output_type": "stream",
     "text": [
      "2022-11-24 20:16:28 [info     ] DiscreteCQL_20221124201626: epoch=1 step=90 epoch=1 metrics={'time_sample_batch': 7.254017723931206e-05, 'time_algorithm_update': 0.003423391448126899, 'loss': 1.5681579444143507, 'time_step': 0.0035583840476142038, 'advantage': -0.12554297348548626, 'td_error': 2.73522135296692, 'value_scale': 7.507152534024469} step=90\n",
      "2022-11-24 20:16:28 [info     ] Model parameters are saved to d3rlpy_logs/DiscreteCQL_20221124201626/model_90.pt\n",
      ". (7248, 14)\n",
      "7248\n",
      "2022-11-24 20:16:28 [debug    ] RoundIterator is selected.\n",
      "2022-11-24 20:16:28 [info     ] Directory is created at d3rlpy_logs/DiscreteCQL_20221124201628\n",
      "2022-11-24 20:16:28 [warning  ] Skip building models since they're already built.\n",
      "2022-11-24 20:16:28 [info     ] Parameters are saved to d3rlpy_logs/DiscreteCQL_20221124201628/params.json params={'action_scaler': None, 'alpha': 1.0, 'batch_size': 32, 'encoder_factory': {'type': 'default', 'params': {'activation': 'relu', 'use_batch_norm': False, 'dropout_rate': None}}, 'gamma': 0.99, 'generated_maxlen': 100000, 'learning_rate': 6.25e-05, 'n_critics': 1, 'n_frames': 1, 'n_steps': 1, 'optim_factory': {'optim_cls': 'Adam', 'betas': (0.9, 0.999), 'eps': 1e-08, 'weight_decay': 0, 'amsgrad': False}, 'q_func_factory': {'type': 'mean', 'params': {'share_encoder': False}}, 'real_ratio': 1.0, 'reward_scaler': None, 'scaler': None, 'target_update_interval': 8000, 'use_gpu': None, 'algorithm': 'DiscreteCQL', 'observation_shape': (104,), 'action_size': 2}\n"
     ]
    },
    {
     "data": {
      "application/vnd.jupyter.widget-view+json": {
       "model_id": "6c120bae779144929763c7fe520ed1ac",
       "version_major": 2,
       "version_minor": 0
      },
      "text/plain": [
       "Epoch 1/1:   0%|          | 0/181 [00:00<?, ?it/s]"
      ]
     },
     "metadata": {},
     "output_type": "display_data"
    },
    {
     "name": "stdout",
     "output_type": "stream",
     "text": [
      "2022-11-24 20:16:33 [info     ] DiscreteCQL_20221124201628: epoch=1 step=181 epoch=1 metrics={'time_sample_batch': 0.00011729008585049961, 'time_algorithm_update': 0.005771916215591009, 'loss': 1.5629386947958508, 'time_step': 0.005978002074015075, 'advantage': -0.10464282331795528, 'td_error': 2.7468578597921454, 'value_scale': 7.546438285235701} step=181\n",
      "2022-11-24 20:16:33 [info     ] Model parameters are saved to d3rlpy_logs/DiscreteCQL_20221124201628/model_181.pt\n",
      ". (14496, 14)\n",
      "14496\n",
      "2022-11-24 20:16:33 [debug    ] RoundIterator is selected.\n",
      "2022-11-24 20:16:33 [info     ] Directory is created at d3rlpy_logs/DiscreteCQL_20221124201633\n",
      "2022-11-24 20:16:33 [warning  ] Skip building models since they're already built.\n",
      "2022-11-24 20:16:33 [info     ] Parameters are saved to d3rlpy_logs/DiscreteCQL_20221124201633/params.json params={'action_scaler': None, 'alpha': 1.0, 'batch_size': 32, 'encoder_factory': {'type': 'default', 'params': {'activation': 'relu', 'use_batch_norm': False, 'dropout_rate': None}}, 'gamma': 0.99, 'generated_maxlen': 100000, 'learning_rate': 6.25e-05, 'n_critics': 1, 'n_frames': 1, 'n_steps': 1, 'optim_factory': {'optim_cls': 'Adam', 'betas': (0.9, 0.999), 'eps': 1e-08, 'weight_decay': 0, 'amsgrad': False}, 'q_func_factory': {'type': 'mean', 'params': {'share_encoder': False}}, 'real_ratio': 1.0, 'reward_scaler': None, 'scaler': None, 'target_update_interval': 8000, 'use_gpu': None, 'algorithm': 'DiscreteCQL', 'observation_shape': (104,), 'action_size': 2}\n"
     ]
    },
    {
     "data": {
      "application/vnd.jupyter.widget-view+json": {
       "model_id": "d136fc6a1c5d41bb8e70e4ab291ab730",
       "version_major": 2,
       "version_minor": 0
      },
      "text/plain": [
       "Epoch 1/1:   0%|          | 0/362 [00:00<?, ?it/s]"
      ]
     },
     "metadata": {},
     "output_type": "display_data"
    },
    {
     "name": "stdout",
     "output_type": "stream",
     "text": [
      "2022-11-24 20:16:42 [info     ] DiscreteCQL_20221124201633: epoch=1 step=362 epoch=1 metrics={'time_sample_batch': 8.235451924866734e-05, 'time_algorithm_update': 0.0036634437287051376, 'loss': 1.5785409650091309, 'time_step': 0.003800371733818265, 'advantage': -0.0926128471308741, 'td_error': 2.8130132621656188, 'value_scale': 7.472049108209281} step=362\n",
      "2022-11-24 20:16:42 [info     ] Model parameters are saved to d3rlpy_logs/DiscreteCQL_20221124201633/model_362.pt\n",
      ". (28992, 14)\n",
      "28992\n",
      "2022-11-24 20:16:43 [debug    ] RoundIterator is selected.\n",
      "2022-11-24 20:16:43 [info     ] Directory is created at d3rlpy_logs/DiscreteCQL_20221124201643\n",
      "2022-11-24 20:16:43 [warning  ] Skip building models since they're already built.\n",
      "2022-11-24 20:16:43 [info     ] Parameters are saved to d3rlpy_logs/DiscreteCQL_20221124201643/params.json params={'action_scaler': None, 'alpha': 1.0, 'batch_size': 32, 'encoder_factory': {'type': 'default', 'params': {'activation': 'relu', 'use_batch_norm': False, 'dropout_rate': None}}, 'gamma': 0.99, 'generated_maxlen': 100000, 'learning_rate': 6.25e-05, 'n_critics': 1, 'n_frames': 1, 'n_steps': 1, 'optim_factory': {'optim_cls': 'Adam', 'betas': (0.9, 0.999), 'eps': 1e-08, 'weight_decay': 0, 'amsgrad': False}, 'q_func_factory': {'type': 'mean', 'params': {'share_encoder': False}}, 'real_ratio': 1.0, 'reward_scaler': None, 'scaler': None, 'target_update_interval': 8000, 'use_gpu': None, 'algorithm': 'DiscreteCQL', 'observation_shape': (104,), 'action_size': 2}\n"
     ]
    },
    {
     "data": {
      "application/vnd.jupyter.widget-view+json": {
       "model_id": "25e20e995feb430297e532f917d9c6e5",
       "version_major": 2,
       "version_minor": 0
      },
      "text/plain": [
       "Epoch 1/1:   0%|          | 0/724 [00:00<?, ?it/s]"
      ]
     },
     "metadata": {},
     "output_type": "display_data"
    },
    {
     "name": "stdout",
     "output_type": "stream",
     "text": [
      "2022-11-24 20:17:02 [info     ] DiscreteCQL_20221124201643: epoch=1 step=724 epoch=1 metrics={'time_sample_batch': 7.962192619703092e-05, 'time_algorithm_update': 0.0035854498984405347, 'loss': 1.5691640859480063, 'time_step': 0.0037165547602743074, 'advantage': -0.11636525052316149, 'td_error': 2.7799060302230436, 'value_scale': 7.488796036332656} step=724\n",
      "2022-11-24 20:17:02 [info     ] Model parameters are saved to d3rlpy_logs/DiscreteCQL_20221124201643/model_724.pt\n",
      ". (57984, 14)\n",
      "57984\n",
      "2022-11-24 20:17:03 [debug    ] RoundIterator is selected.\n",
      "2022-11-24 20:17:03 [info     ] Directory is created at d3rlpy_logs/DiscreteCQL_20221124201703\n",
      "2022-11-24 20:17:03 [warning  ] Skip building models since they're already built.\n",
      "2022-11-24 20:17:03 [info     ] Parameters are saved to d3rlpy_logs/DiscreteCQL_20221124201703/params.json params={'action_scaler': None, 'alpha': 1.0, 'batch_size': 32, 'encoder_factory': {'type': 'default', 'params': {'activation': 'relu', 'use_batch_norm': False, 'dropout_rate': None}}, 'gamma': 0.99, 'generated_maxlen': 100000, 'learning_rate': 6.25e-05, 'n_critics': 1, 'n_frames': 1, 'n_steps': 1, 'optim_factory': {'optim_cls': 'Adam', 'betas': (0.9, 0.999), 'eps': 1e-08, 'weight_decay': 0, 'amsgrad': False}, 'q_func_factory': {'type': 'mean', 'params': {'share_encoder': False}}, 'real_ratio': 1.0, 'reward_scaler': None, 'scaler': None, 'target_update_interval': 8000, 'use_gpu': None, 'algorithm': 'DiscreteCQL', 'observation_shape': (104,), 'action_size': 2}\n"
     ]
    },
    {
     "data": {
      "application/vnd.jupyter.widget-view+json": {
       "model_id": "c355df055cd84e1fbae68d6bdc8b6440",
       "version_major": 2,
       "version_minor": 0
      },
      "text/plain": [
       "Epoch 1/1:   0%|          | 0/1449 [00:00<?, ?it/s]"
      ]
     },
     "metadata": {},
     "output_type": "display_data"
    },
    {
     "name": "stdout",
     "output_type": "stream",
     "text": [
      "2022-11-24 20:17:41 [info     ] DiscreteCQL_20221124201703: epoch=1 step=1449 epoch=1 metrics={'time_sample_batch': 8.393650305032566e-05, 'time_algorithm_update': 0.0038754551718365, 'loss': 1.564068952044427, 'time_step': 0.00401917418749107, 'advantage': -0.1394613772062759, 'td_error': 2.639699469750772, 'value_scale': 7.629592771251376} step=1449\n",
      "2022-11-24 20:17:41 [info     ] Model parameters are saved to d3rlpy_logs/DiscreteCQL_20221124201703/model_1449.pt\n",
      "5. (1812, 14)\n",
      "1812\n",
      "2022-11-24 20:17:42 [debug    ] RoundIterator is selected.\n",
      "2022-11-24 20:17:42 [info     ] Directory is created at d3rlpy_logs/DiscreteCQL_20221124201742\n",
      "2022-11-24 20:17:42 [warning  ] Skip building models since they're already built.\n",
      "2022-11-24 20:17:42 [info     ] Parameters are saved to d3rlpy_logs/DiscreteCQL_20221124201742/params.json params={'action_scaler': None, 'alpha': 1.0, 'batch_size': 32, 'encoder_factory': {'type': 'default', 'params': {'activation': 'relu', 'use_batch_norm': False, 'dropout_rate': None}}, 'gamma': 0.99, 'generated_maxlen': 100000, 'learning_rate': 6.25e-05, 'n_critics': 1, 'n_frames': 1, 'n_steps': 1, 'optim_factory': {'optim_cls': 'Adam', 'betas': (0.9, 0.999), 'eps': 1e-08, 'weight_decay': 0, 'amsgrad': False}, 'q_func_factory': {'type': 'mean', 'params': {'share_encoder': False}}, 'real_ratio': 1.0, 'reward_scaler': None, 'scaler': None, 'target_update_interval': 8000, 'use_gpu': None, 'algorithm': 'DiscreteCQL', 'observation_shape': (104,), 'action_size': 2}\n"
     ]
    },
    {
     "data": {
      "application/vnd.jupyter.widget-view+json": {
       "model_id": "d8e6268e5b3d4e998bea7c9913003457",
       "version_major": 2,
       "version_minor": 0
      },
      "text/plain": [
       "Epoch 1/1:   0%|          | 0/45 [00:00<?, ?it/s]"
      ]
     },
     "metadata": {},
     "output_type": "display_data"
    },
    {
     "name": "stdout",
     "output_type": "stream",
     "text": [
      "2022-11-24 20:17:43 [info     ] DiscreteCQL_20221124201742: epoch=1 step=45 epoch=1 metrics={'time_sample_batch': 7.13348388671875e-05, 'time_algorithm_update': 0.003729497061835395, 'loss': 1.531946595509847, 'time_step': 0.0038654645284016925, 'advantage': -0.12039716184631852, 'td_error': 2.716689237318785, 'value_scale': 7.565971476972596} step=45\n",
      "2022-11-24 20:17:43 [info     ] Model parameters are saved to d3rlpy_logs/DiscreteCQL_20221124201742/model_45.pt\n",
      ". (3624, 14)\n",
      "3624\n",
      "2022-11-24 20:17:43 [debug    ] RoundIterator is selected.\n",
      "2022-11-24 20:17:43 [info     ] Directory is created at d3rlpy_logs/DiscreteCQL_20221124201743\n",
      "2022-11-24 20:17:43 [warning  ] Skip building models since they're already built.\n",
      "2022-11-24 20:17:43 [info     ] Parameters are saved to d3rlpy_logs/DiscreteCQL_20221124201743/params.json params={'action_scaler': None, 'alpha': 1.0, 'batch_size': 32, 'encoder_factory': {'type': 'default', 'params': {'activation': 'relu', 'use_batch_norm': False, 'dropout_rate': None}}, 'gamma': 0.99, 'generated_maxlen': 100000, 'learning_rate': 6.25e-05, 'n_critics': 1, 'n_frames': 1, 'n_steps': 1, 'optim_factory': {'optim_cls': 'Adam', 'betas': (0.9, 0.999), 'eps': 1e-08, 'weight_decay': 0, 'amsgrad': False}, 'q_func_factory': {'type': 'mean', 'params': {'share_encoder': False}}, 'real_ratio': 1.0, 'reward_scaler': None, 'scaler': None, 'target_update_interval': 8000, 'use_gpu': None, 'algorithm': 'DiscreteCQL', 'observation_shape': (104,), 'action_size': 2}\n"
     ]
    },
    {
     "data": {
      "application/vnd.jupyter.widget-view+json": {
       "model_id": "d5780b7f37a1470b80aa2b4de95d5a19",
       "version_major": 2,
       "version_minor": 0
      },
      "text/plain": [
       "Epoch 1/1:   0%|          | 0/90 [00:00<?, ?it/s]"
      ]
     },
     "metadata": {},
     "output_type": "display_data"
    },
    {
     "name": "stdout",
     "output_type": "stream",
     "text": [
      "2022-11-24 20:17:45 [info     ] DiscreteCQL_20221124201743: epoch=1 step=90 epoch=1 metrics={'time_sample_batch': 7.759994930691189e-05, 'time_algorithm_update': 0.003521940443250868, 'loss': 1.5440628700786168, 'time_step': 0.0036649280124240453, 'advantage': -0.09212157578303896, 'td_error': 2.6727237921836986, 'value_scale': 7.429919957128065} step=90\n",
      "2022-11-24 20:17:45 [info     ] Model parameters are saved to d3rlpy_logs/DiscreteCQL_20221124201743/model_90.pt\n",
      ". (7248, 14)\n",
      "7248\n",
      "2022-11-24 20:17:45 [debug    ] RoundIterator is selected.\n",
      "2022-11-24 20:17:45 [info     ] Directory is created at d3rlpy_logs/DiscreteCQL_20221124201745\n",
      "2022-11-24 20:17:45 [warning  ] Skip building models since they're already built.\n",
      "2022-11-24 20:17:45 [info     ] Parameters are saved to d3rlpy_logs/DiscreteCQL_20221124201745/params.json params={'action_scaler': None, 'alpha': 1.0, 'batch_size': 32, 'encoder_factory': {'type': 'default', 'params': {'activation': 'relu', 'use_batch_norm': False, 'dropout_rate': None}}, 'gamma': 0.99, 'generated_maxlen': 100000, 'learning_rate': 6.25e-05, 'n_critics': 1, 'n_frames': 1, 'n_steps': 1, 'optim_factory': {'optim_cls': 'Adam', 'betas': (0.9, 0.999), 'eps': 1e-08, 'weight_decay': 0, 'amsgrad': False}, 'q_func_factory': {'type': 'mean', 'params': {'share_encoder': False}}, 'real_ratio': 1.0, 'reward_scaler': None, 'scaler': None, 'target_update_interval': 8000, 'use_gpu': None, 'algorithm': 'DiscreteCQL', 'observation_shape': (104,), 'action_size': 2}\n"
     ]
    },
    {
     "data": {
      "application/vnd.jupyter.widget-view+json": {
       "model_id": "37a8e15313e645e7b580f77d3db73cb8",
       "version_major": 2,
       "version_minor": 0
      },
      "text/plain": [
       "Epoch 1/1:   0%|          | 0/181 [00:00<?, ?it/s]"
      ]
     },
     "metadata": {},
     "output_type": "display_data"
    },
    {
     "name": "stdout",
     "output_type": "stream",
     "text": [
      "2022-11-24 20:17:49 [info     ] DiscreteCQL_20221124201745: epoch=1 step=181 epoch=1 metrics={'time_sample_batch': 7.511502471418011e-05, 'time_algorithm_update': 0.0034403893170435783, 'loss': 1.5422425138357594, 'time_step': 0.003563965223112159, 'advantage': -0.1257320441870854, 'td_error': 2.6205743176321, 'value_scale': 7.577343953395712} step=181\n",
      "2022-11-24 20:17:49 [info     ] Model parameters are saved to d3rlpy_logs/DiscreteCQL_20221124201745/model_181.pt\n",
      ". (14496, 14)\n",
      "14496\n",
      "2022-11-24 20:17:50 [debug    ] RoundIterator is selected.\n",
      "2022-11-24 20:17:50 [info     ] Directory is created at d3rlpy_logs/DiscreteCQL_20221124201750\n",
      "2022-11-24 20:17:50 [warning  ] Skip building models since they're already built.\n",
      "2022-11-24 20:17:50 [info     ] Parameters are saved to d3rlpy_logs/DiscreteCQL_20221124201750/params.json params={'action_scaler': None, 'alpha': 1.0, 'batch_size': 32, 'encoder_factory': {'type': 'default', 'params': {'activation': 'relu', 'use_batch_norm': False, 'dropout_rate': None}}, 'gamma': 0.99, 'generated_maxlen': 100000, 'learning_rate': 6.25e-05, 'n_critics': 1, 'n_frames': 1, 'n_steps': 1, 'optim_factory': {'optim_cls': 'Adam', 'betas': (0.9, 0.999), 'eps': 1e-08, 'weight_decay': 0, 'amsgrad': False}, 'q_func_factory': {'type': 'mean', 'params': {'share_encoder': False}}, 'real_ratio': 1.0, 'reward_scaler': None, 'scaler': None, 'target_update_interval': 8000, 'use_gpu': None, 'algorithm': 'DiscreteCQL', 'observation_shape': (104,), 'action_size': 2}\n"
     ]
    },
    {
     "data": {
      "application/vnd.jupyter.widget-view+json": {
       "model_id": "37433afccf2f45aea9b332a7e35a0186",
       "version_major": 2,
       "version_minor": 0
      },
      "text/plain": [
       "Epoch 1/1:   0%|          | 0/362 [00:00<?, ?it/s]"
      ]
     },
     "metadata": {},
     "output_type": "display_data"
    },
    {
     "name": "stdout",
     "output_type": "stream",
     "text": [
      "2022-11-24 20:17:58 [info     ] DiscreteCQL_20221124201750: epoch=1 step=362 epoch=1 metrics={'time_sample_batch': 7.254313368823647e-05, 'time_algorithm_update': 0.003562453702009844, 'loss': 1.5358726978302002, 'time_step': 0.0036817051429116265, 'advantage': -0.10610848402154857, 'td_error': 2.6961080363857794, 'value_scale': 7.554795181833464} step=362\n",
      "2022-11-24 20:17:58 [info     ] Model parameters are saved to d3rlpy_logs/DiscreteCQL_20221124201750/model_362.pt\n",
      ". (28992, 14)\n",
      "28992\n",
      "2022-11-24 20:17:58 [debug    ] RoundIterator is selected.\n",
      "2022-11-24 20:17:58 [info     ] Directory is created at d3rlpy_logs/DiscreteCQL_20221124201758\n",
      "2022-11-24 20:17:58 [warning  ] Skip building models since they're already built.\n",
      "2022-11-24 20:17:58 [info     ] Parameters are saved to d3rlpy_logs/DiscreteCQL_20221124201758/params.json params={'action_scaler': None, 'alpha': 1.0, 'batch_size': 32, 'encoder_factory': {'type': 'default', 'params': {'activation': 'relu', 'use_batch_norm': False, 'dropout_rate': None}}, 'gamma': 0.99, 'generated_maxlen': 100000, 'learning_rate': 6.25e-05, 'n_critics': 1, 'n_frames': 1, 'n_steps': 1, 'optim_factory': {'optim_cls': 'Adam', 'betas': (0.9, 0.999), 'eps': 1e-08, 'weight_decay': 0, 'amsgrad': False}, 'q_func_factory': {'type': 'mean', 'params': {'share_encoder': False}}, 'real_ratio': 1.0, 'reward_scaler': None, 'scaler': None, 'target_update_interval': 8000, 'use_gpu': None, 'algorithm': 'DiscreteCQL', 'observation_shape': (104,), 'action_size': 2}\n"
     ]
    },
    {
     "data": {
      "application/vnd.jupyter.widget-view+json": {
       "model_id": "d8a694c9f9dc4c6a8f049e46b3592c06",
       "version_major": 2,
       "version_minor": 0
      },
      "text/plain": [
       "Epoch 1/1:   0%|          | 0/724 [00:00<?, ?it/s]"
      ]
     },
     "metadata": {},
     "output_type": "display_data"
    },
    {
     "name": "stdout",
     "output_type": "stream",
     "text": [
      "2022-11-24 20:18:15 [info     ] DiscreteCQL_20221124201758: epoch=1 step=724 epoch=1 metrics={'time_sample_batch': 7.133424611381404e-05, 'time_algorithm_update': 0.0033518849815452954, 'loss': 1.536582754955766, 'time_step': 0.0034744117141428574, 'advantage': -0.0978167795851264, 'td_error': 2.588008501543105, 'value_scale': 7.524032067915431} step=724\n",
      "2022-11-24 20:18:15 [info     ] Model parameters are saved to d3rlpy_logs/DiscreteCQL_20221124201758/model_724.pt\n",
      ". (57984, 14)\n",
      "57984\n",
      "2022-11-24 20:18:16 [debug    ] RoundIterator is selected.\n",
      "2022-11-24 20:18:16 [info     ] Directory is created at d3rlpy_logs/DiscreteCQL_20221124201816\n",
      "2022-11-24 20:18:16 [warning  ] Skip building models since they're already built.\n",
      "2022-11-24 20:18:16 [info     ] Parameters are saved to d3rlpy_logs/DiscreteCQL_20221124201816/params.json params={'action_scaler': None, 'alpha': 1.0, 'batch_size': 32, 'encoder_factory': {'type': 'default', 'params': {'activation': 'relu', 'use_batch_norm': False, 'dropout_rate': None}}, 'gamma': 0.99, 'generated_maxlen': 100000, 'learning_rate': 6.25e-05, 'n_critics': 1, 'n_frames': 1, 'n_steps': 1, 'optim_factory': {'optim_cls': 'Adam', 'betas': (0.9, 0.999), 'eps': 1e-08, 'weight_decay': 0, 'amsgrad': False}, 'q_func_factory': {'type': 'mean', 'params': {'share_encoder': False}}, 'real_ratio': 1.0, 'reward_scaler': None, 'scaler': None, 'target_update_interval': 8000, 'use_gpu': None, 'algorithm': 'DiscreteCQL', 'observation_shape': (104,), 'action_size': 2}\n"
     ]
    },
    {
     "data": {
      "application/vnd.jupyter.widget-view+json": {
       "model_id": "7f10a7cc98114db4ad51802af1c10646",
       "version_major": 2,
       "version_minor": 0
      },
      "text/plain": [
       "Epoch 1/1:   0%|          | 0/1449 [00:00<?, ?it/s]"
      ]
     },
     "metadata": {},
     "output_type": "display_data"
    },
    {
     "name": "stdout",
     "output_type": "stream",
     "text": [
      "2022-11-24 20:18:49 [info     ] DiscreteCQL_20221124201816: epoch=1 step=1449 epoch=1 metrics={'time_sample_batch': 7.752388242691283e-05, 'time_algorithm_update': 0.003615839552105995, 'loss': 1.5245926428696794, 'time_step': 0.003749016484694287, 'advantage': -0.10576896584423552, 'td_error': 2.530760313282456, 'value_scale': 7.522755851023586} step=1449\n",
      "2022-11-24 20:18:49 [info     ] Model parameters are saved to d3rlpy_logs/DiscreteCQL_20221124201816/model_1449.pt\n",
      "6. (1812, 14)\n",
      "1812\n",
      "2022-11-24 20:18:49 [debug    ] RoundIterator is selected.\n",
      "2022-11-24 20:18:49 [info     ] Directory is created at d3rlpy_logs/DiscreteCQL_20221124201849\n",
      "2022-11-24 20:18:49 [warning  ] Skip building models since they're already built.\n",
      "2022-11-24 20:18:49 [info     ] Parameters are saved to d3rlpy_logs/DiscreteCQL_20221124201849/params.json params={'action_scaler': None, 'alpha': 1.0, 'batch_size': 32, 'encoder_factory': {'type': 'default', 'params': {'activation': 'relu', 'use_batch_norm': False, 'dropout_rate': None}}, 'gamma': 0.99, 'generated_maxlen': 100000, 'learning_rate': 6.25e-05, 'n_critics': 1, 'n_frames': 1, 'n_steps': 1, 'optim_factory': {'optim_cls': 'Adam', 'betas': (0.9, 0.999), 'eps': 1e-08, 'weight_decay': 0, 'amsgrad': False}, 'q_func_factory': {'type': 'mean', 'params': {'share_encoder': False}}, 'real_ratio': 1.0, 'reward_scaler': None, 'scaler': None, 'target_update_interval': 8000, 'use_gpu': None, 'algorithm': 'DiscreteCQL', 'observation_shape': (104,), 'action_size': 2}\n"
     ]
    },
    {
     "data": {
      "application/vnd.jupyter.widget-view+json": {
       "model_id": "29eb4ad289ec47229fac1fd690e42a3e",
       "version_major": 2,
       "version_minor": 0
      },
      "text/plain": [
       "Epoch 1/1:   0%|          | 0/45 [00:00<?, ?it/s]"
      ]
     },
     "metadata": {},
     "output_type": "display_data"
    },
    {
     "name": "stdout",
     "output_type": "stream",
     "text": [
      "2022-11-24 20:18:51 [info     ] DiscreteCQL_20221124201849: epoch=1 step=45 epoch=1 metrics={'time_sample_batch': 8.58412848578559e-05, 'time_algorithm_update': 0.003808768590291341, 'loss': 1.5111768854988945, 'time_step': 0.003970585929022895, 'advantage': -0.14411136861018242, 'td_error': 2.5158165849581073, 'value_scale': 7.452582834180721} step=45\n",
      "2022-11-24 20:18:51 [info     ] Model parameters are saved to d3rlpy_logs/DiscreteCQL_20221124201849/model_45.pt\n",
      ". (3624, 14)\n",
      "3624\n",
      "2022-11-24 20:18:51 [debug    ] RoundIterator is selected.\n",
      "2022-11-24 20:18:51 [info     ] Directory is created at d3rlpy_logs/DiscreteCQL_20221124201851\n",
      "2022-11-24 20:18:51 [warning  ] Skip building models since they're already built.\n",
      "2022-11-24 20:18:51 [info     ] Parameters are saved to d3rlpy_logs/DiscreteCQL_20221124201851/params.json params={'action_scaler': None, 'alpha': 1.0, 'batch_size': 32, 'encoder_factory': {'type': 'default', 'params': {'activation': 'relu', 'use_batch_norm': False, 'dropout_rate': None}}, 'gamma': 0.99, 'generated_maxlen': 100000, 'learning_rate': 6.25e-05, 'n_critics': 1, 'n_frames': 1, 'n_steps': 1, 'optim_factory': {'optim_cls': 'Adam', 'betas': (0.9, 0.999), 'eps': 1e-08, 'weight_decay': 0, 'amsgrad': False}, 'q_func_factory': {'type': 'mean', 'params': {'share_encoder': False}}, 'real_ratio': 1.0, 'reward_scaler': None, 'scaler': None, 'target_update_interval': 8000, 'use_gpu': None, 'algorithm': 'DiscreteCQL', 'observation_shape': (104,), 'action_size': 2}\n"
     ]
    },
    {
     "data": {
      "application/vnd.jupyter.widget-view+json": {
       "model_id": "b3bf0d76253e4fcba7fd2c5775e88572",
       "version_major": 2,
       "version_minor": 0
      },
      "text/plain": [
       "Epoch 1/1:   0%|          | 0/90 [00:00<?, ?it/s]"
      ]
     },
     "metadata": {},
     "output_type": "display_data"
    },
    {
     "name": "stdout",
     "output_type": "stream",
     "text": [
      "2022-11-24 20:18:53 [info     ] DiscreteCQL_20221124201851: epoch=1 step=90 epoch=1 metrics={'time_sample_batch': 7.621447245279948e-05, 'time_algorithm_update': 0.0033986594941880967, 'loss': 1.5148798253801135, 'time_step': 0.0035415940814548068, 'advantage': -0.10775890383227119, 'td_error': 2.508791761869321, 'value_scale': 7.473217014444286} step=90\n",
      "2022-11-24 20:18:53 [info     ] Model parameters are saved to d3rlpy_logs/DiscreteCQL_20221124201851/model_90.pt\n",
      ". (7248, 14)\n",
      "7248\n",
      "2022-11-24 20:18:53 [debug    ] RoundIterator is selected.\n",
      "2022-11-24 20:18:53 [info     ] Directory is created at d3rlpy_logs/DiscreteCQL_20221124201853\n",
      "2022-11-24 20:18:53 [warning  ] Skip building models since they're already built.\n",
      "2022-11-24 20:18:53 [info     ] Parameters are saved to d3rlpy_logs/DiscreteCQL_20221124201853/params.json params={'action_scaler': None, 'alpha': 1.0, 'batch_size': 32, 'encoder_factory': {'type': 'default', 'params': {'activation': 'relu', 'use_batch_norm': False, 'dropout_rate': None}}, 'gamma': 0.99, 'generated_maxlen': 100000, 'learning_rate': 6.25e-05, 'n_critics': 1, 'n_frames': 1, 'n_steps': 1, 'optim_factory': {'optim_cls': 'Adam', 'betas': (0.9, 0.999), 'eps': 1e-08, 'weight_decay': 0, 'amsgrad': False}, 'q_func_factory': {'type': 'mean', 'params': {'share_encoder': False}}, 'real_ratio': 1.0, 'reward_scaler': None, 'scaler': None, 'target_update_interval': 8000, 'use_gpu': None, 'algorithm': 'DiscreteCQL', 'observation_shape': (104,), 'action_size': 2}\n"
     ]
    },
    {
     "data": {
      "application/vnd.jupyter.widget-view+json": {
       "model_id": "55939e5952df40d7a0e754e220789c85",
       "version_major": 2,
       "version_minor": 0
      },
      "text/plain": [
       "Epoch 1/1:   0%|          | 0/181 [00:00<?, ?it/s]"
      ]
     },
     "metadata": {},
     "output_type": "display_data"
    },
    {
     "name": "stdout",
     "output_type": "stream",
     "text": [
      "2022-11-24 20:18:57 [info     ] DiscreteCQL_20221124201853: epoch=1 step=181 epoch=1 metrics={'time_sample_batch': 7.194181832160738e-05, 'time_algorithm_update': 0.0033337174199562706, 'loss': 1.5187560221108283, 'time_step': 0.003461450503017362, 'advantage': -0.126726614195725, 'td_error': 2.5064633926533713, 'value_scale': 7.355007977156803} step=181\n",
      "2022-11-24 20:18:57 [info     ] Model parameters are saved to d3rlpy_logs/DiscreteCQL_20221124201853/model_181.pt\n",
      ". (14496, 14)\n",
      "14496\n",
      "2022-11-24 20:18:57 [debug    ] RoundIterator is selected.\n",
      "2022-11-24 20:18:57 [info     ] Directory is created at d3rlpy_logs/DiscreteCQL_20221124201857\n",
      "2022-11-24 20:18:57 [warning  ] Skip building models since they're already built.\n",
      "2022-11-24 20:18:57 [info     ] Parameters are saved to d3rlpy_logs/DiscreteCQL_20221124201857/params.json params={'action_scaler': None, 'alpha': 1.0, 'batch_size': 32, 'encoder_factory': {'type': 'default', 'params': {'activation': 'relu', 'use_batch_norm': False, 'dropout_rate': None}}, 'gamma': 0.99, 'generated_maxlen': 100000, 'learning_rate': 6.25e-05, 'n_critics': 1, 'n_frames': 1, 'n_steps': 1, 'optim_factory': {'optim_cls': 'Adam', 'betas': (0.9, 0.999), 'eps': 1e-08, 'weight_decay': 0, 'amsgrad': False}, 'q_func_factory': {'type': 'mean', 'params': {'share_encoder': False}}, 'real_ratio': 1.0, 'reward_scaler': None, 'scaler': None, 'target_update_interval': 8000, 'use_gpu': None, 'algorithm': 'DiscreteCQL', 'observation_shape': (104,), 'action_size': 2}\n"
     ]
    },
    {
     "data": {
      "application/vnd.jupyter.widget-view+json": {
       "model_id": "536e757cdfea447a9b65103267799c4f",
       "version_major": 2,
       "version_minor": 0
      },
      "text/plain": [
       "Epoch 1/1:   0%|          | 0/362 [00:00<?, ?it/s]"
      ]
     },
     "metadata": {},
     "output_type": "display_data"
    },
    {
     "name": "stdout",
     "output_type": "stream",
     "text": [
      "2022-11-24 20:19:05 [info     ] DiscreteCQL_20221124201857: epoch=1 step=362 epoch=1 metrics={'time_sample_batch': 7.593961051814464e-05, 'time_algorithm_update': 0.003457726694602334, 'loss': 1.5044319076432708, 'time_step': 0.003588472940645165, 'advantage': -0.13785002535787122, 'td_error': 2.6057059522374177, 'value_scale': 7.5887089973482595} step=362\n",
      "2022-11-24 20:19:05 [info     ] Model parameters are saved to d3rlpy_logs/DiscreteCQL_20221124201857/model_362.pt\n",
      ". (28992, 14)\n",
      "28992\n",
      "2022-11-24 20:19:06 [debug    ] RoundIterator is selected.\n",
      "2022-11-24 20:19:06 [info     ] Directory is created at d3rlpy_logs/DiscreteCQL_20221124201906\n",
      "2022-11-24 20:19:06 [warning  ] Skip building models since they're already built.\n",
      "2022-11-24 20:19:06 [info     ] Parameters are saved to d3rlpy_logs/DiscreteCQL_20221124201906/params.json params={'action_scaler': None, 'alpha': 1.0, 'batch_size': 32, 'encoder_factory': {'type': 'default', 'params': {'activation': 'relu', 'use_batch_norm': False, 'dropout_rate': None}}, 'gamma': 0.99, 'generated_maxlen': 100000, 'learning_rate': 6.25e-05, 'n_critics': 1, 'n_frames': 1, 'n_steps': 1, 'optim_factory': {'optim_cls': 'Adam', 'betas': (0.9, 0.999), 'eps': 1e-08, 'weight_decay': 0, 'amsgrad': False}, 'q_func_factory': {'type': 'mean', 'params': {'share_encoder': False}}, 'real_ratio': 1.0, 'reward_scaler': None, 'scaler': None, 'target_update_interval': 8000, 'use_gpu': None, 'algorithm': 'DiscreteCQL', 'observation_shape': (104,), 'action_size': 2}\n"
     ]
    },
    {
     "data": {
      "application/vnd.jupyter.widget-view+json": {
       "model_id": "67e310407f034a9fb6cce03857b91ea3",
       "version_major": 2,
       "version_minor": 0
      },
      "text/plain": [
       "Epoch 1/1:   0%|          | 0/724 [00:00<?, ?it/s]"
      ]
     },
     "metadata": {},
     "output_type": "display_data"
    },
    {
     "name": "stdout",
     "output_type": "stream",
     "text": [
      "2022-11-24 20:19:22 [info     ] DiscreteCQL_20221124201906: epoch=1 step=724 epoch=1 metrics={'time_sample_batch': 7.068155878815203e-05, 'time_algorithm_update': 0.0032873166858820627, 'loss': 1.5036630006455585, 'time_step': 0.0034038137994418485, 'advantage': -0.11049015153212925, 'td_error': 2.439219725976761, 'value_scale': 7.520306126005301} step=724\n",
      "2022-11-24 20:19:22 [info     ] Model parameters are saved to d3rlpy_logs/DiscreteCQL_20221124201906/model_724.pt\n",
      ". (57984, 14)\n",
      "57984\n",
      "2022-11-24 20:19:23 [debug    ] RoundIterator is selected.\n",
      "2022-11-24 20:19:23 [info     ] Directory is created at d3rlpy_logs/DiscreteCQL_20221124201923\n",
      "2022-11-24 20:19:23 [warning  ] Skip building models since they're already built.\n",
      "2022-11-24 20:19:23 [info     ] Parameters are saved to d3rlpy_logs/DiscreteCQL_20221124201923/params.json params={'action_scaler': None, 'alpha': 1.0, 'batch_size': 32, 'encoder_factory': {'type': 'default', 'params': {'activation': 'relu', 'use_batch_norm': False, 'dropout_rate': None}}, 'gamma': 0.99, 'generated_maxlen': 100000, 'learning_rate': 6.25e-05, 'n_critics': 1, 'n_frames': 1, 'n_steps': 1, 'optim_factory': {'optim_cls': 'Adam', 'betas': (0.9, 0.999), 'eps': 1e-08, 'weight_decay': 0, 'amsgrad': False}, 'q_func_factory': {'type': 'mean', 'params': {'share_encoder': False}}, 'real_ratio': 1.0, 'reward_scaler': None, 'scaler': None, 'target_update_interval': 8000, 'use_gpu': None, 'algorithm': 'DiscreteCQL', 'observation_shape': (104,), 'action_size': 2}\n"
     ]
    },
    {
     "data": {
      "application/vnd.jupyter.widget-view+json": {
       "model_id": "84f42dacc2704832a568bfbedbc882b5",
       "version_major": 2,
       "version_minor": 0
      },
      "text/plain": [
       "Epoch 1/1:   0%|          | 0/1449 [00:00<?, ?it/s]"
      ]
     },
     "metadata": {},
     "output_type": "display_data"
    },
    {
     "name": "stdout",
     "output_type": "stream",
     "text": [
      "2022-11-24 20:19:56 [info     ] DiscreteCQL_20221124201923: epoch=1 step=1449 epoch=1 metrics={'time_sample_batch': 7.10151703954977e-05, 'time_algorithm_update': 0.0033192705334754873, 'loss': 1.4992755327330036, 'time_step': 0.0034407387938147336, 'advantage': -0.11842090992862997, 'td_error': 2.4449834381204214, 'value_scale': 7.559925159873907} step=1449\n",
      "2022-11-24 20:19:56 [info     ] Model parameters are saved to d3rlpy_logs/DiscreteCQL_20221124201923/model_1449.pt\n",
      "7. (1812, 14)\n",
      "1812\n",
      "2022-11-24 20:19:56 [debug    ] RoundIterator is selected.\n",
      "2022-11-24 20:19:56 [info     ] Directory is created at d3rlpy_logs/DiscreteCQL_20221124201956\n",
      "2022-11-24 20:19:56 [warning  ] Skip building models since they're already built.\n",
      "2022-11-24 20:19:56 [info     ] Parameters are saved to d3rlpy_logs/DiscreteCQL_20221124201956/params.json params={'action_scaler': None, 'alpha': 1.0, 'batch_size': 32, 'encoder_factory': {'type': 'default', 'params': {'activation': 'relu', 'use_batch_norm': False, 'dropout_rate': None}}, 'gamma': 0.99, 'generated_maxlen': 100000, 'learning_rate': 6.25e-05, 'n_critics': 1, 'n_frames': 1, 'n_steps': 1, 'optim_factory': {'optim_cls': 'Adam', 'betas': (0.9, 0.999), 'eps': 1e-08, 'weight_decay': 0, 'amsgrad': False}, 'q_func_factory': {'type': 'mean', 'params': {'share_encoder': False}}, 'real_ratio': 1.0, 'reward_scaler': None, 'scaler': None, 'target_update_interval': 8000, 'use_gpu': None, 'algorithm': 'DiscreteCQL', 'observation_shape': (104,), 'action_size': 2}\n"
     ]
    },
    {
     "data": {
      "application/vnd.jupyter.widget-view+json": {
       "model_id": "0f3d692d626b457c9e8cfbaef5cb7d7d",
       "version_major": 2,
       "version_minor": 0
      },
      "text/plain": [
       "Epoch 1/1:   0%|          | 0/45 [00:00<?, ?it/s]"
      ]
     },
     "metadata": {},
     "output_type": "display_data"
    },
    {
     "name": "stdout",
     "output_type": "stream",
     "text": [
      "2022-11-24 20:19:57 [info     ] DiscreteCQL_20221124201956: epoch=1 step=45 epoch=1 metrics={'time_sample_batch': 7.473627726236979e-05, 'time_algorithm_update': 0.0034320142534044053, 'loss': 1.4539600902133518, 'time_step': 0.0035751607682969833, 'advantage': -0.13241302277431016, 'td_error': 2.649351155073075, 'value_scale': 7.639523889736039} step=45\n",
      "2022-11-24 20:19:57 [info     ] Model parameters are saved to d3rlpy_logs/DiscreteCQL_20221124201956/model_45.pt\n",
      ". (3624, 14)\n",
      "3624\n",
      "2022-11-24 20:19:57 [debug    ] RoundIterator is selected.\n",
      "2022-11-24 20:19:57 [info     ] Directory is created at d3rlpy_logs/DiscreteCQL_20221124201957\n",
      "2022-11-24 20:19:57 [warning  ] Skip building models since they're already built.\n",
      "2022-11-24 20:19:57 [info     ] Parameters are saved to d3rlpy_logs/DiscreteCQL_20221124201957/params.json params={'action_scaler': None, 'alpha': 1.0, 'batch_size': 32, 'encoder_factory': {'type': 'default', 'params': {'activation': 'relu', 'use_batch_norm': False, 'dropout_rate': None}}, 'gamma': 0.99, 'generated_maxlen': 100000, 'learning_rate': 6.25e-05, 'n_critics': 1, 'n_frames': 1, 'n_steps': 1, 'optim_factory': {'optim_cls': 'Adam', 'betas': (0.9, 0.999), 'eps': 1e-08, 'weight_decay': 0, 'amsgrad': False}, 'q_func_factory': {'type': 'mean', 'params': {'share_encoder': False}}, 'real_ratio': 1.0, 'reward_scaler': None, 'scaler': None, 'target_update_interval': 8000, 'use_gpu': None, 'algorithm': 'DiscreteCQL', 'observation_shape': (104,), 'action_size': 2}\n"
     ]
    },
    {
     "data": {
      "application/vnd.jupyter.widget-view+json": {
       "model_id": "8800a0a8ff5d4169b9ff086913f6fbf5",
       "version_major": 2,
       "version_minor": 0
      },
      "text/plain": [
       "Epoch 1/1:   0%|          | 0/90 [00:00<?, ?it/s]"
      ]
     },
     "metadata": {},
     "output_type": "display_data"
    },
    {
     "name": "stdout",
     "output_type": "stream",
     "text": [
      "2022-11-24 20:20:00 [info     ] DiscreteCQL_20221124201957: epoch=1 step=90 epoch=1 metrics={'time_sample_batch': 6.94433848063151e-05, 'time_algorithm_update': 0.0033920394049750434, 'loss': 1.5043191843562655, 'time_step': 0.0035144752926296657, 'advantage': -0.147402291133486, 'td_error': 2.456947164216048, 'value_scale': 7.74803007684905} step=90\n",
      "2022-11-24 20:20:00 [info     ] Model parameters are saved to d3rlpy_logs/DiscreteCQL_20221124201957/model_90.pt\n",
      ". (7248, 14)\n",
      "7248\n",
      "2022-11-24 20:20:00 [debug    ] RoundIterator is selected.\n",
      "2022-11-24 20:20:00 [info     ] Directory is created at d3rlpy_logs/DiscreteCQL_20221124202000\n",
      "2022-11-24 20:20:00 [warning  ] Skip building models since they're already built.\n",
      "2022-11-24 20:20:00 [info     ] Parameters are saved to d3rlpy_logs/DiscreteCQL_20221124202000/params.json params={'action_scaler': None, 'alpha': 1.0, 'batch_size': 32, 'encoder_factory': {'type': 'default', 'params': {'activation': 'relu', 'use_batch_norm': False, 'dropout_rate': None}}, 'gamma': 0.99, 'generated_maxlen': 100000, 'learning_rate': 6.25e-05, 'n_critics': 1, 'n_frames': 1, 'n_steps': 1, 'optim_factory': {'optim_cls': 'Adam', 'betas': (0.9, 0.999), 'eps': 1e-08, 'weight_decay': 0, 'amsgrad': False}, 'q_func_factory': {'type': 'mean', 'params': {'share_encoder': False}}, 'real_ratio': 1.0, 'reward_scaler': None, 'scaler': None, 'target_update_interval': 8000, 'use_gpu': None, 'algorithm': 'DiscreteCQL', 'observation_shape': (104,), 'action_size': 2}\n"
     ]
    },
    {
     "data": {
      "application/vnd.jupyter.widget-view+json": {
       "model_id": "e132c2833e21436583db15b38c12cfed",
       "version_major": 2,
       "version_minor": 0
      },
      "text/plain": [
       "Epoch 1/1:   0%|          | 0/181 [00:00<?, ?it/s]"
      ]
     },
     "metadata": {},
     "output_type": "display_data"
    },
    {
     "name": "stdout",
     "output_type": "stream",
     "text": [
      "2022-11-24 20:20:04 [info     ] DiscreteCQL_20221124202000: epoch=1 step=181 epoch=1 metrics={'time_sample_batch': 6.98974777980404e-05, 'time_algorithm_update': 0.0033552949599798213, 'loss': 1.4960028130705185, 'time_step': 0.0034783900772010425, 'advantage': -0.11901768289763352, 'td_error': 2.4603762520627037, 'value_scale': 7.448833292270529} step=181\n",
      "2022-11-24 20:20:04 [info     ] Model parameters are saved to d3rlpy_logs/DiscreteCQL_20221124202000/model_181.pt\n",
      ". (14496, 14)\n",
      "14496\n",
      "2022-11-24 20:20:04 [debug    ] RoundIterator is selected.\n",
      "2022-11-24 20:20:04 [info     ] Directory is created at d3rlpy_logs/DiscreteCQL_20221124202004\n",
      "2022-11-24 20:20:04 [warning  ] Skip building models since they're already built.\n",
      "2022-11-24 20:20:04 [info     ] Parameters are saved to d3rlpy_logs/DiscreteCQL_20221124202004/params.json params={'action_scaler': None, 'alpha': 1.0, 'batch_size': 32, 'encoder_factory': {'type': 'default', 'params': {'activation': 'relu', 'use_batch_norm': False, 'dropout_rate': None}}, 'gamma': 0.99, 'generated_maxlen': 100000, 'learning_rate': 6.25e-05, 'n_critics': 1, 'n_frames': 1, 'n_steps': 1, 'optim_factory': {'optim_cls': 'Adam', 'betas': (0.9, 0.999), 'eps': 1e-08, 'weight_decay': 0, 'amsgrad': False}, 'q_func_factory': {'type': 'mean', 'params': {'share_encoder': False}}, 'real_ratio': 1.0, 'reward_scaler': None, 'scaler': None, 'target_update_interval': 8000, 'use_gpu': None, 'algorithm': 'DiscreteCQL', 'observation_shape': (104,), 'action_size': 2}\n"
     ]
    },
    {
     "data": {
      "application/vnd.jupyter.widget-view+json": {
       "model_id": "46c8d206ec764858b42f0eec8e399306",
       "version_major": 2,
       "version_minor": 0
      },
      "text/plain": [
       "Epoch 1/1:   0%|          | 0/362 [00:00<?, ?it/s]"
      ]
     },
     "metadata": {},
     "output_type": "display_data"
    },
    {
     "name": "stdout",
     "output_type": "stream",
     "text": [
      "2022-11-24 20:20:12 [info     ] DiscreteCQL_20221124202004: epoch=1 step=362 epoch=1 metrics={'time_sample_batch': 7.174357524892902e-05, 'time_algorithm_update': 0.0033950825422508282, 'loss': 1.4944333414346473, 'time_step': 0.0035127006183013074, 'advantage': -0.11881018416634921, 'td_error': 2.482589517193204, 'value_scale': 7.582060729964026} step=362\n",
      "2022-11-24 20:20:12 [info     ] Model parameters are saved to d3rlpy_logs/DiscreteCQL_20221124202004/model_362.pt\n",
      ". (28992, 14)\n",
      "28992\n",
      "2022-11-24 20:20:13 [debug    ] RoundIterator is selected.\n",
      "2022-11-24 20:20:13 [info     ] Directory is created at d3rlpy_logs/DiscreteCQL_20221124202013\n",
      "2022-11-24 20:20:13 [warning  ] Skip building models since they're already built.\n",
      "2022-11-24 20:20:13 [info     ] Parameters are saved to d3rlpy_logs/DiscreteCQL_20221124202013/params.json params={'action_scaler': None, 'alpha': 1.0, 'batch_size': 32, 'encoder_factory': {'type': 'default', 'params': {'activation': 'relu', 'use_batch_norm': False, 'dropout_rate': None}}, 'gamma': 0.99, 'generated_maxlen': 100000, 'learning_rate': 6.25e-05, 'n_critics': 1, 'n_frames': 1, 'n_steps': 1, 'optim_factory': {'optim_cls': 'Adam', 'betas': (0.9, 0.999), 'eps': 1e-08, 'weight_decay': 0, 'amsgrad': False}, 'q_func_factory': {'type': 'mean', 'params': {'share_encoder': False}}, 'real_ratio': 1.0, 'reward_scaler': None, 'scaler': None, 'target_update_interval': 8000, 'use_gpu': None, 'algorithm': 'DiscreteCQL', 'observation_shape': (104,), 'action_size': 2}\n"
     ]
    },
    {
     "data": {
      "application/vnd.jupyter.widget-view+json": {
       "model_id": "fe407227e9bd400d956e1c1e2fe517a3",
       "version_major": 2,
       "version_minor": 0
      },
      "text/plain": [
       "Epoch 1/1:   0%|          | 0/724 [00:00<?, ?it/s]"
      ]
     },
     "metadata": {},
     "output_type": "display_data"
    },
    {
     "name": "stdout",
     "output_type": "stream",
     "text": [
      "2022-11-24 20:20:29 [info     ] DiscreteCQL_20221124202013: epoch=1 step=724 epoch=1 metrics={'time_sample_batch': 7.753905670418924e-05, 'time_algorithm_update': 0.0034436787689588345, 'loss': 1.4965680198774811, 'time_step': 0.00357246695302468, 'advantage': -0.0919156057256155, 'td_error': 2.38813288990664, 'value_scale': 7.513239619155899} step=724\n",
      "2022-11-24 20:20:29 [info     ] Model parameters are saved to d3rlpy_logs/DiscreteCQL_20221124202013/model_724.pt\n",
      ". (57984, 14)\n",
      "57984\n",
      "2022-11-24 20:20:30 [debug    ] RoundIterator is selected.\n",
      "2022-11-24 20:20:30 [info     ] Directory is created at d3rlpy_logs/DiscreteCQL_20221124202030\n",
      "2022-11-24 20:20:30 [warning  ] Skip building models since they're already built.\n",
      "2022-11-24 20:20:30 [info     ] Parameters are saved to d3rlpy_logs/DiscreteCQL_20221124202030/params.json params={'action_scaler': None, 'alpha': 1.0, 'batch_size': 32, 'encoder_factory': {'type': 'default', 'params': {'activation': 'relu', 'use_batch_norm': False, 'dropout_rate': None}}, 'gamma': 0.99, 'generated_maxlen': 100000, 'learning_rate': 6.25e-05, 'n_critics': 1, 'n_frames': 1, 'n_steps': 1, 'optim_factory': {'optim_cls': 'Adam', 'betas': (0.9, 0.999), 'eps': 1e-08, 'weight_decay': 0, 'amsgrad': False}, 'q_func_factory': {'type': 'mean', 'params': {'share_encoder': False}}, 'real_ratio': 1.0, 'reward_scaler': None, 'scaler': None, 'target_update_interval': 8000, 'use_gpu': None, 'algorithm': 'DiscreteCQL', 'observation_shape': (104,), 'action_size': 2}\n"
     ]
    },
    {
     "data": {
      "application/vnd.jupyter.widget-view+json": {
       "model_id": "9d8cfc9542444b69af5dbdd62d951eb8",
       "version_major": 2,
       "version_minor": 0
      },
      "text/plain": [
       "Epoch 1/1:   0%|          | 0/1449 [00:00<?, ?it/s]"
      ]
     },
     "metadata": {},
     "output_type": "display_data"
    },
    {
     "name": "stdout",
     "output_type": "stream",
     "text": [
      "2022-11-24 20:21:03 [info     ] DiscreteCQL_20221124202030: epoch=1 step=1449 epoch=1 metrics={'time_sample_batch': 7.651804890445053e-05, 'time_algorithm_update': 0.0033797674791166254, 'loss': 1.4800154930809764, 'time_step': 0.003513441322753148, 'advantage': -0.13491179536640352, 'td_error': 2.5058793403732453, 'value_scale': 7.746950793741201} step=1449\n",
      "2022-11-24 20:21:03 [info     ] Model parameters are saved to d3rlpy_logs/DiscreteCQL_20221124202030/model_1449.pt\n",
      "8. (1812, 14)\n",
      "1812\n",
      "2022-11-24 20:21:04 [debug    ] RoundIterator is selected.\n",
      "2022-11-24 20:21:04 [info     ] Directory is created at d3rlpy_logs/DiscreteCQL_20221124202104\n",
      "2022-11-24 20:21:04 [warning  ] Skip building models since they're already built.\n",
      "2022-11-24 20:21:04 [info     ] Parameters are saved to d3rlpy_logs/DiscreteCQL_20221124202104/params.json params={'action_scaler': None, 'alpha': 1.0, 'batch_size': 32, 'encoder_factory': {'type': 'default', 'params': {'activation': 'relu', 'use_batch_norm': False, 'dropout_rate': None}}, 'gamma': 0.99, 'generated_maxlen': 100000, 'learning_rate': 6.25e-05, 'n_critics': 1, 'n_frames': 1, 'n_steps': 1, 'optim_factory': {'optim_cls': 'Adam', 'betas': (0.9, 0.999), 'eps': 1e-08, 'weight_decay': 0, 'amsgrad': False}, 'q_func_factory': {'type': 'mean', 'params': {'share_encoder': False}}, 'real_ratio': 1.0, 'reward_scaler': None, 'scaler': None, 'target_update_interval': 8000, 'use_gpu': None, 'algorithm': 'DiscreteCQL', 'observation_shape': (104,), 'action_size': 2}\n"
     ]
    },
    {
     "data": {
      "application/vnd.jupyter.widget-view+json": {
       "model_id": "30feeef90a2d4a868d106c4fa180a301",
       "version_major": 2,
       "version_minor": 0
      },
      "text/plain": [
       "Epoch 1/1:   0%|          | 0/45 [00:00<?, ?it/s]"
      ]
     },
     "metadata": {},
     "output_type": "display_data"
    },
    {
     "name": "stdout",
     "output_type": "stream",
     "text": [
      "2022-11-24 20:21:05 [info     ] DiscreteCQL_20221124202104: epoch=1 step=45 epoch=1 metrics={'time_sample_batch': 8.891953362358941e-05, 'time_algorithm_update': 0.004021289613511827, 'loss': 1.500103063053555, 'time_step': 0.004187552134195963, 'advantage': -0.09533916229058888, 'td_error': 2.3849227671012097, 'value_scale': 7.644589722320725} step=45\n",
      "2022-11-24 20:21:05 [info     ] Model parameters are saved to d3rlpy_logs/DiscreteCQL_20221124202104/model_45.pt\n",
      ". (3624, 14)\n",
      "3624\n",
      "2022-11-24 20:21:05 [debug    ] RoundIterator is selected.\n",
      "2022-11-24 20:21:05 [info     ] Directory is created at d3rlpy_logs/DiscreteCQL_20221124202105\n",
      "2022-11-24 20:21:05 [warning  ] Skip building models since they're already built.\n",
      "2022-11-24 20:21:05 [info     ] Parameters are saved to d3rlpy_logs/DiscreteCQL_20221124202105/params.json params={'action_scaler': None, 'alpha': 1.0, 'batch_size': 32, 'encoder_factory': {'type': 'default', 'params': {'activation': 'relu', 'use_batch_norm': False, 'dropout_rate': None}}, 'gamma': 0.99, 'generated_maxlen': 100000, 'learning_rate': 6.25e-05, 'n_critics': 1, 'n_frames': 1, 'n_steps': 1, 'optim_factory': {'optim_cls': 'Adam', 'betas': (0.9, 0.999), 'eps': 1e-08, 'weight_decay': 0, 'amsgrad': False}, 'q_func_factory': {'type': 'mean', 'params': {'share_encoder': False}}, 'real_ratio': 1.0, 'reward_scaler': None, 'scaler': None, 'target_update_interval': 8000, 'use_gpu': None, 'algorithm': 'DiscreteCQL', 'observation_shape': (104,), 'action_size': 2}\n"
     ]
    },
    {
     "data": {
      "application/vnd.jupyter.widget-view+json": {
       "model_id": "136551a5fbb2439c82c97f3e4095b7a8",
       "version_major": 2,
       "version_minor": 0
      },
      "text/plain": [
       "Epoch 1/1:   0%|          | 0/90 [00:00<?, ?it/s]"
      ]
     },
     "metadata": {},
     "output_type": "display_data"
    },
    {
     "name": "stdout",
     "output_type": "stream",
     "text": [
      "2022-11-24 20:21:07 [info     ] DiscreteCQL_20221124202105: epoch=1 step=90 epoch=1 metrics={'time_sample_batch': 8.208751678466797e-05, 'time_algorithm_update': 0.0035425742467244466, 'loss': 1.4858684261639914, 'time_step': 0.0036982509824964736, 'advantage': -0.09579632134273135, 'td_error': 2.2945846451989005, 'value_scale': 7.510013516853595} step=90\n",
      "2022-11-24 20:21:07 [info     ] Model parameters are saved to d3rlpy_logs/DiscreteCQL_20221124202105/model_90.pt\n",
      ". (7248, 14)\n",
      "7248\n",
      "2022-11-24 20:21:07 [debug    ] RoundIterator is selected.\n",
      "2022-11-24 20:21:07 [info     ] Directory is created at d3rlpy_logs/DiscreteCQL_20221124202107\n",
      "2022-11-24 20:21:07 [warning  ] Skip building models since they're already built.\n",
      "2022-11-24 20:21:07 [info     ] Parameters are saved to d3rlpy_logs/DiscreteCQL_20221124202107/params.json params={'action_scaler': None, 'alpha': 1.0, 'batch_size': 32, 'encoder_factory': {'type': 'default', 'params': {'activation': 'relu', 'use_batch_norm': False, 'dropout_rate': None}}, 'gamma': 0.99, 'generated_maxlen': 100000, 'learning_rate': 6.25e-05, 'n_critics': 1, 'n_frames': 1, 'n_steps': 1, 'optim_factory': {'optim_cls': 'Adam', 'betas': (0.9, 0.999), 'eps': 1e-08, 'weight_decay': 0, 'amsgrad': False}, 'q_func_factory': {'type': 'mean', 'params': {'share_encoder': False}}, 'real_ratio': 1.0, 'reward_scaler': None, 'scaler': None, 'target_update_interval': 8000, 'use_gpu': None, 'algorithm': 'DiscreteCQL', 'observation_shape': (104,), 'action_size': 2}\n"
     ]
    },
    {
     "data": {
      "application/vnd.jupyter.widget-view+json": {
       "model_id": "71f4daf96964458ba347f34fe2d8e5aa",
       "version_major": 2,
       "version_minor": 0
      },
      "text/plain": [
       "Epoch 1/1:   0%|          | 0/181 [00:00<?, ?it/s]"
      ]
     },
     "metadata": {},
     "output_type": "display_data"
    },
    {
     "name": "stdout",
     "output_type": "stream",
     "text": [
      "2022-11-24 20:21:11 [info     ] DiscreteCQL_20221124202107: epoch=1 step=181 epoch=1 metrics={'time_sample_batch': 7.540481525231462e-05, 'time_algorithm_update': 0.0033362214736516963, 'loss': 1.4619277557615418, 'time_step': 0.0034701481708505535, 'advantage': -0.10707573660488787, 'td_error': 2.3500140937136895, 'value_scale': 7.483260727915271} step=181\n",
      "2022-11-24 20:21:11 [info     ] Model parameters are saved to d3rlpy_logs/DiscreteCQL_20221124202107/model_181.pt\n",
      ". (14496, 14)\n",
      "14496\n",
      "2022-11-24 20:21:11 [debug    ] RoundIterator is selected.\n",
      "2022-11-24 20:21:11 [info     ] Directory is created at d3rlpy_logs/DiscreteCQL_20221124202111\n",
      "2022-11-24 20:21:11 [warning  ] Skip building models since they're already built.\n",
      "2022-11-24 20:21:11 [info     ] Parameters are saved to d3rlpy_logs/DiscreteCQL_20221124202111/params.json params={'action_scaler': None, 'alpha': 1.0, 'batch_size': 32, 'encoder_factory': {'type': 'default', 'params': {'activation': 'relu', 'use_batch_norm': False, 'dropout_rate': None}}, 'gamma': 0.99, 'generated_maxlen': 100000, 'learning_rate': 6.25e-05, 'n_critics': 1, 'n_frames': 1, 'n_steps': 1, 'optim_factory': {'optim_cls': 'Adam', 'betas': (0.9, 0.999), 'eps': 1e-08, 'weight_decay': 0, 'amsgrad': False}, 'q_func_factory': {'type': 'mean', 'params': {'share_encoder': False}}, 'real_ratio': 1.0, 'reward_scaler': None, 'scaler': None, 'target_update_interval': 8000, 'use_gpu': None, 'algorithm': 'DiscreteCQL', 'observation_shape': (104,), 'action_size': 2}\n"
     ]
    },
    {
     "data": {
      "application/vnd.jupyter.widget-view+json": {
       "model_id": "a8deb0b365064757b5def97a56a89bd3",
       "version_major": 2,
       "version_minor": 0
      },
      "text/plain": [
       "Epoch 1/1:   0%|          | 0/362 [00:00<?, ?it/s]"
      ]
     },
     "metadata": {},
     "output_type": "display_data"
    },
    {
     "name": "stdout",
     "output_type": "stream",
     "text": [
      "2022-11-24 20:21:20 [info     ] DiscreteCQL_20221124202111: epoch=1 step=362 epoch=1 metrics={'time_sample_batch': 6.95899046587022e-05, 'time_algorithm_update': 0.0033100118953220095, 'loss': 1.4716921554085958, 'time_step': 0.0034292093298053214, 'advantage': -0.11885379228098639, 'td_error': 2.2352158054602524, 'value_scale': 7.398846660564685} step=362\n",
      "2022-11-24 20:21:20 [info     ] Model parameters are saved to d3rlpy_logs/DiscreteCQL_20221124202111/model_362.pt\n",
      ". (28992, 14)\n",
      "28992\n",
      "2022-11-24 20:21:20 [debug    ] RoundIterator is selected.\n",
      "2022-11-24 20:21:20 [info     ] Directory is created at d3rlpy_logs/DiscreteCQL_20221124202120\n",
      "2022-11-24 20:21:20 [warning  ] Skip building models since they're already built.\n",
      "2022-11-24 20:21:20 [info     ] Parameters are saved to d3rlpy_logs/DiscreteCQL_20221124202120/params.json params={'action_scaler': None, 'alpha': 1.0, 'batch_size': 32, 'encoder_factory': {'type': 'default', 'params': {'activation': 'relu', 'use_batch_norm': False, 'dropout_rate': None}}, 'gamma': 0.99, 'generated_maxlen': 100000, 'learning_rate': 6.25e-05, 'n_critics': 1, 'n_frames': 1, 'n_steps': 1, 'optim_factory': {'optim_cls': 'Adam', 'betas': (0.9, 0.999), 'eps': 1e-08, 'weight_decay': 0, 'amsgrad': False}, 'q_func_factory': {'type': 'mean', 'params': {'share_encoder': False}}, 'real_ratio': 1.0, 'reward_scaler': None, 'scaler': None, 'target_update_interval': 8000, 'use_gpu': None, 'algorithm': 'DiscreteCQL', 'observation_shape': (104,), 'action_size': 2}\n"
     ]
    },
    {
     "data": {
      "application/vnd.jupyter.widget-view+json": {
       "model_id": "be91f5a649b8461ab836a3a4655c9592",
       "version_major": 2,
       "version_minor": 0
      },
      "text/plain": [
       "Epoch 1/1:   0%|          | 0/724 [00:00<?, ?it/s]"
      ]
     },
     "metadata": {},
     "output_type": "display_data"
    },
    {
     "name": "stdout",
     "output_type": "stream",
     "text": [
      "2022-11-24 20:21:37 [info     ] DiscreteCQL_20221124202120: epoch=1 step=724 epoch=1 metrics={'time_sample_batch': 7.001866293216937e-05, 'time_algorithm_update': 0.00332523709502668, 'loss': 1.459455418323285, 'time_step': 0.0034402243340212997, 'advantage': -0.12252044829855213, 'td_error': 2.3089884285172806, 'value_scale': 7.55282503815638} step=724\n",
      "2022-11-24 20:21:37 [info     ] Model parameters are saved to d3rlpy_logs/DiscreteCQL_20221124202120/model_724.pt\n",
      ". (57984, 14)\n",
      "57984\n",
      "2022-11-24 20:21:38 [debug    ] RoundIterator is selected.\n",
      "2022-11-24 20:21:38 [info     ] Directory is created at d3rlpy_logs/DiscreteCQL_20221124202138\n",
      "2022-11-24 20:21:38 [warning  ] Skip building models since they're already built.\n",
      "2022-11-24 20:21:38 [info     ] Parameters are saved to d3rlpy_logs/DiscreteCQL_20221124202138/params.json params={'action_scaler': None, 'alpha': 1.0, 'batch_size': 32, 'encoder_factory': {'type': 'default', 'params': {'activation': 'relu', 'use_batch_norm': False, 'dropout_rate': None}}, 'gamma': 0.99, 'generated_maxlen': 100000, 'learning_rate': 6.25e-05, 'n_critics': 1, 'n_frames': 1, 'n_steps': 1, 'optim_factory': {'optim_cls': 'Adam', 'betas': (0.9, 0.999), 'eps': 1e-08, 'weight_decay': 0, 'amsgrad': False}, 'q_func_factory': {'type': 'mean', 'params': {'share_encoder': False}}, 'real_ratio': 1.0, 'reward_scaler': None, 'scaler': None, 'target_update_interval': 8000, 'use_gpu': None, 'algorithm': 'DiscreteCQL', 'observation_shape': (104,), 'action_size': 2}\n"
     ]
    },
    {
     "data": {
      "application/vnd.jupyter.widget-view+json": {
       "model_id": "6052b8c20f814d1aab27494d8741f2f1",
       "version_major": 2,
       "version_minor": 0
      },
      "text/plain": [
       "Epoch 1/1:   0%|          | 0/1449 [00:00<?, ?it/s]"
      ]
     },
     "metadata": {},
     "output_type": "display_data"
    },
    {
     "name": "stdout",
     "output_type": "stream",
     "text": [
      "2022-11-24 20:22:10 [info     ] DiscreteCQL_20221124202138: epoch=1 step=1449 epoch=1 metrics={'time_sample_batch': 7.076506947056025e-05, 'time_algorithm_update': 0.003305277715805401, 'loss': 1.4593830274828061, 'time_step': 0.00342574952140687, 'advantage': -0.06987037828916967, 'td_error': 2.2972932657970846, 'value_scale': 7.418747893836957} step=1449\n",
      "2022-11-24 20:22:10 [info     ] Model parameters are saved to d3rlpy_logs/DiscreteCQL_20221124202138/model_1449.pt\n",
      "9. (1812, 14)\n",
      "1812\n",
      "2022-11-24 20:22:11 [debug    ] RoundIterator is selected.\n",
      "2022-11-24 20:22:11 [info     ] Directory is created at d3rlpy_logs/DiscreteCQL_20221124202211\n",
      "2022-11-24 20:22:11 [warning  ] Skip building models since they're already built.\n",
      "2022-11-24 20:22:11 [info     ] Parameters are saved to d3rlpy_logs/DiscreteCQL_20221124202211/params.json params={'action_scaler': None, 'alpha': 1.0, 'batch_size': 32, 'encoder_factory': {'type': 'default', 'params': {'activation': 'relu', 'use_batch_norm': False, 'dropout_rate': None}}, 'gamma': 0.99, 'generated_maxlen': 100000, 'learning_rate': 6.25e-05, 'n_critics': 1, 'n_frames': 1, 'n_steps': 1, 'optim_factory': {'optim_cls': 'Adam', 'betas': (0.9, 0.999), 'eps': 1e-08, 'weight_decay': 0, 'amsgrad': False}, 'q_func_factory': {'type': 'mean', 'params': {'share_encoder': False}}, 'real_ratio': 1.0, 'reward_scaler': None, 'scaler': None, 'target_update_interval': 8000, 'use_gpu': None, 'algorithm': 'DiscreteCQL', 'observation_shape': (104,), 'action_size': 2}\n"
     ]
    },
    {
     "data": {
      "application/vnd.jupyter.widget-view+json": {
       "model_id": "90658f7550bd44cb9bc3efa3d3ef5863",
       "version_major": 2,
       "version_minor": 0
      },
      "text/plain": [
       "Epoch 1/1:   0%|          | 0/45 [00:00<?, ?it/s]"
      ]
     },
     "metadata": {},
     "output_type": "display_data"
    },
    {
     "name": "stdout",
     "output_type": "stream",
     "text": [
      "2022-11-24 20:22:12 [info     ] DiscreteCQL_20221124202211: epoch=1 step=45 epoch=1 metrics={'time_sample_batch': 7.512834337022569e-05, 'time_algorithm_update': 0.0035644955105251738, 'loss': 1.4483319759368896, 'time_step': 0.003709872563680013, 'advantage': -0.1291895464432141, 'td_error': 2.3076690898669816, 'value_scale': 7.555464786603102} step=45\n",
      "2022-11-24 20:22:12 [info     ] Model parameters are saved to d3rlpy_logs/DiscreteCQL_20221124202211/model_45.pt\n",
      ". (3624, 14)\n",
      "3624\n",
      "2022-11-24 20:22:12 [debug    ] RoundIterator is selected.\n",
      "2022-11-24 20:22:12 [info     ] Directory is created at d3rlpy_logs/DiscreteCQL_20221124202212\n",
      "2022-11-24 20:22:12 [warning  ] Skip building models since they're already built.\n",
      "2022-11-24 20:22:12 [info     ] Parameters are saved to d3rlpy_logs/DiscreteCQL_20221124202212/params.json params={'action_scaler': None, 'alpha': 1.0, 'batch_size': 32, 'encoder_factory': {'type': 'default', 'params': {'activation': 'relu', 'use_batch_norm': False, 'dropout_rate': None}}, 'gamma': 0.99, 'generated_maxlen': 100000, 'learning_rate': 6.25e-05, 'n_critics': 1, 'n_frames': 1, 'n_steps': 1, 'optim_factory': {'optim_cls': 'Adam', 'betas': (0.9, 0.999), 'eps': 1e-08, 'weight_decay': 0, 'amsgrad': False}, 'q_func_factory': {'type': 'mean', 'params': {'share_encoder': False}}, 'real_ratio': 1.0, 'reward_scaler': None, 'scaler': None, 'target_update_interval': 8000, 'use_gpu': None, 'algorithm': 'DiscreteCQL', 'observation_shape': (104,), 'action_size': 2}\n"
     ]
    },
    {
     "data": {
      "application/vnd.jupyter.widget-view+json": {
       "model_id": "e38d7fa5d1864cfb92a04cf2168167b4",
       "version_major": 2,
       "version_minor": 0
      },
      "text/plain": [
       "Epoch 1/1:   0%|          | 0/90 [00:00<?, ?it/s]"
      ]
     },
     "metadata": {},
     "output_type": "display_data"
    },
    {
     "name": "stdout",
     "output_type": "stream",
     "text": [
      "2022-11-24 20:22:14 [info     ] DiscreteCQL_20221124202212: epoch=1 step=90 epoch=1 metrics={'time_sample_batch': 7.140106625027126e-05, 'time_algorithm_update': 0.0033458789189656575, 'loss': 1.4659330222341749, 'time_step': 0.0034756475024753145, 'advantage': -0.14316998415979845, 'td_error': 2.3072014637492497, 'value_scale': 7.538876713062155} step=90\n",
      "2022-11-24 20:22:14 [info     ] Model parameters are saved to d3rlpy_logs/DiscreteCQL_20221124202212/model_90.pt\n",
      ". (7248, 14)\n",
      "7248\n",
      "2022-11-24 20:22:14 [debug    ] RoundIterator is selected.\n",
      "2022-11-24 20:22:14 [info     ] Directory is created at d3rlpy_logs/DiscreteCQL_20221124202214\n",
      "2022-11-24 20:22:14 [warning  ] Skip building models since they're already built.\n",
      "2022-11-24 20:22:14 [info     ] Parameters are saved to d3rlpy_logs/DiscreteCQL_20221124202214/params.json params={'action_scaler': None, 'alpha': 1.0, 'batch_size': 32, 'encoder_factory': {'type': 'default', 'params': {'activation': 'relu', 'use_batch_norm': False, 'dropout_rate': None}}, 'gamma': 0.99, 'generated_maxlen': 100000, 'learning_rate': 6.25e-05, 'n_critics': 1, 'n_frames': 1, 'n_steps': 1, 'optim_factory': {'optim_cls': 'Adam', 'betas': (0.9, 0.999), 'eps': 1e-08, 'weight_decay': 0, 'amsgrad': False}, 'q_func_factory': {'type': 'mean', 'params': {'share_encoder': False}}, 'real_ratio': 1.0, 'reward_scaler': None, 'scaler': None, 'target_update_interval': 8000, 'use_gpu': None, 'algorithm': 'DiscreteCQL', 'observation_shape': (104,), 'action_size': 2}\n"
     ]
    },
    {
     "data": {
      "application/vnd.jupyter.widget-view+json": {
       "model_id": "0d1e68108e2a4e93849e56e48aa3c958",
       "version_major": 2,
       "version_minor": 0
      },
      "text/plain": [
       "Epoch 1/1:   0%|          | 0/181 [00:00<?, ?it/s]"
      ]
     },
     "metadata": {},
     "output_type": "display_data"
    },
    {
     "name": "stdout",
     "output_type": "stream",
     "text": [
      "2022-11-24 20:22:18 [info     ] DiscreteCQL_20221124202214: epoch=1 step=181 epoch=1 metrics={'time_sample_batch': 6.918090483101691e-05, 'time_algorithm_update': 0.0032775178140039603, 'loss': 1.4539620909242998, 'time_step': 0.0034038137994418485, 'advantage': -0.1613526176584178, 'td_error': 2.255960600761656, 'value_scale': 7.580002716985242} step=181\n",
      "2022-11-24 20:22:18 [info     ] Model parameters are saved to d3rlpy_logs/DiscreteCQL_20221124202214/model_181.pt\n",
      ". (14496, 14)\n",
      "14496\n",
      "2022-11-24 20:22:18 [debug    ] RoundIterator is selected.\n",
      "2022-11-24 20:22:18 [info     ] Directory is created at d3rlpy_logs/DiscreteCQL_20221124202218\n",
      "2022-11-24 20:22:18 [warning  ] Skip building models since they're already built.\n",
      "2022-11-24 20:22:18 [info     ] Parameters are saved to d3rlpy_logs/DiscreteCQL_20221124202218/params.json params={'action_scaler': None, 'alpha': 1.0, 'batch_size': 32, 'encoder_factory': {'type': 'default', 'params': {'activation': 'relu', 'use_batch_norm': False, 'dropout_rate': None}}, 'gamma': 0.99, 'generated_maxlen': 100000, 'learning_rate': 6.25e-05, 'n_critics': 1, 'n_frames': 1, 'n_steps': 1, 'optim_factory': {'optim_cls': 'Adam', 'betas': (0.9, 0.999), 'eps': 1e-08, 'weight_decay': 0, 'amsgrad': False}, 'q_func_factory': {'type': 'mean', 'params': {'share_encoder': False}}, 'real_ratio': 1.0, 'reward_scaler': None, 'scaler': None, 'target_update_interval': 8000, 'use_gpu': None, 'algorithm': 'DiscreteCQL', 'observation_shape': (104,), 'action_size': 2}\n"
     ]
    },
    {
     "data": {
      "application/vnd.jupyter.widget-view+json": {
       "model_id": "095621a9ba76403db5de6acee99e0a6e",
       "version_major": 2,
       "version_minor": 0
      },
      "text/plain": [
       "Epoch 1/1:   0%|          | 0/362 [00:00<?, ?it/s]"
      ]
     },
     "metadata": {},
     "output_type": "display_data"
    },
    {
     "name": "stdout",
     "output_type": "stream",
     "text": [
      "2022-11-24 20:22:26 [info     ] DiscreteCQL_20221124202218: epoch=1 step=362 epoch=1 metrics={'time_sample_batch': 7.813213938507586e-05, 'time_algorithm_update': 0.003434031049190964, 'loss': 1.4501559523587728, 'time_step': 0.0035612602918846173, 'advantage': -0.13564133413906754, 'td_error': 2.3460380637942406, 'value_scale': 7.632342894570581} step=362\n",
      "2022-11-24 20:22:26 [info     ] Model parameters are saved to d3rlpy_logs/DiscreteCQL_20221124202218/model_362.pt\n",
      ". (28992, 14)\n",
      "28992\n",
      "2022-11-24 20:22:27 [debug    ] RoundIterator is selected.\n",
      "2022-11-24 20:22:27 [info     ] Directory is created at d3rlpy_logs/DiscreteCQL_20221124202227\n",
      "2022-11-24 20:22:27 [warning  ] Skip building models since they're already built.\n",
      "2022-11-24 20:22:27 [info     ] Parameters are saved to d3rlpy_logs/DiscreteCQL_20221124202227/params.json params={'action_scaler': None, 'alpha': 1.0, 'batch_size': 32, 'encoder_factory': {'type': 'default', 'params': {'activation': 'relu', 'use_batch_norm': False, 'dropout_rate': None}}, 'gamma': 0.99, 'generated_maxlen': 100000, 'learning_rate': 6.25e-05, 'n_critics': 1, 'n_frames': 1, 'n_steps': 1, 'optim_factory': {'optim_cls': 'Adam', 'betas': (0.9, 0.999), 'eps': 1e-08, 'weight_decay': 0, 'amsgrad': False}, 'q_func_factory': {'type': 'mean', 'params': {'share_encoder': False}}, 'real_ratio': 1.0, 'reward_scaler': None, 'scaler': None, 'target_update_interval': 8000, 'use_gpu': None, 'algorithm': 'DiscreteCQL', 'observation_shape': (104,), 'action_size': 2}\n"
     ]
    },
    {
     "data": {
      "application/vnd.jupyter.widget-view+json": {
       "model_id": "e534170d73b14ed8bbb4fcb1bff232c7",
       "version_major": 2,
       "version_minor": 0
      },
      "text/plain": [
       "Epoch 1/1:   0%|          | 0/724 [00:00<?, ?it/s]"
      ]
     },
     "metadata": {},
     "output_type": "display_data"
    },
    {
     "name": "stdout",
     "output_type": "stream",
     "text": [
      "2022-11-24 20:22:43 [info     ] DiscreteCQL_20221124202227: epoch=1 step=724 epoch=1 metrics={'time_sample_batch': 7.82012939453125e-05, 'time_algorithm_update': 0.0034170667769500562, 'loss': 1.4470686235809853, 'time_step': 0.003547197876714211, 'advantage': -0.12128009854112952, 'td_error': 2.2785851096229544, 'value_scale': 7.592566822783498} step=724\n",
      "2022-11-24 20:22:43 [info     ] Model parameters are saved to d3rlpy_logs/DiscreteCQL_20221124202227/model_724.pt\n",
      ". (57984, 14)\n",
      "57984\n",
      "2022-11-24 20:22:44 [debug    ] RoundIterator is selected.\n",
      "2022-11-24 20:22:44 [info     ] Directory is created at d3rlpy_logs/DiscreteCQL_20221124202244\n",
      "2022-11-24 20:22:44 [warning  ] Skip building models since they're already built.\n",
      "2022-11-24 20:22:44 [info     ] Parameters are saved to d3rlpy_logs/DiscreteCQL_20221124202244/params.json params={'action_scaler': None, 'alpha': 1.0, 'batch_size': 32, 'encoder_factory': {'type': 'default', 'params': {'activation': 'relu', 'use_batch_norm': False, 'dropout_rate': None}}, 'gamma': 0.99, 'generated_maxlen': 100000, 'learning_rate': 6.25e-05, 'n_critics': 1, 'n_frames': 1, 'n_steps': 1, 'optim_factory': {'optim_cls': 'Adam', 'betas': (0.9, 0.999), 'eps': 1e-08, 'weight_decay': 0, 'amsgrad': False}, 'q_func_factory': {'type': 'mean', 'params': {'share_encoder': False}}, 'real_ratio': 1.0, 'reward_scaler': None, 'scaler': None, 'target_update_interval': 8000, 'use_gpu': None, 'algorithm': 'DiscreteCQL', 'observation_shape': (104,), 'action_size': 2}\n"
     ]
    },
    {
     "data": {
      "application/vnd.jupyter.widget-view+json": {
       "model_id": "af06f079e6374b8c91b0b543b49c0726",
       "version_major": 2,
       "version_minor": 0
      },
      "text/plain": [
       "Epoch 1/1:   0%|          | 0/1449 [00:00<?, ?it/s]"
      ]
     },
     "metadata": {},
     "output_type": "display_data"
    },
    {
     "name": "stdout",
     "output_type": "stream",
     "text": [
      "2022-11-24 20:23:17 [info     ] DiscreteCQL_20221124202244: epoch=1 step=1449 epoch=1 metrics={'time_sample_batch': 7.194334099916362e-05, 'time_algorithm_update': 0.0032846129623423617, 'loss': 1.441902932913407, 'time_step': 0.003406459335790493, 'advantage': -0.11548909544173815, 'td_error': 2.265483215892805, 'value_scale': 7.554323227136024} step=1449\n",
      "2022-11-24 20:23:17 [info     ] Model parameters are saved to d3rlpy_logs/DiscreteCQL_20221124202244/model_1449.pt\n"
     ]
    }
   ],
   "source": [
    "for i in range(10):\n",
    "    print(i, end='')\n",
    "    np.random.seed(i*42)\n",
    "    current_replay = 0\n",
    "    crm_model = Model.null_model(X_test.shape[1], y_test.shape[1])\n",
    "    crm_dataset = CRMDataset()\n",
    "    for j, replay_target in enumerate(replay_targets):\n",
    "        print('.', end=' ')\n",
    "        needed_replays = replay_target - current_replay\n",
    "        current_replay = replay_target\n",
    "        crm_dataset.update_from_supervised_dataset(X_train, y_train, sampling_probas, n_samples=needed_replays)\n",
    "        print(crm_dataset.actions_np.shape)\n",
    "        dataset = MDPDataset(crm_dataset.features_np, crm_dataset.actions_np, crm_dataset.rewards_np, np.ones(shape=crm_dataset.rewards.shape))\n",
    "        print(len(dataset))\n",
    "        train_episodes, test_episodes = train_test_split(dataset, test_size=0.2)\n",
    "        cql.fit(train_episodes,\n",
    "                eval_episodes=test_episodes,\n",
    "                n_epochs=1,\n",
    "                scorers={\n",
    "#                     'environment': evaluate_on_environment(env), # evaluate with CartPol-v0 environment\n",
    "                    'advantage': discounted_sum_of_advantage_scorer, # smaller is better\n",
    "                    'td_error': td_error_scorer, # smaller is better\n",
    "                    'value_scale': average_value_estimation_scorer # smaller is better\n",
    "                })\n",
    "        #cql.\n",
    "#         crm_losses[i,j] = expected_hamming_loss(cql, X_test, y_test)    \n",
    "#         crm_rewards[i,j] = (1 - np.logical_xor(crm_model.predict(X_test), y_test)).sum()\n",
    "\n",
    "crm_losses = crm_losses.mean(axis=0)\n",
    "crm_rewards = crm_rewards.mean(axis=0)"
   ]
  },
  {
   "cell_type": "code",
   "execution_count": 63,
   "id": "a7470c80-aeb2-49e7-95a2-d9b355558606",
   "metadata": {},
   "outputs": [
    {
     "name": "stdout",
     "output_type": "stream",
     "text": [
      "0. . . . . . 1. . . . . . 2. . . . . . 3. . . . . . 4. . . . . . 5. . . . . . 6. . . . . . 7. . . . . . 8. . . . . . 9. . . . . . "
     ]
    }
   ],
   "source": [
    "crm_losses = np.ones((10, len(replay_targets,)))\n",
    "crm_rewards = np.ones((10, len(replay_targets,)))\n",
    "\n",
    "for i in range(10):\n",
    "    print(i, end='')\n",
    "    np.random.seed(i*42)\n",
    "    current_replay = 0\n",
    "    crm_model = Model.null_model(X_test.shape[1], y_test.shape[1])\n",
    "    crm_dataset = CRMDataset()\n",
    "    for j, replay_target in enumerate(replay_targets):\n",
    "        print('.', end=' ')\n",
    "        needed_replays = replay_target - current_replay\n",
    "        current_replay = replay_target\n",
    "        crm_dataset.update_from_supervised_dataset(X_train, y_train, sampling_probas, n_samples=needed_replays)\n",
    "        crm_model.fit(\n",
    "            crm_dataset, \n",
    "            lambda_ = .5,\n",
    "            verbose = 0\n",
    "        )\n",
    "        crm_losses[i,j] = crm_model.expected_hamming_loss(X_test, y_test)    \n",
    "        crm_rewards[i,j] = (1 - np.logical_xor(crm_model.predict(X_test), y_test)).sum()\n",
    "\n",
    "crm_losses = crm_losses.mean(axis=0)\n",
    "crm_rewards = crm_rewards.mean(axis=0)"
   ]
  },
  {
   "cell_type": "code",
   "execution_count": 44,
   "id": "1edd4144-195c-43d5-9211-d586bfbbec7a",
   "metadata": {},
   "outputs": [
    {
     "name": "stdout",
     "output_type": "stream",
     "text": [
      "0. . . . . . 1. . . . . . 2. . . . . . 3. . . . . . 4. . . . . . 5. . . . . . 6. . . . . . 7. . . . . . 8. . . . . . 9. . . . . . "
     ]
    }
   ],
   "source": [
    "ucrm_losses = np.ones((10, len(replay_targets,)))\n",
    "ucrm_rewards = np.ones((10, len(replay_targets,)))\n",
    "\n",
    "for i in range(10):\n",
    "    print(i, end='')\n",
    "    np.random.seed(i*42)\n",
    "    current_replay = 0\n",
    "    ucrm_model = Model.null_model(X_test.shape[1], y_test.shape[1])\n",
    "    ucrm_dataset = CRMDataset()\n",
    "    for j, replay_target in enumerate(replay_targets):\n",
    "        print('.', end=' ')\n",
    "        needed_replays = replay_target - current_replay\n",
    "        current_replay = replay_target\n",
    "        ucrm_dataset.update_from_supervised_dataset(X_train, y_train, .5*np.ones_like(sampling_probas), n_samples=needed_replays)\n",
    "        ucrm_model.fit(\n",
    "            ucrm_dataset, \n",
    "            lambda_ = .5,\n",
    "            verbose = 0\n",
    "        )\n",
    "        ucrm_losses[i,j] = ucrm_model.expected_hamming_loss(X_test, y_test)    \n",
    "        ucrm_rewards[i,j] = (1 - np.logical_xor(ucrm_model.predict(X_test), y_test)).sum()\n",
    "        \n",
    "ucrm_losses = ucrm_losses.mean(axis=0)\n",
    "ucrm_rewards = ucrm_rewards.mean(axis=0)"
   ]
  },
  {
   "cell_type": "code",
   "execution_count": 45,
   "id": "942451b9-a49a-4ff7-a1ff-2b92616ca509",
   "metadata": {},
   "outputs": [
    {
     "name": "stdout",
     "output_type": "stream",
     "text": [
      "0. . . . . . 1. . . . . . 2. . . . . . 3. . . . . . 4. . . . . . 5. . . . . . 6. . . . . . 7. . . . . . 8. . . . . . 9. . . . . . "
     ]
    }
   ],
   "source": [
    "scrm_losses = np.ones((10, len(replay_targets,)))\n",
    "scrm_rewards = np.ones((10, len(replay_targets,)))\n",
    "\n",
    "for i in range(10):\n",
    "    print(i, end='')\n",
    "    np.random.seed(i*42)\n",
    "    current_replay = 0\n",
    "    scrm_model = Model.null_model(X_test.shape[1], y_test.shape[1])\n",
    "    scrm_dataset = CRMDataset()\n",
    "    for j, replay_target in enumerate(replay_targets):\n",
    "        print('.', end=' ')\n",
    "        needed_replays = replay_target - current_replay\n",
    "        current_replay = replay_target\n",
    "        scrm_sampling_probas = scrm_model.predict_proba(X_train, y_train)\n",
    "        scrm_dataset.update_from_supervised_dataset(X_train, y_train, scrm_sampling_probas, n_samples=needed_replays)\n",
    "        scrm_model.fit(\n",
    "            scrm_dataset, \n",
    "            lambda_ = -1 / np.sqrt(replay_target),\n",
    "            verbose = 0\n",
    "        )\n",
    "        scrm_losses[i,j] = scrm_model.expected_hamming_loss(X_test, y_test)    \n",
    "        scrm_rewards[i,j] = (1 - np.logical_xor(scrm_model.predict(X_test), y_test)).sum()\n",
    "\n",
    "scrm_losses = scrm_losses.mean(axis=0)\n",
    "scrm_rewards = scrm_rewards.mean(axis=0)"
   ]
  },
  {
   "cell_type": "code",
   "execution_count": 46,
   "id": "f8ac60f2-9ff1-4891-aacd-70b503b13d6d",
   "metadata": {},
   "outputs": [
    {
     "data": {
      "text/plain": [
       "<matplotlib.legend.Legend at 0x7f9a7a475250>"
      ]
     },
     "execution_count": 46,
     "metadata": {},
     "output_type": "execute_result"
    },
    {
     "data": {
      "image/png": "[encoded data removed]",
      "text/plain": [
       "<Figure size 720x288 with 1 Axes>"
      ]
     },
     "metadata": {
      "needs_background": "light"
     },
     "output_type": "display_data"
    }
   ],
   "source": [
    "fig, ax = plt.subplots(constrained_layout=True, figsize=(10,4))\n",
    "plt.title('Loss Evolution over Replays - Yeast Dataset')\n",
    "ax.set_xlabel('Replays')\n",
    "ax.set_xscale('log', base=2)\n",
    "ax.plot(replay_targets, .473*np.ones_like(replay_targets), '--', label='Baseline')\n",
    "ax.plot(replay_targets, ucrm_losses, 'o-', label='POEM Unif.')\n",
    "ax.plot(replay_targets, crm_losses, 'o-', label='POEM')\n",
    "ax.plot(replay_targets, scrm_losses, 'o-', label='S-CRM')\n",
    "#ax.plot(replay_targets, .295*np.ones_like(replay_targets), '--', label='Skyline (LR)')\n",
    "ax.plot(replay_targets, .220*np.ones_like(replay_targets), '--', label='Skyline (NN)')\n",
    "ax.set_ylabel('Hamming Loss')\n",
    "ax.legend(loc=(1.2, .1))"
   ]
  },
  {
   "cell_type": "code",
   "execution_count": 47,
   "id": "fcec4931-1ad4-4649-beb0-da5095f3726f",
   "metadata": {},
   "outputs": [],
   "source": [
    "from sklearn.neural_network import MLPClassifier\n",
    "from sklearn.multioutput import MultiOutputClassifier"
   ]
  },
  {
   "cell_type": "code",
   "execution_count": 48,
   "id": "b4eaea0c-fc09-490c-ad79-6a217204ad78",
   "metadata": {},
   "outputs": [],
   "source": [
    "mlp = MultiOutputClassifier(MLPClassifier(hidden_layer_sizes=(500, 100, 40, 10,)), n_jobs=4).fit(X_train, y_train)"
   ]
  },
  {
   "cell_type": "code",
   "execution_count": 49,
   "id": "84f11f39-01c1-46f6-8007-54b8a4c5eab4",
   "metadata": {},
   "outputs": [],
   "source": [
    "baseline_rewards = (1 - np.logical_xor(pi0.predict(X_test), y_test)).sum()*np.ones_like(crm_rewards)\n",
    "skyline_rewards = (1 - np.logical_xor(mlp.predict(X_test), y_test)).sum()*np.ones_like(crm_rewards)"
   ]
  },
  {
   "cell_type": "code",
   "execution_count": 50,
   "id": "beb6f4e2-5ead-456c-aeec-a3c8d1ca0211",
   "metadata": {},
   "outputs": [
    {
     "data": {
      "text/plain": [
       "<matplotlib.legend.Legend at 0x7f9a7a5518b0>"
      ]
     },
     "execution_count": 50,
     "metadata": {},
     "output_type": "execute_result"
    },
    {
     "data": {
      "image/png": "[encoded data removed]",
      "text/plain": [
       "<Figure size 720x288 with 1 Axes>"
      ]
     },
     "metadata": {
      "needs_background": "light"
     },
     "output_type": "display_data"
    }
   ],
   "source": [
    "fig, ax = plt.subplots(constrained_layout=True, figsize=(10,4))\n",
    "plt.title('Cumulated Regret over Replays - Yeast Dataset')\n",
    "ax.set_xlabel('Replays')\n",
    "ax.set_xscale('log', base=2)\n",
    "ax.plot(replay_targets, np.cumsum(skyline_rewards) - np.cumsum(baseline_rewards), '--', label='Baseline')\n",
    "ax.plot(replay_targets, np.cumsum(skyline_rewards) - np.cumsum(ucrm_rewards), 'o-', label='POEM Unif.')\n",
    "ax.plot(replay_targets, np.cumsum(skyline_rewards) - np.cumsum(crm_rewards), 'o-', label='POEM')\n",
    "ax.plot(replay_targets, np.cumsum(skyline_rewards) - np.cumsum(scrm_rewards), 'o-', label='S-CRM')\n",
    "# ax.plot(replay_targets, np.cumsum(skyline_rewards) - np.cumsum(skyline_rewards), '--', label='Skyline')\n",
    "ax.set_ylabel('Cumulated Regret')\n",
    "ax.legend(loc=(1.2, .1))"
   ]
  }
 ],
 "metadata": {
  "kernelspec": {
   "display_name": "Python 3",
   "language": "python",
   "name": "python3"
  },
  "language_info": {
   "codemirror_mode": {
    "name": "ipython",
    "version": 3
   },
   "file_extension": ".py",
   "mimetype": "text/x-python",
   "name": "python",
   "nbconvert_exporter": "python",
   "pygments_lexer": "ipython3",
   "version": "3.8.8"
  }
 },
 "nbformat": 4,
 "nbformat_minor": 5
}

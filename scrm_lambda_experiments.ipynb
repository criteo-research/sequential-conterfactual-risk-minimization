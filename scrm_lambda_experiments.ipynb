{
 "cells": [
  {
   "cell_type": "markdown",
   "id": "c4fa689b",
   "metadata": {},
   "source": [
    "# $\\lambda$ Experiments\n"
   ]
  },
  {
   "cell_type": "code",
   "execution_count": 1,
   "id": "c38a5ebd-d63a-45ea-9aeb-bd2ce8f47793",
   "metadata": {},
   "outputs": [],
   "source": [
    "%load_ext autoreload\n",
    "%autoreload 2"
   ]
  },
  {
   "cell_type": "code",
   "execution_count": 2,
   "id": "9c25f72b",
   "metadata": {},
   "outputs": [],
   "source": [
    "import sys\n",
    "import time\n",
    "import copy"
   ]
  },
  {
   "cell_type": "code",
   "execution_count": 3,
   "id": "b3299e83",
   "metadata": {},
   "outputs": [],
   "source": [
    "import numpy as np"
   ]
  },
  {
   "cell_type": "code",
   "execution_count": 4,
   "id": "5671941a-18cc-4723-a9c2-02b731f7d93f",
   "metadata": {},
   "outputs": [],
   "source": [
    "import pandas as pd"
   ]
  },
  {
   "cell_type": "code",
   "execution_count": 5,
   "id": "6da5c3e3",
   "metadata": {},
   "outputs": [],
   "source": [
    "import matplotlib.pyplot as plt"
   ]
  },
  {
   "cell_type": "code",
   "execution_count": 6,
   "id": "040d3d14-85a8-4352-8e96-43c704eecae2",
   "metadata": {},
   "outputs": [],
   "source": [
    "from dataset_utils import load_dataset\n",
    "from baselines_skylines import result_table, make_baselines_skylines, stochastic_hamming_loss\n",
    "from crm_dataset import CRMDataset\n",
    "from crm_model import Model"
   ]
  },
  {
   "cell_type": "markdown",
   "id": "69c93204",
   "metadata": {},
   "source": [
    "---\n",
    "### Loading dataset"
   ]
  },
  {
   "cell_type": "code",
   "execution_count": 7,
   "id": "dbaa9cb3",
   "metadata": {},
   "outputs": [
    {
     "name": "stdout",
     "output_type": "stream",
     "text": [
      "reducing dimension for TMC dataset\n",
      "X_train: (1805, 200) y_train: (1805, 6)\n"
     ]
    }
   ],
   "source": [
    "dataset_name='scene'\n",
    "# dataset_name='yeast'\n",
    "# dataset_name='tmc2007'\n",
    "\n",
    "X_train, y_train, X_test, y_test, labels = load_dataset(dataset_name, reduce_dim=200)"
   ]
  },
  {
   "cell_type": "markdown",
   "id": "f6aef896",
   "metadata": {},
   "source": [
    "### Baselines & Skylines"
   ]
  },
  {
   "cell_type": "code",
   "execution_count": 8,
   "id": "b321b06d-23e5-429a-b135-66f7c5246b0f",
   "metadata": {},
   "outputs": [],
   "source": [
    "pi0, pistar = make_baselines_skylines(dataset_name, X_train, y_train, n_jobs=4)"
   ]
  },
  {
   "cell_type": "markdown",
   "id": "28ae40cb",
   "metadata": {},
   "source": [
    "# The Experiment"
   ]
  },
  {
   "cell_type": "code",
   "execution_count": 9,
   "id": "9abaf8a9-3817-4307-aad1-fcb728d3e3ad",
   "metadata": {},
   "outputs": [
    {
     "data": {
      "text/plain": [
       "1805"
      ]
     },
     "execution_count": 9,
     "metadata": {},
     "output_type": "execute_result"
    }
   ],
   "source": [
    "len(X_train)"
   ]
  },
  {
   "cell_type": "code",
   "execution_count": 10,
   "id": "ae3c2d79-86db-4357-8242-2c9089c5d8c3",
   "metadata": {},
   "outputs": [
    {
     "data": {
      "text/plain": [
       "[112, 225, 451, 902, 1805]"
      ]
     },
     "execution_count": 10,
     "metadata": {},
     "output_type": "execute_result"
    }
   ],
   "source": [
    "n_rollouts = 10\n",
    "\n",
    "samples = [len(X_train)]\n",
    "for _ in range(n_rollouts):\n",
    "    samples += [int(samples[-1] / 2)]\n",
    "samples = sorted([_ for _ in samples if _ > 100])\n",
    "\n",
    "n_replays = 6  # actions per context\n",
    "n_reruns = 5 # to account for action stochasticity\n",
    "\n",
    "samples"
   ]
  },
  {
   "cell_type": "code",
   "execution_count": 11,
   "id": "9a7fa573-15a1-42b4-9ecc-1a2ec86930ae",
   "metadata": {},
   "outputs": [],
   "source": [
    "lambda_grid = [1e-4, 1e-3, 1e-2, 1e-1, .25, .5, .75, 1, 10, 100, 0, -1e-4, -1e-3, -1e-2, -1e-1, -.25, -.5, -.75, -1, -10, 100"
   ]
  },
  {
   "cell_type": "code",
   "execution_count": 12,
   "id": "7c967827-0696-494a-9dce-07984e78a9ce",
   "metadata": {},
   "outputs": [
    {
     "name": "stderr",
     "output_type": "stream",
     "text": [
      "WARNING:jax._src.lib.xla_bridge:No GPU/TPU found, falling back to CPU. (Set TF_CPP_MIN_LOG_LEVEL=0 and rerun for more info.)\n"
     ]
    },
    {
     "name": "stdout",
     "output_type": "stream",
     "text": [
      "0.....\n",
      "1.....\n",
      "2.....\n",
      "3.....\n",
      "4.....\n",
      "Lambda: 0.0001 final loss: 0.18253632738175626 cum reward: 1440.202104097453\n",
      "0.....\n",
      "1.....\n",
      "2.....\n",
      "3.....\n",
      "4.....\n",
      "Lambda: 0.001 final loss: 0.18254565704288145 cum reward: 1440.202104097453\n",
      "0.....\n",
      "1.....\n",
      "2.....\n",
      "3.....\n",
      "4.....\n",
      "Lambda: 0.01 final loss: 0.1842136983182524 cum reward: 1440.202104097453\n",
      "0.....\n",
      "1.....\n",
      "2.....\n",
      "3.....\n",
      "4.....\n",
      "Lambda: 0.1 final loss: 0.1846254167323113 cum reward: 1440.202104097453\n",
      "0.....\n",
      "1.....\n",
      "2.....\n",
      "3.....\n",
      "4.....\n",
      "Lambda: 1 final loss: 0.1793686961703312 cum reward: 1440.202104097453\n",
      "0.....\n",
      "1.....\n",
      "2.....\n",
      "3.....\n",
      "4.....\n",
      "Lambda: 10 final loss: 0.2664033233095096 cum reward: 1440.202104097453\n",
      "0.....\n",
      "1.....\n",
      "2.....\n",
      "3.....\n",
      "4.....\n",
      "Lambda: 100 final loss: 0.5319857724645707 cum reward: 1440.202104097453\n"
     ]
    }
   ],
   "source": [
    "crm_loss_by_lambda = []\n",
    "crm_reward_by_lambda = []\n",
    "\n",
    "test_sampling_probas = np.array([_[:,1] for _ in pi0.predict_proba(X_test)]).T\n",
    "crm_reward = CRMDataset().update_from_supervised_dataset(\n",
    "    X_test, y_test, test_sampling_probas, n_samples=4\n",
    ").rewards.sum() / (len(X_test)*y_test.shape[1]*4)\n",
    "\n",
    "\n",
    "for lambda_ in lambda_grid:\n",
    "        \n",
    "    crm_losses = np.ones((n_reruns, len(samples)))\n",
    "    crm_rewards = np.ones((n_reruns, len(samples)))\n",
    "\n",
    "    for i in range(n_reruns):\n",
    "        np.random.seed(i*42+1000)\n",
    "        print(i, end='')\n",
    "\n",
    "        crm_model = Model.null_model(X_test.shape[1], y_test.shape[1])\n",
    "        crm_dataset = CRMDataset()\n",
    "\n",
    "        start = 0\n",
    "        for j, end in enumerate(samples):\n",
    "            print('.', end='')\n",
    "            # current batch\n",
    "            X = X_train[start:end, :]\n",
    "            y = y_train[start:end, :]\n",
    "            if end > start:\n",
    "                # CRM play & data collection\n",
    "                sampling_probas = np.array([_[:,1] for _ in pi0.predict_proba(X)]).T \n",
    "                crm_dataset.update_from_supervised_dataset(X, y, sampling_probas, n_samples=n_replays)\n",
    "                # learning\n",
    "                crm_model.fit(\n",
    "                    crm_dataset, \n",
    "                    lambda_ = lambda_,\n",
    "                    verbose = 0\n",
    "                )\n",
    "            # eval\n",
    "            crm_losses[i,j] = crm_model.expected_hamming_loss(X_test, y_test)\n",
    "            crm_rewards[i,j] = crm_reward * len(X)\n",
    "            # next round\n",
    "            start = end\n",
    "        print()\n",
    "\n",
    "    crm_loss_by_lambda += [crm_losses.mean(axis=0)[-1]]\n",
    "    crm_reward_by_lambda += [crm_rewards.mean(axis=0).sum()]\n",
    "    print(\"Lambda:\", lambda_, \"final loss:\", crm_loss_by_lambda[-1], \"cum reward:\", crm_reward_by_lambda[-1])"
   ]
  },
  {
   "cell_type": "code",
   "execution_count": 13,
   "id": "397c4f1e-6ad2-428e-9101-ca52bfb679b8",
   "metadata": {},
   "outputs": [
    {
     "name": "stdout",
     "output_type": "stream",
     "text": [
      "0.....\n",
      "1.....\n",
      "2.....\n",
      "3.....\n",
      "4.....\n",
      "Lambda: 0.0001 final loss: 0.3397427917147925 cum reward: 1183.0011904761905\n",
      "0.....\n",
      "1.....\n",
      "2.....\n",
      "3.....\n",
      "4.....\n",
      "Lambda: 0.001 final loss: 0.334783075422005 cum reward: 1186.3794296788483\n",
      "0.....\n",
      "1.....\n",
      "2.....\n",
      "3.....\n",
      "4.....\n",
      "Lambda: 0.01 final loss: 0.3183538938275493 cum reward: 1201.4423172757474\n",
      "0.....\n",
      "1.....\n",
      "2.....\n",
      "3.....\n",
      "4.....\n",
      "Lambda: 0.1 final loss: 0.3437457478708732 cum reward: 1161.0770625692137\n",
      "0.....\n",
      "1.....\n",
      "2.....\n",
      "3.....\n",
      "4.....\n",
      "Lambda: 1 final loss: 0.3918764085531122 cum reward: 1036.1321290143965\n",
      "0.....\n",
      "1.....\n",
      "2.....\n",
      "3.....\n",
      "4.....\n",
      "Lambda: 10 final loss: 0.4577705112715316 cum reward: 940.6007336655591\n",
      "0.....\n",
      "1.....\n",
      "2.....\n",
      "3.....\n",
      "4.....\n",
      "Lambda: 100 final loss: 0.5584068584860701 cum reward: 727.537361572536\n"
     ]
    }
   ],
   "source": [
    "scrm_loss_by_lambda = []\n",
    "scrm_reward_by_lambda = []\n",
    "\n",
    "for lambda_ in lambda_grid:\n",
    "\n",
    "    scrm_losses = np.ones((n_reruns, len(samples)))\n",
    "    scrm_rewards = np.ones((n_reruns, len(samples)))\n",
    "\n",
    "    for i in range(n_reruns):\n",
    "        np.random.seed(i*42+1000)\n",
    "        print(i, end='')\n",
    "\n",
    "        scrm_model = Model.null_model(X_test.shape[1], y_test.shape[1])\n",
    "        scrm_dataset = CRMDataset()\n",
    "\n",
    "        start = 0\n",
    "        for j, end in enumerate(samples):\n",
    "            print('.', end='')\n",
    "            # current batch\n",
    "            X = X_train[start:end, :]\n",
    "            y = y_train[start:end, :]\n",
    "            if end > start:\n",
    "                # CRM play & data collection\n",
    "                if j == 0:\n",
    "                    sampling_probas = np.array([_[:,1] for _ in pi0.predict_proba(X)]).T \n",
    "                else:\n",
    "                    sampling_probas = scrm_model.predict_proba(X, y)\n",
    "                scrm_dataset.update_from_supervised_dataset(X, y, sampling_probas, n_samples=n_replays)\n",
    "                # learning\n",
    "                scrm_model.fit(\n",
    "                    scrm_dataset, \n",
    "                    lambda_ = lambda_,\n",
    "                    verbose = 0\n",
    "                )\n",
    "            # eval\n",
    "            scrm_losses[i,j] = scrm_model.expected_hamming_loss(X_test, y_test)\n",
    "            scrm_rewards[i,j] = CRMDataset().update_from_supervised_dataset(\n",
    "                X_test, y_test, scrm_model.predict_proba(X_test, np.ones_like(y_test)), n_samples=4\n",
    "            ).rewards.sum()  / (len(X_test)*y_test.shape[1]*4) * len(X)\n",
    "            # next round\n",
    "            start = end\n",
    "        print()\n",
    "\n",
    "    scrm_loss_by_lambda += [scrm_losses.mean(axis=0)[-1]]\n",
    "    scrm_reward_by_lambda += [scrm_rewards.mean(axis=0).sum()]\n",
    "    print(\"Lambda:\", lambda_, \"final loss:\", scrm_loss_by_lambda[-1], \"cum reward:\", scrm_reward_by_lambda[-1])\n",
    "    "
   ]
  },
  {
   "cell_type": "code",
   "execution_count": 14,
   "id": "d6eacd33-9d70-49ce-9dfa-2c98d4e00d26",
   "metadata": {},
   "outputs": [
    {
     "name": "stderr",
     "output_type": "stream",
     "text": [
      "/home/e.diemert/miniconda/lib/python3.9/site-packages/joblib/externals/loky/process_executor.py:700: UserWarning: A worker stopped while some jobs were given to the executor. This can be caused by a too short worker timeout or by a memory leak.\n",
      "  warnings.warn(\n"
     ]
    }
   ],
   "source": [
    "baseline_reward = np.mean([\n",
    "    CRMDataset().update_from_supervised_dataset(\n",
    "        X_test, y_test, \n",
    "        np.array([_[:,1] for _ in pi0.predict_proba(X_test)]).T, n_samples=4\n",
    "    ).rewards.sum() / (len(X_test)*y_test.shape[1]*4)\n",
    "for _ in range(n_reruns)])\n",
    "baseline_rewards = np.ones_like(lambda_grid) * baseline_reward * samples[-1]\n",
    "\n",
    "skyline_reward = np.mean([\n",
    "    CRMDataset().update_from_supervised_dataset(\n",
    "        X_test, y_test, \n",
    "        np.array([_[:,1] for _ in pistar.predict_proba(X_test)]).T, n_samples=4\n",
    "    ).rewards.sum() / (len(X_test)*y_test.shape[1]*4)\n",
    "for _ in range(n_reruns)])\n",
    "skyline_rewards = np.ones_like(lambda_grid) * skyline_reward * samples[-1]\n",
    "\n",
    "map_skyline_reward = np.mean([\n",
    "    CRMDataset().update_from_supervised_dataset(\n",
    "        X_test, y_test, \n",
    "        pistar.predict(X_test), n_samples=1\n",
    "    ).rewards.sum() / (len(X_test)*y_test.shape[1]*1)\n",
    "for _ in range(n_reruns)])\n",
    "map_skyline_rewards = map_skyline_reward * samples[-1]\n",
    "\n",
    "baseline_loss = np.ones_like(lambda_grid)*stochastic_hamming_loss(pi0, X_test, y_test)\n",
    "skyline_loss = np.ones_like(lambda_grid)*stochastic_hamming_loss(pistar, X_test, y_test)"
   ]
  },
  {
   "cell_type": "code",
   "execution_count": 15,
   "id": "9ad7855f-6b30-455b-acae-3060bba7df0f",
   "metadata": {},
   "outputs": [
    {
     "name": "stderr",
     "output_type": "stream",
     "text": [
      "/tmp/ipykernel_51011/3500174032.py:1: FutureWarning: In future versions `DataFrame.to_latex` is expected to utilise the base implementation of `Styler.to_latex` for formatting and rendering. The arguments signature may therefore change. It is recommended instead to use `DataFrame.style.to_latex` which also contains additional functionality.\n",
      "  pd.DataFrame(data={\n",
      "/tmp/ipykernel_51011/3500174032.py:9: FutureWarning: In future versions `DataFrame.to_latex` is expected to utilise the base implementation of `Styler.to_latex` for formatting and rendering. The arguments signature may therefore change. It is recommended instead to use `DataFrame.style.to_latex` which also contains additional functionality.\n",
      "  pd.DataFrame(data={\n"
     ]
    }
   ],
   "source": [
    "pd.DataFrame(data={\n",
    "    'lambda': lambda_grid,\n",
    "    'baseline': baseline_loss,\n",
    "    'CRM': crm_loss_by_lambda,\n",
    "    'S-CRM': scrm_loss_by_lambda,\n",
    "    'skyline': skyline_loss,\n",
    "}).to_latex('loss_by_lambda-%s.tex' % dataset_name, index=False)\n",
    "\n",
    "pd.DataFrame(data={\n",
    "    'lambda': lambda_grid,\n",
    "    'baseline': baseline_rewards,\n",
    "    'CRM': crm_reward_by_lambda,\n",
    "    'S-CRM': scrm_reward_by_lambda,\n",
    "    'skyline': skyline_rewards,\n",
    "}).to_latex('cumreward_by_lambda-%s.tex' % dataset_name, index=False)"
   ]
  },
  {
   "cell_type": "code",
   "execution_count": 20,
   "id": "a9128fcc-4560-4f2b-9776-b6f368752b86",
   "metadata": {},
   "outputs": [
    {
     "data": {
      "image/png": "[encoded data removed]",
      "text/plain": [
       "<Figure size 1152x288 with 2 Axes>"
      ]
     },
     "metadata": {
      "needs_background": "light"
     },
     "output_type": "display_data"
    }
   ],
   "source": [
    "fig, (ax1, ax2) = plt.subplots(ncols=2, constrained_layout=True, figsize=(16,4))\n",
    "\n",
    "ax1.set_title('Final Loss by $\\lambda$ - %s dataset' % dataset_name)\n",
    "ax1.set_xlabel('$\\lambda$')\n",
    "ax1.set_xscale('symlog')\n",
    "ax1.plot(lambda_grid, baseline_loss, '--', label='Baseline / $\\pi_0$')\n",
    "ax1.plot(lambda_grid, crm_loss_by_lambda, 'o', label='CRM / $\\pi_0$')\n",
    "ax1.plot(np.array(lambda_grid)*-1, scrm_loss_by_lambda, 'o', label='S-CRM / $\\pi_t$')\n",
    "ax1.plot(lambda_grid, skyline_loss, '--', label='Skyline / $\\pi^*$')\n",
    "ax1.set_ylabel('Hamming Loss')\n",
    "ax1.legend(loc=(1.025, .5))\n",
    "\n",
    "ax2.set_title('Cumulated Reward by $\\lambda$ - %s dataset' % dataset_name)\n",
    "ax2.set_xlabel('$\\lambda$')\n",
    "ax2.plot(lambda_grid, baseline_rewards, '--', label='Baseline / $\\pi_0$')\n",
    "ax2.plot(lambda_grid, crm_reward_by_lambda, 'o', label='CRM / $\\pi_0$')\n",
    "ax2.plot(lambda_grid, scrm_reward_by_lambda, 'o', label='S-CRM / $\\pi_t$')\n",
    "ax2.plot(lambda_grid, skyline_rewards, '--', label='Skyline / $\\pi^*$')\n",
    "ax2.set_xscale('log')\n",
    "ax2.set_ylabel('Cumulated Reward')\n",
    "ax2.legend(loc=(1.025, .5))\n",
    "\n",
    "plt.savefig('lambda_grid-%s.png' % dataset_name)"
   ]
  }
 ],
 "metadata": {
  "kernelspec": {
   "display_name": "Python 3",
   "language": "python",
   "name": "python3"
  },
  "language_info": {
   "codemirror_mode": {
    "name": "ipython",
    "version": 3
   },
   "file_extension": ".py",
   "mimetype": "text/x-python",
   "name": "python",
   "nbconvert_exporter": "python",
   "pygments_lexer": "ipython3",
   "version": "3.9.12"
  }
 },
 "nbformat": 4,
 "nbformat_minor": 5
}

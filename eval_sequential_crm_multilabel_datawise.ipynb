{
 "cells": [
  {
   "cell_type": "markdown",
   "id": "c4fa689b",
   "metadata": {},
   "source": [
    "# Sequential CRM Experiments\n",
    "\n",
    "## Reference works\n",
    "- ref paper: https://arxiv.org/pdf/1502.02362.pdf\n",
    "- ref code & data: https://www.cs.cornell.edu/~adith/POEM/\n",
    "- recent paper (ICML'18): http://proceedings.mlr.press/v80/wu18g/wu18g.pdf\n",
    "- recent paper using vision tasks: https://arxiv.org/pdf/1806.11500v6.pdf"
   ]
  },
  {
   "cell_type": "code",
   "execution_count": 1,
   "id": "c38a5ebd-d63a-45ea-9aeb-bd2ce8f47793",
   "metadata": {},
   "outputs": [],
   "source": [
    "%load_ext autoreload\n",
    "%autoreload 2"
   ]
  },
  {
   "cell_type": "code",
   "execution_count": 2,
   "id": "9c25f72b",
   "metadata": {},
   "outputs": [],
   "source": [
    "import sys\n",
    "import time\n",
    "import copy"
   ]
  },
  {
   "cell_type": "code",
   "execution_count": 3,
   "id": "b3299e83",
   "metadata": {},
   "outputs": [],
   "source": [
    "import numpy as np"
   ]
  },
  {
   "cell_type": "code",
   "execution_count": 4,
   "id": "9a8fd973-d7ae-44dd-9588-d1f68a37eeb5",
   "metadata": {},
   "outputs": [],
   "source": [
    "import jax.numpy as jnp\n",
    "from jax.scipy.special import expit as jexpit"
   ]
  },
  {
   "cell_type": "code",
   "execution_count": 5,
   "id": "6da5c3e3",
   "metadata": {},
   "outputs": [],
   "source": [
    "import matplotlib.pyplot as plt"
   ]
  },
  {
   "cell_type": "code",
   "execution_count": 6,
   "id": "040d3d14-85a8-4352-8e96-43c704eecae2",
   "metadata": {},
   "outputs": [],
   "source": [
    "from dataset_utils import load_dataset\n",
    "from baselines_skylines import result_table, make_baselines_skylines, stochastic_hamming_loss\n",
    "from crm_dataset import CRMDataset\n",
    "from crm_model import Model\n",
    "from tracing_utils import LossHistory"
   ]
  },
  {
   "cell_type": "markdown",
   "id": "69c93204",
   "metadata": {},
   "source": [
    "---\n",
    "### Loading dataset"
   ]
  },
  {
   "cell_type": "code",
   "execution_count": 7,
   "id": "dbaa9cb3",
   "metadata": {},
   "outputs": [
    {
     "name": "stdout",
     "output_type": "stream",
     "text": [
      "reducing dimension for TMC dataset\n",
      "X_train: (21447, 200) y_train: (21447, 22)\n"
     ]
    }
   ],
   "source": [
    "# dataset_name='scene'\n",
    "# dataset_name='yeast'\n",
    "dataset_name='tmc2007'\n",
    "\n",
    "X_train, y_train, X_test, y_test, labels = load_dataset(dataset_name, reduce_dim=200)"
   ]
  },
  {
   "cell_type": "markdown",
   "id": "f6aef896",
   "metadata": {},
   "source": [
    "### Baselines & Skylines"
   ]
  },
  {
   "cell_type": "code",
   "execution_count": 8,
   "id": "b321b06d-23e5-429a-b135-66f7c5246b0f",
   "metadata": {},
   "outputs": [],
   "source": [
    "pi0, pistar = make_baselines_skylines(dataset_name, X_train, y_train, n_jobs=1)"
   ]
  },
  {
   "cell_type": "markdown",
   "id": "28ae40cb",
   "metadata": {},
   "source": [
    "# The Experiment"
   ]
  },
  {
   "cell_type": "code",
   "execution_count": 9,
   "id": "9abaf8a9-3817-4307-aad1-fcb728d3e3ad",
   "metadata": {},
   "outputs": [
    {
     "data": {
      "text/plain": [
       "21447"
      ]
     },
     "execution_count": 9,
     "metadata": {},
     "output_type": "execute_result"
    }
   ],
   "source": [
    "len(X_train)"
   ]
  },
  {
   "cell_type": "code",
   "execution_count": 10,
   "id": "ae3c2d79-86db-4357-8242-2c9089c5d8c3",
   "metadata": {},
   "outputs": [
    {
     "data": {
      "text/plain": [
       "(10,\n",
       " 2144,\n",
       " [0, 2144, 4288, 6432, 8576, 10720, 12864, 15008, 17152, 19296, 21440])"
      ]
     },
     "execution_count": 10,
     "metadata": {},
     "output_type": "execute_result"
    }
   ],
   "source": [
    "n_rollouts = 10\n",
    "batch_size = int(len(X_train) / n_rollouts)\n",
    "samples = list(range(0, len(X_train), batch_size))\n",
    "n_replays = 10\n",
    "n_rollouts, batch_size, samples"
   ]
  },
  {
   "cell_type": "code",
   "execution_count": 11,
   "id": "7c967827-0696-494a-9dce-07984e78a9ce",
   "metadata": {},
   "outputs": [
    {
     "name": "stderr",
     "output_type": "stream",
     "text": [
      "WARNING:jax._src.lib.xla_bridge:No GPU/TPU found, falling back to CPU. (Set TF_CPP_MIN_LOG_LEVEL=0 and rerun for more info.)\n"
     ]
    },
    {
     "name": "stdout",
     "output_type": "stream",
     "text": [
      "0...........\n",
      "1...........\n",
      "2...........\n",
      "3...........\n",
      "4...........\n",
      "5...........\n",
      "6...........\n",
      "7...........\n",
      "8...........\n",
      "9...........\n"
     ]
    },
    {
     "data": {
      "text/plain": [
       "(array([0.5       , 0.17997619, 0.12044502, 0.11669189, 0.09634403,\n",
       "        0.09995297, 0.1124936 , 0.09297965, 0.09105789, 0.0942861 ,\n",
       "        0.09075603]),\n",
       " array([0.66556352, 0.66556352, 0.66556352, 0.66556352, 0.66556352,\n",
       "        0.66556352, 0.66556352, 0.66556352, 0.66556352, 0.66556352,\n",
       "        0.66556352]))"
      ]
     },
     "execution_count": 11,
     "metadata": {},
     "output_type": "execute_result"
    }
   ],
   "source": [
    "crm_losses = np.ones((10, len(samples)))\n",
    "crm_rewards = np.ones((10, len(samples)))\n",
    "\n",
    "test_sampling_probas = np.array([_[:,1] for _ in pi0.predict_proba(X_test)]).T\n",
    "crm_reward = CRMDataset().update_from_supervised_dataset(\n",
    "    X_test, y_test, test_sampling_probas, n_samples=4\n",
    ").rewards.sum() / (len(X_test)*y_test.shape[1]*4)\n",
    "\n",
    "for i in range(10):\n",
    "    np.random.seed(i*42+1000)\n",
    "    print(i, end='')\n",
    "    \n",
    "    crm_model = Model.null_model(X_test.shape[1], y_test.shape[1])\n",
    "    crm_dataset = CRMDataset()\n",
    "        \n",
    "    start = 0\n",
    "    for j, end in enumerate(samples):\n",
    "        print('.', end='')\n",
    "        # current batch\n",
    "        X = X_train[start:end, :]\n",
    "        y = y_train[start:end, :]\n",
    "        if end > start:\n",
    "            # CRM play & data collection\n",
    "            sampling_probas = np.array([_[:,1] for _ in pi0.predict_proba(X)]).T \n",
    "            crm_dataset.update_from_supervised_dataset(X, y, sampling_probas, n_samples=n_replays)\n",
    "            # learning\n",
    "            crm_model.fit(\n",
    "                crm_dataset, \n",
    "                lambda_ = .5,\n",
    "                verbose = 0\n",
    "            )\n",
    "        # eval\n",
    "        crm_losses[i,j] = crm_model.expected_hamming_loss(X_test, y_test)\n",
    "        crm_rewards[i,j] = crm_reward\n",
    "        # next round\n",
    "        start = end\n",
    "    print()\n",
    "\n",
    "crm_losses = crm_losses.mean(axis=0)\n",
    "crm_rewards = crm_rewards.mean(axis=0)\n",
    "crm_losses, crm_rewards"
   ]
  },
  {
   "cell_type": "code",
   "execution_count": 16,
   "id": "397c4f1e-6ad2-428e-9101-ca52bfb679b8",
   "metadata": {},
   "outputs": [
    {
     "name": "stdout",
     "output_type": "stream",
     "text": [
      "0...........\n",
      "1...........\n",
      "2...........\n",
      "3...........\n",
      "4...........\n",
      "5...........\n",
      "6...........\n",
      "7...........\n",
      "8...........\n",
      "9...........\n"
     ]
    },
    {
     "data": {
      "text/plain": [
       "(array([0.5       , 0.08943395, 0.08925185, 0.08913841, 0.08888569,\n",
       "        0.0891736 , 0.08946194, 0.08946894, 0.08921053, 0.08917188,\n",
       "        0.08944632]),\n",
       " array([0.50016627, 0.9105695 , 0.91074117, 0.91086245, 0.91111249,\n",
       "        0.91082876, 0.91053103, 0.91053072, 0.91079474, 0.91083034,\n",
       "        0.91055535]),\n",
       " array([ 1.        , -1.29429401, -0.9464628 , -0.78732998, -0.69064649,\n",
       "        -0.62376894, -0.57388328, -0.53478108, -0.50303541, -0.47657738,\n",
       "        -0.45407324]))"
      ]
     },
     "execution_count": 16,
     "metadata": {},
     "output_type": "execute_result"
    }
   ],
   "source": [
    "scrm_losses = np.ones((10, len(samples)))\n",
    "scrm_rewards = np.ones((10, len(samples)))\n",
    "scrm_lambdas = np.zeros((10, len(samples,)))\n",
    "\n",
    "for i in range(10):\n",
    "    np.random.seed(i*42+1000)\n",
    "    print(i, end='')\n",
    "\n",
    "    scrm_model = Model.null_model(X_test.shape[1], y_test.shape[1])\n",
    "    scrm_dataset = CRMDataset()\n",
    "    \n",
    "    start = 0\n",
    "    for j, end in enumerate(samples):\n",
    "        print('.', end='')\n",
    "        # current batch\n",
    "        X = X_train[start:end, :]\n",
    "        y = y_train[start:end, :]\n",
    "        if end > start:\n",
    "            # CRM play & data collection\n",
    "            if j == 0:\n",
    "                sampling_probas = np.array([_[:,1] for _ in pi0.predict_proba(X)]).T \n",
    "            else:\n",
    "                sampling_probas = scrm_model.predict_proba(X, y)\n",
    "            scrm_dataset.update_from_supervised_dataset(X, y, sampling_probas, n_samples=n_replays)\n",
    "            # learning\n",
    "            lambda_ = -1*scrm_model.theoretical_exploration_bonus(batch_size*n_replays*j, len(X_train)*n_replays)\n",
    "            scrm_lambdas[i,j] = lambda_\n",
    "            scrm_model.fit(\n",
    "                crm_dataset, \n",
    "                lambda_ = lambda_,\n",
    "                verbose = 0\n",
    "            )\n",
    "        # eval\n",
    "        scrm_losses[i,j] = scrm_model.expected_hamming_loss(X_test, y_test)\n",
    "        scrm_rewards[i,j] = CRMDataset().update_from_supervised_dataset(\n",
    "            X_test, y_test, scrm_model.predict_proba(X_test, np.ones_like(y_test)), n_samples=4\n",
    "        ).rewards.sum()  / (len(X_test)*y_test.shape[1]*4)\n",
    "        # next round\n",
    "        start = end\n",
    "    print()\n",
    "\n",
    "scrm_losses = scrm_losses.mean(axis=0)\n",
    "scrm_rewards = scrm_rewards.mean(axis=0)\n",
    "scrm_lambdas = scrm_lambdas.mean(axis=0)\n",
    "scrm_losses, scrm_rewards, scrm_lambdas"
   ]
  },
  {
   "cell_type": "code",
   "execution_count": 13,
   "id": "d6eacd33-9d70-49ce-9dfa-2c98d4e00d26",
   "metadata": {},
   "outputs": [],
   "source": [
    "baseline_reward = np.mean([\n",
    "    CRMDataset().update_from_supervised_dataset(\n",
    "        X_test, y_test, \n",
    "        np.array([_[:,1] for _ in pi0.predict_proba(X_test)]).T, n_samples=4\n",
    "    ).rewards.sum() / (len(X_test)*y_test.shape[1]*4)\n",
    "for _ in range(10)])\n",
    "baseline_rewards = np.ones_like(crm_losses)*baseline_reward\n",
    "\n",
    "skyline_reward = np.mean([\n",
    "    CRMDataset().update_from_supervised_dataset(\n",
    "        X_test, y_test, \n",
    "        np.array([_[:,1] for _ in pistar.predict_proba(X_test)]).T, n_samples=4\n",
    "    ).rewards.sum() / (len(X_test)*y_test.shape[1]*4)\n",
    "for _ in range(10)])\n",
    "skyline_rewards = np.ones_like(crm_losses)*skyline_reward\n",
    "\n",
    "map_skyline_reward = np.mean([\n",
    "    CRMDataset().update_from_supervised_dataset(\n",
    "        X_test, y_test, \n",
    "        pistar.predict(X_test), n_samples=1\n",
    "    ).rewards.sum() / (len(X_test)*y_test.shape[1]*1)\n",
    "for _ in range(10)])\n",
    "map_skyline_rewards = np.ones_like(crm_losses)*map_skyline_reward\n",
    "\n",
    "baseline_loss = stochastic_hamming_loss(pi0, X_test, y_test)\n",
    "skyline_loss = stochastic_hamming_loss(pistar, X_test, y_test)"
   ]
  },
  {
   "cell_type": "code",
   "execution_count": 1,
   "id": "f8ac60f2-9ff1-4891-aacd-70b503b13d6d",
   "metadata": {},
   "outputs": [
    {
     "ename": "NameError",
     "evalue": "name 'plt' is not defined",
     "output_type": "error",
     "traceback": [
      "\u001b[0;31m---------------------------------------------------------------------------\u001b[0m",
      "\u001b[0;31mNameError\u001b[0m                                 Traceback (most recent call last)",
      "Input \u001b[0;32mIn [1]\u001b[0m, in \u001b[0;36m<cell line: 1>\u001b[0;34m()\u001b[0m\n\u001b[0;32m----> 1\u001b[0m fig, (ax1, ax2) \u001b[38;5;241m=\u001b[39m \u001b[43mplt\u001b[49m\u001b[38;5;241m.\u001b[39msubplots(ncols\u001b[38;5;241m=\u001b[39m\u001b[38;5;241m2\u001b[39m, constrained_layout\u001b[38;5;241m=\u001b[39m\u001b[38;5;28;01mTrue\u001b[39;00m, figsize\u001b[38;5;241m=\u001b[39m(\u001b[38;5;241m16\u001b[39m,\u001b[38;5;241m4\u001b[39m))\n\u001b[1;32m      3\u001b[0m ax1\u001b[38;5;241m.\u001b[39mset_title(\u001b[38;5;124m'\u001b[39m\u001b[38;5;124mLoss Evolution over Data Usage - \u001b[39m\u001b[38;5;132;01m%s\u001b[39;00m\u001b[38;5;124m Dataset\u001b[39m\u001b[38;5;124m'\u001b[39m \u001b[38;5;241m%\u001b[39m dataset_name)\n\u001b[1;32m      4\u001b[0m ax1\u001b[38;5;241m.\u001b[39mset_xlabel(\u001b[38;5;124m'\u001b[39m\u001b[38;5;124mSamples\u001b[39m\u001b[38;5;124m'\u001b[39m)\n",
      "\u001b[0;31mNameError\u001b[0m: name 'plt' is not defined"
     ]
    }
   ],
   "source": [
    "fig, (ax1, ax2) = plt.subplots(ncols=2, constrained_layout=True, figsize=(16,4))\n",
    "\n",
    "ax1.set_title('Loss Evolution over Data Usage - %s Dataset' % dataset_name)\n",
    "ax1.set_xlabel('Samples')\n",
    "ax1.plot(samples, np.ones_like(crm_losses)*baseline_loss, '--', label='Baseline')\n",
    "ax1.plot(samples, crm_losses, 'o-', label='POEM')\n",
    "# ax1.plot(samples[1:], ucrm_losses, 'o-', label='POEM + Unif. Explo.')\n",
    "ax1.plot(samples, scrm_losses, 'o-', label='S-CRM')\n",
    "ax1.plot(samples, np.ones_like(crm_losses)*skyline_loss, '--', label='Skyline')\n",
    "#ax1.plot(samples, np.ones_like(crm_losses)*map_skyline_loss, '--', label='Skyline (MAP)')\n",
    "ax1.set_ylabel('Hamming Loss')\n",
    "ax1.grid()\n",
    "ax1.legend(loc=(1.1, .1))\n",
    "\n",
    "ax2.set_title('Cumulated Regret Evolution over Data Usage - %s Dataset' % dataset_name)\n",
    "ax2.set_xlabel('Samples')\n",
    "#ax2.set_yscale('log')\n",
    "ax2.plot(samples, np.cumsum(map_skyline_rewards) - np.cumsum(np.ones_like(crm_losses)*baseline_reward), '--', label='Baseline')\n",
    "ax2.plot(samples, np.cumsum(map_skyline_rewards) - np.cumsum(crm_rewards), '-', label='POEM')\n",
    "# ax2.plot(samples[1:], ucrm_rewards, 'o-', label='POEM + Unif. Explo.')\n",
    "ax2.plot(samples, np.cumsum(map_skyline_rewards) - np.cumsum(scrm_rewards), 'o-', label='S-CRM')\n",
    "ax2.grid()\n",
    "ax2.set_ylabel('Cumulated Regret')\n",
    "ax2.legend(loc=(1.1, .1))"
   ]
  },
  {
   "cell_type": "code",
   "execution_count": 29,
   "id": "12e79503-e2d9-45d2-be54-2c88ac89e352",
   "metadata": {},
   "outputs": [
    {
     "data": {
      "text/plain": [
       "<matplotlib.legend.Legend at 0x7f18b88f0640>"
      ]
     },
     "execution_count": 29,
     "metadata": {},
     "output_type": "execute_result"
    },
    {
     "data": {
      "image/png": "[encoded data removed]",
      "text/plain": [
       "<Figure size 432x288 with 1 Axes>"
      ]
     },
     "metadata": {
      "needs_background": "light"
     },
     "output_type": "display_data"
    }
   ],
   "source": [
    "plt.title('$\\lambda$ evolution over Data usage')\n",
    "plt.ylabel('$\\lambda$')\n",
    "plt.xlabel('samples')\n",
    "plt.plot(samples, scrm_lambdas, label='SCRM')\n",
    "plt.plot(samples, np.ones_like(scrm_lambdas)*.5, label='POEM')\n",
    "plt.grid()\n",
    "plt.legend()"
   ]
  }
 ],
 "metadata": {
  "kernelspec": {
   "display_name": "Python 3",
   "language": "python",
   "name": "python3"
  },
  "language_info": {
   "codemirror_mode": {
    "name": "ipython",
    "version": 3
   },
   "file_extension": ".py",
   "mimetype": "text/x-python",
   "name": "python",
   "nbconvert_exporter": "python",
   "pygments_lexer": "ipython3",
   "version": "3.9.12"
  }
 },
 "nbformat": 4,
 "nbformat_minor": 5
}

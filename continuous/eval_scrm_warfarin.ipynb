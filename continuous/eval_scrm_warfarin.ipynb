{
 "cells": [
  {
   "cell_type": "code",
   "execution_count": 1,
   "id": "ced34c8f",
   "metadata": {},
   "outputs": [],
   "source": [
    "import numpy as np\n",
    "import matplotlib.pyplot as plt\n",
    "from scipy.stats import norm\n",
    "import sys"
   ]
  },
  {
   "cell_type": "markdown",
   "id": "8be42522",
   "metadata": {},
   "source": [
    "### Data"
   ]
  },
  {
   "cell_type": "code",
   "execution_count": 2,
   "id": "ca167277",
   "metadata": {},
   "outputs": [],
   "source": [
    "import matplotlib.pyplot as plt"
   ]
  },
  {
   "cell_type": "code",
   "execution_count": 3,
   "id": "eba53686",
   "metadata": {},
   "outputs": [],
   "source": [
    "from utils.dataset import get_dataset_by_name\n",
    "# Data, modelling and hyperparameters setup\n"
   ]
  },
  {
   "cell_type": "code",
   "execution_count": 4,
   "id": "3e90220c",
   "metadata": {},
   "outputs": [],
   "source": [
    "class LossHistory(object):\n",
    "    \n",
    "    def __init__(self, name):\n",
    "        self.name = name\n",
    "        self.crm_loss = []\n",
    "        self.online_loss = []\n",
    "        self.betas = []\n",
    "        self.n_samples = []\n",
    "        self.n_actions = []\n",
    "        self.cumulated_loss = []\n",
    "        self.regret = []\n",
    "        \n",
    "    def update(self, beta, online_loss, regret, crm_loss, cumulated_losses, n_samples):\n",
    "        self.betas += [beta]\n",
    "        self.online_loss += [online_loss]\n",
    "        self.crm_loss += [crm_loss]\n",
    "        self.n_samples += [n_samples]\n",
    "        self.cumulated_loss += [np.sum(self.cumulated_loss) + cumulated_losses]\n",
    "        self.regret += [np.sum(self.regret) + regret*n_samples] \n",
    "        \n",
    "    def show_last(self):\n",
    "        print(\n",
    "            '<', self.name,\n",
    "            'CRM loss: %.5f' % self.crm_loss[-1],\n",
    "            'Online loss: %.5f' % self.online_loss[-1],\n",
    "            '|beta|=%.2f' % np.sqrt((self.betas[-1]**2).sum()), \n",
    "            'n=%d' % sum(self.n_samples),\n",
    "            '>',\n",
    "            file=sys.stderr\n",
    "        )\n",
    "    \n",
    "\n",
    "min_max_scaler = preprocessing.MinMaxScaler()"
   ]
  },
  {
   "cell_type": "code",
   "execution_count": 163,
   "id": "81db8262",
   "metadata": {},
   "outputs": [
    {
     "data": {
      "text/plain": [
       "array([1.        , 1.        , 0.        , 0.        , 1.        ,\n",
       "       0.55555556, 0.        , 0.69895761, 0.22287678, 0.15883553,\n",
       "       0.        , 0.        , 0.        , 0.        , 0.        ,\n",
       "       0.        , 0.        , 1.        , 0.        , 0.        ,\n",
       "       0.        , 0.        , 0.        , 0.        , 1.        ,\n",
       "       0.        , 0.        , 0.        , 0.        , 1.        ,\n",
       "       0.        , 0.        , 0.        , 0.        , 0.        ,\n",
       "       0.        , 0.        , 0.        , 0.        , 0.        ,\n",
       "       0.        , 1.        , 0.        , 0.        , 0.        ,\n",
       "       0.        , 0.        , 0.        , 0.        , 0.        ,\n",
       "       0.        , 0.        , 0.        , 0.        , 0.        ,\n",
       "       1.        , 1.        , 0.        , 0.        , 0.        ,\n",
       "       0.        , 1.        , 0.        , 0.        , 1.        ,\n",
       "       0.        , 0.        , 0.        , 0.        , 0.        ,\n",
       "       1.        , 0.        , 0.        , 0.        , 1.        ,\n",
       "       0.        , 0.        , 0.        , 0.        , 0.        ,\n",
       "       0.        ])"
      ]
     },
     "execution_count": 163,
     "metadata": {},
     "output_type": "execute_result"
    }
   ],
   "source": [
    "contexts[0]\n",
    "\n",
    "from sklearn import preprocessing\n",
    "\n",
    "scaler = preprocessing.MinMaxScaler().fit(contexts)\n",
    "\n",
    "X_scaled = scaler.transform(contexts)\n",
    "X_scaled[0]"
   ]
  },
  {
   "cell_type": "code",
   "execution_count": 211,
   "id": "3c8800c4",
   "metadata": {},
   "outputs": [],
   "source": [
    "class Model():\n",
    "    \n",
    "    def __init__(self, name, random_seed):\n",
    "        self.name = name\n",
    "        self.rng = np.random.RandomState(random_seed)\n",
    "    \n",
    "    def create_start_parameter(self, dataset):\n",
    "        d = dataset.dimension\n",
    "#         parameter_scale = dataset.parameter_scale\n",
    "        parameter_scale = 0.001\n",
    "        \n",
    "        if self.name == 'linear':\n",
    "#             return self.rng.normal(scale=0.1, size=d + 2)\n",
    "            return np.concatenate([np.array([30.]), self.rng.normal(scale=parameter_scale, size=d)])\n",
    "#             return theta\n",
    "\n",
    "        elif self.name == 'polynomial':\n",
    "            return np.concatenate([np.array([1]), self.rng.normal(scale=parameter_scale, size=d ** 2 + d)])\n",
    "        else:\n",
    "            return\n",
    "\n",
    "    def _linear_modelling(self, parameter, features):\n",
    "#         intercept_coeff, mean_coeff, var = parameter[0], parameter[1:-1], parameter[-1]\n",
    "        intercept_coeff, mean_coeff = parameter[0], parameter[1:]\n",
    "        mean = jnp.dot(features, mean_coeff) + intercept_coeff\n",
    "        return mean\n",
    "    \n",
    "    def _polynomial_modelling(self, parameter, features):\n",
    "        n = features.shape[1]\n",
    "#         intercept, coeff_lin, coeff_kern, var = parameter[0], parameter[1:n + 1], parameter[n + 1:-1], parameter[-1]\n",
    "        intercept, coeff_lin, coeff_kern = parameter[0], parameter[1:n + 1], parameter[n + 1:]\n",
    "    \n",
    "        m_linear = jnp.dot(features, coeff_lin) + intercept\n",
    "        f = jnp.einsum('ij,ih->ijh', features, features).reshape(features.shape[0], -1)\n",
    "        m_kern = jnp.dot(f, coeff_kern)\n",
    "        mean = m_kern + m_linear\n",
    "        return mean\n",
    "    \n",
    "    def get_parameter(self, parameter, features):\n",
    "        if self.name == 'linear':\n",
    "            return self._linear_modelling(parameter, features)\n",
    "        elif self.name == 'polynomial':\n",
    "            return self._polynomial_modelling(parameter, features)\n",
    "        else:\n",
    "            return  \n",
    "\n",
    "        "
   ]
  },
  {
   "cell_type": "code",
   "execution_count": 200,
   "id": "540cb409",
   "metadata": {},
   "outputs": [
    {
     "data": {
      "text/plain": [
       "array([ 3.09444191e+01, -2.99914660e-01,  2.50508140e+00, -3.54007232e-02,\n",
       "       -1.34667392e+00,  1.92025779e+00, -2.10716662e+00, -1.34182841e+01,\n",
       "       -9.25484308e-02,  3.52789084e-01, -5.32217486e-01,  2.60917045e+00,\n",
       "        2.74296594e+00, -2.14582874e+00,  2.52708359e+00, -2.37019709e-01,\n",
       "       -1.05003685e+00, -2.44087902e+00,  5.61649403e-01, -4.56842534e+00,\n",
       "       -4.32941813e+00,  9.86801612e-01, -2.23307271e-01,  1.39775252e+00,\n",
       "        6.87573480e-01, -5.37944209e-02,  2.23085096e-01,  1.48073697e+00,\n",
       "        6.38131935e-02,  9.36038587e-01, -2.22920199e+00, -3.47076115e+00,\n",
       "        1.09526395e+01,  7.42127392e+00,  8.33726884e+00,  6.79315341e+00,\n",
       "       -3.44119804e+00, -2.44403974e-02,  3.99717847e-01,  1.14192209e+01,\n",
       "        9.19962549e+00,  1.31437949e+00,  6.09866544e+00,  3.86756654e-01,\n",
       "       -1.80632783e+00,  1.54302272e+01,  9.98281616e-01,  1.16042509e+01,\n",
       "       -3.40471088e+01,  2.01003019e-01,  5.48240131e+00, -7.05481374e+00,\n",
       "       -9.34651491e-01, -3.08855438e+00, -2.48117168e+00, -7.87577318e-01,\n",
       "        3.31994721e+00,  1.60007992e+01,  8.90351608e+00,  5.66983219e+00,\n",
       "        1.09658614e+01, -7.14487815e+00, -1.42074520e+00,  6.53051042e+00,\n",
       "       -1.62842090e+00, -1.22982155e+00, -4.21955350e+00, -3.54297651e+00,\n",
       "        5.15758611e-01,  3.09743184e+00, -4.18570648e+00, -1.63455988e+00,\n",
       "        4.39643744e+00, -2.25667597e+00,  3.29645993e-02,  2.25314044e+00,\n",
       "       -3.44485882e+00, -2.97302910e+00, -4.18659558e-01,  2.41364572e+00,\n",
       "        1.54812205e+00, -6.03245434e+00])"
      ]
     },
     "execution_count": 200,
     "metadata": {},
     "output_type": "execute_result"
    }
   ],
   "source": [
    "actions, contexts, losses, propensities, potentials = dataset.get_logged_data()\n",
    "\n",
    "from sklearn.linear_model import LogisticRegression, RidgeCV\n",
    "\n",
    "pistar_determinist = RidgeCV(alphas=[1e-3, 1e-2, 1e-1, 1])\n",
    "\n",
    "pistar_determinist.fit(contexts, potentials)\n",
    "theta = np.concatenate([np.array([pistar_determinist.intercept_]), pistar_determinist.coef_])\n",
    "\n",
    "theta"
   ]
  },
  {
   "cell_type": "code",
   "execution_count": 201,
   "id": "138ff19c",
   "metadata": {},
   "outputs": [
    {
     "name": "stdout",
     "output_type": "stream",
     "text": [
      "offline 8.1593075\n",
      "online 48.58984414779437\n",
      "offline 6.6140842\n",
      "online 6.979501081267916\n",
      "offline 0.006446837\n",
      "online 92.04620196878903\n",
      "offline 0.01014757\n",
      "online 77.48122701354532\n",
      "offline 8.950615\n",
      "online 31.707360756105682\n",
      "offline 1.3685005\n",
      "online 81.90833291808823\n",
      "offline 0.0\n",
      "online 292.8436643919409\n",
      "offline 0.0\n",
      "online 228.13696224266982\n",
      "offline 1.979099\n",
      "online 64.1461619346628\n",
      "offline 5.6964245\n",
      "online 54.46331881454548\n"
     ]
    }
   ],
   "source": [
    "contextual_modelling = Model(settings['contextual_modelling'], random_seed)\n",
    "\n",
    "for _ in range(10):\n",
    "    eps = np.random.normal(0, 1, theta.shape[0])\n",
    "    contextual_param = contextual_modelling.get_parameter(theta+eps, contexts)\n",
    "    importance_weights = pdf(contextual_param, actions)/propensities\n",
    "    print('offline', np.mean(losses * importance_weights))\n",
    "    sampled_actions = np.random.normal(contextual_param, logging_scale, contexts.shape[0])\n",
    "    \n",
    "    print('online', np.mean(dataset.get_losses_from_actions(potentials, sampled_actions)))"
   ]
  },
  {
   "cell_type": "code",
   "execution_count": null,
   "id": "aacd5562",
   "metadata": {},
   "outputs": [],
   "source": []
  },
  {
   "cell_type": "code",
   "execution_count": null,
   "id": "6a54a0c8",
   "metadata": {},
   "outputs": [],
   "source": []
  },
  {
   "cell_type": "code",
   "execution_count": 202,
   "id": "c20f2560",
   "metadata": {},
   "outputs": [],
   "source": [
    "import jax\n",
    "import jax.numpy as jnp\n",
    "import jaxopt\n",
    "\n",
    "logging_scale = 1\n",
    "\n",
    "def pdf(loc, x):\n",
    "    scale = logging_scale\n",
    "    return 1/(scale * jnp.sqrt(2*jnp.pi)) * jnp.exp(-((x - loc)/scale)**2/2)\n",
    "\n",
    "class Estimator():\n",
    "    def __init__(self, contextual_modelling, mode='conservative', lbd=0.1):\n",
    "        self.contextual_modelling = contextual_modelling\n",
    "        self.mode = mode\n",
    "        bonus = 1 if self.mode == 'conservative' else -1\n",
    "        self.lbd = bonus * lbd\n",
    "        \n",
    "    def objective_function(self, param, actions, contexts, losses, propensities):\n",
    "        \n",
    "        contextual_param = self.contextual_modelling.get_parameter(param, contexts)\n",
    "        propensities = jnp.clip(propensities, 1e-5, None)\n",
    "        importance_weights = pdf(contextual_param, actions)/propensities\n",
    "        mean = jnp.mean(losses * importance_weights)\n",
    "        std = jnp.std(losses * importance_weights)\n",
    "        lambda2 = .0\n",
    "        norm_parameter = jnp.linalg.norm(param[1:])\n",
    "        return mean + self.lbd * std + lambda2 * norm_parameter\n",
    "    \n",
    "    \n",
    "def optimize(loss_fun, init_parameter, args):\n",
    "    \n",
    "#     import ipdb; ipdb.set_trace()\n",
    "    lbfgsb = jaxopt.ScipyMinimize(fun=loss_fun, method=\"L-BFGS-B\").run(init_parameter, *args)\n",
    "    lbfgs_sol = lbfgsb.params\n",
    "    lbfgs_fun_val = lbfgsb.state.fun_val\n",
    "    \n",
    "    return lbfgs_sol, lbfgs_fun_val"
   ]
  },
  {
   "cell_type": "markdown",
   "id": "37b9ff45",
   "metadata": {},
   "source": [
    "# Experiment"
   ]
  },
  {
   "cell_type": "code",
   "execution_count": 203,
   "id": "f029a99b",
   "metadata": {},
   "outputs": [],
   "source": [
    "def get_logging_data(n_samples, dataset):\n",
    "\n",
    "    start = 0\n",
    "    end = n_samples\n",
    "    \n",
    "    actions = dataset.actions_train[start:end]\n",
    "    contexts = dataset.features_train[start:end, :]\n",
    "    losses = dataset.losses_train[start:end]\n",
    "    propensities = dataset.propensities_train[start:end]\n",
    "\n",
    "    logging_data = actions, contexts, losses, propensities\n",
    "    return logging_data\n",
    "\n",
    "def sample_data(n_samples, index, dataset):\n",
    "\n",
    "    start = n_samples * index\n",
    "    end = start + n_samples\n",
    "    \n",
    "    contexts = dataset.features_train[start:end, :]\n",
    "    potentials = dataset.potentials_train[start:end]\n",
    "\n",
    "    return contexts, potentials\n",
    "\n",
    "def update_past_data(data, samples):\n",
    "    return np.hstack([data, samples])"
   ]
  },
  {
   "cell_type": "code",
   "execution_count": 204,
   "id": "f4d8ac94",
   "metadata": {},
   "outputs": [],
   "source": [
    "import os\n",
    "\n",
    "\n",
    "def online_evaluation(optimized_param, contextual_modelling, dataset, random_seed):\n",
    "    \n",
    "    rng = np.random.RandomState(random_seed)\n",
    "    contexts, potentials = dataset.test_data\n",
    "    contextual_param = contextual_modelling.get_parameter(optimized_param, contexts)\n",
    "    size = contexts.shape[0]\n",
    "    losses = []\n",
    "    \n",
    "    for i in range(10):\n",
    "        sampled_actions = rng.normal(contextual_param, logging_scale, size)\n",
    "        losses += [dataset.get_losses_from_actions(potentials, sampled_actions)]\n",
    "        \n",
    "    losses_array = np.stack(losses, axis=0)\n",
    "    var_pi = np.mean(np.var(losses_array, axis=0))\n",
    "    var_context = np.var(np.mean(losses_array, axis=1))\n",
    "    return np.mean(losses_array), np.std(np.mean(losses_array, axis=0))\n",
    "    \n",
    "def start_experiment(random_seed, dataset, name):\n",
    "    print(\n",
    "        '***', 'EXPERIMENT', name,\n",
    "        'Random seed: %i' % random_seed,\n",
    "        'Dataset: %s' % dataset.name,\n",
    "        '***',\n",
    "        file=sys.stderr\n",
    "    )"
   ]
  },
  {
   "cell_type": "code",
   "execution_count": null,
   "id": "72b3868f",
   "metadata": {},
   "outputs": [],
   "source": [
    "from blbla import Class1\n",
    "from blabla2 import\n",
    "\n",
    "ppo = Class1() \n",
    "\n",
    "ppo.mlp_network = Mlp"
   ]
  },
  {
   "cell_type": "code",
   "execution_count": 205,
   "id": "d61ff96b",
   "metadata": {},
   "outputs": [],
   "source": [
    "M = 10"
   ]
  },
  {
   "cell_type": "code",
   "execution_count": 206,
   "id": "983fac9f",
   "metadata": {},
   "outputs": [],
   "source": [
    "dataset_name = 'warfarin'\n",
    "settings = {\n",
    "    'lambda': 0.1,\n",
    "    'contextual_modelling': 'linear'\n",
    "}\n",
    "\n",
    "dataset = get_dataset_by_name(dataset_name)"
   ]
  },
  {
   "cell_type": "code",
   "execution_count": 207,
   "id": "aec65e72",
   "metadata": {},
   "outputs": [],
   "source": [
    "T = dataset.actions_train.shape[0]"
   ]
  },
  {
   "cell_type": "code",
   "execution_count": 208,
   "id": "4658b9db",
   "metadata": {},
   "outputs": [
    {
     "data": {
      "text/plain": [
       "32.25353328587548"
      ]
     },
     "execution_count": 208,
     "metadata": {},
     "output_type": "execute_result"
    }
   ],
   "source": [
    "dataset.actions_train.mean()"
   ]
  },
  {
   "cell_type": "code",
   "execution_count": 209,
   "id": "507e09f2",
   "metadata": {},
   "outputs": [
    {
     "data": {
      "text/plain": [
       "(1322,)"
      ]
     },
     "execution_count": 209,
     "metadata": {},
     "output_type": "execute_result"
    }
   ],
   "source": [
    "dataset.actions_test.shape"
   ]
  },
  {
   "cell_type": "markdown",
   "id": "af5813f4",
   "metadata": {},
   "source": [
    "### Same sampling design - CRM"
   ]
  },
  {
   "cell_type": "code",
   "execution_count": 212,
   "id": "5a54a62f",
   "metadata": {},
   "outputs": [
    {
     "name": "stderr",
     "output_type": "stream",
     "text": [
      "*** EXPERIMENT CRM Random seed: 0 Dataset: warfarin ***\n",
      "< CRM CRM loss: 0.00000 Online loss: 940.61217 |beta|=30.39 n=264 >\n",
      "< CRM CRM loss: 0.00000 Online loss: 3961.71568 |beta|=36.54 n=528 >\n",
      "< CRM CRM loss: 0.00000 Online loss: 3959.24421 |beta|=36.55 n=792 >\n",
      "< CRM CRM loss: 0.00000 Online loss: 3959.11892 |beta|=36.55 n=1056 >\n",
      "< CRM CRM loss: 0.00000 Online loss: 3960.26055 |beta|=36.54 n=1320 >\n",
      "< CRM CRM loss: 0.00000 Online loss: 3959.38964 |beta|=36.54 n=1584 >\n",
      "< CRM CRM loss: 0.00000 Online loss: 16007.86197 |beta|=90.03 n=1848 >\n",
      "< CRM CRM loss: 0.00000 Online loss: 16011.65467 |beta|=90.03 n=2112 >\n",
      "< CRM CRM loss: 0.00000 Online loss: 16030.31868 |beta|=90.02 n=2376 >\n",
      "< CRM CRM loss: 0.00000 Online loss: 16007.28516 |beta|=90.02 n=2640 >\n",
      "*** EXPERIMENT CRM Random seed: 1 Dataset: warfarin ***\n",
      "< CRM CRM loss: 0.00000 Online loss: 3930.00273 |beta|=36.70 n=264 >\n",
      "< CRM CRM loss: 0.00000 Online loss: 3890.22640 |beta|=36.69 n=528 >\n",
      "< CRM CRM loss: 0.00000 Online loss: 3828.80799 |beta|=36.68 n=792 >\n",
      "< CRM CRM loss: 0.00000 Online loss: 3890.54773 |beta|=36.69 n=1056 >\n",
      "< CRM CRM loss: 0.00000 Online loss: 14932.36463 |beta|=90.21 n=1320 >\n",
      "< CRM CRM loss: 0.00000 Online loss: 14304.91421 |beta|=90.18 n=1584 >\n",
      "< CRM CRM loss: 0.00000 Online loss: 1621.29142 |beta|=128.19 n=1848 >\n",
      "< CRM CRM loss: 0.00000 Online loss: 58538.69063 |beta|=342.34 n=2112 >\n",
      "< CRM CRM loss: 0.00000 Online loss: 15392.76205 |beta|=90.20 n=2376 >\n",
      "< CRM CRM loss: 0.00000 Online loss: 15541.48660 |beta|=90.20 n=2640 >\n",
      "*** EXPERIMENT CRM Random seed: 2 Dataset: warfarin ***\n",
      "< CRM CRM loss: 0.00000 Online loss: 933.26722 |beta|=30.44 n=264 >\n",
      "< CRM CRM loss: 0.00000 Online loss: 15630.33099 |beta|=90.25 n=528 >\n",
      "< CRM CRM loss: 0.00000 Online loss: 15911.50630 |beta|=90.26 n=792 >\n",
      "< CRM CRM loss: 0.00000 Online loss: 51280.62373 |beta|=342.19 n=1056 >\n",
      "< CRM CRM loss: 0.00000 Online loss: 63182.37394 |beta|=342.42 n=1320 >\n",
      "< CRM CRM loss: 0.00000 Online loss: 59944.76136 |beta|=342.34 n=1584 >\n",
      "< CRM CRM loss: 0.00000 Online loss: 15809.00419 |beta|=90.26 n=1848 >\n",
      "< CRM CRM loss: 0.00000 Online loss: 15696.83002 |beta|=90.27 n=2112 >\n",
      "< CRM CRM loss: 0.00000 Online loss: 15166.05140 |beta|=90.25 n=2376 >\n",
      "< CRM CRM loss: 0.00000 Online loss: 15811.19323 |beta|=90.28 n=2640 >\n",
      "*** EXPERIMENT CRM Random seed: 3 Dataset: warfarin ***\n",
      "< CRM CRM loss: 0.00000 Online loss: 3846.98781 |beta|=36.50 n=264 >\n",
      "< CRM CRM loss: 0.00000 Online loss: 3930.73933 |beta|=36.51 n=528 >\n",
      "< CRM CRM loss: 0.00000 Online loss: 3946.11493 |beta|=36.52 n=792 >\n",
      "< CRM CRM loss: 0.00000 Online loss: 3945.03747 |beta|=36.52 n=1056 >\n",
      "< CRM CRM loss: 0.00000 Online loss: 3946.22522 |beta|=36.52 n=1320 >\n",
      "< CRM CRM loss: 0.00000 Online loss: 3946.67054 |beta|=36.52 n=1584 >\n",
      "< CRM CRM loss: 0.00000 Online loss: 15921.19999 |beta|=89.97 n=1848 >\n",
      "< CRM CRM loss: 0.00000 Online loss: 15879.77312 |beta|=89.96 n=2112 >\n",
      "< CRM CRM loss: 0.00000 Online loss: 15810.79884 |beta|=89.96 n=2376 >\n",
      "< CRM CRM loss: 0.00000 Online loss: 15779.68461 |beta|=89.95 n=2640 >\n",
      "*** EXPERIMENT CRM Random seed: 4 Dataset: warfarin ***\n",
      "< CRM CRM loss: 0.00000 Online loss: 942.19280 |beta|=30.39 n=264 >\n",
      "< CRM CRM loss: 0.00000 Online loss: 942.63394 |beta|=30.39 n=528 >\n",
      "< CRM CRM loss: 0.00000 Online loss: 942.47522 |beta|=30.39 n=792 >\n",
      "< CRM CRM loss: 0.00000 Online loss: 942.80700 |beta|=30.39 n=1056 >\n",
      "< CRM CRM loss: 0.00000 Online loss: 3960.95058 |beta|=36.53 n=1320 >\n",
      "< CRM CRM loss: 0.00000 Online loss: 3960.30692 |beta|=36.54 n=1584 >\n",
      "< CRM CRM loss: 0.00000 Online loss: 3959.99396 |beta|=36.54 n=1848 >\n",
      "< CRM CRM loss: 0.00000 Online loss: 3954.41612 |beta|=36.54 n=2112 >\n",
      "< CRM CRM loss: 0.00000 Online loss: 3949.19597 |beta|=36.54 n=2376 >\n",
      "< CRM CRM loss: 0.00000 Online loss: 3951.16715 |beta|=36.54 n=2640 >\n"
     ]
    }
   ],
   "source": [
    "betas = []\n",
    "\n",
    "\n",
    "\n",
    "# actions, features, losses, propensities, potentials = dataset.sample_logged_data(n_samples=1000)\n",
    "\n",
    "crm_histories = []\n",
    "\n",
    "# optimal_mu = dataset.get_optimal_parameter(settings['contextual_modelling'])\n",
    "\n",
    "\n",
    "def crm_experiment(random_seed, dataset_name, settings):\n",
    "    \n",
    "    dataset = get_dataset_by_name(dataset_name, random_seed)\n",
    "\n",
    "    start_experiment(random_seed, dataset, 'CRM')\n",
    "    # Model setting\n",
    "    contextual_modelling = Model(settings['contextual_modelling'], random_seed)\n",
    "    estimator = Estimator(contextual_modelling, 'conservative', settings['lambda'])\n",
    "    crm_loss_history = LossHistory(\"CRM\")\n",
    "    \n",
    "    \n",
    "    # optimal_loss, _ = online_evaluation(optimal_mu, contextual_modelling, dataset, random_seed)\n",
    "\n",
    "\n",
    "    \n",
    "    n_samples = T // M\n",
    "    \n",
    "    # Logging data\n",
    "    mu = contextual_modelling.create_start_parameter(dataset)\n",
    "    init_parameter = jnp.array(mu, dtype='float32')\n",
    "    logging_data = get_logging_data(n_samples, dataset)\n",
    "    rng = np.random.RandomState(random_seed)\n",
    "    \n",
    "    actions, contexts, losses, propensities = logging_data\n",
    "#     scaler = preprocessing.MinMaxScaler().fit(contexts)\n",
    "#     contexts = scaler.transform(contexts)\n",
    "\n",
    "    for m in range(M):\n",
    "\n",
    "        # Optimization \n",
    "        args = logging_data\n",
    "        optimized_mu, loss_crm = optimize(estimator.objective_function, init_parameter, args)        \n",
    "\n",
    "        ### New logging data\n",
    "        loss_crm = loss_crm._value\n",
    "        \n",
    "        sampled_contexts, sampled_potentials = sample_data(n_samples, m, dataset)\n",
    "        contextual_param = contextual_modelling.get_parameter(mu, sampled_contexts)\n",
    "        sampled_actions = rng.normal(contextual_param, logging_scale, n_samples)\n",
    "        sampled_losses = dataset.get_losses_from_actions(sampled_potentials, sampled_actions)\n",
    "        sampled_propensities = norm(loc=contextual_param, scale=logging_scale).pdf(sampled_actions)\n",
    "        \n",
    "        cumulated_losses = np.sum(sampled_losses)\n",
    "        \n",
    "        actions = update_past_data(actions, sampled_actions)\n",
    "        contexts = np.vstack([contexts, sampled_contexts])\n",
    "#         scaler = preprocessing.MinMaxScaler().fit(contexts)\n",
    "#         contexts = scaler.transform(contexts)\n",
    "        losses = update_past_data(losses, sampled_losses)\n",
    "        propensities = update_past_data(propensities, sampled_propensities)\n",
    "        \n",
    "        logging_data = actions, contexts, losses, propensities\n",
    "\n",
    "        ## Record \n",
    "        online_loss, _ = online_evaluation(optimized_mu._value, contextual_modelling, dataset, random_seed)\n",
    "        # regret = online_loss - optimal_loss\n",
    "        regret = 0\n",
    "    \n",
    "        crm_loss_history.update(optimized_mu, online_loss, regret, loss_crm, cumulated_losses, n_samples)\n",
    "        crm_loss_history.show_last()\n",
    "        \n",
    "    return crm_loss_history\n",
    "\n",
    "\n",
    "for random_seed in range(5):\n",
    "    crm_loss_history = crm_experiment(random_seed, dataset_name, settings)\n",
    "    crm_histories.append(crm_loss_history)\n",
    "\n",
    "\n",
    "crm_losses = np.array([crm_loss_history.crm_loss for crm_loss_history in crm_histories])\n",
    "mean_crm_losses = np.mean(crm_losses, axis=0)\n",
    "\n",
    "crm_online_losses = np.array([crm_loss_history.online_loss for crm_loss_history in crm_histories])\n",
    "mean_crm_online_losses = np.mean(crm_online_losses, axis=0)\n",
    "\n",
    "crm_cumulated_losses = np.array([crm_loss_history.cumulated_loss for crm_loss_history in crm_histories])\n",
    "mean_crm_cumulated_losses = np.nanmean(crm_cumulated_losses, axis=0)\n",
    "\n",
    "crm_regrets = np.array([crm_loss_history.regret for crm_loss_history in crm_histories])\n",
    "mean_crm_regrets = np.nanmean(crm_regrets, axis=0)"
   ]
  },
  {
   "cell_type": "markdown",
   "id": "6af873c4",
   "metadata": {},
   "source": [
    "### Sequential CRM - Myopic"
   ]
  },
  {
   "cell_type": "code",
   "execution_count": 130,
   "id": "1d583083",
   "metadata": {
    "scrolled": true
   },
   "outputs": [
    {
     "name": "stderr",
     "output_type": "stream",
     "text": [
      "*** EXPERIMENT SCRM Myopic Random seed: 0 Dataset: warfarin ***\n",
      "< SCRM-M CRM loss: 44.80391 Online loss: 26.42633 |beta|=3.00 n=264 >\n",
      "< SCRM-M CRM loss: 3.95186 Online loss: 31.63879 |beta|=4.71 n=528 >\n",
      "< SCRM-M CRM loss: 32.96450 Online loss: 31.63879 |beta|=4.71 n=792 >\n",
      "< SCRM-M CRM loss: 34.14581 Online loss: 31.63879 |beta|=4.71 n=1056 >\n",
      "< SCRM-M CRM loss: 34.90332 Online loss: 31.63879 |beta|=4.71 n=1320 >\n",
      "< SCRM-M CRM loss: 0.00000 Online loss: 21.81705 |beta|=7.38 n=1584 >\n",
      "< SCRM-M CRM loss: 22.88211 Online loss: 21.81705 |beta|=7.38 n=1848 >\n",
      "< SCRM-M CRM loss: 20.71470 Online loss: 21.81705 |beta|=7.38 n=2112 >\n",
      "< SCRM-M CRM loss: 20.69583 Online loss: 21.81705 |beta|=7.38 n=2376 >\n",
      "< SCRM-M CRM loss: 23.00777 Online loss: 21.81705 |beta|=7.38 n=2640 >\n",
      "*** EXPERIMENT SCRM Myopic Random seed: 1 Dataset: warfarin ***\n",
      "< SCRM-M CRM loss: 25.18871 Online loss: 26.84751 |beta|=3.00 n=264 >\n",
      "< SCRM-M CRM loss: 34.92263 Online loss: 26.84751 |beta|=3.00 n=528 >\n",
      "< SCRM-M CRM loss: 34.72805 Online loss: 26.84751 |beta|=3.00 n=792 >\n",
      "< SCRM-M CRM loss: 37.66280 Online loss: 26.84751 |beta|=3.00 n=1056 >\n",
      "< SCRM-M CRM loss: 35.89634 Online loss: 26.84751 |beta|=3.00 n=1320 >\n",
      "< SCRM-M CRM loss: 34.30550 Online loss: 26.84751 |beta|=3.00 n=1584 >\n",
      "< SCRM-M CRM loss: 35.73947 Online loss: 26.84751 |beta|=3.00 n=1848 >\n",
      "< SCRM-M CRM loss: 36.46922 Online loss: 26.84751 |beta|=3.00 n=2112 >\n",
      "< SCRM-M CRM loss: 35.28011 Online loss: 26.84751 |beta|=3.00 n=2376 >\n",
      "< SCRM-M CRM loss: 35.68881 Online loss: 26.84751 |beta|=3.00 n=2640 >\n",
      "*** EXPERIMENT SCRM Myopic Random seed: 2 Dataset: warfarin ***\n",
      "< SCRM-M CRM loss: 39.51346 Online loss: 28.12165 |beta|=3.00 n=264 >\n",
      "< SCRM-M CRM loss: 39.30130 Online loss: 28.12165 |beta|=3.00 n=528 >\n",
      "< SCRM-M CRM loss: 37.18018 Online loss: 28.12165 |beta|=3.00 n=792 >\n",
      "< SCRM-M CRM loss: 38.01869 Online loss: 28.12165 |beta|=3.00 n=1056 >\n",
      "< SCRM-M CRM loss: 39.19077 Online loss: 28.12165 |beta|=3.00 n=1320 >\n",
      "< SCRM-M CRM loss: 38.52188 Online loss: 28.12165 |beta|=3.00 n=1584 >\n",
      "< SCRM-M CRM loss: 40.23831 Online loss: 28.12165 |beta|=3.00 n=1848 >\n",
      "< SCRM-M CRM loss: 39.54462 Online loss: 28.12165 |beta|=3.00 n=2112 >\n",
      "< SCRM-M CRM loss: 39.34182 Online loss: 28.12165 |beta|=3.00 n=2376 >\n",
      "< SCRM-M CRM loss: 37.56836 Online loss: 28.12165 |beta|=3.00 n=2640 >\n",
      "*** EXPERIMENT SCRM Myopic Random seed: 3 Dataset: warfarin ***\n",
      "< SCRM-M CRM loss: 34.90646 Online loss: 26.83081 |beta|=3.00 n=264 >\n",
      "< SCRM-M CRM loss: 35.39079 Online loss: 26.83081 |beta|=3.00 n=528 >\n",
      "< SCRM-M CRM loss: 36.33580 Online loss: 26.83081 |beta|=3.00 n=792 >\n",
      "< SCRM-M CRM loss: 37.35686 Online loss: 26.83081 |beta|=3.00 n=1056 >\n",
      "< SCRM-M CRM loss: 37.29893 Online loss: 26.83081 |beta|=3.00 n=1320 >\n",
      "< SCRM-M CRM loss: 38.34979 Online loss: 26.83081 |beta|=3.00 n=1584 >\n",
      "< SCRM-M CRM loss: 37.31263 Online loss: 26.83081 |beta|=3.00 n=1848 >\n",
      "< SCRM-M CRM loss: 35.50758 Online loss: 26.83081 |beta|=3.00 n=2112 >\n",
      "< SCRM-M CRM loss: 36.49731 Online loss: 26.83081 |beta|=3.00 n=2376 >\n",
      "< SCRM-M CRM loss: 36.07205 Online loss: 26.83081 |beta|=3.00 n=2640 >\n",
      "*** EXPERIMENT SCRM Myopic Random seed: 4 Dataset: warfarin ***\n",
      "< SCRM-M CRM loss: 15.58566 Online loss: 25.36183 |beta|=3.00 n=264 >\n",
      "< SCRM-M CRM loss: 32.49287 Online loss: 25.36183 |beta|=3.00 n=528 >\n",
      "< SCRM-M CRM loss: 34.54097 Online loss: 25.36183 |beta|=3.00 n=792 >\n",
      "< SCRM-M CRM loss: 34.59088 Online loss: 25.36183 |beta|=3.00 n=1056 >\n",
      "< SCRM-M CRM loss: 32.92058 Online loss: 25.36183 |beta|=3.00 n=1320 >\n",
      "< SCRM-M CRM loss: 32.57469 Online loss: 25.36183 |beta|=3.00 n=1584 >\n",
      "< SCRM-M CRM loss: 33.94597 Online loss: 25.36183 |beta|=3.00 n=1848 >\n",
      "< SCRM-M CRM loss: 32.34278 Online loss: 25.36183 |beta|=3.00 n=2112 >\n",
      "< SCRM-M CRM loss: 34.64584 Online loss: 25.36183 |beta|=3.00 n=2376 >\n",
      "< SCRM-M CRM loss: 33.44032 Online loss: 25.36183 |beta|=3.00 n=2640 >\n"
     ]
    }
   ],
   "source": [
    "scrm_m_histories = []\n",
    "\n",
    "settings = {\n",
    "    'lambda': 0.0,\n",
    "    'contextual_modelling': 'linear'\n",
    "}\n",
    "\n",
    "\n",
    "def scrm_myopic_experiment(random_seed, dataset_name, settings):\n",
    "    \n",
    "    dataset = get_dataset_by_name(dataset_name, random_seed)\n",
    "    start_experiment(random_seed, dataset, 'SCRM Myopic')\n",
    "    \n",
    "    # Model setting\n",
    "    contextual_modelling = Model(settings['contextual_modelling'], random_seed)\n",
    "    estimator = Estimator(contextual_modelling, 'conservative', settings['lambda'])\n",
    "    scrm_m_loss_history = LossHistory(\"SCRM-M\")\n",
    "\n",
    "    n_samples = T // M\n",
    "#     optimal_loss, _ = online_evaluation(optimal_mu, contextual_modelling, dataset, random_seed)\n",
    "    \n",
    "    # Logging data\n",
    "    mu = contextual_modelling.create_start_parameter(dataset)\n",
    "    logging_data = get_logging_data(n_samples, dataset)\n",
    "    rng = np.random.RandomState(random_seed)\n",
    "    \n",
    "    for m in range(M):\n",
    "\n",
    "        # Optimization \n",
    "        init_parameter = jnp.array(mu, dtype='float32')\n",
    "        args = logging_data\n",
    "        optimized_mu, loss_crm = optimize(estimator.objective_function, init_parameter, args)        \n",
    "\n",
    "        ### New logging data\n",
    "        mu = optimized_mu._value\n",
    "        loss_crm = loss_crm._value\n",
    "        \n",
    "        contexts, potentials = sample_data(n_samples, m, dataset)\n",
    "        contextual_param = contextual_modelling.get_parameter(mu, contexts)\n",
    "        actions = rng.normal(contextual_param, logging_scale, n_samples)\n",
    "        losses = dataset.get_losses_from_actions(potentials, actions)\n",
    "        propensities = norm(loc=contextual_param, scale=logging_scale).pdf(actions)\n",
    "        logging_data = actions, contexts, losses, propensities\n",
    "\n",
    "        ## Record \n",
    "        online_loss, _ = online_evaluation(mu, contextual_modelling, dataset, random_seed)\n",
    "#         regret = online_loss - optimal_loss\n",
    "        regret = 0\n",
    "        cumulated_losses = np.sum(losses)\n",
    "        \n",
    "        scrm_m_loss_history.update(optimized_mu, online_loss, regret, loss_crm, cumulated_losses, n_samples)\n",
    "        scrm_m_loss_history.show_last()\n",
    "    \n",
    "    return scrm_m_loss_history\n",
    "\n",
    "for random_seed in range(5):\n",
    "    scrm_m_loss_history = scrm_myopic_experiment(random_seed, dataset_name, settings)\n",
    "    scrm_m_histories.append(scrm_m_loss_history)\n",
    "\n",
    "scrm_m_losses = np.array([scrm_m_loss_history.crm_loss for scrm_m_loss_history in scrm_m_histories])\n",
    "mean_scrm_m_losses = np.mean(scrm_m_losses, axis=0)\n",
    "\n",
    "scrm_m_online_losses = np.array([scrm_m_loss_history.online_loss for scrm_m_loss_history in scrm_m_histories])\n",
    "mean_scrm_m_online_losses = np.mean(scrm_m_online_losses, axis=0)\n",
    "\n",
    "scrm_m_cumulated_losses = np.array([scrm_m_loss_history.cumulated_loss for scrm_m_loss_history in scrm_m_histories])\n",
    "mean_scrm_m_cumulated_losses = np.nanmean(scrm_m_cumulated_losses, axis=0)\n",
    "\n",
    "scrm_m_regrets = np.array([scrm_m_loss_history.regret for scrm_m_loss_history in scrm_m_histories])\n",
    "mean_scrm_m_regrets = np.nanmean(scrm_m_regrets, axis=0)"
   ]
  },
  {
   "cell_type": "code",
   "execution_count": 53,
   "id": "c0c89a48",
   "metadata": {},
   "outputs": [
    {
     "data": {
      "text/plain": [
       "<matplotlib.legend.Legend at 0x7f9009e14f70>"
      ]
     },
     "execution_count": 53,
     "metadata": {},
     "output_type": "execute_result"
    },
    {
     "data": {
      "image/png": "[encoded data removed]",
      "text/plain": [
       "<Figure size 432x288 with 1 Axes>"
      ]
     },
     "metadata": {
      "needs_background": "light"
     },
     "output_type": "display_data"
    }
   ],
   "source": [
    "plt.figure()\n",
    "plt.title('Loss Evolution over Rollouts')\n",
    "plt.xlabel('Rollouts')\n",
    "plt.plot(mean_crm_online_losses, '-', label='CRM')\n",
    "plt.plot(mean_scrm_m_online_losses, '-.', label='SCRM-M')\n",
    "plt.ylabel('Loss')\n",
    "plt.legend(loc='upper right')\n",
    "\n"
   ]
  },
  {
   "cell_type": "code",
   "execution_count": 47,
   "id": "64e1d17c",
   "metadata": {},
   "outputs": [
    {
     "data": {
      "image/png": "[encoded data removed]",
      "text/plain": [
       "<Figure size 432x288 with 1 Axes>"
      ]
     },
     "metadata": {
      "needs_background": "light"
     },
     "output_type": "display_data"
    }
   ],
   "source": [
    "plt.xlabel('Rollouts')\n",
    "plt.ylabel('Cumulated Reward')\n",
    "plt.plot(-mean_crm_cumulated_losses, '--', label='CRM')\n",
    "plt.plot(-mean_scrm_m_cumulated_losses, '--', label='SCRM-M')\n",
    "plt.legend(loc='upper right')\n",
    "plt.yscale('log')"
   ]
  },
  {
   "cell_type": "markdown",
   "id": "65cc7dbf",
   "metadata": {},
   "source": [
    "## Sequential with past information"
   ]
  },
  {
   "cell_type": "markdown",
   "id": "2d4f52be",
   "metadata": {},
   "source": [
    "### Naive Multi IPS"
   ]
  },
  {
   "cell_type": "code",
   "execution_count": 32,
   "id": "9d315f0a",
   "metadata": {},
   "outputs": [],
   "source": [
    "### Utilities\n",
    "\n",
    "def get_all_data(logging_actions, logging_contexts, logging_losses, logging_propensities):\n",
    "    all_logging_actions = np.concatenate(logging_actions)\n",
    "    all_logging_contexts = np.concatenate(logging_contexts)\n",
    "    all_logging_losses = np.concatenate(logging_losses)\n",
    "    all_logging_propensities = np.concatenate(logging_propensities)\n",
    "    return all_logging_actions, all_logging_contexts, all_logging_losses, all_logging_propensities\n",
    "\n",
    "def update_past_data(data, samples):\n",
    "    return np.hstack([data, samples])"
   ]
  },
  {
   "cell_type": "code",
   "execution_count": 98,
   "id": "64d883c9",
   "metadata": {},
   "outputs": [
    {
     "name": "stderr",
     "output_type": "stream",
     "text": [
      "*** EXPERIMENT Naive MultiIPS SCRM Random seed: 0 Dataset: warfarin ***\n",
      "< SCRM-NMIPS CRM loss: 3.49311 Online loss: 21.15391 |beta|=3.08 n=264 >\n",
      "< SCRM-NMIPS CRM loss: 8.59056 Online loss: 20.43255 |beta|=4.45 n=528 >\n",
      "< SCRM-NMIPS CRM loss: 12.03445 Online loss: 20.14461 |beta|=4.45 n=792 >\n",
      "< SCRM-NMIPS CRM loss: 3.72962 Online loss: 14.45230 |beta|=5.47 n=1056 >\n",
      "< SCRM-NMIPS CRM loss: 4.16718 Online loss: 12.93001 |beta|=5.57 n=1320 >\n",
      "< SCRM-NMIPS CRM loss: 5.44194 Online loss: 12.99360 |beta|=5.57 n=1584 >\n",
      "< SCRM-NMIPS CRM loss: 6.77913 Online loss: 12.91535 |beta|=5.57 n=1848 >\n",
      "< SCRM-NMIPS CRM loss: 5.71585 Online loss: 11.71271 |beta|=5.56 n=2112 >\n",
      "< SCRM-NMIPS CRM loss: 0.75649 Online loss: 8.83897 |beta|=6.09 n=2376 >\n",
      "< SCRM-NMIPS CRM loss: 1.44235 Online loss: 8.87832 |beta|=6.09 n=2640 >\n",
      "*** EXPERIMENT Naive MultiIPS SCRM Random seed: 1 Dataset: warfarin ***\n",
      "< SCRM-NMIPS CRM loss: 11.62540 Online loss: 26.61723 |beta|=3.00 n=264 >\n",
      "< SCRM-NMIPS CRM loss: 3.88881 Online loss: 30.44188 |beta|=3.49 n=528 >\n",
      "< SCRM-NMIPS CRM loss: 10.76027 Online loss: 30.66577 |beta|=3.49 n=792 >\n",
      "< SCRM-NMIPS CRM loss: 4.83361 Online loss: 34.55621 |beta|=3.83 n=1056 >\n",
      "< SCRM-NMIPS CRM loss: 7.02959 Online loss: 33.38539 |beta|=4.62 n=1320 >\n",
      "< SCRM-NMIPS CRM loss: 8.80640 Online loss: 33.28272 |beta|=4.83 n=1584 >\n",
      "< SCRM-NMIPS CRM loss: 9.16548 Online loss: 33.95677 |beta|=5.24 n=1848 >\n",
      "< SCRM-NMIPS CRM loss: 12.55284 Online loss: 33.95677 |beta|=5.24 n=2112 >\n",
      "< SCRM-NMIPS CRM loss: 12.75662 Online loss: 34.44821 |beta|=5.58 n=2376 >\n",
      "< SCRM-NMIPS CRM loss: 14.46626 Online loss: 34.41708 |beta|=5.61 n=2640 >\n",
      "*** EXPERIMENT Naive MultiIPS SCRM Random seed: 2 Dataset: warfarin ***\n",
      "< SCRM-NMIPS CRM loss: 0.00008 Online loss: 32.96147 |beta|=3.00 n=264 >\n",
      "< SCRM-NMIPS CRM loss: 9.82627 Online loss: 31.09938 |beta|=3.00 n=528 >\n",
      "< SCRM-NMIPS CRM loss: 16.80169 Online loss: 31.01334 |beta|=3.00 n=792 >\n",
      "< SCRM-NMIPS CRM loss: 20.41460 Online loss: 30.93071 |beta|=3.00 n=1056 >\n",
      "< SCRM-NMIPS CRM loss: 22.80198 Online loss: 30.85050 |beta|=3.00 n=1320 >\n",
      "< SCRM-NMIPS CRM loss: 24.30402 Online loss: 30.79552 |beta|=3.00 n=1584 >\n",
      "< SCRM-NMIPS CRM loss: 22.55626 Online loss: 30.37955 |beta|=3.01 n=1848 >\n",
      "< SCRM-NMIPS CRM loss: 0.01085 Online loss: 1798.98796 |beta|=1374.79 n=2112 >\n",
      "< SCRM-NMIPS CRM loss: 0.01743 Online loss: 1799.79133 |beta|=1374.80 n=2376 >\n",
      "< SCRM-NMIPS CRM loss: 0.04670 Online loss: 1808.05717 |beta|=1376.25 n=2640 >\n",
      "*** EXPERIMENT Naive MultiIPS SCRM Random seed: 3 Dataset: warfarin ***\n",
      "< SCRM-NMIPS CRM loss: 0.00001 Online loss: 32.11191 |beta|=3.00 n=264 >\n",
      "< SCRM-NMIPS CRM loss: 0.00030 Online loss: 41.60886 |beta|=3.00 n=528 >\n",
      "< SCRM-NMIPS CRM loss: 1.44905 Online loss: 36.62671 |beta|=3.00 n=792 >\n",
      "< SCRM-NMIPS CRM loss: 10.36263 Online loss: 36.40930 |beta|=3.00 n=1056 >\n",
      "< SCRM-NMIPS CRM loss: 4.06495 Online loss: 35.07143 |beta|=3.28 n=1320 >\n",
      "< SCRM-NMIPS CRM loss: 9.09017 Online loss: 34.47335 |beta|=3.28 n=1584 >\n",
      "< SCRM-NMIPS CRM loss: 10.02156 Online loss: 32.91589 |beta|=3.78 n=1848 >\n",
      "< SCRM-NMIPS CRM loss: 2.40831 Online loss: 34.88773 |beta|=35.09 n=2112 >\n",
      "< SCRM-NMIPS CRM loss: 5.44069 Online loss: 35.16445 |beta|=35.10 n=2376 >\n",
      "< SCRM-NMIPS CRM loss: 8.44277 Online loss: 35.34744 |beta|=35.10 n=2640 >\n",
      "*** EXPERIMENT Naive MultiIPS SCRM Random seed: 4 Dataset: warfarin ***\n",
      "< SCRM-NMIPS CRM loss: 2.73519 Online loss: 28.06924 |beta|=3.14 n=264 >\n",
      "< SCRM-NMIPS CRM loss: 0.00016 Online loss: 38.47226 |beta|=3.14 n=528 >\n",
      "< SCRM-NMIPS CRM loss: 0.00000 Online loss: 47.61444 |beta|=3.14 n=792 >\n",
      "< SCRM-NMIPS CRM loss: 0.00002 Online loss: 62.58592 |beta|=3.14 n=1056 >\n",
      "< SCRM-NMIPS CRM loss: 0.74256 Online loss: 55.56915 |beta|=3.15 n=1320 >\n",
      "< SCRM-NMIPS CRM loss: 3.64951 Online loss: 51.43431 |beta|=3.40 n=1584 >\n",
      "< SCRM-NMIPS CRM loss: 9.81737 Online loss: 50.88527 |beta|=3.43 n=1848 >\n",
      "< SCRM-NMIPS CRM loss: 0.93900 Online loss: 26.01949 |beta|=9.18 n=2112 >\n",
      "< SCRM-NMIPS CRM loss: 3.37139 Online loss: 25.76552 |beta|=9.20 n=2376 >\n",
      "< SCRM-NMIPS CRM loss: 5.59323 Online loss: 25.76552 |beta|=9.20 n=2640 >\n"
     ]
    }
   ],
   "source": [
    "scrm_nmips_histories = []\n",
    "\n",
    "def scrm_nmips_experiment(random_seed, dataset_name, settings):\n",
    "\n",
    "    dataset = get_dataset_by_name(dataset_name, random_seed)\n",
    "    start_experiment(random_seed, dataset, 'Naive MultiIPS SCRM')\n",
    "    \n",
    "    # Model setting\n",
    "    contextual_modelling = Model(settings['contextual_modelling'], random_seed)\n",
    "    estimator = Estimator(contextual_modelling, 'conservative', settings['lambda'])\n",
    "    scrm_nmips_loss_history = LossHistory(\"SCRM-NMIPS\")\n",
    "    \n",
    "    n_samples = T // M\n",
    "#     optimal_loss, _ = online_evaluation(optimal_mu, contextual_modelling, dataset, random_seed)\n",
    "    \n",
    "    # Logging data\n",
    "    mu = contextual_modelling.create_start_parameter(dataset)\n",
    "    logging_data = get_logging_data(n_samples, dataset)\n",
    "    rng = np.random.RandomState(random_seed)\n",
    "    \n",
    "    # Setting\n",
    "    all_actions, all_contexts, all_losses, all_propensities = logging_data\n",
    "    \n",
    "    for m in range(M):\n",
    "\n",
    "        ### Logging data with mixture propensities\n",
    "        logging_data = all_actions, all_contexts, all_losses, all_propensities\n",
    "\n",
    "        # Optimization \n",
    "        init_parameter = jnp.array(mu, dtype='float32')\n",
    "        args = logging_data\n",
    "        optimized_mu, loss_crm = optimize(estimator.objective_function, init_parameter, args)        \n",
    "        \n",
    "        ### New logging data\n",
    "        mu = optimized_mu._value\n",
    "        loss_crm = loss_crm._value\n",
    "        \n",
    "        contexts, potentials = sample_data(n_samples, m, dataset)\n",
    "        contextual_param = contextual_modelling.get_parameter(mu, contexts)\n",
    "        actions = rng.normal(contextual_param, logging_scale, n_samples)\n",
    "        losses = dataset.get_losses_from_actions(potentials, actions)\n",
    "        propensities = norm(loc=contextual_param, scale=logging_scale).pdf(actions)\n",
    "        logging_data = actions, contexts, losses, propensities\n",
    "        \n",
    "        ## Record \n",
    "        online_loss, _ = online_evaluation(mu, contextual_modelling, dataset, random_seed)\n",
    "#         regret = online_loss - optimal_loss\n",
    "        regret = 0\n",
    "        cumulated_losses = np.sum(losses)\n",
    "        scrm_nmips_loss_history.update(optimized_mu, online_loss, regret, loss_crm, cumulated_losses, n_samples)\n",
    "        scrm_nmips_loss_history.show_last()\n",
    "        \n",
    "        all_actions = update_past_data(all_actions, actions)\n",
    "        all_contexts = np.vstack([all_contexts, contexts])\n",
    "        all_losses = update_past_data(all_losses, losses)\n",
    "        all_propensities = update_past_data(all_propensities, propensities)\n",
    "        \n",
    "    return scrm_nmips_loss_history\n",
    "\n",
    "for random_seed in range(5):\n",
    "    scrm_nmips_loss_history = scrm_nmips_experiment(random_seed, dataset_name, settings)\n",
    "    scrm_nmips_histories.append(scrm_nmips_loss_history)\n",
    "\n",
    "scrm_nmips_losses = np.array([scrm_nmips_loss_history.crm_loss for scrm_nmips_loss_history in scrm_nmips_histories])\n",
    "mean_scrm_nmips_losses = np.nanmean(scrm_nmips_losses, axis=0)\n",
    "\n",
    "scrm_nmips_online_losses = np.array([scrm_nmips_loss_history.online_loss for scrm_nmips_loss_history in scrm_nmips_histories])\n",
    "mean_scrm_nmips_online_losses = np.nanmean(scrm_nmips_online_losses, axis=0)\n",
    "\n",
    "scrm_nmips_cumulated_losses = np.array([scrm_nmips_loss_history.cumulated_loss for scrm_nmips_loss_history in scrm_nmips_histories])\n",
    "mean_scrm_nmips_cumulated_losses = np.nanmean(scrm_nmips_cumulated_losses, axis=0)\n",
    "\n",
    "scrm_nmips_regrets = np.array([scrm_nmips_loss_history.regret for scrm_nmips_loss_history in scrm_nmips_histories])\n",
    "mean_scrm_nmips_regrets = np.nanmean(scrm_nmips_regrets, axis=0)"
   ]
  },
  {
   "cell_type": "markdown",
   "id": "1d922a55",
   "metadata": {},
   "source": [
    "### Multi data "
   ]
  },
  {
   "cell_type": "code",
   "execution_count": 69,
   "id": "c52556db",
   "metadata": {},
   "outputs": [],
   "source": [
    "### Multiple IPS\n",
    "\n",
    "def get_omega_weights(params, all_actions, all_contexts, all_propensities):\n",
    "    distributions = []\n",
    "    for param in params:\n",
    "        contextual_param = linear_modelling(param, all_contexts)\n",
    "        distributions.append(norm(loc=contextual_param, scale=logging_scale).pdf)\n",
    "    pi_t = np.array([distribution(all_actions) for distribution in distributions])\n",
    "    n_pi_t = n_samples * pi_t\n",
    "    sum_n_pi_t = np.sum(n_pi_t, axis=0)\n",
    "    all_omegas = all_propensities / sum_n_pi_t\n",
    "    return all_omegas\n",
    "\n",
    "def multi_ips_mean(param, all_actions, all_contexts, all_losses, all_propensities, all_omegas):\n",
    "    \n",
    "    # Importance weights\n",
    "    contextual_param = linear_modelling(param, all_contexts)\n",
    "    importance_weights = pdf(contextual_param, all_actions)/all_propensities\n",
    "    all_importance_weights = pdf(contextual_param, all_actions)/all_propensities\n",
    "    \n",
    "    # Omega weight\n",
    "    return np.sum(all_omegas * all_losses * all_importance_weights)\n",
    "\n",
    "class MixtureEstimator():\n",
    "    def __init__(self, contextual_modelling, mode='conservative', lbd=0.1):\n",
    "        self.contextual_modelling = contextual_modelling\n",
    "        self.mode = mode\n",
    "        bonus = 1 if self.mode == 'conservative' else -1\n",
    "        self.lbd = bonus * lbd\n",
    "        self.params = []\n",
    "        self.rollouts_n_samples = []\n",
    "        \n",
    "    def get_mixture_logging_propensities(self, all_policy_samples, all_contexts):\n",
    "        distributions = []\n",
    "\n",
    "        for param in self.params:\n",
    "            contextual_param = self.contextual_modelling.get_parameter(param, all_contexts)\n",
    "            distributions.append(norm(loc=contextual_param, scale=logging_scale).pdf)\n",
    "        pi_t = np.array([distribution(all_policy_samples) for distribution in distributions])\n",
    "        alpha_t = self.rollouts_n_samples/ np.sum(self.rollouts_n_samples)\n",
    "        mixture_logging_propensities = np.sum(alpha_t * pi_t, axis=0)\n",
    "        return mixture_logging_propensities\n",
    "        \n",
    "    def objective_function(self, param, actions, contexts, losses, mixture_propensities):\n",
    "        contextual_param = self.contextual_modelling.get_parameter(param, contexts)\n",
    "        mixture_propensities = jnp.clip(mixture_propensities, 1e-5, None)\n",
    "        mixture_importance_weights = pdf(contextual_param, actions)/mixture_propensities\n",
    "        mixture_mean = jnp.mean(losses * mixture_importance_weights)\n",
    "        mixture_std = jnp.sqrt(jnp.sum(jnp.cov(losses * mixture_importance_weights)))\n",
    "        return mixture_mean + self.lbd * mixture_std\n",
    "    \n",
    "    def update(self, param, rollout_n_samples):\n",
    "        self.params.append(param)\n",
    "        self.rollouts_n_samples = np.concatenate([self.rollouts_n_samples, [[rollout_n_samples]]], axis=0)\n",
    "\n"
   ]
  },
  {
   "cell_type": "code",
   "execution_count": 186,
   "id": "f54d4424",
   "metadata": {
    "scrolled": false
   },
   "outputs": [
    {
     "name": "stderr",
     "output_type": "stream",
     "text": [
      "*** EXPERIMENT Mixture MultiIPS SCRM Random seed: 0 Dataset: warfarin ***\n",
      "< SCRM-MMIPS CRM loss: 0.00000 Online loss: 280.30501 |beta|=13.40 n=264 >\n",
      "< SCRM-MMIPS CRM loss: 0.00000 Online loss: 280.58014 |beta|=13.52 n=528 >\n",
      "< SCRM-MMIPS CRM loss: 0.00000 Online loss: 280.51642 |beta|=13.52 n=792 >\n",
      "< SCRM-MMIPS CRM loss: 0.00000 Online loss: 280.49020 |beta|=13.54 n=1056 >\n",
      "< SCRM-MMIPS CRM loss: 0.00000 Online loss: 280.49020 |beta|=13.54 n=1320 >\n",
      "< SCRM-MMIPS CRM loss: 0.00000 Online loss: 280.49020 |beta|=13.54 n=1584 >\n",
      "< SCRM-MMIPS CRM loss: 0.00000 Online loss: 280.49020 |beta|=13.54 n=1848 >\n",
      "< SCRM-MMIPS CRM loss: 0.00000 Online loss: 280.49020 |beta|=13.54 n=2112 >\n",
      "< SCRM-MMIPS CRM loss: 0.00000 Online loss: 280.49020 |beta|=13.54 n=2376 >\n",
      "< SCRM-MMIPS CRM loss: 0.00000 Online loss: 280.49020 |beta|=13.54 n=2640 >\n",
      "*** EXPERIMENT Mixture MultiIPS SCRM Random seed: 1 Dataset: warfarin ***\n",
      "< SCRM-MMIPS CRM loss: 0.00000 Online loss: 26.76441 |beta|=42.08 n=264 >\n",
      "< SCRM-MMIPS CRM loss: 0.00000 Online loss: 87.86593 |beta|=42.18 n=528 >\n",
      "< SCRM-MMIPS CRM loss: 0.00001 Online loss: 51.02945 |beta|=41.16 n=792 >\n",
      "< SCRM-MMIPS CRM loss: 0.06137 Online loss: 2616.85575 |beta|=96.20 n=1056 >\n",
      "< SCRM-MMIPS CRM loss: 0.01818 Online loss: 6017.20177 |beta|=202.34 n=1320 >\n",
      "< SCRM-MMIPS CRM loss: 0.01562 Online loss: 6966.79308 |beta|=254.34 n=1584 >\n",
      "< SCRM-MMIPS CRM loss: 0.01901 Online loss: 6971.13243 |beta|=254.42 n=1848 >\n",
      "< SCRM-MMIPS CRM loss: 0.01988 Online loss: 6971.20227 |beta|=254.42 n=2112 >\n",
      "< SCRM-MMIPS CRM loss: 0.02024 Online loss: 6971.21400 |beta|=254.42 n=2376 >\n",
      "< SCRM-MMIPS CRM loss: 0.02054 Online loss: 6971.21459 |beta|=254.42 n=2640 >\n",
      "*** EXPERIMENT Mixture MultiIPS SCRM Random seed: 2 Dataset: warfarin ***\n",
      "< SCRM-MMIPS CRM loss: 0.00001 Online loss: 14.45345 |beta|=15.41 n=264 >\n",
      "< SCRM-MMIPS CRM loss: 0.00001 Online loss: 13.96848 |beta|=15.41 n=528 >\n",
      "< SCRM-MMIPS CRM loss: 0.00001 Online loss: 13.93595 |beta|=15.42 n=792 >\n",
      "< SCRM-MMIPS CRM loss: 0.00001 Online loss: 13.92284 |beta|=15.42 n=1056 >\n",
      "< SCRM-MMIPS CRM loss: 0.00001 Online loss: 13.92284 |beta|=15.42 n=1320 >\n",
      "< SCRM-MMIPS CRM loss: 0.00001 Online loss: 13.92284 |beta|=15.42 n=1584 >\n",
      "< SCRM-MMIPS CRM loss: 0.00001 Online loss: 13.91477 |beta|=15.43 n=1848 >\n",
      "< SCRM-MMIPS CRM loss: 0.00001 Online loss: 13.91477 |beta|=15.43 n=2112 >\n",
      "< SCRM-MMIPS CRM loss: 0.00001 Online loss: 13.91477 |beta|=15.43 n=2376 >\n",
      "< SCRM-MMIPS CRM loss: 0.00001 Online loss: 13.91477 |beta|=15.43 n=2640 >\n",
      "*** EXPERIMENT Mixture MultiIPS SCRM Random seed: 3 Dataset: warfarin ***\n",
      "< SCRM-MMIPS CRM loss: 0.00000 Online loss: 85.46989 |beta|=3.01 n=264 >\n",
      "< SCRM-MMIPS CRM loss: 0.00000 Online loss: 88.66963 |beta|=3.39 n=528 >\n",
      "< SCRM-MMIPS CRM loss: 0.00000 Online loss: 88.66963 |beta|=3.39 n=792 >\n",
      "< SCRM-MMIPS CRM loss: 0.00000 Online loss: 88.66963 |beta|=3.39 n=1056 >\n",
      "< SCRM-MMIPS CRM loss: 0.00000 Online loss: 88.66963 |beta|=3.39 n=1320 >\n",
      "< SCRM-MMIPS CRM loss: 0.00000 Online loss: 88.66963 |beta|=3.39 n=1584 >\n",
      "< SCRM-MMIPS CRM loss: 0.00000 Online loss: 88.66963 |beta|=3.39 n=1848 >\n",
      "< SCRM-MMIPS CRM loss: 0.00000 Online loss: 88.66963 |beta|=3.39 n=2112 >\n",
      "< SCRM-MMIPS CRM loss: 0.00000 Online loss: 88.66963 |beta|=3.39 n=2376 >\n",
      "< SCRM-MMIPS CRM loss: 0.00000 Online loss: 88.66963 |beta|=3.39 n=2640 >\n",
      "*** EXPERIMENT Mixture MultiIPS SCRM Random seed: 4 Dataset: warfarin ***\n",
      "< SCRM-MMIPS CRM loss: 0.00000 Online loss: 353.46313 |beta|=11.02 n=264 >\n",
      "< SCRM-MMIPS CRM loss: 0.00000 Online loss: 353.63502 |beta|=12.02 n=528 >\n",
      "< SCRM-MMIPS CRM loss: 0.00001 Online loss: 353.57403 |beta|=12.02 n=792 >\n",
      "< SCRM-MMIPS CRM loss: 0.00001 Online loss: 353.57403 |beta|=12.02 n=1056 >\n",
      "< SCRM-MMIPS CRM loss: 0.00000 Online loss: 353.62320 |beta|=12.38 n=1320 >\n",
      "< SCRM-MMIPS CRM loss: 0.00000 Online loss: 353.62320 |beta|=12.38 n=1584 >\n",
      "< SCRM-MMIPS CRM loss: 0.00000 Online loss: 353.62320 |beta|=12.38 n=1848 >\n",
      "< SCRM-MMIPS CRM loss: 0.00000 Online loss: 353.62320 |beta|=12.38 n=2112 >\n",
      "< SCRM-MMIPS CRM loss: 0.00000 Online loss: 353.62320 |beta|=12.38 n=2376 >\n",
      "< SCRM-MMIPS CRM loss: 0.00000 Online loss: 353.62320 |beta|=12.38 n=2640 >\n"
     ]
    }
   ],
   "source": [
    "scrm_mips_histories = []\n",
    "\n",
    "def scrm_mixture_mips_experiment(random_seed, dataset_name, settings):\n",
    "\n",
    "    dataset = get_dataset_by_name(dataset_name, random_seed)\n",
    "    start_experiment(random_seed, dataset, 'Mixture MultiIPS SCRM')\n",
    "    \n",
    "    # Model setting\n",
    "    contextual_modelling = Model(settings['contextual_modelling'], random_seed)\n",
    "    estimator = MixtureEstimator(contextual_modelling, 'conservative', settings['lambda'])\n",
    "    scrm_mmips_loss_history = LossHistory(\"SCRM-MMIPS\")\n",
    "    \n",
    "    n_samples = T // M\n",
    "#     optimal_loss, _ = online_evaluation(optimal_mu, contextual_modelling, dataset, random_seed)\n",
    "    \n",
    "    # Logging data\n",
    "    mu = contextual_modelling.create_start_parameter(dataset)\n",
    "    logging_data = get_logging_data(n_samples, dataset)\n",
    "    rng = np.random.RandomState(random_seed)\n",
    "    \n",
    "    # Setting\n",
    "    estimator.params.append(mu)\n",
    "    estimator.rollouts_n_samples = np.array([[n_samples]])\n",
    "    all_actions, all_contexts, all_losses, all_propensities = logging_data\n",
    "    \n",
    "    scaler = preprocessing.MinMaxScaler().fit(all_contexts)\n",
    "    all_contexts = scaler.transform(all_contexts)\n",
    "\n",
    "    for m in range(M):\n",
    "\n",
    "        mixture_logging_propensities = estimator.get_mixture_logging_propensities(all_actions, all_contexts)\n",
    "\n",
    "        ### Logging data with mixture propensities\n",
    "        logging_data = all_actions, all_contexts, all_losses, mixture_logging_propensities\n",
    "\n",
    "        # Optimization \n",
    "        init_parameter = jnp.array(mu, dtype='float32')\n",
    "        args = logging_data\n",
    "        optimized_mu, loss_crm = optimize(estimator.objective_function, init_parameter, args)        \n",
    "        \n",
    "        ### New logging data\n",
    "        mu = optimized_mu._value\n",
    "        loss_crm = loss_crm._value\n",
    "        estimator.update(optimized_mu, n_samples)\n",
    "        \n",
    "        contexts, potentials = sample_data(n_samples, m, dataset)\n",
    "        contextual_param = contextual_modelling.get_parameter(mu, contexts)\n",
    "        actions = rng.normal(contextual_param, logging_scale, n_samples)\n",
    "        losses = dataset.get_losses_from_actions(potentials, actions)\n",
    "        propensities = norm(loc=contextual_param, scale=logging_scale).pdf(actions)\n",
    "        logging_data = actions, contexts, losses, propensities\n",
    "        \n",
    "        ## Record \n",
    "        online_loss, _ = online_evaluation(mu, contextual_modelling, dataset, random_seed)\n",
    "#         regret = online_loss - optimal_loss\n",
    "        regret = 0\n",
    "        cumulated_losses = np.sum(losses)\n",
    "        \n",
    "        scrm_mmips_loss_history.update(optimized_mu, online_loss, regret, loss_crm, cumulated_losses, n_samples)\n",
    "        scrm_mmips_loss_history.show_last()\n",
    "        \n",
    "        all_actions = update_past_data(all_actions, actions)\n",
    "        all_contexts = np.vstack([all_contexts, contexts])\n",
    "        all_losses = update_past_data(all_losses, losses)\n",
    "        all_propensities = update_past_data(all_propensities, propensities)\n",
    "        scaler = preprocessing.MinMaxScaler().fit(all_contexts)\n",
    "        all_contexts = scaler.transform(all_contexts)\n",
    "        \n",
    "    return scrm_mmips_loss_history\n",
    "\n",
    "for random_seed in range(5):\n",
    "    scrm_mmips_loss_history = scrm_mixture_mips_experiment(random_seed, dataset_name, settings)\n",
    "    scrm_mips_histories.append(scrm_mmips_loss_history)\n",
    "        \n",
    "scrm_mmips_losses = np.array([scrm_mmips_loss_history.crm_loss for scrm_mmips_loss_history in scrm_mips_histories])\n",
    "mean_scrm_mmips_losses = np.nanmean(scrm_mmips_losses, axis=0)\n",
    "\n",
    "scrm_mmips_online_losses = np.array([scrm_mmips_loss_history.online_loss for scrm_mmips_loss_history in scrm_mips_histories])\n",
    "mean_scrm_mmips_online_losses = np.nanmean(scrm_mmips_online_losses, axis=0)\n",
    "\n",
    "scrm_mmips_cumulated_losses = np.array([scrm_mmips_loss_history.cumulated_loss for scrm_mmips_loss_history in scrm_mips_histories])\n",
    "mean_scrm_mmips_cumulated_losses = np.nanmean(scrm_mmips_cumulated_losses, axis=0)\n",
    "\n",
    "scrm_mmips_regrets = np.array([scrm_mmips_loss_history.regret for scrm_mmips_loss_history in scrm_mips_histories])\n",
    "mean_scrm_mmips_regrets = np.nanmean(scrm_mmips_regrets, axis=0)"
   ]
  },
  {
   "cell_type": "markdown",
   "id": "dcdf18b8",
   "metadata": {},
   "source": [
    "### Plot results"
   ]
  },
  {
   "cell_type": "code",
   "execution_count": 49,
   "id": "6099f057",
   "metadata": {},
   "outputs": [
    {
     "data": {
      "text/plain": [
       "<matplotlib.legend.Legend at 0x7fa2d0c10fa0>"
      ]
     },
     "execution_count": 49,
     "metadata": {},
     "output_type": "execute_result"
    },
    {
     "data": {
      "image/png": "[encoded data removed]",
      "text/plain": [
       "<Figure size 1296x432 with 2 Axes>"
      ]
     },
     "metadata": {},
     "output_type": "display_data"
    }
   ],
   "source": [
    "fig, (ax, ax2) = plt.subplots(1, 2, figsize=(18, 6))\n",
    "plt.title('Loss Evolution over Rollouts')\n",
    "ax.set_xlabel('Rollouts')\n",
    "ax.set_ylabel('CRM Loss')\n",
    "ax.plot(mean_crm_losses, '--', label='CRM')\n",
    "ax.plot(mean_scrm_m_losses, '--', label='SCRM-M')\n",
    "ax.plot(mean_scrm_nmips_losses, '--', label='SCRM-NMIPS')\n",
    "ax.plot(mean_scrm_mmips_losses, '--', label='SCRM-MMIPS')\n",
    "ax.set_ylim(-0.8, -0.4)\n",
    "ax.legend(loc='upper right')\n",
    "\n",
    "ax2.plot(mean_crm_online_losses, '-', label='CRM')\n",
    "ax2.plot(mean_scrm_m_online_losses, '-.', label='SCRM-M')\n",
    "ax2.plot(mean_scrm_nmips_online_losses, '-.', label='SCRM-NMIPS')\n",
    "ax2.plot(mean_scrm_mmips_online_losses,'-.', label='SCRM-MMIPS')\n",
    "# ax2.plot(batch_kucb_online_losses, label='Batch-KUCB')\n",
    "# ax2.plot(batch_sbpe_online_losses, label='SBPE')\n",
    "\n",
    "ax2.set_ylabel('Online Loss')\n",
    "ax2.legend(loc='upper right')"
   ]
  },
  {
   "cell_type": "markdown",
   "id": "8c38c823",
   "metadata": {},
   "source": [
    "### SCRM vs CRM"
   ]
  },
  {
   "cell_type": "code",
   "execution_count": 53,
   "id": "e7b8d7b6",
   "metadata": {},
   "outputs": [
    {
     "data": {
      "image/png": "[encoded data removed]",
      "text/plain": [
       "<Figure size 1296x432 with 2 Axes>"
      ]
     },
     "metadata": {},
     "output_type": "display_data"
    }
   ],
   "source": [
    "fig, (ax, ax2) = plt.subplots(1, 2, figsize=(18, 6))\n",
    "plt.title('Loss Evolution over Rollouts')\n",
    "ax.set_xlabel('Rollouts')\n",
    "ax.plot(mean_crm_online_losses, '-', label='CRM')\n",
    "ax.plot(mean_scrm_m_online_losses, '-.', label='SCRM-M')\n",
    "ax.plot(mean_scrm_nmips_online_losses, '-.', label='SCRM-NMIPS')\n",
    "ax.plot(mean_scrm_mmips_online_losses,'-.', label='SCRM-MMIPS')\n",
    "ax.set_ylabel('Loss')\n",
    "ax.legend(loc='upper right')\n",
    "\n",
    "# ax2.set_xlabel('Rollouts')\n",
    "# ax2.set_ylabel('Regret')\n",
    "# ax2.plot(mean_crm_regrets, '--', label='CRM')\n",
    "# ax2.plot(mean_scrm_m_regrets, '--', label='SCRM-M')\n",
    "# ax2.plot(mean_scrm_nmips_regrets, '--', label='SCRM-NMIPS')\n",
    "# ax2.plot(mean_scrm_mmips_regrets, '--', label='SCRM-MMIPS')\n",
    "# ax2.legend(loc='lower right')\n",
    "# ax2.set_yscale('log')\n",
    "\n",
    "ax2.set_xlabel('Rollouts')\n",
    "ax2.set_ylabel('Cumulated Reward')\n",
    "ax2.plot(-mean_crm_cumulated_losses, '--', label='CRM')\n",
    "ax2.plot(-mean_scrm_m_cumulated_losses, '--', label='SCRM-M')\n",
    "ax2.plot(-mean_scrm_nmips_cumulated_losses, '-.', label='Batch-KUCB')\n",
    "ax2.plot(-mean_scrm_mmips_cumulated_losses,'-.', label='SBPE')\n",
    "ax2.legend(loc='upper right')\n",
    "ax2.set_yscale('log')\n",
    "\n",
    "# ax2.plot(batch_kucb_online_losses, label='Batch-KUCB')\n",
    "# ax2.plot(batch_sbpe_online_losses, label='SBPE')\n",
    "\n"
   ]
  },
  {
   "cell_type": "markdown",
   "id": "3e49f307",
   "metadata": {},
   "source": [
    "### SCRM vs baselines"
   ]
  },
  {
   "cell_type": "code",
   "execution_count": 16,
   "id": "416cf67a",
   "metadata": {},
   "outputs": [
    {
     "ename": "NameError",
     "evalue": "name 'mean_scrm_m_online_losses' is not defined",
     "output_type": "error",
     "traceback": [
      "\u001b[0;31m---------------------------------------------------------------------------\u001b[0m",
      "\u001b[0;31mNameError\u001b[0m                                 Traceback (most recent call last)",
      "\u001b[0;32m/var/folders/wq/cfl_16c14vg6jh8tsb6vn6zw0000gp/T/ipykernel_12010/3517016777.py\u001b[0m in \u001b[0;36m<module>\u001b[0;34m\u001b[0m\n\u001b[1;32m      3\u001b[0m \u001b[0max\u001b[0m\u001b[0;34m.\u001b[0m\u001b[0mset_xlabel\u001b[0m\u001b[0;34m(\u001b[0m\u001b[0;34m'Rollouts'\u001b[0m\u001b[0;34m)\u001b[0m\u001b[0;34m\u001b[0m\u001b[0;34m\u001b[0m\u001b[0m\n\u001b[1;32m      4\u001b[0m \u001b[0;31m# ax.plot(mean_crm_online_losses, '-', label='CRM')\u001b[0m\u001b[0;34m\u001b[0m\u001b[0;34m\u001b[0m\u001b[0m\n\u001b[0;32m----> 5\u001b[0;31m \u001b[0max\u001b[0m\u001b[0;34m.\u001b[0m\u001b[0mplot\u001b[0m\u001b[0;34m(\u001b[0m\u001b[0mmean_scrm_m_online_losses\u001b[0m\u001b[0;34m,\u001b[0m \u001b[0;34m'-.'\u001b[0m\u001b[0;34m,\u001b[0m \u001b[0mlabel\u001b[0m\u001b[0;34m=\u001b[0m\u001b[0;34m'SCRM-M'\u001b[0m\u001b[0;34m)\u001b[0m\u001b[0;34m\u001b[0m\u001b[0;34m\u001b[0m\u001b[0m\n\u001b[0m\u001b[1;32m      6\u001b[0m \u001b[0max\u001b[0m\u001b[0;34m.\u001b[0m\u001b[0mplot\u001b[0m\u001b[0;34m(\u001b[0m\u001b[0mbatch_kucb_online_losses\u001b[0m\u001b[0;34m,\u001b[0m \u001b[0;34m'-.'\u001b[0m\u001b[0;34m,\u001b[0m \u001b[0mlabel\u001b[0m\u001b[0;34m=\u001b[0m\u001b[0;34m'Batch-KUCB'\u001b[0m\u001b[0;34m)\u001b[0m\u001b[0;34m\u001b[0m\u001b[0;34m\u001b[0m\u001b[0m\n\u001b[1;32m      7\u001b[0m \u001b[0max\u001b[0m\u001b[0;34m.\u001b[0m\u001b[0mplot\u001b[0m\u001b[0;34m(\u001b[0m\u001b[0mbatch_sbpe_online_losses\u001b[0m\u001b[0;34m,\u001b[0m\u001b[0;34m'-.'\u001b[0m\u001b[0;34m,\u001b[0m \u001b[0mlabel\u001b[0m\u001b[0;34m=\u001b[0m\u001b[0;34m'SBPE'\u001b[0m\u001b[0;34m)\u001b[0m\u001b[0;34m\u001b[0m\u001b[0;34m\u001b[0m\u001b[0m\n",
      "\u001b[0;31mNameError\u001b[0m: name 'mean_scrm_m_online_losses' is not defined"
     ]
    },
    {
     "data": {
      "image/png": "[encoded data removed]",
      "text/plain": [
       "<Figure size 1296x432 with 2 Axes>"
      ]
     },
     "metadata": {},
     "output_type": "display_data"
    }
   ],
   "source": [
    "fig, (ax, ax2) = plt.subplots(1, 2, figsize=(18, 6))\n",
    "plt.title('Loss Evolution over Rollouts')\n",
    "ax.set_xlabel('Rollouts')\n",
    "# ax.plot(mean_crm_online_losses, '-', label='CRM')\n",
    "ax.plot(mean_scrm_m_online_losses, '-.', label='SCRM-M')\n",
    "ax.plot(batch_kucb_online_losses, '-.', label='Batch-KUCB')\n",
    "ax.plot(batch_sbpe_online_losses,'-.', label='SBPE')\n",
    "ax.set_ylabel('Loss')\n",
    "ax.legend(loc='upper right')\n",
    "\n",
    "ax2.set_xlabel('Rollouts')\n",
    "ax2.set_ylabel('Cumulated Loss')\n",
    "# ax2.plot(mean_crm_cumulated_losses, '--', label='CRM')\n",
    "ax2.plot(mean_scrm_m_cumulated_losses, '--', label='SCRM-M')\n",
    "ax2.plot(batch_kucb_cumulated_losses, '-.', label='Batch-KUCB')\n",
    "ax2.plot(batch_sbpe_cumulated_losses,'-.', label='SBPE')\n",
    "ax2.legend(loc='upper right')\n",
    "\n",
    "\n",
    "# ax2.plot(batch_kucb_online_losses, label='Batch-KUCB')\n",
    "# ax2.plot(batch_sbpe_online_losses, label='SBPE')\n",
    "\n"
   ]
  },
  {
   "cell_type": "markdown",
   "id": "c22dcbfc",
   "metadata": {},
   "source": [
    "# Batch bandits"
   ]
  },
  {
   "cell_type": "code",
   "execution_count": 4,
   "id": "12d11c95",
   "metadata": {},
   "outputs": [],
   "source": [
    "from src.batch_bandits import Polynomial, BatchKernelUCB, SBPE\n",
    "\n",
    "from tqdm import tqdm\n",
    "\n",
    "class Environment:\n",
    "\n",
    "    def __init__(self, dataset, n_logging_samples):\n",
    "        self.dataset = dataset\n",
    "        self.n_logging_samples = n_logging_samples\n",
    "\n",
    "    def sample_data(self, n):\n",
    "        return self.dataset.sample_data(n_samples=n)\n",
    "\n",
    "    def sample_reward(self, actions, labels):\n",
    "        actions = np.squeeze(actions)\n",
    "        return - self.dataset.get_losses_from_actions(labels, actions)\n",
    "\n",
    "    def get_anchor_points(self):\n",
    "        return np.arange(-5, 5, 0.5)\n",
    "    \n",
    "    def get_logging_data(self):\n",
    "        actions, contexts, losses, _, _ = self.dataset.sample_logged_data(self.n_logging_samples)\n",
    "        return actions, contexts, -losses\n",
    "\n",
    "\n",
    "def instantiate_metrics():\n",
    "    return {\n",
    "        'time': [],\n",
    "        'online_loss': [],\n",
    "        'regret': [],\n",
    "        'cumulated_loss': [],\n",
    "    }\n",
    "\n"
   ]
  },
  {
   "cell_type": "code",
   "execution_count": 56,
   "id": "b58a4724",
   "metadata": {},
   "outputs": [
    {
     "name": "stderr",
     "output_type": "stream",
     "text": [
      "*** EXPERIMENT Batch-KUCB Random seed: 0 Dataset: noisymoons ***\n",
      " 40%|█████████████████▌                          | 4/10 [00:00<00:00, 15.38it/s]"
     ]
    },
    {
     "name": "stdout",
     "output_type": "stream",
     "text": [
      "Rollout 0, Online reward: 0.6001645922660828\n",
      "Rollout 1, Online reward: 0.4699372947216034\n",
      "Rollout 2, Online reward: 0.693317711353302\n",
      "Rollout 3, Online reward: 0.6968349814414978\n",
      "Rollout 4, Online reward: 0.7173887491226196\n"
     ]
    },
    {
     "name": "stderr",
     "output_type": "stream",
     "text": [
      "\r",
      " 60%|██████████████████████████▍                 | 6/10 [00:00<00:00,  6.78it/s]"
     ]
    },
    {
     "name": "stdout",
     "output_type": "stream",
     "text": [
      "Rollout 5, Online reward: 0.7113978266716003\n",
      "Rollout 6, Online reward: 0.6822718977928162\n"
     ]
    },
    {
     "name": "stderr",
     "output_type": "stream",
     "text": [
      "\r",
      " 80%|███████████████████████████████████▏        | 8/10 [00:08<00:03,  1.67s/it]"
     ]
    },
    {
     "name": "stdout",
     "output_type": "stream",
     "text": [
      "Rollout 7, Online reward: 0.6839162111282349\n"
     ]
    },
    {
     "name": "stderr",
     "output_type": "stream",
     "text": [
      "\r",
      " 90%|███████████████████████████████████████▌    | 9/10 [00:56<00:11, 11.71s/it]"
     ]
    },
    {
     "name": "stdout",
     "output_type": "stream",
     "text": [
      "Rollout 8, Online reward: 0.5668196678161621\n"
     ]
    },
    {
     "name": "stderr",
     "output_type": "stream",
     "text": [
      "100%|███████████████████████████████████████████| 10/10 [06:59<00:00, 41.95s/it]\n",
      "*** EXPERIMENT Batch-KUCB Random seed: 1 Dataset: noisymoons ***\n"
     ]
    },
    {
     "name": "stdout",
     "output_type": "stream",
     "text": [
      "Rollout 9, Online reward: -0.022950319573283195\n"
     ]
    },
    {
     "name": "stderr",
     "output_type": "stream",
     "text": [
      " 20%|████████▊                                   | 2/10 [00:00<00:00, 15.28it/s]"
     ]
    },
    {
     "name": "stdout",
     "output_type": "stream",
     "text": [
      "Rollout 0, Online reward: 0.6204380989074707\n",
      "Rollout 1, Online reward: 0.7318664193153381\n",
      "Rollout 2, Online reward: 0.6358234286308289\n"
     ]
    },
    {
     "name": "stderr",
     "output_type": "stream",
     "text": [
      "\r",
      " 40%|█████████████████▌                          | 4/10 [00:00<00:00, 12.24it/s]"
     ]
    },
    {
     "name": "stdout",
     "output_type": "stream",
     "text": [
      "Rollout 3, Online reward: 0.6977288126945496\n",
      "Rollout 4, Online reward: 0.7297350168228149\n"
     ]
    },
    {
     "name": "stderr",
     "output_type": "stream",
     "text": [
      "\r",
      " 60%|██████████████████████████▍                 | 6/10 [00:00<00:00,  5.46it/s]"
     ]
    },
    {
     "name": "stdout",
     "output_type": "stream",
     "text": [
      "Rollout 5, Online reward: 0.7264930605888367\n"
     ]
    },
    {
     "name": "stderr",
     "output_type": "stream",
     "text": [
      "\r",
      " 70%|██████████████████████████████▊             | 7/10 [00:02<00:01,  1.95it/s]"
     ]
    },
    {
     "name": "stdout",
     "output_type": "stream",
     "text": [
      "Rollout 6, Online reward: 0.694107174873352\n"
     ]
    },
    {
     "name": "stderr",
     "output_type": "stream",
     "text": [
      "\r",
      " 80%|███████████████████████████████████▏        | 8/10 [00:09<00:04,  2.29s/it]"
     ]
    },
    {
     "name": "stdout",
     "output_type": "stream",
     "text": [
      "Rollout 7, Online reward: 0.6625233292579651\n"
     ]
    },
    {
     "name": "stderr",
     "output_type": "stream",
     "text": [
      " 80%|███████████████████████████████████▏        | 8/10 [00:20<00:05,  2.62s/it]\n"
     ]
    },
    {
     "ename": "KeyboardInterrupt",
     "evalue": "",
     "output_type": "error",
     "traceback": [
      "\u001b[0;31m---------------------------------------------------------------------------\u001b[0m",
      "\u001b[0;31mKeyboardInterrupt\u001b[0m                         Traceback (most recent call last)",
      "\u001b[0;32m/var/folders/wq/cfl_16c14vg6jh8tsb6vn6zw0000gp/T/ipykernel_12010/1850290811.py\u001b[0m in \u001b[0;36m<module>\u001b[0;34m\u001b[0m\n\u001b[1;32m     61\u001b[0m \u001b[0;34m\u001b[0m\u001b[0m\n\u001b[1;32m     62\u001b[0m \u001b[0;32mfor\u001b[0m \u001b[0mrandom_seed\u001b[0m \u001b[0;32min\u001b[0m \u001b[0mrange\u001b[0m\u001b[0;34m(\u001b[0m\u001b[0;36m5\u001b[0m\u001b[0;34m)\u001b[0m\u001b[0;34m:\u001b[0m\u001b[0;34m\u001b[0m\u001b[0;34m\u001b[0m\u001b[0m\n\u001b[0;32m---> 63\u001b[0;31m     \u001b[0monline_losses\u001b[0m\u001b[0;34m,\u001b[0m \u001b[0mcumulated_losses\u001b[0m \u001b[0;34m=\u001b[0m \u001b[0mbatch_bandit_experiment\u001b[0m\u001b[0;34m(\u001b[0m\u001b[0mrandom_seed\u001b[0m\u001b[0;34m,\u001b[0m \u001b[0mdataset_name\u001b[0m\u001b[0;34m,\u001b[0m \u001b[0msettings\u001b[0m\u001b[0;34m)\u001b[0m\u001b[0;34m\u001b[0m\u001b[0;34m\u001b[0m\u001b[0m\n\u001b[0m\u001b[1;32m     64\u001b[0m     \u001b[0mbatch_bandit_online_losses\u001b[0m\u001b[0;34m.\u001b[0m\u001b[0mappend\u001b[0m\u001b[0;34m(\u001b[0m\u001b[0monline_losses\u001b[0m\u001b[0;34m)\u001b[0m\u001b[0;34m\u001b[0m\u001b[0;34m\u001b[0m\u001b[0m\n\u001b[1;32m     65\u001b[0m     \u001b[0mbatch_bandit_cumulated_losses\u001b[0m\u001b[0;34m.\u001b[0m\u001b[0mappend\u001b[0m\u001b[0;34m(\u001b[0m\u001b[0mcumulated_losses\u001b[0m\u001b[0;34m)\u001b[0m\u001b[0;34m\u001b[0m\u001b[0;34m\u001b[0m\u001b[0m\n",
      "\u001b[0;32m/var/folders/wq/cfl_16c14vg6jh8tsb6vn6zw0000gp/T/ipykernel_12010/1850290811.py\u001b[0m in \u001b[0;36mbatch_bandit_experiment\u001b[0;34m(random_seed, dataset_name, settings)\u001b[0m\n\u001b[1;32m     39\u001b[0m         \u001b[0mcontexts\u001b[0m\u001b[0;34m,\u001b[0m \u001b[0mlabels\u001b[0m \u001b[0;34m=\u001b[0m \u001b[0menv\u001b[0m\u001b[0;34m.\u001b[0m\u001b[0msample_data\u001b[0m\u001b[0;34m(\u001b[0m\u001b[0mn\u001b[0m\u001b[0;34m=\u001b[0m\u001b[0mbatch_size\u001b[0m\u001b[0;34m)\u001b[0m\u001b[0;34m\u001b[0m\u001b[0;34m\u001b[0m\u001b[0m\n\u001b[1;32m     40\u001b[0m         \u001b[0;31m# iterate learning algorithm for 1 round.\u001b[0m\u001b[0;34m\u001b[0m\u001b[0;34m\u001b[0m\u001b[0m\n\u001b[0;32m---> 41\u001b[0;31m         \u001b[0mactions\u001b[0m \u001b[0;34m=\u001b[0m \u001b[0magent\u001b[0m\u001b[0;34m.\u001b[0m\u001b[0msample_actions\u001b[0m\u001b[0;34m(\u001b[0m\u001b[0mcontexts\u001b[0m\u001b[0;34m)\u001b[0m\u001b[0;34m\u001b[0m\u001b[0;34m\u001b[0m\u001b[0m\n\u001b[0m\u001b[1;32m     42\u001b[0m         \u001b[0mrewards\u001b[0m \u001b[0;34m=\u001b[0m \u001b[0menv\u001b[0m\u001b[0;34m.\u001b[0m\u001b[0msample_reward\u001b[0m\u001b[0;34m(\u001b[0m\u001b[0mactions\u001b[0m\u001b[0;34m,\u001b[0m \u001b[0mlabels\u001b[0m\u001b[0;34m)\u001b[0m\u001b[0;34m\u001b[0m\u001b[0;34m\u001b[0m\u001b[0m\n\u001b[1;32m     43\u001b[0m \u001b[0;34m\u001b[0m\u001b[0m\n",
      "\u001b[0;32m~/Documents/Work/Projects/CRM/continuous/src/batch_bandits.py\u001b[0m in \u001b[0;36msample_actions\u001b[0;34m(self, contexts)\u001b[0m\n\u001b[1;32m    142\u001b[0m         \u001b[0mS\u001b[0m\u001b[0;34m,\u001b[0m \u001b[0mrewards\u001b[0m \u001b[0;34m=\u001b[0m \u001b[0mself\u001b[0m\u001b[0;34m.\u001b[0m\u001b[0mget_story_data\u001b[0m\u001b[0;34m(\u001b[0m\u001b[0;34m)\u001b[0m\u001b[0;34m\u001b[0m\u001b[0;34m\u001b[0m\u001b[0m\n\u001b[1;32m    143\u001b[0m         \u001b[0margs\u001b[0m \u001b[0;34m=\u001b[0m \u001b[0mself\u001b[0m\u001b[0;34m.\u001b[0m\u001b[0mK_matrix_inverse\u001b[0m\u001b[0;34m,\u001b[0m \u001b[0mS\u001b[0m\u001b[0;34m,\u001b[0m \u001b[0mrewards\u001b[0m\u001b[0;34m\u001b[0m\u001b[0;34m\u001b[0m\u001b[0m\n\u001b[0;32m--> 144\u001b[0;31m         \u001b[0;32mreturn\u001b[0m \u001b[0mself\u001b[0m\u001b[0;34m.\u001b[0m\u001b[0mcontinuous_inference\u001b[0m\u001b[0;34m(\u001b[0m\u001b[0mcontexts\u001b[0m\u001b[0;34m,\u001b[0m \u001b[0margs\u001b[0m\u001b[0;34m)\u001b[0m\u001b[0;34m\u001b[0m\u001b[0;34m\u001b[0m\u001b[0m\n\u001b[0m\u001b[1;32m    145\u001b[0m \u001b[0;34m\u001b[0m\u001b[0m\n\u001b[1;32m    146\u001b[0m     \u001b[0;32mdef\u001b[0m \u001b[0mcontinuous_inference\u001b[0m\u001b[0;34m(\u001b[0m\u001b[0mself\u001b[0m\u001b[0;34m,\u001b[0m \u001b[0mcontexts\u001b[0m\u001b[0;34m,\u001b[0m \u001b[0margs\u001b[0m\u001b[0;34m)\u001b[0m\u001b[0;34m:\u001b[0m\u001b[0;34m\u001b[0m\u001b[0;34m\u001b[0m\u001b[0m\n",
      "\u001b[0;32m~/Documents/Work/Projects/CRM/continuous/src/batch_bandits.py\u001b[0m in \u001b[0;36mcontinuous_inference\u001b[0;34m(self, contexts, args)\u001b[0m\n\u001b[1;32m    147\u001b[0m         \u001b[0mnb_gradient_steps\u001b[0m \u001b[0;34m=\u001b[0m \u001b[0;36m0\u001b[0m\u001b[0;34m\u001b[0m\u001b[0;34m\u001b[0m\u001b[0m\n\u001b[1;32m    148\u001b[0m         \u001b[0;32mif\u001b[0m \u001b[0mnb_gradient_steps\u001b[0m \u001b[0;34m==\u001b[0m \u001b[0;36m0\u001b[0m\u001b[0;34m:\u001b[0m\u001b[0;34m\u001b[0m\u001b[0;34m\u001b[0m\u001b[0m\n\u001b[0;32m--> 149\u001b[0;31m             \u001b[0;32mreturn\u001b[0m \u001b[0mself\u001b[0m\u001b[0;34m.\u001b[0m\u001b[0mdiscrete_inference\u001b[0m\u001b[0;34m(\u001b[0m\u001b[0mcontexts\u001b[0m\u001b[0;34m,\u001b[0m \u001b[0margs\u001b[0m\u001b[0;34m)\u001b[0m\u001b[0;34m\u001b[0m\u001b[0;34m\u001b[0m\u001b[0m\n\u001b[0m\u001b[1;32m    150\u001b[0m         \u001b[0;32melse\u001b[0m\u001b[0;34m:\u001b[0m\u001b[0;34m\u001b[0m\u001b[0;34m\u001b[0m\u001b[0m\n\u001b[1;32m    151\u001b[0m             \u001b[0;32mdef\u001b[0m \u001b[0mfunc\u001b[0m\u001b[0;34m(\u001b[0m\u001b[0maction\u001b[0m\u001b[0;34m)\u001b[0m\u001b[0;34m:\u001b[0m\u001b[0;34m\u001b[0m\u001b[0;34m\u001b[0m\u001b[0m\n",
      "\u001b[0;32m~/Documents/Work/Projects/CRM/continuous/src/batch_bandits.py\u001b[0m in \u001b[0;36mdiscrete_inference\u001b[0;34m(self, contexts, args)\u001b[0m\n\u001b[1;32m    174\u001b[0m     \u001b[0;32mdef\u001b[0m \u001b[0mdiscrete_inference\u001b[0m\u001b[0;34m(\u001b[0m\u001b[0mself\u001b[0m\u001b[0;34m,\u001b[0m \u001b[0mcontexts\u001b[0m\u001b[0;34m,\u001b[0m \u001b[0margs\u001b[0m\u001b[0;34m)\u001b[0m\u001b[0;34m:\u001b[0m\u001b[0;34m\u001b[0m\u001b[0;34m\u001b[0m\u001b[0m\n\u001b[1;32m    175\u001b[0m         \u001b[0mgrid\u001b[0m \u001b[0;34m=\u001b[0m \u001b[0mself\u001b[0m\u001b[0;34m.\u001b[0m\u001b[0maction_anchors\u001b[0m\u001b[0;34m\u001b[0m\u001b[0;34m\u001b[0m\u001b[0m\n\u001b[0;32m--> 176\u001b[0;31m         \u001b[0mucb_all_actions\u001b[0m \u001b[0;34m=\u001b[0m \u001b[0mself\u001b[0m\u001b[0;34m.\u001b[0m\u001b[0mget_ucb_actions\u001b[0m\u001b[0;34m(\u001b[0m\u001b[0mcontexts\u001b[0m\u001b[0;34m,\u001b[0m \u001b[0mgrid\u001b[0m\u001b[0;34m,\u001b[0m \u001b[0margs\u001b[0m\u001b[0;34m)\u001b[0m\u001b[0;34m\u001b[0m\u001b[0;34m\u001b[0m\u001b[0m\n\u001b[0m\u001b[1;32m    177\u001b[0m         \u001b[0midx\u001b[0m \u001b[0;34m=\u001b[0m \u001b[0mjnp\u001b[0m\u001b[0;34m.\u001b[0m\u001b[0margmax\u001b[0m\u001b[0;34m(\u001b[0m\u001b[0mucb_all_actions\u001b[0m\u001b[0;34m,\u001b[0m \u001b[0maxis\u001b[0m\u001b[0;34m=\u001b[0m\u001b[0;36m1\u001b[0m\u001b[0;34m)\u001b[0m\u001b[0;34m\u001b[0m\u001b[0;34m\u001b[0m\u001b[0m\n\u001b[1;32m    178\u001b[0m         \u001b[0mgrid\u001b[0m \u001b[0;34m=\u001b[0m \u001b[0mjnp\u001b[0m\u001b[0;34m.\u001b[0m\u001b[0marray\u001b[0m\u001b[0;34m(\u001b[0m\u001b[0mgrid\u001b[0m\u001b[0;34m)\u001b[0m\u001b[0;34m\u001b[0m\u001b[0;34m\u001b[0m\u001b[0m\n",
      "\u001b[0;32m~/Documents/Work/Projects/CRM/continuous/src/batch_bandits.py\u001b[0m in \u001b[0;36mget_ucb_actions\u001b[0;34m(self, contexts, grid, args)\u001b[0m\n\u001b[1;32m    169\u001b[0m     \u001b[0;32mdef\u001b[0m \u001b[0mget_ucb_actions\u001b[0m\u001b[0;34m(\u001b[0m\u001b[0mself\u001b[0m\u001b[0;34m,\u001b[0m \u001b[0mcontexts\u001b[0m\u001b[0;34m,\u001b[0m \u001b[0mgrid\u001b[0m\u001b[0;34m,\u001b[0m \u001b[0margs\u001b[0m\u001b[0;34m)\u001b[0m\u001b[0;34m:\u001b[0m\u001b[0;34m\u001b[0m\u001b[0;34m\u001b[0m\u001b[0m\n\u001b[1;32m    170\u001b[0m         return jnp.transpose(jnp.array(\n\u001b[0;32m--> 171\u001b[0;31m             [self.get_upper_confidence_bound(self.get_states(contexts, a * np.ones((contexts.shape[0]))), *args) for a\n\u001b[0m\u001b[1;32m    172\u001b[0m              in grid]))\n\u001b[1;32m    173\u001b[0m \u001b[0;34m\u001b[0m\u001b[0m\n",
      "\u001b[0;32m~/Documents/Work/Projects/CRM/continuous/src/batch_bandits.py\u001b[0m in \u001b[0;36m<listcomp>\u001b[0;34m(.0)\u001b[0m\n\u001b[1;32m    169\u001b[0m     \u001b[0;32mdef\u001b[0m \u001b[0mget_ucb_actions\u001b[0m\u001b[0;34m(\u001b[0m\u001b[0mself\u001b[0m\u001b[0;34m,\u001b[0m \u001b[0mcontexts\u001b[0m\u001b[0;34m,\u001b[0m \u001b[0mgrid\u001b[0m\u001b[0;34m,\u001b[0m \u001b[0margs\u001b[0m\u001b[0;34m)\u001b[0m\u001b[0;34m:\u001b[0m\u001b[0;34m\u001b[0m\u001b[0;34m\u001b[0m\u001b[0m\n\u001b[1;32m    170\u001b[0m         return jnp.transpose(jnp.array(\n\u001b[0;32m--> 171\u001b[0;31m             [self.get_upper_confidence_bound(self.get_states(contexts, a * np.ones((contexts.shape[0]))), *args) for a\n\u001b[0m\u001b[1;32m    172\u001b[0m              in grid]))\n\u001b[1;32m    173\u001b[0m \u001b[0;34m\u001b[0m\u001b[0m\n",
      "\u001b[0;32m~/Documents/Work/Projects/CRM/continuous/src/batch_bandits.py\u001b[0m in \u001b[0;36mget_upper_confidence_bound\u001b[0;34m(self, states, K_matrix_inverse, S, past_rewards)\u001b[0m\n\u001b[1;32m    135\u001b[0m         \u001b[0mmean\u001b[0m \u001b[0;34m=\u001b[0m \u001b[0mjnp\u001b[0m\u001b[0;34m.\u001b[0m\u001b[0mdot\u001b[0m\u001b[0;34m(\u001b[0m\u001b[0mK_S_s\u001b[0m\u001b[0;34m.\u001b[0m\u001b[0mT\u001b[0m\u001b[0;34m,\u001b[0m \u001b[0mjnp\u001b[0m\u001b[0;34m.\u001b[0m\u001b[0mdot\u001b[0m\u001b[0;34m(\u001b[0m\u001b[0mK_matrix_inverse\u001b[0m\u001b[0;34m,\u001b[0m \u001b[0mpast_rewards\u001b[0m\u001b[0;34m)\u001b[0m\u001b[0;34m)\u001b[0m\u001b[0;34m\u001b[0m\u001b[0;34m\u001b[0m\u001b[0m\n\u001b[1;32m    136\u001b[0m         \u001b[0mK_ss\u001b[0m \u001b[0;34m=\u001b[0m \u001b[0mself\u001b[0m\u001b[0;34m.\u001b[0m\u001b[0mkernel\u001b[0m\u001b[0;34m.\u001b[0m\u001b[0mevaluate\u001b[0m\u001b[0;34m(\u001b[0m\u001b[0mstates\u001b[0m\u001b[0;34m,\u001b[0m \u001b[0mstates\u001b[0m\u001b[0;34m)\u001b[0m\u001b[0;34m\u001b[0m\u001b[0;34m\u001b[0m\u001b[0m\n\u001b[0;32m--> 137\u001b[0;31m         \u001b[0mstd\u001b[0m \u001b[0;34m=\u001b[0m \u001b[0mnp\u001b[0m\u001b[0;34m.\u001b[0m\u001b[0mdiag\u001b[0m\u001b[0;34m(\u001b[0m\u001b[0;34m(\u001b[0m\u001b[0;36m1\u001b[0m \u001b[0;34m/\u001b[0m \u001b[0mself\u001b[0m\u001b[0;34m.\u001b[0m\u001b[0mreg_lambda\u001b[0m\u001b[0;34m)\u001b[0m \u001b[0;34m*\u001b[0m \u001b[0;34m(\u001b[0m\u001b[0mK_ss\u001b[0m \u001b[0;34m-\u001b[0m \u001b[0mjnp\u001b[0m\u001b[0;34m.\u001b[0m\u001b[0mdot\u001b[0m\u001b[0;34m(\u001b[0m\u001b[0mK_S_s\u001b[0m\u001b[0;34m.\u001b[0m\u001b[0mT\u001b[0m\u001b[0;34m,\u001b[0m \u001b[0mjnp\u001b[0m\u001b[0;34m.\u001b[0m\u001b[0mdot\u001b[0m\u001b[0;34m(\u001b[0m\u001b[0mK_matrix_inverse\u001b[0m\u001b[0;34m,\u001b[0m \u001b[0mK_S_s\u001b[0m\u001b[0;34m)\u001b[0m\u001b[0;34m)\u001b[0m\u001b[0;34m)\u001b[0m\u001b[0;34m)\u001b[0m\u001b[0;34m\u001b[0m\u001b[0;34m\u001b[0m\u001b[0m\n\u001b[0m\u001b[1;32m    138\u001b[0m         \u001b[0mucb\u001b[0m \u001b[0;34m=\u001b[0m \u001b[0mjnp\u001b[0m\u001b[0;34m.\u001b[0m\u001b[0msqueeze\u001b[0m\u001b[0;34m(\u001b[0m\u001b[0mmean\u001b[0m\u001b[0;34m)\u001b[0m \u001b[0;34m+\u001b[0m \u001b[0mself\u001b[0m\u001b[0;34m.\u001b[0m\u001b[0mbeta_t\u001b[0m \u001b[0;34m*\u001b[0m \u001b[0mjnp\u001b[0m\u001b[0;34m.\u001b[0m\u001b[0msqrt\u001b[0m\u001b[0;34m(\u001b[0m\u001b[0mstd\u001b[0m\u001b[0;34m)\u001b[0m\u001b[0;34m\u001b[0m\u001b[0;34m\u001b[0m\u001b[0m\n\u001b[1;32m    139\u001b[0m         \u001b[0;32mreturn\u001b[0m \u001b[0mucb\u001b[0m\u001b[0;34m\u001b[0m\u001b[0;34m\u001b[0m\u001b[0m\n",
      "\u001b[0;31mKeyboardInterrupt\u001b[0m: "
     ]
    }
   ],
   "source": [
    "settings = {\n",
    "    'agent': 'Batch-KUCB',\n",
    "    'T': T,\n",
    "    'random_seed': 42,\n",
    "    'reg_lambda': 1,\n",
    "}\n",
    "\n",
    "n_logging_samples = 10\n",
    "M = 10\n",
    "\n",
    "def get_agent(settings, kernel):\n",
    "    if settings['agent'] == 'Batch-KUCB':\n",
    "        return BatchKernelUCB(settings, kernel)\n",
    "    else:\n",
    "        return SBPE(settings, kernel)\n",
    "\n",
    "def batch_bandit_experiment(random_seed, dataset_name, settings):\n",
    "    \n",
    "    dataset = get_dataset_by_name(dataset_name, random_seed)\n",
    "\n",
    "    start_experiment(random_seed, dataset, settings['agent'])\n",
    "    \n",
    "    # Model setting\n",
    "    env = Environment(dataset, n_logging_samples)\n",
    "    kernel = Polynomial(settings)\n",
    "    agent = get_agent(settings, kernel)\n",
    "    agent.beta_t = 0.1\n",
    "    agent.instantiate(env)\n",
    "    metrics = instantiate_metrics()\n",
    "    best_strategy_rewards = []\n",
    "\n",
    "    t0 = time.time()\n",
    "\n",
    "    batch_size = n_logging_samples\n",
    "    for step in tqdm(range(M)):\n",
    "\n",
    "        # choose a random context.\n",
    "        batch_size *= 2\n",
    "        contexts, labels = env.sample_data(n=batch_size)\n",
    "        # iterate learning algorithm for 1 round.\n",
    "        actions = agent.sample_actions(contexts)\n",
    "        rewards = env.sample_reward(actions, labels)\n",
    "\n",
    "        agent.update_agent(contexts, actions, rewards)\n",
    "        # get best_strategy's reward for the current context.\n",
    "    #     best_strategy_rewards.append(env.get_best_reward_in_context(context, label))\n",
    "        t = time.time() - t0\n",
    "        metrics['time'].append(t)\n",
    "#         average_reward = np.mean(agent.past_rewards[1:])\n",
    "        metrics['online_loss'].append(-np.mean(agent.past_rewards[-batch_size:]))\n",
    "        metrics['cumulated_loss'].append(np.sum(-agent.past_rewards[1:]))\n",
    "        print('Rollout {}, Online reward: {}'.format(step, -metrics['online_loss'][-1]))\n",
    "\n",
    "    batch_online_losses = np.array([online_loss._value for online_loss in metrics['online_loss']])\n",
    "    batch_cumulated_losses = np.array([cumulated_loss._value for cumulated_loss in metrics['cumulated_loss']])\n",
    "    return np.expand_dims(batch_online_losses, axis=0), np.expand_dims(batch_cumulated_losses, axis=0)\n",
    "\n",
    "\n",
    "batch_bandit_online_losses = []\n",
    "batch_bandit_cumulated_losses = []\n",
    "\n",
    "for random_seed in range(5):\n",
    "    online_losses, cumulated_losses = batch_bandit_experiment(random_seed, dataset_name, settings)\n",
    "    batch_bandit_online_losses.append(online_losses)\n",
    "    batch_bandit_cumulated_losses.append(cumulated_losses)\n",
    "\n",
    "batch_bandit_online_losses = np.concatenate(batch_bandit_online_losses, axis=0)\n",
    "batch_kucb_online_losses, batch_k_ucb_online_losses_std = np.mean(batch_bandit_online_losses, axis=0), np.std(batch_bandit_online_losses, axis=0)\n",
    "\n",
    "batch_bandit_cumulated_losses = np.concatenate(batch_bandit_cumulated_losses, axis=0)\n",
    "batch_kucb_cumulated_losses, batch_k_ucb_cumulated_losses_std = np.mean(batch_bandit_cumulated_losses, axis=0), np.std(batch_bandit_cumulated_losses, axis=0)"
   ]
  },
  {
   "cell_type": "code",
   "execution_count": 112,
   "id": "31f998c1",
   "metadata": {},
   "outputs": [
    {
     "name": "stderr",
     "output_type": "stream",
     "text": [
      "*** EXPERIMENT SBPE Random seed: 0 Dataset: noisymoons ***\n",
      " 38%|████████████████▉                            | 3/8 [00:00<00:00, 21.81it/s]"
     ]
    },
    {
     "name": "stdout",
     "output_type": "stream",
     "text": [
      "Online reward: -0.10000001639127731\n",
      "Online reward: -0.002117246389389038\n",
      "Online reward: -0.03949412703514099\n",
      "Online reward: -0.0455208420753479\n"
     ]
    },
    {
     "name": "stderr",
     "output_type": "stream",
     "text": [
      "\r",
      " 75%|█████████████████████████████████▊           | 6/8 [00:00<00:00, 14.39it/s]"
     ]
    },
    {
     "name": "stdout",
     "output_type": "stream",
     "text": [
      "Online reward: 0.17864815890789032\n",
      "Online reward: 0.05791473388671875\n",
      "Online reward: -0.02374051697552204\n"
     ]
    },
    {
     "name": "stderr",
     "output_type": "stream",
     "text": [
      "100%|█████████████████████████████████████████████| 8/8 [00:03<00:00,  2.15it/s]\n",
      "*** EXPERIMENT SBPE Random seed: 1 Dataset: noisymoons ***\n"
     ]
    },
    {
     "name": "stdout",
     "output_type": "stream",
     "text": [
      "Online reward: 0.004704478196799755\n"
     ]
    },
    {
     "name": "stderr",
     "output_type": "stream",
     "text": [
      " 50%|██████████████████████▌                      | 4/8 [00:00<00:00, 28.67it/s]"
     ]
    },
    {
     "name": "stdout",
     "output_type": "stream",
     "text": [
      "Online reward: 0.5890769362449646\n",
      "Online reward: -0.09999995678663254\n",
      "Online reward: 0.36050912737846375\n",
      "Online reward: 0.2396615594625473\n",
      "Online reward: -0.0856781154870987\n",
      "Online reward: 0.10798215866088867\n"
     ]
    },
    {
     "name": "stderr",
     "output_type": "stream",
     "text": [
      "\r",
      " 88%|███████████████████████████████████████▍     | 7/8 [00:00<00:00,  6.29it/s]"
     ]
    },
    {
     "name": "stdout",
     "output_type": "stream",
     "text": [
      "Online reward: -0.012212378904223442\n"
     ]
    },
    {
     "name": "stderr",
     "output_type": "stream",
     "text": [
      "100%|█████████████████████████████████████████████| 8/8 [00:03<00:00,  2.20it/s]\n",
      "*** EXPERIMENT SBPE Random seed: 2 Dataset: noisymoons ***\n"
     ]
    },
    {
     "name": "stdout",
     "output_type": "stream",
     "text": [
      "Online reward: 0.11916790157556534\n"
     ]
    },
    {
     "name": "stderr",
     "output_type": "stream",
     "text": [
      " 38%|████████████████▉                            | 3/8 [00:00<00:00, 24.31it/s]"
     ]
    },
    {
     "name": "stdout",
     "output_type": "stream",
     "text": [
      "Online reward: 0.6623274683952332\n",
      "Online reward: 0.19819919764995575\n",
      "Online reward: -0.09526938199996948\n",
      "Online reward: 0.038844164460897446\n",
      "Online reward: 0.1624966859817505\n"
     ]
    },
    {
     "name": "stderr",
     "output_type": "stream",
     "text": [
      "\r",
      " 75%|█████████████████████████████████▊           | 6/8 [00:00<00:00, 14.54it/s]"
     ]
    },
    {
     "name": "stdout",
     "output_type": "stream",
     "text": [
      "Online reward: 0.11595123261213303\n",
      "Online reward: 0.07875721901655197\n"
     ]
    },
    {
     "name": "stderr",
     "output_type": "stream",
     "text": [
      "100%|█████████████████████████████████████████████| 8/8 [00:03<00:00,  2.16it/s]\n",
      "*** EXPERIMENT SBPE Random seed: 3 Dataset: noisymoons ***\n"
     ]
    },
    {
     "name": "stdout",
     "output_type": "stream",
     "text": [
      "Online reward: 0.35802802443504333\n"
     ]
    },
    {
     "name": "stderr",
     "output_type": "stream",
     "text": [
      " 38%|████████████████▉                            | 3/8 [00:00<00:00, 29.56it/s]"
     ]
    },
    {
     "name": "stdout",
     "output_type": "stream",
     "text": [
      "Online reward: 0.1659092754125595\n",
      "Online reward: -0.09999995678663254\n",
      "Online reward: -0.020642369985580444\n",
      "Online reward: 0.1462685614824295\n",
      "Online reward: 0.12750661373138428\n"
     ]
    },
    {
     "name": "stderr",
     "output_type": "stream",
     "text": [
      "\r",
      " 75%|█████████████████████████████████▊           | 6/8 [00:00<00:00, 14.41it/s]"
     ]
    },
    {
     "name": "stdout",
     "output_type": "stream",
     "text": [
      "Online reward: 0.13772182166576385\n",
      "Online reward: 0.13042600452899933\n"
     ]
    },
    {
     "name": "stderr",
     "output_type": "stream",
     "text": [
      "100%|█████████████████████████████████████████████| 8/8 [00:03<00:00,  2.12it/s]\n",
      "*** EXPERIMENT SBPE Random seed: 4 Dataset: noisymoons ***\n"
     ]
    },
    {
     "name": "stdout",
     "output_type": "stream",
     "text": [
      "Online reward: 0.06505250185728073\n"
     ]
    },
    {
     "name": "stderr",
     "output_type": "stream",
     "text": [
      " 50%|██████████████████████▌                      | 4/8 [00:00<00:00, 29.74it/s]"
     ]
    },
    {
     "name": "stdout",
     "output_type": "stream",
     "text": [
      "Online reward: -0.10000001639127731\n",
      "Online reward: -0.03876375034451485\n",
      "Online reward: 0.06986036151647568\n",
      "Online reward: 0.1547996699810028\n",
      "Online reward: 0.12324482202529907\n",
      "Online reward: 0.028684867545962334\n"
     ]
    },
    {
     "name": "stderr",
     "output_type": "stream",
     "text": [
      "\r",
      " 88%|███████████████████████████████████████▍     | 7/8 [00:01<00:00,  5.99it/s]"
     ]
    },
    {
     "name": "stdout",
     "output_type": "stream",
     "text": [
      "Online reward: -0.09984370321035385\n"
     ]
    },
    {
     "name": "stderr",
     "output_type": "stream",
     "text": [
      "100%|█████████████████████████████████████████████| 8/8 [00:03<00:00,  2.15it/s]\n",
      "*** EXPERIMENT SBPE Random seed: 5 Dataset: noisymoons ***\n"
     ]
    },
    {
     "name": "stdout",
     "output_type": "stream",
     "text": [
      "Online reward: 0.05636269599199295\n"
     ]
    },
    {
     "name": "stderr",
     "output_type": "stream",
     "text": [
      " 50%|██████████████████████▌                      | 4/8 [00:00<00:00, 29.24it/s]"
     ]
    },
    {
     "name": "stdout",
     "output_type": "stream",
     "text": [
      "Online reward: -0.10000001639127731\n",
      "Online reward: -0.0362309031188488\n",
      "Online reward: -0.024480795487761497\n",
      "Online reward: -0.10000000149011612\n",
      "Online reward: 0.020688358694314957\n",
      "Online reward: 0.07448432594537735\n"
     ]
    },
    {
     "name": "stderr",
     "output_type": "stream",
     "text": [
      "\r",
      " 88%|███████████████████████████████████████▍     | 7/8 [00:00<00:00,  6.32it/s]"
     ]
    },
    {
     "name": "stdout",
     "output_type": "stream",
     "text": [
      "Online reward: -0.06023517996072769\n"
     ]
    },
    {
     "name": "stderr",
     "output_type": "stream",
     "text": [
      "100%|█████████████████████████████████████████████| 8/8 [00:03<00:00,  2.23it/s]\n",
      "*** EXPERIMENT SBPE Random seed: 6 Dataset: noisymoons ***\n"
     ]
    },
    {
     "name": "stdout",
     "output_type": "stream",
     "text": [
      "Online reward: -0.08624713867902756\n"
     ]
    },
    {
     "name": "stderr",
     "output_type": "stream",
     "text": [
      " 50%|██████████████████████▌                      | 4/8 [00:00<00:00, 29.22it/s]"
     ]
    },
    {
     "name": "stdout",
     "output_type": "stream",
     "text": [
      "Online reward: -0.04182886704802513\n",
      "Online reward: -0.015173329971730709\n",
      "Online reward: 0.061528660356998444\n",
      "Online reward: 0.04241118207573891\n",
      "Online reward: -0.07372986525297165\n",
      "Online reward: -0.024569779634475708\n"
     ]
    },
    {
     "name": "stderr",
     "output_type": "stream",
     "text": [
      "\r",
      " 88%|███████████████████████████████████████▍     | 7/8 [00:01<00:00,  5.90it/s]"
     ]
    },
    {
     "name": "stdout",
     "output_type": "stream",
     "text": [
      "Online reward: 0.22030363976955414\n"
     ]
    },
    {
     "name": "stderr",
     "output_type": "stream",
     "text": [
      "100%|█████████████████████████████████████████████| 8/8 [00:03<00:00,  2.09it/s]\n",
      "*** EXPERIMENT SBPE Random seed: 7 Dataset: noisymoons ***\n"
     ]
    },
    {
     "name": "stdout",
     "output_type": "stream",
     "text": [
      "Online reward: -0.037956733256578445\n"
     ]
    },
    {
     "name": "stderr",
     "output_type": "stream",
     "text": [
      " 38%|████████████████▉                            | 3/8 [00:00<00:00, 20.94it/s]"
     ]
    },
    {
     "name": "stdout",
     "output_type": "stream",
     "text": [
      "Online reward: 0.34365710616111755\n",
      "Online reward: 0.3178836703300476\n",
      "Online reward: 0.1772085279226303\n",
      "Online reward: 0.010790384374558926\n",
      "Online reward: -0.028677960857748985\n"
     ]
    },
    {
     "name": "stderr",
     "output_type": "stream",
     "text": [
      "\r",
      " 75%|█████████████████████████████████▊           | 6/8 [00:00<00:00, 12.74it/s]"
     ]
    },
    {
     "name": "stdout",
     "output_type": "stream",
     "text": [
      "Online reward: -0.09016434103250504\n",
      "Online reward: -0.014382228255271912\n"
     ]
    },
    {
     "name": "stderr",
     "output_type": "stream",
     "text": [
      "100%|█████████████████████████████████████████████| 8/8 [00:03<00:00,  2.04it/s]\n",
      "*** EXPERIMENT SBPE Random seed: 8 Dataset: noisymoons ***\n"
     ]
    },
    {
     "name": "stdout",
     "output_type": "stream",
     "text": [
      "Online reward: -0.09996749460697174\n"
     ]
    },
    {
     "name": "stderr",
     "output_type": "stream",
     "text": [
      " 38%|████████████████▉                            | 3/8 [00:00<00:00, 27.22it/s]"
     ]
    },
    {
     "name": "stdout",
     "output_type": "stream",
     "text": [
      "Online reward: -0.10000001639127731\n",
      "Online reward: -0.04052574560046196\n",
      "Online reward: 0.3592087924480438\n",
      "Online reward: -0.0069081285037100315\n",
      "Online reward: -0.023232141509652138\n"
     ]
    },
    {
     "name": "stderr",
     "output_type": "stream",
     "text": [
      "\r",
      " 75%|█████████████████████████████████▊           | 6/8 [00:00<00:00, 14.14it/s]"
     ]
    },
    {
     "name": "stdout",
     "output_type": "stream",
     "text": [
      "Online reward: -0.08291703462600708\n",
      "Online reward: 0.05511239171028137\n"
     ]
    },
    {
     "name": "stderr",
     "output_type": "stream",
     "text": [
      "100%|█████████████████████████████████████████████| 8/8 [00:03<00:00,  2.02it/s]\n",
      "*** EXPERIMENT SBPE Random seed: 9 Dataset: noisymoons ***\n"
     ]
    },
    {
     "name": "stdout",
     "output_type": "stream",
     "text": [
      "Online reward: 0.02018297091126442\n"
     ]
    },
    {
     "name": "stderr",
     "output_type": "stream",
     "text": [
      " 50%|██████████████████████▌                      | 4/8 [00:00<00:00, 29.56it/s]"
     ]
    },
    {
     "name": "stdout",
     "output_type": "stream",
     "text": [
      "Online reward: -0.05215660482645035\n",
      "Online reward: 0.1608698070049286\n",
      "Online reward: 0.09204912930727005\n",
      "Online reward: 0.0027879048138856888\n",
      "Online reward: -0.04128950461745262\n",
      "Online reward: -0.10000001639127731\n"
     ]
    },
    {
     "name": "stderr",
     "output_type": "stream",
     "text": [
      "\r",
      " 88%|███████████████████████████████████████▍     | 7/8 [00:00<00:00,  6.12it/s]"
     ]
    },
    {
     "name": "stdout",
     "output_type": "stream",
     "text": [
      "Online reward: 0.05928536877036095\n"
     ]
    },
    {
     "name": "stderr",
     "output_type": "stream",
     "text": [
      "\r",
      "100%|█████████████████████████████████████████████| 8/8 [00:03<00:00,  2.11it/s]"
     ]
    },
    {
     "name": "stdout",
     "output_type": "stream",
     "text": [
      "Online reward: 0.1083894744515419\n"
     ]
    },
    {
     "name": "stderr",
     "output_type": "stream",
     "text": [
      "\n"
     ]
    }
   ],
   "source": [
    "settings = {\n",
    "    'agent': 'SBPE',\n",
    "    'T': T,\n",
    "    'random_seed': 42,\n",
    "    'reg_lambda': 1e-5,\n",
    "}\n",
    "M = 8\n",
    "\n",
    "kernel = Polynomial(settings)\n",
    "agent = SBPE(settings, kernel)\n",
    "\n",
    "batch_bandit_online_losses = []\n",
    "batch_bandit_cumulated_losses = []\n",
    "\n",
    "for random_seed in range(10):\n",
    "    online_losses, cumulated_losses = batch_bandit_experiment(random_seed, dataset_name, settings)\n",
    "    batch_bandit_online_losses.append(online_losses)\n",
    "    batch_bandit_cumulated_losses.append(cumulated_losses)\n",
    "\n",
    "batch_bandit_online_losses = np.concatenate(batch_bandit_online_losses, axis=0)\n",
    "batch_sbpe_online_losses, batch_sbpe_online_losses_std = np.mean(batch_bandit_online_losses, axis=0), np.std(batch_bandit_online_losses, axis=0)\n",
    "\n",
    "batch_bandit_cumulated_losses = np.concatenate(batch_bandit_cumulated_losses, axis=0)\n",
    "batch_sbpe_cumulated_losses, batch_sbpe_cumulated_losses_std = np.mean(batch_bandit_cumulated_losses, axis=0), np.std(batch_bandit_cumulated_losses, axis=0)\n"
   ]
  },
  {
   "cell_type": "code",
   "execution_count": 99,
   "id": "6642ab6b",
   "metadata": {},
   "outputs": [
    {
     "data": {
      "text/plain": [
       "array([-0.42547998, -0.6544496 , -0.6454035 , -0.6929121 , -0.71240985,\n",
       "       -0.7120695 , -0.724742  , -0.72789574], dtype=float32)"
      ]
     },
     "execution_count": 99,
     "metadata": {},
     "output_type": "execute_result"
    }
   ],
   "source": [
    "batch_sbpe_online_losses"
   ]
  },
  {
   "cell_type": "code",
   "execution_count": 63,
   "id": "3932d52a",
   "metadata": {},
   "outputs": [
    {
     "data": {
      "text/plain": [
       "array([95, 96, 97, 98, 99])"
      ]
     },
     "execution_count": 63,
     "metadata": {},
     "output_type": "execute_result"
    }
   ],
   "source": [
    "array[-5:]"
   ]
  },
  {
   "cell_type": "code",
   "execution_count": 92,
   "id": "fe629684",
   "metadata": {},
   "outputs": [
    {
     "data": {
      "text/plain": [
       "array([-0.4058508 , -0.52489346, -0.5379437 , -0.48313928, -0.43111897,\n",
       "       -0.3787202 , -0.30418026, -0.26423642], dtype=float32)"
      ]
     },
     "execution_count": 92,
     "metadata": {},
     "output_type": "execute_result"
    }
   ],
   "source": [
    "batch_kucb_online_losses"
   ]
  },
  {
   "cell_type": "code",
   "execution_count": null,
   "id": "6cf818cd",
   "metadata": {},
   "outputs": [],
   "source": []
  }
 ],
 "metadata": {
  "kernelspec": {
   "display_name": "Python 3 (ipykernel)",
   "language": "python",
   "name": "python3"
  },
  "language_info": {
   "codemirror_mode": {
    "name": "ipython",
    "version": 3
   },
   "file_extension": ".py",
   "mimetype": "text/x-python",
   "name": "python",
   "nbconvert_exporter": "python",
   "pygments_lexer": "ipython3",
   "version": "3.9.7"
  }
 },
 "nbformat": 4,
 "nbformat_minor": 5
}

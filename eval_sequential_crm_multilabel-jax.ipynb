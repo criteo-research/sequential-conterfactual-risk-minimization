{
 "cells": [
  {
   "cell_type": "code",
   "execution_count": 1,
   "id": "9c25f72b",
   "metadata": {},
   "outputs": [],
   "source": [
    "import sys\n",
    "import time"
   ]
  },
  {
   "cell_type": "code",
   "execution_count": 2,
   "id": "b3299e83",
   "metadata": {},
   "outputs": [],
   "source": [
    "import numpy as np\n",
    "import pandas as pd\n",
    "\n",
    "import jax.numpy as jnp\n",
    "import jaxopt\n",
    "from jax.scipy.special import expit as jexpit\n",
    "from jax.scipy.optimize import minimize as jminimize"
   ]
  },
  {
   "cell_type": "code",
   "execution_count": 3,
   "id": "ad01a674",
   "metadata": {},
   "outputs": [],
   "source": [
    "from sklearn.linear_model import LogisticRegression, LogisticRegressionCV\n",
    "from sklearn.dummy import DummyClassifier\n",
    "\n",
    "from sklearn.multioutput import MultiOutputClassifier, ClassifierChain\n",
    "\n",
    "from sklearn.model_selection import train_test_split\n",
    "\n",
    "from sklearn.random_projection import GaussianRandomProjection\n",
    "\n",
    "from sklearn.datasets import load_svmlight_file\n",
    "from sklearn.preprocessing import MultiLabelBinarizer"
   ]
  },
  {
   "cell_type": "code",
   "execution_count": 4,
   "id": "6da5c3e3",
   "metadata": {},
   "outputs": [],
   "source": [
    "import matplotlib.pyplot as plt"
   ]
  },
  {
   "cell_type": "markdown",
   "id": "3fbf7812",
   "metadata": {},
   "source": [
    "TODO:\n",
    "- //(softmax temperature ?)\n",
    "- //feedback = nb de match entre predictions et labels (par ligne)\n",
    "- //model : fix feature map : phi(X,A)(i,j) = X[i,j]*sign(A[i,j])\n",
    "- provide gradients to optim"
   ]
  },
  {
   "cell_type": "markdown",
   "id": "69c93204",
   "metadata": {},
   "source": [
    "---\n",
    "## Loading dataset"
   ]
  },
  {
   "cell_type": "code",
   "execution_count": 5,
   "id": "dbaa9cb3",
   "metadata": {},
   "outputs": [],
   "source": [
    "dataset_name='yeast'\n",
    "#dataset_name='scene'\n",
    "#dataset_name='tmc2007'"
   ]
  },
  {
   "cell_type": "code",
   "execution_count": 6,
   "id": "4757a860",
   "metadata": {},
   "outputs": [
    {
     "data": {
      "text/plain": [
       "(1500, 103)"
      ]
     },
     "execution_count": 6,
     "metadata": {},
     "output_type": "execute_result"
    }
   ],
   "source": [
    "X_train, y_train_ = load_svmlight_file(dataset_name+'_train.svm', multilabel=True)\n",
    "X_train = np.array(X_train.todense())\n",
    "X_train.shape"
   ]
  },
  {
   "cell_type": "code",
   "execution_count": 7,
   "id": "1c48b812",
   "metadata": {},
   "outputs": [
    {
     "data": {
      "text/plain": [
       "(917, 103)"
      ]
     },
     "execution_count": 7,
     "metadata": {},
     "output_type": "execute_result"
    }
   ],
   "source": [
    "X_test, y_test_ = load_svmlight_file(dataset_name+'_test.svm', multilabel=True)\n",
    "X_test = np.array(X_test.todense())\n",
    "X_test.shape"
   ]
  },
  {
   "cell_type": "code",
   "execution_count": 8,
   "id": "69b3192b",
   "metadata": {},
   "outputs": [],
   "source": [
    "onehot_labeller = MultiLabelBinarizer()\n",
    "y_train = onehot_labeller.fit_transform(y_train_).astype(int)\n",
    "y_test = onehot_labeller.transform(y_test_).astype(int)"
   ]
  },
  {
   "cell_type": "code",
   "execution_count": 9,
   "id": "15fdd9e5",
   "metadata": {},
   "outputs": [
    {
     "data": {
      "text/plain": [
       "array([ 0,  1,  2,  3,  4,  5,  6,  7,  8,  9, 10, 11, 12, 13])"
      ]
     },
     "execution_count": 9,
     "metadata": {},
     "output_type": "execute_result"
    }
   ],
   "source": [
    "labels = onehot_labeller.classes_.astype(int)\n",
    "labels"
   ]
  },
  {
   "cell_type": "code",
   "execution_count": 10,
   "id": "3f7514c4",
   "metadata": {},
   "outputs": [
    {
     "data": {
      "text/plain": [
       "(array([ 24., 254.,  68., 684., 114., 248.,  64.,  36.,   5.,   3.]),\n",
       " array([ 1.,  2.,  3.,  4.,  5.,  6.,  7.,  8.,  9., 10., 11.]),\n",
       " <BarContainer object of 10 artists>)"
      ]
     },
     "execution_count": 10,
     "metadata": {},
     "output_type": "execute_result"
    },
    {
     "data": {
      "image/png": "[encoded data removed]",
      "text/plain": [
       "<Figure size 432x288 with 1 Axes>"
      ]
     },
     "metadata": {
      "needs_background": "light"
     },
     "output_type": "display_data"
    }
   ],
   "source": [
    "plt.hist(y_train.sum(axis=1))"
   ]
  },
  {
   "cell_type": "markdown",
   "id": "a82cf30b",
   "metadata": {},
   "source": [
    "FYI: Error rate of null policy (always predict 0)"
   ]
  },
  {
   "cell_type": "code",
   "execution_count": 11,
   "id": "105dcb27",
   "metadata": {},
   "outputs": [
    {
     "data": {
      "text/plain": [
       "4.251908396946565"
      ]
     },
     "execution_count": 11,
     "metadata": {},
     "output_type": "execute_result"
    }
   ],
   "source": [
    "y_test.sum()/(y_test.shape[0])"
   ]
  },
  {
   "cell_type": "markdown",
   "id": "ddd6d4fd",
   "metadata": {},
   "source": [
    "---"
   ]
  },
  {
   "cell_type": "code",
   "execution_count": 72,
   "id": "eb9ef88e",
   "metadata": {},
   "outputs": [],
   "source": [
    "def micro_hammingloss(p,y):\n",
    "    assert p.shape == y.shape\n",
    "    pos = jnp.where( (p != y) & (y > 0) )\n",
    "    neg = jnp.where( (p != y) & (y == 0) )\n",
    "    fn = p[neg].sum()\n",
    "    fp = (1-p[pos]).sum()\n",
    "    return (fn+fp)/(p.shape[0])"
   ]
  },
  {
   "cell_type": "markdown",
   "id": "7b3ab902",
   "metadata": {},
   "source": [
    "---\n",
    "## Our Model"
   ]
  },
  {
   "cell_type": "markdown",
   "id": "ae1279d1",
   "metadata": {},
   "source": [
    "### CRM routines"
   ]
  },
  {
   "cell_type": "code",
   "execution_count": 14,
   "id": "768c1499",
   "metadata": {},
   "outputs": [],
   "source": [
    "class CRMDataset(object):\n",
    "    \n",
    "    def __init__(self):\n",
    "\n",
    "        self.propensities_ = []\n",
    "        self.actions_ = []\n",
    "        self.rewards_ = []\n",
    "        self.features_ = []\n",
    "        \n",
    "        self.propensities_np = None\n",
    "        self.actions_np = None\n",
    "        self.rewards_np = None\n",
    "        self.features_np = None\n",
    "\n",
    "        self.check()\n",
    "        \n",
    "    def __str__(self):\n",
    "        if not self.propensities_np:\n",
    "            return '<CRMDataset>'\n",
    "        self._generate_numpys()\n",
    "        return '<CRMDataset propensities:%s actions:%s rewards:%s features:%s>' % (\n",
    "            self.propensities_np.shape,\n",
    "            self.actions_np.shape,\n",
    "            self.rewards_np.shape,\n",
    "            self.features_np.shape\n",
    "        )\n",
    "    \n",
    "    __repr__ = __str__\n",
    "        \n",
    "    def check(self):\n",
    "        assert len(self.features_) == len(self.propensities_) == len(self.rewards_) == len(self.actions_)\n",
    "        assert type(self.propensities_) == type(self.actions_) == type(self.rewards_) == type(self.features_) == list        \n",
    "        \n",
    "    def __len__(self):\n",
    "        return len(self.propensities_)\n",
    "        \n",
    "    def _generate_numpys(self):\n",
    "        if self.propensities_np is not None and len(self.propensities_np) == len(self.propensities_):\n",
    "            return        \n",
    "        self.propensities_np = jnp.vstack(self.propensities_)\n",
    "        self.actions_np = jnp.vstack(self.actions_)\n",
    "        self.rewards_np = jnp.vstack(self.rewards_).reshape((self.propensities_np.shape[0], ))\n",
    "        self.features_np = jnp.vstack(self.features_)\n",
    "        \n",
    "    @property\n",
    "    def actions(self):\n",
    "        return self.actions_np\n",
    "\n",
    "    @property\n",
    "    def propensities(self):\n",
    "        return self.propensities_np\n",
    "    \n",
    "    @property\n",
    "    def rewards(self):\n",
    "        return self.rewards_np\n",
    "    \n",
    "    @property\n",
    "    def features(self):\n",
    "        return self.features_np\n",
    "        \n",
    "    def update_from_supervised_dataset(self, X, y, probas, n_samples=4, labels=labels):\n",
    "        # X is (n,d)\n",
    "        # y is (n,k)\n",
    "        # probas is (n,k)\n",
    "\n",
    "        assert len(X) == len(y) == len(probas), (len(X) , len(y) , len(probas))\n",
    "\n",
    "        for i in range(len(X)):\n",
    "\n",
    "            for k in range(n_samples):\n",
    "\n",
    "                chosen_actions = np.array([np.random.binomial(1, p=probas[i,j]) for j in labels])\n",
    "                self.actions_ += [chosen_actions]\n",
    "                self.propensities_ += [probas[i,:]]\n",
    "                self.features_ += [X[i,:]]\n",
    "                self.rewards_ += [sum(int(y[i,j] == chosen_actions[j]) for j in labels)]\n",
    "                \n",
    "        self._generate_numpys()\n",
    "        return self"
   ]
  },
  {
   "cell_type": "markdown",
   "id": "a7d83b97",
   "metadata": {},
   "source": [
    "### Modeling"
   ]
  },
  {
   "cell_type": "code",
   "execution_count": 15,
   "id": "6e15e274",
   "metadata": {},
   "outputs": [],
   "source": [
    "def model_predict(beta, features, actions):\n",
    "    # beta is (d, k)\n",
    "    # features is (n, d)\n",
    "    # predictions will be (n,k)\n",
    "    wx = jnp.dot(features, beta)\n",
    "    actions_signs = 2 * actions -1\n",
    "    p = jexpit(jnp.multiply(wx, actions_signs))\n",
    "    return p"
   ]
  },
  {
   "cell_type": "markdown",
   "id": "42854657",
   "metadata": {},
   "source": [
    "### CF Optimization"
   ]
  },
  {
   "cell_type": "code",
   "execution_count": 17,
   "id": "f26567e3",
   "metadata": {},
   "outputs": [],
   "source": [
    "# crm_loss(beta_init, ref_crm_dataset)"
   ]
  },
  {
   "cell_type": "code",
   "execution_count": 31,
   "id": "8eb91888",
   "metadata": {},
   "outputs": [],
   "source": [
    "def crm_loss(beta, crm_dataset: CRMDataset, clip: float = 1000, lambda_: float = 0):\n",
    "    \n",
    "    # sp.minimize flattens the beta matrix so better reshape it in case\n",
    "    # beta should be (d,k)\n",
    "    n = crm_dataset.features.shape[0]\n",
    "    k = crm_dataset.actions.shape[1]\n",
    "    d = crm_dataset.features.shape[1]\n",
    "    beta = beta.reshape((d, k))\n",
    "    \n",
    "    predictions = model_predict(beta, crm_dataset.features, crm_dataset.actions)\n",
    "    \n",
    "    ips_weights = (predictions / crm_dataset.propensities).sum(axis=1)\n",
    "#     print(\"IPS weights:\", ips_weights.shape, ips_weights, ips_weights.max())\n",
    "\n",
    "    ips_weights = jnp.clip(ips_weights, 0, clip)\n",
    "    l_sum = ips_weights.sum()\n",
    "    \n",
    "#     print(\"clipped IPS weights:\", ips_weights.shape, ips_weights, ips_weights.max(), l_sum)\n",
    "    \n",
    "    # SNIPS\n",
    "    l = jnp.dot((d - crm_dataset.rewards).flatten(), ips_weights.flatten())\n",
    "#     print(\"l:\", l)\n",
    "    l /= l_sum\n",
    "    l /= n\n",
    "#     print(\"SNIPS:\", l)\n",
    "    \n",
    "    if lambda_ > 0:\n",
    "        # POEM\n",
    "        l += lambda_ * jnp.std(ips_weights) / jnp.sqrt(features.shape[0])\n",
    "\n",
    "    return l"
   ]
  },
  {
   "cell_type": "code",
   "execution_count": 62,
   "id": "87d388e5",
   "metadata": {},
   "outputs": [],
   "source": [
    "def iterate_model(beta, X, y, sampling_probas, crm_dataset: CRMDataset, \n",
    "                  samples_per_instance:int = 4, verbose=1):\n",
    "    \n",
    "    # beta should be (d,k)\n",
    "    # prior_crm_dataset will get extended\n",
    "    \n",
    "    assert beta.shape == (X.shape[1], y.shape[1])\n",
    "    \n",
    "    if verbose:\n",
    "        print('CRM dataset:', len(crm_dataset), end='', file=sys.stderr)\n",
    "    crm_dataset.update_from_supervised_dataset(\n",
    "        X, y, sampling_probas, \n",
    "        n_samples=samples_per_instance\n",
    "    )\n",
    "    if verbose:\n",
    "        print('->', len(crm_dataset), file=sys.stderr)\n",
    "         \n",
    "    if verbose:\n",
    "        start_loss = crm_loss(beta, crm_dataset)\n",
    "        print('Optim iteration - loss: %.4f -> ' % start_loss,\n",
    "              end='', file=sys.stderr)\n",
    "    \n",
    "#     solution = jminimize(crm_loss, beta, args=(crm_dataset,), method='BFGS')\n",
    "\n",
    "    def _loss(x):\n",
    "        return crm_loss(x, crm_dataset)\n",
    "\n",
    "    optimizer = jaxopt.ScipyMinimize(method='L-BFGS-B', fun=_loss)\n",
    "    solution = optimizer.run(beta)\n",
    "    newbeta = solution.params.reshape((X.shape[1], y.shape[1]))  # sp.minimize flattens the beta matrix\n",
    "    \n",
    "    if verbose:\n",
    "        final_loss = crm_loss(newbeta, crm_dataset)\n",
    "        print('%.4f' % final_loss, file=sys.stderr)\n",
    "    \n",
    "    return newbeta"
   ]
  },
  {
   "cell_type": "markdown",
   "id": "7e6b0bfd",
   "metadata": {},
   "source": [
    "### Evaluation"
   ]
  },
  {
   "cell_type": "code",
   "execution_count": 33,
   "id": "ec13dda8",
   "metadata": {},
   "outputs": [],
   "source": [
    "def evaluate_model(beta, X_test, y_test):\n",
    "    beta_test_probas = model_predict(beta, X_test, y_test)\n",
    "    action_chosen = (beta_test_probas > .5).astype(int)\n",
    "    return micro_hammingloss(action_chosen, y_test)"
   ]
  },
  {
   "cell_type": "markdown",
   "id": "f6aef896",
   "metadata": {},
   "source": [
    "----\n",
    "## Baselines & Skylines"
   ]
  },
  {
   "cell_type": "markdown",
   "id": "2170d08d",
   "metadata": {},
   "source": [
    " ![Perf from CRM article](./basesky.png)"
   ]
  },
  {
   "cell_type": "code",
   "execution_count": 34,
   "id": "e9e6493c",
   "metadata": {},
   "outputs": [],
   "source": [
    "if dataset_name == 'tmc_2007':\n",
    "    print(\"reducing dimension for TMC dataset\")\n",
    "    fh = GaussianRandomProjection(n_components=1000)\n",
    "    X_train = fh.fit_transform(X_train)\n",
    "    X_test = fh.transform(X_test)\n",
    "    print(X_train.shape)"
   ]
  },
  {
   "cell_type": "code",
   "execution_count": 35,
   "id": "2550da71",
   "metadata": {},
   "outputs": [
    {
     "name": "stdout",
     "output_type": "stream",
     "text": [
      "pi_null micro test loss: 4.251908396946565\n"
     ]
    }
   ],
   "source": [
    "print(\"pi_null micro test loss:\", micro_hammingloss(np.zeros(y_test.shape), y_test))"
   ]
  },
  {
   "cell_type": "code",
   "execution_count": 36,
   "id": "ca1aab7a",
   "metadata": {},
   "outputs": [
    {
     "name": "stdout",
     "output_type": "stream",
     "text": [
      "pi_dummy train loss: 3.236\n",
      "pi_dummy test loss: 3.261723009814613\n"
     ]
    },
    {
     "name": "stderr",
     "output_type": "stream",
     "text": [
      "/home/e.diemert/miniconda/lib/python3.9/site-packages/sklearn/utils/deprecation.py:103: FutureWarning: `n_features_in_` is deprecated in 1.0 and will be removed in 1.2.\n",
      "  warnings.warn(msg, category=FutureWarning)\n"
     ]
    }
   ],
   "source": [
    "pi_dummy = MultiOutputClassifier(DummyClassifier())\n",
    "pi_dummy.fit(X_train, y_train)\n",
    "\n",
    "print(\"pi_dummy train loss:\", micro_hammingloss(pi_dummy.predict(X_train), y_train))\n",
    "print(\"pi_dummy test loss:\", micro_hammingloss(pi_dummy.predict(X_test), y_test))"
   ]
  },
  {
   "cell_type": "code",
   "execution_count": 37,
   "id": "f0ae4729",
   "metadata": {},
   "outputs": [
    {
     "name": "stdout",
     "output_type": "stream",
     "text": [
      "learning pi0 on 75 data points\n",
      "pi0 train loss: 3.028\n",
      "pi0 test loss: 3.134133042529989\n"
     ]
    }
   ],
   "source": [
    "pi0 = MultiOutputClassifier(LogisticRegression(), n_jobs=6)\n",
    "\n",
    "X_0, X_, y_0, y_ = train_test_split(X_train, y_train, test_size=.95, random_state=42)\n",
    "print('learning pi0 on', len(X_0), 'data points')\n",
    "pi0.fit(X_0, y_0)\n",
    "\n",
    "print(\"pi0 train loss:\", micro_hammingloss(pi0.predict(X_train), y_train))\n",
    "l0 = micro_hammingloss(pi0.predict(X_test), y_test)\n",
    "print(\"pi0 test loss:\", l0)"
   ]
  },
  {
   "cell_type": "code",
   "execution_count": 38,
   "id": "fc726f83",
   "metadata": {},
   "outputs": [
    {
     "data": {
      "text/plain": [
       "MultiOutputClassifier(estimator=LogisticRegressionCV(max_iter=10000, n_jobs=6))"
      ]
     },
     "execution_count": 38,
     "metadata": {},
     "output_type": "execute_result"
    }
   ],
   "source": [
    "pistar = MultiOutputClassifier(LogisticRegressionCV(max_iter=10000, n_jobs=6))\n",
    "pistar.fit(X_train, y_train)"
   ]
  },
  {
   "cell_type": "code",
   "execution_count": 39,
   "id": "6b18ced3",
   "metadata": {},
   "outputs": [
    {
     "name": "stdout",
     "output_type": "stream",
     "text": [
      "pi* train loss: 2.6293333333333333\n",
      "pi* test loss: 2.7906215921483097\n"
     ]
    }
   ],
   "source": [
    "print(\"pi* train loss:\", micro_hammingloss(pistar.predict(X_train), y_train))\n",
    "lstar = micro_hammingloss(pistar.predict(X_test), y_test)\n",
    "print(\"pi* test loss:\", lstar)"
   ]
  },
  {
   "cell_type": "code",
   "execution_count": 40,
   "id": "3dca3453",
   "metadata": {},
   "outputs": [],
   "source": [
    "ref_crm_dataset = CRMDataset().update_from_supervised_dataset(\n",
    "    X_train, y_train, \n",
    "    np.ones((X_train.shape[0], y_train.shape[1]))*.5,\n",
    "    n_samples=40\n",
    ")"
   ]
  },
  {
   "cell_type": "markdown",
   "id": "3cd69647",
   "metadata": {},
   "source": [
    "---\n",
    "## Sequential CRM"
   ]
  },
  {
   "cell_type": "code",
   "execution_count": 73,
   "id": "c399eb90",
   "metadata": {},
   "outputs": [],
   "source": [
    "class LossHistory(object):\n",
    "    \n",
    "    def __init__(self, name, ref_crm_dataset, X_test, y_test):\n",
    "        self.name = name\n",
    "        self.ref_crm_dataset = ref_crm_dataset\n",
    "        self.X_test = X_test\n",
    "        self.y_test = y_test\n",
    "        self.hamming_loss = []\n",
    "        self.crm_loss = []\n",
    "        self.unif_crm_loss = []\n",
    "        self.betas = []\n",
    "        self.n_samples = []\n",
    "        self.n_actions = []\n",
    "        self.rewards = []\n",
    "        \n",
    "    def update(self, beta, crm_dataset):\n",
    "        self.betas += [beta]\n",
    "        self.hamming_loss += [evaluate_model(beta, self.X_test, self.y_test)]\n",
    "        self.crm_loss += [crm_loss(beta, crm_dataset)]\n",
    "        self.unif_crm_loss += [crm_loss(beta, self.ref_crm_dataset)]\n",
    "        self.n_samples += [len(crm_dataset)]\n",
    "        self.n_actions += [np.sum(crm_dataset.actions_)]\n",
    "        self.rewards += [np.sum(crm_dataset.rewards_)]\n",
    "        \n",
    "    def show_last(self):\n",
    "        print(\n",
    "            '<', self.name,\n",
    "            'Ham. loss: %.5f' % self.hamming_loss[-1], \n",
    "            'CRM loss: %.5f' % self.crm_loss[-1],\n",
    "            'CRM loss (U): %.5f' % self.unif_crm_loss[-1],\n",
    "            '|beta|=%.2f' % np.sqrt((self.betas[-1]**2).sum()), \n",
    "            'n=%d' % self.n_samples[-1],\n",
    "            '|A|=%d' % self.n_actions[-1],\n",
    "            '|R|=%d' % self.rewards[-1],\n",
    "            '>',\n",
    "            file=sys.stderr\n",
    "        )"
   ]
  },
  {
   "cell_type": "code",
   "execution_count": 74,
   "id": "51001a4f",
   "metadata": {},
   "outputs": [
    {
     "name": "stdout",
     "output_type": "stream",
     "text": [
      "beta0 H. loss: 7.3587785\n",
      "beta0 CRM Loss (unif): 0.0016001314\n"
     ]
    }
   ],
   "source": [
    "beta_init = np.random.normal(size=(X_train.shape[1], len(labels)))*0+1\n",
    "print('beta0 H. loss:', evaluate_model(beta_init, X_test, y_test))\n",
    "print('beta0 CRM Loss (unif):', crm_loss(beta_init, ref_crm_dataset))"
   ]
  },
  {
   "cell_type": "code",
   "execution_count": 75,
   "id": "d035c476",
   "metadata": {
    "scrolled": false
   },
   "outputs": [
    {
     "name": "stderr",
     "output_type": "stream",
     "text": [
      "****************************** PASS 1/10 ******************************\n",
      "******************** episod: 1/1 time: 0s ********************\n",
      "CRM dataset: 0-> 6000\n",
      "Optim iteration - loss: 0.0155 -> 0.0155\n",
      "< Static Ham. loss: 7.35878 CRM loss: 0.01555 CRM loss (U): 0.00160 |beta|=37.97 n=6000 |A|=23641 |R|=58461 >\n",
      "CRM dataset: 0-> 6000\n",
      "Optim iteration - loss: 0.0155 -> 0.0155\n",
      "< Dynamic Ham. loss: 7.35878 CRM loss: 0.01555 CRM loss (U): 0.00160 |beta|=37.97 n=6000 |A|=23775 |R|=58587 >\n",
      "****************************** PASS 2/10 ******************************\n",
      "******************** episod: 1/1 time: 2s ********************\n",
      "CRM dataset: 6000-> 12000\n",
      "Optim iteration - loss: 0.0078 -> 0.0078\n",
      "< Static Ham. loss: 7.35878 CRM loss: 0.00778 CRM loss (U): 0.00160 |beta|=37.97 n=12000 |A|=47338 |R|=116788 >\n",
      "CRM dataset: 6000-> 12000\n",
      "Optim iteration - loss: 0.0078 -> 0.0078\n",
      "< Dynamic Ham. loss: 7.35878 CRM loss: 0.00777 CRM loss (U): 0.00160 |beta|=37.97 n=12000 |A|=47429 |R|=117119 >\n",
      "****************************** PASS 3/10 ******************************\n",
      "******************** episod: 1/1 time: 4s ********************\n",
      "CRM dataset: 12000-> 18000\n",
      "Optim iteration - loss: 0.0052 -> 0.0052\n",
      "< Static Ham. loss: 7.35878 CRM loss: 0.00518 CRM loss (U): 0.00160 |beta|=37.97 n=18000 |A|=70962 |R|=175570 >\n",
      "CRM dataset: 12000-> 18000\n",
      "Optim iteration - loss: 0.0052 -> 0.0052\n",
      "< Dynamic Ham. loss: 7.35878 CRM loss: 0.00518 CRM loss (U): 0.00160 |beta|=37.97 n=18000 |A|=70947 |R|=175679 >\n",
      "****************************** PASS 4/10 ******************************\n",
      "******************** episod: 1/1 time: 6s ********************\n",
      "CRM dataset: 18000-> 24000\n",
      "Optim iteration - loss: 0.0039 -> 0.0039\n",
      "< Static Ham. loss: 7.35878 CRM loss: 0.00389 CRM loss (U): 0.00160 |beta|=37.97 n=24000 |A|=94495 |R|=234301 >\n",
      "CRM dataset: 18000-> 24000\n",
      "Optim iteration - loss: 0.0039 -> 0.0039\n",
      "< Dynamic Ham. loss: 7.35878 CRM loss: 0.00389 CRM loss (U): 0.00160 |beta|=37.97 n=24000 |A|=94591 |R|=234383 >\n",
      "****************************** PASS 5/10 ******************************\n",
      "******************** episod: 1/1 time: 8s ********************\n",
      "CRM dataset: 24000-> 30000\n",
      "Optim iteration - loss: 0.0031 -> 0.0031\n",
      "< Static Ham. loss: 7.35878 CRM loss: 0.00311 CRM loss (U): 0.00160 |beta|=37.97 n=30000 |A|=118217 |R|=292981 >\n",
      "CRM dataset: 24000-> 30000\n",
      "Optim iteration - loss: 0.0031 -> 0.0031\n",
      "< Dynamic Ham. loss: 7.35878 CRM loss: 0.00311 CRM loss (U): 0.00160 |beta|=37.97 n=30000 |A|=118081 |R|=293125 >\n",
      "****************************** PASS 6/10 ******************************\n",
      "******************** episod: 1/1 time: 9s ********************\n",
      "CRM dataset: 30000-> 36000\n",
      "Optim iteration - loss: 0.0026 -> 0.0026\n",
      "< Static Ham. loss: 7.35878 CRM loss: 0.00259 CRM loss (U): 0.00160 |beta|=37.97 n=36000 |A|=141728 |R|=351746 >\n",
      "CRM dataset: 30000-> 36000\n",
      "Optim iteration - loss: 0.0026 -> 0.0026\n",
      "< Dynamic Ham. loss: 7.35878 CRM loss: 0.00259 CRM loss (U): 0.00160 |beta|=37.97 n=36000 |A|=141701 |R|=351871 >\n",
      "****************************** PASS 7/10 ******************************\n",
      "******************** episod: 1/1 time: 11s ********************\n",
      "CRM dataset: 36000-> 42000\n",
      "Optim iteration - loss: 0.0022 -> 0.0022\n",
      "< Static Ham. loss: 7.35878 CRM loss: 0.00222 CRM loss (U): 0.00160 |beta|=37.97 n=42000 |A|=165340 |R|=410246 >\n",
      "CRM dataset: 36000-> 42000\n",
      "Optim iteration - loss: 0.0022 -> 0.0022\n",
      "< Dynamic Ham. loss: 7.35878 CRM loss: 0.00222 CRM loss (U): 0.00160 |beta|=37.97 n=42000 |A|=165414 |R|=410588 >\n",
      "****************************** PASS 8/10 ******************************\n",
      "******************** episod: 1/1 time: 13s ********************\n",
      "CRM dataset: 42000-> 48000\n",
      "Optim iteration - loss: 0.0019 -> 0.0019\n",
      "< Static Ham. loss: 7.35878 CRM loss: 0.00194 CRM loss (U): 0.00160 |beta|=37.97 n=48000 |A|=189125 |R|=468637 >\n",
      "CRM dataset: 42000-> 48000\n",
      "Optim iteration - loss: 0.0019 -> 0.0019\n",
      "< Dynamic Ham. loss: 7.35878 CRM loss: 0.00194 CRM loss (U): 0.00160 |beta|=37.97 n=48000 |A|=189065 |R|=469291 >\n",
      "****************************** PASS 9/10 ******************************\n",
      "******************** episod: 1/1 time: 15s ********************\n",
      "CRM dataset: 48000-> 54000\n",
      "Optim iteration - loss: 0.0017 -> 0.0017\n",
      "< Static Ham. loss: 7.35878 CRM loss: 0.00173 CRM loss (U): 0.00160 |beta|=37.97 n=54000 |A|=212657 |R|=527399 >\n",
      "CRM dataset: 48000-> 54000\n",
      "Optim iteration - loss: 0.0017 -> 0.0017\n",
      "< Dynamic Ham. loss: 7.35878 CRM loss: 0.00173 CRM loss (U): 0.00160 |beta|=37.97 n=54000 |A|=212530 |R|=528112 >\n",
      "****************************** PASS 10/10 ******************************\n",
      "******************** episod: 1/1 time: 16s ********************\n",
      "CRM dataset: 54000-> 60000\n",
      "Optim iteration - loss: 0.0016 -> 0.0016\n",
      "< Static Ham. loss: 7.35878 CRM loss: 0.00155 CRM loss (U): 0.00160 |beta|=37.97 n=60000 |A|=236240 |R|=586094 >\n",
      "CRM dataset: 54000-> 60000\n",
      "Optim iteration - loss: 0.0016 -> 0.0016\n",
      "< Dynamic Ham. loss: 7.35878 CRM loss: 0.00155 CRM loss (U): 0.00160 |beta|=37.97 n=60000 |A|=236197 |R|=586893 >\n"
     ]
    }
   ],
   "source": [
    "beta_static = jnp.array(beta_init)\n",
    "beta_dynamic = jnp.array(beta_init)\n",
    "\n",
    "static_crm_dataset = CRMDataset()\n",
    "dynamic_crm_dataset = CRMDataset()\n",
    "\n",
    "static_loss_history = LossHistory(\"Static\", ref_crm_dataset, X_test, y_test)\n",
    "dynamic_loss_history = LossHistory(\"Dynamic\", ref_crm_dataset, X_test, y_test)\n",
    "\n",
    "epochs = 10\n",
    "n_episods = 1\n",
    "batch = int(len(X_train) / n_episods)\n",
    "replays = 4\n",
    "\n",
    "t_end = t_start = time.time()\n",
    "for _ in range(epochs):\n",
    "    \n",
    "    print('*'*30, 'PASS %d/%d'% (_+1, epochs), '*'*30, file=sys.stderr)\n",
    "    for episod in range(n_episods):\n",
    "        \n",
    "        t_end = time.time()\n",
    "        start = episod*batch\n",
    "        end = (episod+1)*batch\n",
    "        print('*'*20, 'episod: %d/%d' % (episod+1, n_episods), 'time: %ds' % (t_end - t_start), '*'*20, file=sys.stderr)\n",
    "        t_start = time.time()\n",
    "\n",
    "        # current slice of dataset\n",
    "        X = X_train[start:end,:]\n",
    "        y = y_train[start:end,:]\n",
    "       \n",
    "        #### static CRM \n",
    "        ## action probas\n",
    "        sampling_probas_static = pi0.predict_proba(X)\n",
    "        sampling_probas_static = np.array([_[:,1] for _ in sampling_probas_static]).T\n",
    "        ## optimize\n",
    "        beta_static = iterate_model(\n",
    "            beta_static, X, y, sampling_probas_static, static_crm_dataset, \n",
    "            samples_per_instance=replays,\n",
    "        )\n",
    "        ## record\n",
    "        static_loss_history.update(beta_static, static_crm_dataset)\n",
    "        static_loss_history.show_last()\n",
    "        \n",
    "        #### sequential CRM \n",
    "        ## action probas\n",
    "        if episod == 0:\n",
    "            sampling_probas_dynamic = sampling_probas_static\n",
    "        else:\n",
    "            sampling_probas_dynamic = model_predict(beta_dynamic, X, y)        \n",
    "        ## optimize\n",
    "        beta_dynamic = iterate_model(\n",
    "            beta_dynamic, X, y, sampling_probas_dynamic, dynamic_crm_dataset,\n",
    "            samples_per_instance=replays,\n",
    "        )\n",
    "        ## record\n",
    "        dynamic_loss_history.update(beta_dynamic, dynamic_crm_dataset)\n",
    "        dynamic_loss_history.show_last()"
   ]
  },
  {
   "cell_type": "code",
   "execution_count": 76,
   "id": "341ee6ed",
   "metadata": {},
   "outputs": [
    {
     "data": {
      "text/plain": [
       "<matplotlib.legend.Legend at 0x7f15c9b700d0>"
      ]
     },
     "execution_count": 76,
     "metadata": {},
     "output_type": "execute_result"
    },
    {
     "data": {
      "image/png": "[encoded data removed]",
      "text/plain": [
       "<Figure size 432x288 with 2 Axes>"
      ]
     },
     "metadata": {
      "needs_background": "light"
     },
     "output_type": "display_data"
    }
   ],
   "source": [
    "fig, ax = plt.subplots(constrained_layout=True)\n",
    "plt.title('Loss Evolution over Rollouts')\n",
    "ax.set_xlabel('Rollouts')\n",
    "ax.set_ylabel('CRM Loss')\n",
    "ax.plot(static_loss_history.crm_loss, '--', label='CRM loss (static)')\n",
    "ax.plot(dynamic_loss_history.crm_loss, '--', label='CRM loss (dynamic)')\n",
    "ax.plot(static_loss_history.unif_crm_loss, '--', label='unif. CRM loss (static)')\n",
    "ax.plot(dynamic_loss_history.unif_crm_loss, '--', label='unif. CRM loss (dynamic)')\n",
    "ax.legend(loc='upper right')\n",
    "ax2 = ax.twinx()\n",
    "ax2.plot(static_loss_history.hamming_loss, label='Hamming loss (static)')\n",
    "ax2.plot(dynamic_loss_history.hamming_loss, label='Hamming loss (dynamic)')\n",
    "ax2.set_ylabel('Hamming Loss')\n",
    "ax2.legend(loc='lower left')"
   ]
  },
  {
   "cell_type": "code",
   "execution_count": 68,
   "id": "bf53deb9",
   "metadata": {},
   "outputs": [
    {
     "data": {
      "text/plain": [
       "<matplotlib.legend.Legend at 0x7f15c73991c0>"
      ]
     },
     "execution_count": 68,
     "metadata": {},
     "output_type": "execute_result"
    },
    {
     "data": {
      "image/png": "[encoded data removed]",
      "text/plain": [
       "<Figure size 432x288 with 1 Axes>"
      ]
     },
     "metadata": {
      "needs_background": "light"
     },
     "output_type": "display_data"
    }
   ],
   "source": [
    "plt.title('Avg Proba per Action')\n",
    "plt.plot(jexpit(beta_static.mean(axis=0)),'--', label='static')\n",
    "plt.plot(jexpit(beta_dynamic.mean(axis=0)),'--', label='dynamic')\n",
    "plt.legend()"
   ]
  },
  {
   "cell_type": "code",
   "execution_count": 69,
   "id": "39d44929",
   "metadata": {},
   "outputs": [
    {
     "data": {
      "text/plain": [
       "<matplotlib.legend.Legend at 0x7f15c6bd7520>"
      ]
     },
     "execution_count": 69,
     "metadata": {},
     "output_type": "execute_result"
    },
    {
     "data": {
      "image/png": "[encoded data removed]",
      "text/plain": [
       "<Figure size 432x288 with 1 Axes>"
      ]
     },
     "metadata": {
      "needs_background": "light"
     },
     "output_type": "display_data"
    }
   ],
   "source": [
    "plt.title('Avg Proba per Feature')\n",
    "plt.plot(jexpit(beta_static.mean(axis=1)),'--', label='static')\n",
    "plt.plot(jexpit(beta_dynamic.mean(axis=1)),'--', label='dynamic')\n",
    "plt.legend()"
   ]
  },
  {
   "cell_type": "code",
   "execution_count": 70,
   "id": "d41c8b99",
   "metadata": {},
   "outputs": [
    {
     "data": {
      "text/plain": [
       "<matplotlib.legend.Legend at 0x7f15c69fb8e0>"
      ]
     },
     "execution_count": 70,
     "metadata": {},
     "output_type": "execute_result"
    },
    {
     "data": {
      "image/png": "[encoded data removed]",
      "text/plain": [
       "<Figure size 432x288 with 1 Axes>"
      ]
     },
     "metadata": {
      "needs_background": "light"
     },
     "output_type": "display_data"
    }
   ],
   "source": [
    "plt.title('Sampling Probas per Action')\n",
    "plt.plot(sampling_probas_static.mean(axis=0),'--', label='static')\n",
    "plt.plot(sampling_probas_dynamic.mean(axis=0),'--', label='dynamic')\n",
    "plt.plot(y_test.mean(axis=0), label='label average', alpha=.5)\n",
    "plt.legend()"
   ]
  }
 ],
 "metadata": {
  "kernelspec": {
   "display_name": "Python 3 (ipykernel)",
   "language": "python",
   "name": "python3"
  },
  "language_info": {
   "codemirror_mode": {
    "name": "ipython",
    "version": 3
   },
   "file_extension": ".py",
   "mimetype": "text/x-python",
   "name": "python",
   "nbconvert_exporter": "python",
   "pygments_lexer": "ipython3",
   "version": "3.9.12"
  }
 },
 "nbformat": 4,
 "nbformat_minor": 5
}

{
 "cells": [
  {
   "cell_type": "markdown",
   "id": "c4fa689b",
   "metadata": {},
   "source": [
    "# $\\lambda$ Experiments\n"
   ]
  },
  {
   "cell_type": "code",
   "execution_count": 1,
   "id": "c38a5ebd-d63a-45ea-9aeb-bd2ce8f47793",
   "metadata": {},
   "outputs": [],
   "source": [
    "%load_ext autoreload\n",
    "%autoreload 2"
   ]
  },
  {
   "cell_type": "code",
   "execution_count": 2,
   "id": "9c25f72b",
   "metadata": {},
   "outputs": [],
   "source": [
    "import sys\n",
    "import time\n",
    "import copy"
   ]
  },
  {
   "cell_type": "code",
   "execution_count": 3,
   "id": "b3299e83",
   "metadata": {},
   "outputs": [],
   "source": [
    "import numpy as np"
   ]
  },
  {
   "cell_type": "code",
   "execution_count": 4,
   "id": "9a8fd973-d7ae-44dd-9588-d1f68a37eeb5",
   "metadata": {},
   "outputs": [],
   "source": [
    "import jax.numpy as jnp\n",
    "from jax.scipy.special import expit as jexpit"
   ]
  },
  {
   "cell_type": "code",
   "execution_count": 5,
   "id": "6da5c3e3",
   "metadata": {},
   "outputs": [],
   "source": [
    "import matplotlib.pyplot as plt"
   ]
  },
  {
   "cell_type": "code",
   "execution_count": 10,
   "id": "040d3d14-85a8-4352-8e96-43c704eecae2",
   "metadata": {},
   "outputs": [],
   "source": [
    "from dataset_utils import load_dataset\n",
    "from baselines_skylines import result_table, make_baselines_skylines, stochastic_hamming_loss, epsilon_greedy_predict_proba\n",
    "from crm_dataset import CRMDataset\n",
    "from crm_model import Model, EpsilonGreedyModel\n",
    "from tracing_utils import LossHistory"
   ]
  },
  {
   "cell_type": "markdown",
   "id": "69c93204",
   "metadata": {},
   "source": [
    "---\n",
    "### Loading dataset"
   ]
  },
  {
   "cell_type": "code",
   "execution_count": 7,
   "id": "dbaa9cb3",
   "metadata": {},
   "outputs": [
    {
     "name": "stdout",
     "output_type": "stream",
     "text": [
      "reducing dimension for TMC dataset\n",
      "X_train: (1812, 200) y_train: (1812, 14)\n"
     ]
    },
    {
     "name": "stderr",
     "output_type": "stream",
     "text": [
      "/home/e.diemert/miniconda/lib/python3.9/site-packages/sklearn/random_projection.py:390: DataDimensionalityWarning: The number of components is higher than the number of features: n_features < n_components (104 < 200).The dimensionality of the problem will not be reduced.\n",
      "  warnings.warn(\n"
     ]
    }
   ],
   "source": [
    "# dataset_name='scene'\n",
    "dataset_name='yeast'\n",
    "# dataset_name='tmc2007'\n",
    "\n",
    "X_train, y_train, X_test, y_test, labels = load_dataset(dataset_name, reduce_dim=200)"
   ]
  },
  {
   "cell_type": "markdown",
   "id": "f6aef896",
   "metadata": {},
   "source": [
    "### Baselines & Skylines"
   ]
  },
  {
   "cell_type": "code",
   "execution_count": 9,
   "id": "b321b06d-23e5-429a-b135-66f7c5246b0f",
   "metadata": {},
   "outputs": [],
   "source": [
    "pi0, pistar = make_baselines_skylines(dataset_name, X_train, y_train, n_jobs=4)"
   ]
  },
  {
   "cell_type": "markdown",
   "id": "28ae40cb",
   "metadata": {},
   "source": [
    "# The Experiment"
   ]
  },
  {
   "cell_type": "code",
   "execution_count": 11,
   "id": "9abaf8a9-3817-4307-aad1-fcb728d3e3ad",
   "metadata": {},
   "outputs": [
    {
     "data": {
      "text/plain": [
       "1812"
      ]
     },
     "execution_count": 11,
     "metadata": {},
     "output_type": "execute_result"
    }
   ],
   "source": [
    "len(X_train)"
   ]
  },
  {
   "cell_type": "code",
   "execution_count": 12,
   "id": "ae3c2d79-86db-4357-8242-2c9089c5d8c3",
   "metadata": {},
   "outputs": [
    {
     "data": {
      "text/plain": [
       "(10, [113, 226, 453, 906, 1812])"
      ]
     },
     "execution_count": 12,
     "metadata": {},
     "output_type": "execute_result"
    }
   ],
   "source": [
    "n_rollouts = 10\n",
    "\n",
    "samples = [len(X_train)]\n",
    "for _ in range(n_rollouts):\n",
    "    samples += [int(samples[-1] / 2)]\n",
    "samples = sorted([_ for _ in samples if _ > 100])\n",
    "\n",
    "n_replays = 6  # actions per context\n",
    "n_reruns = 10 # to account for action stochasticity\n",
    "n_rollouts, samples"
   ]
  },
  {
   "cell_type": "code",
   "execution_count": 17,
   "id": "7c967827-0696-494a-9dce-07984e78a9ce",
   "metadata": {},
   "outputs": [
    {
     "name": "stdout",
     "output_type": "stream",
     "text": [
      "0.....\n",
      "1.....\n",
      "2.....\n",
      "3.....\n",
      "4.....\n",
      "5.....\n",
      "6.....\n",
      "7.....\n",
      "8.....\n",
      "9.....\n"
     ]
    },
    {
     "data": {
      "text/plain": [
       "(array([0.49916235, 0.43283887, 0.31170392, 0.30562909, 0.25967255]),\n",
       " array([0.59695986, 0.59695986, 0.59695986, 0.59695986, 0.59695986]))"
      ]
     },
     "execution_count": 17,
     "metadata": {},
     "output_type": "execute_result"
    }
   ],
   "source": [
    "crm_losses = np.ones((n_reruns, len(samples)))\n",
    "crm_rewards = np.ones((n_reruns, len(samples)))\n",
    "\n",
    "test_sampling_probas = np.array([_[:,1] for _ in pi0.predict_proba(X_test)]).T\n",
    "crm_reward = CRMDataset().update_from_supervised_dataset(\n",
    "    X_test, y_test, test_sampling_probas, n_samples=4\n",
    ").rewards.sum() / (len(X_test)*y_test.shape[1]*4)\n",
    "\n",
    "for i in range(n_reruns):\n",
    "    np.random.seed(i*42+1000)\n",
    "    print(i, end='')\n",
    "    \n",
    "    crm_model = EpsilonGreedyModel.null_model(X_test.shape[1], y_test.shape[1])\n",
    "    crm_dataset = CRMDataset()\n",
    "        \n",
    "    start = 0\n",
    "    for j, end in enumerate(samples):\n",
    "        print('.', end='')\n",
    "        # current batch\n",
    "        X = X_train[start:end, :]\n",
    "        y = y_train[start:end, :]\n",
    "        if end > start:\n",
    "            # CRM play & data collection\n",
    "            sampling_probas = epsilon_greedy_predict_proba(pi0, X, epsilon=.05) \n",
    "            crm_dataset.update_from_supervised_dataset(X, y, sampling_probas, n_samples=n_replays)\n",
    "            # learning\n",
    "            crm_model.fit(\n",
    "                crm_dataset, \n",
    "                lambda_ = .5,\n",
    "                verbose = 0\n",
    "            )\n",
    "        # eval\n",
    "        crm_losses[i,j] = crm_model.expected_hamming_loss(X_test, y_test)\n",
    "        crm_rewards[i,j] = crm_reward\n",
    "        # next round\n",
    "        start = end\n",
    "    print()\n",
    "\n",
    "crm_losses = crm_losses.mean(axis=0)\n",
    "crm_rewards = crm_rewards.mean(axis=0)\n",
    "crm_losses, crm_rewards"
   ]
  },
  {
   "cell_type": "code",
   "execution_count": 23,
   "id": "397c4f1e-6ad2-428e-9101-ca52bfb679b8",
   "metadata": {},
   "outputs": [
    {
     "name": "stdout",
     "output_type": "stream",
     "text": [
      "0.....\n",
      "1.....\n",
      "2.....\n",
      "3.....\n",
      "4.....\n",
      "5.....\n",
      "6.....\n",
      "7.....\n",
      "8.....\n",
      "9.....\n"
     ]
    },
    {
     "data": {
      "text/plain": [
       "(array([0.39007583, 0.40292183, 0.35634711, 0.34704157, 0.34533957]),\n",
       " array([0.60927391, 0.59714876, 0.64370425, 0.65298111, 0.65440083]),\n",
       " array([[-0.09805744, -0.07293011, -0.05393852, -0.03977678, -0.02923784],\n",
       "        [-0.09805744, -0.07293011, -0.05393852, -0.03977678, -0.02923784],\n",
       "        [-0.09805744, -0.07293011, -0.05393852, -0.03977678, -0.02923784],\n",
       "        [-0.09805744, -0.07293011, -0.05393852, -0.03977678, -0.02923784],\n",
       "        [-0.09805744, -0.07293011, -0.05393852, -0.03977678, -0.02923784],\n",
       "        [-0.09805744, -0.07293011, -0.05393852, -0.03977678, -0.02923784],\n",
       "        [-0.09805744, -0.07293011, -0.05393852, -0.03977678, -0.02923784],\n",
       "        [-0.09805744, -0.07293011, -0.05393852, -0.03977678, -0.02923784],\n",
       "        [-0.09805744, -0.07293011, -0.05393852, -0.03977678, -0.02923784],\n",
       "        [-0.09805744, -0.07293011, -0.05393852, -0.03977678, -0.02923784]]))"
      ]
     },
     "execution_count": 23,
     "metadata": {},
     "output_type": "execute_result"
    }
   ],
   "source": [
    "scrm_losses = np.ones((n_reruns, len(samples)))\n",
    "scrm_rewards = np.ones((n_reruns, len(samples)))\n",
    "scrm_lambdas = np.ones((n_reruns, len(samples,)))\n",
    "\n",
    "for i in range(n_reruns):\n",
    "    np.random.seed(i*42+1000)\n",
    "    print(i, end='')\n",
    "\n",
    "    scrm_model = EpsilonGreedyModel.null_model(X_test.shape[1], y_test.shape[1])\n",
    "    scrm_dataset = CRMDataset()\n",
    "    \n",
    "    start = 0\n",
    "    for j, end in enumerate(samples):\n",
    "        print('.', end='')\n",
    "        # current batch\n",
    "        X = X_train[start:end, :]\n",
    "        y = y_train[start:end, :]\n",
    "        if end > start:\n",
    "            # CRM play & data collection\n",
    "            if j == 0:\n",
    "                sampling_probas = epsilon_greedy_predict_proba(pi0, X, epsilon=.05) \n",
    "            else:\n",
    "                sampling_probas = scrm_model.predict_proba(X, y, randomize=True)\n",
    "            scrm_dataset.update_from_supervised_dataset(X, y, sampling_probas, n_samples=n_replays)\n",
    "            # bench lambdas\n",
    "            best_lambda = -1 * np.sqrt(np.log(len(scrm_dataset))/len(scrm_dataset))\n",
    "            # best_lambda = crm_model.cross_validate_lambda(\n",
    "            #    scrm_dataset, \n",
    "            #    len(X_train)*n_replays, \n",
    "            #    grid=[1e-4, 1e-3, 1e-2, 1e-1, .5, 1],\n",
    "            #    suffle=True,\n",
    "            #    seed=i*42+1000+j, n_jobs=5\n",
    "            # )\n",
    "            scrm_lambdas[i,j] = best_lambda\n",
    "            # learning\n",
    "            scrm_model.fit(\n",
    "                scrm_dataset, \n",
    "                lambda_ = best_lambda,\n",
    "                verbose = 0\n",
    "            )\n",
    "        # eval\n",
    "        scrm_losses[i,j] = scrm_model.expected_hamming_loss(X_test, y_test)\n",
    "        scrm_rewards[i,j] = CRMDataset().update_from_supervised_dataset(\n",
    "            X_test, y_test, scrm_model.predict_proba(X_test, np.ones_like(y_test)), n_samples=4\n",
    "        ).rewards.sum()  / (len(X_test)*y_test.shape[1]*4)\n",
    "        # next round\n",
    "        start = end\n",
    "    print()\n",
    "\n",
    "scrm_losses = scrm_losses.mean(axis=0)\n",
    "scrm_rewards = scrm_rewards.mean(axis=0)\n",
    "#scrm_lambdas = scrm_lambdas.mean(axis=0)\n",
    "scrm_losses, scrm_rewards, scrm_lambdas"
   ]
  },
  {
   "cell_type": "code",
   "execution_count": 20,
   "id": "d6eacd33-9d70-49ce-9dfa-2c98d4e00d26",
   "metadata": {},
   "outputs": [],
   "source": [
    "baseline_reward = np.mean([\n",
    "    CRMDataset().update_from_supervised_dataset(\n",
    "        X_test, y_test, \n",
    "        epsilon_greedy_predict_proba(pi0, X_test, epsilon=.05), n_samples=4\n",
    "    ).rewards.sum() / (len(X_test)*y_test.shape[1]*4)\n",
    "for _ in range(10)])\n",
    "baseline_rewards = np.ones_like(crm_losses)*baseline_reward\n",
    "\n",
    "skyline_reward = np.mean([\n",
    "    CRMDataset().update_from_supervised_dataset(\n",
    "        X_test, y_test, \n",
    "        epsilon_greedy_predict_proba(pistar, X_test, epsilon=.05), n_samples=4\n",
    "    ).rewards.sum() / (len(X_test)*y_test.shape[1]*4)\n",
    "for _ in range(10)])\n",
    "skyline_rewards = np.ones_like(crm_losses)*skyline_reward\n",
    "\n",
    "map_skyline_reward = np.mean([\n",
    "    CRMDataset().update_from_supervised_dataset(\n",
    "        X_test, y_test, \n",
    "        pistar.predict(X_test), n_samples=1\n",
    "    ).rewards.sum() / (len(X_test)*y_test.shape[1]*1)\n",
    "for _ in range(10)])\n",
    "map_skyline_rewards = np.ones_like(crm_losses)*map_skyline_reward\n",
    "\n",
    "baseline_loss = stochastic_hamming_loss(pi0, X_test, y_test)\n",
    "skyline_loss = stochastic_hamming_loss(pistar, X_test, y_test)"
   ]
  },
  {
   "cell_type": "code",
   "execution_count": 24,
   "id": "f8ac60f2-9ff1-4891-aacd-70b503b13d6d",
   "metadata": {},
   "outputs": [
    {
     "data": {
      "text/plain": [
       "<matplotlib.legend.Legend at 0x7f29a4108b80>"
      ]
     },
     "execution_count": 24,
     "metadata": {},
     "output_type": "execute_result"
    },
    {
     "data": {
      "image/png": "[encoded data removed]",
      "text/plain": [
       "<Figure size 1152x288 with 2 Axes>"
      ]
     },
     "metadata": {
      "needs_background": "light"
     },
     "output_type": "display_data"
    }
   ],
   "source": [
    "fig, (ax1, ax2) = plt.subplots(ncols=2, constrained_layout=True, figsize=(16,4))\n",
    "\n",
    "ax1.set_title('Loss Evolution over Data Usage - %s Dataset' % dataset_name)\n",
    "ax1.set_xlabel('Samples')\n",
    "ax1.plot(samples, np.ones_like(crm_losses)*baseline_loss, '--', label='Baseline')\n",
    "ax1.plot(samples, crm_losses, 'o-', label='POEM')\n",
    "# ax1.plot(samples[1:], ucrm_losses, 'o-', label='POEM + Unif. Explo.')\n",
    "ax1.plot(samples, scrm_losses, 'o-', label='S-CRM')\n",
    "ax1.plot(samples, np.ones_like(crm_losses)*skyline_loss, '--', label='Skyline')\n",
    "# ax1.plot(samples, np.ones_like(crm_losses)*map_skyline_loss, '--', label='Skyline (MAP)')\n",
    "ax1.set_ylabel('Hamming Loss')\n",
    "ax1.legend(loc=(1.1, .1))\n",
    "\n",
    "ax2.set_title('Cumulated Regret Evolution over Data Usage - %s Dataset' % dataset_name)\n",
    "ax2.set_xlabel('Samples')\n",
    "ax2.set_xscale('log')\n",
    "ax2.set_yscale('log')\n",
    "ax2.plot(samples, np.cumsum(samples*map_skyline_rewards) - np.cumsum(samples*np.ones_like(crm_losses)*baseline_reward), '--', label='Baseline')\n",
    "ax2.plot(samples, np.cumsum(samples*map_skyline_rewards) - np.cumsum(samples*crm_rewards), 'o-', label='POEM')\n",
    "# ax2.plot(samples[1:], ucrm_rewards, 'o-', label='POEM + Unif. Explo.')\n",
    "ax2.plot(samples, np.cumsum(samples*map_skyline_rewards) - np.cumsum(samples*scrm_rewards), 'o-', label='S-CRM')\n",
    "ax2.plot(samples, np.zeros_like(samples*skyline_rewards), '--', label='Skyline')\n",
    "ax2.set_ylabel('Cumulated Regret')\n",
    "ax2.legend(loc=(1.1, .1))"
   ]
  },
  {
   "cell_type": "code",
   "execution_count": 25,
   "id": "12e79503-e2d9-45d2-be54-2c88ac89e352",
   "metadata": {},
   "outputs": [
    {
     "data": {
      "text/plain": [
       "Text(0, 0.5, '$\\\\lambda$')"
      ]
     },
     "execution_count": 25,
     "metadata": {},
     "output_type": "execute_result"
    },
    {
     "data": {
      "image/png": "[encoded data removed]",
      "text/plain": [
       "<Figure size 432x288 with 1 Axes>"
      ]
     },
     "metadata": {
      "needs_background": "light"
     },
     "output_type": "display_data"
    }
   ],
   "source": [
    "for j in range(scrm_lambdas.shape[0]):\n",
    "    plt.plot(samples, scrm_lambdas[j, :], 'o--', label='run %d' % j)\n",
    "plt.legend(loc=(1.1,.1))\n",
    "plt.grid()\n",
    "plt.xlabel('rollout')\n",
    "#plt.yscale('log')\n",
    "plt.ylabel('$\\lambda$')"
   ]
  }
 ],
 "metadata": {
  "kernelspec": {
   "display_name": "Python 3",
   "language": "python",
   "name": "python3"
  },
  "language_info": {
   "codemirror_mode": {
    "name": "ipython",
    "version": 3
   },
   "file_extension": ".py",
   "mimetype": "text/x-python",
   "name": "python",
   "nbconvert_exporter": "python",
   "pygments_lexer": "ipython3",
   "version": "3.9.12"
  }
 },
 "nbformat": 4,
 "nbformat_minor": 5
}

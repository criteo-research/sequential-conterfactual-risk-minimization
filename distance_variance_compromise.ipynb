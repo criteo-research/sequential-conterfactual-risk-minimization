{
 "cells": [
  {
   "cell_type": "code",
   "execution_count": 1,
   "id": "ced34c8f",
   "metadata": {},
   "outputs": [],
   "source": [
    "import numpy as np\n",
    "import matplotlib.pyplot as plt\n",
    "from scipy.stats import norm\n",
    "import sys"
   ]
  },
  {
   "cell_type": "code",
   "execution_count": 2,
   "id": "4e12ad2d",
   "metadata": {},
   "outputs": [],
   "source": [
    "\n",
    "c2 = 0.2\n",
    "\n",
    "alpha = 1\n",
    "\n",
    "def loss_function(a, y):\n",
    "    return c2*(a-y)**2 -alpha\n",
    "\n"
   ]
  },
  {
   "cell_type": "code",
   "execution_count": 3,
   "id": "af56cb07",
   "metadata": {},
   "outputs": [
    {
     "data": {
      "image/png": "[encoded data removed]",
      "text/plain": [
       "<Figure size 432x288 with 1 Axes>"
      ]
     },
     "metadata": {
      "needs_background": "light"
     },
     "output_type": "display_data"
    }
   ],
   "source": [
    "# evenly sampled time at 200ms intervals\n",
    "thetas = np.arange(0.8, 3., 0.01)\n",
    "y = np.random.normal(loc=1, scale=0.3)\n",
    "\n",
    "# red dashes, blue squares and green triangles\n",
    "plt.plot(thetas, loss_function(thetas, y), '--', label='strongly convex')\n",
    "plt.legend()\n",
    "plt.show()"
   ]
  },
  {
   "cell_type": "code",
   "execution_count": 11,
   "id": "a9284b84",
   "metadata": {},
   "outputs": [],
   "source": [
    "def evaluate_theta(theta, random_seed):\n",
    "    rng = np.random.RandomState(random_seed)\n",
    "    size=10000\n",
    "    actions = rng.normal(loc=theta, scale=0.3, size=size)\n",
    "    y = rng.normal(loc=1, scale=0.3, size=size)\n",
    "    loss = np.mean(c2*(actions-y)**2 -alpha)\n",
    "    return loss\n",
    "    "
   ]
  },
  {
   "cell_type": "code",
   "execution_count": 12,
   "id": "c20f2560",
   "metadata": {},
   "outputs": [],
   "source": [
    "import jax\n",
    "import jax.numpy as jnp\n",
    "import jaxopt\n",
    "\n",
    "def pdf(loc, x):\n",
    "    scale = logging_scale\n",
    "    return 1/(scale * jnp.sqrt(2*jnp.pi)) * jnp.exp(-((x - loc)/scale)**2/2)\n",
    "\n",
    "def conservative_loss(param, data):\n",
    "    logging_samples, logging_losses, logging_propensities = data\n",
    "    n = logging_losses.shape[0]\n",
    "    lambd = np.sqrt(18*(np.log(n)))\n",
    "#     lambd = 0.01\n",
    "    importance_weights = pdf(param, logging_samples)/logging_propensities\n",
    "    mean = jnp.mean(logging_losses * importance_weights)\n",
    "    std = jnp.std(logging_losses * importance_weights)\n",
    "    return mean + lambd / np.sqrt(n) * std \n",
    "\n"
   ]
  },
  {
   "cell_type": "code",
   "execution_count": 13,
   "id": "6206eaaf",
   "metadata": {},
   "outputs": [],
   "source": [
    "loss_mode = 'convex'\n",
    "loss_function = loss_function"
   ]
  },
  {
   "cell_type": "code",
   "execution_count": 14,
   "id": "16d11d0e",
   "metadata": {},
   "outputs": [],
   "source": [
    "def optimize(loss_fun, init_parameter, args):\n",
    "    lower_bounds = -3*jnp.ones_like(init_parameter)\n",
    "    upper_bounds = 3*jnp.ones_like(init_parameter)\n",
    "    bounds = (lower_bounds, upper_bounds)\n",
    "\n",
    "#     lbfgsb = jaxopt.ScipyMinimize(fun=loss_fun, method=\"L-BFGS-B\").run(init_parameter, bounds=bounds, data=args)\n",
    "    lbfgsb = jaxopt.ScipyBoundedMinimize(fun=loss_fun, method=\"l-bfgs-b\").run(init_parameter, bounds=bounds, data=args)\n",
    "\n",
    "    lbfgs_sol = lbfgsb.params\n",
    "        \n",
    "    return lbfgs_sol"
   ]
  },
  {
   "cell_type": "markdown",
   "id": "37b9ff45",
   "metadata": {},
   "source": [
    "# Experiment"
   ]
  },
  {
   "cell_type": "code",
   "execution_count": 16,
   "id": "f029a99b",
   "metadata": {},
   "outputs": [],
   "source": [
    "logging_mu = 2.5\n",
    "logging_scale = 0.3\n",
    "\n",
    "def get_logging_data(n_samples, logging_mu, logging_scale, random_seed=123):\n",
    "\n",
    "    rng = np.random.RandomState(random_seed)\n",
    "    y_0 = rng.normal(loc=1, scale=logging_scale)\n",
    "    action_samples = rng.normal(loc=logging_mu, scale=logging_scale, size=n_samples)\n",
    "    losses = loss_function(action_samples, y_0)\n",
    "    logging_pdf = norm(loc=logging_mu, scale=logging_scale).pdf\n",
    "    propensities = logging_pdf(action_samples)\n",
    "    loss = np.mean(losses)\n",
    "\n",
    "    logging_data = action_samples, losses, propensities\n",
    "\n",
    "    return logging_data\n",
    "\n",
    "settings = {\n",
    "    'M':15,\n",
    "    'n_0':100\n",
    "}"
   ]
  },
  {
   "cell_type": "markdown",
   "id": "af5813f4",
   "metadata": {},
   "source": [
    "### Repeated CRM"
   ]
  },
  {
   "cell_type": "code",
   "execution_count": 41,
   "id": "5a54a62f",
   "metadata": {},
   "outputs": [],
   "source": [
    "\n",
    "def repeated_crm_experiment(logging_mu, logging_scale, settings, random_seed=123):\n",
    "\n",
    "    loss_fun = conservative_loss \n",
    "    print('-' * 80)\n",
    "    print('CRM experiment, \\mu_0={}, \\sigma={}, seed {}'.format(logging_mu, logging_scale, random_seed))\n",
    "    \n",
    "    rng = np.random.RandomState(random_seed)\n",
    "    repeated_crm_online_losses = []\n",
    "\n",
    "    M = settings['M']\n",
    "    n_samples = settings['n_0']\n",
    "    n_total = n_samples\n",
    "    mu = logging_mu \n",
    "    logging_pdf = norm(loc=logging_mu\\\n",
    "                       , scale=logging_scale).pdf\n",
    "    optimized_mus = [mu]\n",
    "    logging_data = get_logging_data(n_samples, logging_mu, logging_scale, random_seed)\n",
    "    logging_samples, logging_losses, logging_propensities = logging_data\n",
    "\n",
    "    for m in range(M):\n",
    "        print('Rollout {}'.format(m))\n",
    "\n",
    "        init_parameter = jnp.array(logging_mu, dtype='float32')\n",
    "        args = logging_data\n",
    "\n",
    "        optimized_mu = optimize(loss_fun, init_parameter, args)\n",
    "        optimized_mus.append(optimized_mu)\n",
    "\n",
    "            \n",
    "        mu = optimized_mu._value\n",
    "    \n",
    "        n_samples *= 2 \n",
    "        y_m = rng.normal(loc=1, scale=logging_scale)\n",
    "        action_samples = rng.normal(loc=logging_mu, scale=logging_scale, size=n_samples)\n",
    "        losses = loss_function(action_samples, y_m)\n",
    "        propensities = logging_pdf(action_samples)\n",
    "        online_loss = evaluate_theta(mu, random_seed)\n",
    "        repeated_crm_online_losses.append(online_loss)\n",
    "\n",
    "        logging_samples = np.hstack([logging_samples, action_samples])\n",
    "        logging_losses = np.hstack([logging_losses, losses])\n",
    "        logging_propensities = np.hstack([logging_propensities, propensities])\n",
    "        logging_data = logging_samples, logging_losses, logging_propensities\n",
    "        n_total += n_samples\n",
    "    \n",
    "    return repeated_crm_online_losses\n",
    "\n",
    "\n",
    "# repeated_crm_online_losses = repeated_crm_experiment(thetas)\n"
   ]
  },
  {
   "cell_type": "markdown",
   "id": "6af873c4",
   "metadata": {},
   "source": [
    "### Sequential CRM"
   ]
  },
  {
   "cell_type": "code",
   "execution_count": 42,
   "id": "1d583083",
   "metadata": {
    "scrolled": true
   },
   "outputs": [],
   "source": [
    "def sequential_crm_experiment(logging_mu, logging_scale, settings, random_seed=123):\n",
    "\n",
    "    loss_fun = conservative_loss \n",
    "    \n",
    "    print('-' * 80)\n",
    "    print('SCRM experiment, \\mu_0={}, \\sigma={}, seed {}'.format(logging_mu, logging_scale, random_seed))\n",
    "    \n",
    "    M = settings['M']\n",
    "    n_samples = settings['n_0']\n",
    "    \n",
    "    \n",
    "    \n",
    "    logging_data = get_logging_data(n_samples, logging_mu, logging_scale, random_seed)\n",
    "    \n",
    "    rng = np.random.RandomState(random_seed)\n",
    "    \n",
    "    mu = logging_mu\n",
    "    optimized_mus = [mu]\n",
    "    sequential_crm_online_losses = []\n",
    "\n",
    "    for m in range(M):\n",
    "        \n",
    "        print('Rollout {}'.format(m))\n",
    "        \n",
    "        init_parameter = jnp.array(mu, dtype='float32')\n",
    "        args = logging_data\n",
    "\n",
    "        optimized_mu = optimize(loss_fun, init_parameter, args)\n",
    "        optimized_mus.append(optimized_mu)\n",
    "        \n",
    "\n",
    "\n",
    "        ### New logging data\n",
    "        n_samples *= 2\n",
    "        mu = optimized_mu._value\n",
    "\n",
    "        logging_samples = rng.normal(loc=mu, scale=logging_scale, size=n_samples)\n",
    "        y_m = rng.normal(loc=1, scale=logging_scale)\n",
    "        logging_losses = loss_function(logging_samples, y_m)\n",
    "        online_loss = evaluate_theta(mu, random_seed)\n",
    "        sequential_crm_online_losses.append(online_loss)\n",
    "        logging_pdf = norm(loc=mu, scale=logging_scale).pdf\n",
    "        logging_propensities = logging_pdf(logging_samples)\n",
    "\n",
    "\n",
    "        logging_data = logging_samples, logging_losses, logging_propensities\n",
    "\n",
    "    \n",
    "    return sequential_crm_online_losses\n",
    "\n",
    "# sequential_crm_online_losses = sequential_crm_experiment(thetas)\n"
   ]
  },
  {
   "cell_type": "markdown",
   "id": "dcdf18b8",
   "metadata": {},
   "source": [
    "### Plot results"
   ]
  },
  {
   "cell_type": "code",
   "execution_count": 67,
   "id": "6ddaff8a",
   "metadata": {},
   "outputs": [],
   "source": [
    "def do_experiment(logging_mu, logging_scale, settings):\n",
    "    repeated_crm_losses = []\n",
    "    sequential_crm_losses = []\n",
    "\n",
    "    for random_seed in range(10):\n",
    "        repeated_crm_losses.append(repeated_crm_experiment(logging_mu, logging_scale, settings, random_seed))\n",
    "        sequential_crm_losses.append(sequential_crm_experiment(logging_mu, logging_scale, settings, random_seed))\n",
    "\n",
    "    repeated_crm_losses = np.array(repeated_crm_losses)\n",
    "    crm_losses = np.mean(repeated_crm_losses, axis=0)\n",
    "    crm_losses_std = np.std(repeated_crm_losses, axis=0)\n",
    "\n",
    "    sequential_crm_losses = np.array(sequential_crm_losses)\n",
    "    scrm_losses = np.mean(sequential_crm_losses, axis=0)\n",
    "    scrm_losses_std = np.std(sequential_crm_losses, axis=0)\n",
    "    return crm_losses, crm_losses_std, scrm_losses, scrm_losses_std"
   ]
  },
  {
   "cell_type": "code",
   "execution_count": 66,
   "id": "101e056f",
   "metadata": {},
   "outputs": [
    {
     "name": "stdout",
     "output_type": "stream",
     "text": [
      "--------------------------------------------------------------------------------\n",
      "CRM experiment, \\mu_0=1.2, \\sigma=0.1, seed 0\n",
      "Rollout 0\n",
      "Rollout 1\n",
      "Rollout 2\n",
      "Rollout 3\n",
      "Rollout 4\n",
      "Rollout 5\n",
      "Rollout 6\n",
      "Rollout 7\n",
      "Rollout 8\n",
      "Rollout 9\n",
      "Rollout 10\n",
      "Rollout 11\n",
      "Rollout 12\n"
     ]
    },
    {
     "ename": "KeyboardInterrupt",
     "evalue": "",
     "output_type": "error",
     "traceback": [
      "\u001b[0;31m---------------------------------------------------------------------------\u001b[0m",
      "\u001b[0;31mKeyboardInterrupt\u001b[0m                         Traceback (most recent call last)",
      "\u001b[0;32m/var/folders/wq/cfl_16c14vg6jh8tsb6vn6zw0000gp/T/ipykernel_81803/2336912146.py\u001b[0m in \u001b[0;36m<module>\u001b[0;34m\u001b[0m\n\u001b[1;32m     16\u001b[0m \u001b[0;34m\u001b[0m\u001b[0m\n\u001b[1;32m     17\u001b[0m \u001b[0;32mfor\u001b[0m \u001b[0msigma\u001b[0m \u001b[0;32min\u001b[0m \u001b[0mlogging_scales\u001b[0m\u001b[0;34m:\u001b[0m\u001b[0;34m\u001b[0m\u001b[0;34m\u001b[0m\u001b[0m\n\u001b[0;32m---> 18\u001b[0;31m     \u001b[0mcrm_losses\u001b[0m\u001b[0;34m,\u001b[0m \u001b[0mcrm_losses_std\u001b[0m\u001b[0;34m,\u001b[0m \u001b[0mscrm_losses\u001b[0m\u001b[0;34m,\u001b[0m \u001b[0mscrm_losses_std\u001b[0m \u001b[0;34m=\u001b[0m \u001b[0mdo_experiment\u001b[0m\u001b[0;34m(\u001b[0m\u001b[0mlogging_mu\u001b[0m\u001b[0;34m,\u001b[0m \u001b[0msigma\u001b[0m\u001b[0;34m,\u001b[0m \u001b[0msettings\u001b[0m\u001b[0;34m)\u001b[0m\u001b[0;34m\u001b[0m\u001b[0;34m\u001b[0m\u001b[0m\n\u001b[0m\u001b[1;32m     19\u001b[0m     \u001b[0mcrm_perfs\u001b[0m\u001b[0;34m.\u001b[0m\u001b[0mappend\u001b[0m\u001b[0;34m(\u001b[0m\u001b[0mcrm_losses\u001b[0m\u001b[0;34m)\u001b[0m\u001b[0;34m\u001b[0m\u001b[0;34m\u001b[0m\u001b[0m\n\u001b[1;32m     20\u001b[0m     \u001b[0mcrm_perfs_std\u001b[0m\u001b[0;34m.\u001b[0m\u001b[0mappend\u001b[0m\u001b[0;34m(\u001b[0m\u001b[0mcrm_losses_std\u001b[0m\u001b[0;34m)\u001b[0m\u001b[0;34m\u001b[0m\u001b[0;34m\u001b[0m\u001b[0m\n",
      "\u001b[0;32m/var/folders/wq/cfl_16c14vg6jh8tsb6vn6zw0000gp/T/ipykernel_81803/380874379.py\u001b[0m in \u001b[0;36mdo_experiment\u001b[0;34m(logging_mu, logging_scale, settings)\u001b[0m\n\u001b[1;32m      4\u001b[0m \u001b[0;34m\u001b[0m\u001b[0m\n\u001b[1;32m      5\u001b[0m     \u001b[0;32mfor\u001b[0m \u001b[0mrandom_seed\u001b[0m \u001b[0;32min\u001b[0m \u001b[0mrange\u001b[0m\u001b[0;34m(\u001b[0m\u001b[0;36m5\u001b[0m\u001b[0;34m)\u001b[0m\u001b[0;34m:\u001b[0m\u001b[0;34m\u001b[0m\u001b[0;34m\u001b[0m\u001b[0m\n\u001b[0;32m----> 6\u001b[0;31m         \u001b[0mrepeated_crm_losses\u001b[0m\u001b[0;34m.\u001b[0m\u001b[0mappend\u001b[0m\u001b[0;34m(\u001b[0m\u001b[0mrepeated_crm_experiment\u001b[0m\u001b[0;34m(\u001b[0m\u001b[0mlogging_mu\u001b[0m\u001b[0;34m,\u001b[0m \u001b[0mlogging_scale\u001b[0m\u001b[0;34m,\u001b[0m \u001b[0msettings\u001b[0m\u001b[0;34m,\u001b[0m \u001b[0mrandom_seed\u001b[0m\u001b[0;34m)\u001b[0m\u001b[0;34m)\u001b[0m\u001b[0;34m\u001b[0m\u001b[0;34m\u001b[0m\u001b[0m\n\u001b[0m\u001b[1;32m      7\u001b[0m         \u001b[0msequential_crm_losses\u001b[0m\u001b[0;34m.\u001b[0m\u001b[0mappend\u001b[0m\u001b[0;34m(\u001b[0m\u001b[0msequential_crm_experiment\u001b[0m\u001b[0;34m(\u001b[0m\u001b[0mlogging_mu\u001b[0m\u001b[0;34m,\u001b[0m \u001b[0mlogging_scale\u001b[0m\u001b[0;34m,\u001b[0m \u001b[0msettings\u001b[0m\u001b[0;34m,\u001b[0m \u001b[0mrandom_seed\u001b[0m\u001b[0;34m)\u001b[0m\u001b[0;34m)\u001b[0m\u001b[0;34m\u001b[0m\u001b[0;34m\u001b[0m\u001b[0m\n\u001b[1;32m      8\u001b[0m \u001b[0;34m\u001b[0m\u001b[0m\n",
      "\u001b[0;32m/var/folders/wq/cfl_16c14vg6jh8tsb6vn6zw0000gp/T/ipykernel_81803/2374448352.py\u001b[0m in \u001b[0;36mrepeated_crm_experiment\u001b[0;34m(logging_mu, logging_scale, settings, random_seed)\u001b[0m\n\u001b[1;32m     34\u001b[0m         \u001b[0maction_samples\u001b[0m \u001b[0;34m=\u001b[0m \u001b[0mrng\u001b[0m\u001b[0;34m.\u001b[0m\u001b[0mnormal\u001b[0m\u001b[0;34m(\u001b[0m\u001b[0mloc\u001b[0m\u001b[0;34m=\u001b[0m\u001b[0mlogging_mu\u001b[0m\u001b[0;34m,\u001b[0m \u001b[0mscale\u001b[0m\u001b[0;34m=\u001b[0m\u001b[0mlogging_scale\u001b[0m\u001b[0;34m,\u001b[0m \u001b[0msize\u001b[0m\u001b[0;34m=\u001b[0m\u001b[0mn_samples\u001b[0m\u001b[0;34m)\u001b[0m\u001b[0;34m\u001b[0m\u001b[0;34m\u001b[0m\u001b[0m\n\u001b[1;32m     35\u001b[0m         \u001b[0mlosses\u001b[0m \u001b[0;34m=\u001b[0m \u001b[0mloss_function\u001b[0m\u001b[0;34m(\u001b[0m\u001b[0maction_samples\u001b[0m\u001b[0;34m,\u001b[0m \u001b[0my_m\u001b[0m\u001b[0;34m)\u001b[0m\u001b[0;34m\u001b[0m\u001b[0;34m\u001b[0m\u001b[0m\n\u001b[0;32m---> 36\u001b[0;31m         \u001b[0mpropensities\u001b[0m \u001b[0;34m=\u001b[0m \u001b[0mlogging_pdf\u001b[0m\u001b[0;34m(\u001b[0m\u001b[0maction_samples\u001b[0m\u001b[0;34m)\u001b[0m\u001b[0;34m\u001b[0m\u001b[0;34m\u001b[0m\u001b[0m\n\u001b[0m\u001b[1;32m     37\u001b[0m         \u001b[0monline_loss\u001b[0m \u001b[0;34m=\u001b[0m \u001b[0mevaluate_theta\u001b[0m\u001b[0;34m(\u001b[0m\u001b[0mmu\u001b[0m\u001b[0;34m,\u001b[0m \u001b[0mrandom_seed\u001b[0m\u001b[0;34m)\u001b[0m\u001b[0;34m\u001b[0m\u001b[0;34m\u001b[0m\u001b[0m\n\u001b[1;32m     38\u001b[0m         \u001b[0mrepeated_crm_online_losses\u001b[0m\u001b[0;34m.\u001b[0m\u001b[0mappend\u001b[0m\u001b[0;34m(\u001b[0m\u001b[0monline_loss\u001b[0m\u001b[0;34m)\u001b[0m\u001b[0;34m\u001b[0m\u001b[0;34m\u001b[0m\u001b[0m\n",
      "\u001b[0;32m~/opt/anaconda3/lib/python3.9/site-packages/scipy/stats/_distn_infrastructure.py\u001b[0m in \u001b[0;36mpdf\u001b[0;34m(self, x)\u001b[0m\n\u001b[1;32m    451\u001b[0m \u001b[0;34m\u001b[0m\u001b[0m\n\u001b[1;32m    452\u001b[0m     \u001b[0;32mdef\u001b[0m \u001b[0mpdf\u001b[0m\u001b[0;34m(\u001b[0m\u001b[0mself\u001b[0m\u001b[0;34m,\u001b[0m \u001b[0mx\u001b[0m\u001b[0;34m)\u001b[0m\u001b[0;34m:\u001b[0m   \u001b[0;31m# raises AttributeError in frozen discrete distribution\u001b[0m\u001b[0;34m\u001b[0m\u001b[0;34m\u001b[0m\u001b[0m\n\u001b[0;32m--> 453\u001b[0;31m         \u001b[0;32mreturn\u001b[0m \u001b[0mself\u001b[0m\u001b[0;34m.\u001b[0m\u001b[0mdist\u001b[0m\u001b[0;34m.\u001b[0m\u001b[0mpdf\u001b[0m\u001b[0;34m(\u001b[0m\u001b[0mx\u001b[0m\u001b[0;34m,\u001b[0m \u001b[0;34m*\u001b[0m\u001b[0mself\u001b[0m\u001b[0;34m.\u001b[0m\u001b[0margs\u001b[0m\u001b[0;34m,\u001b[0m \u001b[0;34m**\u001b[0m\u001b[0mself\u001b[0m\u001b[0;34m.\u001b[0m\u001b[0mkwds\u001b[0m\u001b[0;34m)\u001b[0m\u001b[0;34m\u001b[0m\u001b[0;34m\u001b[0m\u001b[0m\n\u001b[0m\u001b[1;32m    454\u001b[0m \u001b[0;34m\u001b[0m\u001b[0m\n\u001b[1;32m    455\u001b[0m     \u001b[0;32mdef\u001b[0m \u001b[0mlogpdf\u001b[0m\u001b[0;34m(\u001b[0m\u001b[0mself\u001b[0m\u001b[0;34m,\u001b[0m \u001b[0mx\u001b[0m\u001b[0;34m)\u001b[0m\u001b[0;34m:\u001b[0m\u001b[0;34m\u001b[0m\u001b[0;34m\u001b[0m\u001b[0m\n",
      "\u001b[0;32m~/opt/anaconda3/lib/python3.9/site-packages/scipy/stats/_distn_infrastructure.py\u001b[0m in \u001b[0;36mpdf\u001b[0;34m(self, x, *args, **kwds)\u001b[0m\n\u001b[1;32m   1877\u001b[0m             \u001b[0mgoodargs\u001b[0m \u001b[0;34m=\u001b[0m \u001b[0margsreduce\u001b[0m\u001b[0;34m(\u001b[0m\u001b[0mcond\u001b[0m\u001b[0;34m,\u001b[0m \u001b[0;34m*\u001b[0m\u001b[0;34m(\u001b[0m\u001b[0;34m(\u001b[0m\u001b[0mx\u001b[0m\u001b[0;34m,\u001b[0m\u001b[0;34m)\u001b[0m\u001b[0;34m+\u001b[0m\u001b[0margs\u001b[0m\u001b[0;34m+\u001b[0m\u001b[0;34m(\u001b[0m\u001b[0mscale\u001b[0m\u001b[0;34m,\u001b[0m\u001b[0;34m)\u001b[0m\u001b[0;34m)\u001b[0m\u001b[0;34m)\u001b[0m\u001b[0;34m\u001b[0m\u001b[0;34m\u001b[0m\u001b[0m\n\u001b[1;32m   1878\u001b[0m             \u001b[0mscale\u001b[0m\u001b[0;34m,\u001b[0m \u001b[0mgoodargs\u001b[0m \u001b[0;34m=\u001b[0m \u001b[0mgoodargs\u001b[0m\u001b[0;34m[\u001b[0m\u001b[0;34m-\u001b[0m\u001b[0;36m1\u001b[0m\u001b[0;34m]\u001b[0m\u001b[0;34m,\u001b[0m \u001b[0mgoodargs\u001b[0m\u001b[0;34m[\u001b[0m\u001b[0;34m:\u001b[0m\u001b[0;34m-\u001b[0m\u001b[0;36m1\u001b[0m\u001b[0;34m]\u001b[0m\u001b[0;34m\u001b[0m\u001b[0;34m\u001b[0m\u001b[0m\n\u001b[0;32m-> 1879\u001b[0;31m             \u001b[0mplace\u001b[0m\u001b[0;34m(\u001b[0m\u001b[0moutput\u001b[0m\u001b[0;34m,\u001b[0m \u001b[0mcond\u001b[0m\u001b[0;34m,\u001b[0m \u001b[0mself\u001b[0m\u001b[0;34m.\u001b[0m\u001b[0m_pdf\u001b[0m\u001b[0;34m(\u001b[0m\u001b[0;34m*\u001b[0m\u001b[0mgoodargs\u001b[0m\u001b[0;34m)\u001b[0m \u001b[0;34m/\u001b[0m \u001b[0mscale\u001b[0m\u001b[0;34m)\u001b[0m\u001b[0;34m\u001b[0m\u001b[0;34m\u001b[0m\u001b[0m\n\u001b[0m\u001b[1;32m   1880\u001b[0m         \u001b[0;32mif\u001b[0m \u001b[0moutput\u001b[0m\u001b[0;34m.\u001b[0m\u001b[0mndim\u001b[0m \u001b[0;34m==\u001b[0m \u001b[0;36m0\u001b[0m\u001b[0;34m:\u001b[0m\u001b[0;34m\u001b[0m\u001b[0;34m\u001b[0m\u001b[0m\n\u001b[1;32m   1881\u001b[0m             \u001b[0;32mreturn\u001b[0m \u001b[0moutput\u001b[0m\u001b[0;34m[\u001b[0m\u001b[0;34m(\u001b[0m\u001b[0;34m)\u001b[0m\u001b[0;34m]\u001b[0m\u001b[0;34m\u001b[0m\u001b[0;34m\u001b[0m\u001b[0m\n",
      "\u001b[0;32m~/opt/anaconda3/lib/python3.9/site-packages/scipy/stats/_continuous_distns.py\u001b[0m in \u001b[0;36m_pdf\u001b[0;34m(self, x)\u001b[0m\n\u001b[1;32m    307\u001b[0m     \u001b[0;32mdef\u001b[0m \u001b[0m_pdf\u001b[0m\u001b[0;34m(\u001b[0m\u001b[0mself\u001b[0m\u001b[0;34m,\u001b[0m \u001b[0mx\u001b[0m\u001b[0;34m)\u001b[0m\u001b[0;34m:\u001b[0m\u001b[0;34m\u001b[0m\u001b[0;34m\u001b[0m\u001b[0m\n\u001b[1;32m    308\u001b[0m         \u001b[0;31m# norm.pdf(x) = exp(-x**2/2)/sqrt(2*pi)\u001b[0m\u001b[0;34m\u001b[0m\u001b[0;34m\u001b[0m\u001b[0m\n\u001b[0;32m--> 309\u001b[0;31m         \u001b[0;32mreturn\u001b[0m \u001b[0m_norm_pdf\u001b[0m\u001b[0;34m(\u001b[0m\u001b[0mx\u001b[0m\u001b[0;34m)\u001b[0m\u001b[0;34m\u001b[0m\u001b[0;34m\u001b[0m\u001b[0m\n\u001b[0m\u001b[1;32m    310\u001b[0m \u001b[0;34m\u001b[0m\u001b[0m\n\u001b[1;32m    311\u001b[0m     \u001b[0;32mdef\u001b[0m \u001b[0m_logpdf\u001b[0m\u001b[0;34m(\u001b[0m\u001b[0mself\u001b[0m\u001b[0;34m,\u001b[0m \u001b[0mx\u001b[0m\u001b[0;34m)\u001b[0m\u001b[0;34m:\u001b[0m\u001b[0;34m\u001b[0m\u001b[0;34m\u001b[0m\u001b[0m\n",
      "\u001b[0;32m~/opt/anaconda3/lib/python3.9/site-packages/scipy/stats/_continuous_distns.py\u001b[0m in \u001b[0;36m_norm_pdf\u001b[0;34m(x)\u001b[0m\n\u001b[1;32m    248\u001b[0m \u001b[0;34m\u001b[0m\u001b[0m\n\u001b[1;32m    249\u001b[0m \u001b[0;32mdef\u001b[0m \u001b[0m_norm_pdf\u001b[0m\u001b[0;34m(\u001b[0m\u001b[0mx\u001b[0m\u001b[0;34m)\u001b[0m\u001b[0;34m:\u001b[0m\u001b[0;34m\u001b[0m\u001b[0;34m\u001b[0m\u001b[0m\n\u001b[0;32m--> 250\u001b[0;31m     \u001b[0;32mreturn\u001b[0m \u001b[0mnp\u001b[0m\u001b[0;34m.\u001b[0m\u001b[0mexp\u001b[0m\u001b[0;34m(\u001b[0m\u001b[0;34m-\u001b[0m\u001b[0mx\u001b[0m\u001b[0;34m**\u001b[0m\u001b[0;36m2\u001b[0m\u001b[0;34m/\u001b[0m\u001b[0;36m2.0\u001b[0m\u001b[0;34m)\u001b[0m \u001b[0;34m/\u001b[0m \u001b[0m_norm_pdf_C\u001b[0m\u001b[0;34m\u001b[0m\u001b[0;34m\u001b[0m\u001b[0m\n\u001b[0m\u001b[1;32m    251\u001b[0m \u001b[0;34m\u001b[0m\u001b[0m\n\u001b[1;32m    252\u001b[0m \u001b[0;34m\u001b[0m\u001b[0m\n",
      "\u001b[0;31mKeyboardInterrupt\u001b[0m: "
     ]
    }
   ],
   "source": [
    "crm_perfs = []\n",
    "crm_perfs_std = []\n",
    "scrm_perfs = []\n",
    "scrm_perfs_std = []\n",
    "\n",
    "settings = {\n",
    "    'M':15,\n",
    "    'n_0':100\n",
    "}\n",
    "\n",
    "optimal_mu = 1\n",
    "delta = 0.2\n",
    "logging_mu = optimal_mu + delta\n",
    "\n",
    "logging_scales = [0.1, 1, 10]\n",
    "\n",
    "for sigma in logging_scales:\n",
    "    crm_losses, crm_losses_std, scrm_losses, scrm_losses_std = do_experiment(logging_mu, sigma, settings)\n",
    "    crm_perfs.append(crm_losses)\n",
    "    crm_perfs_std.append(crm_losses_std)\n",
    "    scrm_perfs.append(scrm_losses)\n",
    "    scrm_perfs_std.append(scrm_losses_std)"
   ]
  },
  {
   "cell_type": "code",
   "execution_count": 65,
   "id": "d9da127f",
   "metadata": {},
   "outputs": [
    {
     "data": {
      "image/png": "[encoded data removed]",
      "text/plain": [
       "<Figure size 432x288 with 1 Axes>"
      ]
     },
     "metadata": {
      "needs_background": "light"
     },
     "output_type": "display_data"
    }
   ],
   "source": [
    "delta = 0.1\n",
    "plt.title(r'Loss Evolution with logging $\\vert \\theta^* - \\theta_0 \\vert={}$'.format(delta))\n",
    "plt.xlabel('Rollouts $m$')\n",
    "plt.ylabel('Loss')\n",
    "\n",
    "rollouts = np.arange(1, 16)\n",
    "\n",
    "color_pairs = [('black', 'orange'), ('purple', 'darkorange'), ('navy', 'darkgoldenrod')]\n",
    "l = len(crm_perfs)\n",
    "    \n",
    "for idx in range(l):\n",
    "    color_crm, color_scrm = color_pairs[idx]\n",
    "    crm_losses = crm_perfs[idx]\n",
    "    crm_losses_std = crm_perfs_std[idx]\n",
    "    scrm_losses = scrm_perfs[idx]\n",
    "    scrm_losses_std = scrm_perfs_std[idx]\n",
    "    sigma = logging_scales[idx]\n",
    "    \n",
    "    plt.plot(rollouts, crm_losses, 'x--', color=color_crm, label='CRM - $\\sigma={}$'.format(sigma))\n",
    "    plt.fill_between(rollouts,\n",
    "                         crm_losses - crm_losses_std,\n",
    "                         crm_losses + crm_losses_std, alpha=.25, color=color_crm, )\n",
    "    plt.plot(rollouts, scrm_losses, 'o-', color=color_scrm, label='SCRM - $\\sigma={}$'.format(sigma))\n",
    "    plt.fill_between(rollouts,\n",
    "                         scrm_losses - scrm_losses_std,\n",
    "                         scrm_losses + scrm_losses_std, alpha=.25, color=color_scrm)\n",
    "\n",
    "plt.legend(loc='best')\n",
    "plt.savefig('distance_variance_compromise.pdf')"
   ]
  },
  {
   "cell_type": "code",
   "execution_count": 76,
   "id": "530724a3",
   "metadata": {},
   "outputs": [
    {
     "data": {
      "text/plain": [
       "array([-0.47830686, -0.47565932, -0.46774373, -0.51876135, -0.5726235 ,\n",
       "       -0.61897201, -0.69786104, -0.76197715, -0.81837585, -0.88483053,\n",
       "       -0.92322276, -0.9420493 , -0.95832741, -0.95824164, -0.96125002])"
      ]
     },
     "execution_count": 76,
     "metadata": {},
     "output_type": "execute_result"
    }
   ],
   "source": [
    "scrm_losses"
   ]
  },
  {
   "cell_type": "code",
   "execution_count": 87,
   "id": "2d26aaf8",
   "metadata": {},
   "outputs": [],
   "source": [
    "import pandas as pd"
   ]
  },
  {
   "cell_type": "code",
   "execution_count": 96,
   "id": "977c1588",
   "metadata": {},
   "outputs": [],
   "source": [
    "data=np.vstack([crm_losses, crm_losses_std, scrm_losses, scrm_losses_std])\n",
    "df = pd.DataFrame(data.T, columns=['CRM loss', 'CRM std', 'SCRM loss', 'SCRM std'])\n",
    "df.to_csv('gaussian_example.csv')  "
   ]
  },
  {
   "cell_type": "code",
   "execution_count": 98,
   "id": "82a1995a",
   "metadata": {},
   "outputs": [],
   "source": []
  },
  {
   "cell_type": "code",
   "execution_count": 99,
   "id": "ec1e93e8",
   "metadata": {},
   "outputs": [
    {
     "data": {
      "text/html": [
       "<div>\n",
       "<style scoped>\n",
       "    .dataframe tbody tr th:only-of-type {\n",
       "        vertical-align: middle;\n",
       "    }\n",
       "\n",
       "    .dataframe tbody tr th {\n",
       "        vertical-align: top;\n",
       "    }\n",
       "\n",
       "    .dataframe thead th {\n",
       "        text-align: right;\n",
       "    }\n",
       "</style>\n",
       "<table border=\"1\" class=\"dataframe\">\n",
       "  <thead>\n",
       "    <tr style=\"text-align: right;\">\n",
       "      <th></th>\n",
       "      <th>CRM loss</th>\n",
       "      <th>CRM std</th>\n",
       "      <th>SCRM loss</th>\n",
       "      <th>SCRM std</th>\n",
       "    </tr>\n",
       "  </thead>\n",
       "  <tbody>\n",
       "    <tr>\n",
       "      <th>0</th>\n",
       "      <td>-0.478307</td>\n",
       "      <td>0.011092</td>\n",
       "      <td>-0.478307</td>\n",
       "      <td>0.011092</td>\n",
       "    </tr>\n",
       "    <tr>\n",
       "      <th>1</th>\n",
       "      <td>-0.490021</td>\n",
       "      <td>0.013570</td>\n",
       "      <td>-0.475659</td>\n",
       "      <td>0.036541</td>\n",
       "    </tr>\n",
       "    <tr>\n",
       "      <th>2</th>\n",
       "      <td>-0.518353</td>\n",
       "      <td>0.022936</td>\n",
       "      <td>-0.467744</td>\n",
       "      <td>0.043211</td>\n",
       "    </tr>\n",
       "    <tr>\n",
       "      <th>3</th>\n",
       "      <td>-0.553159</td>\n",
       "      <td>0.027232</td>\n",
       "      <td>-0.518761</td>\n",
       "      <td>0.049511</td>\n",
       "    </tr>\n",
       "    <tr>\n",
       "      <th>4</th>\n",
       "      <td>-0.585251</td>\n",
       "      <td>0.040361</td>\n",
       "      <td>-0.572623</td>\n",
       "      <td>0.067724</td>\n",
       "    </tr>\n",
       "    <tr>\n",
       "      <th>5</th>\n",
       "      <td>-0.621912</td>\n",
       "      <td>0.029870</td>\n",
       "      <td>-0.618972</td>\n",
       "      <td>0.064410</td>\n",
       "    </tr>\n",
       "    <tr>\n",
       "      <th>6</th>\n",
       "      <td>-0.648658</td>\n",
       "      <td>0.024612</td>\n",
       "      <td>-0.697861</td>\n",
       "      <td>0.056797</td>\n",
       "    </tr>\n",
       "    <tr>\n",
       "      <th>7</th>\n",
       "      <td>-0.662851</td>\n",
       "      <td>0.017767</td>\n",
       "      <td>-0.761977</td>\n",
       "      <td>0.040454</td>\n",
       "    </tr>\n",
       "    <tr>\n",
       "      <th>8</th>\n",
       "      <td>-0.685328</td>\n",
       "      <td>0.011415</td>\n",
       "      <td>-0.818376</td>\n",
       "      <td>0.031586</td>\n",
       "    </tr>\n",
       "    <tr>\n",
       "      <th>9</th>\n",
       "      <td>-0.707737</td>\n",
       "      <td>0.015734</td>\n",
       "      <td>-0.884831</td>\n",
       "      <td>0.023733</td>\n",
       "    </tr>\n",
       "    <tr>\n",
       "      <th>10</th>\n",
       "      <td>-0.726195</td>\n",
       "      <td>0.011958</td>\n",
       "      <td>-0.923223</td>\n",
       "      <td>0.027018</td>\n",
       "    </tr>\n",
       "    <tr>\n",
       "      <th>11</th>\n",
       "      <td>-0.749588</td>\n",
       "      <td>0.008699</td>\n",
       "      <td>-0.942049</td>\n",
       "      <td>0.016247</td>\n",
       "    </tr>\n",
       "    <tr>\n",
       "      <th>12</th>\n",
       "      <td>-0.765880</td>\n",
       "      <td>0.009256</td>\n",
       "      <td>-0.958327</td>\n",
       "      <td>0.007036</td>\n",
       "    </tr>\n",
       "    <tr>\n",
       "      <th>13</th>\n",
       "      <td>-0.776544</td>\n",
       "      <td>0.010961</td>\n",
       "      <td>-0.958242</td>\n",
       "      <td>0.011179</td>\n",
       "    </tr>\n",
       "    <tr>\n",
       "      <th>14</th>\n",
       "      <td>-0.796789</td>\n",
       "      <td>0.011003</td>\n",
       "      <td>-0.961250</td>\n",
       "      <td>0.003907</td>\n",
       "    </tr>\n",
       "  </tbody>\n",
       "</table>\n",
       "</div>"
      ],
      "text/plain": [
       "    CRM loss   CRM std  SCRM loss  SCRM std\n",
       "0  -0.478307  0.011092  -0.478307  0.011092\n",
       "1  -0.490021  0.013570  -0.475659  0.036541\n",
       "2  -0.518353  0.022936  -0.467744  0.043211\n",
       "3  -0.553159  0.027232  -0.518761  0.049511\n",
       "4  -0.585251  0.040361  -0.572623  0.067724\n",
       "5  -0.621912  0.029870  -0.618972  0.064410\n",
       "6  -0.648658  0.024612  -0.697861  0.056797\n",
       "7  -0.662851  0.017767  -0.761977  0.040454\n",
       "8  -0.685328  0.011415  -0.818376  0.031586\n",
       "9  -0.707737  0.015734  -0.884831  0.023733\n",
       "10 -0.726195  0.011958  -0.923223  0.027018\n",
       "11 -0.749588  0.008699  -0.942049  0.016247\n",
       "12 -0.765880  0.009256  -0.958327  0.007036\n",
       "13 -0.776544  0.010961  -0.958242  0.011179\n",
       "14 -0.796789  0.011003  -0.961250  0.003907"
      ]
     },
     "execution_count": 99,
     "metadata": {},
     "output_type": "execute_result"
    }
   ],
   "source": [
    "df"
   ]
  },
  {
   "cell_type": "code",
   "execution_count": 100,
   "id": "67331cf3",
   "metadata": {},
   "outputs": [],
   "source": []
  },
  {
   "cell_type": "code",
   "execution_count": null,
   "id": "aa0251d4",
   "metadata": {},
   "outputs": [],
   "source": []
  }
 ],
 "metadata": {
  "kernelspec": {
   "display_name": "Python 3 (ipykernel)",
   "language": "python",
   "name": "python3"
  },
  "language_info": {
   "codemirror_mode": {
    "name": "ipython",
    "version": 3
   },
   "file_extension": ".py",
   "mimetype": "text/x-python",
   "name": "python",
   "nbconvert_exporter": "python",
   "pygments_lexer": "ipython3",
   "version": "3.9.7"
  }
 },
 "nbformat": 4,
 "nbformat_minor": 5
}

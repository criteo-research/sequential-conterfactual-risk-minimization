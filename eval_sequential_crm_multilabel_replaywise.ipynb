{
 "cells": [
  {
   "cell_type": "markdown",
   "id": "c4fa689b",
   "metadata": {},
   "source": [
    "# Sequential CRM Experiments\n",
    "\n",
    "## Reference works\n",
    "- ref paper: https://arxiv.org/pdf/1502.02362.pdf\n",
    "- ref code & data: https://www.cs.cornell.edu/~adith/POEM/\n",
    "- recent paper (ICML'18): http://proceedings.mlr.press/v80/wu18g/wu18g.pdf\n",
    "- recent paper using vision tasks: https://arxiv.org/pdf/1806.11500v6.pdf"
   ]
  },
  {
   "cell_type": "markdown",
   "id": "8bda196b",
   "metadata": {},
   "source": [
    "TODO:\n",
    "1. DONE - fix pi0 to be bad enough\n",
    "1. DONE - make sure propensities are not all 0\n",
    "1. DONE - add check for propensity overfitting\n",
    "1. SEEMS OK - fix optim to work correctly -- but POEM cannot work with LBFG-S (see paper)"
   ]
  },
  {
   "cell_type": "code",
   "execution_count": 1,
   "id": "b044e931-5f9e-4005-aa8e-6c9db2f95b63",
   "metadata": {},
   "outputs": [],
   "source": [
    "%load_ext autoreload\n",
    "%autoreload 2"
   ]
  },
  {
   "cell_type": "code",
   "execution_count": 2,
   "id": "9c25f72b",
   "metadata": {},
   "outputs": [],
   "source": [
    "import sys\n",
    "import time\n",
    "import copy"
   ]
  },
  {
   "cell_type": "code",
   "execution_count": 3,
   "id": "b3299e83",
   "metadata": {},
   "outputs": [],
   "source": [
    "import numpy as np"
   ]
  },
  {
   "cell_type": "code",
   "execution_count": 4,
   "id": "9a8fd973-d7ae-44dd-9588-d1f68a37eeb5",
   "metadata": {},
   "outputs": [],
   "source": [
    "import jax.numpy as jnp\n",
    "from jax.scipy.special import expit as jexpit"
   ]
  },
  {
   "cell_type": "code",
   "execution_count": 5,
   "id": "6da5c3e3",
   "metadata": {},
   "outputs": [],
   "source": [
    "import matplotlib.pyplot as plt"
   ]
  },
  {
   "cell_type": "code",
   "execution_count": 6,
   "id": "040d3d14-85a8-4352-8e96-43c704eecae2",
   "metadata": {},
   "outputs": [],
   "source": [
    "from dataset_utils import load_dataset\n",
    "from baselines_skylines import result_table, make_baselines_skylines\n",
    "from crm_dataset import CRMDataset\n",
    "from crm_model import Model\n",
    "from tracing_utils import LossHistory"
   ]
  },
  {
   "cell_type": "markdown",
   "id": "69c93204",
   "metadata": {},
   "source": [
    "---\n",
    "### Loading dataset"
   ]
  },
  {
   "cell_type": "code",
   "execution_count": 7,
   "id": "dbaa9cb3",
   "metadata": {},
   "outputs": [
    {
     "name": "stdout",
     "output_type": "stream",
     "text": [
      "X_train: (1812, 104) y_train: (1812, 14)\n"
     ]
    }
   ],
   "source": [
    "#dataset_name='scene'\n",
    "dataset_name='yeast'\n",
    "# dataset_name='tmc2007'\n",
    "\n",
    "X_train, y_train, X_test, y_test, labels = load_dataset(dataset_name)"
   ]
  },
  {
   "cell_type": "markdown",
   "id": "f6aef896",
   "metadata": {},
   "source": [
    "### Baselines & Skylines"
   ]
  },
  {
   "cell_type": "code",
   "execution_count": 8,
   "id": "b321b06d-23e5-429a-b135-66f7c5246b0f",
   "metadata": {},
   "outputs": [],
   "source": [
    "pi0, pistar = make_baselines_skylines(dataset_name, X_train, y_train, mlp=True)"
   ]
  },
  {
   "cell_type": "code",
   "execution_count": 9,
   "id": "001ef17d",
   "metadata": {},
   "outputs": [],
   "source": [
    "sampling_probas = pi0.predict_proba(X_train)\n",
    "sampling_probas = np.array([_[:,1] for _ in sampling_probas]).T "
   ]
  },
  {
   "cell_type": "code",
   "execution_count": 10,
   "id": "1365cf50",
   "metadata": {},
   "outputs": [
    {
     "data": {
      "text/plain": [
       "array([0.04196816, 0.07985135, 0.07448589, 0.01369675, 0.00762209,\n",
       "       0.01825114, 0.0269684 , 0.02914602, 0.00790334, 0.00671692,\n",
       "       0.00631266, 0.13104026, 0.13177221, 0.00547145])"
      ]
     },
     "execution_count": 10,
     "metadata": {},
     "output_type": "execute_result"
    }
   ],
   "source": [
    "sampling_probas.min(axis=0)"
   ]
  },
  {
   "cell_type": "code",
   "execution_count": 11,
   "id": "72253b57",
   "metadata": {},
   "outputs": [
    {
     "name": "stderr",
     "output_type": "stream",
     "text": [
      "WARNING:jax._src.lib.xla_bridge:No GPU/TPU found, falling back to CPU. (Set TF_CPP_MIN_LOG_LEVEL=0 and rerun for more info.)\n"
     ]
    },
    {
     "name": "stdout",
     "output_type": "stream",
     "text": [
      "0 / 1812 train instances have 0 propensity\n"
     ]
    }
   ],
   "source": [
    "log_props_per_instance = jnp.log(sampling_probas).sum(axis=1)\n",
    "n_zero_props = (jnp.exp(log_props_per_instance) == 0).astype(int).sum()\n",
    "print(n_zero_props, '/', sampling_probas.shape[0], 'train instances have 0 propensity')\n",
    "assert (n_zero_props / sampling_probas.shape[0]) < .1"
   ]
  },
  {
   "cell_type": "markdown",
   "id": "28ae40cb",
   "metadata": {},
   "source": [
    "# The Experiment"
   ]
  },
  {
   "cell_type": "code",
   "execution_count": 77,
   "id": "0b92eb06-b857-455d-a21d-ff11aed920d6",
   "metadata": {},
   "outputs": [],
   "source": [
    "def evaluate_model(model: Model, losses, rewards, i, j):\n",
    "    losses[i,j] = model.expected_hamming_loss(X_test, y_test)\n",
    "    test_dataset = CRMDataset().update_from_supervised_dataset(X_test, y_test, \n",
    "                                                               model.predict_proba(X_test, np.ones_like(y_test)), n_samples=4)\n",
    "    rewards[i,j] = test_dataset.rewards.sum() / (len(test_dataset)*test_dataset.actions.shape[1])"
   ]
  },
  {
   "cell_type": "code",
   "execution_count": 78,
   "id": "56d7d22f-c319-4245-b57a-300ce5246d39",
   "metadata": {},
   "outputs": [
    {
     "data": {
      "text/plain": [
       "array([  1,   2,   4,   8,  16,  32,  64, 128])"
      ]
     },
     "execution_count": 78,
     "metadata": {},
     "output_type": "execute_result"
    }
   ],
   "source": [
    "replay_targets = 2**np.arange(8)\n",
    "replay_targets"
   ]
  },
  {
   "cell_type": "code",
   "execution_count": 79,
   "id": "f3d05d62-96a0-4ec5-a9dd-d59f5235cff0",
   "metadata": {},
   "outputs": [],
   "source": [
    "n_splits = 10"
   ]
  },
  {
   "cell_type": "code",
   "execution_count": 80,
   "id": "a7470c80-aeb2-49e7-95a2-d9b355558606",
   "metadata": {},
   "outputs": [
    {
     "name": "stdout",
     "output_type": "stream",
     "text": [
      "0. . . . . . . . 1. . . . . . . . 2. . . . . . . . 3. . . . . . . . 4. . . . . . . . 5. . . . . . . . 6. . . . . . . . 7. . . . . . . . 8. . . . . . . . 9. . . . . . . . "
     ]
    }
   ],
   "source": [
    "crm_losses = np.ones((10, len(replay_targets,)))\n",
    "crm_rewards = np.ones((10, len(replay_targets,)))\n",
    "\n",
    "for i in range(n_splits):\n",
    "    print(i, end='')\n",
    "    np.random.seed(i*42)\n",
    "    current_replay = 0\n",
    "    crm_model = Model.null_model(X_test.shape[1], y_test.shape[1])\n",
    "    crm_dataset = CRMDataset()\n",
    "    for j, replay_target in enumerate(replay_targets):\n",
    "        print('.', end=' ')\n",
    "        evaluate_model(crm_model, crm_losses, crm_rewards, i, j)\n",
    "        # CRM is playing with pi0\n",
    "        test_sampling_probas = np.array([_[:,1] for _ in pi0.predict_proba(X_test)]).T\n",
    "        test_dataset = CRMDataset().update_from_supervised_dataset(X_test, y_test, test_sampling_probas, n_samples=4)\n",
    "        crm_rewards[i,j] = test_dataset.rewards.sum() / (len(test_dataset)*test_dataset.actions.shape[1])\n",
    "        needed_replays = replay_target - current_replay\n",
    "        current_replay = replay_target\n",
    "        crm_dataset.update_from_supervised_dataset(X_train, y_train, sampling_probas, n_samples=needed_replays)\n",
    "        crm_model.fit(\n",
    "            crm_dataset, \n",
    "            lambda_ = .5,\n",
    "            verbose = 0\n",
    "        )            \n",
    "\n",
    "crm_losses = crm_losses.mean(axis=0)\n",
    "crm_rewards = crm_rewards.mean(axis=0)"
   ]
  },
  {
   "cell_type": "code",
   "execution_count": 40,
   "id": "1edd4144-195c-43d5-9211-d586bfbbec7a",
   "metadata": {},
   "outputs": [],
   "source": [
    "# ucrm_losses = np.ones((10, len(replay_targets,)))\n",
    "# ucrm_rewards = np.ones((10, len(replay_targets,)))\n",
    "\n",
    "# for i in range(n_splits):\n",
    "#     print(i, end='')\n",
    "#     np.random.seed(i*42)\n",
    "#     current_replay = 0\n",
    "#     ucrm_model = Model.null_model(X_test.shape[1], y_test.shape[1])\n",
    "#     ucrm_dataset = CRMDataset()\n",
    "#     for j, replay_target in enumerate(replay_targets):\n",
    "#         print('.', end=' ')\n",
    "#         evaluate_model(ucrm_model, ucrm_losses, ucrm_rewards, i, j)\n",
    "#         needed_replays = replay_target - current_replay\n",
    "#         current_replay = replay_target\n",
    "#         ucrm_dataset.update_from_supervised_dataset(X_train, y_train, .5*np.ones_like(sampling_probas), n_samples=needed_replays)\n",
    "#         ucrm_model.fit(\n",
    "#             ucrm_dataset, \n",
    "#             lambda_ = .5,\n",
    "#             verbose = 0\n",
    "#         )\n",
    "        \n",
    "# ucrm_losses = ucrm_losses.mean(axis=0)\n",
    "# ucrm_rewards = ucrm_rewards.mean(axis=0)"
   ]
  },
  {
   "cell_type": "code",
   "execution_count": 81,
   "id": "942451b9-a49a-4ff7-a1ff-2b92616ca509",
   "metadata": {},
   "outputs": [
    {
     "name": "stdout",
     "output_type": "stream",
     "text": [
      "0. . . . . . . . 1. . . . . . . . 2. . . . . . . . 3. . . . . . . . 4. . . . . . . . 5. . . . . . . . 6. . . . . . . . 7. . . . . . . . 8. . . . . . . . 9. . . . . . . . "
     ]
    }
   ],
   "source": [
    "scrm_losses = np.ones((10, len(replay_targets,)))\n",
    "scrm_rewards = np.ones((10, len(replay_targets,)))\n",
    "\n",
    "for i in range(n_splits):\n",
    "    print(i, end='')\n",
    "    np.random.seed(i*42)\n",
    "    current_replay = 0\n",
    "    scrm_model = Model.null_model(X_test.shape[1], y_test.shape[1])\n",
    "    scrm_dataset = CRMDataset()\n",
    "    for j, replay_target in enumerate(replay_targets):\n",
    "        print('.', end=' ')\n",
    "        evaluate_model(scrm_model, scrm_losses, scrm_rewards, i, j)\n",
    "        needed_replays = replay_target - current_replay\n",
    "        current_replay = replay_target\n",
    "        scrm_sampling_probas = scrm_model.predict_proba(X_train, y_train)\n",
    "        scrm_dataset.update_from_supervised_dataset(X_train, y_train, scrm_sampling_probas, n_samples=needed_replays)\n",
    "        scrm_model.fit(\n",
    "            scrm_dataset, \n",
    "            lambda_ = scrm_model.theoretical_exploration_bonus(len(scrm_dataset), replay_target * len(X_train)),\n",
    "            verbose = 0\n",
    "        )\n",
    "\n",
    "scrm_losses = scrm_losses.mean(axis=0)\n",
    "scrm_rewards = scrm_rewards.mean(axis=0)"
   ]
  },
  {
   "cell_type": "code",
   "execution_count": 42,
   "id": "ecadb9a4-d2f7-4d03-bcbe-a5ad8d9b99cb",
   "metadata": {},
   "outputs": [],
   "source": [
    "# mscrm_losses = np.ones((10, len(replay_targets,)))\n",
    "# mscrm_rewards = np.ones((10, len(replay_targets,)))\n",
    "\n",
    "# for i in range(n_splits):\n",
    "#     print(i, end='')\n",
    "#     np.random.seed(i*42)\n",
    "#     current_replay = 0\n",
    "#     mscrm_model = Model.null_model(X_test.shape[1], y_test.shape[1])\n",
    "#     for j, replay_target in enumerate(replay_targets):\n",
    "#         print('.', end=' ')\n",
    "#         evaluate_model(mscrm_model, mscrm_losses, mscrm_rewards, i, j)\n",
    "#         needed_replays = replay_target - current_replay\n",
    "#         current_replay = replay_target\n",
    "#         mscrm_sampling_probas = mscrm_model.predict_proba(X_train, y_train)\n",
    "#         mscrm_dataset = CRMDataset()\n",
    "#         mscrm_dataset.update_from_supervised_dataset(X_train, y_train, mscrm_sampling_probas, n_samples=needed_replays)\n",
    "#         mscrm_model.fit(\n",
    "#             mscrm_dataset, \n",
    "#             lambda_ = .5,\n",
    "#             verbose = 0\n",
    "#         )\n",
    "\n",
    "# mscrm_losses = mscrm_losses.mean(axis=0)\n",
    "# mscrm_rewards = mscrm_rewards.mean(axis=0)"
   ]
  },
  {
   "cell_type": "code",
   "execution_count": 43,
   "id": "9629e7cc-661a-4723-9fa1-49b0dd4c6455",
   "metadata": {},
   "outputs": [],
   "source": [
    "baseline_reward = CRMDataset().update_from_supervised_dataset(\n",
    "    X_test, y_test, \n",
    "    np.array([_[:,1] for _ in pi0.predict_proba(X_test)]).T, n_samples=4\n",
    ").rewards.sum() / (len(X_test)*y_test.shape[1]*4)\n",
    "baseline_rewards = baseline_reward * np.ones_like(crm_rewards)\n",
    "\n",
    "skyline_reward = CRMDataset().update_from_supervised_dataset(\n",
    "    X_test, y_test, \n",
    "    np.array([_[:,1] for _ in pistar.predict_proba(X_test)]).T, n_samples=4\n",
    ").rewards.sum() / (len(X_test)*y_test.shape[1]*4)\n",
    "skyline_rewards = skyline_reward * np.ones_like(crm_rewards)"
   ]
  },
  {
   "cell_type": "code",
   "execution_count": 82,
   "id": "87e327db-a2df-4101-811a-c16677cc53c2",
   "metadata": {},
   "outputs": [
    {
     "data": {
      "text/plain": [
       "(array([0.52766529, 0.52824675, 0.52701889, 0.52634888, 0.52798701,\n",
       "        0.52664404, 0.52716057, 0.52729044]),\n",
       " array([0.5272137, 0.5272137, 0.5272137, 0.5272137, 0.5272137, 0.5272137,\n",
       "        0.5272137, 0.5272137]))"
      ]
     },
     "execution_count": 82,
     "metadata": {},
     "output_type": "execute_result"
    }
   ],
   "source": [
    "crm_rewards, baseline_rewards"
   ]
  },
  {
   "cell_type": "code",
   "execution_count": 89,
   "id": "f8ac60f2-9ff1-4891-aacd-70b503b13d6d",
   "metadata": {},
   "outputs": [
    {
     "data": {
      "text/plain": [
       "<matplotlib.legend.Legend at 0x7fdd0a5d5fd0>"
      ]
     },
     "execution_count": 89,
     "metadata": {},
     "output_type": "execute_result"
    },
    {
     "data": {
      "image/png": "[encoded data removed]",
      "text/plain": [
       "<Figure size 1152x288 with 2 Axes>"
      ]
     },
     "metadata": {
      "needs_background": "light"
     },
     "output_type": "display_data"
    }
   ],
   "source": [
    "fig, (ax1, ax2) = plt.subplots(ncols=2, constrained_layout=True, figsize=(16,4))\n",
    "ax1.set_title('Loss Evolution over Replays - %s Dataset' % dataset_name)\n",
    "ax1.set_xlabel('Replays')\n",
    "ax1.set_xscale('log', base=2)\n",
    "ax1.plot(replay_targets, .473*np.ones_like(replay_targets), '--', label='Baseline')\n",
    "# ax.plot(replay_targets, ucrm_losses, 'o-', label='POEM Unif.')\n",
    "ax1.plot(replay_targets, crm_losses, 'o-', label='POEM')\n",
    "ax1.plot(replay_targets, scrm_losses, 'o-', label='S-CRM')\n",
    "# ax.plot(replay_targets, mscrm_losses, 'o-', label='MS-CRM')\n",
    "#ax.plot(replay_targets, .295*np.ones_like(replay_targets), '--', label='Skyline (LR)')\n",
    "ax1.plot(replay_targets, .220*np.ones_like(replay_targets), '--', label='Skyline (NN)')\n",
    "ax1.set_ylabel('Expected Hamming Loss')\n",
    "ax1.legend(loc=(1.1, .1))\n",
    "\n",
    "ax2.set_title('Cumulated Regret  over Replays - %s Dataset' % dataset_name)\n",
    "ax2.set_xlabel('Replays')\n",
    "ax2.set_xscale('log', base=2)\n",
    "ax2.plot(replay_targets, np.cumsum(skyline_rewards) - np.cumsum(baseline_rewards), '--', label='Baseline')\n",
    "ax2.plot(replay_targets, np.cumsum(skyline_rewards) - np.cumsum(crm_rewards), 'o-', label='POEM - $\\pi_0$')\n",
    "ax2.plot(replay_targets, np.cumsum(skyline_rewards) - np.cumsum(scrm_rewards), 'o-', label='S-CRM')\n",
    "ax2.set_ylabel('Cumulated Regret')\n",
    "ax2.legend(loc=(1.1, .1))"
   ]
  }
 ],
 "metadata": {
  "kernelspec": {
   "display_name": "Python 3 (ipykernel)",
   "language": "python",
   "name": "python3"
  },
  "language_info": {
   "codemirror_mode": {
    "name": "ipython",
    "version": 3
   },
   "file_extension": ".py",
   "mimetype": "text/x-python",
   "name": "python",
   "nbconvert_exporter": "python",
   "pygments_lexer": "ipython3",
   "version": "3.9.12"
  }
 },
 "nbformat": 4,
 "nbformat_minor": 5
}
